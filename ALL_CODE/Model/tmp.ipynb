{
 "cells": [
  {
   "cell_type": "code",
   "execution_count": 9,
   "metadata": {},
   "outputs": [],
   "source": [
    "import rasterio\n",
    "import numpy as np\n",
    "import geopandas as gpd\n",
    "import rasterio.features\n",
    "\n",
    "fp_T9 = r\"/home/geoai/geoai_data_test2/NPARK_DATA/data_projects/Green Cover Npark Singapore/results (copy)/forest/T9-2022.tif\"\n",
    "fp_T10 = r\"/home/geoai/geoai_data_test2/NPARK_DATA/data_projects/Green Cover Npark Singapore/results/forest/T10-2022.tif\"\n",
    "shp_giu = r\"/home/skm/SKM16/Tmp/T10.shp\"\n",
    "fp_out_T10 = r\"/home/geoai/geoai_data_test2/NPARK_DATA/data_projects/Green Cover Npark Singapore/results/forest/T10-2022_out.tif\""
   ]
  },
  {
   "cell_type": "code",
   "execution_count": 10,
   "metadata": {},
   "outputs": [
    {
     "name": "stdout",
     "output_type": "stream",
     "text": [
      "(1, 3452, 5377)\n"
     ]
    }
   ],
   "source": [
    "with rasterio.open(fp_T10) as src:\n",
    "        meta = src.meta\n",
    "        height, width = src.height, src.width\n",
    "        tr = src.transform\n",
    "        crs_img = src.crs\n",
    "        maskT10 = src.read()\n",
    "\n",
    "with rasterio.open(fp_T9) as src:\n",
    "        maskT9 = src.read()\n",
    "\n",
    "df = gpd.read_file(shp_giu)\n",
    "if df.crs.to_string() != crs_img.to_string():\n",
    "    df = df.to_crs(epsg=str(crs_img.to_epsg()))\n",
    "shapes = df['geometry']\n",
    "mask_shp = rasterio.features.rasterize(shapes, out_shape=(height, width), transform=tr)\n",
    "mask_shp = np.array([mask_shp])\n",
    "print(maskT9.shape)\n",
    "maskT9 = maskT9*mask_shp\n",
    "idx_add = np.where(maskT9 != 0)\n",
    "maskT10[idx_add] = 1\n",
    "with rasterio.open(fp_out_T10,'w', **meta) as dst:\n",
    "    dst.write(maskT10)"
   ]
  },
  {
   "cell_type": "code",
   "execution_count": null,
   "metadata": {},
   "outputs": [],
   "source": []
  }
 ],
 "metadata": {
  "kernelspec": {
   "display_name": "Python 3.7.0 ('geoai')",
   "language": "python",
   "name": "python3"
  },
  "language_info": {
   "codemirror_mode": {
    "name": "ipython",
    "version": 3
   },
   "file_extension": ".py",
   "mimetype": "text/x-python",
   "name": "python",
   "nbconvert_exporter": "python",
   "pygments_lexer": "ipython3",
   "version": "3.7.0"
  },
  "orig_nbformat": 4,
  "vscode": {
   "interpreter": {
    "hash": "1bff4993b5c6f9c50422f70b2dd5a13ec694dfd7dde205c6b1afc92728df224a"
   }
  }
 },
 "nbformat": 4,
 "nbformat_minor": 2
}
