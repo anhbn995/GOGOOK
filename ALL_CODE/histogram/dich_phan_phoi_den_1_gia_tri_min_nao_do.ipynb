{
 "cells": [
  {
   "cell_type": "code",
   "execution_count": 1,
   "metadata": {},
   "outputs": [
    {
     "ename": "",
     "evalue": "",
     "output_type": "error",
     "traceback": [
      "\u001b[1;31mThe Kernel crashed while executing code in the the current cell or a previous cell. Please review the code in the cell(s) to identify a possible cause of the failure. Click <a href='https://aka.ms/vscodeJupyterKernelCrash'>here</a> for more info. View Jupyter <a href='command:jupyter.viewOutput'>log</a> for further details."
     ]
    },
    {
     "ename": "",
     "evalue": "",
     "output_type": "error",
     "traceback": [
      "\u001b[1;31mCanceled future for execute_request message before replies were done"
     ]
    }
   ],
   "source": [
    "import rasterio\n",
    "import numpy as np\n",
    "\n",
    "numband = 3\n",
    "value_min_can_dich = 50\n",
    "fp = r\"/home/skm/SKM16/Work/OpenLand/all_tif_sap_xep/from130_255/20220810_073235_ssc1_u0001_visual.tif\"\n",
    "out_fp = r\"/home/skm/SKM16/Work/OpenLand/all_tif_sap_xep/from130_255/out_fp/20220810_073235_ssc1_u0001_visual.tif\"\n",
    "\n",
    "with rasterio.open(fp) as src:\n",
    "    meta = src.meta\n",
    "    mask = src.read_masks()\n",
    "    img = src.read()\n",
    "\n",
    "img[img==0] = 255\n",
    "for i in range(numband):\n",
    "    min = np.nanpercentile(img[i], 2)\n",
    "    value_dich = min - value_min_can_dich\n",
    "    img[i] = img[i] - int(value_dich)\n",
    "index_nodata = np.where(mask==0)\n",
    "del mask\n",
    "print('done')\n",
    "img[index_nodata] = 0\n",
    "with rasterio.open(out_fp,'w',**meta) as dst:\n",
    "    dst.write(img)\n",
    "print('done')"
   ]
  }
 ],
 "metadata": {
  "kernelspec": {
   "display_name": "Python 3.7.0 ('geoai')",
   "language": "python",
   "name": "python3"
  },
  "language_info": {
   "codemirror_mode": {
    "name": "ipython",
    "version": 3
   },
   "file_extension": ".py",
   "mimetype": "text/x-python",
   "name": "python",
   "nbconvert_exporter": "python",
   "pygments_lexer": "ipython3",
   "version": "3.7.0"
  },
  "orig_nbformat": 4,
  "vscode": {
   "interpreter": {
    "hash": "1bff4993b5c6f9c50422f70b2dd5a13ec694dfd7dde205c6b1afc92728df224a"
   }
  }
 },
 "nbformat": 4,
 "nbformat_minor": 2
}
