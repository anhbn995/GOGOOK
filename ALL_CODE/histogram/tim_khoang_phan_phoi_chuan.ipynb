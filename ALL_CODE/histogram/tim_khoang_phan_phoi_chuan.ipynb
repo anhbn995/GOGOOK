{
 "cells": [
  {
   "cell_type": "code",
   "execution_count": 3,
   "metadata": {},
   "outputs": [],
   "source": [
    "import cv2\n",
    "import shutil\n",
    "import glob,os\n",
    "import rasterio\n",
    "import numpy as np\n",
    "from matplotlib import pyplot as plt\n",
    "# from tqdm.notebook import tqdm_notebook\n",
    "from tqdm.notebook import tqdm\n",
    "\n",
    "def filter_values(values, v_min, v_max):\n",
    "    # Flatten the array to a single 1D vector\n",
    "    # See https://numpy.org/doc/stable/reference/generated/numpy.ndarray.flatten.html\n",
    "    flat = np.asanyarray(values).flatten()\n",
    "\n",
    "    # Now index the values using \"boolean indexing\"\n",
    "    # See https://numpy.org/devdocs/reference/arrays.indexing.html#boolean-array-indexing\n",
    "    return flat[np.logical_and(flat > v_min,\n",
    "                               flat < v_max)]\n",
    "\n",
    "def percentile(fp):\n",
    "    with rasterio.open(fp) as src:\n",
    "        band = src.read([2])\n",
    "        # chay percentile\n",
    "\n",
    "    min = np.nanpercentile(band, 3)\n",
    "    max = np.nanpercentile(band, 98)\n",
    "\n",
    "    band[band < min] = 0\n",
    "    band[band > max] = 255\n",
    "    img= band.transpose(2,0,1)\n",
    "    # plt.hist(img.ravel(),256,[0,256])\n",
    "    # plt.show()\n",
    "    return img\n",
    "\n",
    "def draw_histogram(img):\n",
    "    plt.hist(img.ravel(),256,[0,256])\n",
    "    plt.show()\n",
    "\n",
    "def check_value_in_range(value_, range_):\n",
    "    for id,_ in enumerate(range_[:-1]):\n",
    "        if range_[id] < value_ < range_[id + 1]:\n",
    "            return range_[id], range_[id + 1]\n",
    "\n",
    "def fp_dest(out_dir_class, idx = None, idx_1 = None, ngoai = False):\n",
    "    if ngoai:\n",
    "        return os.path.join(out_dir_class,'ngoai')\n",
    "    else:\n",
    "        return os.path.join(out_dir_class,f'from{str(idx)}_{str(idx_1)}')"
   ]
  },
  {
   "cell_type": "code",
   "execution_count": 4,
   "metadata": {},
   "outputs": [],
   "source": [
    "fp_img_origin = r\"/home/skm/SKM16/Work/OpenLand/all_tif/20220814_103841_ssc10_u0002_visual.tif\"\n",
    "\n",
    "with rasterio.open(fp_img_origin) as src:\n",
    "    img = src.read()\n",
    "    # stand = np.std(img)\n",
    "# mean = np.mean(img)\n",
    "# stand = np.std(img)"
   ]
  },
  {
   "cell_type": "code",
   "execution_count": 7,
   "metadata": {},
   "outputs": [
    {
     "data": {
      "text/plain": [
       "71.42088144519911"
      ]
     },
     "execution_count": 7,
     "metadata": {},
     "output_type": "execute_result"
    }
   ],
   "source": [
    "mean = np.mean(img[2])\n",
    "mean"
   ]
  },
  {
   "cell_type": "code",
   "execution_count": 5,
   "metadata": {},
   "outputs": [
    {
     "data": {
      "text/plain": [
       "135.0"
      ]
     },
     "execution_count": 5,
     "metadata": {},
     "output_type": "execute_result"
    }
   ],
   "source": [
    "img_ = filter_values(img[2], 0, 255)\n",
    "mean = np.mean(img_[2])\n",
    "mean"
   ]
  },
  {
   "cell_type": "code",
   "execution_count": 10,
   "metadata": {},
   "outputs": [
    {
     "data": {
      "text/plain": [
       "135.0"
      ]
     },
     "execution_count": 10,
     "metadata": {},
     "output_type": "execute_result"
    }
   ],
   "source": [
    "img_ = filter_values(img[2], 132, 142)\n",
    "mean = np.mean(img_[2])\n",
    "mean"
   ]
  },
  {
   "cell_type": "code",
   "execution_count": 8,
   "metadata": {},
   "outputs": [
    {
     "data": {
      "text/plain": [
       "78.33922955280309"
      ]
     },
     "execution_count": 8,
     "metadata": {},
     "output_type": "execute_result"
    }
   ],
   "source": [
    "stand = np.std(img[2])\n",
    "stand"
   ]
  },
  {
   "cell_type": "code",
   "execution_count": 2,
   "metadata": {},
   "outputs": [
    {
     "data": {
      "image/png": "[encoded data removed]",
      "text/plain": [
       "<Figure size 432x288 with 1 Axes>"
      ]
     },
     "metadata": {
      "needs_background": "light"
     },
     "output_type": "display_data"
    }
   ],
   "source": [
    "\n",
    "fp_img_origin = r\"/home/skm/SKM16/Work/OpenLand/3_dichHistogram/Training_BuildUP/Img_original/20220814_103841_ssc10_u0002_visual.tif\"\n",
    "\n",
    "with rasterio.open(fp_img_origin) as src:\n",
    "    img = src.read()\n",
    "draw_histogram(img)\n",
    "\n",
    "\n",
    "\n",
    "# dir_img = r\"/home/skm/SKM16/Work/OpenLand/all_tif\"\n",
    "# list_tif = glob.glob(os.path.join(dir_img,'*.tif'))\n",
    "# out_dir_class = dir_img + \"_sap_xep\"\n",
    "# os.makedirs(out_dir_class, exist_ok=True)\n",
    "# os.makedirs(fp_dest(out_dir_class, ngoai = True), exist_ok=True)\n",
    "\n",
    "\n",
    "# range_histogram = [0,90,130,255]\n",
    "# for id, _ in enumerate(range_histogram[:-1]):\n",
    "#     os.makedirs(fp_dest(out_dir_class, range_histogram[id], range_histogram[id+1]), exist_ok=True)\n",
    "\n",
    "# # , desc='Wating ... :'\n",
    "# for fp in tqdm(list_tif, desc='Wating ... '):\n",
    "\n",
    "#     img = percentile(fp)\n",
    "#     filtered_hue = filter_values(img, v_min=0, v_max=255)\n",
    "#     mean = np.mean(filtered_hue)\n",
    "#     stand = np.std(filtered_hue)\n",
    "#     idx, idx_1 = check_value_in_range(mean, range_histogram)\n",
    "#     if stand >  35:\n",
    "#         dir_dest = fp_dest(out_dir_class, ngoai = True)\n",
    "#     else:\n",
    "#         dir_dest =fp_dest(out_dir_class, idx, idx_1)\n",
    "#     shutil.copy2(fp, dir_dest)\n",
    "#     print(dir_dest)\n",
    "    "
   ]
  },
  {
   "cell_type": "code",
   "execution_count": null,
   "metadata": {},
   "outputs": [],
   "source": []
  }
 ],
 "metadata": {
  "kernelspec": {
   "display_name": "Python 3.7.0 ('geoai')",
   "language": "python",
   "name": "python3"
  },
  "language_info": {
   "codemirror_mode": {
    "name": "ipython",
    "version": 3
   },
   "file_extension": ".py",
   "mimetype": "text/x-python",
   "name": "python",
   "nbconvert_exporter": "python",
   "pygments_lexer": "ipython3",
   "version": "3.7.0"
  },
  "orig_nbformat": 4,
  "vscode": {
   "interpreter": {
    "hash": "1bff4993b5c6f9c50422f70b2dd5a13ec694dfd7dde205c6b1afc92728df224a"
   }
  }
 },
 "nbformat": 4,
 "nbformat_minor": 2
}
