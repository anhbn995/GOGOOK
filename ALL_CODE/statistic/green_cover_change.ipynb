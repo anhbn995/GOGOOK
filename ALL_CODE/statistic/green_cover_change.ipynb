{
 "cells": [
  {
   "cell_type": "code",
   "execution_count": 39,
   "metadata": {},
   "outputs": [],
   "source": [
    "import os, glob\n",
    "import rasterio\n",
    "import numpy as np\n",
    "\n",
    "from morphology import *\n",
    "from tqdm.notebook import tqdm\n",
    "\n",
    "def get_list_fp_or_name(folder_dir, type_file = '*.tif', name=False):\n",
    "        \"\"\"\n",
    "            Get all file path with file type is type_file.\n",
    "        \"\"\"\n",
    "        list_fp = []\n",
    "        list_name = []\n",
    "        for file_ in glob.glob(os.path.join(folder_dir, type_file)):\n",
    "            list_fp.append(file_)\n",
    "            _, tail = os.path.split(file_)\n",
    "            list_name.append(tail)\n",
    "        if name:\n",
    "            return list_name\n",
    "        else:\n",
    "            return list_fp\n",
    "\n",
    "\n",
    "def export_green_cover_change(fp_mask_truoc, fp_mask_sau, value_green, out_fp_green_cover_change, export_tif=True):\n",
    "    \"\"\"\n",
    "        Input:\n",
    "                fp_mask_truoc = r\"\"\n",
    "                fp_mask_sau = r\"\"\n",
    "                value_green = 2\n",
    "                out_fp_green_cover_change = r\"\"\n",
    "        Output: \n",
    "                La mask vs\n",
    "                    1: la green to non-green\n",
    "                    2: la non-green to green \n",
    "    \"\"\"\n",
    "\n",
    "    with rasterio.open(fp_mask_truoc) as src:\n",
    "        mask_truoc = src.read()\n",
    "        meta = src.meta\n",
    "    with rasterio.open(fp_mask_sau) as src:\n",
    "        mask_sau = src.read()\n",
    "\n",
    "    # chuan hoa lai du lieu\n",
    "    mask_truoc[mask_truoc != value_green] = 0\n",
    "    mask_sau[mask_sau != value_green] = 0\n",
    "    mask_truoc = mask_truoc.astype('int64')\n",
    "    mask_sau = mask_sau.astype('int64')\n",
    "\n",
    "    # hieu 2 mask\n",
    "    mask_change = mask_truoc - mask_sau\n",
    "    print(np.unique(mask_change),\"^^\")\n",
    "\n",
    "    # green to non_green: la gia tri value\n",
    "    mask_change[mask_change == value_green] = 1\n",
    "    # non_green to green: la gia tri am\n",
    "    mask_change[mask_change < 0] = 2\n",
    "\n",
    "    mask_change = mask_change.astype('uint8')\n",
    "    print(np.unique(mask_change),\"^-^\")\n",
    "    if export_tif:\n",
    "        with rasterio.open(out_fp_green_cover_change, 'w', **meta) as dst:\n",
    "            dst.write(mask_change)\n",
    "    \n",
    "    return mask_change"
   ]
  },
  {
   "cell_type": "code",
   "execution_count": 40,
   "metadata": {},
   "outputs": [],
   "source": [
    "def green_cover_change_all(input_truoc, input_sau, value_green, output_greencover_change, export_tif=True):\n",
    "    \"\"\"\n",
    "        Chay green cover change\n",
    "            INPUT: Co the la file hoac dir\n",
    "            OUTPUT: Co the la file hoac dir\n",
    "    \"\"\"\n",
    "    if os.path.isfile(input_truoc) and os.path.isfile(input_sau):\n",
    "        if output_greencover_change[-4:] == '.tif':\n",
    "            os.makedirs(os.path.dirname(output_greencover_change), exist_ok=True)\n",
    "            mask_change = export_green_cover_change(input_truoc, input_sau, value_green, output_greencover_change, export_tif)\n",
    "            return mask_change\n",
    "        else:\n",
    "            print('Output phai la file \".tif\"')\n",
    "    elif os.path.isdir(input_truoc) and os.path.isdir(input_sau):\n",
    "        if output_greencover_change[-4:] == '.tif':\n",
    "            print('Output phai la direction chu k phai la \".tif\"')\n",
    "        else:\n",
    "            list_name = get_list_fp_or_name(input_truoc, name=True)\n",
    "            os.makedirs(output_greencover_change, exist_ok=True)\n",
    "            for fname in tqdm(list_name):\n",
    "                fp_truoc = os.path.join(input_truoc, fname)\n",
    "                fp_sau = os.path.join(input_sau, fname)\n",
    "                fp_out_change = os.path.join(output_greencover_change, fname)\n",
    "                export_green_cover_change(fp_truoc, fp_sau, value_green, fp_out_change, export_tif)\n",
    "    else:\n",
    "        print('dau vao co van de r')\n",
    "    "
   ]
  },
  {
   "cell_type": "code",
   "execution_count": 60,
   "metadata": {},
   "outputs": [
    {
     "name": "stdout",
     "output_type": "stream",
     "text": [
      "[-2  0  2] ^^\n",
      "[0 1 2] ^-^\n",
      "(1, 3728, 3547)\n",
      "[0 1 2]\n"
     ]
    },
    {
     "data": {
      "application/vnd.jupyter.widget-view+json": {
       "model_id": "9b120bf232e34be4914e6738a44995f4",
       "version_major": 2,
       "version_minor": 0
      },
      "text/plain": [
       "Run contour:   0%|          | 0/40564 [00:00<?, ?it/s]"
      ]
     },
     "metadata": {},
     "output_type": "display_data"
    },
    {
     "name": "stdout",
     "output_type": "stream",
     "text": [
      "[0 1 2]\n",
      "[0 1]\n",
      "[0 1 2]\n",
      "Done\n"
     ]
    }
   ],
   "source": [
    "input_truoc = r\"/home/skm/SKM16/Tmp/green_cover_change/All_result/Classification/2019-AOI1_fn_final.tif\"\n",
    "input_sau = r\"/home/skm/SKM16/Tmp/green_cover_change/All_result/Classification/2022-AOI1_fn_final.tif\"\n",
    "value_green = 2\n",
    "remove_area = 1\n",
    "output_greencover_change = f\"/home/skm/SKM16/Tmp/green_cover_change/All_result/Greencover_Change/Change_RM_{remove_area}.tif\"\n",
    "mask_change = export_green_cover_change(input_truoc, input_sau, value_green, output_greencover_change, export_tif=False)\n",
    "print(mask_change.shape)\n",
    "print(np.unique(mask_change))\n",
    "# remove area\n",
    "mask_rm_small = mask_change.copy()[0]\n",
    "mask_rm_small[mask_rm_small!=0]=255\n",
    "mask_rm_small = remove_area_small(mask=mask_rm_small, area_maximum=remove_area, value_draw=0)\n",
    "mask_rm_small[mask_rm_small!=0]=1\n",
    "mask_rm_small = np.array([mask_rm_small])\n",
    "print(np.unique(mask_change))\n",
    "mask_change = mask_change*mask_rm_small\n",
    "print(np.unique(mask_rm_small))\n",
    "print(np.unique(mask_change))\n",
    "with rasterio.open(input_truoc) as src:\n",
    "        meta = src.meta\n",
    "with rasterio.open(output_greencover_change, 'w', **meta) as dst:\n",
    "    dst.write(mask_change)\n",
    "    dst.write_colormap(1, {\n",
    "                    0: (0,0,0, 0),\n",
    "                    1: (185,180,8,0), #Green to Non\n",
    "                    2: (63, 249, 128, 0), # Non to Green\n",
    "                    }) \n",
    "print('Done')"
   ]
  },
  {
   "cell_type": "markdown",
   "metadata": {},
   "source": [
    "## ADD color"
   ]
  },
  {
   "cell_type": "code",
   "execution_count": 7,
   "metadata": {},
   "outputs": [],
   "source": [
    "# dst.write_colormap(1, {\n",
    "#                 0: (0,0,0, 0),\n",
    "#                 1: (34,139,34,0), #Green \n",
    "#                 2: (100, 149, 237, 0), #water\n",
    "#                 3: (101,67,33, 0)}) #Buildup\n"
   ]
  },
  {
   "cell_type": "markdown",
   "metadata": {},
   "source": [
    "## Matching rs tuy tung bai toan"
   ]
  },
  {
   "cell_type": "code",
   "execution_count": 35,
   "metadata": {},
   "outputs": [
    {
     "name": "stdout",
     "output_type": "stream",
     "text": [
      "[1 2 3]\n"
     ]
    }
   ],
   "source": [
    "import rasterio\n",
    "import numpy as np\n",
    "from morphology import *\n",
    "\n",
    "\"\"\"nam 2019\"\"\"\n",
    "# fp_mask_green = r\"/home/skm/SKM16/Tmp/green_cover_change/2019-AOI1_fn_rs.tif\"\n",
    "# fp_mask_label_hieu = r\"/home/skm/SKM16/Tmp/green_cover_change/2019-AOI1_fn_label.tif\"\n",
    "# fp_water = r\"/home/skm/SKM16/Tmp/green_cover_change/2019-AOI1_fn_rs_water.tif\"\n",
    "# fp_can_giu = r\"/home/skm/SKM16/Tmp/green_cover_change/mask_can_giu_2019.tif\"\n",
    "rs_2019 = r\"/home/skm/SKM16/Tmp/green_cover_change/rs/2019-AOI1_fn_final.tif\"\n",
    "# with rasterio.open(fp_water) as src:\n",
    "#     mask_water_model = src.read()\n",
    "# with rasterio.open(fp_can_giu) as src:\n",
    "#     mask_can_giu = src.read()  \n",
    "#     mask_can_giu[fp_can_giu==255] = 1\n",
    "# mask_rs = mask_water_model*mask_can_giu\n",
    "# mask_rs[mask_rs!=0] = 3\n",
    "\n",
    "# with rasterio.open(fp_mask_green) as src:\n",
    "#     mask_green = src.read()\n",
    "#     meta = src.meta\n",
    "# with rasterio.open(fp_mask_label_hieu) as src:\n",
    "#     mask_water = src.read()\n",
    "\n",
    "# mask_water = mask_water[0]\n",
    "# mask_water = opening(mask_water,1)\n",
    "# mask_water = np.array([mask_water])\n",
    "\n",
    "# mask_rs[mask_green!=0] = 2\n",
    "# mask_rs[mask_water == 3] = 3\n",
    "# mask_rs[mask_rs == 0] = 1\n",
    "# print(np.unique(mask_rs))\n",
    "\n",
    "\n",
    "\"\"\"nam 2022\"\"\"\n",
    "# fp_mask_green = r\"/home/skm/SKM16/Tmp/green_cover_change/2022-AOI1_fn_rs.tif\"\n",
    "# fp_mask_label_hieu = r\"/home/skm/SKM16/Tmp/green_cover_change/2022-AOI1_fn_label.tif\"\n",
    "# fp_water = r\"/home/skm/SKM16/Tmp/green_cover_change/2022-AOI1_fn_rs_water.tif\"\n",
    "# fp_can_giu = r\"/home/skm/SKM16/Tmp/green_cover_change/mask_can_giu/2022-AOI1_fn_cangiu.tif\"\n",
    "# rs = r\"/home/skm/SKM16/Tmp/green_cover_change/rs/2022-AOI1_fn_final.tif\"\n",
    "# fp_them_cua_2019 = r\"/home/skm/SKM16/Tmp/green_cover_change/mask_can_giu/2019-AOI1_fn_final_Add_them.tif\"\n",
    "\n",
    "# with rasterio.open(rs_2019) as src:\n",
    "#     water_2019 = src.read()\n",
    "# with rasterio.open(fp_them_cua_2019) as src:\n",
    "#     mask_giu_2019 = src.read()\n",
    "#     mask_giu_2019[mask_giu_2019!=0] = 1\n",
    "\n",
    "# with rasterio.open(fp_water) as src:\n",
    "#     mask_water_model = src.read()\n",
    "# with rasterio.open(fp_can_giu) as src:\n",
    "#     mask_can_giu = src.read()  \n",
    "#     mask_can_giu[fp_can_giu==255] = 1\n",
    "# mask_rs = mask_water_model*mask_can_giu\n",
    "# mask_rs[mask_rs!=0] = 3\n",
    "\n",
    "# with rasterio.open(fp_mask_green) as src:\n",
    "#     mask_green = src.read()\n",
    "#     meta = src.meta\n",
    "# with rasterio.open(fp_mask_label_hieu) as src:\n",
    "#     mask_water = src.read()\n",
    "\n",
    "\n",
    "# mask_water = mask_water[0]\n",
    "# mask_water = opening(mask_water,1)\n",
    "# mask_water = np.array([mask_water])\n",
    "\n",
    "# mask_rs[mask_green!=0] = 2\n",
    "# mask_rs[mask_water == 3] = 3\n",
    "# mask_rs[mask_rs == 0] = 1\n",
    "# print(np.unique(mask_rs))\n",
    "# mask_add_2019 = water_2019*mask_giu_2019\n",
    "# mask_rs[mask_add_2019==3] = 3\n",
    "\n",
    "\"\"\"Chung\"\"\"\n",
    "meta.update({'nodata': 1})\n",
    "with  rasterio.open(rs,'w',**meta) as dst:\n",
    "    dst.write(mask_rs)\n",
    "    dst.write_colormap(1, {\n",
    "                    1: (0,0,0, 0),\n",
    "                    2: (34,139,34,0), #Green to Non\n",
    "                    3: (100, 149, 237, 0), # Non to Green\n",
    "                #     3: (101,67,33, 0) #Buildup\n",
    "                    }) "
   ]
  },
  {
   "cell_type": "markdown",
   "metadata": {},
   "source": [
    "## Doi mau va gia tri anh"
   ]
  },
  {
   "cell_type": "code",
   "execution_count": 38,
   "metadata": {},
   "outputs": [],
   "source": [
    "import rasterio\n",
    "fp = r\"/home/skm/SKM16/Tmp/green_cover_change/rs (copy)/2019-AOI1_fn_final.tif\"\n",
    "with rasterio.open(fp) as src:\n",
    "    mask = src.read()\n",
    "    meta = src.meta\n",
    "mask[mask==0] = 1\n",
    "\n",
    "meta.update({'nodata':0})\n",
    "with  rasterio.open(fp,'w',**meta) as dst:\n",
    "    dst.write(mask)\n",
    "    dst.write_colormap(1, {\n",
    "                    1: (228, 122, 16, 0), # BF\n",
    "                    2: (34, 139, 34, 0), #Green\n",
    "                    3: (17, 185, 219, 0), # Water\n",
    "                #     3: (101,67,33, 0) #\n",
    "                    }) "
   ]
  },
  {
   "cell_type": "code",
   "execution_count": null,
   "metadata": {},
   "outputs": [],
   "source": []
  }
 ],
 "metadata": {
  "kernelspec": {
   "display_name": "Python 3.7.0 ('geoai')",
   "language": "python",
   "name": "python3"
  },
  "language_info": {
   "codemirror_mode": {
    "name": "ipython",
    "version": 3
   },
   "file_extension": ".py",
   "mimetype": "text/x-python",
   "name": "python",
   "nbconvert_exporter": "python",
   "pygments_lexer": "ipython3",
   "version": "3.7.0"
  },
  "orig_nbformat": 4,
  "vscode": {
   "interpreter": {
    "hash": "1bff4993b5c6f9c50422f70b2dd5a13ec694dfd7dde205c6b1afc92728df224a"
   }
  }
 },
 "nbformat": 4,
 "nbformat_minor": 2
}
