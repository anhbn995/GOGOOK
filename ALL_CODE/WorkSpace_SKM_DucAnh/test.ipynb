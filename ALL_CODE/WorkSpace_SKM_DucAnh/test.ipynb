{
 "cells": [
  {
   "cell_type": "code",
   "execution_count": 32,
   "metadata": {},
   "outputs": [],
   "source": [
    "import rasterio\n",
    "import pyproj\n",
    "import os\n",
    "import math\n",
    "\n",
    "def get_utm_from_wgs(lon, lat):\n",
    "    \"\"\"\n",
    "    Use longitude, latitude of location for get EPSG code.\n",
    "\n",
    "    Parameters\n",
    "    ----------\n",
    "    lon,lat :\n",
    "        Longitude, latitude of location you want to get EPSG code\n",
    "\n",
    "    Returns\n",
    "    -------\n",
    "    EPSG code of this location\n",
    "    \"\"\"\n",
    "    utm_band = str((math.floor((lon + 180) / 6) % 60) + 1)\n",
    "    if len(utm_band) == 1:\n",
    "        utm_band = '0' + utm_band\n",
    "    if lat >= 0:\n",
    "        epsg_code1 = '326' + utm_band\n",
    "    else:\n",
    "        epsg_code1 = '327' + utm_band\n",
    "    return epsg_code1\n",
    "\n",
    "def get_bound_image(image_path):\n",
    "    \"\"\"\n",
    "    Get image information from path.\n",
    "\n",
    "    Parameters\n",
    "    ----------\n",
    "    image_path : string\n",
    "        Path to image file - GeoTiff\n",
    "\n",
    "    Returns\n",
    "    -------\n",
    "    long_min: min Longitude image\n",
    "    lat_min: min Latitude image\n",
    "    long_max: max Longitude image\n",
    "    lat_max: max Latitude image\n",
    "    transform: Affine instance\n",
    "        Transform of image.\n",
    "    \"\"\"\n",
    "    with rasterio.open(image_path, mode='r+') as src:\n",
    "        transform = src.transform\n",
    "        print(src.width, src.height)\n",
    "        w, h = src.width, src.height\n",
    "        projstr = src.crs.to_string()\n",
    "        check_epsg = src.crs.is_epsg_code\n",
    "        if check_epsg:\n",
    "            epsg_code = src.crs.to_epsg()\n",
    "        else:\n",
    "            epsg_code = None\n",
    "    X_res = transform[0]\n",
    "    Y_res = transform[4]\n",
    "    trans_X_min, trans_Y_min = transform[2], transform[5]\n",
    "    trans_X_max, trans_Y_max = trans_X_min + X_res * w, trans_Y_min + Y_res * h\n",
    "    if epsg_code:\n",
    "        if epsg_code == 4326:\n",
    "            long_min, lat_min, long_max, lat_max = trans_X_min, trans_Y_min, trans_X_max, trans_Y_max\n",
    "        else:\n",
    "            inproj = pyproj.Proj(init='epsg:{}'.format(epsg_code))\n",
    "            outproj = pyproj.Proj(init='epsg:{}'.format(4326))\n",
    "            long_min, lat_min = pyproj.transform(inproj, outproj, trans_X_min, trans_Y_min)\n",
    "            long_max, lat_max = pyproj.transform(inproj, outproj, trans_X_max, trans_Y_max)\n",
    "    else:\n",
    "        inproj = pyproj.Proj(projstr)\n",
    "        outproj = pyproj.Proj(init='epsg:{}'.format(4326))\n",
    "        long_min, lat_min = pyproj.transform(inproj, outproj, trans_X_min, trans_Y_min)\n",
    "        long_max, lat_max = pyproj.transform(inproj, outproj, trans_X_max, trans_Y_max)\n",
    "    return long_min, lat_min, long_max, lat_max, transform, w, h\n",
    "\n",
    "\n",
    "def gis_data_latlong_to_utm(long_min, lat_min, long_max, lat_max):\n",
    "    output_epsg = get_utm_from_wgs(long_min, lat_min)\n",
    "    inproj = pyproj.Proj(init='epsg:{}'.format(4326))\n",
    "    outproj = pyproj.Proj(init='epsg:{}'.format(output_epsg))\n",
    "    trans_X_min_out, trans_Y_min_out = pyproj.transform(inproj, outproj, long_min, lat_min)\n",
    "    trans_X_max_out, trans_Y_max_out = pyproj.transform(inproj, outproj, long_max, lat_max)\n",
    "    return trans_X_min_out, trans_Y_min_out, trans_X_max_out, trans_Y_max_out, output_epsg\n",
    "\n",
    "def get_resolution_meter(image_path):\n",
    "    long_min, lat_min, long_max, lat_max, transform, w, h = get_bound_image(image_path)\n",
    "    trans_X_min_out, trans_Y_min_out, trans_X_max_out, trans_Y_max_out, output_epsg = gis_data_latlong_to_utm(long_min, lat_min, long_max, lat_max)\n",
    "    x_meter = abs(trans_X_min_out - trans_X_max_out)/w\n",
    "    y_meter = abs(trans_Y_min_out - trans_Y_max_out)/h\n",
    "    return (math.sqrt(x_meter**2 + y_meter**2)/(math.sqrt(2)))\n",
    "\n",
    "\n",
    "\n",
    "# fp_aoi = r'E:\\TMP_XOA\\mongkos_2\\box.shp'\n",
    "# fp_img = r'E:\\TMP_XOA\\mongkos\\mongkos part 3_transparent_mosaic_group1.tif'\n",
    "# out_dir_img_cut = r'E:\\TMP_XOA\\mongkos_std\\img_cut'\n",
    "# # clip_aoi_image(fp_img, fp_aoi, out_dir_img_cut)\n",
    "# resolution = get_resolution_meter(fp_img)\n",
    "\n",
    "    \n",
    "    \n",
    "    \n",
    "\n",
    "    \n",
    "# image_dir = r'E:\\TMP_XOA\\mongkos\\mongkos part 3_transparent_mosaic_group1.tif'\n",
    "# label_dir = r'E:\\TMP_XOA\\mongkos_2\\label.shp'\n",
    "# box_dir = r'E:\\TMP_XOA\\mongkos_2\\box.shp'\n",
    "# out_dir = r'E:\\TMP_XOA\\mongkos_std'\n",
    "# standardized_shape_epsg(label_dir, image_dir, out_dir)"
   ]
  },
  {
   "cell_type": "code",
   "execution_count": 43,
   "metadata": {},
   "outputs": [
    {
     "name": "stdout",
     "output_type": "stream",
     "text": [
      "['mongkos part 3_transparent_mosaic_group1_0']\n",
      "2798 1856\n"
     ]
    },
    {
     "name": "stderr",
     "output_type": "stream",
     "text": [
      "c:\\Users\\SkyMap\\anaconda3\\envs\\geoai\\lib\\site-packages\\pyproj\\crs\\crs.py:53: FutureWarning: '+init=<authority>:<code>' syntax is deprecated. '<authority>:<code>' is the preferred initialization method. When making the change, be mindful of axis order changes: https://pyproj4.github.io/pyproj/stable/gotchas.html#axis-order-changes-in-proj-6\n",
      "  return _prepare_from_string(\" \".join(pjargs))\n",
      "c:\\Users\\SkyMap\\anaconda3\\envs\\geoai\\lib\\site-packages\\pyproj\\crs\\crs.py:294: FutureWarning: '+init=<authority>:<code>' syntax is deprecated. '<authority>:<code>' is the preferred initialization method. When making the change, be mindful of axis order changes: https://pyproj4.github.io/pyproj/stable/gotchas.html#axis-order-changes-in-proj-6\n",
      "  projstring = _prepare_from_string(\" \".join((projstring, projkwargs)))\n",
      "c:\\Users\\SkyMap\\anaconda3\\envs\\geoai\\lib\\site-packages\\pyproj\\crs\\crs.py:53: FutureWarning: '+init=<authority>:<code>' syntax is deprecated. '<authority>:<code>' is the preferred initialization method. When making the change, be mindful of axis order changes: https://pyproj4.github.io/pyproj/stable/gotchas.html#axis-order-changes-in-proj-6\n",
      "  return _prepare_from_string(\" \".join(pjargs))\n",
      "c:\\Users\\SkyMap\\anaconda3\\envs\\geoai\\lib\\site-packages\\pyproj\\crs\\crs.py:294: FutureWarning: '+init=<authority>:<code>' syntax is deprecated. '<authority>:<code>' is the preferred initialization method. When making the change, be mindful of axis order changes: https://pyproj4.github.io/pyproj/stable/gotchas.html#axis-order-changes-in-proj-6\n",
      "  projstring = _prepare_from_string(\" \".join((projstring, projkwargs)))\n",
      "c:\\Users\\SkyMap\\anaconda3\\envs\\geoai\\lib\\site-packages\\ipykernel_launcher.py:66: DeprecationWarning: This function is deprecated. See: https://pyproj4.github.io/pyproj/stable/gotchas.html#upgrading-to-pyproj-2-from-pyproj-1\n",
      "c:\\Users\\SkyMap\\anaconda3\\envs\\geoai\\lib\\site-packages\\ipykernel_launcher.py:67: DeprecationWarning: This function is deprecated. See: https://pyproj4.github.io/pyproj/stable/gotchas.html#upgrading-to-pyproj-2-from-pyproj-1\n",
      "c:\\Users\\SkyMap\\anaconda3\\envs\\geoai\\lib\\site-packages\\pyproj\\crs\\crs.py:53: FutureWarning: '+init=<authority>:<code>' syntax is deprecated. '<authority>:<code>' is the preferred initialization method. When making the change, be mindful of axis order changes: https://pyproj4.github.io/pyproj/stable/gotchas.html#axis-order-changes-in-proj-6\n",
      "  return _prepare_from_string(\" \".join(pjargs))\n",
      "c:\\Users\\SkyMap\\anaconda3\\envs\\geoai\\lib\\site-packages\\pyproj\\crs\\crs.py:294: FutureWarning: '+init=<authority>:<code>' syntax is deprecated. '<authority>:<code>' is the preferred initialization method. When making the change, be mindful of axis order changes: https://pyproj4.github.io/pyproj/stable/gotchas.html#axis-order-changes-in-proj-6\n",
      "  projstring = _prepare_from_string(\" \".join((projstring, projkwargs)))\n",
      "c:\\Users\\SkyMap\\anaconda3\\envs\\geoai\\lib\\site-packages\\pyproj\\crs\\crs.py:53: FutureWarning: '+init=<authority>:<code>' syntax is deprecated. '<authority>:<code>' is the preferred initialization method. When making the change, be mindful of axis order changes: https://pyproj4.github.io/pyproj/stable/gotchas.html#axis-order-changes-in-proj-6\n",
      "  return _prepare_from_string(\" \".join(pjargs))\n",
      "c:\\Users\\SkyMap\\anaconda3\\envs\\geoai\\lib\\site-packages\\pyproj\\crs\\crs.py:294: FutureWarning: '+init=<authority>:<code>' syntax is deprecated. '<authority>:<code>' is the preferred initialization method. When making the change, be mindful of axis order changes: https://pyproj4.github.io/pyproj/stable/gotchas.html#axis-order-changes-in-proj-6\n",
      "  projstring = _prepare_from_string(\" \".join((projstring, projkwargs)))\n",
      "c:\\Users\\SkyMap\\anaconda3\\envs\\geoai\\lib\\site-packages\\ipykernel_launcher.py:80: DeprecationWarning: This function is deprecated. See: https://pyproj4.github.io/pyproj/stable/gotchas.html#upgrading-to-pyproj-2-from-pyproj-1\n",
      "c:\\Users\\SkyMap\\anaconda3\\envs\\geoai\\lib\\site-packages\\ipykernel_launcher.py:81: DeprecationWarning: This function is deprecated. See: https://pyproj4.github.io/pyproj/stable/gotchas.html#upgrading-to-pyproj-2-from-pyproj-1\n"
     ]
    },
    {
     "name": "stdout",
     "output_type": "stream",
     "text": [
      "mongkos part 3_transparent_mosaic_group1_0 0.11289999999974196\n",
      "128\n",
      "2534 z\n",
      "2534\n"
     ]
    },
    {
     "name": "stderr",
     "output_type": "stream",
     "text": [
      "100%|██████████| 2534/2534 [01:32<00:00, 27.32it/s]\n"
     ]
    }
   ],
   "source": [
    "import os\n",
    "import random\n",
    "import rasterio\n",
    "import numpy as np\n",
    "\n",
    "from tqdm import *\n",
    "from osgeo import gdal\n",
    "from gdalconst import GA_ReadOnly\n",
    "# import get_resolution_meter\n",
    "\n",
    "class CD_GenerateTrainingDataset:\n",
    "    def __init__(self, basefile, labelfile, sampleSize, outputFolder, fileprefix):\n",
    "        self.basefile=basefile\n",
    "        # self.imagefile=imagefile\n",
    "        self.labelfile=labelfile\n",
    "        self.sampleSize=sampleSize\n",
    "        self.outputFolder=outputFolder\n",
    "        self.fileprefix=fileprefix\n",
    "        self.outputFolder_base=None\n",
    "        self.outputFolder_image=None\n",
    "        self.outputFolder_label = None\n",
    "\n",
    "    def generateTrainingDataset(self, nSamples):\n",
    "        self.outputFolder_base = os.path.join(self.outputFolder,\"image\")\n",
    "        self.outputFolder_label = os.path.join(self.outputFolder,\"label\")\n",
    "        if not os.path.exists(self.outputFolder):\n",
    "            os.makedirs(self.outputFolder)\n",
    "        if not os.path.exists(self.outputFolder_base):\n",
    "            os.makedirs(self.outputFolder_base)\n",
    "        if not os.path.exists(self.outputFolder_label):\n",
    "            os.makedirs(self.outputFolder_label)\n",
    "        base=gdal.Open(self.basefile, GA_ReadOnly)\n",
    "\n",
    "        raster = gdal.Open(self.labelfile, GA_ReadOnly)\n",
    "        geo = raster.GetGeoTransform()\n",
    "        proj=raster.GetProjectionRef()\n",
    "        size_X=raster.RasterXSize\n",
    "        size_Y=raster.RasterYSize\n",
    "\n",
    "        rband=np.array(raster.GetRasterBand(1).ReadAsArray())\n",
    "\n",
    "        icount=0\n",
    "        with tqdm(total=nSamples) as pbar:\n",
    "            while icount<nSamples:\n",
    "                px=random.randint(0,size_X-1-self.sampleSize)\n",
    "                py=random.randint(0,size_Y-1-self.sampleSize)\n",
    "                rband = raster.GetRasterBand(1).ReadAsArray(px, py, self.sampleSize, self.sampleSize)\n",
    "                if np.amax(rband)>0 and np.count_nonzero(rband)>0.005*self.sampleSize*self.sampleSize:\n",
    "                    geo1=list(geo)\n",
    "                    geo1[0]=geo[0]+geo[1]*px\n",
    "                    geo1[3]=geo[3]+geo[5]*py\n",
    "                    basefile_cr=os.path.join(self.outputFolder_base, self.fileprefix+'_{:03d}.tif'.format(icount+1))\n",
    "                    gdal.Translate(basefile_cr, base,srcWin = [px,py,self.sampleSize,self.sampleSize])\n",
    "                    labelfile_cr=os.path.join(self.outputFolder_label, self.fileprefix+'_{:03d}.tif'.format(icount+1))\n",
    "                    gdal.Translate(labelfile_cr, raster,srcWin = [px,py,self.sampleSize,self.sampleSize])\n",
    "                    icount+=1\n",
    "                    pbar.update()\n",
    "        raster=None\n",
    "        image=None\n",
    "        base=None\n",
    "\n",
    "    def writeLabelAsFile(self, data, filename, geo, proj):\n",
    "        size_Y, size_X=data.shape\n",
    "        target_ds = gdal.GetDriverByName('GTiff').Create(filename, size_X, size_Y, 1, gdal.GDT_Byte)\n",
    "        target_ds.SetGeoTransform(geo)\n",
    "        target_ds.SetProjection(proj)\n",
    "        band = target_ds.GetRasterBand(1)\n",
    "        target_ds.GetRasterBand(1).SetNoDataValue(0)\t\t\t\t\n",
    "        band.WriteArray(data)\n",
    "        band.FlushCache()\n",
    "\n",
    "        target_ds=None\n",
    "        \n",
    "    def writeDataAsFile(self, data, filename, geo, proj):\n",
    "        nbands, size_Y, size_X=data.shape\n",
    "        target_ds = gdal.GetDriverByName('GTiff').Create(filename, size_X, size_Y, nbands, gdal.GDT_Byte)\n",
    "        target_ds.SetGeoTransform(geo)\n",
    "        target_ds.SetProjection(proj)\n",
    "        for i in range(0, nbands):\n",
    "            band = target_ds.GetRasterBand(i+1)\n",
    "            band.SetNoDataValue(0)\t\n",
    "            band.WriteArray(data[i,:,:])\n",
    "            band.FlushCache()\n",
    "\n",
    "        target_ds=None    \n",
    "            \n",
    "def create_list_id(path):\n",
    "    list_id = []\n",
    "    for file in os.listdir(path):\n",
    "        if file.endswith(\".tif\"):\n",
    "            list_id.append(file[:-4])\n",
    "    return list_id\n",
    "\n",
    "# def create_list_id(dir):\n",
    "#     list_id = []\n",
    "#     for fp in glob.glob()\n",
    "\n",
    "def main_gen_data_with_size(base_path,mask_path,outputFolder, sampleSize=None, gen_them=False):\n",
    "    list_id = create_list_id(base_path)\n",
    "    print(list_id)\n",
    "    for image_id in list_id:\n",
    "        basefile=os.path.join(base_path,image_id+\".tif\")\n",
    "        # imagefile=os.path.join(image_path,image_id+\".tif\")\n",
    "        labelfile=os.path.join(mask_path,image_id+\".tif\")\n",
    "        resolution = get_resolution_meter(basefile)\n",
    "        print(image_id,resolution)\n",
    "        if sampleSize:\n",
    "            size_cut = sampleSize\n",
    "        else:\n",
    "            size_cut = round(0.3*256/(resolution*64))*64\n",
    "        # size_cut=1024\n",
    "        print(size_cut)\n",
    "        with rasterio.open(labelfile) as src:\n",
    "            w,h = src.width,src.height\n",
    "        numgen = w*h//((size_cut//2)**2)*2\n",
    "        print(numgen,'z')\n",
    "        if gen_them:\n",
    "            numgen = 200\n",
    "        print(numgen)\n",
    "        fileprefix = image_id\n",
    "        gen=CD_GenerateTrainingDataset(basefile, labelfile, size_cut, outputFolder, fileprefix)\n",
    "        gen.generateTrainingDataset(numgen)\n",
    "    return gen.outputFolder_base, gen.outputFolder_label\n",
    "\n",
    "if __name__=='__main__':\n",
    "    base_path = r\"E:\\TMP_XOA\\mongkos_std\\test\\img\"\n",
    "    mask_path = r\"E:\\TMP_XOA\\mongkos_std\\test\\mask\"\n",
    "    outputFolder = r'E:\\TMP_XOA\\mongkos_std\\test\\data_128_False'\n",
    "    sampleSize = 128\n",
    "    main_gen_data_with_size(base_path, mask_path, outputFolder, sampleSize=sampleSize, gen_them=False)\n",
    "    # list_id = create_list_id(base_path)\n",
    "    # for image_id in list_id:\n",
    "    #     basefile=os.path.join(base_path,image_id+\".tif\")\n",
    "    #     # imagefile=os.path.join(image_path,image_id+\".tif\")\n",
    "    #     labelfile=os.path.join(mask_path,image_id+\".tif\")\n",
    "    #     sampleSize = None\n",
    "    #     with rasterio.open(labelfile) as src:\n",
    "    #         w,h = src.width,src.height\n",
    "    #     # numgen = (w*h//((sampleSize//4)**2))\n",
    "    #     fileprefix = image_id\n",
    "        \n",
    "    #     # gen=CD_GenerateTrainingDataset(basefile, labelfile, sampleSize, outputFolder, fileprefix)\n",
    "    #     # gen.generateTrainingDataset(numgen)\n"
   ]
  },
  {
   "cell_type": "code",
   "execution_count": 29,
   "metadata": {},
   "outputs": [],
   "source": [
    "fp_aoi = r'E:\\TMP_XOA\\mongkos_std\\box_std.shp'\n",
    "fp_img = r'E:\\TMP_XOA\\mongkos\\mongkos part 3_transparent_mosaic_group1.tif'\n",
    "fp_out = r'E:\\TMP_XOA\\mongkos_std\\a.tif'\n",
    "\n",
    "import rasterio\n",
    "import numpy as np\n",
    "import geopandas as gpd\n",
    "\n",
    "\n",
    "def create_mask_by_shape(fp_shp, fp_img, fp_mask_out):\n",
    "    df_shp = gpd.read_file(fp_shp)\n",
    "    list_geo = [(x.geometry) for i, x in df_shp.iterrows()]\n",
    "    \n",
    "    with rasterio.open(fp_img) as src:\n",
    "        tr = src.transform\n",
    "        width, height = src.width, src.height\n",
    "        meta = src.meta\n",
    "    \n",
    "    mask = rasterio.features.geometry_mask(list_geo,\n",
    "                                           out_shape=(height, width),\n",
    "                                           transform=tr,\n",
    "                                           invert=True,\n",
    "                                           all_touched=True).astype('uint8')\n",
    "    meta.update({\n",
    "        'dtype': 'uint8',\n",
    "        'count': 1\n",
    "    })\n",
    "    with rasterio.open(fp_mask_out, 'w', **meta) as dst:\n",
    "        dst.write(np.array([mask]))\n",
    "    \n",
    "\n",
    "fp_img = r\"E:\\TMP_XOA\\mongkos_std\\img_cut\\mongkos part 3_transparent_mosaic_group1_0.tif\"\n",
    "fp_shp = r\"E:\\TMP_XOA\\mongkos_std\\label_std.shp\"\n",
    "fp_mask_out = r\"E:\\TMP_XOA\\mongkos_std\\img_mask\\mask.tif\"\n",
    "create_mask_by_shape(fp_shp, fp_img, fp_mask_out)"
   ]
  },
  {
   "cell_type": "code",
   "execution_count": null,
   "metadata": {},
   "outputs": [],
   "source": [
    "image_dir = r'E:\\TMP_XOA\\mongkos\\mongkos part 3_transparent_mosaic_group1.tif'\n",
    "label_dir = r'E:\\TMP_XOA\\mongkos_2\\label.shp'\n",
    "box_dir = r'E:\\TMP_XOA\\mongkos_2\\box.shp'\n",
    "out_dir = r'E:\\TMP_XOA\\mongkos_std'\n",
    "standardized_shape_epsg(label_dir, image_dir, out_dir)\n",
    "\n",
    "\n",
    "\n",
    "\n",
    "\n",
    "\n"
   ]
  },
  {
   "cell_type": "code",
   "execution_count": 21,
   "metadata": {},
   "outputs": [
    {
     "data": {
      "text/plain": [
       "['duibai_new']"
      ]
     },
     "execution_count": 21,
     "metadata": {},
     "output_type": "execute_result"
    }
   ],
   "source": [
    "import os, glob\n",
    "def get_file_name_follow_type(dir_source, type_file):\n",
    "    file_names = []\n",
    "    if '.'in type_file:\n",
    "        type_file = '*' + type_file\n",
    "    else:\n",
    "        type_file = '*.' + type_file\n",
    "    for fp in glob.glob(os.path.join(dir_source, type_file)):\n",
    "        file_names.append(os.path.basename(fp).replace(type_file.replace('*',''), ''))\n",
    "    return file_names\n",
    "\n",
    "get_file_name_follow_type(r'E:\\TMP_XOA\\DuBai\\Sentinel2base\\new_shp', 'shp')"
   ]
  },
  {
   "cell_type": "code",
   "execution_count": 24,
   "metadata": {},
   "outputs": [
    {
     "data": {
      "text/plain": [
       "'aksk.'"
      ]
     },
     "execution_count": 24,
     "metadata": {},
     "output_type": "execute_result"
    }
   ],
   "source": [
    "a = 'shpaksk.shp'\n",
    "a.replace('shp','')"
   ]
  },
  {
   "cell_type": "code",
   "execution_count": 22,
   "metadata": {},
   "outputs": [
    {
     "data": {
      "text/plain": [
       "'dadasdasd'"
      ]
     },
     "execution_count": 22,
     "metadata": {},
     "output_type": "execute_result"
    }
   ],
   "source": [
    "a.replace('shp','')"
   ]
  },
  {
   "cell_type": "code",
   "execution_count": 25,
   "metadata": {},
   "outputs": [
    {
     "data": {
      "text/plain": [
       "'.shp'"
      ]
     },
     "execution_count": 25,
     "metadata": {},
     "output_type": "execute_result"
    }
   ],
   "source": [
    "type_file = '*.shp'\n",
    "type_file.replace('*','')"
   ]
  },
  {
   "cell_type": "code",
   "execution_count": 1,
   "metadata": {},
   "outputs": [],
   "source": [
    "import os\n",
    "for file in os.listdir(r\"E:\\TMP_XOA\\mongkos_std\\tmpp\\cut_size\\shape_label\"):\n",
    "    if file.startswith(\"mongkos part 3_transparent_mosaic_group1_0_001\"):\n",
    "        print(file)"
   ]
  },
  {
   "cell_type": "code",
   "execution_count": 9,
   "metadata": {},
   "outputs": [
    {
     "data": {
      "text/plain": [
       "0"
      ]
     },
     "execution_count": 9,
     "metadata": {},
     "output_type": "execute_result"
    }
   ],
   "source": [
    "image_res = 0.02\n",
    "h = 512\n",
    "w = 256\n",
    "(round(max(h, w) / 64 * 3.2 / 3 * image_res / 0.3)) * 64\n",
    "(round(min(h, w) / 64 * 3.2 / 3 * image_res / 0.3)) * 64"
   ]
  },
  {
   "cell_type": "code",
   "execution_count": 2,
   "metadata": {},
   "outputs": [],
   "source": [
    "import keras\n",
    "class TrainingCallback(keras.callbacks.Callback):\n",
    "    def __init__(self, task_id):\n",
    "        super(TrainingCallback, self).__init__()\n",
    "        self.task_id = task_id\n",
    "\n",
    "    def on_epoch_end(self, epoch, logs=None):\n",
    "        keys = list(logs.keys())\n",
    "        payload = []\n",
    "        for key in keys:\n",
    "            payload.append({\n",
    "                'key': key,\n",
    "                'value': str(logs[key])\n",
    "            })\n",
    "        payload = {\n",
    "            'task_id': self.task_id,\n",
    "            'epoch': epoch + 1,\n",
    "            'payload': payload\n",
    "        }\n",
    "        # url = '{}/internal/training/report'.format(HOSTED_ENDPOINT)\n",
    "        # print(url)\n",
    "        # print(payload)\n",
    "        # request = requests.post(url, json=payload)\n",
    "        # print(request)\n",
    "    "
   ]
  },
  {
   "cell_type": "code",
   "execution_count": null,
   "metadata": {},
   "outputs": [],
   "source": [
    "callback = [TrainingCallback(self.task_id)] if self.task_id != -1 else None"
   ]
  }
 ],
 "metadata": {
  "kernelspec": {
   "display_name": "geoai",
   "language": "python",
   "name": "python3"
  },
  "language_info": {
   "codemirror_mode": {
    "name": "ipython",
    "version": 3
   },
   "file_extension": ".py",
   "mimetype": "text/x-python",
   "name": "python",
   "nbconvert_exporter": "python",
   "pygments_lexer": "ipython3",
   "version": "3.7.0"
  },
  "orig_nbformat": 4,
  "vscode": {
   "interpreter": {
    "hash": "1bff4993b5c6f9c50422f70b2dd5a13ec694dfd7dde205c6b1afc92728df224a"
   }
  }
 },
 "nbformat": 4,
 "nbformat_minor": 2
}
