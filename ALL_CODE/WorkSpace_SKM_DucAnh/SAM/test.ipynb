{
 "cells": [
  {
   "attachments": {},
   "cell_type": "markdown",
   "metadata": {},
   "source": [
    "## Training Langue"
   ]
  },
  {
   "cell_type": "code",
   "execution_count": 7,
   "metadata": {},
   "outputs": [
    {
     "ename": "NameError",
     "evalue": "name 'SLConfig' is not defined",
     "output_type": "error",
     "traceback": [
      "\u001b[0;31m---------------------------------------------------------------------------\u001b[0m",
      "\u001b[0;31mNameError\u001b[0m                                 Traceback (most recent call last)",
      "Cell \u001b[0;32mIn[7], line 11\u001b[0m\n\u001b[1;32m      9\u001b[0m checkpoint \u001b[39m=\u001b[39m os\u001b[39m.\u001b[39mpath\u001b[39m.\u001b[39mjoin(chkpnt_dir, \u001b[39m\"\u001b[39m\u001b[39msam_vit_b_01ec64.pth\u001b[39m\u001b[39m\"\u001b[39m)\n\u001b[1;32m     10\u001b[0m device \u001b[39m=\u001b[39m \u001b[39m'\u001b[39m\u001b[39mcuda\u001b[39m\u001b[39m'\u001b[39m \u001b[39mif\u001b[39;00m torch\u001b[39m.\u001b[39mcuda\u001b[39m.\u001b[39mis_available() \u001b[39melse\u001b[39;00m \u001b[39m'\u001b[39m\u001b[39mcpu\u001b[39m\u001b[39m'\u001b[39m\n\u001b[0;32m---> 11\u001b[0m sam \u001b[39m=\u001b[39m LangSAM()\n\u001b[1;32m     13\u001b[0m text_prompt \u001b[39m=\u001b[39m \u001b[39m\"\u001b[39m\u001b[39mtree\u001b[39m\u001b[39m\"\u001b[39m\n\u001b[1;32m     14\u001b[0m image \u001b[39m=\u001b[39m \u001b[39mr\u001b[39m\u001b[39m\"\u001b[39m\u001b[39m/home/skm/SKM/WORK/ALL_CODE/WorkSpace_SKM_DucAnh/SAM/data_demo/a_4326.tif\u001b[39m\u001b[39m\"\u001b[39m\n",
      "File \u001b[0;32m~/.local/lib/python3.8/site-packages/samgeo/text_sam.py:115\u001b[0m, in \u001b[0;36mLangSAM.__init__\u001b[0;34m(self, model_type)\u001b[0m\n\u001b[1;32m    107\u001b[0m \u001b[39m\u001b[39m\u001b[39m\"\"\"Initialize the LangSAM instance.\u001b[39;00m\n\u001b[1;32m    108\u001b[0m \n\u001b[1;32m    109\u001b[0m \u001b[39mArgs:\u001b[39;00m\n\u001b[1;32m    110\u001b[0m \u001b[39m    model_type (str, optional): The model type. It can be one of the following: vit_h, vit_l, vit_b.\u001b[39;00m\n\u001b[1;32m    111\u001b[0m \u001b[39m        Defaults to 'vit_h'. See https://bit.ly/3VrpxUh for more details.\u001b[39;00m\n\u001b[1;32m    112\u001b[0m \u001b[39m\"\"\"\u001b[39;00m\n\u001b[1;32m    114\u001b[0m \u001b[39mself\u001b[39m\u001b[39m.\u001b[39mdevice \u001b[39m=\u001b[39m torch\u001b[39m.\u001b[39mdevice(\u001b[39m\"\u001b[39m\u001b[39mcuda\u001b[39m\u001b[39m\"\u001b[39m \u001b[39mif\u001b[39;00m torch\u001b[39m.\u001b[39mcuda\u001b[39m.\u001b[39mis_available() \u001b[39melse\u001b[39;00m \u001b[39m\"\u001b[39m\u001b[39mcpu\u001b[39m\u001b[39m\"\u001b[39m)\n\u001b[0;32m--> 115\u001b[0m \u001b[39mself\u001b[39;49m\u001b[39m.\u001b[39;49mbuild_groundingdino()\n\u001b[1;32m    116\u001b[0m \u001b[39mself\u001b[39m\u001b[39m.\u001b[39mbuild_sam(model_type)\n\u001b[1;32m    118\u001b[0m \u001b[39mself\u001b[39m\u001b[39m.\u001b[39msource \u001b[39m=\u001b[39m \u001b[39mNone\u001b[39;00m\n",
      "File \u001b[0;32m~/.local/lib/python3.8/site-packages/samgeo/text_sam.py:145\u001b[0m, in \u001b[0;36mLangSAM.build_groundingdino\u001b[0;34m(self)\u001b[0m\n\u001b[1;32m    143\u001b[0m ckpt_filename \u001b[39m=\u001b[39m \u001b[39m\"\u001b[39m\u001b[39mgroundingdino_swinb_cogcoor.pth\u001b[39m\u001b[39m\"\u001b[39m\n\u001b[1;32m    144\u001b[0m ckpt_config_filename \u001b[39m=\u001b[39m \u001b[39m\"\u001b[39m\u001b[39mGroundingDINO_SwinB.cfg.py\u001b[39m\u001b[39m\"\u001b[39m\n\u001b[0;32m--> 145\u001b[0m \u001b[39mself\u001b[39m\u001b[39m.\u001b[39mgroundingdino \u001b[39m=\u001b[39m load_model_hf(\n\u001b[1;32m    146\u001b[0m     ckpt_repo_id, ckpt_filename, ckpt_config_filename, \u001b[39mself\u001b[39;49m\u001b[39m.\u001b[39;49mdevice\n\u001b[1;32m    147\u001b[0m )\n",
      "File \u001b[0;32m~/.local/lib/python3.8/site-packages/samgeo/text_sam.py:69\u001b[0m, in \u001b[0;36mload_model_hf\u001b[0;34m(repo_id, filename, ckpt_config_filename, device)\u001b[0m\n\u001b[1;32m     55\u001b[0m \u001b[39m\u001b[39m\u001b[39m\"\"\"\u001b[39;00m\n\u001b[1;32m     56\u001b[0m \u001b[39mLoads a model from HuggingFace Model Hub.\u001b[39;00m\n\u001b[1;32m     57\u001b[0m \n\u001b[0;32m   (...)\u001b[0m\n\u001b[1;32m     65\u001b[0m \u001b[39m    torch.nn.Module: The loaded model.\u001b[39;00m\n\u001b[1;32m     66\u001b[0m \u001b[39m\"\"\"\u001b[39;00m\n\u001b[1;32m     68\u001b[0m cache_config_file \u001b[39m=\u001b[39m hf_hub_download(repo_id\u001b[39m=\u001b[39mrepo_id, filename\u001b[39m=\u001b[39mckpt_config_filename)\n\u001b[0;32m---> 69\u001b[0m args \u001b[39m=\u001b[39m SLConfig\u001b[39m.\u001b[39mfromfile(cache_config_file)\n\u001b[1;32m     70\u001b[0m model \u001b[39m=\u001b[39m build_model(args)\n\u001b[1;32m     71\u001b[0m model\u001b[39m.\u001b[39mto(device)\n",
      "\u001b[0;31mNameError\u001b[0m: name 'SLConfig' is not defined"
     ]
    }
   ],
   "source": [
    "\n",
    "\n",
    "import torch\n",
    "import os\n",
    "from samgeo.text_sam import LangSAM\n",
    "# sam_vit_h_4b8939\n",
    "# sam_vit_l_0b3195\n",
    "# sam_vit_b_01ec64\n",
    "\n",
    "chkpnt_dir = r\"/home/skm/SKM/WORK/ALL_CODE/WorkSpace_SKM_DucAnh/SAM/model/\"\n",
    "checkpoint = os.path.join(chkpnt_dir, \"sam_vit_b_01ec64.pth\")\n",
    "device = 'cuda' if torch.cuda.is_available() else 'cpu'\n",
    "sam = LangSAM()\n",
    "\n",
    "text_prompt = \"tree\"\n",
    "image = r\"/home/skm/SKM/WORK/ALL_CODE/WorkSpace_SKM_DucAnh/SAM/data_demo/a_4326.tif\"\n",
    "sam.predict(image, text_prompt, box_threshold=0.24, text_threshold=0.24)"
   ]
  },
  {
   "cell_type": "code",
   "execution_count": 3,
   "metadata": {},
   "outputs": [],
   "source": [
    "import geopandas as gpd\n",
    "a = r'/home/skm/public_mount/tmp_Duy/point_sam_2/point_sam_2.shp'\n",
    "df_prompt = gpd.read_file(a)\n"
   ]
  },
  {
   "cell_type": "code",
   "execution_count": 16,
   "metadata": {},
   "outputs": [
    {
     "data": {
      "text/plain": [
       "[1, 0, 1, 0, 1, 0, 1, 0]"
      ]
     },
     "execution_count": 16,
     "metadata": {},
     "output_type": "execute_result"
    }
   ],
   "source": [
    "a = df_prompt['id'].to_list()\n",
    "a"
   ]
  },
  {
   "cell_type": "code",
   "execution_count": 20,
   "metadata": {},
   "outputs": [
    {
     "data": {
      "text/plain": [
       "[<POINT (-10616527.07 3462156.134)>,\n",
       " <POINT (-10616528.569 3462147.261)>,\n",
       " <POINT (-10616528.569 3462137.649)>,\n",
       " <POINT (-10616526 3462128.899)>,\n",
       " <POINT (-10616528.355 3462122.614)>,\n",
       " <POINT (-10616512.723 3462133.089)>,\n",
       " <POINT (-10616540.508 3462122.552)>,\n",
       " <POINT (-10616537.617 3462128.221)>]"
      ]
     },
     "execution_count": 20,
     "metadata": {},
     "output_type": "execute_result"
    }
   ],
   "source": [
    "points = df_prompt['geometry'].to_list()\n",
    "points"
   ]
  },
  {
   "cell_type": "code",
   "execution_count": 59,
   "metadata": {},
   "outputs": [
    {
     "name": "stdout",
     "output_type": "stream",
     "text": [
      "Shapefile has Point geometry\n",
      "Shapefile has 'id' field\n"
     ]
    }
   ],
   "source": [
    "point_shape = r'/home/skm/SKM/WORK/ALL_CODE/WorkSpace_SKM_DucAnh/SAM/data_demo/a_4326.shp'\n",
    "a = r'/home/skm/public_mount/tmp_Duy/point_sam_2/point_sam_2.shp'\n",
    "\n",
    "\n",
    "gdf = gpd.read_file(a)\n",
    "if gdf.geom_type.unique()[0] == 'Point':\n",
    "    print(\"Shapefile has Point geometry\")\n",
    "\n",
    "# Check if 'id' field exists in the shapefile\n",
    "if 'id' in gdf.columns:\n",
    "    print(\"Shapefile has 'id' field\")\n",
    "\n"
   ]
  },
  {
   "cell_type": "code",
   "execution_count": 52,
   "metadata": {},
   "outputs": [
    {
     "data": {
      "text/plain": [
       "[[(-10616527.070439188, 3462156.1341076526)],\n",
       " [(-10616528.569428362, 3462147.261122024)],\n",
       " [(-10616528.569428362, 3462137.6487278226)],\n",
       " [(-10616525.999732636, 3462128.8989906185)],\n",
       " [(-10616528.355287053, 3462122.613971788)],\n",
       " [(-10616512.722971382, 3462133.0890048766)],\n",
       " [(-10616540.507806422, 3462122.5523539707)],\n",
       " [(-10616537.61689873, 3462128.2211943227)]]"
      ]
     },
     "execution_count": 52,
     "metadata": {},
     "output_type": "execute_result"
    }
   ],
   "source": [
    "geometry_list = []\n",
    "geometry_list = gdf['geometry']\n",
    "\n",
    "# Convert each geometry element to a pair of lists\n",
    "pair_list = []\n",
    "for geometry in geometry_list:\n",
    "    pair_list.append([geometry.coords[0]])\n",
    "pair_list"
   ]
  },
  {
   "cell_type": "code",
   "execution_count": 58,
   "metadata": {},
   "outputs": [
    {
     "data": {
      "text/plain": [
       "'EPSG:3857'"
      ]
     },
     "execution_count": 58,
     "metadata": {},
     "output_type": "execute_result"
    }
   ],
   "source": [
    "epsg_code = \"EPSG:\" + str(gdf.crs.to_epsg())\n",
    "epsg_code"
   ]
  },
  {
   "cell_type": "code",
   "execution_count": 64,
   "metadata": {},
   "outputs": [
    {
     "ename": "OutOfMemoryError",
     "evalue": "CUDA out of memory. Tried to allocate 20.00 MiB (GPU 0; 10.92 GiB total capacity; 9.77 GiB already allocated; 20.50 MiB free; 9.88 GiB reserved in total by PyTorch) If reserved memory is >> allocated memory try setting max_split_size_mb to avoid fragmentation.  See documentation for Memory Management and PYTORCH_CUDA_ALLOC_CONF",
     "output_type": "error",
     "traceback": [
      "\u001b[0;31m---------------------------------------------------------------------------\u001b[0m",
      "\u001b[0;31mOutOfMemoryError\u001b[0m                          Traceback (most recent call last)",
      "Cell \u001b[0;32mIn[64], line 48\u001b[0m\n\u001b[1;32m     45\u001b[0m outputVector \u001b[39m=\u001b[39m \u001b[39mr\u001b[39m\u001b[39m'\u001b[39m\u001b[39m/home/skm/SKM/WORK/ALL_CODE/WorkSpace_SKM_DucAnh/SAM/data_demo/TEST_DOCKER/meo.shp\u001b[39m\u001b[39m'\u001b[39m\n\u001b[1;32m     46\u001b[0m dir_tmp \u001b[39m=\u001b[39m \u001b[39mr\u001b[39m\u001b[39m'\u001b[39m\u001b[39m/home/skm/SKM/WORK/ALL_CODE/WorkSpace_SKM_DucAnh/SAM/data_demo/TEST_DOCKER/tmp\u001b[39m\u001b[39m'\u001b[39m\n\u001b[0;32m---> 48\u001b[0m run_sam_point(model_path, img_path, input_prompt_shp, outputVector, dir_tmp)\n",
      "Cell \u001b[0;32mIn[64], line 15\u001b[0m, in \u001b[0;36mrun_sam_point\u001b[0;34m(model_path, img_path, input_prompt_shp, outputVector, dir_tmp)\u001b[0m\n\u001b[1;32m     12\u001b[0m os\u001b[39m.\u001b[39mmakedirs(os\u001b[39m.\u001b[39mpath\u001b[39m.\u001b[39mdirname(outputVector), exist_ok\u001b[39m=\u001b[39m\u001b[39mTrue\u001b[39;00m)\n\u001b[1;32m     13\u001b[0m os\u001b[39m.\u001b[39mmakedirs(dir_tmp, exist_ok\u001b[39m=\u001b[39m\u001b[39mTrue\u001b[39;00m)\n\u001b[0;32m---> 15\u001b[0m sam \u001b[39m=\u001b[39m SamGeo(\n\u001b[1;32m     16\u001b[0m         checkpoint\u001b[39m=\u001b[39;49mmodel_path,\n\u001b[1;32m     17\u001b[0m         model_type\u001b[39m=\u001b[39;49m\u001b[39m\"\u001b[39;49m\u001b[39mvit_h\u001b[39;49m\u001b[39m\"\u001b[39;49m, \u001b[39m# vit_l, vit_b , vit_h\u001b[39;49;00m\n\u001b[1;32m     18\u001b[0m         automatic\u001b[39m=\u001b[39;49m\u001b[39mFalse\u001b[39;49;00m,\n\u001b[1;32m     19\u001b[0m         device\u001b[39m=\u001b[39;49mdevice,\n\u001b[1;32m     20\u001b[0m         sam_kwargs\u001b[39m=\u001b[39;49m\u001b[39mNone\u001b[39;49;00m,\n\u001b[1;32m     21\u001b[0m     )\n\u001b[1;32m     22\u001b[0m sam\u001b[39m.\u001b[39mset_image(img_path)\n\u001b[1;32m     23\u001b[0m df_point \u001b[39m=\u001b[39m df_prompt[\u001b[39m'\u001b[39m\u001b[39mgeometry\u001b[39m\u001b[39m'\u001b[39m]\n",
      "File \u001b[0;32m~/.local/lib/python3.8/site-packages/samgeo/samgeo.py:95\u001b[0m, in \u001b[0;36mSamGeo.__init__\u001b[0;34m(self, model_type, checkpoint, automatic, device, sam_kwargs)\u001b[0m\n\u001b[1;32m     93\u001b[0m \u001b[39m# Build the SAM model\u001b[39;00m\n\u001b[1;32m     94\u001b[0m \u001b[39mself\u001b[39m\u001b[39m.\u001b[39msam \u001b[39m=\u001b[39m sam_model_registry[\u001b[39mself\u001b[39m\u001b[39m.\u001b[39mmodel_type](checkpoint\u001b[39m=\u001b[39m\u001b[39mself\u001b[39m\u001b[39m.\u001b[39mcheckpoint)\n\u001b[0;32m---> 95\u001b[0m \u001b[39mself\u001b[39;49m\u001b[39m.\u001b[39;49msam\u001b[39m.\u001b[39;49mto(device\u001b[39m=\u001b[39;49m\u001b[39mself\u001b[39;49m\u001b[39m.\u001b[39;49mdevice)\n\u001b[1;32m     96\u001b[0m \u001b[39m# Use optional arguments for fine-tuning the SAM model\u001b[39;00m\n\u001b[1;32m     97\u001b[0m sam_kwargs \u001b[39m=\u001b[39m \u001b[39mself\u001b[39m\u001b[39m.\u001b[39msam_kwargs \u001b[39mif\u001b[39;00m \u001b[39mself\u001b[39m\u001b[39m.\u001b[39msam_kwargs \u001b[39mis\u001b[39;00m \u001b[39mnot\u001b[39;00m \u001b[39mNone\u001b[39;00m \u001b[39melse\u001b[39;00m {}\n",
      "File \u001b[0;32m~/.local/lib/python3.8/site-packages/torch/nn/modules/module.py:1145\u001b[0m, in \u001b[0;36mModule.to\u001b[0;34m(self, *args, **kwargs)\u001b[0m\n\u001b[1;32m   1141\u001b[0m         \u001b[39mreturn\u001b[39;00m t\u001b[39m.\u001b[39mto(device, dtype \u001b[39mif\u001b[39;00m t\u001b[39m.\u001b[39mis_floating_point() \u001b[39mor\u001b[39;00m t\u001b[39m.\u001b[39mis_complex() \u001b[39melse\u001b[39;00m \u001b[39mNone\u001b[39;00m,\n\u001b[1;32m   1142\u001b[0m                     non_blocking, memory_format\u001b[39m=\u001b[39mconvert_to_format)\n\u001b[1;32m   1143\u001b[0m     \u001b[39mreturn\u001b[39;00m t\u001b[39m.\u001b[39mto(device, dtype \u001b[39mif\u001b[39;00m t\u001b[39m.\u001b[39mis_floating_point() \u001b[39mor\u001b[39;00m t\u001b[39m.\u001b[39mis_complex() \u001b[39melse\u001b[39;00m \u001b[39mNone\u001b[39;00m, non_blocking)\n\u001b[0;32m-> 1145\u001b[0m \u001b[39mreturn\u001b[39;00m \u001b[39mself\u001b[39;49m\u001b[39m.\u001b[39;49m_apply(convert)\n",
      "File \u001b[0;32m~/.local/lib/python3.8/site-packages/torch/nn/modules/module.py:797\u001b[0m, in \u001b[0;36mModule._apply\u001b[0;34m(self, fn)\u001b[0m\n\u001b[1;32m    795\u001b[0m \u001b[39mdef\u001b[39;00m \u001b[39m_apply\u001b[39m(\u001b[39mself\u001b[39m, fn):\n\u001b[1;32m    796\u001b[0m     \u001b[39mfor\u001b[39;00m module \u001b[39min\u001b[39;00m \u001b[39mself\u001b[39m\u001b[39m.\u001b[39mchildren():\n\u001b[0;32m--> 797\u001b[0m         module\u001b[39m.\u001b[39;49m_apply(fn)\n\u001b[1;32m    799\u001b[0m     \u001b[39mdef\u001b[39;00m \u001b[39mcompute_should_use_set_data\u001b[39m(tensor, tensor_applied):\n\u001b[1;32m    800\u001b[0m         \u001b[39mif\u001b[39;00m torch\u001b[39m.\u001b[39m_has_compatible_shallow_copy_type(tensor, tensor_applied):\n\u001b[1;32m    801\u001b[0m             \u001b[39m# If the new tensor has compatible tensor type as the existing tensor,\u001b[39;00m\n\u001b[1;32m    802\u001b[0m             \u001b[39m# the current behavior is to change the tensor in-place using `.data =`,\u001b[39;00m\n\u001b[0;32m   (...)\u001b[0m\n\u001b[1;32m    807\u001b[0m             \u001b[39m# global flag to let the user control whether they want the future\u001b[39;00m\n\u001b[1;32m    808\u001b[0m             \u001b[39m# behavior of overwriting the existing tensor or not.\u001b[39;00m\n",
      "File \u001b[0;32m~/.local/lib/python3.8/site-packages/torch/nn/modules/module.py:797\u001b[0m, in \u001b[0;36mModule._apply\u001b[0;34m(self, fn)\u001b[0m\n\u001b[1;32m    795\u001b[0m \u001b[39mdef\u001b[39;00m \u001b[39m_apply\u001b[39m(\u001b[39mself\u001b[39m, fn):\n\u001b[1;32m    796\u001b[0m     \u001b[39mfor\u001b[39;00m module \u001b[39min\u001b[39;00m \u001b[39mself\u001b[39m\u001b[39m.\u001b[39mchildren():\n\u001b[0;32m--> 797\u001b[0m         module\u001b[39m.\u001b[39;49m_apply(fn)\n\u001b[1;32m    799\u001b[0m     \u001b[39mdef\u001b[39;00m \u001b[39mcompute_should_use_set_data\u001b[39m(tensor, tensor_applied):\n\u001b[1;32m    800\u001b[0m         \u001b[39mif\u001b[39;00m torch\u001b[39m.\u001b[39m_has_compatible_shallow_copy_type(tensor, tensor_applied):\n\u001b[1;32m    801\u001b[0m             \u001b[39m# If the new tensor has compatible tensor type as the existing tensor,\u001b[39;00m\n\u001b[1;32m    802\u001b[0m             \u001b[39m# the current behavior is to change the tensor in-place using `.data =`,\u001b[39;00m\n\u001b[0;32m   (...)\u001b[0m\n\u001b[1;32m    807\u001b[0m             \u001b[39m# global flag to let the user control whether they want the future\u001b[39;00m\n\u001b[1;32m    808\u001b[0m             \u001b[39m# behavior of overwriting the existing tensor or not.\u001b[39;00m\n",
      "    \u001b[0;31m[... skipping similar frames: Module._apply at line 797 (2 times)]\u001b[0m\n",
      "File \u001b[0;32m~/.local/lib/python3.8/site-packages/torch/nn/modules/module.py:797\u001b[0m, in \u001b[0;36mModule._apply\u001b[0;34m(self, fn)\u001b[0m\n\u001b[1;32m    795\u001b[0m \u001b[39mdef\u001b[39;00m \u001b[39m_apply\u001b[39m(\u001b[39mself\u001b[39m, fn):\n\u001b[1;32m    796\u001b[0m     \u001b[39mfor\u001b[39;00m module \u001b[39min\u001b[39;00m \u001b[39mself\u001b[39m\u001b[39m.\u001b[39mchildren():\n\u001b[0;32m--> 797\u001b[0m         module\u001b[39m.\u001b[39;49m_apply(fn)\n\u001b[1;32m    799\u001b[0m     \u001b[39mdef\u001b[39;00m \u001b[39mcompute_should_use_set_data\u001b[39m(tensor, tensor_applied):\n\u001b[1;32m    800\u001b[0m         \u001b[39mif\u001b[39;00m torch\u001b[39m.\u001b[39m_has_compatible_shallow_copy_type(tensor, tensor_applied):\n\u001b[1;32m    801\u001b[0m             \u001b[39m# If the new tensor has compatible tensor type as the existing tensor,\u001b[39;00m\n\u001b[1;32m    802\u001b[0m             \u001b[39m# the current behavior is to change the tensor in-place using `.data =`,\u001b[39;00m\n\u001b[0;32m   (...)\u001b[0m\n\u001b[1;32m    807\u001b[0m             \u001b[39m# global flag to let the user control whether they want the future\u001b[39;00m\n\u001b[1;32m    808\u001b[0m             \u001b[39m# behavior of overwriting the existing tensor or not.\u001b[39;00m\n",
      "File \u001b[0;32m~/.local/lib/python3.8/site-packages/torch/nn/modules/module.py:820\u001b[0m, in \u001b[0;36mModule._apply\u001b[0;34m(self, fn)\u001b[0m\n\u001b[1;32m    816\u001b[0m \u001b[39m# Tensors stored in modules are graph leaves, and we don't want to\u001b[39;00m\n\u001b[1;32m    817\u001b[0m \u001b[39m# track autograd history of `param_applied`, so we have to use\u001b[39;00m\n\u001b[1;32m    818\u001b[0m \u001b[39m# `with torch.no_grad():`\u001b[39;00m\n\u001b[1;32m    819\u001b[0m \u001b[39mwith\u001b[39;00m torch\u001b[39m.\u001b[39mno_grad():\n\u001b[0;32m--> 820\u001b[0m     param_applied \u001b[39m=\u001b[39m fn(param)\n\u001b[1;32m    821\u001b[0m should_use_set_data \u001b[39m=\u001b[39m compute_should_use_set_data(param, param_applied)\n\u001b[1;32m    822\u001b[0m \u001b[39mif\u001b[39;00m should_use_set_data:\n",
      "File \u001b[0;32m~/.local/lib/python3.8/site-packages/torch/nn/modules/module.py:1143\u001b[0m, in \u001b[0;36mModule.to.<locals>.convert\u001b[0;34m(t)\u001b[0m\n\u001b[1;32m   1140\u001b[0m \u001b[39mif\u001b[39;00m convert_to_format \u001b[39mis\u001b[39;00m \u001b[39mnot\u001b[39;00m \u001b[39mNone\u001b[39;00m \u001b[39mand\u001b[39;00m t\u001b[39m.\u001b[39mdim() \u001b[39min\u001b[39;00m (\u001b[39m4\u001b[39m, \u001b[39m5\u001b[39m):\n\u001b[1;32m   1141\u001b[0m     \u001b[39mreturn\u001b[39;00m t\u001b[39m.\u001b[39mto(device, dtype \u001b[39mif\u001b[39;00m t\u001b[39m.\u001b[39mis_floating_point() \u001b[39mor\u001b[39;00m t\u001b[39m.\u001b[39mis_complex() \u001b[39melse\u001b[39;00m \u001b[39mNone\u001b[39;00m,\n\u001b[1;32m   1142\u001b[0m                 non_blocking, memory_format\u001b[39m=\u001b[39mconvert_to_format)\n\u001b[0;32m-> 1143\u001b[0m \u001b[39mreturn\u001b[39;00m t\u001b[39m.\u001b[39;49mto(device, dtype \u001b[39mif\u001b[39;49;00m t\u001b[39m.\u001b[39;49mis_floating_point() \u001b[39mor\u001b[39;49;00m t\u001b[39m.\u001b[39;49mis_complex() \u001b[39melse\u001b[39;49;00m \u001b[39mNone\u001b[39;49;00m, non_blocking)\n",
      "\u001b[0;31mOutOfMemoryError\u001b[0m: CUDA out of memory. Tried to allocate 20.00 MiB (GPU 0; 10.92 GiB total capacity; 9.77 GiB already allocated; 20.50 MiB free; 9.88 GiB reserved in total by PyTorch) If reserved memory is >> allocated memory try setting max_split_size_mb to avoid fragmentation.  See documentation for Memory Management and PYTORCH_CUDA_ALLOC_CONF"
     ]
    },
    {
     "ename": "",
     "evalue": "",
     "output_type": "error",
     "traceback": [
      "\u001b[1;31mThe Kernel crashed while executing code in the the current cell or a previous cell. Please review the code in the cell(s) to identify a possible cause of the failure. Click <a href='https://aka.ms/vscodeJupyterKernelCrash'>here</a> for more info. View Jupyter <a href='command:jupyter.viewOutput'>log</a> for further details."
     ]
    }
   ],
   "source": [
    "import os\n",
    "import torch\n",
    "from samgeo import SamGeo\n",
    "import geopandas as gpd\n",
    "\n",
    "device = 'cuda' if torch.cuda.is_available() else 'cpu'\n",
    "\n",
    "def run_sam_point(model_path, img_path, input_prompt_shp, outputVector, dir_tmp):\n",
    "    # check shp point\n",
    "    df_prompt = gpd.read_file(input_prompt_shp)\n",
    "    if df_prompt.geom_type.unique()[0] == 'Point' and 'id' in df_prompt.columns:\n",
    "        os.makedirs(os.path.dirname(outputVector), exist_ok=True)\n",
    "        os.makedirs(dir_tmp, exist_ok=True)\n",
    "        \n",
    "        sam = SamGeo(\n",
    "                checkpoint=model_path,\n",
    "                model_type=\"vit_h\", # vit_l, vit_b , vit_h\n",
    "                automatic=False,\n",
    "                device=device,\n",
    "                sam_kwargs=None,\n",
    "            )\n",
    "        sam.set_image(img_path)\n",
    "        df_point = df_prompt['geometry']\n",
    "        # Convert each geometry element to a pair of lists\n",
    "        point_lists = []\n",
    "        for geometry in df_point:\n",
    "            point_lists.append([geometry.coords[0]])\n",
    "        point_labels = df_prompt['id'].to_list()\n",
    "        \n",
    "        print(len(point_labels))\n",
    "        print(len(point_labels), point_labels)\n",
    "        point_labels = point_labels[1]\n",
    "        point_lists = point_lists[1]\n",
    "        \n",
    "        epsg_code = \"EPSG:\" + str(df_prompt.crs.to_epsg())\n",
    "        outputRaster_tmp = os.path.join(dir_tmp, os.path.basename(img_path))\n",
    "        sam.predict(point_lists, point_labels=point_labels, point_crs=epsg_code, output=outputRaster_tmp)\n",
    "        sam.raster_to_vector(outputRaster_tmp, outputVector, simplify_tolerance=0.00001)\n",
    "    else:\n",
    "        print('shapefile dont have \"id\" field or Point geometry')\n",
    "  \n",
    "model_path = r\"/home/skm/SKM/WORK/ALL_CODE/WorkSpace_SKM_DucAnh/SAM/model/sam_vit_h_4b8939.pth\"\n",
    "img_path = r'/home/skm/SKM/WORK/ALL_CODE/WorkSpace_SKM_DucAnh/SAM/data_demo/a_4326.tif'\n",
    "input_prompt_shp = r'/home/skm/public_mount/tmp_Duy/point_sam_2/point_sam_2.shp'\n",
    "outputVector = r'/home/skm/SKM/WORK/ALL_CODE/WorkSpace_SKM_DucAnh/SAM/data_demo/TEST_DOCKER/meo.shp'\n",
    "dir_tmp = r'/home/skm/SKM/WORK/ALL_CODE/WorkSpace_SKM_DucAnh/SAM/data_demo/TEST_DOCKER/tmp'\n",
    "\n",
    "run_sam_point(model_path, img_path, input_prompt_shp, outputVector, dir_tmp)"
   ]
  },
  {
   "cell_type": "code",
   "execution_count": 14,
   "metadata": {},
   "outputs": [
    {
     "name": "stdout",
     "output_type": "stream",
     "text": [
      "Tìm thấy x = 1001\n"
     ]
    }
   ],
   "source": [
    "a = 5000  # Số a muốn tìm\n",
    "b = 200  # Số b muốn tìm\n",
    "min_x = 1000\n",
    "max_x = 1500\n",
    "\n",
    "found_x = None\n",
    "\n",
    "for x in range(min_x, max_x + 1):\n",
    "    if a % x > 100 and b % x > 100 and b % x < x:\n",
    "        found_x = x\n",
    "        break\n",
    "\n",
    "if found_x is not None:\n",
    "    print(\"Tìm thấy x =\", found_x)\n",
    "else:\n",
    "    print(\"Không tìm thấy x thỏa mãn yêu cầu.\")\n"
   ]
  },
  {
   "cell_type": "code",
   "execution_count": 15,
   "metadata": {},
   "outputs": [
    {
     "data": {
      "text/plain": [
       "996"
      ]
     },
     "execution_count": 15,
     "metadata": {},
     "output_type": "execute_result"
    }
   ],
   "source": [
    "5000%1001"
   ]
  },
  {
   "cell_type": "code",
   "execution_count": 17,
   "metadata": {},
   "outputs": [
    {
     "name": "stdout",
     "output_type": "stream",
     "text": [
      "1\n"
     ]
    }
   ],
   "source": [
    "a = 1\n",
    "if a:\n",
    "    print(1)"
   ]
  },
  {
   "cell_type": "code",
   "execution_count": 26,
   "metadata": {},
   "outputs": [
    {
     "ename": "ValueError",
     "evalue": "cannot reshape array of size 849915 into shape (1,255,1111)",
     "output_type": "error",
     "traceback": [
      "\u001b[0;31m---------------------------------------------------------------------------\u001b[0m",
      "\u001b[0;31mValueError\u001b[0m                                Traceback (most recent call last)",
      "Cell \u001b[0;32mIn[26], line 6\u001b[0m\n\u001b[1;32m      3\u001b[0m original_array \u001b[39m=\u001b[39m np\u001b[39m.\u001b[39mrandom\u001b[39m.\u001b[39mrand(\u001b[39m3\u001b[39m, \u001b[39m255\u001b[39m, \u001b[39m1111\u001b[39m)  \u001b[39m# Mảng numpy ban đầu\u001b[39;00m\n\u001b[1;32m      5\u001b[0m \u001b[39m# Giảm số chiều của mảng xuống còn một chiều\u001b[39;00m\n\u001b[0;32m----> 6\u001b[0m new_array \u001b[39m=\u001b[39m original_array\u001b[39m.\u001b[39;49mreshape(\u001b[39m1\u001b[39;49m, \u001b[39m255\u001b[39;49m, \u001b[39m1111\u001b[39;49m)\n\u001b[1;32m      7\u001b[0m new_array\u001b[39m.\u001b[39mshape\n",
      "\u001b[0;31mValueError\u001b[0m: cannot reshape array of size 849915 into shape (1,255,1111)"
     ]
    }
   ],
   "source": [
    "import numpy as np\n",
    "\n",
    "original_array = np.random.rand(3, 255, 1111)  # Mảng numpy ban đầu\n",
    "\n",
    "# Giảm số chiều của mảng xuống còn một chiều\n",
    "new_array = original_array.reshape(1, 255, 1111)\n",
    "new_array.shape"
   ]
  },
  {
   "cell_type": "code",
   "execution_count": 29,
   "metadata": {},
   "outputs": [
    {
     "data": {
      "text/plain": [
       "(1, 255, 222)"
      ]
     },
     "execution_count": 29,
     "metadata": {},
     "output_type": "execute_result"
    }
   ],
   "source": [
    "zeros_array = np.zeros((1,255, 222))\n",
    "zeros_array.shape"
   ]
  },
  {
   "cell_type": "code",
   "execution_count": null,
   "metadata": {},
   "outputs": [],
   "source": []
  }
 ],
 "metadata": {
  "kernelspec": {
   "display_name": "sam",
   "language": "python",
   "name": "python3"
  },
  "language_info": {
   "codemirror_mode": {
    "name": "ipython",
    "version": 3
   },
   "file_extension": ".py",
   "mimetype": "text/x-python",
   "name": "python",
   "nbconvert_exporter": "python",
   "pygments_lexer": "ipython3",
   "version": "3.8.10"
  },
  "orig_nbformat": 4
 },
 "nbformat": 4,
 "nbformat_minor": 2
}
