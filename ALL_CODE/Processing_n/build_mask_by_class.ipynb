{
 "cells": [
  {
   "cell_type": "code",
   "execution_count": 1,
   "metadata": {},
   "outputs": [],
   "source": [
    "import os, glob\n",
    "import rasterio\n",
    "import numpy as np\n",
    "import geopandas as gpd\n",
    "import rasterio.features\n",
    "from tqdm.notebook import tqdm"
   ]
  },
  {
   "cell_type": "code",
   "execution_count": 2,
   "metadata": {},
   "outputs": [],
   "source": [
    "def create_mask_all(img_path, shp_path, list_name_object, property_name, out_path_mask):\n",
    "    \"\"\"\n",
    "        property_name: day la ten truong ma chua cac doi tuong\n",
    "    \"\"\"\n",
    "    with rasterio.open(img_path) as src:\n",
    "        meta = src.meta\n",
    "        height, width = src.height, src.width\n",
    "        tr = src.transform\n",
    "        crs_img = src.crs\n",
    "    df = gpd.read_file(shp_path)\n",
    "    df['valu'] = 0\n",
    "    # check epsg\n",
    "    if df.crs.to_string() != crs_img.to_string():\n",
    "        df = df.to_crs(epsg=str(crs_img.to_epsg()))\n",
    "\n",
    "    # check so luong class\n",
    "    list_object_in_field = np.unique(df[property_name])\n",
    "    if set(list_object_in_field).issubset(list_name_object):\n",
    "        i = 0\n",
    "        for class_name in list_name_object:\n",
    "            i+=1\n",
    "            if class_name in list_object_in_field:\n",
    "                df.loc[df[property_name] == class_name, 'valu']= i\n",
    "            else:\n",
    "                continue\n",
    "\n",
    "        shapes = df[['geometry', 'valu']]\n",
    "        shapes = list(map(tuple, shapes.values))\n",
    "        mask = rasterio.features.rasterize(shapes, out_shape=(height, width), transform=tr)\n",
    "        meta.update({'count': 1, 'nodata': 0})\n",
    "        with rasterio.open(out_path_mask, 'w', **meta) as dst:\n",
    "            dst.write(np.array([mask]))   \n",
    "    else:\n",
    "        print(list_object_in_field)\n",
    "        print(list_name_object)\n",
    "        print(1)\n",
    "        pass\n",
    "\n",
    "    \n"
   ]
  },
  {
   "cell_type": "markdown",
   "metadata": {},
   "source": [
    "## Chay 1 Anh"
   ]
  },
  {
   "cell_type": "code",
   "execution_count": 3,
   "metadata": {},
   "outputs": [],
   "source": [
    "\"\"\" chay 1 anh \"\"\"\n",
    "img_path = r'/home/skm/SKM16/Work/OpenLand/Image/img_origin/visual_c57a04cf-cbf1-4611-a74d-e6cb433025a3/files/SkySatCollect/20220814_103841_ssc10_u0002/visual/20220814_103841_ssc10_u0002_visual.tif'\n",
    "shp_path = r'/home/skm/SKM16/Work/OpenLand/Lables/20220814_103841_ssc10_u0002_visual.shp'\n",
    "out_path_mask = r\"/home/skm/SKM16/Tmp/tmp_xx.tif\"\n",
    "list_name_object = ['Buildup', 'Openland', 'Road', 'Water']\n",
    "property_name = 'Class_Name'\n",
    "create_mask_all(img_path, shp_path, list_name_object, property_name, out_path_mask)"
   ]
  },
  {
   "cell_type": "markdown",
   "metadata": {},
   "source": [
    "## Chay all Folder"
   ]
  },
  {
   "cell_type": "code",
   "execution_count": 5,
   "metadata": {},
   "outputs": [
    {
     "data": {
      "application/vnd.jupyter.widget-view+json": {
       "model_id": "79fc36cd9cb5435284313ad8de92f32d",
       "version_major": 2,
       "version_minor": 0
      },
      "text/plain": [
       "  0%|          | 0/644 [00:00<?, ?it/s]"
      ]
     },
     "metadata": {},
     "output_type": "display_data"
    },
    {
     "name": "stderr",
     "output_type": "stream",
     "text": [
      "/home/skm/anaconda3/envs/geoai/lib/python3.7/site-packages/geopandas/array.py:93: ShapelyDeprecationWarning: __len__ for multi-part geometries is deprecated and will be removed in Shapely 2.0. Check the length of the `geoms` property instead to get the  number of parts of a multi-part geometry.\n",
      "  aout[:] = out\n",
      "/home/skm/anaconda3/envs/geoai/lib/python3.7/site-packages/geopandas/array.py:93: ShapelyDeprecationWarning: Iteration over multi-part geometries is deprecated and will be removed in Shapely 2.0. Use the `geoms` property to access the constituent parts of a multi-part geometry.\n",
      "  aout[:] = out\n",
      "/home/skm/anaconda3/envs/geoai/lib/python3.7/site-packages/geopandas/array.py:93: ShapelyDeprecationWarning: __len__ for multi-part geometries is deprecated and will be removed in Shapely 2.0. Check the length of the `geoms` property instead to get the  number of parts of a multi-part geometry.\n",
      "  aout[:] = out\n",
      "/home/skm/anaconda3/envs/geoai/lib/python3.7/site-packages/geopandas/array.py:93: ShapelyDeprecationWarning: Iteration over multi-part geometries is deprecated and will be removed in Shapely 2.0. Use the `geoms` property to access the constituent parts of a multi-part geometry.\n",
      "  aout[:] = out\n",
      "/home/skm/anaconda3/envs/geoai/lib/python3.7/site-packages/geopandas/array.py:93: ShapelyDeprecationWarning: __len__ for multi-part geometries is deprecated and will be removed in Shapely 2.0. Check the length of the `geoms` property instead to get the  number of parts of a multi-part geometry.\n",
      "  aout[:] = out\n",
      "/home/skm/anaconda3/envs/geoai/lib/python3.7/site-packages/geopandas/array.py:93: ShapelyDeprecationWarning: Iteration over multi-part geometries is deprecated and will be removed in Shapely 2.0. Use the `geoms` property to access the constituent parts of a multi-part geometry.\n",
      "  aout[:] = out\n",
      "/home/skm/anaconda3/envs/geoai/lib/python3.7/site-packages/geopandas/array.py:93: ShapelyDeprecationWarning: __len__ for multi-part geometries is deprecated and will be removed in Shapely 2.0. Check the length of the `geoms` property instead to get the  number of parts of a multi-part geometry.\n",
      "  aout[:] = out\n",
      "/home/skm/anaconda3/envs/geoai/lib/python3.7/site-packages/geopandas/array.py:93: ShapelyDeprecationWarning: Iteration over multi-part geometries is deprecated and will be removed in Shapely 2.0. Use the `geoms` property to access the constituent parts of a multi-part geometry.\n",
      "  aout[:] = out\n",
      "/home/skm/anaconda3/envs/geoai/lib/python3.7/site-packages/geopandas/array.py:93: ShapelyDeprecationWarning: __len__ for multi-part geometries is deprecated and will be removed in Shapely 2.0. Check the length of the `geoms` property instead to get the  number of parts of a multi-part geometry.\n",
      "  aout[:] = out\n",
      "/home/skm/anaconda3/envs/geoai/lib/python3.7/site-packages/geopandas/array.py:93: ShapelyDeprecationWarning: Iteration over multi-part geometries is deprecated and will be removed in Shapely 2.0. Use the `geoms` property to access the constituent parts of a multi-part geometry.\n",
      "  aout[:] = out\n",
      "/home/skm/anaconda3/envs/geoai/lib/python3.7/site-packages/geopandas/array.py:93: ShapelyDeprecationWarning: __len__ for multi-part geometries is deprecated and will be removed in Shapely 2.0. Check the length of the `geoms` property instead to get the  number of parts of a multi-part geometry.\n",
      "  aout[:] = out\n",
      "/home/skm/anaconda3/envs/geoai/lib/python3.7/site-packages/geopandas/array.py:93: ShapelyDeprecationWarning: Iteration over multi-part geometries is deprecated and will be removed in Shapely 2.0. Use the `geoms` property to access the constituent parts of a multi-part geometry.\n",
      "  aout[:] = out\n",
      "/home/skm/anaconda3/envs/geoai/lib/python3.7/site-packages/geopandas/array.py:93: ShapelyDeprecationWarning: __len__ for multi-part geometries is deprecated and will be removed in Shapely 2.0. Check the length of the `geoms` property instead to get the  number of parts of a multi-part geometry.\n",
      "  aout[:] = out\n",
      "/home/skm/anaconda3/envs/geoai/lib/python3.7/site-packages/geopandas/array.py:93: ShapelyDeprecationWarning: Iteration over multi-part geometries is deprecated and will be removed in Shapely 2.0. Use the `geoms` property to access the constituent parts of a multi-part geometry.\n",
      "  aout[:] = out\n",
      "/home/skm/anaconda3/envs/geoai/lib/python3.7/site-packages/geopandas/array.py:93: ShapelyDeprecationWarning: __len__ for multi-part geometries is deprecated and will be removed in Shapely 2.0. Check the length of the `geoms` property instead to get the  number of parts of a multi-part geometry.\n",
      "  aout[:] = out\n",
      "/home/skm/anaconda3/envs/geoai/lib/python3.7/site-packages/geopandas/array.py:93: ShapelyDeprecationWarning: Iteration over multi-part geometries is deprecated and will be removed in Shapely 2.0. Use the `geoms` property to access the constituent parts of a multi-part geometry.\n",
      "  aout[:] = out\n",
      "/home/skm/anaconda3/envs/geoai/lib/python3.7/site-packages/geopandas/array.py:93: ShapelyDeprecationWarning: __len__ for multi-part geometries is deprecated and will be removed in Shapely 2.0. Check the length of the `geoms` property instead to get the  number of parts of a multi-part geometry.\n",
      "  aout[:] = out\n",
      "/home/skm/anaconda3/envs/geoai/lib/python3.7/site-packages/geopandas/array.py:93: ShapelyDeprecationWarning: Iteration over multi-part geometries is deprecated and will be removed in Shapely 2.0. Use the `geoms` property to access the constituent parts of a multi-part geometry.\n",
      "  aout[:] = out\n",
      "/home/skm/anaconda3/envs/geoai/lib/python3.7/site-packages/geopandas/array.py:93: ShapelyDeprecationWarning: __len__ for multi-part geometries is deprecated and will be removed in Shapely 2.0. Check the length of the `geoms` property instead to get the  number of parts of a multi-part geometry.\n",
      "  aout[:] = out\n",
      "/home/skm/anaconda3/envs/geoai/lib/python3.7/site-packages/geopandas/array.py:93: ShapelyDeprecationWarning: Iteration over multi-part geometries is deprecated and will be removed in Shapely 2.0. Use the `geoms` property to access the constituent parts of a multi-part geometry.\n",
      "  aout[:] = out\n",
      "/home/skm/anaconda3/envs/geoai/lib/python3.7/site-packages/geopandas/array.py:93: ShapelyDeprecationWarning: __len__ for multi-part geometries is deprecated and will be removed in Shapely 2.0. Check the length of the `geoms` property instead to get the  number of parts of a multi-part geometry.\n",
      "  aout[:] = out\n",
      "/home/skm/anaconda3/envs/geoai/lib/python3.7/site-packages/geopandas/array.py:93: ShapelyDeprecationWarning: Iteration over multi-part geometries is deprecated and will be removed in Shapely 2.0. Use the `geoms` property to access the constituent parts of a multi-part geometry.\n",
      "  aout[:] = out\n",
      "/home/skm/anaconda3/envs/geoai/lib/python3.7/site-packages/geopandas/array.py:93: ShapelyDeprecationWarning: __len__ for multi-part geometries is deprecated and will be removed in Shapely 2.0. Check the length of the `geoms` property instead to get the  number of parts of a multi-part geometry.\n",
      "  aout[:] = out\n",
      "/home/skm/anaconda3/envs/geoai/lib/python3.7/site-packages/geopandas/array.py:93: ShapelyDeprecationWarning: Iteration over multi-part geometries is deprecated and will be removed in Shapely 2.0. Use the `geoms` property to access the constituent parts of a multi-part geometry.\n",
      "  aout[:] = out\n",
      "/home/skm/anaconda3/envs/geoai/lib/python3.7/site-packages/geopandas/array.py:93: ShapelyDeprecationWarning: __len__ for multi-part geometries is deprecated and will be removed in Shapely 2.0. Check the length of the `geoms` property instead to get the  number of parts of a multi-part geometry.\n",
      "  aout[:] = out\n",
      "/home/skm/anaconda3/envs/geoai/lib/python3.7/site-packages/geopandas/array.py:93: ShapelyDeprecationWarning: Iteration over multi-part geometries is deprecated and will be removed in Shapely 2.0. Use the `geoms` property to access the constituent parts of a multi-part geometry.\n",
      "  aout[:] = out\n",
      "/home/skm/anaconda3/envs/geoai/lib/python3.7/site-packages/geopandas/array.py:93: ShapelyDeprecationWarning: __len__ for multi-part geometries is deprecated and will be removed in Shapely 2.0. Check the length of the `geoms` property instead to get the  number of parts of a multi-part geometry.\n",
      "  aout[:] = out\n",
      "/home/skm/anaconda3/envs/geoai/lib/python3.7/site-packages/geopandas/array.py:93: ShapelyDeprecationWarning: Iteration over multi-part geometries is deprecated and will be removed in Shapely 2.0. Use the `geoms` property to access the constituent parts of a multi-part geometry.\n",
      "  aout[:] = out\n"
     ]
    }
   ],
   "source": [
    "dir_img = r'/home/skm/SKM16/Work/OpenLand/all_tif'\n",
    "dir_shape = r'/home/skm/SKM16/Work/OpenLand/Lables'\n",
    "list_name_object = ['Buildup', 'Openland', 'Road', 'Water']\n",
    "property_name = 'Class_Name'\n",
    "# out_dir_mask = dir_img + '_mask_all_class'\n",
    "out_dir_mask = r\"/home/skm/SKM16/Work/OpenLand/3_dichHistogram/Image_allLabel\"\n",
    "\n",
    "os.makedirs(out_dir_mask, exist_ok=True)\n",
    "\n",
    "list_fp_shp = glob.glob(os.path.join(dir_shape, '*.shp'))\n",
    "list_fp_tif = glob.glob(os.path.join(dir_img, '*.tif'))\n",
    "\n",
    "with tqdm(total=len(list_fp_shp)*len(list_fp_tif)) as pbar:\n",
    "    for fp_shp in list_fp_shp:\n",
    "        name_f = os.path.basename(fp_shp)[:-4]\n",
    "        for fp_tif in list_fp_tif:\n",
    "            name_img = os.path.basename(fp_tif)\n",
    "            if name_f in fp_tif:\n",
    "                out_path_mask = os.path.join(out_dir_mask, name_img)\n",
    "                create_mask_all(fp_tif, fp_shp, list_name_object, property_name, out_path_mask)\n",
    "            else:\n",
    "                pbar.update(1)\n",
    "                continue\n",
    "            pbar.update(1)"
   ]
  },
  {
   "cell_type": "markdown",
   "metadata": {},
   "source": [
    "## Chuyen mask quan tam ve 255"
   ]
  },
  {
   "cell_type": "code",
   "execution_count": 1,
   "metadata": {},
   "outputs": [
    {
     "data": {
      "application/vnd.jupyter.widget-view+json": {
       "model_id": "ed24949ac9e14370a876f43843c20f63",
       "version_major": 2,
       "version_minor": 0
      },
      "text/plain": [
       "Progress Bar convert 255:   0%|          | 0/7 [00:00<?, ?it/s]"
      ]
     },
     "metadata": {},
     "output_type": "display_data"
    }
   ],
   "source": [
    "import glob\n",
    "import rasterio\n",
    "import numpy as np\n",
    "from tqdm.notebook import tqdm\n",
    "\n",
    "dir_mask_all_class = r\"/home/skm/SKM16/Work/OpenLand/3_dichHistogram/Image_allLabel/MASK_ALL_OK\"\n",
    "# dir_mask_all_class = out_dir_mask\n",
    "\n",
    "class_interests = [4]\n",
    "# name = \"buildUp\"\n",
    "# out_mask_255 = dir_mask_all_class + f'interest_class_{name}'\n",
    "\n",
    "out_mask_255 = r\"/home/skm/SKM16/Work/OpenLand/3_dichHistogram/Training_Water/Img_original_Water_mask\"\n",
    "os.makedirs(out_mask_255, exist_ok=True)\n",
    "\n",
    "list_fp = glob.glob(os.path.join(dir_mask_all_class, '*.tif'))\n",
    "for fp in tqdm(list_fp, desc = 'Progress Bar convert 255: '):\n",
    "    fp_out = os.path.join(out_mask_255, os.path.basename(fp))\n",
    "    with rasterio.open(fp) as src:\n",
    "        meta = src.meta\n",
    "        mask = src.read()\n",
    "    for class_interest in class_interests:\n",
    "        mask[mask != class_interest] = 0\n",
    "    if np.any(mask):\n",
    "        mask[mask == class_interest] = 255\n",
    "        with rasterio.open(fp_out, 'w', **meta) as dst:\n",
    "            dst.write(mask)"
   ]
  },
  {
   "cell_type": "code",
   "execution_count": 2,
   "metadata": {},
   "outputs": [
    {
     "name": "stdout",
     "output_type": "stream",
     "text": [
      "uint8\n",
      "uint8\n",
      "uint8\n",
      "uint8\n",
      "uint8\n",
      "uint8\n"
     ]
    }
   ],
   "source": [
    "# check dtype\n",
    "# dir_mask_all_class = out_mask_255\n",
    "dir_mask_all_class = r\"/home/skm/SKM16/Work/OpenLand/3_dichHistogram/Training_Road/Img_original_Road_mask\"\n",
    "list_fp = glob.glob(os.path.join(dir_mask_all_class, '*.tif'))\n",
    "for fp in list_fp:\n",
    "    with rasterio.open(fp) as src:\n",
    "        meta = src.meta\n",
    "        print(meta['dtype'])"
   ]
  },
  {
   "cell_type": "code",
   "execution_count": 7,
   "metadata": {},
   "outputs": [],
   "source": [
    "import rasterio\n",
    "import numpy as np\n",
    "\n",
    "dir_mask_all_class = r\"/home/skm/SKM16/Work/OpenLand/3_dichHistogram/Image_allLabel/MASK_ALL_OK/20220814_103841_ssc10_u0002_visual.tif\"\n",
    "with rasterio.open(dir_mask_all_class) as src:\n",
    "        meta = src.meta\n",
    "        mask = src.read()\n",
    "a = np.where(mask == 1)\n",
    "b = np.where(mask == 10)"
   ]
  },
  {
   "cell_type": "code",
   "execution_count": 17,
   "metadata": {},
   "outputs": [
    {
     "ename": "AttributeError",
     "evalue": "'tuple' object has no attribute 'size'",
     "output_type": "error",
     "traceback": [
      "\u001b[0;31m---------------------------------------------------------------------------\u001b[0m",
      "\u001b[0;31mAttributeError\u001b[0m                            Traceback (most recent call last)",
      "\u001b[0;32m<ipython-input-17-3903875bd82d>\u001b[0m in \u001b[0;36m<module>\u001b[0;34m\u001b[0m\n\u001b[0;32m----> 1\u001b[0;31m \u001b[0ma\u001b[0m\u001b[0;34m.\u001b[0m\u001b[0msize\u001b[0m\u001b[0;34m\u001b[0m\u001b[0m\n\u001b[0m",
      "\u001b[0;31mAttributeError\u001b[0m: 'tuple' object has no attribute 'size'"
     ]
    }
   ],
   "source": [
    "a.size"
   ]
  },
  {
   "cell_type": "code",
   "execution_count": 9,
   "metadata": {},
   "outputs": [
    {
     "data": {
      "text/plain": [
       "(array([], dtype=int64), array([], dtype=int64), array([], dtype=int64))"
      ]
     },
     "execution_count": 9,
     "metadata": {},
     "output_type": "execute_result"
    }
   ],
   "source": [
    "b"
   ]
  },
  {
   "cell_type": "code",
   "execution_count": 11,
   "metadata": {},
   "outputs": [
    {
     "data": {
      "text/plain": [
       "3"
      ]
     },
     "execution_count": 11,
     "metadata": {},
     "output_type": "execute_result"
    }
   ],
   "source": [
    "len(b)"
   ]
  },
  {
   "cell_type": "code",
   "execution_count": 15,
   "metadata": {},
   "outputs": [
    {
     "data": {
      "text/plain": [
       "tuple"
      ]
     },
     "execution_count": 15,
     "metadata": {},
     "output_type": "execute_result"
    }
   ],
   "source": [
    "type(a)"
   ]
  },
  {
   "cell_type": "code",
   "execution_count": 14,
   "metadata": {},
   "outputs": [
    {
     "data": {
      "text/plain": [
       "tuple"
      ]
     },
     "execution_count": 14,
     "metadata": {},
     "output_type": "execute_result"
    }
   ],
   "source": [
    "type(b)"
   ]
  },
  {
   "cell_type": "code",
   "execution_count": 16,
   "metadata": {},
   "outputs": [
    {
     "data": {
      "text/plain": [
       "(array([0, 0, 0, ..., 0, 0, 0]),\n",
       " array([  754,   755,   755, ..., 26733, 26733, 26733]),\n",
       " array([ 3659,  3655,  3656, ..., 13401, 13402, 13403]))"
      ]
     },
     "execution_count": 16,
     "metadata": {},
     "output_type": "execute_result"
    }
   ],
   "source": []
  },
  {
   "cell_type": "code",
   "execution_count": null,
   "metadata": {},
   "outputs": [],
   "source": []
  }
 ],
 "metadata": {
  "kernelspec": {
   "display_name": "Python 3.7.0 ('geoai')",
   "language": "python",
   "name": "python3"
  },
  "language_info": {
   "codemirror_mode": {
    "name": "ipython",
    "version": 3
   },
   "file_extension": ".py",
   "mimetype": "text/x-python",
   "name": "python",
   "nbconvert_exporter": "python",
   "pygments_lexer": "ipython3",
   "version": "3.7.0"
  },
  "orig_nbformat": 4,
  "vscode": {
   "interpreter": {
    "hash": "1bff4993b5c6f9c50422f70b2dd5a13ec694dfd7dde205c6b1afc92728df224a"
   }
  }
 },
 "nbformat": 4,
 "nbformat_minor": 2
}
