{
 "cells": [
  {
   "cell_type": "code",
   "execution_count": 7,
   "metadata": {},
   "outputs": [],
   "source": [
    "import os, glob\n",
    "import rasterio\n",
    "import numpy as np\n",
    "# from tqdm import tqdm\n",
    "from rasterio.windows import Window\n",
    "from tqdm.notebook import tqdm_notebook"
   ]
  },
  {
   "cell_type": "code",
   "execution_count": 8,
   "metadata": {},
   "outputs": [],
   "source": [
    "def check_label_percent(mask, crop_size, percent):\n",
    "    mask[mask!=0]==1\n",
    "    label_number = np.sum(mask)\n",
    "    label_per = label_number/(crop_size**2)\n",
    "    if label_per < percent:\n",
    "        return False\n",
    "    else:\n",
    "        return True"
   ]
  },
  {
   "cell_type": "code",
   "execution_count": 9,
   "metadata": {},
   "outputs": [],
   "source": [
    "def crop_img_stride(image_path, outdir_crop, crop_size, stride_size):\n",
    "    name_base = os.path.basename(image_path)\n",
    "    i = 0\n",
    "    with rasterio.open(image_path) as src:\n",
    "        h,w = src.height,src.width\n",
    "        meta = src.meta\n",
    "        list_weight = list(range(0, w, stride_size))\n",
    "        list_hight = list(range(0, h, stride_size))\n",
    "        for start_h_org in list_hight:\n",
    "            for start_w_org in list_weight:\n",
    "                win = Window(start_w_org, start_h_org, crop_size, crop_size)\n",
    "                img_window_crop  = src.read(window=win)\n",
    "                win_transform = src.window_transform(win)\n",
    "                meta.update({'height': crop_size, 'width': crop_size, 'transform':win_transform, 'nodata': 0})\n",
    "                name_file = name_base.replace(\".tif\", f\"_{i}.tif\")\n",
    "                fp_out = os.path.join(outdir_crop, name_file)\n",
    "                with rasterio.open(fp_out, 'w',**meta) as dst:\n",
    "                    dst.write(img_window_crop, window=Window(0, 0, img_window_crop.shape[2], img_window_crop.shape[1]))\n",
    "                i+=1\n",
    "\n"
   ]
  },
  {
   "cell_type": "code",
   "execution_count": 10,
   "metadata": {},
   "outputs": [],
   "source": [
    "def write_win(img_window_crop, src_img, win, crop_size, fp_out):\n",
    "    win_transform = src_img.window_transform(win)\n",
    "    meta = src_img.meta\n",
    "    meta.update({'height': crop_size, 'width': crop_size, 'transform':win_transform, 'nodata': 0})\n",
    "    with rasterio.open(fp_out, 'w',**meta) as dst:\n",
    "        dst.write(img_window_crop, window=Window(0, 0, img_window_crop.shape[2], img_window_crop.shape[1]))"
   ]
  },
  {
   "cell_type": "code",
   "execution_count": 11,
   "metadata": {},
   "outputs": [],
   "source": [
    "def crop_img_and_mask_stride(fp_img, fp_mask, dir_out_img, dir_out_mask, crop_size, stride_size, percent=None):\n",
    "    name_base = os.path.basename(fp_mask)\n",
    "    i = 0\n",
    "    check = True\n",
    "    with rasterio.open(fp_mask) as src_mask:\n",
    "        h,w = src_mask.height,src_mask.width\n",
    "        meta_mask = src_mask.meta\n",
    "        if np.all(src_mask.read() == 0):\n",
    "            check = False\n",
    "            stride_size = crop_size\n",
    "        with rasterio.open(fp_img) as src_img:\n",
    "            meta_img = src_img.meta\n",
    "            list_weight = list(range(0, w, stride_size))\n",
    "            list_hight = list(range(0, h, stride_size))\n",
    "            \n",
    "            pbar = tqdm_notebook(total=len(list_hight)*len(list_weight), desc=f'{name_base}')\n",
    "            for start_h_org in list_hight:\n",
    "                for start_w_org in list_weight:\n",
    "                    name_file = name_base.replace(\".tif\", f\"_{i}.tif\")\n",
    "                    fp_img_crop = os.path.join(dir_out_img, name_file)\n",
    "                    fp_mask_crop = os.path.join(dir_out_mask, name_file)\n",
    "\n",
    "                    win = Window(start_w_org, start_h_org, crop_size, crop_size)\n",
    "                    mask_window_crop  = src_mask.read(window=win)\n",
    "\n",
    "                    if check:\n",
    "                        if np.all(mask_window_crop == 0):\n",
    "                            # print(1)\n",
    "                            pbar.update(1)\n",
    "                            continue\n",
    "                        else:\n",
    "                            if percent and check_label_percent(mask_window_crop, crop_size, percent):\n",
    "                                write_win(mask_window_crop, src_mask, win, crop_size, fp_mask_crop)\n",
    "                                img_window_crop = src_img.read(window=win)\n",
    "                                write_win(img_window_crop, src_img, win, crop_size, fp_img_crop)\n",
    "                                i+=1\n",
    "                                # print(2)\n",
    "                                pbar.update(1)\n",
    "                            else:\n",
    "                                pbar.update(1)\n",
    "                                continue\n",
    "\n",
    "                    else:\n",
    "                        write_win(mask_window_crop, src_mask, win, crop_size, fp_mask_crop)\n",
    "                        img_window_crop = src_img.read(window=win)\n",
    "                        write_win(img_window_crop, src_img, win, crop_size, fp_img_crop)\n",
    "                        i+=1\n",
    "                        # print(3)\n",
    "                    pbar.update(1)\n",
    "            pbar.close()\n",
    "                                                                   "
   ]
  },
  {
   "cell_type": "code",
   "execution_count": 12,
   "metadata": {},
   "outputs": [],
   "source": [
    "def crop_img_and_mask(dir_img, dir_mask, dir_out, crop_size, stride_size, percent = None):\n",
    "    if percent:\n",
    "        name_img_folder = f\"img_crop_{int(percent*100)}per\"\n",
    "        name_mask_folder = f\"mask_crop_{int(percent*100)}per\"\n",
    "    else:\n",
    "        name_img_folder = f\"img_crop\"\n",
    "        name_mask_folder = f\"mask_crop\"\n",
    "    dir_out_img = os.path.join(dir_out, name_img_folder)\n",
    "    dir_out_mask = os.path.join(dir_out, name_mask_folder)\n",
    "    if not os.path.exists(dir_out_img):\n",
    "        os.makedirs(dir_out_img)\n",
    "    if not os.path.exists(dir_out_mask):\n",
    "        os.makedirs(dir_out_mask)\n",
    "\n",
    "    list_img = glob.glob(os.path.join(dir_img, '*.tif'))\n",
    "    for fp_img in tqdm_notebook(list_img, desc = 'Number image'):\n",
    "        base_name = os.path.basename(fp_img)\n",
    "        fp_mask = os.path.join(dir_mask, base_name)\n",
    "        crop_img_and_mask_stride(fp_img, fp_mask, dir_out_img, dir_out_mask, crop_size, stride_size, percent)\n",
    "    \n",
    "    print('DONE ...')\n",
    "    return dir_out_img, dir_out_mask\n"
   ]
  },
  {
   "cell_type": "code",
   "execution_count": 13,
   "metadata": {},
   "outputs": [
    {
     "data": {
      "application/vnd.jupyter.widget-view+json": {
       "model_id": "847b57a5f2bf431a83e2e1119008f79c",
       "version_major": 2,
       "version_minor": 0
      },
      "text/plain": [
       "Number image:   0%|          | 0/40 [00:00<?, ?it/s]"
      ]
     },
     "metadata": {},
     "output_type": "display_data"
    },
    {
     "data": {
      "application/vnd.jupyter.widget-view+json": {
       "model_id": "9116b88b2ad448e0bef51e41cfb4fb82",
       "version_major": 2,
       "version_minor": 0
      },
      "text/plain": [
       "20220821_064400_ssc13_u0001_visual_0.tif:   0%|          | 0/143 [00:00<?, ?it/s]"
      ]
     },
     "metadata": {},
     "output_type": "display_data"
    },
    {
     "data": {
      "application/vnd.jupyter.widget-view+json": {
       "model_id": "0078c5140f804028a243f33b34e8da28",
       "version_major": 2,
       "version_minor": 0
      },
      "text/plain": [
       "20220404_132910_ssc17_u0001_visual_clip_0.tif:   0%|          | 0/1800 [00:00<?, ?it/s]"
      ]
     },
     "metadata": {},
     "output_type": "display_data"
    },
    {
     "data": {
      "application/vnd.jupyter.widget-view+json": {
       "model_id": "99bb86b7c0384bffb01a8f14bc82c328",
       "version_major": 2,
       "version_minor": 0
      },
      "text/plain": [
       "20220404_132910_ssc17_u0001_visual_clip_1.tif:   0%|          | 0/88 [00:00<?, ?it/s]"
      ]
     },
     "metadata": {},
     "output_type": "display_data"
    },
    {
     "data": {
      "application/vnd.jupyter.widget-view+json": {
       "model_id": "ae604301dac94312bebe11f4243dd523",
       "version_major": 2,
       "version_minor": 0
      },
      "text/plain": [
       "20220404_132910_ssc17_u0001_visual_clip_2.tif:   0%|          | 0/88 [00:00<?, ?it/s]"
      ]
     },
     "metadata": {},
     "output_type": "display_data"
    },
    {
     "data": {
      "application/vnd.jupyter.widget-view+json": {
       "model_id": "6c07e2272ece49edb66592865e969546",
       "version_major": 2,
       "version_minor": 0
      },
      "text/plain": [
       "20220813_070232_ssc12_u0001_visual_0.tif:   0%|          | 0/15 [00:00<?, ?it/s]"
      ]
     },
     "metadata": {},
     "output_type": "display_data"
    },
    {
     "data": {
      "application/vnd.jupyter.widget-view+json": {
       "model_id": "3690e835e53f47f0bb5805834eab2245",
       "version_major": 2,
       "version_minor": 0
      },
      "text/plain": [
       "20220813_070232_ssc12_u0001_visual_1.tif:   0%|          | 0/15 [00:00<?, ?it/s]"
      ]
     },
     "metadata": {},
     "output_type": "display_data"
    },
    {
     "data": {
      "application/vnd.jupyter.widget-view+json": {
       "model_id": "ea1dd49c1ab344c5957119e5d795f6b9",
       "version_major": 2,
       "version_minor": 0
      },
      "text/plain": [
       "20220813_070232_ssc12_u0001_visual_2.tif:   0%|          | 0/4 [00:00<?, ?it/s]"
      ]
     },
     "metadata": {},
     "output_type": "display_data"
    },
    {
     "data": {
      "application/vnd.jupyter.widget-view+json": {
       "model_id": "573e08e77f2a43378a4ab340674ad877",
       "version_major": 2,
       "version_minor": 0
      },
      "text/plain": [
       "20220813_070232_ssc12_u0001_visual_3.tif:   0%|          | 0/6 [00:00<?, ?it/s]"
      ]
     },
     "metadata": {},
     "output_type": "display_data"
    },
    {
     "data": {
      "application/vnd.jupyter.widget-view+json": {
       "model_id": "b70a384cea8a468c954c98c32ff7161d",
       "version_major": 2,
       "version_minor": 0
      },
      "text/plain": [
       "20220813_070232_ssc12_u0001_visual_4.tif:   0%|          | 0/12 [00:00<?, ?it/s]"
      ]
     },
     "metadata": {},
     "output_type": "display_data"
    },
    {
     "data": {
      "application/vnd.jupyter.widget-view+json": {
       "model_id": "3596bbf39bc04e7d8797a1680dec8838",
       "version_major": 2,
       "version_minor": 0
      },
      "text/plain": [
       "20220813_070232_ssc12_u0001_visual_5.tif:   0%|          | 0/56 [00:00<?, ?it/s]"
      ]
     },
     "metadata": {},
     "output_type": "display_data"
    },
    {
     "data": {
      "application/vnd.jupyter.widget-view+json": {
       "model_id": "cc99e98055ba4048a54b755d21c555d9",
       "version_major": 2,
       "version_minor": 0
      },
      "text/plain": [
       "20220813_070232_ssc12_u0001_visual_6.tif:   0%|          | 0/30 [00:00<?, ?it/s]"
      ]
     },
     "metadata": {},
     "output_type": "display_data"
    },
    {
     "data": {
      "application/vnd.jupyter.widget-view+json": {
       "model_id": "cb6a5145667e406a9acacf28cbb93132",
       "version_major": 2,
       "version_minor": 0
      },
      "text/plain": [
       "20220813_070232_ssc12_u0001_visual_7.tif:   0%|          | 0/80 [00:00<?, ?it/s]"
      ]
     },
     "metadata": {},
     "output_type": "display_data"
    },
    {
     "data": {
      "application/vnd.jupyter.widget-view+json": {
       "model_id": "653fb26ca7954bbd841cf93bcde339b2",
       "version_major": 2,
       "version_minor": 0
      },
      "text/plain": [
       "20220813_070232_ssc12_u0001_visual_8.tif:   0%|          | 0/24 [00:00<?, ?it/s]"
      ]
     },
     "metadata": {},
     "output_type": "display_data"
    },
    {
     "data": {
      "application/vnd.jupyter.widget-view+json": {
       "model_id": "7f09c0c54d24477e962498935b06ee6f",
       "version_major": 2,
       "version_minor": 0
      },
      "text/plain": [
       "20220814_065546_ssc2_u0001_visual_0.tif:   0%|          | 0/204 [00:00<?, ?it/s]"
      ]
     },
     "metadata": {},
     "output_type": "display_data"
    },
    {
     "data": {
      "application/vnd.jupyter.widget-view+json": {
       "model_id": "71f8ed4026c5466f9fb2841543982ca7",
       "version_major": 2,
       "version_minor": 0
      },
      "text/plain": [
       "20220814_065546_ssc2_u0001_visual_1.tif:   0%|          | 0/88 [00:00<?, ?it/s]"
      ]
     },
     "metadata": {},
     "output_type": "display_data"
    },
    {
     "data": {
      "application/vnd.jupyter.widget-view+json": {
       "model_id": "ca015764f9274b41a35f45168454524c",
       "version_major": 2,
       "version_minor": 0
      },
      "text/plain": [
       "20220814_065546_ssc2_u0001_visual_2.tif:   0%|          | 0/54 [00:00<?, ?it/s]"
      ]
     },
     "metadata": {},
     "output_type": "display_data"
    },
    {
     "data": {
      "application/vnd.jupyter.widget-view+json": {
       "model_id": "722edd96dc6d4abdbc04523af45f514e",
       "version_major": 2,
       "version_minor": 0
      },
      "text/plain": [
       "20220814_065546_ssc2_u0001_visual_3.tif:   0%|          | 0/77 [00:00<?, ?it/s]"
      ]
     },
     "metadata": {},
     "output_type": "display_data"
    },
    {
     "data": {
      "application/vnd.jupyter.widget-view+json": {
       "model_id": "ecfc3dc4236b46a29c3a2ff9d608d68a",
       "version_major": 2,
       "version_minor": 0
      },
      "text/plain": [
       "20220814_065546_ssc2_u0001_visual_4.tif:   0%|          | 0/25 [00:00<?, ?it/s]"
      ]
     },
     "metadata": {},
     "output_type": "display_data"
    },
    {
     "data": {
      "application/vnd.jupyter.widget-view+json": {
       "model_id": "2028b4f69b734520aed2cae9cda1a717",
       "version_major": 2,
       "version_minor": 0
      },
      "text/plain": [
       "20220815_103905_ssc7_u0001_visual_0.tif:   0%|          | 0/255 [00:00<?, ?it/s]"
      ]
     },
     "metadata": {},
     "output_type": "display_data"
    },
    {
     "data": {
      "application/vnd.jupyter.widget-view+json": {
       "model_id": "0c55a835a3574141aad4d50d3570d8a9",
       "version_major": 2,
       "version_minor": 0
      },
      "text/plain": [
       "20220815_103905_ssc7_u0001_visual_1.tif:   0%|          | 0/120 [00:00<?, ?it/s]"
      ]
     },
     "metadata": {},
     "output_type": "display_data"
    },
    {
     "data": {
      "application/vnd.jupyter.widget-view+json": {
       "model_id": "a618782555cf498089a5df4a4b5dd0fb",
       "version_major": 2,
       "version_minor": 0
      },
      "text/plain": [
       "20220815_103905_ssc7_u0001_visual_2.tif:   0%|          | 0/420 [00:00<?, ?it/s]"
      ]
     },
     "metadata": {},
     "output_type": "display_data"
    },
    {
     "data": {
      "application/vnd.jupyter.widget-view+json": {
       "model_id": "5dc85fb277444763914fdd3f6fc95854",
       "version_major": 2,
       "version_minor": 0
      },
      "text/plain": [
       "20220815_103905_ssc7_u0001_visual_3.tif:   0%|          | 0/143 [00:00<?, ?it/s]"
      ]
     },
     "metadata": {},
     "output_type": "display_data"
    },
    {
     "data": {
      "application/vnd.jupyter.widget-view+json": {
       "model_id": "6e09848cad5c4bd6ac41b556c432ae0f",
       "version_major": 2,
       "version_minor": 0
      },
      "text/plain": [
       "20220815_103905_ssc7_u0001_visual_4.tif:   0%|          | 0/210 [00:00<?, ?it/s]"
      ]
     },
     "metadata": {},
     "output_type": "display_data"
    },
    {
     "data": {
      "application/vnd.jupyter.widget-view+json": {
       "model_id": "da448b5e470c479bb00d8f65e8c9d75b",
       "version_major": 2,
       "version_minor": 0
      },
      "text/plain": [
       "20220821_064400_ssc13_u0001_visual_1.tif:   0%|          | 0/108 [00:00<?, ?it/s]"
      ]
     },
     "metadata": {},
     "output_type": "display_data"
    },
    {
     "data": {
      "application/vnd.jupyter.widget-view+json": {
       "model_id": "cda9ec7c860b4ebbb928f6e7cdd69c24",
       "version_major": 2,
       "version_minor": 0
      },
      "text/plain": [
       "20220821_064400_ssc13_u0001_visual_2.tif:   0%|          | 0/24 [00:00<?, ?it/s]"
      ]
     },
     "metadata": {},
     "output_type": "display_data"
    },
    {
     "data": {
      "application/vnd.jupyter.widget-view+json": {
       "model_id": "3b6bfa9784cf4e04a18f1584674f119e",
       "version_major": 2,
       "version_minor": 0
      },
      "text/plain": [
       "20220821_064400_ssc13_u0001_visual_3.tif:   0%|          | 0/120 [00:00<?, ?it/s]"
      ]
     },
     "metadata": {},
     "output_type": "display_data"
    },
    {
     "data": {
      "application/vnd.jupyter.widget-view+json": {
       "model_id": "2e25b6324c01435cb4c6a7a0cac4c77b",
       "version_major": 2,
       "version_minor": 0
      },
      "text/plain": [
       "20220821_064400_ssc13_u0001_visual_4.tif:   0%|          | 0/10 [00:00<?, ?it/s]"
      ]
     },
     "metadata": {},
     "output_type": "display_data"
    },
    {
     "data": {
      "application/vnd.jupyter.widget-view+json": {
       "model_id": "295b9f6488ad4349b1ed50b226580f09",
       "version_major": 2,
       "version_minor": 0
      },
      "text/plain": [
       "20220821_064400_ssc13_u0001_visual_5.tif:   0%|          | 0/20 [00:00<?, ?it/s]"
      ]
     },
     "metadata": {},
     "output_type": "display_data"
    },
    {
     "data": {
      "application/vnd.jupyter.widget-view+json": {
       "model_id": "9982a4f5951f465e8c73ca6f49c17824",
       "version_major": 2,
       "version_minor": 0
      },
      "text/plain": [
       "20220821_064400_ssc13_u0001_visual_6.tif:   0%|          | 0/20 [00:00<?, ?it/s]"
      ]
     },
     "metadata": {},
     "output_type": "display_data"
    },
    {
     "data": {
      "application/vnd.jupyter.widget-view+json": {
       "model_id": "457f2fe94662449580058a36666c7668",
       "version_major": 2,
       "version_minor": 0
      },
      "text/plain": [
       "20220821_064400_ssc13_u0001_visual_7.tif:   0%|          | 0/132 [00:00<?, ?it/s]"
      ]
     },
     "metadata": {},
     "output_type": "display_data"
    },
    {
     "data": {
      "application/vnd.jupyter.widget-view+json": {
       "model_id": "0c9b5e8729014abc9909a70961af8bf9",
       "version_major": 2,
       "version_minor": 0
      },
      "text/plain": [
       "20220821_064432_ssc13_u0002_visual_0.tif:   0%|          | 0/80 [00:00<?, ?it/s]"
      ]
     },
     "metadata": {},
     "output_type": "display_data"
    },
    {
     "data": {
      "application/vnd.jupyter.widget-view+json": {
       "model_id": "0af88927808b4148b813bd9543cfbd8d",
       "version_major": 2,
       "version_minor": 0
      },
      "text/plain": [
       "20220821_064432_ssc13_u0002_visual_1.tif:   0%|          | 0/24 [00:00<?, ?it/s]"
      ]
     },
     "metadata": {},
     "output_type": "display_data"
    },
    {
     "data": {
      "application/vnd.jupyter.widget-view+json": {
       "model_id": "a3813cc59d8e4c72831d7f590e2f9df0",
       "version_major": 2,
       "version_minor": 0
      },
      "text/plain": [
       "20220821_064432_ssc13_u0002_visual_2.tif:   0%|          | 0/80 [00:00<?, ?it/s]"
      ]
     },
     "metadata": {},
     "output_type": "display_data"
    },
    {
     "data": {
      "application/vnd.jupyter.widget-view+json": {
       "model_id": "9f94a14ba9434dbe91eebaa1e83c9985",
       "version_major": 2,
       "version_minor": 0
      },
      "text/plain": [
       "20220821_064432_ssc13_u0002_visual_3.tif:   0%|          | 0/30 [00:00<?, ?it/s]"
      ]
     },
     "metadata": {},
     "output_type": "display_data"
    },
    {
     "data": {
      "application/vnd.jupyter.widget-view+json": {
       "model_id": "dcb7a904d5b44a37beae8b9f55eb5970",
       "version_major": 2,
       "version_minor": 0
      },
      "text/plain": [
       "20220821_064432_ssc13_u0002_visual_4.tif:   0%|          | 0/72 [00:00<?, ?it/s]"
      ]
     },
     "metadata": {},
     "output_type": "display_data"
    },
    {
     "data": {
      "application/vnd.jupyter.widget-view+json": {
       "model_id": "4ac7868eef624cdbaaa7dae013136814",
       "version_major": 2,
       "version_minor": 0
      },
      "text/plain": [
       "20220821_064432_ssc13_u0002_visual_5.tif:   0%|          | 0/56 [00:00<?, ?it/s]"
      ]
     },
     "metadata": {},
     "output_type": "display_data"
    },
    {
     "data": {
      "application/vnd.jupyter.widget-view+json": {
       "model_id": "b055de14a07349fdaa3b63bdb5b5f5a0",
       "version_major": 2,
       "version_minor": 0
      },
      "text/plain": [
       "20220821_103012_ssc11_u0001_visual_0.tif:   0%|          | 0/88 [00:00<?, ?it/s]"
      ]
     },
     "metadata": {},
     "output_type": "display_data"
    },
    {
     "data": {
      "application/vnd.jupyter.widget-view+json": {
       "model_id": "88f7b5793ce24e0aa9c10119965d3077",
       "version_major": 2,
       "version_minor": 0
      },
      "text/plain": [
       "20220821_103012_ssc11_u0001_visual_1.tif:   0%|          | 0/120 [00:00<?, ?it/s]"
      ]
     },
     "metadata": {},
     "output_type": "display_data"
    },
    {
     "data": {
      "application/vnd.jupyter.widget-view+json": {
       "model_id": "8fda3c2e1eb8432a94955c307486dae3",
       "version_major": 2,
       "version_minor": 0
      },
      "text/plain": [
       "20220821_103012_ssc11_u0001_visual_2.tif:   0%|          | 0/24 [00:00<?, ?it/s]"
      ]
     },
     "metadata": {},
     "output_type": "display_data"
    },
    {
     "data": {
      "application/vnd.jupyter.widget-view+json": {
       "model_id": "98d1595925c24aed8d771e628c479550",
       "version_major": 2,
       "version_minor": 0
      },
      "text/plain": [
       "20220821_103012_ssc11_u0001_visual_3.tif:   0%|          | 0/9 [00:00<?, ?it/s]"
      ]
     },
     "metadata": {},
     "output_type": "display_data"
    },
    {
     "name": "stdout",
     "output_type": "stream",
     "text": [
      "DONE ...\n"
     ]
    }
   ],
   "source": [
    "from datetime import datetime\n",
    "now = datetime.today().strftime('%Y-%m-%d_%H-%M-%S')\n",
    "\n",
    "# crop_size = 256\n",
    "# stride_size = 64\n",
    "# percent = 0.15\n",
    "# dir_img = r\"/home/skm/SKM16/Work/SonalPanel_ThaiLand/2Ver3_nghiemchinh/Data_Train_and_Model/images_per95_cut_img\"\n",
    "# dir_mask = r\"/home/skm/SKM16/Work/SonalPanel_ThaiLand/2Ver3_nghiemchinh/Data_Train_and_Model/images_per95_cut_img_mask\"\n",
    "# dir_out = r\"/home/skm/SKM16/Work/SonalPanel_ThaiLand/2Ver3_nghiemchinh/Data_Train_and_Model/crop256_stride64_giamanhden\"\n",
    "# dir_out_img, dir_out_mask = crop_img_and_mask(dir_img, dir_mask, dir_out, crop_size, stride_size, percent)\n",
    "\n",
    "\n",
    "# crop_size = 512\n",
    "# stride_size = 256\n",
    "# percent = 0.15\n",
    "# dir_img = r\"/home/skm/SKM16/Work/OpenLand/1_Data_train/img_train__khoang_255/img\"\n",
    "# dir_mask = r\"/home/skm/SKM16/Work/OpenLand/1_Data_train/img_train__khoang_255/mask\"\n",
    "# dir_out = f\"/home/skm/SKM16/Work/OpenLand/1_Data_train/img_train__khoang_255/DS_Train/crop{crop_size}_stride{stride_size}_{now}_chia_histogram\"\n",
    "# dir_out_img, dir_out_mask = crop_img_and_mask(dir_img, dir_mask, dir_out, crop_size, stride_size, percent)\n",
    "\n",
    "crop_size = 512\n",
    "stride_size = 256\n",
    "percent = 0.15\n",
    "dir_img = r\"/home/skm/SKM16/Work/OpenLand/2_Data_train_with_dich_histogram/Data_Train_and_Model/img_dich_cut_img\"\n",
    "dir_mask = r\"/home/skm/SKM16/Work/OpenLand/2_Data_train_with_dich_histogram/Data_Train_and_Model/img_dich_cut_img_mask\"\n",
    "dir_out = f\"/home/skm/SKM16/Work/OpenLand/2_Data_train_with_dich_histogram/Data_Train_and_Model/DS_Train/crop{crop_size}_stride{stride_size}_{now}_chia_histogram\"\n",
    "dir_out_img, dir_out_mask = crop_img_and_mask(dir_img, dir_mask, dir_out, crop_size, stride_size, percent)"
   ]
  },
  {
   "cell_type": "code",
   "execution_count": 14,
   "metadata": {},
   "outputs": [
    {
     "name": "stdout",
     "output_type": "stream",
     "text": [
      "4330\n",
      "4330\n"
     ]
    }
   ],
   "source": [
    "import glob\n",
    "print(len(glob.glob(os.path.join(dir_out_img,\"*.tif\"))))\n",
    "print(len(glob.glob(os.path.join(dir_out_mask,\"*.tif\"))))"
   ]
  },
  {
   "cell_type": "markdown",
   "metadata": {},
   "source": [
    "## Crop only image"
   ]
  },
  {
   "cell_type": "code",
   "execution_count": 11,
   "metadata": {},
   "outputs": [],
   "source": [
    "import os, glob\n",
    "import rasterio\n",
    "import numpy as np\n",
    "from rasterio.windows import Window\n",
    "from tqdm.notebook import tqdm_notebook\n",
    "\n",
    "def crop_img_stride(fp_img, dir_out_img, crop_size, stride_size):\n",
    "    name_base = os.path.basename(fp_img)\n",
    "    with rasterio.open(fp_img) as src_img:\n",
    "        meta_img = src_img.meta\n",
    "        w = src_img.width\n",
    "        h = src_img.height\n",
    "\n",
    "        list_weight = list(range(0, w, stride_size))\n",
    "        list_hight = list(range(0, h, stride_size))\n",
    "        pbar = tqdm_notebook(total=len(list_hight)*len(list_weight), desc=f'{name_base}')\n",
    "        for start_h_org in list_hight:\n",
    "            for start_w_org in list_weight:\n",
    "                name_file = name_base.replace(\".tif\", f\"_w{start_h_org}_h{start_w_org}.tif\")\n",
    "                fp_img_crop = os.path.join(dir_out_img, name_file)\n",
    "                win = Window(start_w_org, start_h_org, crop_size, crop_size)\n",
    "\n",
    "                img_window_crop  = src_img.read(window=win)\n",
    "                write_win(img_window_crop, src_img, win, crop_size, fp_img_crop)\n",
    "                pbar.update(1)\n",
    "        pbar.close()\n",
    "    return name_base.replace(\".tif\",\"\")\n",
    "\n",
    "\n",
    "def crop_dir_img(dir_img, dir_out, crop_size, stride_size):\n",
    "    name_img_folder = f\"img_crop{crop_size}_str{stride_size}\"\n",
    "    dir_out_img = os.path.join(dir_out, name_img_folder)\n",
    "    if not os.path.exists(dir_out_img):\n",
    "        os.makedirs(dir_out_img)\n",
    "\n",
    "    list_img = glob.glob(os.path.join(dir_img, '*.tif'))\n",
    "    for fp_img in tqdm_notebook(list_img, desc = 'Number image'):\n",
    "        base_name = os.path.basename(fp_img)\n",
    "        crop_img_stride(fp_img, dir_out_img, crop_size, stride_size)\n",
    "    print('DONE ...')\n",
    "                        "
   ]
  },
  {
   "cell_type": "code",
   "execution_count": 12,
   "metadata": {},
   "outputs": [
    {
     "data": {
      "application/vnd.jupyter.widget-view+json": {
       "model_id": "4fba6a821bd240bd82efbc1338ddd5aa",
       "version_major": 2,
       "version_minor": 0
      },
      "text/plain": [
       "Number image:   0%|          | 0/6 [00:00<?, ?it/s]"
      ]
     },
     "metadata": {},
     "output_type": "display_data"
    },
    {
     "data": {
      "application/vnd.jupyter.widget-view+json": {
       "model_id": "377999f33137448d8a8bf1119e5192b1",
       "version_major": 2,
       "version_minor": 0
      },
      "text/plain": [
       "01_July_Mosaic_P_2.tif:   0%|          | 0/3224 [00:00<?, ?it/s]"
      ]
     },
     "metadata": {},
     "output_type": "display_data"
    },
    {
     "data": {
      "application/vnd.jupyter.widget-view+json": {
       "model_id": "be0d5e4816374af9a3aeaab7c0bfb7bc",
       "version_major": 2,
       "version_minor": 0
      },
      "text/plain": [
       "01_July_Mosaic_P_3.tif:   0%|          | 0/2726 [00:00<?, ?it/s]"
      ]
     },
     "metadata": {},
     "output_type": "display_data"
    },
    {
     "data": {
      "application/vnd.jupyter.widget-view+json": {
       "model_id": "26971dc611974244907e1535674e6c23",
       "version_major": 2,
       "version_minor": 0
      },
      "text/plain": [
       "01_July_Mosaic_P_4.tif:   0%|          | 0/2773 [00:00<?, ?it/s]"
      ]
     },
     "metadata": {},
     "output_type": "display_data"
    },
    {
     "data": {
      "application/vnd.jupyter.widget-view+json": {
       "model_id": "f3c561794a534150b401abe3c08add33",
       "version_major": 2,
       "version_minor": 0
      },
      "text/plain": [
       "01_July_Mosaic_P_5.tif:   0%|          | 0/2940 [00:00<?, ?it/s]"
      ]
     },
     "metadata": {},
     "output_type": "display_data"
    },
    {
     "data": {
      "application/vnd.jupyter.widget-view+json": {
       "model_id": "52d9b2bacb5f4578a0c6e7f3c8a54a68",
       "version_major": 2,
       "version_minor": 0
      },
      "text/plain": [
       "01_July_Mosaic_P_6.tif:   0%|          | 0/3192 [00:00<?, ?it/s]"
      ]
     },
     "metadata": {},
     "output_type": "display_data"
    },
    {
     "data": {
      "application/vnd.jupyter.widget-view+json": {
       "model_id": "dad321b2d0c44e08b198b9e310893000",
       "version_major": 2,
       "version_minor": 0
      },
      "text/plain": [
       "02_May_Mosaic_P_2.tif:   0%|          | 0/5103 [00:00<?, ?it/s]"
      ]
     },
     "metadata": {},
     "output_type": "display_data"
    },
    {
     "name": "stdout",
     "output_type": "stream",
     "text": [
      "DONE ...\n"
     ]
    }
   ],
   "source": [
    "crop_size = 512\n",
    "stride_size = 256\n",
    "dir_img = r\"/home/skm/SKM16/Work/SonalPanel_ThaiLand/1Ver2_lable2/V2/image_8bit_perimage_p98\"\n",
    "dir_out = r\"/home/skm/SKM16/Work/SonalPanel_ThaiLand/1Ver2_lable2/V2/image_8bit_perimage_p98/tmp_forpredict_big\"\n",
    "# crop_img_and_mask(dir_img, dir_mask, dir_out, crop_size, stride_size, percent)\n",
    "crop_dir_img(dir_img, dir_out, crop_size, stride_size)"
   ]
  },
  {
   "cell_type": "code",
   "execution_count": null,
   "metadata": {},
   "outputs": [],
   "source": []
  }
 ],
 "metadata": {
  "kernelspec": {
   "display_name": "Python 3.7.0 ('geoai')",
   "language": "python",
   "name": "python3"
  },
  "language_info": {
   "codemirror_mode": {
    "name": "ipython",
    "version": 3
   },
   "file_extension": ".py",
   "mimetype": "text/x-python",
   "name": "python",
   "nbconvert_exporter": "python",
   "pygments_lexer": "ipython3",
   "version": "3.7.0"
  },
  "orig_nbformat": 4,
  "vscode": {
   "interpreter": {
    "hash": "1bff4993b5c6f9c50422f70b2dd5a13ec694dfd7dde205c6b1afc92728df224a"
   }
  }
 },
 "nbformat": 4,
 "nbformat_minor": 2
}
