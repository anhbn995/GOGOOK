{
 "cells": [
  {
   "cell_type": "code",
   "execution_count": 1,
   "metadata": {},
   "outputs": [],
   "source": [
    "import os, glob\n",
    "import rasterio\n",
    "import numpy as np\n",
    "import geopandas as gpd\n",
    "import rasterio.features\n",
    "from tqdm.notebook import tqdm\n",
    "import rasterio.mask\n",
    "import fiona"
   ]
  },
  {
   "cell_type": "code",
   "execution_count": 6,
   "metadata": {},
   "outputs": [],
   "source": [
    "shp_path = r\"/home/skm/SKM16/Work/OpenLand/3_dichHistogram/Training_Building/shp_cut_img_and_mask/20220815_103905_ssc7_u0001_visual.shp\"\n",
    "fp_img = r\"/home/skm/SKM16/Work/OpenLand/3_dichHistogram/Training_Building/Img_original/20220815_103905_ssc7_u0001_visual.tif\"\n",
    "fp_mask = r\"/home/skm/SKM16/Work/OpenLand/3_dichHistogram/Training_Building/Mask_buildUp/20220815_103905_ssc7_u0001_visual.tif\"\n",
    "out_dir_mask = r\"\"\n",
    "df = gpd.read_file(shp_path)['geometry']\n",
    "\n",
    "with rasterio.open(img1) as src:\n",
    "    crs = src.crs\n",
    "df = df.to_crs(crs)\n",
    "# with fiona.open(shp_path, \"r\") as shapefile:\n",
    "#     shapes = [feature[\"geometry\"] for feature in shapefile]"
   ]
  },
  {
   "cell_type": "code",
   "execution_count": 28,
   "metadata": {},
   "outputs": [
    {
     "name": "stdout",
     "output_type": "stream",
     "text": [
      "<class 'int'>\n",
      "done\n",
      "x\n",
      "<class 'int'>\n",
      "done\n",
      "x\n",
      "<class 'int'>\n",
      "done\n",
      "x\n",
      "<class 'int'>\n",
      "done\n",
      "x\n",
      "<class 'int'>\n",
      "done\n",
      "x\n",
      "<class 'int'>\n",
      "done\n",
      "x\n"
     ]
    }
   ],
   "source": [
    "src = rasterio.open(img1)\n",
    "out_meta = src.meta\n",
    "z = 0\n",
    "for i in range(len(df)):\n",
    "    a = f\"a{z}\"\n",
    "    out_image, out_transform = rasterio.mask.mask(src, df.iloc[i:i+1], crop=True)\n",
    "    out_meta.update({\"driver\": \"GTiff\",\n",
    "                    \"height\": out_image.shape[1],\n",
    "                    \"width\": out_image.shape[2],\n",
    "                    \"transform\": out_transform})\n",
    "\n",
    "    with rasterio.open(f\"/home/skm/SKM16/Work/OpenLand/3_dichHistogram/Training_Building/xoa/{a}.tif\", 'w',**out_meta) as dst:\n",
    "        dst.write(out_image)\n",
    "    print(\"x\")\n",
    "    z += 1\n",
    "    "
   ]
  },
  {
   "cell_type": "code",
   "execution_count": 26,
   "metadata": {},
   "outputs": [
    {
     "data": {
      "text/plain": [
       "0    POLYGON ((746483.933 3266256.037, 746483.933 3...\n",
       "Name: geometry, dtype: geometry"
      ]
     },
     "execution_count": 26,
     "metadata": {},
     "output_type": "execute_result"
    }
   ],
   "source": [
    "df.iloc[0:1]"
   ]
  },
  {
   "cell_type": "code",
   "execution_count": 21,
   "metadata": {},
   "outputs": [
    {
     "data": {
      "image/svg+xml": "<svg xmlns=\"http://www.w3.org/2000/svg\" xmlns:xlink=\"http://www.w3.org/1999/xlink\" width=\"300\" height=\"300\" viewBox=\"746371.5621809692 3266143.666308767 3034.0064216422616 2925.3608059720136\" preserveAspectRatio=\"xMinYMin meet\"><g transform=\"matrix(1,0,0,-1,0,6535212.693423506)\"><path fill-rule=\"evenodd\" fill=\"#66cc99\" stroke=\"#555555\" stroke-width=\"20.226709477615078\" opacity=\"0.6\" d=\"M 746483.9327891786,3266256.0369169763 L 746483.9327891781,3268956.65650653 L 749293.1979944024,3268956.65650653 L 749293.1979944025,3266256.036916977 L 746483.9327891786,3266256.0369169763 z\" /></g></svg>",
      "text/plain": [
       "<shapely.geometry.polygon.Polygon at 0x7fc97acafb38>"
      ]
     },
     "execution_count": 21,
     "metadata": {},
     "output_type": "execute_result"
    }
   ],
   "source": [
    "df.iloc[0]"
   ]
  },
  {
   "cell_type": "code",
   "execution_count": 24,
   "metadata": {},
   "outputs": [
    {
     "data": {
      "image/svg+xml": "<svg xmlns=\"http://www.w3.org/2000/svg\" xmlns:xlink=\"http://www.w3.org/1999/xlink\" width=\"300\" height=\"300\" viewBox=\"746371.5621809692 3266143.666308767 3034.0064216422616 2925.3608059720136\" preserveAspectRatio=\"xMinYMin meet\"><g transform=\"matrix(1,0,0,-1,0,6535212.693423506)\"><path fill-rule=\"evenodd\" fill=\"#66cc99\" stroke=\"#555555\" stroke-width=\"20.226709477615078\" opacity=\"0.6\" d=\"M 746483.9327891786,3266256.0369169763 L 746483.9327891781,3268956.65650653 L 749293.1979944024,3268956.65650653 L 749293.1979944025,3266256.036916977 L 746483.9327891786,3266256.0369169763 z\" /></g></svg>",
      "text/plain": [
       "<shapely.geometry.polygon.Polygon at 0x7fc97acafb38>"
      ]
     },
     "execution_count": 24,
     "metadata": {},
     "output_type": "execute_result"
    }
   ],
   "source": [
    "df[0]"
   ]
  },
  {
   "cell_type": "code",
   "execution_count": null,
   "metadata": {},
   "outputs": [],
   "source": []
  }
 ],
 "metadata": {
  "kernelspec": {
   "display_name": "Python 3.7.0 ('geoai')",
   "language": "python",
   "name": "python3"
  },
  "language_info": {
   "codemirror_mode": {
    "name": "ipython",
    "version": 3
   },
   "file_extension": ".py",
   "mimetype": "text/x-python",
   "name": "python",
   "nbconvert_exporter": "python",
   "pygments_lexer": "ipython3",
   "version": "3.7.0"
  },
  "orig_nbformat": 4,
  "vscode": {
   "interpreter": {
    "hash": "1bff4993b5c6f9c50422f70b2dd5a13ec694dfd7dde205c6b1afc92728df224a"
   }
  }
 },
 "nbformat": 4,
 "nbformat_minor": 2
}
