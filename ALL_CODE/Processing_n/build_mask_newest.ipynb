{
 "cells": [
  {
   "cell_type": "code",
   "execution_count": 12,
   "metadata": {},
   "outputs": [],
   "source": [
    "import os, glob\n",
    "import rasterio\n",
    "import numpy as np\n",
    "import geopandas as gpd\n",
    "import rasterio.features\n",
    "from tqdm.notebook import tqdm\n",
    "\n",
    "def create_mask(img_path, shp_path, out_path_mask, value_mask=None):\n",
    "    with rasterio.open(img_path) as src:\n",
    "        meta = src.meta\n",
    "        height, width = src.height, src.width\n",
    "        tr = src.transform\n",
    "        crs_img = src.crs\n",
    "    df = gpd.read_file(shp_path)\n",
    "\n",
    "    # check epsg\n",
    "    if df.crs.to_string() != crs_img.to_string():\n",
    "        df = df.to_crs(epsg=str(crs_img.to_epsg()))\n",
    "    shapes = df['geometry']\n",
    "    mask = rasterio.features.rasterize(shapes, out_shape=(height, width), transform=tr)\n",
    "    if value_mask:\n",
    "        mask = mask*value_mask\n",
    "\n",
    "    meta.update({'count': 1, 'nodata': 0})\n",
    "    with rasterio.open(out_path_mask, 'w', **meta) as dst:\n",
    "        dst.write(np.array([mask]))   \n",
    "\n",
    "def main(input_img, input_shp, output_mask, value_mask):\n",
    "    if os.path.isfile(input_img) and os.path.isfile(input_shp) and output_mask[:-4] == '.tif':\n",
    "        print('Waiting ... !')\n",
    "        outdir = os.path.dirname(output_mask)\n",
    "        os.makedirs(outdir, exist_ok=True)\n",
    "        create_mask(input_img, input_shp, output_mask, value_mask)\n",
    "\n",
    "    elif os.path.isdir(input_img) and os.path.isdir(input_shp) and output_mask[:-4] != '.tif':\n",
    "        os.makedirs(output_mask, exist_ok=True)\n",
    "        list_fp_shp = glob.glob(os.path.join(input_shp, '*.shp'))\n",
    "        print(f'Co {len(list_fp_shp)} file duoc ve!')\n",
    "        for fp_shp in tqdm(list_fp_shp, desc = 'All'):\n",
    "            name_f = os.path.basename(fp_shp)\n",
    "            print(name_f)\n",
    "            fp_img = os.path.join(input_img, name_f.replace('.shp', '.tif'))\n",
    "            out_fp_mask = os.path.join(output_mask, name_f.replace('.shp', '.tif'))\n",
    "            create_mask(fp_img, fp_shp, out_fp_mask, value_mask)\n",
    "    else:\n",
    "        print('Dau vao khong hop le')"
   ]
  },
  {
   "cell_type": "markdown",
   "metadata": {},
   "source": []
  },
  {
   "cell_type": "markdown",
   "metadata": {},
   "source": [
    "## Chay folder"
   ]
  },
  {
   "cell_type": "code",
   "execution_count": 18,
   "metadata": {},
   "outputs": [
    {
     "name": "stdout",
     "output_type": "stream",
     "text": [
      "Mask sinh ra co gia tri 0 va 255\n",
      "Co 29 file duoc ve!\n"
     ]
    },
    {
     "data": {
      "application/vnd.jupyter.widget-view+json": {
       "model_id": "83fd90440b254cc5a65b51cae381c739",
       "version_major": 2,
       "version_minor": 0
      },
      "text/plain": [
       "All:   0%|          | 0/29 [00:00<?, ?it/s]"
      ]
     },
     "metadata": {},
     "output_type": "display_data"
    },
    {
     "name": "stdout",
     "output_type": "stream",
     "text": [
      "20220813_070157_ssc12_u0001_visual.shp\n",
      "20220813_070157_ssc12_u0002_visual.shp\n",
      "20220813_104556_ssc8_u0001_visual.shp\n",
      "20220814_103841_ssc10_u0001_visual.shp\n",
      "20220814_103914_ssc10_u0001_visual.shp\n",
      "20220815_064928_ssc4_u0001_visual.shp\n",
      "20220815_064928_ssc4_u0002_visual.shp\n",
      "20220815_065021_ssc4_u0001_visual.shp\n",
      "20220815_103905_ssc7_u0001_visual.shp\n",
      "20220816_103536_ssc8_u0002_visual.shp\n",
      "20220818_073620_ssc1_u0002_visual.shp\n",
      "20220818_102817_ssc7_u0001_visual.shp\n",
      "20220818_102817_ssc7_u0002_visual.shp\n",
      "20220818_102851_ssc7_u0001_visual.shp\n",
      "20220821_070453_ssc12_u0002_visual.shp\n",
      "20220822_065707_ssc2_u0001_visual.shp\n",
      "20220825_103030_ssc10_u0001_visual.shp\n",
      "20220825_103030_ssc10_u0002_visual.shp\n",
      "20220816_103536_ssc8_u0001_visual.shp\n",
      "20220819_102529_ssc8_u0001_visual.shp\n",
      "20220819_102529_ssc8_u0002_visual.shp\n",
      "20220820_070317_ssc4_u0001_visual.shp\n",
      "20220820_070317_ssc4_u0002_visual.shp\n",
      "20220820_103902_ssc6_u0001_visual.shp\n",
      "20220826_065957_ssc3_u0001_visual.shp\n",
      "20220826_065957_ssc3_u0003_visual.shp\n",
      "20220827_102756_ssc8_u0002_visual.shp\n",
      "20220821_070311_ssc3_u0001_visual.shp\n",
      "20220821_070418_ssc12_u0001_visual.shp\n"
     ]
    }
   ],
   "source": [
    "# input_img = r\"/home/skm/SKM16/Work/OpenLand/3_dichHistogram/Image_allLabel\"\n",
    "# input_shp = r\"/home/skm/SKM16/Work/OpenLand/Lables/add_them_BF\"\n",
    "# output_mask = r\"/home/skm/SKM16/Work/OpenLand/3_dichHistogram/Image_allLabel/mask_add_BF\"\n",
    "# value_mask = 255\n",
    "\n",
    "# print(f'Mask sinh ra co gia tri 0 va {value_mask}')\n",
    "# main(input_img, input_shp, output_mask, value_mask)\n",
    "\n",
    "\n",
    "input_img = r\"/home/skm/SKM16/Work/OpenLand/all_tif\"\n",
    "input_shp = r\"/home/skm/SKM16/Work/OpenLand/3_dichHistogram/Training_Water/add_them/Water_v3/shape\"\n",
    "output_mask = r\"/home/skm/SKM16/Work/OpenLand/3_dichHistogram/Training_Water/add_them/Water_v3/shape/mask_add_BF\"\n",
    "value_mask = 255\n",
    "\n",
    "print(f'Mask sinh ra co gia tri 0 va {value_mask}')\n",
    "main(input_img, input_shp, output_mask, value_mask)\n"
   ]
  },
  {
   "cell_type": "markdown",
   "metadata": {},
   "source": [
    "## Chay 1 file"
   ]
  },
  {
   "cell_type": "code",
   "execution_count": 4,
   "metadata": {},
   "outputs": [
    {
     "name": "stdout",
     "output_type": "stream",
     "text": [
      "Mask sinh ra co gia tri 0 va 255\n"
     ]
    }
   ],
   "source": [
    "# input_img = r\"/home/skm/SKM16/Work/OpenLand/all_tif/20220813_070232_ssc12_u0001_visual.tif\"\n",
    "# input_shp = r\"/home/skm/public_mount/DucAnhtmp/OpenLand/shape/BuildUp/20220813_070232_ssc12_u0001_visual.shp\"\n",
    "# output_mask = r\"/home/skm/SKM16/Work/OpenLand/3_dichHistogram/Training_Building/Mask_buildUp/20220813_070232_ssc12_u0001_visual.tif\"\n",
    "# value_mask = 255\n",
    "# print(f'Mask sinh ra co gia tri 0 va {value_mask}')\n",
    "# create_mask(input_img, input_shp, output_mask, value_mask=value_mask)"
   ]
  },
  {
   "cell_type": "code",
   "execution_count": 21,
   "metadata": {},
   "outputs": [],
   "source": [
    "import shutil\n",
    "import os, glob\n",
    "\n",
    "dir_mask =  r\"/home/skm/SKM16/Work/OpenLand/3_dichHistogram/Training_Water/add_them/Water_v3/shape/mask_add_BF\"\n",
    "dir_all_tif = r\"/home/skm/SKM16/Work/OpenLand/all_tif\"\n",
    "out_dir = r\"/home/skm/SKM16/Work/OpenLand/3_dichHistogram/Training_Water/add_them/Water_v3/shape/img\"\n",
    "\n",
    "list_fp_mask = glob.glob(os.path.join(dir_mask, '*.tif'))\n",
    "for fp_mask in list_fp_mask:\n",
    "    name_f = os.path.basename(fp_mask)\n",
    "    fp_img = os.path.join(dir_all_tif, name_f)\n",
    "    out_fp = os.path.join(out_dir, name_f)\n",
    "    shutil.copy2(fp_img, out_fp)"
   ]
  },
  {
   "cell_type": "code",
   "execution_count": 2,
   "metadata": {},
   "outputs": [
    {
     "name": "stdout",
     "output_type": "stream",
     "text": [
      "20220821_070311_ssc3_u0001_visual.tif\n"
     ]
    }
   ],
   "source": [
    "import shutil\n",
    "import os, glob\n",
    "dir_mask =  r\"/home/skm/SKM16/Work/OpenLand/3_dichHistogram/Training_Water/Image_original\"\n",
    "dir_all_tif = r\"/home/skm/SKM16/Work/OpenLand/3_dichHistogram/Training_Water/add_them/img\"\n",
    "\n",
    "\n",
    "list_fp_mask = glob.glob(os.path.join(dir_mask, '*.tif'))\n",
    "list_all_tif = glob.glob(os.path.join(dir_all_tif, '*.tif'))\n",
    "\n",
    "all_name_have = [os.path.basename(x) for x in list_all_tif]\n",
    "\n",
    "for fp_mask in list_fp_mask:\n",
    "    name_f = os.path.basename(fp_mask)\n",
    "    if name_f in all_name_have:\n",
    "        print(name_f)"
   ]
  },
  {
   "cell_type": "code",
   "execution_count": null,
   "metadata": {},
   "outputs": [],
   "source": []
  }
 ],
 "metadata": {
  "kernelspec": {
   "display_name": "Python 3.7.0 ('geoai')",
   "language": "python",
   "name": "python3"
  },
  "language_info": {
   "codemirror_mode": {
    "name": "ipython",
    "version": 3
   },
   "file_extension": ".py",
   "mimetype": "text/x-python",
   "name": "python",
   "nbconvert_exporter": "python",
   "pygments_lexer": "ipython3",
   "version": "3.7.0"
  },
  "orig_nbformat": 4,
  "vscode": {
   "interpreter": {
    "hash": "1bff4993b5c6f9c50422f70b2dd5a13ec694dfd7dde205c6b1afc92728df224a"
   }
  }
 },
 "nbformat": 4,
 "nbformat_minor": 2
}
