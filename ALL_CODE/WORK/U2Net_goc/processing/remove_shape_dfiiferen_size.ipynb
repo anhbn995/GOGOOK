{
 "cells": [
  {
   "cell_type": "code",
   "execution_count": 3,
   "metadata": {},
   "outputs": [],
   "source": [
    "import os, glob\n",
    "import shutil\n",
    "import numpy as np\n",
    "from tqdm.notebook import tqdm\n",
    "\n",
    "\n",
    "dir_img = \"/home/skm/SKM16/Work/OpenLand/3_dichHistogram/Training_Water/Data_Train_and_Model/npy_water_cut_512_v2/train/image\"\n",
    "dir_label = \"/home/skm/SKM16/Work/OpenLand/3_dichHistogram/Training_Water/Data_Train_and_Model/npy_water_cut_512_v2/train/label\"\n",
    "list_fp_img = glob.glob(os.path.join(dir_img, \"*.npy\"))"
   ]
  },
  {
   "cell_type": "code",
   "execution_count": 4,
   "metadata": {},
   "outputs": [
    {
     "data": {
      "application/vnd.jupyter.widget-view+json": {
       "model_id": "363cf755909347eb8e578a6eb61232d3",
       "version_major": 2,
       "version_minor": 0
      },
      "text/plain": [
       "  0%|          | 0/6240 [00:00<?, ?it/s]"
      ]
     },
     "metadata": {},
     "output_type": "display_data"
    }
   ],
   "source": [
    "for i in tqdm(list_fp_img):\n",
    "    img = np.load(i)\n",
    "    if img.shape[0] != 512 or img.shape[1] != 512:\n",
    "        print(i)\n",
    "        print(img.shape)"
   ]
  },
  {
   "cell_type": "code",
   "execution_count": null,
   "metadata": {},
   "outputs": [],
   "source": []
  }
 ],
 "metadata": {
  "kernelspec": {
   "display_name": "Python 3.7.0 ('geoai')",
   "language": "python",
   "name": "python3"
  },
  "language_info": {
   "codemirror_mode": {
    "name": "ipython",
    "version": 3
   },
   "file_extension": ".py",
   "mimetype": "text/x-python",
   "name": "python",
   "nbconvert_exporter": "python",
   "pygments_lexer": "ipython3",
   "version": "3.7.0"
  },
  "orig_nbformat": 4,
  "vscode": {
   "interpreter": {
    "hash": "1bff4993b5c6f9c50422f70b2dd5a13ec694dfd7dde205c6b1afc92728df224a"
   }
  }
 },
 "nbformat": 4,
 "nbformat_minor": 2
}
