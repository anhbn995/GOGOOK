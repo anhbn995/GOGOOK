{
 "cells": [
  {
   "cell_type": "code",
   "execution_count": 13,
   "id": "b1ad1c7b",
   "metadata": {},
   "outputs": [],
   "source": [
    "import geopandas as gp\n",
    "\n",
    "b = gp.read_file('/media/skymap/Learnning/public/Komsat_change_8bit_perimage/change_object_box_Aug_Jan/komsat_change_area_box.shp')\n",
    "c = gp.read_file('/media/skymap/Learnning/public/Komsat_change_8bit_perimage/change_object_box_Aug_Jan/komsat_change_tree_box.shp')\n",
    "a = gp.read_file('/media/skymap/Learnning/public/Komsat_change_8bit_perimage/change_object_box_Aug_Jan/komsat_changebuilding_box.shp')\n",
    "\n",
    "# a['fid']=None\n",
    "# a = a.rename(columns={'fid': 'id'})\n",
    "a=a.to_crs('EPSG:32639')\n",
    "b=b.to_crs('EPSG:32639')\n",
    "c=c.to_crs('EPSG:32639')\n",
    "\n",
    "a['label'] = 1\n",
    "b['label'] = 2\n",
    "c['label'] = 3\n",
    "xxx = a.append(b)\n",
    "xxx = xxx.append(c)\n",
    "\n",
    "# ddd = gp.read_file('/media/skymap/Learnning/public/data_multi_change/change_tree/boxxx.shp')\n",
    "# mmm = gp.overlay(ddd, xxx, how='intersection')\n",
    "\n",
    "# mmm.to_file('/media/skymap/Learnning/public/data_multi_change/change_tree/multi_all_label.shp')\n",
    "# xxx.to_file('/media/skymap/Learnning/public/Komsat_change_8bit_perimage/change_object_box_Aug_Jan/komsat_box.shp')"
   ]
  },
  {
   "cell_type": "code",
   "execution_count": null,
   "id": "943a8cea",
   "metadata": {},
   "outputs": [],
   "source": []
  },
  {
   "cell_type": "code",
   "execution_count": 29,
   "id": "1c437b75",
   "metadata": {},
   "outputs": [],
   "source": []
  },
  {
   "cell_type": "code",
   "execution_count": 1,
   "id": "a518d638",
   "metadata": {},
   "outputs": [
    {
     "name": "stderr",
     "output_type": "stream",
     "text": [
      "2022-01-04 08:52:19.258541: I tensorflow/stream_executor/platform/default/dso_loader.cc:53] Successfully opened dynamic library libcudart.so.11.0\n"
     ]
    }
   ],
   "source": [
    "from tensorflow import math\n",
    "from tensorflow.keras.layers import Layer\n",
    "import tensorflow.keras.backend as K\n",
    "\n",
    "def gelu_(X):\n",
    "    return 0.5*X*(1.0 + math.tanh(0.7978845608028654*(X + 0.044715*math.pow(X, 3))))\n",
    "class GELU(Layer):\n",
    "    def __init__(self, trainable=False, **kwargs):\n",
    "        super(GELU, self).__init__(**kwargs)\n",
    "        self.supports_masking = True\n",
    "        self.trainable = trainable\n",
    "\n",
    "    def build(self, input_shape):\n",
    "        super(GELU, self).build(input_shape)\n",
    "\n",
    "    def call(self, inputs, mask=None):\n",
    "        return gelu_(inputs)\n",
    "\n",
    "    def get_config(self):\n",
    "        config = {'trainable': self.trainable}\n",
    "        base_config = super(GELU, self).get_config()\n",
    "        return dict(list(base_config.items()) + list(config.items()))\n",
    "    def compute_output_shape(self, input_shape):\n",
    "        return input_shape"
   ]
  },
  {
   "cell_type": "code",
   "execution_count": 2,
   "id": "5c7e3e61",
   "metadata": {},
   "outputs": [],
   "source": [
    "from tensorflow.keras.layers import Conv2D, MaxPooling2D, Conv2DTranspose, concatenate, Dropout, Input\n",
    "from tensorflow.keras import  Model\n",
    "\n",
    "def model_unet_zhixuhao(num_channel,size, num_class=1):\n",
    "    inputs = Input((size, size,int(num_channel)))\n",
    "    conv1 = Conv2D(64, 3, padding = 'same', kernel_initializer = 'he_normal')(inputs)\n",
    "    conv1 = GELU()(conv1)\n",
    "    conv1 = Conv2D(64, 3, padding = 'same', kernel_initializer = 'he_normal')(conv1)\n",
    "    conv1 = GELU()(conv1)\n",
    "    pool1 = MaxPooling2D(pool_size=(2, 2))(conv1)\n",
    "    conv2 = Conv2D(128, 3, padding = 'same', kernel_initializer = 'he_normal')(pool1)\n",
    "    conv2 = GELU()(conv2)\n",
    "    conv2 = Conv2D(128, 3, padding = 'same', kernel_initializer = 'he_normal')(conv2)\n",
    "    conv2 = GELU()(conv2)\n",
    "    pool2 = MaxPooling2D(pool_size=(2, 2))(conv2)\n",
    "    conv3 = Conv2D(256, 3, padding = 'same', kernel_initializer = 'he_normal')(pool2)\n",
    "    conv3 = GELU()(conv3)\n",
    "    conv3 = Conv2D(256, 3, padding = 'same', kernel_initializer = 'he_normal')(conv3)\n",
    "    conv3 = GELU()(conv3)\n",
    "    pool3 = MaxPooling2D(pool_size=(2, 2))(conv3)\n",
    "    conv4 = Conv2D(512, 3, padding = 'same', kernel_initializer = 'he_normal')(pool3)\n",
    "    conv4 = GELU()(conv4)\n",
    "    conv4 = Conv2D(512, 3, padding = 'same', kernel_initializer = 'he_normal')(conv4)\n",
    "    conv4 = GELU()(conv4)\n",
    "    drop4 = Dropout(0.5)(conv4)\n",
    "    pool4 = MaxPooling2D(pool_size=(2, 2))(drop4)\n",
    "\n",
    "    conv5 = Conv2D(1024, 3, padding = 'same', kernel_initializer = 'he_normal')(pool4)\n",
    "    conv5 = GELU()(conv5)\n",
    "    conv5 = Conv2D(1024, 3, padding = 'same', kernel_initializer = 'he_normal')(conv5)\n",
    "    conv5 = GELU()(conv5)\n",
    "    drop5 = Dropout(0.5)(conv5)\n",
    "    up6 = Conv2DTranspose(512, (2, 2), strides=(2, 2), padding='same')(drop5)\n",
    "    merge6 = concatenate([drop4,up6], axis = 3)\n",
    "    conv6 = Conv2D(512, 3, padding = 'same', kernel_initializer = 'he_normal')(merge6)\n",
    "    conv6 = GELU()(conv6)\n",
    "    conv6 = Conv2D(512, 3, padding = 'same', kernel_initializer = 'he_normal')(conv6)\n",
    "    conv6 = GELU()(conv6)\n",
    "\n",
    "    up7 = Conv2DTranspose(256, (2, 2), strides=(2, 2), padding='same')(conv6)\n",
    "    merge7 = concatenate([conv3,up7], axis = 3)\n",
    "    conv7 = Conv2D(256, 3, padding = 'same', kernel_initializer = 'he_normal')(merge7)\n",
    "    conv7 = GELU()(conv7)\n",
    "    conv7 = Conv2D(256, 3, padding = 'same', kernel_initializer = 'he_normal')(conv7)\n",
    "    conv7 = GELU()(conv7)\n",
    "\n",
    "    up8 = Conv2DTranspose(128, (2, 2), strides=(2, 2), padding='same')(conv7)\n",
    "    merge8 = concatenate([conv2,up8], axis = 3)\n",
    "    conv8 = Conv2D(128, 3, padding = 'same', kernel_initializer = 'he_normal')(merge8)\n",
    "    conv8 = GELU()(conv8)\n",
    "    conv8 = Conv2D(128, 3, padding = 'same', kernel_initializer = 'he_normal')(conv8)\n",
    "    conv8 = GELU()(conv8)\n",
    "\n",
    "    up9 = Conv2DTranspose(64, (2, 2), strides=(2, 2), padding='same')(conv8)\n",
    "    merge9 = concatenate([conv1,up9], axis = 3)\n",
    "    conv9 = Conv2D(64, 3, padding = 'same', kernel_initializer = 'he_normal')(merge9)\n",
    "    conv9 = GELU()(conv9)\n",
    "    conv9 = Conv2D(64, 3, padding = 'same', kernel_initializer = 'he_normal')(conv9)\n",
    "    conv9 = GELU()(conv9)\n",
    "    conv9 = Conv2D(2, 3, padding = 'same', kernel_initializer = 'he_normal')(conv9)\n",
    "    conv9 = GELU()(conv9)\n",
    "    conv10 = Conv2D(1, 1, activation = 'sigmoid')(conv9)\n",
    "\n",
    "    model = Model(inputs = inputs, outputs = conv10)\n",
    "    # optimizer=Adam(lr=1e-5)\n",
    "    # model.compile(optimizer = optimizer, loss = bce_dice_loss, metrics = ['accuracy',jaccard_coef, jaccard_coef_int])\n",
    "    \n",
    "    return model"
   ]
  },
  {
   "cell_type": "code",
   "execution_count": null,
   "id": "059d6863",
   "metadata": {},
   "outputs": [],
   "source": []
  },
  {
   "cell_type": "code",
   "execution_count": null,
   "id": "a0d023ee",
   "metadata": {},
   "outputs": [],
   "source": []
  },
  {
   "cell_type": "code",
   "execution_count": null,
   "id": "b6004bf2",
   "metadata": {},
   "outputs": [],
   "source": []
  },
  {
   "cell_type": "code",
   "execution_count": null,
   "id": "fb56e3f8",
   "metadata": {},
   "outputs": [],
   "source": []
  },
  {
   "cell_type": "code",
   "execution_count": 32,
   "id": "41786990",
   "metadata": {},
   "outputs": [
    {
     "name": "stderr",
     "output_type": "stream",
     "text": [
      "/home/skymap/anaconda3/envs/mlenv/lib/python3.6/site-packages/ipykernel_launcher.py:14: UserWarning: This format doesn't support alpha in colormap entries. The value will be ignored.\n",
      "  \n"
     ]
    }
   ],
   "source": [
    "def run_add_colormap(img_need_add_color_map):\n",
    "    with rasterio.Env():\n",
    "        with rasterio.open(img_need_add_color_map) as src:\n",
    "            shade = src.read(1)\n",
    "            meta = src.meta.copy()\n",
    "            meta.update({'nodata': 0})\n",
    "        with rasterio.open(img_need_add_color_map, 'w', compress='lzw', **meta) as dst:\n",
    "            dst.write(shade, indexes=1)\n",
    "            dst.write_colormap(\n",
    "                1, {\n",
    "                    0: (0, 0, 0, 0),\n",
    "                    1: (100, 149, 237, 255), \n",
    "                    2: (34,139,34,255),\n",
    "                    3: (101,67,33, 255)})\n",
    "run_add_colormap(\"/media/skymap/Learnning/public/DA/1_TreeCounting_All_DATA/Data_origin/create_data_train_one_type/img/Nam_predict/merge_mask_3class.tif\")"
   ]
  },
  {
   "cell_type": "code",
   "execution_count": 1,
   "id": "e81d0386",
   "metadata": {},
   "outputs": [
    {
     "name": "stdout",
     "output_type": "stream",
     "text": [
      "/mnt/data/Nam_work_space/cythonn\n",
      "Compiling Vectorization.pyx because it changed.\n",
      "[1/1] Cythonizing Vectorization.pyx\n",
      "/home/skymap/anaconda3/envs/tf25/lib/python3.8/site-packages/Cython/Compiler/Main.py:369: FutureWarning: Cython directive 'language_level' not set, using 2 for now (Py2). This will change in a later release! File: /mnt/data/Nam_work_space/cythonn/Vectorization.pyx\n",
      "  tree = Parsing.p_module(s, pxd, full_module_name)\n",
      "warning: Vectorization.pyx:120:29: Index should be typed for more efficient access\n",
      "running build_ext\n",
      "building 'Vectorization' extension\n",
      "gcc -pthread -B /home/skymap/anaconda3/envs/tf25/compiler_compat -Wl,--sysroot=/ -Wsign-compare -DNDEBUG -g -fwrapv -O3 -Wall -Wstrict-prototypes -fPIC -I/home/skymap/anaconda3/envs/tf25/include/python3.8 -c Vectorization.c -o build/temp.linux-x86_64-3.8/Vectorization.o\n",
      "gcc -pthread -shared -B /home/skymap/anaconda3/envs/tf25/compiler_compat -L/home/skymap/anaconda3/envs/tf25/lib -Wl,-rpath=/home/skymap/anaconda3/envs/tf25/lib -Wl,--no-as-needed -Wl,--sysroot=/ build/temp.linux-x86_64-3.8/Vectorization.o -o /mnt/data/Nam_work_space/cythonn/Vectorization.cpython-38-x86_64-linux-gnu.so\n",
      "/mnt/data/Nam_work_space\n"
     ]
    }
   ],
   "source": [
    "%cd cythonn\n",
    "!python setup.py build_ext --inplace\n",
    "%cd ../"
   ]
  },
  {
   "cell_type": "code",
   "execution_count": 7,
   "id": "d6e57b1b",
   "metadata": {},
   "outputs": [
    {
     "data": {
      "text/plain": [
       "<matplotlib.image.AxesImage at 0x7f0d68025190>"
      ]
     },
     "execution_count": 7,
     "metadata": {},
     "output_type": "execute_result"
    },
    {
     "data": {
      "image/png": "[encoded data removed]",
      "text/plain": [
       "<Figure size 432x288 with 1 Axes>"
      ]
     },
     "metadata": {
      "needs_background": "light"
     },
     "output_type": "display_data"
    }
   ],
   "source": [
    "import matplotlib.pyplot as plt\n",
    "import numpy as np\n",
    "\n",
    "a = np.load('/mnt/Nam/tmp_Nam/Nam_work_space/data_train/image_40/box_017.npy')\n",
    "plt.imshow(a)"
   ]
  },
  {
   "cell_type": "code",
   "execution_count": null,
   "id": "6b248e96",
   "metadata": {},
   "outputs": [],
   "source": []
  },
  {
   "cell_type": "code",
   "execution_count": 6,
   "id": "3f9d1eb3",
   "metadata": {},
   "outputs": [
    {
     "name": "stdout",
     "output_type": "stream",
     "text": [
      "/mnt/Nam/public/farm_maxar/data/predict_v2/10500100191CD200-visual.tif\n",
      "/mnt/Nam/public/farm_maxar/data/predict_v2/1030010084311900-visual.tif\n",
      "/mnt/Nam/public/farm_maxar/data/predict_v2/10300100AD9AA500-visual.tif\n",
      "/mnt/Nam/public/farm_maxar/data/predict_v2/10300100BB7A5700-visual.tif\n",
      "/mnt/Nam/public/farm_maxar/data/predict_v2/10300100A86F9700-visual.tif\n",
      "/mnt/Nam/public/farm_maxar/data/predict_v2/1040010047456300-visual.tif\n",
      "/mnt/Nam/public/farm_maxar/data/predict_v2/10300100B51C4600-visual.tif\n"
     ]
    }
   ],
   "source": [
    "import rasterio\n",
    "import cv2\n",
    "import numpy as np\n",
    "from skimage.morphology import skeletonize, remove_small_holes, remove_small_objects\n",
    "import time\n",
    "import os, glob\n",
    "\n",
    "kernel = cv2.getStructuringElement(cv2.MORPH_CROSS, (3, 3))\n",
    "kernel2 = cv2.getStructuringElement(cv2.MORPH_ELLIPSE, (3, 3))\n",
    "\n",
    "path_img = '/mnt/Nam/public/farm_maxar/data/predict_v2/*.tif'\n",
    "# for img_path in os.listdir(path_img):\n",
    "for img_path in glob.glob(path_img):\n",
    "    print(img_path)\n",
    "    out_img = '/mnt/Nam/public/farm_maxar/data/predict_v2/skeleton/'+os.path.basename(img_path)\n",
    "    if not os.path.exists(out_img):\n",
    "        with rasterio.open(img_path) as f:\n",
    "            data = f.read()[0]\n",
    "            out_meta = f.meta\n",
    "        img = cv2.morphologyEx(data, cv2.MORPH_OPEN, kernel)\n",
    "        for i in range(3):\n",
    "            img = cv2.morphologyEx(img, cv2.MORPH_OPEN, kernel)\n",
    "        img = cv2.morphologyEx(img, cv2.MORPH_OPEN, kernel2)\n",
    "        for _ in range(3):\n",
    "            img = cv2.morphologyEx(data, cv2.MORPH_CLOSE, kernel)\n",
    "        img = cv2.morphologyEx(img, cv2.MORPH_CLOSE, kernel2)\n",
    "        \n",
    "        data = remove_small_holes(img.astype(bool), area_threshold=200)\n",
    "        data = remove_small_objects(data, min_size=200)\n",
    "        # skeleton = skeletonize(np.logical_not(data).astype(np.uint8))\n",
    "        skeleton = skeletonize(data.astype(np.uint8))\n",
    "        with rasterio.open(out_img, \"w\", **out_meta, compress='lzw') as dest:\n",
    "            dest.write(skeleton[np.newaxis,...])"
   ]
  },
  {
   "cell_type": "code",
   "execution_count": 3,
   "id": "34e4d001",
   "metadata": {},
   "outputs": [
    {
     "name": "stdout",
     "output_type": "stream",
     "text": [
      "/mnt/Nam/Public_backup/farm_data/3Band_zoom18/ds8/grid1_mask_skeleton.geojson\n",
      "5.106367588043213\n"
     ]
    }
   ],
   "source": [
    "import rasterio\n",
    "import cv2\n",
    "import numpy as np\n",
    "from cythonn import helloworld, Vectorization\n",
    "import time\n",
    "import os, glob\n",
    "import rasterio\n",
    "import cv2\n",
    "import numpy as np\n",
    "from skimage.morphology import skeletonize, remove_small_holes, remove_small_objects\n",
    "from math import sqrt\n",
    "import time\n",
    "import os, glob\n",
    "\n",
    "\n",
    "# path_img = '/mnt/Nam/farm_pleiades/predictxxx.tif'\n",
    "# # for img_path in os.listdir(path_img):\n",
    "# for img_path in glob.glob(path_img):\n",
    "#     print(img_path)\n",
    "#     out_img = '/mnt/Nam/farm_pleiades/result_pleiades_8u.tif'\n",
    "#     # if not os.path.exists(out_img):\n",
    "#     #     print(out_img)\n",
    "#     with rasterio.open(img_path) as f:\n",
    "#         data = f.read()\n",
    "#         out_meta = f.meta\n",
    "#     star = time.time()\n",
    "#     data = remove_small_holes(data.astype(bool), area_threshold=77)\n",
    "#     data = remove_small_objects(data, min_size=77)\n",
    "#     # skeleton = skeletonize(np.logical_not(data).astype(np.uint8))\n",
    "#     skeleton = skeletonize(data.astype(np.uint8))\n",
    "#     with rasterio.open(out_img, \"w\", **out_meta, compress='lzw') as dest:\n",
    "#         dest.write(skeleton)\n",
    "\n",
    "\n",
    "# image = '/mnt/Nam/farm_pleiades/result_pleiades_8u.tif'\n",
    "with rasterio.open(out_img) as inds:\n",
    "    img = inds.read()[0]\n",
    "    transform = inds.transform\n",
    "    projstr = inds.crs.to_string()\n",
    "end = time.time()\n",
    "save_path = '/mnt/Nam/Public_backup/farm_data/3Band_zoom18/ds8/grid1_mask_skeleton.geojson'\n",
    "# if not os.path.exists(save_path):\n",
    "try:\n",
    "    print(save_path)\n",
    "    test = Vectorization.save_polygon(np.pad(img, pad_width=1).astype(np.intc), 3,5,transform, projstr, save_path)\n",
    "    print(time.time()-end)\n",
    "except:\n",
    "    print(100*'-')\n",
    "    print(save_path)\n",
    "    print(100*'-')"
   ]
  },
  {
   "cell_type": "code",
   "execution_count": 1,
   "id": "62faaf71",
   "metadata": {},
   "outputs": [
    {
     "name": "stdout",
     "output_type": "stream",
     "text": [
      "/mnt/Nam/Public_backup/farm_data/3Band_zoom18/ds8/grid1_mask.tif\n"
     ]
    }
   ],
   "source": [
    "import rasterio\n",
    "import cv2\n",
    "import numpy as np\n",
    "from cythonn import helloworld, Vectorization\n",
    "import time\n",
    "import os, glob\n",
    "import rasterio\n",
    "import cv2\n",
    "import numpy as np\n",
    "from skimage.morphology import skeletonize, remove_small_holes, remove_small_objects\n",
    "from math import sqrt\n",
    "import time\n",
    "import os, glob\n",
    "\n",
    "\n",
    "path_img =  \"/mnt/Nam/Public_backup/farm_data/3Band_zoom18/ds8/grid1_mask.tif\"\n",
    "# for img_path in os.listdir(path_img):\n",
    "for img_path in glob.glob(path_img):\n",
    "    print(img_path)\n",
    "    out_img =  \"/mnt/Nam/Public_backup/farm_data/3Band_zoom18/ds8/grid1_mask_skeleton.tif\"\n",
    "    # if not os.path.exists(out_img):\n",
    "    #     print(out_img)\n",
    "    with rasterio.open(img_path) as f:\n",
    "        data = f.read()\n",
    "        out_meta = f.meta\n",
    "    star = time.time()\n",
    "    data = remove_small_holes(data.astype(bool), area_threshold=77)\n",
    "    data = remove_small_objects(data, min_size=77)\n",
    "    # skeleton = skeletonize(np.logical_not(data).astype(np.uint8))\n",
    "    skeleton = skeletonize(data.astype(np.uint8))\n",
    "    with rasterio.open(out_img, \"w\", **out_meta, compress='lzw') as dest:\n",
    "        dest.write(skeleton)\n"
   ]
  },
  {
   "cell_type": "code",
   "execution_count": 10,
   "id": "44e508c0",
   "metadata": {},
   "outputs": [
    {
     "name": "stdout",
     "output_type": "stream",
     "text": [
      "/mnt/Nam/public/farm_maxar/result_v3/10500100191CD200-visual.geojson\n",
      "3.131751537322998\n",
      "/mnt/Nam/public/farm_maxar/result_v3/1030010084311900-visual.geojson\n",
      "3.877816915512085\n",
      "/mnt/Nam/public/farm_maxar/result_v3/10300100AD9AA500-visual.geojson\n",
      "3.029956102371216\n",
      "/mnt/Nam/public/farm_maxar/result_v3/10300100BB7A5700-visual.geojson\n",
      "5.559977054595947\n",
      "/mnt/Nam/public/farm_maxar/result_v3/10300100A86F9700-visual.geojson\n",
      "7.739389419555664\n",
      "/mnt/Nam/public/farm_maxar/result_v3/1040010047456300-visual.geojson\n",
      "7.775591135025024\n",
      "/mnt/Nam/public/farm_maxar/result_v3/10300100B51C4600-visual.geojson\n",
      "4.909164190292358\n"
     ]
    }
   ],
   "source": [
    "import rasterio\n",
    "import cv2\n",
    "import numpy as np\n",
    "from cythonn import helloworld, Vectorization\n",
    "import time\n",
    "import os, glob\n",
    "\n",
    "path_img = \"/mnt/Nam/public/farm_maxar/data/predict_v2/skeleton/\"\n",
    "for img_path in os.listdir(path_img):\n",
    "    image = path_img+img_path\n",
    "    with rasterio.open(image) as inds:\n",
    "        img = inds.read()[0]\n",
    "        transform = inds.transform\n",
    "        projstr = inds.crs.to_string()\n",
    "    end = time.time()\n",
    "    save_path = \"/mnt/Nam/public/farm_maxar/result_v3/\" + img_path.replace('.tif', '.geojson')\n",
    "    # if not os.path.exists(save_path):\n",
    "    try:\n",
    "        print(save_path)\n",
    "        test = Vectorization.save_polygon(np.pad(img, pad_width=1).astype(np.intc), 5,15,transform, projstr, save_path)\n",
    "        print(time.time()-end)\n",
    "    except:\n",
    "        print(100*'-')\n",
    "        print(save_path)\n",
    "        print(100*'-')"
   ]
  },
  {
   "cell_type": "code",
   "execution_count": 1,
   "id": "4dbea2cc",
   "metadata": {},
   "outputs": [
    {
     "name": "stdout",
     "output_type": "stream",
     "text": [
      "/mnt/data/public/farm-bing18/BingMaps_Kediri_predict/30_12/model_farm/mask/tile_z11_1661_978.tif\n",
      "25.960707664489746\n",
      "202.98900699615479\n",
      "/mnt/data/public/farm-bing18/BingMaps_Kediri_predict/30_12/model_farm/skeleton/tile_z11_1661_978.tif\n",
      "/mnt/data/public/farm-bing18/BingMaps_Kediri_predict/30_12/model_farm/mask/tile_z11_1661_979.tif\n",
      "22.578309297561646\n",
      "201.45164513587952\n",
      "/mnt/data/public/farm-bing18/BingMaps_Kediri_predict/30_12/model_farm/skeleton/tile_z11_1661_979.tif\n",
      "/mnt/data/public/farm-bing18/BingMaps_Kediri_predict/30_12/model_farm/mask/tile_z11_1661_980.tif\n",
      "22.381670475006104\n",
      "215.54558300971985\n",
      "/mnt/data/public/farm-bing18/BingMaps_Kediri_predict/30_12/model_farm/skeleton/tile_z11_1661_980.tif\n",
      "/mnt/data/public/farm-bing18/BingMaps_Kediri_predict/30_12/model_farm/mask/tile_z11_1662_978.tif\n",
      "22.664931535720825\n",
      "190.57502722740173\n",
      "/mnt/data/public/farm-bing18/BingMaps_Kediri_predict/30_12/model_farm/skeleton/tile_z11_1662_978.tif\n",
      "/mnt/data/public/farm-bing18/BingMaps_Kediri_predict/30_12/model_farm/mask/tile_z11_1662_979.tif\n",
      "22.039729356765747\n",
      "216.8614375591278\n",
      "/mnt/data/public/farm-bing18/BingMaps_Kediri_predict/30_12/model_farm/skeleton/tile_z11_1662_979.tif\n",
      "/mnt/data/public/farm-bing18/BingMaps_Kediri_predict/30_12/model_farm/mask/tile_z11_1662_980.tif\n",
      "21.893287181854248\n",
      "174.4318778514862\n",
      "/mnt/data/public/farm-bing18/BingMaps_Kediri_predict/30_12/model_farm/skeleton/tile_z11_1662_980.tif\n",
      "/mnt/data/public/farm-bing18/BingMaps_Kediri_predict/30_12/model_farm/mask/tile_z11_1663_979.tif\n",
      "22.095380783081055\n",
      "176.24552059173584\n",
      "/mnt/data/public/farm-bing18/BingMaps_Kediri_predict/30_12/model_farm/skeleton/tile_z11_1663_979.tif\n"
     ]
    }
   ],
   "source": [
    "import rasterio\n",
    "import cv2\n",
    "import numpy as np\n",
    "import timeit\n",
    "from skimage.morphology import skeletonize, remove_small_holes, remove_small_objects\n",
    "from math import sqrt\n",
    "import time\n",
    "import os, glob\n",
    "\n",
    "\n",
    "path_img = '/mnt/data/public/farm-bing18/BingMaps_Kediri_predict/30_12/model_farm/mask/'\n",
    "for img_path in os.listdir(path_img):\n",
    "    out_img = '/mnt/data/public/farm-bing18/BingMaps_Kediri_predict/30_12/model_farm/skeleton/'+img_path\n",
    "    if not os.path.exists(out_img):\n",
    "        image = path_img + img_path\n",
    "        print(image)\n",
    "        with rasterio.open(image) as f:\n",
    "            data = f.read()\n",
    "            out_meta = f.meta\n",
    "        star = time.time()\n",
    "        data = remove_small_holes(data.astype(bool), area_threshold=77)\n",
    "        data = remove_small_objects(data, min_size=77)\n",
    "        print(time.time()-star)\n",
    "        start = time.time()\n",
    "        # skeleton = skeletonize(np.logical_not(data).astype(np.uint8))\n",
    "        skeleton = skeletonize(data.astype(np.uint8))\n",
    "        print(time.time()-start)\n",
    "        print(out_img)\n",
    "        with rasterio.open(out_img, \"w\", **out_meta, compress='lzw') as dest:\n",
    "            dest.write(skeleton)"
   ]
  },
  {
   "cell_type": "code",
   "execution_count": 1,
   "id": "21d6686d",
   "metadata": {},
   "outputs": [],
   "source": [
    "import time, cv2\n",
    "import rasterio.mask\n",
    "import numpy as np\n",
    "import pandas as pd\n",
    "import glob, os\n",
    "import rasterio\n",
    "import geopandas as gp\n",
    "from cythonn import helloworld, Vectorization\n",
    "from skimage.morphology import skeletonize, remove_small_holes, remove_small_objects\n",
    "\n",
    "path_ggmap = '/mnt/data/public/farm_uint16/mos_neighbor_8u_predict.geojson'\n",
    "path_bing = '/mnt/data/public/farm_uint16/mos_neighbor_8u_predict_v2.geojson'\n",
    "img = '/mnt/data/public/farm_uint16/mos_neighbor_8u.tif'\n",
    "save_path = '/mnt/data/public/farm_uint16/mos_neighbor_8u_result.geojson'\n",
    "\n",
    "b = gp.read_file(path_ggmap)\n",
    "a = gp.read_file(path_bing)\n",
    "\n",
    "a['ida'] = list(range(len(a)))\n",
    "b['idb'] = list(range(len(b)))"
   ]
  },
  {
   "cell_type": "code",
   "execution_count": 2,
   "id": "f7b2a88b",
   "metadata": {},
   "outputs": [],
   "source": [
    "b_c = gp.overlay(b, a, how='difference')\n",
    "df = a.append(b_c)\n",
    "gdf = gp.GeoDataFrame(df['geometry'], geometry='geometry', crs='EPSG:4326')"
   ]
  },
  {
   "cell_type": "code",
   "execution_count": 8,
   "id": "465e4eed",
   "metadata": {},
   "outputs": [
    {
     "name": "stdout",
     "output_type": "stream",
     "text": [
      "17245.86977314949\n"
     ]
    }
   ],
   "source": [
    "# b = b.to_crs(\"EPSG:4326\")\n",
    "\n",
    "# df1 = b.iloc[b_c['idb']]\n",
    "df2 = b.iloc[b['idb'].drop(b_c['idb'])]\n",
    "df = a.append(df2)\n",
    "gdf = gp.GeoDataFrame(df['geometry'], geometry='geometry', crs='EPSG:4326')\n",
    "# df_difference = gp.overlay(a, gdf, how='difference')\n",
    "\n",
    "# x = gdf.append(df_difference)\n",
    "# gdf = gp.GeoDataFrame(x['geometry'], geometry='geometry', crs='EPSG:4326')\n",
    "print(time.time()-end)"
   ]
  },
  {
   "cell_type": "code",
   "execution_count": 3,
   "id": "4922551c",
   "metadata": {},
   "outputs": [
    {
     "name": "stdout",
     "output_type": "stream",
     "text": [
      "6.366254091262817\n",
      "(11132, 6633)\n",
      "3.377389430999756\n"
     ]
    }
   ],
   "source": [
    "with rasterio.open(img) as src:\n",
    "    height = src.height\n",
    "    width = src.width\n",
    "    transform = src.transform\n",
    "    out_meta = src.meta\n",
    "    projstr = src.crs.to_string()\n",
    "\n",
    "mask = rasterio.features.geometry_mask(gdf['geometry'].boundary, (height, width), transform, invert=True, all_touched=True).astype('uint8')\n",
    "\n",
    "end = time.time()\n",
    "kernel = np.ones((3,3),np.uint8)\n",
    "img = cv2.dilate(mask,kernel,iterations = 1)\n",
    "img = remove_small_holes(img.astype(bool), area_threshold=66)\n",
    "img = skeletonize(img)\n",
    "print(time.time()-end)\n",
    "print(mask.shape)\n",
    "end = time.time()\n",
    "Vectorization.save_polygon(np.pad(img, pad_width=1).astype(np.intc), 3,5,transform, projstr, save_path)\n",
    "print(time.time()-end)"
   ]
  },
  {
   "cell_type": "code",
   "execution_count": 10,
   "id": "9d32a417",
   "metadata": {},
   "outputs": [
    {
     "name": "stdout",
     "output_type": "stream",
     "text": [
      "/media/skymap/Learnning/public/farm-bing18/Data/predicttttttttttttttt/label/box_57.tif\n",
      "32.651195764541626\n",
      "/media/skymap/Learnning/public/farm-bing18/Data/predicttttttttttttttt/label/box_46.tif\n",
      "84.7033097743988\n",
      "/media/skymap/Learnning/public/farm-bing18/Data/predicttttttttttttttt/label/box_49.tif\n",
      "100.64625883102417\n",
      "/media/skymap/Learnning/public/farm-bing18/Data/predicttttttttttttttt/label/box_50.tif\n",
      "84.36880016326904\n",
      "/media/skymap/Learnning/public/farm-bing18/Data/predicttttttttttttttt/label/box_45.tif\n",
      "129.77138757705688\n"
     ]
    }
   ],
   "source": [
    "# import rasterio\n",
    "# import cv2\n",
    "# import numpy as np\n",
    "# import timeit\n",
    "# from skimage.morphology import skeletonize, remove_small_holes,thin\n",
    "# from math import sqrt\n",
    "# import sys\n",
    "# import time\n",
    "# import copy\n",
    "# import pandas as pd\n",
    "# import os, glob\n",
    "\n",
    "\n",
    "# image_path = '/media/skymap/Learnning/public/farm-bing18/Data/predicttttttttttttttt/label/*.tif'\n",
    "\n",
    "# for image in glob.glob(image_path):\n",
    "#     print(image)\n",
    "#     with rasterio.open(image) as inds:\n",
    "#         data = inds.read()\n",
    "#         out_meta = inds.meta\n",
    "#         transform = inds.transform\n",
    "#         projstr = inds.crs.to_string()\n",
    "\n",
    "#         end = time.time()\n",
    "#         kernel = np.ones((3,3),np.uint8)\n",
    "\n",
    "#         img = cv2.dilate(data[0],kernel,iterations = 1)\n",
    "#         img = remove_small_holes(img.astype(bool), area_threshold=66)\n",
    "#         skeleton = skeletonize(img)\n",
    "#         print(time.time()-end)\n",
    "#     #     skeleton = skeletonize(np.logical_not(data).astype(np.uint8))\n",
    "\n",
    "#     out_img_img = '/media/skymap/Learnning/public/farm-bing18/Data/predicttttttttttttttt/skeee/' + os.path.basename(image)\n",
    "#     with rasterio.open(out_img_img, \"w\", **out_meta, compress='lzw') as dest:\n",
    "#         dest.write(skeleton[np.newaxis,...].astype(np.uint8))"
   ]
  },
  {
   "cell_type": "code",
   "execution_count": 2,
   "id": "b1e72632",
   "metadata": {},
   "outputs": [
    {
     "name": "stderr",
     "output_type": "stream",
     "text": [
      "\n",
      "Bad key \"text.kerning_factor\" on line 4 in\n",
      "/home/skymap/anaconda3/envs/mlenv/lib/python3.6/site-packages/matplotlib/mpl-data/stylelib/_classic_test_patch.mplstyle.\n",
      "You probably need to get an updated matplotlibrc file from\n",
      "https://github.com/matplotlib/matplotlib/blob/v3.1.3/matplotlibrc.template\n",
      "or from the matplotlib source distribution\n"
     ]
    }
   ],
   "source": [
    "import rasterio\n",
    "import cv2\n",
    "import numpy as np\n",
    "import timeit\n",
    "from skimage.morphology import skeletonize, remove_small_holes\n",
    "from math import sqrt\n",
    "import sys\n",
    "import time\n",
    "import copy\n",
    "import pandas as pd\n",
    "import os, glob\n",
    "from cythonn import helloworld\n",
    "import matplotlib.pyplot as plt\n",
    "\n",
    "image = '/media/skymap/Learnning/public/farm-bing18/sandip_farm/bing_mask_ada.tif'\n",
    "image1 = '/media/skymap/Learnning/public/farm-bing18/sandip_farm/bing_mask_ada1.tif'\n",
    "# image2 = '/media/skymap/Learnning/public/farm-bing18/Clip_2_gmap_mask2.tif'\n",
    "\n",
    "with rasterio.open(image) as f:\n",
    "    data = f.read()\n",
    "    \n",
    "with rasterio.open(image1) as f:\n",
    "    data1 = f.read()\n",
    "    \n",
    "# with rasterio.open(image2) as f:\n",
    "#     data2 = f.read()\n",
    "    out_meta = f.meta\n",
    "    transform = f.transform\n",
    "    projstr = f.crs.to_string()\n",
    "    \n",
    "dataaaa = data+data1\n",
    "dataaaa[dataaaa!=0]=1"
   ]
  },
  {
   "cell_type": "code",
   "execution_count": 3,
   "id": "4f5af457",
   "metadata": {
    "scrolled": true
   },
   "outputs": [
    {
     "name": "stdout",
     "output_type": "stream",
     "text": [
      "0.1515798568725586\n",
      "done!!!\n"
     ]
    }
   ],
   "source": [
    "star = time.time()\n",
    "kernel = np.ones((3,3),np.uint8)\n",
    "data= cv2.dilate(dataaaa[0],kernel,iterations = 1)\n",
    "data = remove_small_holes(dataaaa.astype(bool), area_threshold=66)\n",
    "data = remove_small_holes(np.logical_not(data), area_threshold=66)\n",
    "print(time.time()-star)\n",
    "start = time.time()\n",
    "skeleton = skeletonize(np.logical_not(data).astype(np.uint8))\n",
    "\n",
    "save_path = '/media/skymap/Learnning/public/farm-bing18/sandip_farm/skeleton.geojson'\n",
    "helloworld.save_polygon(np.pad(skeleton[0], pad_width=1).astype(np.intc), 4,4,transform, projstr, save_path)"
   ]
  },
  {
   "cell_type": "code",
   "execution_count": 2,
   "id": "6ce41926",
   "metadata": {},
   "outputs": [
    {
     "name": "stdout",
     "output_type": "stream",
     "text": [
      "34.36100220680237\n"
     ]
    },
    {
     "ename": "NameError",
     "evalue": "name 'skeleton' is not defined",
     "output_type": "error",
     "traceback": [
      "\u001b[0;31m---------------------------------------------------------------------------\u001b[0m",
      "\u001b[0;31mNameError\u001b[0m                                 Traceback (most recent call last)",
      "\u001b[0;32m<ipython-input-2-f5aeaa88383b>\u001b[0m in \u001b[0;36m<module>\u001b[0;34m\u001b[0m\n\u001b[1;32m     57\u001b[0m \u001b[0mout_img_img\u001b[0m \u001b[0;34m=\u001b[0m \u001b[0;34m'/media/skymap/Learnning/public/Sinarmas/pb_mounding/s17_new_train/predict_nam.tif'\u001b[0m\u001b[0;34m\u001b[0m\u001b[0;34m\u001b[0m\u001b[0m\n\u001b[1;32m     58\u001b[0m \u001b[0;32mwith\u001b[0m \u001b[0mrasterio\u001b[0m\u001b[0;34m.\u001b[0m\u001b[0mopen\u001b[0m\u001b[0;34m(\u001b[0m\u001b[0mout_img_img\u001b[0m\u001b[0;34m,\u001b[0m \u001b[0;34m\"w\"\u001b[0m\u001b[0;34m,\u001b[0m \u001b[0;34m**\u001b[0m\u001b[0mout_meta\u001b[0m\u001b[0;34m,\u001b[0m \u001b[0mcompress\u001b[0m\u001b[0;34m=\u001b[0m\u001b[0;34m'lzw'\u001b[0m\u001b[0;34m)\u001b[0m \u001b[0;32mas\u001b[0m \u001b[0mdest\u001b[0m\u001b[0;34m:\u001b[0m\u001b[0;34m\u001b[0m\u001b[0;34m\u001b[0m\u001b[0m\n\u001b[0;32m---> 59\u001b[0;31m     \u001b[0mdest\u001b[0m\u001b[0;34m.\u001b[0m\u001b[0mwrite\u001b[0m\u001b[0;34m(\u001b[0m\u001b[0mskeleton\u001b[0m\u001b[0;34m[\u001b[0m\u001b[0mnp\u001b[0m\u001b[0;34m.\u001b[0m\u001b[0mnewaxis\u001b[0m\u001b[0;34m,\u001b[0m\u001b[0;34m...\u001b[0m\u001b[0;34m]\u001b[0m\u001b[0;34m.\u001b[0m\u001b[0mastype\u001b[0m\u001b[0;34m(\u001b[0m\u001b[0mnp\u001b[0m\u001b[0;34m.\u001b[0m\u001b[0muint8\u001b[0m\u001b[0;34m)\u001b[0m\u001b[0;34m)\u001b[0m\u001b[0;34m\u001b[0m\u001b[0;34m\u001b[0m\u001b[0m\n\u001b[0m",
      "\u001b[0;31mNameError\u001b[0m: name 'skeleton' is not defined"
     ]
    }
   ],
   "source": [
    "import rasterio\n",
    "import cv2\n",
    "import numpy as np\n",
    "import timeit\n",
    "from shapely.geometry import Polygon, box, mapping, LineString\n",
    "from skimage.morphology import skeletonize, remove_small_holes,thin\n",
    "from math import sqrt\n",
    "from shapely.ops import linemerge, unary_union, polygonize, polygonize_full\n",
    "import sys\n",
    "import time\n",
    "import copy \n",
    "from cythonn import helloworld, nam\n",
    "import time\n",
    "from sklearn.cluster import DBSCAN\n",
    "import pandas as pd\n",
    "import os, glob\n",
    "\n",
    "\n",
    "image = '/media/skymap/Learnning/public/Sinarmas/pb_mounding/s17_new_train/toppp.tif'\n",
    "with rasterio.open(image) as inds:\n",
    "    data = inds.read()\n",
    "    out_meta = inds.meta\n",
    "    transform = inds.transform\n",
    "    projstr = inds.crs.to_string()\n",
    "    check_epsg = inds.crs.is_epsg_code\n",
    "    if check_epsg:\n",
    "        epsg_code = inds.crs.to_epsg()\n",
    "    else:\n",
    "        epsg_code = None\n",
    "    if epsg_code:\n",
    "        out_crs = {'init':'epsg:{}'.format(epsg_code)}\n",
    "    else:\n",
    "        out_crs = projstr\n",
    "    end = time.time()\n",
    "    data = remove_small_holes(data.astype(bool), area_threshold=15000)\n",
    "    data = remove_small_holes(np.logical_not(data), area_threshold=15000)\n",
    "    \n",
    "    kernel3 = cv2.getStructuringElement(cv2.MORPH_CROSS, (9, 9))\n",
    "    kernel2 = cv2.getStructuringElement(cv2.MORPH_ELLIPSE, (9, 9))\n",
    "    kernel = np.ones((5,5),np.uint8)\n",
    "    \n",
    "#     img = cv2.erode(data[0],kernel,iterations = 1)\n",
    "    img = cv2.morphologyEx(np.logical_not(data).astype(np.uint8)[0], cv2.MORPH_OPEN, kernel3)\n",
    "    for _ in range(3):\n",
    "        img = cv2.morphologyEx(img, cv2.MORPH_OPEN, kernel3)\n",
    "        img = cv2.morphologyEx(img, cv2.MORPH_OPEN, kernel2)\n",
    "\n",
    "#     img = cv2.morphologyEx(img, cv2.MORPH_OPEN, kernel)\n",
    "    for _ in range(3):\n",
    "        img = cv2.morphologyEx(img, cv2.MORPH_CLOSE, kernel3)\n",
    "        img = cv2.morphologyEx(img, cv2.MORPH_CLOSE, kernel2)\n",
    "  \n",
    "    print(time.time()-end)\n",
    "#     skeleton = skeletonize(np.logical_not(data).astype(np.uint8))\n",
    "#     skeleton = skeletonize(img)\n",
    "out_img_img = '/media/skymap/Learnning/public/Sinarmas/pb_mounding/s17_new_train/predict_nam.tif'\n",
    "with rasterio.open(out_img_img, \"w\", **out_meta, compress='lzw') as dest:\n",
    "    dest.write(img[np.newaxis,...].astype(np.uint8))"
   ]
  },
  {
   "cell_type": "code",
   "execution_count": null,
   "id": "4a5f75c6",
   "metadata": {},
   "outputs": [],
   "source": []
  },
  {
   "cell_type": "code",
   "execution_count": 37,
   "id": "730eddbc",
   "metadata": {},
   "outputs": [],
   "source": [
    "image = '/media/skymap/Learnning/public/Sinarmas/pb_mounding/s17_new_train/predict1.tif'\n",
    "with rasterio.open(image) as inds:\n",
    "    data = inds.read()\n",
    "    out_meta = inds.meta\n",
    "    transform = inds.transform\n",
    "\n",
    "tophat = cv2.morphologyEx(data[0], cv2.MORPH_TOPHAT, cv2.getStructuringElement(cv2.MORPH_ELLIPSE,(189,44)))\n",
    "out_img_img = '/media/skymap/Learnning/public/Sinarmas/pb_mounding/s17_new_train/toppp.tif'\n",
    "with rasterio.open(out_img_img, \"w\", **out_meta, compress='lzw') as dest:\n",
    "    dest.write(tophat[np.newaxis,...])\n",
    "    \n",
    "image = '/media/skymap/Learnning/public/Sinarmas/pb_mounding/s17_new_train/predict.tif'\n",
    "with rasterio.open(image) as inds:\n",
    "    data = inds.read()[0]\n",
    "    out_meta = inds.meta   \n",
    "    end = time.time()\n",
    "#     skeleton = thin(data)\n",
    "    skeleton = skeletonize(np.logical_not(data.astype(bool)), method='lee')\n",
    "    print(time.time()-end)\n",
    "out_img_img = '/media/skymap/Learnning/public/Sinarmas/pb_mounding/s17_new_train/skeleton3.tif'\n",
    "with rasterio.open(out_img_img, \"w\", **out_meta, compress='lzw') as dest:\n",
    "    dest.write(skeleton[np.newaxis,...])"
   ]
  },
  {
   "cell_type": "code",
   "execution_count": 1,
   "id": "5b169356",
   "metadata": {},
   "outputs": [
    {
     "name": "stdout",
     "output_type": "stream",
     "text": [
      "/mnt/data/Nam_work_space/cythonn\n",
      "Compiling helloworld.pyx because it changed.\n",
      "[1/1] Cythonizing helloworld.pyx\n",
      "/home/skymap/anaconda3/envs/tf25/lib/python3.8/site-packages/Cython/Compiler/Main.py:369: FutureWarning: Cython directive 'language_level' not set, using 2 for now (Py2). This will change in a later release! File: /mnt/data/Nam_work_space/cythonn/helloworld.pyx\n",
      "  tree = Parsing.p_module(s, pxd, full_module_name)\n",
      "warning: helloworld.pyx:197:29: Index should be typed for more efficient access\n",
      "running build_ext\n",
      "building 'helloworld' extension\n",
      "gcc -pthread -B /home/skymap/anaconda3/envs/tf25/compiler_compat -Wl,--sysroot=/ -Wsign-compare -DNDEBUG -g -fwrapv -O3 -Wall -Wstrict-prototypes -fPIC -I/home/skymap/anaconda3/envs/tf25/include/python3.8 -c helloworld.c -o build/temp.linux-x86_64-3.8/helloworld.o\n",
      "gcc -pthread -shared -B /home/skymap/anaconda3/envs/tf25/compiler_compat -L/home/skymap/anaconda3/envs/tf25/lib -Wl,-rpath=/home/skymap/anaconda3/envs/tf25/lib -Wl,--no-as-needed -Wl,--sysroot=/ build/temp.linux-x86_64-3.8/helloworld.o -o /mnt/data/Nam_work_space/cythonn/helloworld.cpython-38-x86_64-linux-gnu.so\n",
      "/mnt/data/Nam_work_space\n"
     ]
    }
   ],
   "source": [
    "%cd cythonn\n",
    "!python setup.py build_ext --inplace\n",
    "%cd ../"
   ]
  },
  {
   "cell_type": "code",
   "execution_count": 1,
   "id": "f1d8f29b",
   "metadata": {},
   "outputs": [],
   "source": [
    "import rasterio\n",
    "import numpy as np\n",
    "\n",
    "with rasterio.open('/mnt/data/banana/oscar_banana/test_mask.tif') as r:\n",
    "    data1 = r.read()\n",
    "    meta = r.meta\n",
    "with rasterio.open('/mnt/data/banana/oscar_banana/test.tif') as x:\n",
    "    data2 = x.read()"
   ]
  },
  {
   "cell_type": "code",
   "execution_count": 6,
   "id": "8efd33e4",
   "metadata": {},
   "outputs": [],
   "source": [
    "data = data1 & data2"
   ]
  },
  {
   "cell_type": "code",
   "execution_count": 9,
   "id": "057185e9",
   "metadata": {},
   "outputs": [],
   "source": [
    "with rasterio.open('/mnt/data/banana/oscar_banana/result.tif', 'w', **meta, compile='lzw') as x:\n",
    "    x.write(data)"
   ]
  },
  {
   "cell_type": "code",
   "execution_count": 14,
   "id": "f2e4d232",
   "metadata": {},
   "outputs": [
    {
     "name": "stdout",
     "output_type": "stream",
     "text": [
      "0.5784928798675537\n",
      "done!!!\n",
      "5.260004281997681\n"
     ]
    }
   ],
   "source": [
    "import rasterio\n",
    "import numpy as np\n",
    "from cythonn import helloworld\n",
    "import time\n",
    "from skimage.morphology import skeletonize\n",
    "\n",
    "image = '/mnt/data/banana/oscar_banana/result.tif'\n",
    "with rasterio.open(image) as inds:\n",
    "    data = inds.read()[0]\n",
    "    out_meta = inds.meta\n",
    "    transform = inds.transform\n",
    "    out_crs = inds.crs.to_string()\n",
    "\n",
    "    end = time.time()\n",
    "    data = skeletonize(data)\n",
    "    # skeleton = skeletonize(np.logical_not(data.astype(bool)))\n",
    "    print(time.time()-end)\n",
    "\n",
    "end = time.time()\n",
    "save_path = '/mnt/data/public/banana_result/new_result_1801/dice_coef.shp'\n",
    "helloworld.save_polygon1(np.pad(data, pad_width=1).astype(np.intc), 3, 4, transform, out_crs, save_path)\n",
    "print(time.time()-end)"
   ]
  },
  {
   "cell_type": "code",
   "execution_count": 5,
   "id": "ca92295d",
   "metadata": {},
   "outputs": [],
   "source": [
    "import geopandas \n",
    "import numpy as np\n",
    "from shapely.geometry import LineString\n",
    "from shapely.ops import unary_union\n",
    "import itertools\n",
    "import pandas as pd\n",
    "\n",
    "a = geopandas.read_file(\"/mnt/data/public/banana_result/result_2401/result_line_noNdvi.geojson\")\n",
    "a = a.to_crs('EPSG:3857')\n",
    "a['length'] = a['geometry'].length\n",
    "# int(a.geometry.length.sum()/1.25)*2\n",
    "def xxx(a):\n",
    "    return (int(a/1.25)+1)*2\n",
    "\n",
    "a['count_tree'] = a['length'].apply(xxx)\n",
    "a.to_file('/mnt/data/public/banana_result/result_2401/result_line_noNdvi.geojson', driver='GeoJSON')"
   ]
  },
  {
   "cell_type": "code",
   "execution_count": 3,
   "id": "cd46b858",
   "metadata": {},
   "outputs": [],
   "source": [
    "def mm(line):\n",
    "    leng = line.length\n",
    "    n = int(leng/1.25)+1\n",
    "    distances = np.linspace(0, leng, n)\n",
    "    points = [line.interpolate(distance) for distance in distances]\n",
    "    # multipoint = unary_union(points)\n",
    "    return points\n",
    "\n",
    "def nn(line):\n",
    "    distance_delta = 1.25\n",
    "    distances = np.arange(0, line.length, distance_delta)\n",
    "    points = [line.interpolate(distance) for distance in distances] + [line.boundary[1]]\n",
    "    # multipoint = unary_union(points)\n",
    "    return points\n",
    "\n",
    "g = a['geometry'].apply(mm)\n",
    "result = list(itertools.chain(*g))\n",
    "data_fame = pd.DataFrame(result, columns=['geometry'])\n",
    "gdf = geopandas.GeoDataFrame(data_fame, geometry='geometry',crs='EPSG:3857')\n",
    "gdf.to_file('/mnt/data/public/banana_result/result_2401/result_point_noNdvi.geojson', driver='GeoJSON')"
   ]
  },
  {
   "cell_type": "code",
   "execution_count": 2,
   "id": "bc2f196d",
   "metadata": {},
   "outputs": [],
   "source": [
    "def left(line):\n",
    "    return line.parallel_offset(0.5, 'left', resolution=10, join_style=2, mitre_limit=5)\n",
    "def right(line):\n",
    "    return line.parallel_offset(0.5, 'right', resolution=10, join_style=2, mitre_limit=5)\n",
    "\n",
    "data = geopandas.read_file(\"/mnt/data/public/banana_result/result_line.geojson\")\n",
    "left = data['geometry'].apply(left)\n",
    "right = data['geometry'].apply(right)\n",
    "alls = left.append(right)\n",
    "\n",
    "data_fame = pd.DataFrame(alls, columns=['geometry'])\n",
    "gdf = geopandas.GeoDataFrame(data_fame, geometry='geometry',crs='EPSG:3857')\n",
    "gdf.to_file('/mnt/data/public/banana_result/result_2101/result_line_two_row.geojson', driver='GeoJSON')"
   ]
  },
  {
   "cell_type": "code",
   "execution_count": 1,
   "id": "e071eb40",
   "metadata": {},
   "outputs": [],
   "source": [
    "import geopandas \n",
    "import numpy as np\n",
    "from shapely.geometry import LineString\n",
    "from shapely.ops import unary_union\n",
    "import itertools\n",
    "import pandas as pd\n",
    "import rasterio\n",
    "\n",
    "with rasterio.open('/mnt/data/public/banana_result/new_result_1801/result_ndvi.tif') as r:\n",
    "    data = r.read()[0]\n",
    "    transform = r.transform\n",
    "    out_crs = r.crs.to_string()"
   ]
  },
  {
   "cell_type": "code",
   "execution_count": 9,
   "id": "bb76fa7f",
   "metadata": {},
   "outputs": [],
   "source": [
    "def convert(a):\n",
    "    gg = ((np.array(a) - np.array((transform[2], transform[5])))/ np.array((transform[0], transform[4]))).astype(np.uint16)\n",
    "    return data[gg[1], gg[0]]\n",
    "\n",
    "gdf = geopandas.read_file('/mnt/data/public/banana_result/result_2401/result_point_noNdvi.geojson')\n",
    "gdf = gdf.to_crs(out_crs)\n",
    "test = gdf['geometry'].apply(convert)"
   ]
  },
  {
   "cell_type": "code",
   "execution_count": null,
   "id": "0d39a47b",
   "metadata": {},
   "outputs": [],
   "source": [
    "gdf = gdf[test==1]\n",
    "gdf.to_file('/mnt/data/public/banana_result/result_2401/result_point_Ndvi.geojson')"
   ]
  },
  {
   "cell_type": "code",
   "execution_count": null,
   "id": "6123fd68",
   "metadata": {},
   "outputs": [],
   "source": []
  },
  {
   "cell_type": "code",
   "execution_count": 3,
   "id": "76ce9c7a",
   "metadata": {},
   "outputs": [],
   "source": [
    "import rasterio\n",
    "import cv2\n",
    "import numpy as np\n",
    "\n",
    "image = '/media/skymap/Learnning/public/banana/dinesh-banana_mask.tif'\n",
    "with rasterio.open(image) as inds:\n",
    "    data = inds.read()[0]\n",
    "    out_meta = inds.meta\n",
    "\n",
    "kernel3 = cv2.getStructuringElement(cv2.MORPH_CROSS, (3, 3))\n",
    "kernel2 = cv2.getStructuringElement(cv2.MORPH_ELLIPSE, (3, 3))\n",
    "kernel = np.zeros((5,5), dtype=np.uint8)\n",
    "kernel[:,2]=1\n",
    "\n",
    "img = cv2.morphologyEx(data, cv2.MORPH_OPEN, kernel)\n",
    "for _ in range(3):\n",
    "    img = cv2.morphologyEx(img, cv2.MORPH_OPEN, kernel)\n",
    "    img = cv2.morphologyEx(img, cv2.MORPH_OPEN, kernel2)\n",
    "    \n",
    "img = cv2.morphologyEx(img, cv2.MORPH_OPEN, kernel)\n",
    "for _ in range(3):\n",
    "    img = cv2.morphologyEx(img, cv2.MORPH_CLOSE, kernel3)\n",
    "    img = cv2.morphologyEx(img, cv2.MORPH_CLOSE, kernel)\n",
    "    \n",
    "out_img = '/media/skymap/Learnning/public/banana/mm_dinesh-banana.tif'\n",
    "with rasterio.open(out_img, \"w\", **out_meta, compress='lzw') as dest:\n",
    "    dest.write(img[np.newaxis,...])"
   ]
  },
  {
   "cell_type": "code",
   "execution_count": 33,
   "id": "262351a4",
   "metadata": {},
   "outputs": [],
   "source": [
    "import rasterio\n",
    "import cv2\n",
    "import numpy as np\n",
    "\n",
    "image = '/media/skymap/Learnning/public/Sinarmas/pb_mounding/s17_new_train/image/result4.tif'\n",
    "with rasterio.open(image) as inds:\n",
    "    data = inds.read()[0]\n",
    "    out_meta = inds.meta\n",
    "\n",
    "star = time.time()\n",
    "a = remove_small_holes(data.astype(bool), area_threshold=20000)\n",
    "print(time.time()-star)\n",
    "a = remove_small_holes(np.logical_not(a), area_threshold=20000)\n",
    "print(time.time()-star)\n",
    "\n",
    "out_img = '/media/skymap/Learnning/public/Sinarmas/pb_mounding/s17_new_train/image/result4_new.tif'\n",
    "with rasterio.open(out_img, \"w\", **out_meta, compress='lzw') as dest:\n",
    "    dest.write(np.logical_not(a)[np.newaxis,...].astype(np.uint8))"
   ]
  },
  {
   "cell_type": "code",
   "execution_count": null,
   "id": "6cc4021b",
   "metadata": {},
   "outputs": [],
   "source": []
  },
  {
   "cell_type": "code",
   "execution_count": null,
   "id": "59a1edeb",
   "metadata": {},
   "outputs": [],
   "source": []
  },
  {
   "cell_type": "code",
   "execution_count": 8,
   "id": "84d6cf34",
   "metadata": {
    "scrolled": true
   },
   "outputs": [
    {
     "name": "stdout",
     "output_type": "stream",
     "text": [
      "tile_z11_1708_1001.tif\n",
      "458.42162251472473\n",
      "/media/skymap/Learnning/public/farm-bing18/Bingmaps_wajo_predict/skeleton/tile_z11_1708_1001.tif\n",
      "tile_z11_1708_1002.tif\n",
      "567.0604021549225\n",
      "/media/skymap/Learnning/public/farm-bing18/Bingmaps_wajo_predict/skeleton/tile_z11_1708_1002.tif\n"
     ]
    }
   ],
   "source": [
    "import rasterio\n",
    "import cv2\n",
    "import numpy as np\n",
    "import timeit\n",
    "from shapely.geometry import Polygon, box, mapping, LineString\n",
    "from skimage.morphology import skeletonize\n",
    "from math import sqrt\n",
    "import sys\n",
    "import copy \n",
    "from cythonn import helloworld, nam\n",
    "import time\n",
    "import pandas as pd\n",
    "import os, glob\n",
    "\n",
    "\n",
    "kernel = cv2.getStructuringElement(cv2.MORPH_CROSS, (3, 3))\n",
    "kernel2 = cv2.getStructuringElement(cv2.MORPH_ELLIPSE, (5, 5))\n",
    "\n",
    "for i in os.listdir('/media/skymap/Learnning/public/farm-bing18/Bingmaps_wajo_predict/adalsn/'):\n",
    "    if not os.path.exists('/media/skymap/Learnning/public/farm-bing18/Bingmaps_wajo_predict/sum/'+i):\n",
    "        print(i)\n",
    "        with rasterio.open('/media/skymap/Learnning/public/farm-bing18/Bingmaps_wajo_predict/adalsn/'+i) as a:\n",
    "            img1 = a.read()\n",
    "        with rasterio.open('/media/skymap/Learnning/public/farm-bing18/Bingmaps_wajo_predict/u2net/'+i) as u:\n",
    "            out_meta = u.meta\n",
    "            img2 = u.read()\n",
    "        out_meta.update({'nodata': 0})\n",
    "\n",
    "\n",
    "        img = (img1+img2)\n",
    "        img = (img>0.5).astype(np.uint8)\n",
    "        with rasterio.open('/media/skymap/Learnning/public/farm-bing18/Bingmaps_wajo_predict/sum/'+i, \"w\", **out_meta, compress='lzw') as dest:\n",
    "            dest.write(img)\n",
    "\n",
    "        start = time.time()\n",
    "        skeleton = skeletonize(img)\n",
    "        end = time.time()\n",
    "        print(end-start)\n",
    "        out_img = '/media/skymap/Learnning/public/farm-bing18/Bingmaps_wajo_predict/skeleton/'+i\n",
    "        print(out_img)\n",
    "        with rasterio.open(out_img, \"w\", **out_meta, compress='lzw') as dest:\n",
    "            dest.write(skeleton)"
   ]
  },
  {
   "cell_type": "code",
   "execution_count": 1,
   "id": "9bec907e",
   "metadata": {},
   "outputs": [],
   "source": [
    "list_img = ['box_45.shp', 'box_46.shp', 'box_47.shp', 'box_48.shp', 'box_49.shp', 'box_50.shp', 'box_43.shp', 'box_34.shp']\n",
    "list_xxx = ['tile_z11_1708_999.shp', 'tile_z11_1708_998.shp', 'tile_z11_1708_997.shp', 'tile_z11_1708_996.shp', 'tile_z11_1707_995.shp']\n",
    "\n",
    "path_img = '/media/skymap/Learnning/public/farm-bing18/Data/shapefileeeeeeeeeeeeeeeeeeeeeeee/'\n",
    "out_path = '/media/skymap/Learnning/public/farm-bing18/Data/newwwwwwwwwwwwwwwwwwwww/'\n",
    "path_imgxxx = '/media/skymap/Learnning/public/farm-bing18/Data/crop_data/shp/'\n",
    "path_xxx = '/media/skymap/Learnning/public/farm-bing18/Data/Bone_esri_4326/shapefile/'\n"
   ]
  },
  {
   "cell_type": "code",
   "execution_count": 4,
   "id": "384e3e10",
   "metadata": {
    "scrolled": true
   },
   "outputs": [
    {
     "name": "stdout",
     "output_type": "stream",
     "text": [
      "box_45.shp\n",
      "1\n",
      "1\n",
      "1\n",
      "tile_z11_1708_998.shp\n",
      "1\n",
      "tile_z11_1708_997.shp\n",
      "1\n",
      "tile_z11_1708_996.shp\n",
      "1\n",
      "tile_z11_1707_995.shp\n",
      "box_46.shp\n",
      "tile_z11_1708_999.shp\n",
      "tile_z11_1708_998.shp\n",
      "tile_z11_1708_997.shp\n",
      "tile_z11_1708_996.shp\n",
      "tile_z11_1707_995.shp\n",
      "box_47.shp\n",
      "1\n",
      "tile_z11_1708_999.shp\n",
      "1\n",
      "1\n",
      "1\n",
      "tile_z11_1708_997.shp\n",
      "1\n",
      "tile_z11_1708_996.shp\n",
      "1\n",
      "tile_z11_1707_995.shp\n",
      "box_48.shp\n",
      "1\n",
      "tile_z11_1708_999.shp\n",
      "1\n",
      "1\n",
      "1\n",
      "1\n",
      "1\n",
      "tile_z11_1708_996.shp\n",
      "1\n",
      "tile_z11_1707_995.shp\n",
      "box_49.shp\n",
      "1\n",
      "tile_z11_1708_999.shp\n",
      "1\n",
      "tile_z11_1708_998.shp\n",
      "1\n",
      "1\n",
      "1\n",
      "1\n",
      "1\n",
      "tile_z11_1707_995.shp\n",
      "box_50.shp\n",
      "1\n",
      "tile_z11_1708_999.shp\n",
      "1\n",
      "tile_z11_1708_998.shp\n",
      "1\n",
      "tile_z11_1708_997.shp\n",
      "1\n",
      "1\n",
      "1\n",
      "tile_z11_1707_995.shp\n",
      "box_43.shp\n",
      "1\n",
      "tile_z11_1708_999.shp\n",
      "1\n",
      "tile_z11_1708_998.shp\n",
      "1\n",
      "tile_z11_1708_997.shp\n",
      "1\n",
      "tile_z11_1708_996.shp\n",
      "1\n",
      "1\n",
      "box_34.shp\n",
      "1\n",
      "tile_z11_1708_999.shp\n",
      "1\n",
      "tile_z11_1708_998.shp\n",
      "1\n",
      "tile_z11_1708_997.shp\n",
      "1\n",
      "tile_z11_1708_996.shp\n",
      "1\n",
      "1\n"
     ]
    }
   ],
   "source": [
    "# df1 = gp.GeoDataFrame()\n",
    "import geopandas as gp\n",
    "import numpy as np\n",
    "\n",
    "for i in list_img:\n",
    "    df1 = gp.read_file(path_imgxxx+i)\n",
    "    df3 = gp.read_file(path_img+i)\n",
    "    df1x = df1.to_crs('EPSG:3857')\n",
    "    df1 = df1[df1x['geometry'].area>100000]\n",
    "    dfff = gp.GeoDataFrame()\n",
    "    check = False\n",
    "    print(i)\n",
    "    for j in list_xxx:\n",
    "        try:\n",
    "            df2 = gp.read_file(path_xxx+j)\n",
    "            df1_df2 = gp.overlay(df2, df1, how='intersection')\n",
    "            print('1')\n",
    "            df1_df2 = df2.loc[df1_df2['FID']]\n",
    "            dfxx = gp.overlay(df3, df1_df2, how='intersection')\n",
    "            print('1')\n",
    "            a = np.unique(dfxx['FID_2'])\n",
    "            b = np.unique(df1_df2['FID'])\n",
    "            c = np.setdiff1d(b,a)\n",
    "            dff = df3.append(df1_df2.loc[c])\n",
    "            dfff=dfff.append(dff)\n",
    "            check = True\n",
    "        except:\n",
    "            print(j)\n",
    "    if check:\n",
    "        dfff.to_file(out_path+i)"
   ]
  },
  {
   "cell_type": "code",
   "execution_count": 7,
   "id": "17a068e3",
   "metadata": {},
   "outputs": [],
   "source": []
  },
  {
   "cell_type": "code",
   "execution_count": 10,
   "id": "1db53086",
   "metadata": {},
   "outputs": [],
   "source": [
    "# import os\n",
    "# os.mkdir('/mnt/data/Nam_work_space/changedetection_SAR/data_train')\n",
    "# !rm -r -f /mnt/data/Nam_work_space/data_train/image\n",
    "# !rm -r -f /mnt/data/Nam_work_space/data_train/label"
   ]
  },
  {
   "cell_type": "code",
   "execution_count": 3,
   "id": "aa379aad",
   "metadata": {},
   "outputs": [],
   "source": []
  },
  {
   "cell_type": "code",
   "execution_count": 2,
   "id": "71c54cd0",
   "metadata": {
    "scrolled": true
   },
   "outputs": [
    {
     "name": "stdout",
     "output_type": "stream",
     "text": [
      "(2, 11193, 11559)\n"
     ]
    }
   ],
   "source": [
    "# import rasterio\n",
    "# import rasterio.mask\n",
    "# import geopandas as gp\n",
    "# from shapely.geometry import box\n",
    "# import numpy as np\n",
    "# import pandas as pd\n",
    "\n",
    "# image_path = '/media/skymap/Learnning/public/changedetection_SAR/data_QN/QN_sen1_1.tif'\n",
    "# shape_path = '/media/skymap/Learnning/public/changedetection_SAR/data_QN/QN_sen2_1.tif'\n",
    "\n",
    "# with rasterio.open(shape_path, mode='r+') as src:\n",
    "#     transform = src.transform\n",
    "#     height = src.height\n",
    "#     width = src.width\n",
    "#     out_crs = src.crs.to_string()\n",
    "\n",
    "# min = transform*(0,0)\n",
    "# max = transform*(height, width)\n",
    "# boxx = box(*np.minimum(min,max), *np.maximum(min,max))\n",
    "\n",
    "# img_cut = '/media/skymap/Learnning/public/changedetection_SAR/data_QN/QN_pre_sen1_1.tif'\n",
    "# with rasterio.open(image_path) as src:\n",
    "#     projstr = src.crs.to_string()\n",
    "#     data_fame = pd.DataFrame({'geometry': [boxx]})\n",
    "#     gdf = gp.GeoDataFrame(data_fame, geometry='geometry',crs=out_crs)\n",
    "#     gdf = gdf.to_crs(projstr)\n",
    "    \n",
    "#     out_image, out_transform = rasterio.mask.mask(src, [gdf.geometry.iloc[0]], crop=True)\n",
    "#     print(out_image.shape)\n",
    "#     out_meta = src.meta\n",
    "# out_meta.update({\"driver\": \"GTiff\",\n",
    "#         \"height\": out_image.shape[1],\n",
    "#         \"width\": out_image.shape[2],\n",
    "#         \"transform\": out_transform})\n",
    "# with rasterio.open(img_cut, \"w\", **out_meta, compress='RAW') as dest:\n",
    "#     dest.write(out_image)"
   ]
  },
  {
   "cell_type": "code",
   "execution_count": null,
   "id": "87901159",
   "metadata": {},
   "outputs": [],
   "source": []
  },
  {
   "cell_type": "code",
   "execution_count": null,
   "id": "0c66f594",
   "metadata": {
    "scrolled": true
   },
   "outputs": [],
   "source": [
    "import rasterio\n",
    "import cv2\n",
    "import numpy as np\n",
    "import timeit\n",
    "from skimage.morphology import skeletonize, remove_small_holes, remove_small_objects\n",
    "from math import sqrt\n",
    "import sys\n",
    "import time\n",
    "import copy\n",
    "import pandas as pd\n",
    "import os, glob\n",
    "from multiprocessing import Pool\n",
    "\n",
    "def test(path):\n",
    "    path_img = '/media/skymap/Learnning/public/farm-bing18/Data/Bone_esri_4326/predict/'\n",
    "    image = path_img + path\n",
    "    with rasterio.open(image) as f:\n",
    "        data = f.read()\n",
    "        out_meta = f.meta\n",
    "    star = time.time()\n",
    "    data = remove_small_holes(data.astype(bool), area_threshold=77)\n",
    "    data = remove_small_objects(data, min_size=77)\n",
    "    print(time.time()-star)\n",
    "    start = time.time()\n",
    "    skeleton = skeletonize(data.astype(np.uint8))\n",
    "    print(time.time()-start)\n",
    "    out_img = '/media/skymap/Learnning/public/farm-bing18/Data/Bone_esri_4326/testt/'+path\n",
    "    print(out_img)\n",
    "    print('--------------')\n",
    "    with rasterio.open(out_img, \"w\", **out_meta, compress='lzw') as dest:\n",
    "        dest.write(skeleton)\n",
    "\n",
    "xxx= os.listdir('/media/skymap/Learnning/public/farm-bing18/Data/Bone_esri_4326/predict/')\n",
    "with Pool() as p:\n",
    "    p.map(test, xxx)"
   ]
  },
  {
   "cell_type": "code",
   "execution_count": null,
   "id": "8887825e",
   "metadata": {},
   "outputs": [
    {
     "name": "stdout",
     "output_type": "stream",
     "text": [
      "11.670470714569092\n",
      "266.6188666820526\n",
      "/media/skymap/Learnning/public/farm-bing18/Data/Bone_esri_4326/testt/tile_z11_1705_995.tif\n",
      "11.908211469650269\n",
      "101.48282241821289\n",
      "/media/skymap/Learnning/public/farm-bing18/Data/Bone_esri_4326/testt/tile_z11_1705_996.tif\n",
      "11.90815019607544\n",
      "94.11570954322815\n",
      "/media/skymap/Learnning/public/farm-bing18/Data/Bone_esri_4326/testt/tile_z11_1705_997.tif\n",
      "11.538219213485718\n",
      "94.86361622810364\n",
      "/media/skymap/Learnning/public/farm-bing18/Data/Bone_esri_4326/testt/tile_z11_1705_998.tif\n",
      "11.557778358459473\n"
     ]
    }
   ],
   "source": [
    "import rasterio\n",
    "import cv2\n",
    "import numpy as np\n",
    "import timeit\n",
    "from skimage.morphology import skeletonize, remove_small_holes, remove_small_objects\n",
    "from math import sqrt\n",
    "import sys\n",
    "import time\n",
    "import copy\n",
    "import pandas as pd\n",
    "import os, glob\n",
    "\n",
    "\n",
    "path_img = '/media/skymap/Learnning/public/farm-bing18/Data/Bone_esri_4326/predict/'\n",
    "for img_path in os.listdir(path_img):\n",
    "    image = path_img + img_path\n",
    "    with rasterio.open(image) as f:\n",
    "        data = f.read()\n",
    "        out_meta = f.meta\n",
    "    star = time.time()\n",
    "    data = remove_small_holes(data.astype(bool), area_threshold=77)\n",
    "#     data = remove_small_holes(np.logical_not(data), area_threshold=77)\n",
    "    data = remove_small_objects(data, min_size=77)\n",
    "    print(time.time()-star)\n",
    "    start = time.time()\n",
    "#     skeleton = skeletonize(np.logical_not(data).astype(np.uint8))\n",
    "    skeleton = skeletonize(data.astype(np.uint8))\n",
    "    print(time.time()-start)\n",
    "    out_img = '/media/skymap/Learnning/public/farm-bing18/Data/Bone_esri_4326/testt/'+img_path\n",
    "    print(out_img)\n",
    "    with rasterio.open(out_img, \"w\", **out_meta, compress='lzw') as dest:\n",
    "        dest.write(skeleton)"
   ]
  },
  {
   "cell_type": "code",
   "execution_count": null,
   "id": "f38eb7ab",
   "metadata": {},
   "outputs": [],
   "source": []
  },
  {
   "cell_type": "code",
   "execution_count": null,
   "id": "e7290abd",
   "metadata": {},
   "outputs": [],
   "source": []
  }
 ],
 "metadata": {
  "kernelspec": {
   "display_name": "Python 3 (ipykernel)",
   "language": "python",
   "name": "python3"
  },
  "language_info": {
   "codemirror_mode": {
    "name": "ipython",
    "version": 3
   },
   "file_extension": ".py",
   "mimetype": "text/x-python",
   "name": "python",
   "nbconvert_exporter": "python",
   "pygments_lexer": "ipython3",
   "version": "3.8.0"
  }
 },
 "nbformat": 4,
 "nbformat_minor": 5
}
