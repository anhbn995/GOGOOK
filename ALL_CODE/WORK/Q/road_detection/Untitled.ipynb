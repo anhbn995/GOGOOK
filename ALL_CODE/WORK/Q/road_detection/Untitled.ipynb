{
 "cells": [
  {
   "cell_type": "code",
   "execution_count": 1,
   "id": "e88c79f0-ca3a-44b4-8052-5bd4c658e4ca",
   "metadata": {},
   "outputs": [],
   "source": [
    "import cv2\n",
    "import rasterio\n",
    "import numpy as np\n",
    "import geopandas as gpd\n",
    "import rasterio.features\n",
    "import matplotlib.pyplot as plt"
   ]
  },
  {
   "cell_type": "code",
   "execution_count": 36,
   "id": "c5224337-39d2-4276-a245-269f96c65d7e",
   "metadata": {},
   "outputs": [],
   "source": [
    "img_path = '/home/quyet/DATA_ML/Projects/kuwait_road/test/20220404_132910_ssc17_u0001_visual_clip_0_0015.tif'\n",
    "with rasterio.open(img_path) as src:\n",
    "    height = src.height\n",
    "    width = src.width\n",
    "    tr = src.transform\n",
    "    crs = src.crs\n",
    "    out_meta = src.meta\n",
    "    projstr = src.crs.to_string()\n",
    "\n",
    "shp = gpd.read_file('/home/quyet/DATA_ML/Projects/kuwait_road/test/test.shp')\n",
    "shp = shp.to_crs(projstr)\n",
    "# ls_geo = [(x.geometry) for i, x in shp.iterrows()]\n",
    "road_mask = rasterio.features.geometry_mask(shp['geometry']\n",
    "                                ,out_shape=(height, width)\n",
    "                                ,transform=tr)[np.newaxis,...]\n",
    "\n",
    "num_band = 1\n",
    "dtype=\"uint8\"\n",
    "path_out = '/home/quyet/DATA_ML/Projects/kuwait_road/test/test.tif'\n",
    "out_meta.update({\"count\": 1, \"dtype\": 'uint8', 'nodata': 0})\n",
    "new_dataset = rasterio.open(path_out, 'w', compress='lzw', **out_meta)\n",
    "new_dataset.write(road_mask)\n",
    "new_dataset.close()"
   ]
  },
  {
   "cell_type": "code",
   "execution_count": 59,
   "id": "78260691-1fd2-42f3-9b20-f75a6c5c53a1",
   "metadata": {},
   "outputs": [],
   "source": [
    "import numpy as np\n",
    "from PIL import Image\n",
    "from scipy.ndimage import generic_filter\n",
    "from skimage.morphology import medial_axis\n",
    "\n",
    "# Line ends filter\n",
    "def lineEnds(P):\n",
    "    \"\"\"Central pixel and just one other must be set to be a line end\"\"\"\n",
    "    return 255 * ((P[4]==255) and np.sum(P)==510)\n",
    "\n",
    "# Open image and make into Numpy array\n",
    "# im = Image.open('lines.png').convert('L')\n",
    "# im = np.array(im)\n",
    "im = rasterio.open('/home/quyet/DATA_ML/Projects/kuwait_road/test/test.tif').read()[0]\n",
    "im = 1 - im\n",
    "# Skeletonize\n",
    "skel = (medial_axis(im)*255).astype(np.uint8)\n",
    "\n",
    "# Find line ends\n",
    "result = generic_filter(skel, lineEnds, (3, 3))\n",
    "\n",
    "# Save result\n",
    "# Image.fromarray(result).save('result.png')\n",
    "\n",
    "print(np.unique(result))\n",
    "location = np.where(result == 255)"
   ]
  },
  {
   "cell_type": "code",
   "execution_count": 1,
   "id": "5e874cbc-0c63-48d7-89d1-d145524d9c0f",
   "metadata": {},
   "outputs": [
    {
     "name": "stdout",
     "output_type": "stream",
     "text": [
      "Orig dims: (42978, 91582), New dims: (21488, 45790)\n"
     ]
    }
   ],
   "source": [
    "from contextlib import contextmanager  \n",
    "\n",
    "import rasterio\n",
    "from rasterio import Affine, MemoryFile\n",
    "from rasterio.enums import Resampling\n",
    "\n",
    "# use context manager so DatasetReader and MemoryFile get cleaned up automatically\n",
    "@contextmanager\n",
    "def resample_raster(raster, outpath, scale=2):\n",
    "    t = raster.transform\n",
    "\n",
    "    # rescale the metadata\n",
    "    transform = Affine(t.a / scale, t.b, t.c, t.d, t.e / scale, t.f)\n",
    "    height = int(raster.height * scale)\n",
    "    width = int(raster.width * scale)\n",
    "\n",
    "    profile = raster.profile\n",
    "    profile.update(transform=transform, driver='GTiff', height=height, width=width)\n",
    "\n",
    "    data = raster.read( # Note changed order of indexes, arrays are band, row, col order not row, col, band\n",
    "            out_shape=(raster.count, height, width),\n",
    "            resampling=Resampling.bilinear,\n",
    "        )\n",
    "    \n",
    "    num_band = raster.read().shape[0]\n",
    "    new_dataset = rasterio.open(outpath, 'w', **profile)\n",
    "    new_dataset.write(data)\n",
    "    new_dataset.close()\n",
    "    \n",
    "    with MemoryFile() as memfile:\n",
    "        with memfile.open(**profile) as dataset: # Open as DatasetWriter\n",
    "            dataset.write(data)\n",
    "            del data\n",
    "        \n",
    "        with memfile.open() as dataset:  # Reopen as DatasetReader\n",
    "            yield dataset  # Note yield not return     \n",
    "\n",
    "inpath = '/home/quyet/DATA_ML/Projects/test_building_footprint/img/Nunukan_3B_1m.tif'\n",
    "outpath = '/home/quyet/DATA_ML/Projects/test_building_footprint/img/Nunukan_3B_%s.tif'%('0.3m')\n",
    "with rasterio.open(inpath) as src:\n",
    "    tr = src.transform\n",
    "    scale = tr[0] / 0.3\n",
    "    with resample_raster(src, outpath, scale) as resampled:\n",
    "        print('Orig dims: {}, New dims: {}'.format(src.shape, resampled.shape))\n",
    "        # print(repr(resampled))"
   ]
  },
  {
   "cell_type": "code",
   "execution_count": 3,
   "id": "b0bad279-999b-42f6-9984-7e7de9a33585",
   "metadata": {},
   "outputs": [],
   "source": [
    "with rasterio.open('/home/quyet/DATA_ML/Projects/road_multi/crop/20220404_132910_ssc17_u0001_visual_clip_0.tif') as src:\n",
    "    img = src.read()\n",
    "    tr = src.transform\n",
    "    crs = src.crs"
   ]
  },
  {
   "cell_type": "code",
   "execution_count": 2,
   "id": "d8552e4a-d37a-4ad3-a5c0-6a47bb935238",
   "metadata": {},
   "outputs": [
    {
     "ename": "NameError",
     "evalue": "name 'tr' is not defined",
     "output_type": "error",
     "traceback": [
      "\u001b[0;31m---------------------------------------------------------------------------\u001b[0m",
      "\u001b[0;31mNameError\u001b[0m                                 Traceback (most recent call last)",
      "Input \u001b[0;32mIn [2]\u001b[0m, in \u001b[0;36m<cell line: 1>\u001b[0;34m()\u001b[0m\n\u001b[0;32m----> 1\u001b[0m scale \u001b[38;5;241m=\u001b[39m \u001b[43mtr\u001b[49m[\u001b[38;5;241m0\u001b[39m] \u001b[38;5;241m/\u001b[39m \u001b[38;5;241m0.3\u001b[39m\n",
      "\u001b[0;31mNameError\u001b[0m: name 'tr' is not defined"
     ]
    }
   ],
   "source": [
    "scale = tr[0] / 0.3"
   ]
  },
  {
   "cell_type": "code",
   "execution_count": 7,
   "id": "de9a5239-7c59-42d8-b679-bbc48cbc894a",
   "metadata": {},
   "outputs": [
    {
     "ename": "AttributeError",
     "evalue": "module 'rasterio' has no attribute 'calculate_default_transform'",
     "output_type": "error",
     "traceback": [
      "\u001b[0;31m---------------------------------------------------------------------------\u001b[0m",
      "\u001b[0;31mAttributeError\u001b[0m                            Traceback (most recent call last)",
      "Input \u001b[0;32mIn [7]\u001b[0m, in \u001b[0;36m<cell line: 1>\u001b[0;34m()\u001b[0m\n\u001b[0;32m----> 1\u001b[0m \u001b[43mrasterio\u001b[49m\u001b[38;5;241;43m.\u001b[39;49m\u001b[43mcalculate_default_transform\u001b[49m\n",
      "\u001b[0;31mAttributeError\u001b[0m: module 'rasterio' has no attribute 'calculate_default_transform'"
     ]
    }
   ],
   "source": [
    "import numpy as np\n",
    "import rasterio\n",
    "from rasterio.warp import calculate_default_transform, reproject, Resampling\n",
    "\n",
    "dst_crs = 'EPSG:4326'\n",
    "\n",
    "with rasterio.open('rasterio/tests/data/RGB.byte.tif') as src:\n",
    "    transform, width, height = calculate_default_transform(\n",
    "        src.crs, dst_crs, src.width, src.height, *src.bounds)\n",
    "    kwargs = src.meta.copy()\n",
    "    kwargs.update({\n",
    "        'crs': dst_crs,\n",
    "        'transform': transform,\n",
    "        'width': width,\n",
    "        'height': height\n",
    "    })\n",
    "\n",
    "    with rasterio.open('/tmp/RGB.byte.wgs84.tif', 'w', **kwargs) as dst:\n",
    "        for i in range(1, src.count + 1):\n",
    "            reproject(\n",
    "                source=rasterio.band(src, i),\n",
    "                destination=rasterio.band(dst, i),\n",
    "                src_transform=src.transform,\n",
    "                src_crs=src.crs,\n",
    "                dst_transform=transform,\n",
    "                dst_crs=dst_crs,\n",
    "                resampling=Resampling.nearest)"
   ]
  },
  {
   "cell_type": "code",
   "execution_count": 31,
   "id": "2a284038-cd46-46d7-8908-a19c843b95eb",
   "metadata": {},
   "outputs": [],
   "source": [
    "with rasterio.open('/home/quyet/DATA_ML/Projects/road_multi/crop/20220404_132910_ssc17_u0001_visual_clip_0.tif') as src:\n",
    "    img = src.read()"
   ]
  },
  {
   "cell_type": "code",
   "execution_count": null,
   "id": "71b25333-abe3-43c6-aff1-9cbd5f7c2259",
   "metadata": {},
   "outputs": [],
   "source": []
  },
  {
   "cell_type": "code",
   "execution_count": 19,
   "id": "a3f4c0ab-3a0c-46eb-9cc6-6a3afb71b46b",
   "metadata": {},
   "outputs": [
    {
     "name": "stdout",
     "output_type": "stream",
     "text": [
      "781873.0 3242864.2 781949.8 3242941.0\n",
      "(781873.0, 0.3, 0.0, 3242941.0, 0.0, -0.3)\n"
     ]
    }
   ],
   "source": [
    "import gdal\n",
    "import rasterio\n",
    "from gdalconst import GA_ReadOnly\n",
    "\n",
    "data = gdal.Open('/home/quyet/DATA_ML/Projects/road_multi/crop/img_crop/test_0001.tif', GA_ReadOnly)\n",
    "geoTransform = data.GetGeoTransform()\n",
    "minx = geoTransform[0]\n",
    "maxy = geoTransform[3]\n",
    "maxx = minx + geoTransform[1] * data.RasterXSize\n",
    "miny = maxy + geoTransform[5] * data.RasterYSize\n",
    "print(minx, miny, maxx, maxy)\n",
    "print(geoTransform)\n",
    "# data = None"
   ]
  },
  {
   "cell_type": "code",
   "execution_count": 16,
   "id": "3403dc92-03b6-43ad-aa0c-b240d5143c1f",
   "metadata": {},
   "outputs": [
    {
     "data": {
      "text/plain": [
       "76.8"
      ]
     },
     "execution_count": 16,
     "metadata": {},
     "output_type": "execute_result"
    }
   ],
   "source": [
    "data.RasterXSize * 0.3"
   ]
  },
  {
   "cell_type": "code",
   "execution_count": 195,
   "id": "32575592-7fd7-465b-b6d5-947a736a55c6",
   "metadata": {},
   "outputs": [
    {
     "name": "stdout",
     "output_type": "stream",
     "text": [
      "805359.0 902373.0 816879.0 908853.0\n",
      "(805359.0, 3.0, 0.0, 908853.0, 0.0, -3.0) 3840\n"
     ]
    }
   ],
   "source": [
    "data = gdal.Open('/home/quyet/DATA_ML/Projects/change_detection/new_video/March/DJI_0006-003-001/img_tif/DJI_0006-003-001_1_0m:1s.tif', GA_ReadOnly)\n",
    "geoTransform = data.GetGeoTransform()\n",
    "minx = geoTransform[0]\n",
    "maxy = geoTransform[3]\n",
    "maxx = minx + geoTransform[1] * data.RasterXSize\n",
    "miny = maxy + geoTransform[5] * data.RasterYSize\n",
    "print(minx, miny, maxx, maxy)\n",
    "print(geoTransform, data.RasterXSize)"
   ]
  },
  {
   "cell_type": "code",
   "execution_count": 11,
   "id": "a284c3b3-3b72-4678-880a-2e7a6d8f7e2f",
   "metadata": {},
   "outputs": [
    {
     "data": {
      "text/plain": [
       "-76.80000000004657"
      ]
     },
     "execution_count": 11,
     "metadata": {},
     "output_type": "execute_result"
    }
   ],
   "source": [
    "781873.0 - 781949.8"
   ]
  },
  {
   "cell_type": "code",
   "execution_count": 10,
   "id": "cc42acf6-2145-49e8-9bf9-25d015e2d7b7",
   "metadata": {},
   "outputs": [
    {
     "data": {
      "text/plain": [
       "-76.80000000004657"
      ]
     },
     "execution_count": 10,
     "metadata": {},
     "output_type": "execute_result"
    }
   ],
   "source": [
    "781949.8 - 782026.6000000001"
   ]
  },
  {
   "cell_type": "code",
   "execution_count": 7,
   "id": "5d598f55-0439-41fc-932b-16fe96786966",
   "metadata": {},
   "outputs": [
    {
     "data": {
      "text/plain": [
       "128.0"
      ]
     },
     "execution_count": 7,
     "metadata": {},
     "output_type": "execute_result"
    }
   ],
   "source": [
    "38.4/0.3"
   ]
  },
  {
   "cell_type": "code",
   "execution_count": 196,
   "id": "e0d4e3a8-3886-4f7a-a6d9-1cbf4766b2c2",
   "metadata": {},
   "outputs": [],
   "source": [
    "with rasterio.open('/home/quyet/DATA_ML/Projects/change_detection/new_video/March/DJI_0006-003-001/img_tif/DJI_0006-003-001_1_0m:1s.tif') as src:\n",
    "    meta = src.profile"
   ]
  },
  {
   "cell_type": "code",
   "execution_count": 197,
   "id": "f5a117db-df45-4d4b-b74a-8b8284d4c3d7",
   "metadata": {},
   "outputs": [
    {
     "name": "stderr",
     "output_type": "stream",
     "text": [
      "ERROR 1: PROJ: proj_identify: /home/nghipham/anaconda3/envs/onnx/share/proj/proj.db lacks DATABASE.LAYOUT.VERSION.MAJOR / DATABASE.LAYOUT.VERSION.MINOR metadata. It comes from another PROJ installation.\n"
     ]
    },
    {
     "data": {
      "text/plain": [
       "{'driver': 'GTiff', 'dtype': 'uint8', 'nodata': 0.0, 'width': 3840, 'height': 2160, 'count': 3, 'crs': CRS.from_wkt('PROJCS[\"WGS 84 / UTM zone 17N\",GEOGCS[\"WGS 84\",DATUM[\"WGS_1984\",SPHEROID[\"WGS 84\",6378137,298.257223563,AUTHORITY[\"EPSG\",\"7030\"]],AUTHORITY[\"EPSG\",\"6326\"]],PRIMEM[\"Greenwich\",0],UNIT[\"degree\",0.0174532925199433,AUTHORITY[\"EPSG\",\"9122\"]],AUTHORITY[\"EPSG\",\"4326\"]],PROJECTION[\"Transverse_Mercator\"],PARAMETER[\"latitude_of_origin\",0],PARAMETER[\"central_meridian\",-81],PARAMETER[\"scale_factor\",0.9996],PARAMETER[\"false_easting\",500000],PARAMETER[\"false_northing\",0],UNIT[\"metre\",1,AUTHORITY[\"EPSG\",\"9001\"]],AXIS[\"Easting\",EAST],AXIS[\"Northing\",NORTH],AUTHORITY[\"EPSG\",\"32617\"]]'), 'transform': Affine(3.0, 0.0, 805359.0,\n",
       "       0.0, -3.0, 908853.0), 'tiled': False, 'compress': 'lzw', 'interleave': 'band'}"
      ]
     },
     "execution_count": 197,
     "metadata": {},
     "output_type": "execute_result"
    }
   ],
   "source": [
    "meta"
   ]
  },
  {
   "cell_type": "code",
   "execution_count": 41,
   "id": "5b965de4-6607-42e2-b86e-f611ba6d57d5",
   "metadata": {},
   "outputs": [],
   "source": [
    "# import os\n",
    "# import glob\n",
    "\n",
    "# from multiprocessing.pool import Pool\n",
    "# from functools import partial\n",
    "# import multiprocessing\n",
    "\n",
    "# core = multiprocessing.cpu_count()\n",
    "\n",
    "# num_band = 3\n",
    "# folder_img = glob.glob('/home/quyet/DATA_ML/Projects/change_detection/new_video/March/DJI_0006-003-001/img_per_second/*.jpg')\n",
    "# out_path = '/home/quyet/DATA_ML/Projects/change_detection/new_video/March/DJI_0006-003-001/aaa'\n",
    "# with rasterio.open('/home/quyet/DATA_ML/Projects/video_hold/DJI_0007/abc/mask_tif/DJI_0007_0_0m:0s_result.tif') as src_base:\n",
    "#     height = src_base.height\n",
    "#     width = src_base.width\n",
    "#     crs = src_base.crs\n",
    "#     tr = src_base.transform\n",
    "#     meta = src_base.profile\n",
    "\n",
    "# def convert_jpg_to_tif(path, out_path, num_band, meta):\n",
    "#     img_rgb = rasterio.open(path).read()\n",
    "#     c,h,w = img_rgb.shape\n",
    "#     crop_img = img_rgb[..., :, int(w/4):int(w-w/4)]\n",
    "#     # crop_img = img_rgb\n",
    "#     c,h,w = crop_img.shape\n",
    "#     try :\n",
    "#         meta = rasterio.open(out_path).profile\n",
    "#     except:\n",
    "#         meta = meta\n",
    "#     meta['height']= h\n",
    "#     meta['width']= w\n",
    "#     meta['count']= c\n",
    "#     meta['dtype']='uint8'\n",
    "#     tr = meta['transform']\n",
    "#     new_tr = rasterio.Affine(tr[0], tr[1], tr[2]+300,\n",
    "#                              tr[3], tr[4], tr[5]+300)\n",
    "    \n",
    "#     meta.update(transform=new_tr)\n",
    "#     outpath = os.path.join(out_path, os.path.basename(path).replace('.jpg', '.tif'))\n",
    "#     new_dataset = rasterio.open(outpath, 'w', **meta)\n",
    "#     for i in range(num_band):\n",
    "#         new_dataset.write(crop_img[i],i+1)\n",
    "#     new_dataset.close()\n",
    "\n",
    "\n",
    "# if not os.path.exists(out_path):\n",
    "#     os.mkdir(out_path)\n",
    "    \n",
    "# p_cnt = Pool(processes=int(core/2))\n",
    "# result = p_cnt.map(partial(convert_jpg_to_tif, out_path=out_path, num_band=num_band, meta=meta), folder_img)\n",
    "# p_cnt.close()\n",
    "# p_cnt.join()"
   ]
  },
  {
   "cell_type": "code",
   "execution_count": 316,
   "id": "6249fda6-7603-4ec4-9af3-c5b1ae651414",
   "metadata": {
    "scrolled": true,
    "tags": []
   },
   "outputs": [
    {
     "name": "stdout",
     "output_type": "stream",
     "text": [
      "0 0\n",
      "@ 0.0 0.0\n",
      "0.0 0.0\n"
     ]
    },
    {
     "name": "stderr",
     "output_type": "stream",
     "text": [
      "/home/nghipham/anaconda3/envs/onnx/lib/python3.8/site-packages/rasterio/__init__.py:220: NotGeoreferencedWarning: Dataset has no geotransform, gcps, or rpcs. The identity matrix be returned.\n",
      "  s = DatasetReader(path, driver=driver, sharing=sharing, **kwargs)\n"
     ]
    },
    {
     "name": "stdout",
     "output_type": "stream",
     "text": [
      "42.0 42.0\n",
      "@ 0.43949680775403976 1.0090652033686638\n",
      "55.37659777700901 127.14221562445164\n"
     ]
    },
    {
     "name": "stderr",
     "output_type": "stream",
     "text": [
      "/home/nghipham/anaconda3/envs/onnx/lib/python3.8/site-packages/rasterio/__init__.py:220: NotGeoreferencedWarning: Dataset has no geotransform, gcps, or rpcs. The identity matrix be returned.\n",
      "  s = DatasetReader(path, driver=driver, sharing=sharing, **kwargs)\n"
     ]
    },
    {
     "name": "stdout",
     "output_type": "stream",
     "text": [
      "44.64583674162625 59.51174534014994\n",
      "@ 1.5116790644824505 3.826998632401228\n",
      "202.47053015585334 683.2541040856919\n"
     ]
    },
    {
     "name": "stderr",
     "output_type": "stream",
     "text": [
      "/home/nghipham/anaconda3/envs/onnx/lib/python3.8/site-packages/rasterio/__init__.py:220: NotGeoreferencedWarning: Dataset has no geotransform, gcps, or rpcs. The identity matrix be returned.\n",
      "  s = DatasetReader(path, driver=driver, sharing=sharing, **kwargs)\n"
     ]
    },
    {
     "name": "stdout",
     "output_type": "stream",
     "text": [
      "54.05205738742905 81.10799268546843\n",
      "@ 2.9766690162941813 7.190547771751881\n",
      "482.6852534763452 1749.6326882272888\n"
     ]
    },
    {
     "name": "stderr",
     "output_type": "stream",
     "text": [
      "/home/nghipham/anaconda3/envs/onnx/lib/python3.8/site-packages/rasterio/__init__.py:220: NotGeoreferencedWarning: Dataset has no geotransform, gcps, or rpcs. The identity matrix be returned.\n",
      "  s = DatasetReader(path, driver=driver, sharing=sharing, **kwargs)\n"
     ]
    },
    {
     "name": "stdout",
     "output_type": "stream",
     "text": [
      "59.695794156249534 94.06572783682242\n",
      "@ 3.8556636697612703 9.208675190806389\n",
      "690.5007142973955 2598.6622027082776\n"
     ]
    },
    {
     "name": "stderr",
     "output_type": "stream",
     "text": [
      "/home/nghipham/anaconda3/envs/onnx/lib/python3.8/site-packages/rasterio/__init__.py:220: NotGeoreferencedWarning: Dataset has no geotransform, gcps, or rpcs. The identity matrix be returned.\n",
      "  s = DatasetReader(path, driver=driver, sharing=sharing, **kwargs)\n"
     ]
    },
    {
     "name": "stdout",
     "output_type": "stream",
     "text": [
      "59.99558171152202 97.0413572269976\n",
      "@ 3.9023546599783003 9.672120321542025\n",
      "702.3721136102006 2815.7870497957874\n"
     ]
    },
    {
     "name": "stderr",
     "output_type": "stream",
     "text": [
      "/home/nghipham/anaconda3/envs/onnx/lib/python3.8/site-packages/rasterio/__init__.py:220: NotGeoreferencedWarning: Dataset has no geotransform, gcps, or rpcs. The identity matrix be returned.\n",
      "  s = DatasetReader(path, driver=driver, sharing=sharing, **kwargs)\n"
     ]
    },
    {
     "name": "stdout",
     "output_type": "stream",
     "text": [
      "59.995589733312656 97.04133809190252\n",
      "@ 3.902355909347534 9.672117341309786\n",
      "702.3724323917487 2815.785626947789\n"
     ]
    },
    {
     "name": "stderr",
     "output_type": "stream",
     "text": [
      "/home/nghipham/anaconda3/envs/onnx/lib/python3.8/site-packages/rasterio/__init__.py:220: NotGeoreferencedWarning: Dataset has no geotransform, gcps, or rpcs. The identity matrix be returned.\n",
      "  s = DatasetReader(path, driver=driver, sharing=sharing, **kwargs)\n"
     ]
    },
    {
     "name": "stdout",
     "output_type": "stream",
     "text": [
      "60.93622056535432 99.20094118703372\n",
      "@ 4.048856270033866 10.008468884974718\n",
      "740.1659961246044 2978.548599691902\n"
     ]
    },
    {
     "name": "stderr",
     "output_type": "stream",
     "text": [
      "/home/nghipham/anaconda3/envs/onnx/lib/python3.8/site-packages/rasterio/__init__.py:220: NotGeoreferencedWarning: Dataset has no geotransform, gcps, or rpcs. The identity matrix be returned.\n",
      "  s = DatasetReader(path, driver=driver, sharing=sharing, **kwargs)\n"
     ]
    },
    {
     "name": "stdout",
     "output_type": "stream",
     "text": [
      "62.6675830551066 102.03234089833998\n",
      "@ 4.3185106557793915 10.449450686573982\n",
      "811.8918755862535 3198.545743958728\n"
     ]
    },
    {
     "name": "stderr",
     "output_type": "stream",
     "text": [
      "/home/nghipham/anaconda3/envs/onnx/lib/python3.8/site-packages/rasterio/__init__.py:220: NotGeoreferencedWarning: Dataset has no geotransform, gcps, or rpcs. The identity matrix be returned.\n",
      "  s = DatasetReader(path, driver=driver, sharing=sharing, **kwargs)\n"
     ]
    },
    {
     "name": "stdout",
     "output_type": "stream",
     "text": [
      "62.101699964551706 103.59225312756044\n",
      "@ 4.230376103892922 10.692402221262455\n",
      "788.1406426235025 3322.9501123401296\n"
     ]
    },
    {
     "name": "stderr",
     "output_type": "stream",
     "text": [
      "/home/nghipham/anaconda3/envs/onnx/lib/python3.8/site-packages/rasterio/__init__.py:220: NotGeoreferencedWarning: Dataset has no geotransform, gcps, or rpcs. The identity matrix be returned.\n",
      "  s = DatasetReader(path, driver=driver, sharing=sharing, **kwargs)\n"
     ]
    },
    {
     "name": "stdout",
     "output_type": "stream",
     "text": [
      "63.83306449637742 106.42364798333632\n",
      "@ 4.500030807685107 11.133383266627789\n",
      "861.7522703479465 3554.565784893489\n"
     ]
    },
    {
     "name": "stderr",
     "output_type": "stream",
     "text": [
      "/home/nghipham/anaconda3/envs/onnx/lib/python3.8/site-packages/rasterio/__init__.py:220: NotGeoreferencedWarning: Dataset has no geotransform, gcps, or rpcs. The identity matrix be returned.\n",
      "  s = DatasetReader(path, driver=driver, sharing=sharing, **kwargs)\n"
     ]
    },
    {
     "name": "stdout",
     "output_type": "stream",
     "text": [
      "63.267185774005945 107.9835572705359\n",
      "@ 4.411896936129779 11.376334343105555\n",
      "837.384909221671 3685.371153202509\n"
     ]
    },
    {
     "name": "stderr",
     "output_type": "stream",
     "text": [
      "/home/nghipham/anaconda3/envs/onnx/lib/python3.8/site-packages/rasterio/__init__.py:220: NotGeoreferencedWarning: Dataset has no geotransform, gcps, or rpcs. The identity matrix be returned.\n",
      "  s = DatasetReader(path, driver=driver, sharing=sharing, **kwargs)\n"
     ]
    },
    {
     "name": "stdout",
     "output_type": "stream",
     "text": [
      "64.84865810086103 109.32712589036997\n",
      "@ 4.658206389751285 11.585591025650501\n",
      "906.2353005966818 3799.858105726899\n"
     ]
    },
    {
     "name": "stderr",
     "output_type": "stream",
     "text": [
      "/home/nghipham/anaconda3/envs/onnx/lib/python3.8/site-packages/rasterio/__init__.py:220: NotGeoreferencedWarning: Dataset has no geotransform, gcps, or rpcs. The identity matrix be returned.\n",
      "  s = DatasetReader(path, driver=driver, sharing=sharing, **kwargs)\n"
     ]
    },
    {
     "name": "stdout",
     "output_type": "stream",
     "text": [
      "65.07351231585967 111.55882964104642\n",
      "@ 4.693226742558181 11.933172024786472\n",
      "916.2142446989453 3993.752114971365\n"
     ]
    },
    {
     "name": "stderr",
     "output_type": "stream",
     "text": [
      "/home/nghipham/anaconda3/envs/onnx/lib/python3.8/site-packages/rasterio/__init__.py:220: NotGeoreferencedWarning: Dataset has no geotransform, gcps, or rpcs. The identity matrix be returned.\n",
      "  s = DatasetReader(path, driver=driver, sharing=sharing, **kwargs)\n"
     ]
    },
    {
     "name": "stdout",
     "output_type": "stream",
     "text": [
      "64.92363007309794 110.07098077785467\n",
      "@ 4.669883043970913 11.701444137841463\n",
      "909.5572776942003 3863.9682983084635\n"
     ]
    },
    {
     "name": "stderr",
     "output_type": "stream",
     "text": [
      "/home/nghipham/anaconda3/envs/onnx/lib/python3.8/site-packages/rasterio/__init__.py:220: NotGeoreferencedWarning: Dataset has no geotransform, gcps, or rpcs. The identity matrix be returned.\n",
      "  s = DatasetReader(path, driver=driver, sharing=sharing, **kwargs)\n"
     ]
    },
    {
     "name": "stdout",
     "output_type": "stream",
     "text": [
      "65.07353853392979 111.55877297724612\n",
      "@ 4.69323082594201 11.933163199573755\n",
      "916.2154110016936 3993.7471328450297\n"
     ]
    },
    {
     "name": "stderr",
     "output_type": "stream",
     "text": [
      "/home/nghipham/anaconda3/envs/onnx/lib/python3.8/site-packages/rasterio/__init__.py:220: NotGeoreferencedWarning: Dataset has no geotransform, gcps, or rpcs. The identity matrix be returned.\n",
      "  s = DatasetReader(path, driver=driver, sharing=sharing, **kwargs)\n"
     ]
    },
    {
     "name": "stdout",
     "output_type": "stream",
     "text": [
      "65.78933211244068 111.48663003314077\n",
      "@ 4.804713475517929 11.921927157789469\n",
      "948.2966716379044 3987.4064469675836\n"
     ]
    },
    {
     "name": "stderr",
     "output_type": "stream",
     "text": [
      "/home/nghipham/anaconda3/envs/onnx/lib/python3.8/site-packages/rasterio/__init__.py:220: NotGeoreferencedWarning: Dataset has no geotransform, gcps, or rpcs. The identity matrix be returned.\n",
      "  s = DatasetReader(path, driver=driver, sharing=sharing, **kwargs)\n"
     ]
    },
    {
     "name": "stdout",
     "output_type": "stream",
     "text": [
      "64.77376988353326 108.58307733180423\n",
      "@ 4.646542780101299 11.469707749783993\n",
      "902.9222783768234 3736.248490703969\n"
     ]
    },
    {
     "name": "stderr",
     "output_type": "stream",
     "text": [
      "/home/nghipham/anaconda3/envs/onnx/lib/python3.8/site-packages/rasterio/__init__.py:220: NotGeoreferencedWarning: Dataset has no geotransform, gcps, or rpcs. The identity matrix be returned.\n",
      "  s = DatasetReader(path, driver=driver, sharing=sharing, **kwargs)\n"
     ]
    },
    {
     "name": "stdout",
     "output_type": "stream",
     "text": [
      "63.11737597850808 106.49555193010417\n",
      "@ 4.388564520981163 11.144582085311413\n",
      "830.9840306301278 3560.5452606167705\n"
     ]
    },
    {
     "name": "stderr",
     "output_type": "stream",
     "text": [
      "/home/nghipham/anaconda3/envs/onnx/lib/python3.8/site-packages/rasterio/__init__.py:220: NotGeoreferencedWarning: Dataset has no geotransform, gcps, or rpcs. The identity matrix be returned.\n",
      "  s = DatasetReader(path, driver=driver, sharing=sharing, **kwargs)\n"
     ]
    },
    {
     "name": "stdout",
     "output_type": "stream",
     "text": [
      "62.967489095485774 105.00770859217114\n",
      "@ 4.365220099687576 10.912855058908463\n",
      "824.6008470794184 3437.8017118033813\n"
     ]
    },
    {
     "name": "stderr",
     "output_type": "stream",
     "text": [
      "/home/nghipham/anaconda3/envs/onnx/lib/python3.8/site-packages/rasterio/__init__.py:220: NotGeoreferencedWarning: Dataset has no geotransform, gcps, or rpcs. The identity matrix be returned.\n",
      "  s = DatasetReader(path, driver=driver, sharing=sharing, **kwargs)\n"
     ]
    },
    {
     "name": "stdout",
     "output_type": "stream",
     "text": [
      "62.96749965566637 105.00768438627587\n",
      "@ 4.365221744403243 10.91285128891468\n",
      "824.6012960628557 3437.79973170215\n"
     ]
    },
    {
     "name": "stderr",
     "output_type": "stream",
     "text": [
      "/home/nghipham/anaconda3/envs/onnx/lib/python3.8/site-packages/rasterio/__init__.py:220: NotGeoreferencedWarning: Dataset has no geotransform, gcps, or rpcs. The identity matrix be returned.\n",
      "  s = DatasetReader(path, driver=driver, sharing=sharing, **kwargs)\n"
     ]
    },
    {
     "name": "stdout",
     "output_type": "stream",
     "text": [
      "61.53595542703446 105.15189129438164\n",
      "@ 4.142263131216168 10.935311071574688\n",
      "764.694358228699 3449.6059232054085\n"
     ]
    },
    {
     "name": "stderr",
     "output_type": "stream",
     "text": [
      "/home/nghipham/anaconda3/envs/onnx/lib/python3.8/site-packages/rasterio/__init__.py:220: NotGeoreferencedWarning: Dataset has no geotransform, gcps, or rpcs. The identity matrix be returned.\n",
      "  s = DatasetReader(path, driver=driver, sharing=sharing, **kwargs)\n"
     ]
    },
    {
     "name": "stdout",
     "output_type": "stream",
     "text": [
      "62.326695094576294 105.82366093007265\n",
      "@ 4.2654184037819505 11.039937127381563\n",
      "797.5482969099357 3504.859689772041\n"
     ]
    },
    {
     "name": "stderr",
     "output_type": "stream",
     "text": [
      "/home/nghipham/anaconda3/envs/onnx/lib/python3.8/site-packages/rasterio/__init__.py:220: NotGeoreferencedWarning: Dataset has no geotransform, gcps, or rpcs. The identity matrix be returned.\n",
      "  s = DatasetReader(path, driver=driver, sharing=sharing, **kwargs)\n"
     ]
    },
    {
     "name": "stdout",
     "output_type": "stream",
     "text": [
      "61.61093099009154 105.89575283131188\n",
      "@ 4.153940344695002 11.051165219396353\n",
      "767.7843957418825 3510.81438171356\n"
     ]
    },
    {
     "name": "stderr",
     "output_type": "stream",
     "text": [
      "/home/nghipham/anaconda3/envs/onnx/lib/python3.8/site-packages/rasterio/__init__.py:220: NotGeoreferencedWarning: Dataset has no geotransform, gcps, or rpcs. The identity matrix be returned.\n",
      "  s = DatasetReader(path, driver=driver, sharing=sharing, **kwargs)\n"
     ]
    },
    {
     "name": "stdout",
     "output_type": "stream",
     "text": [
      "61.53599363443758 105.15182090115064\n",
      "@ 4.142269081901759 10.93530010804534\n",
      "764.6959315681027 3449.60015538455\n"
     ]
    },
    {
     "name": "stderr",
     "output_type": "stream",
     "text": [
      "/home/nghipham/anaconda3/envs/onnx/lib/python3.8/site-packages/rasterio/__init__.py:220: NotGeoreferencedWarning: Dataset has no geotransform, gcps, or rpcs. The identity matrix be returned.\n",
      "  s = DatasetReader(path, driver=driver, sharing=sharing, **kwargs)\n"
     ]
    },
    {
     "name": "stdout",
     "output_type": "stream",
     "text": [
      "62.326732464819 105.82358931697934\n",
      "@ 4.2654242240823805 11.03992597386241\n",
      "797.5498633900222 3504.853777043606\n"
     ]
    },
    {
     "name": "stderr",
     "output_type": "stream",
     "text": [
      "/home/nghipham/anaconda3/envs/onnx/lib/python3.8/site-packages/rasterio/__init__.py:220: NotGeoreferencedWarning: Dataset has no geotransform, gcps, or rpcs. The identity matrix be returned.\n",
      "  s = DatasetReader(path, driver=driver, sharing=sharing, **kwargs)\n"
     ]
    },
    {
     "name": "stdout",
     "output_type": "stream",
     "text": [
      "61.461067598388304 104.40786598495643\n",
      "@ 4.13059958210215 10.81943141669035\n",
      "761.613180412364 3388.9012361617\n"
     ]
    },
    {
     "name": "stderr",
     "output_type": "stream",
     "text": [
      "/home/nghipham/anaconda3/envs/onnx/lib/python3.8/site-packages/rasterio/__init__.py:220: NotGeoreferencedWarning: Dataset has no geotransform, gcps, or rpcs. The identity matrix be returned.\n",
      "  s = DatasetReader(path, driver=driver, sharing=sharing, **kwargs)\n"
     ]
    },
    {
     "name": "stdout",
     "output_type": "stream",
     "text": [
      "59.87962849484204 103.06426134330587\n",
      "@ 3.8842953029088676 10.610169123858213\n",
      "697.7704791073288 3280.587730433993\n"
     ]
    },
    {
     "name": "stderr",
     "output_type": "stream",
     "text": [
      "/home/nghipham/anaconda3/envs/onnx/lib/python3.8/site-packages/rasterio/__init__.py:220: NotGeoreferencedWarning: Dataset has no geotransform, gcps, or rpcs. The identity matrix be returned.\n",
      "  s = DatasetReader(path, driver=driver, sharing=sharing, **kwargs)\n"
     ]
    },
    {
     "name": "stdout",
     "output_type": "stream",
     "text": [
      "59.65478636186202 100.83251709798446\n",
      "@ 3.8492768318392336 10.262581817805767\n",
      "688.8833611531037 3104.405869840093\n"
     ]
    },
    {
     "name": "stderr",
     "output_type": "stream",
     "text": [
      "/home/nghipham/anaconda3/envs/onnx/lib/python3.8/site-packages/rasterio/__init__.py:220: NotGeoreferencedWarning: Dataset has no geotransform, gcps, or rpcs. The identity matrix be returned.\n",
      "  s = DatasetReader(path, driver=driver, sharing=sharing, **kwargs)\n"
     ]
    },
    {
     "name": "stdout",
     "output_type": "stream",
     "text": [
      "58.78912069115936 99.41679921946366\n",
      "@ 3.7144520645961165 10.042088109999895\n",
      "655.1081121812015 2995.0567721280686\n"
     ]
    },
    {
     "name": "stderr",
     "output_type": "stream",
     "text": [
      "/home/nghipham/anaconda3/envs/onnx/lib/python3.8/site-packages/rasterio/__init__.py:220: NotGeoreferencedWarning: Dataset has no geotransform, gcps, or rpcs. The identity matrix be returned.\n",
      "  s = DatasetReader(path, driver=driver, sharing=sharing, **kwargs)\n"
     ]
    },
    {
     "name": "stdout",
     "output_type": "stream",
     "text": [
      "59.57985707583644 100.08856969231508\n",
      "@ 3.837606825865805 10.14671429619193\n",
      "685.9321985950171 3046.7103629472476\n"
     ]
    },
    {
     "name": "stderr",
     "output_type": "stream",
     "text": [
      "/home/nghipham/anaconda3/envs/onnx/lib/python3.8/site-packages/rasterio/__init__.py:220: NotGeoreferencedWarning: Dataset has no geotransform, gcps, or rpcs. The identity matrix be returned.\n",
      "  s = DatasetReader(path, driver=driver, sharing=sharing, **kwargs)\n"
     ]
    },
    {
     "name": "stdout",
     "output_type": "stream",
     "text": [
      "59.80472578267974 102.32027117069897\n",
      "@ 3.8726294357329607 10.494294941425323\n",
      "694.8046243858305 3221.3373124558007\n"
     ]
    },
    {
     "name": "stderr",
     "output_type": "stream",
     "text": [
      "/home/nghipham/anaconda3/envs/onnx/lib/python3.8/site-packages/rasterio/__init__.py:220: NotGeoreferencedWarning: Dataset has no geotransform, gcps, or rpcs. The identity matrix be returned.\n",
      "  s = DatasetReader(path, driver=driver, sharing=sharing, **kwargs)\n"
     ]
    },
    {
     "name": "stdout",
     "output_type": "stream",
     "text": [
      "61.38618722943937 103.66382802244958\n",
      "@ 4.118937194813043 10.703549791127443\n",
      "758.5375494812857 3328.7128343314844\n"
     ]
    },
    {
     "name": "stderr",
     "output_type": "stream",
     "text": [
      "/home/nghipham/anaconda3/envs/onnx/lib/python3.8/site-packages/rasterio/__init__.py:220: NotGeoreferencedWarning: Dataset has no geotransform, gcps, or rpcs. The identity matrix be returned.\n",
      "  s = DatasetReader(path, driver=driver, sharing=sharing, **kwargs)\n"
     ]
    },
    {
     "name": "stdout",
     "output_type": "stream",
     "text": [
      "60.89528716462864 105.96764417283586\n",
      "@ 4.04248101869598 11.06236207485199\n",
      "738.5041274731567 3516.757344176969\n"
     ]
    },
    {
     "name": "stderr",
     "output_type": "stream",
     "text": [
      "/home/nghipham/anaconda3/envs/onnx/lib/python3.8/site-packages/rasterio/__init__.py:220: NotGeoreferencedWarning: Dataset has no geotransform, gcps, or rpcs. The identity matrix be returned.\n",
      "  s = DatasetReader(path, driver=driver, sharing=sharing, **kwargs)\n"
     ]
    },
    {
     "name": "stdout",
     "output_type": "stream",
     "text": [
      "62.62665624103943 108.79901056515783\n",
      "@ 4.312136430293322 11.503338687121868\n",
      "810.1640576533282 3754.6556020642824\n"
     ]
    },
    {
     "name": "stderr",
     "output_type": "stream",
     "text": [
      "/home/nghipham/anaconda3/envs/onnx/lib/python3.8/site-packages/rasterio/__init__.py:220: NotGeoreferencedWarning: Dataset has no geotransform, gcps, or rpcs. The identity matrix be returned.\n",
      "  s = DatasetReader(path, driver=driver, sharing=sharing, **kwargs)\n"
     ]
    },
    {
     "name": "stdout",
     "output_type": "stream",
     "text": [
      "62.701624452034196 109.54289145245296\n",
      "@ 4.32381249871105 11.619195848703384\n",
      "813.3302024855755 3818.400928857921\n"
     ]
    },
    {
     "name": "stderr",
     "output_type": "stream",
     "text": [
      "/home/nghipham/anaconda3/envs/onnx/lib/python3.8/site-packages/rasterio/__init__.py:220: NotGeoreferencedWarning: Dataset has no geotransform, gcps, or rpcs. The identity matrix be returned.\n",
      "  s = DatasetReader(path, driver=driver, sharing=sharing, **kwargs)\n"
     ]
    },
    {
     "name": "stdout",
     "output_type": "stream",
     "text": [
      "62.70163957772888 109.542865548318\n",
      "@ 4.323814854491502 11.619191814213991\n",
      "813.3308418214692 3818.3987000536813\n"
     ]
    },
    {
     "name": "stderr",
     "output_type": "stream",
     "text": [
      "/home/nghipham/anaconda3/envs/onnx/lib/python3.8/site-packages/rasterio/__init__.py:220: NotGeoreferencedWarning: Dataset has no geotransform, gcps, or rpcs. The identity matrix be returned.\n",
      "  s = DatasetReader(path, driver=driver, sharing=sharing, **kwargs)\n"
     ]
    },
    {
     "name": "stdout",
     "output_type": "stream",
     "text": [
      "62.62670032650456 108.79893357031901\n",
      "@ 4.312143296469003 11.503326695412397\n",
      "810.1659179787293 3754.649030915552\n"
     ]
    },
    {
     "name": "stderr",
     "output_type": "stream",
     "text": [
      "/home/nghipham/anaconda3/envs/onnx/lib/python3.8/site-packages/rasterio/__init__.py:220: NotGeoreferencedWarning: Dataset has no geotransform, gcps, or rpcs. The identity matrix be returned.\n",
      "  s = DatasetReader(path, driver=driver, sharing=sharing, **kwargs)\n"
     ]
    },
    {
     "name": "stdout",
     "output_type": "stream",
     "text": [
      "63.34248300997069 108.7267885213532\n",
      "@ 4.423624249175191 11.492090325802565\n",
      "840.6100315376218 3748.4942235654735\n"
     ]
    },
    {
     "name": "stderr",
     "output_type": "stream",
     "text": [
      "/home/nghipham/anaconda3/envs/onnx/lib/python3.8/site-packages/rasterio/__init__.py:220: NotGeoreferencedWarning: Dataset has no geotransform, gcps, or rpcs. The identity matrix be returned.\n",
      "  s = DatasetReader(path, driver=driver, sharing=sharing, **kwargs)\n"
     ]
    },
    {
     "name": "stdout",
     "output_type": "stream",
     "text": [
      "62.70168373495063 109.54278795550746\n",
      "@ 4.323821731843054 11.619179729372263\n",
      "813.332708268989 3818.3920239346694\n"
     ]
    },
    {
     "name": "stderr",
     "output_type": "stream",
     "text": [
      "/home/nghipham/anaconda3/envs/onnx/lib/python3.8/site-packages/rasterio/__init__.py:220: NotGeoreferencedWarning: Dataset has no geotransform, gcps, or rpcs. The identity matrix be returned.\n",
      "  s = DatasetReader(path, driver=driver, sharing=sharing, **kwargs)\n"
     ]
    },
    {
     "name": "stdout",
     "output_type": "stream",
     "text": [
      "61.910976585110994 108.87097658139032\n",
      "@ 4.200671523809433 11.514547172933817\n",
      "780.2030290569248 3760.799986829375\n"
     ]
    },
    {
     "name": "stderr",
     "output_type": "stream",
     "text": [
      "/home/nghipham/anaconda3/envs/onnx/lib/python3.8/site-packages/rasterio/__init__.py:220: NotGeoreferencedWarning: Dataset has no geotransform, gcps, or rpcs. The identity matrix be returned.\n",
      "  s = DatasetReader(path, driver=driver, sharing=sharing, **kwargs)\n"
     ]
    },
    {
     "name": "stdout",
     "output_type": "stream",
     "text": [
      "62.70171422552869 109.54273662561492\n",
      "@ 4.323826480656862 11.619171734899282\n",
      "813.33399705276 3818.3876074915834\n"
     ]
    },
    {
     "name": "stderr",
     "output_type": "stream",
     "text": [
      "/home/nghipham/anaconda3/envs/onnx/lib/python3.8/site-packages/rasterio/__init__.py:220: NotGeoreferencedWarning: Dataset has no geotransform, gcps, or rpcs. The identity matrix be returned.\n",
      "  s = DatasetReader(path, driver=driver, sharing=sharing, **kwargs)\n"
     ]
    },
    {
     "name": "stdout",
     "output_type": "stream",
     "text": [
      "62.77668519616295 110.28661588642697\n",
      "@ 4.335502978879958 11.735028643161058\n",
      "816.5055170165216 3882.6497891535655\n"
     ]
    },
    {
     "name": "stderr",
     "output_type": "stream",
     "text": [
      "/home/nghipham/anaconda3/envs/onnx/lib/python3.8/site-packages/rasterio/__init__.py:220: NotGeoreferencedWarning: Dataset has no geotransform, gcps, or rpcs. The identity matrix be returned.\n",
      "  s = DatasetReader(path, driver=driver, sharing=sharing, **kwargs)\n"
     ]
    },
    {
     "name": "stdout",
     "output_type": "stream",
     "text": [
      "62.70174475497491 109.54268464991293\n",
      "@ 4.323831235524267 11.619163639843464\n",
      "813.3352874802911 3818.3831354853214\n"
     ]
    },
    {
     "name": "stderr",
     "output_type": "stream",
     "text": [
      "/home/nghipham/anaconda3/envs/onnx/lib/python3.8/site-packages/rasterio/__init__.py:220: NotGeoreferencedWarning: Dataset has no geotransform, gcps, or rpcs. The identity matrix be returned.\n",
      "  s = DatasetReader(path, driver=driver, sharing=sharing, **kwargs)\n"
     ]
    },
    {
     "name": "stdout",
     "output_type": "stream",
     "text": [
      "63.492481002118495 110.21444249360158\n",
      "@ 4.446985975373536 11.723787859082222\n",
      "847.0505176742749 3876.3922284060063\n"
     ]
    },
    {
     "name": "stderr",
     "output_type": "stream",
     "text": [
      "/home/nghipham/anaconda3/envs/onnx/lib/python3.8/site-packages/rasterio/__init__.py:220: NotGeoreferencedWarning: Dataset has no geotransform, gcps, or rpcs. The identity matrix be returned.\n",
      "  s = DatasetReader(path, driver=driver, sharing=sharing, **kwargs)\n"
     ]
    },
    {
     "name": "stdout",
     "output_type": "stream",
     "text": [
      "62.77673145824515 110.2865370259164\n",
      "@ 4.335510184057057 11.735016360878944\n",
      "816.5074756771106 3882.6429491514314\n"
     ]
    },
    {
     "name": "stderr",
     "output_type": "stream",
     "text": [
      "/home/nghipham/anaconda3/envs/onnx/lib/python3.8/site-packages/rasterio/__init__.py:220: NotGeoreferencedWarning: Dataset has no geotransform, gcps, or rpcs. The identity matrix be returned.\n",
      "  s = DatasetReader(path, driver=driver, sharing=sharing, **kwargs)\n"
     ]
    },
    {
     "name": "stdout",
     "output_type": "stream",
     "text": [
      "64.28323130159752 110.88617211302501\n",
      "@ 4.570142903830856 11.828407682478428\n",
      "881.3506601049405 3934.820550306991\n"
     ]
    },
    {
     "name": "stderr",
     "output_type": "stream",
     "text": [
      "/home/nghipham/anaconda3/envs/onnx/lib/python3.8/site-packages/rasterio/__init__.py:220: NotGeoreferencedWarning: Dataset has no geotransform, gcps, or rpcs. The identity matrix be returned.\n",
      "  s = DatasetReader(path, driver=driver, sharing=sharing, **kwargs)\n"
     ]
    },
    {
     "name": "stdout",
     "output_type": "stream",
     "text": [
      "63.56748237363506 110.95826626263792\n",
      "@ 4.458667208440602 11.839636124670506\n",
      "850.2787475473577 3941.1164927218097\n"
     ]
    },
    {
     "name": "stderr",
     "output_type": "stream",
     "text": [
      "/home/nghipham/anaconda3/envs/onnx/lib/python3.8/site-packages/rasterio/__init__.py:220: NotGeoreferencedWarning: Dataset has no geotransform, gcps, or rpcs. The identity matrix be returned.\n",
      "  s = DatasetReader(path, driver=driver, sharing=sharing, **kwargs)\n"
     ]
    },
    {
     "name": "stdout",
     "output_type": "stream",
     "text": [
      "63.64245519798166 111.70214313156309\n",
      "@ 4.470343995373696 11.955492660403252\n",
      "853.5110023354104 4006.3624570821485\n"
     ]
    },
    {
     "name": "stderr",
     "output_type": "stream",
     "text": [
      "/home/nghipham/anaconda3/envs/onnx/lib/python3.8/site-packages/rasterio/__init__.py:220: NotGeoreferencedWarning: Dataset has no geotransform, gcps, or rpcs. The identity matrix be returned.\n",
      "  s = DatasetReader(path, driver=driver, sharing=sharing, **kwargs)\n"
     ]
    },
    {
     "name": "stdout",
     "output_type": "stream",
     "text": [
      "63.64247098443509 111.70211562486392\n",
      "@ 4.470346454065293 11.955488376319408\n",
      "853.5116834796681 4006.360034890042\n"
     ]
    },
    {
     "name": "stderr",
     "output_type": "stream",
     "text": [
      "/home/nghipham/anaconda3/envs/onnx/lib/python3.8/site-packages/rasterio/__init__.py:220: NotGeoreferencedWarning: Dataset has no geotransform, gcps, or rpcs. The identity matrix be returned.\n",
      "  s = DatasetReader(path, driver=driver, sharing=sharing, **kwargs)\n"
     ]
    },
    {
     "name": "stdout",
     "output_type": "stream",
     "text": [
      "63.56752847725476 110.9581844361876\n",
      "@ 4.458674388937652 11.839623380452394\n",
      "850.280733568802 3941.1093441097064\n"
     ]
    },
    {
     "name": "stderr",
     "output_type": "stream",
     "text": [
      "/home/nghipham/anaconda3/envs/onnx/lib/python3.8/site-packages/rasterio/__init__.py:220: NotGeoreferencedWarning: Dataset has no geotransform, gcps, or rpcs. The identity matrix be returned.\n",
      "  s = DatasetReader(path, driver=driver, sharing=sharing, **kwargs)\n"
     ]
    },
    {
     "name": "stdout",
     "output_type": "stream",
     "text": [
      "62.77682445779709 110.28637664990079\n",
      "@ 4.335524668451399 11.734991382807493\n",
      "816.5114131314672 3882.629038882942\n"
     ]
    },
    {
     "name": "stderr",
     "output_type": "stream",
     "text": [
      "/home/nghipham/anaconda3/envs/onnx/lib/python3.8/site-packages/rasterio/__init__.py:220: NotGeoreferencedWarning: Dataset has no geotransform, gcps, or rpcs. The identity matrix be returned.\n",
      "  s = DatasetReader(path, driver=driver, sharing=sharing, **kwargs)\n"
     ]
    },
    {
     "name": "stdout",
     "output_type": "stream",
     "text": [
      "63.56755907546773 110.9581306187327\n",
      "@ 4.458679154515266 11.839614998549223\n",
      "850.2820516596171 3941.1046424535944\n"
     ]
    },
    {
     "name": "stderr",
     "output_type": "stream",
     "text": [
      "/home/nghipham/anaconda3/envs/onnx/lib/python3.8/site-packages/rasterio/__init__.py:220: NotGeoreferencedWarning: Dataset has no geotransform, gcps, or rpcs. The identity matrix be returned.\n",
      "  s = DatasetReader(path, driver=driver, sharing=sharing, **kwargs)\n"
     ]
    },
    {
     "name": "stdout",
     "output_type": "stream",
     "text": [
      "62.62693717114387 108.79851745375771\n",
      "@ 4.312180184293538 11.503261886537075\n",
      "810.175912417209 3754.6135174126493\n"
     ]
    },
    {
     "name": "stderr",
     "output_type": "stream",
     "text": [
      "/home/nghipham/anaconda3/envs/onnx/lib/python3.8/site-packages/rasterio/__init__.py:220: NotGeoreferencedWarning: Dataset has no geotransform, gcps, or rpcs. The identity matrix be returned.\n",
      "  s = DatasetReader(path, driver=driver, sharing=sharing, **kwargs)\n"
     ]
    },
    {
     "name": "stdout",
     "output_type": "stream",
     "text": [
      "62.70191119741363 109.54239487281686\n",
      "@ 4.32385715842247 11.619118507951498\n",
      "813.3423227331208 3818.3582030162333\n"
     ]
    },
    {
     "name": "stderr",
     "output_type": "stream",
     "text": [
      "/home/nghipham/anaconda3/envs/onnx/lib/python3.8/site-packages/rasterio/__init__.py:220: NotGeoreferencedWarning: Dataset has no geotransform, gcps, or rpcs. The identity matrix be returned.\n",
      "  s = DatasetReader(path, driver=driver, sharing=sharing, **kwargs)\n"
     ]
    },
    {
     "name": "stdout",
     "output_type": "stream",
     "text": [
      "62.70192631413874 109.54236894476304\n",
      "@ 4.323859512805939 11.619114469736814\n",
      "813.3429616939375 3818.355972166035\n"
     ]
    },
    {
     "name": "stderr",
     "output_type": "stream",
     "text": [
      "/home/nghipham/anaconda3/envs/onnx/lib/python3.8/site-packages/rasterio/__init__.py:220: NotGeoreferencedWarning: Dataset has no geotransform, gcps, or rpcs. The identity matrix be returned.\n",
      "  s = DatasetReader(path, driver=driver, sharing=sharing, **kwargs)\n"
     ]
    },
    {
     "name": "stdout",
     "output_type": "stream",
     "text": [
      "62.85186167472847 111.03014820404643\n",
      "@ 4.347211484331638 11.850831516087055\n",
      "819.6910046520094 3947.39873871699\n"
     ]
    },
    {
     "name": "stderr",
     "output_type": "stream",
     "text": [
      "/home/nghipham/anaconda3/envs/onnx/lib/python3.8/site-packages/rasterio/__init__.py:220: NotGeoreferencedWarning: Dataset has no geotransform, gcps, or rpcs. The identity matrix be returned.\n",
      "  s = DatasetReader(path, driver=driver, sharing=sharing, **kwargs)\n"
     ]
    },
    {
     "name": "stdout",
     "output_type": "stream",
     "text": [
      "63.567635104582216 110.95799719928227\n",
      "@ 4.458690995816141 11.839594218879938\n",
      "850.2853267983804 3941.0929865373564\n"
     ]
    },
    {
     "name": "stderr",
     "output_type": "stream",
     "text": [
      "/home/nghipham/anaconda3/envs/onnx/lib/python3.8/site-packages/rasterio/__init__.py:220: NotGeoreferencedWarning: Dataset has no geotransform, gcps, or rpcs. The identity matrix be returned.\n",
      "  s = DatasetReader(path, driver=driver, sharing=sharing, **kwargs)\n"
     ]
    },
    {
     "name": "stdout",
     "output_type": "stream",
     "text": [
      "62.62701153490711 108.79838812443386\n",
      "@ 4.312191766221076 11.503241743892431\n",
      "810.1790504515764 3754.6024798235944\n"
     ]
    },
    {
     "name": "stderr",
     "output_type": "stream",
     "text": [
      "/home/nghipham/anaconda3/envs/onnx/lib/python3.8/site-packages/rasterio/__init__.py:220: NotGeoreferencedWarning: Dataset has no geotransform, gcps, or rpcs. The identity matrix be returned.\n",
      "  s = DatasetReader(path, driver=driver, sharing=sharing, **kwargs)\n"
     ]
    },
    {
     "name": "stdout",
     "output_type": "stream",
     "text": [
      "61.76134797803448 107.38268340129092\n",
      "@ 4.177367328200489 11.282750084996223\n",
      "773.9995115671877 3634.7159408191133\n"
     ]
    },
    {
     "name": "stderr",
     "output_type": "stream",
     "text": [
      "/home/nghipham/anaconda3/envs/onnx/lib/python3.8/site-packages/rasterio/__init__.py:220: NotGeoreferencedWarning: Dataset has no geotransform, gcps, or rpcs. The identity matrix be returned.\n",
      "  s = DatasetReader(path, driver=driver, sharing=sharing, **kwargs)\n"
     ]
    },
    {
     "name": "stdout",
     "output_type": "stream",
     "text": [
      "62.5520791812866 108.05443581539636\n",
      "@ 4.300521282479167 11.387373458594084\n",
      "807.0196433473352 3691.368643462807\n"
     ]
    },
    {
     "name": "stderr",
     "output_type": "stream",
     "text": [
      "/home/nghipham/anaconda3/envs/onnx/lib/python3.8/site-packages/rasterio/__init__.py:220: NotGeoreferencedWarning: Dataset has no geotransform, gcps, or rpcs. The identity matrix be returned.\n",
      "  s = DatasetReader(path, driver=driver, sharing=sharing, **kwargs)\n"
     ]
    },
    {
     "name": "stdout",
     "output_type": "stream",
     "text": [
      "62.55209310206827 108.0544106766652\n",
      "@ 4.300523450598121 11.38736954331398\n",
      "807.0202298083245 3691.366515480595\n"
     ]
    },
    {
     "name": "stderr",
     "output_type": "stream",
     "text": [
      "/home/nghipham/anaconda3/envs/onnx/lib/python3.8/site-packages/rasterio/__init__.py:220: NotGeoreferencedWarning: Dataset has no geotransform, gcps, or rpcs. The identity matrix be returned.\n",
      "  s = DatasetReader(path, driver=driver, sharing=sharing, **kwargs)\n"
     ]
    },
    {
     "name": "stdout",
     "output_type": "stream",
     "text": [
      "61.76139078683 107.38260961158053\n",
      "@ 4.177373995538801 11.282738592475653\n",
      "774.00128340364 3634.70974087598\n"
     ]
    },
    {
     "name": "stderr",
     "output_type": "stream",
     "text": [
      "/home/nghipham/anaconda3/envs/onnx/lib/python3.8/site-packages/rasterio/__init__.py:220: NotGeoreferencedWarning: Dataset has no geotransform, gcps, or rpcs. The identity matrix be returned.\n",
      "  s = DatasetReader(path, driver=driver, sharing=sharing, **kwargs)\n"
     ]
    },
    {
     "name": "stdout",
     "output_type": "stream",
     "text": [
      "61.76140526671523 107.38258528609092\n",
      "@ 4.177376250736415 11.28273480385542\n",
      "774.0018827198495 3634.7076970060525\n"
     ]
    },
    {
     "name": "stderr",
     "output_type": "stream",
     "text": [
      "/home/nghipham/anaconda3/envs/onnx/lib/python3.8/site-packages/rasterio/__init__.py:220: NotGeoreferencedWarning: Dataset has no geotransform, gcps, or rpcs. The identity matrix be returned.\n",
      "  s = DatasetReader(path, driver=driver, sharing=sharing, **kwargs)\n"
     ]
    },
    {
     "name": "stdout",
     "output_type": "stream",
     "text": [
      "62.552135354750085 108.0543360497944\n",
      "@ 4.300530031323433 11.387357920408249\n",
      "807.022009849533 3691.3601983532426\n"
     ]
    },
    {
     "name": "stderr",
     "output_type": "stream",
     "text": [
      "/home/nghipham/anaconda3/envs/onnx/lib/python3.8/site-packages/rasterio/__init__.py:220: NotGeoreferencedWarning: Dataset has no geotransform, gcps, or rpcs. The identity matrix be returned.\n",
      "  s = DatasetReader(path, driver=driver, sharing=sharing, **kwargs)\n"
     ]
    },
    {
     "name": "stdout",
     "output_type": "stream",
     "text": [
      "62.70207489516215 109.54211272583996\n",
      "@ 4.3238826538436115 11.619074564427137\n",
      "813.3492419975838 3818.3339271192517\n"
     ]
    },
    {
     "name": "stderr",
     "output_type": "stream",
     "text": [
      "/home/nghipham/anaconda3/envs/onnx/lib/python3.8/site-packages/rasterio/__init__.py:220: NotGeoreferencedWarning: Dataset has no geotransform, gcps, or rpcs. The identity matrix be returned.\n",
      "  s = DatasetReader(path, driver=driver, sharing=sharing, **kwargs)\n"
     ]
    },
    {
     "name": "stdout",
     "output_type": "stream",
     "text": [
      "62.552163764386556 108.05428531787358\n",
      "@ 4.300534456036985 11.387350019067526\n",
      "807.0232067052377 3691.3559039244465\n"
     ]
    },
    {
     "name": "stderr",
     "output_type": "stream",
     "text": [
      "/home/nghipham/anaconda3/envs/onnx/lib/python3.8/site-packages/rasterio/__init__.py:220: NotGeoreferencedWarning: Dataset has no geotransform, gcps, or rpcs. The identity matrix be returned.\n",
      "  s = DatasetReader(path, driver=driver, sharing=sharing, **kwargs)\n"
     ]
    },
    {
     "name": "stdout",
     "output_type": "stream",
     "text": [
      "62.70210450074206 109.54206132419081\n",
      "@ 4.323887264821678 11.619066558778286\n",
      "813.35049338483 3818.3295045346376\n"
     ]
    },
    {
     "name": "stderr",
     "output_type": "stream",
     "text": [
      "/home/nghipham/anaconda3/envs/onnx/lib/python3.8/site-packages/rasterio/__init__.py:220: NotGeoreferencedWarning: Dataset has no geotransform, gcps, or rpcs. The identity matrix be returned.\n",
      "  s = DatasetReader(path, driver=driver, sharing=sharing, **kwargs)\n"
     ]
    },
    {
     "name": "stdout",
     "output_type": "stream",
     "text": [
      "61.98636871619802 109.61416243419455\n",
      "@ 4.212413616478443 11.63029608502984\n",
      "783.3366708484978 3824.5354926667133\n"
     ]
    },
    {
     "name": "stderr",
     "output_type": "stream",
     "text": [
      "/home/nghipham/anaconda3/envs/onnx/lib/python3.8/site-packages/rasterio/__init__.py:220: NotGeoreferencedWarning: Dataset has no geotransform, gcps, or rpcs. The identity matrix be returned.\n",
      "  s = DatasetReader(path, driver=driver, sharing=sharing, **kwargs)\n"
     ]
    },
    {
     "name": "stdout",
     "output_type": "stream",
     "text": [
      "63.492849603846835 110.2137826916045\n",
      "@ 4.447043383959681 11.723685096949339\n",
      "847.0663702786023 3876.3350448599294\n"
     ]
    },
    {
     "name": "stderr",
     "output_type": "stream",
     "text": [
      "/home/nghipham/anaconda3/envs/onnx/lib/python3.8/site-packages/rasterio/__init__.py:220: NotGeoreferencedWarning: Dataset has no geotransform, gcps, or rpcs. The identity matrix be returned.\n",
      "  s = DatasetReader(path, driver=driver, sharing=sharing, **kwargs)\n"
     ]
    },
    {
     "name": "stdout",
     "output_type": "stream",
     "text": [
      "63.64279278291683 111.70155589941407\n",
      "@ 4.470396573189646 11.955401200801134\n",
      "853.5255682949103 4006.31074659363\n"
     ]
    },
    {
     "name": "stderr",
     "output_type": "stream",
     "text": [
      "/home/nghipham/anaconda3/envs/onnx/lib/python3.8/site-packages/rasterio/__init__.py:220: NotGeoreferencedWarning: Dataset has no geotransform, gcps, or rpcs. The identity matrix be returned.\n",
      "  s = DatasetReader(path, driver=driver, sharing=sharing, **kwargs)\n"
     ]
    },
    {
     "name": "stdout",
     "output_type": "stream",
     "text": [
      "63.71777321645357 112.44542824767302\n",
      "@ 4.4820745452307165 12.071257032454014\n",
      "856.7634282367502 4072.0729995060783\n"
     ]
    },
    {
     "name": "stderr",
     "output_type": "stream",
     "text": [
      "/home/nghipham/anaconda3/envs/onnx/lib/python3.8/site-packages/rasterio/__init__.py:220: NotGeoreferencedWarning: Dataset has no geotransform, gcps, or rpcs. The identity matrix be returned.\n",
      "  s = DatasetReader(path, driver=driver, sharing=sharing, **kwargs)\n"
     ]
    },
    {
     "name": "stdout",
     "output_type": "stream",
     "text": [
      "63.717789603868596 112.44540031043421\n",
      "@ 4.482077097520232 12.071252681314945\n",
      "856.7641364643366 4072.0705199965837\n"
     ]
    },
    {
     "name": "stderr",
     "output_type": "stream",
     "text": [
      "/home/nghipham/anaconda3/envs/onnx/lib/python3.8/site-packages/rasterio/__init__.py:220: NotGeoreferencedWarning: Dataset has no geotransform, gcps, or rpcs. The identity matrix be returned.\n",
      "  s = DatasetReader(path, driver=driver, sharing=sharing, **kwargs)\n"
     ]
    },
    {
     "name": "stdout",
     "output_type": "stream",
     "text": [
      "63.64284075220829 111.70147299661465\n",
      "@ 4.47040404425934 11.95538828894496\n",
      "853.527638060475 4006.3034463648855\n"
     ]
    },
    {
     "name": "stderr",
     "output_type": "stream",
     "text": [
      "/home/nghipham/anaconda3/envs/onnx/lib/python3.8/site-packages/rasterio/__init__.py:220: NotGeoreferencedWarning: Dataset has no geotransform, gcps, or rpcs. The identity matrix be returned.\n",
      "  s = DatasetReader(path, driver=driver, sharing=sharing, **kwargs)\n"
     ]
    },
    {
     "name": "stdout",
     "output_type": "stream",
     "text": [
      "62.85214362138484 111.02967480179424\n",
      "@ 4.347255396656692 11.850757785141468\n",
      "819.7029616485202 3947.3573491172656\n"
     ]
    },
    {
     "name": "stderr",
     "output_type": "stream",
     "text": [
      "/home/nghipham/anaconda3/envs/onnx/lib/python3.8/site-packages/rasterio/__init__.py:220: NotGeoreferencedWarning: Dataset has no geotransform, gcps, or rpcs. The identity matrix be returned.\n",
      "  s = DatasetReader(path, driver=driver, sharing=sharing, **kwargs)\n"
     ]
    },
    {
     "name": "stdout",
     "output_type": "stream",
     "text": [
      "62.62726227640921 108.79795095926798\n",
      "@ 4.312230818439275 11.503173656761646\n",
      "810.1896313884338 3754.5651701528905\n"
     ]
    },
    {
     "name": "stderr",
     "output_type": "stream",
     "text": [
      "/home/nghipham/anaconda3/envs/onnx/lib/python3.8/site-packages/rasterio/__init__.py:220: NotGeoreferencedWarning: Dataset has no geotransform, gcps, or rpcs. The identity matrix be returned.\n",
      "  s = DatasetReader(path, driver=driver, sharing=sharing, **kwargs)\n"
     ]
    },
    {
     "name": "stdout",
     "output_type": "stream",
     "text": [
      "61.83656442502985 108.12615565863071\n",
      "@ 4.189082058612257 11.39854360371828\n",
      "777.1153277973406 3697.442099931997\n"
     ]
    },
    {
     "name": "stderr",
     "output_type": "stream",
     "text": [
      "/home/nghipham/anaconda3/envs/onnx/lib/python3.8/site-packages/rasterio/__init__.py:220: NotGeoreferencedWarning: Dataset has no geotransform, gcps, or rpcs. The identity matrix be returned.\n",
      "  s = DatasetReader(path, driver=driver, sharing=sharing, **kwargs)\n"
     ]
    },
    {
     "name": "stdout",
     "output_type": "stream",
     "text": [
      "62.55232510612649 108.05400164008907\n",
      "@ 4.300559584517032 11.387305837124586\n",
      "807.0300038069329 3691.3318908025676\n"
     ]
    },
    {
     "name": "stderr",
     "output_type": "stream",
     "text": [
      "/home/nghipham/anaconda3/envs/onnx/lib/python3.8/site-packages/rasterio/__init__.py:220: NotGeoreferencedWarning: Dataset has no geotransform, gcps, or rpcs. The identity matrix be returned.\n",
      "  s = DatasetReader(path, driver=driver, sharing=sharing, **kwargs)\n"
     ]
    },
    {
     "name": "stdout",
     "output_type": "stream",
     "text": [
      "62.552338999999435 108.05397647743905\n",
      "@ 4.300561748445034 11.387301918119192\n",
      "807.0305891374923 3691.3297608058438\n"
     ]
    },
    {
     "name": "stderr",
     "output_type": "stream",
     "text": [
      "/home/nghipham/anaconda3/envs/onnx/lib/python3.8/site-packages/rasterio/__init__.py:220: NotGeoreferencedWarning: Dataset has no geotransform, gcps, or rpcs. The identity matrix be returned.\n",
      "  s = DatasetReader(path, driver=driver, sharing=sharing, **kwargs)\n"
     ]
    },
    {
     "name": "stdout",
     "output_type": "stream",
     "text": [
      "61.686674280071806 106.6382844312966\n",
      "@ 4.165737129282206 11.166812233626842\n",
      "770.9114082912986 3572.4290974811456\n"
     ]
    },
    {
     "name": "stderr",
     "output_type": "stream",
     "text": [
      "/home/nghipham/anaconda3/envs/onnx/lib/python3.8/site-packages/rasterio/__init__.py:220: NotGeoreferencedWarning: Dataset has no geotransform, gcps, or rpcs. The identity matrix be returned.\n",
      "  s = DatasetReader(path, driver=driver, sharing=sharing, **kwargs)\n"
     ]
    },
    {
     "name": "stdout",
     "output_type": "stream",
     "text": [
      "62.47739945277911 107.31002859339227\n",
      "@ 4.2888901443220675 11.27143432199955\n",
      "803.8761082676917 3628.613818146944\n"
     ]
    },
    {
     "name": "stderr",
     "output_type": "stream",
     "text": [
      "/home/nghipham/anaconda3/envs/onnx/lib/python3.8/site-packages/rasterio/__init__.py:220: NotGeoreferencedWarning: Dataset has no geotransform, gcps, or rpcs. The identity matrix be returned.\n",
      "  s = DatasetReader(path, driver=driver, sharing=sharing, **kwargs)\n"
     ]
    },
    {
     "name": "stdout",
     "output_type": "stream",
     "text": [
      "61.836636997867785 108.12603206983538\n",
      "@ 4.189093361608684 11.398524355143309\n",
      "777.1183366559217 3697.431629919075\n"
     ]
    },
    {
     "name": "stderr",
     "output_type": "stream",
     "text": [
      "/home/nghipham/anaconda3/envs/onnx/lib/python3.8/site-packages/rasterio/__init__.py:220: NotGeoreferencedWarning: Dataset has no geotransform, gcps, or rpcs. The identity matrix be returned.\n",
      "  s = DatasetReader(path, driver=driver, sharing=sharing, **kwargs)\n"
     ]
    },
    {
     "name": "stdout",
     "output_type": "stream",
     "text": [
      "62.477426950508715 107.30997903349603\n",
      "@ 4.288894427008927 11.271426603198051\n",
      "803.8772647856825 3628.609657400317\n"
     ]
    },
    {
     "name": "stderr",
     "output_type": "stream",
     "text": [
      "/home/nghipham/anaconda3/envs/onnx/lib/python3.8/site-packages/rasterio/__init__.py:220: NotGeoreferencedWarning: Dataset has no geotransform, gcps, or rpcs. The identity matrix be returned.\n",
      "  s = DatasetReader(path, driver=driver, sharing=sharing, **kwargs)\n"
     ]
    },
    {
     "name": "stdout",
     "output_type": "stream",
     "text": [
      "62.70234496610014 109.54164716897677\n",
      "@ 4.323924716562033 11.619002055376768\n",
      "813.360657555958 3818.293870817093\n"
     ]
    },
    {
     "name": "stderr",
     "output_type": "stream",
     "text": [
      "/home/nghipham/anaconda3/envs/onnx/lib/python3.8/site-packages/rasterio/__init__.py:220: NotGeoreferencedWarning: Dataset has no geotransform, gcps, or rpcs. The identity matrix be returned.\n",
      "  s = DatasetReader(path, driver=driver, sharing=sharing, **kwargs)\n"
     ]
    },
    {
     "name": "stdout",
     "output_type": "stream",
     "text": [
      "62.552422964198655 108.05382633869931\n",
      "@ 4.3005748256109655 11.387278534471989\n",
      "807.034126442406 3691.317051702704\n"
     ]
    },
    {
     "name": "stderr",
     "output_type": "stream",
     "text": [
      "/home/nghipham/anaconda3/envs/onnx/lib/python3.8/site-packages/rasterio/__init__.py:220: NotGeoreferencedWarning: Dataset has no geotransform, gcps, or rpcs. The identity matrix be returned.\n",
      "  s = DatasetReader(path, driver=driver, sharing=sharing, **kwargs)\n"
     ]
    },
    {
     "name": "stdout",
     "output_type": "stream",
     "text": [
      "60.82107932849474 105.2224746564817\n",
      "@ 4.030923376325518 10.946304213255644\n",
      "735.4953313157346 3455.3916529842923\n"
     ]
    },
    {
     "name": "stderr",
     "output_type": "stream",
     "text": [
      "/home/nghipham/anaconda3/envs/onnx/lib/python3.8/site-packages/rasterio/__init__.py:220: NotGeoreferencedWarning: Dataset has no geotransform, gcps, or rpcs. The identity matrix be returned.\n",
      "  s = DatasetReader(path, driver=driver, sharing=sharing, **kwargs)\n"
     ]
    },
    {
     "name": "stdout",
     "output_type": "stream",
     "text": [
      "60.67115489882807 103.73465767714211\n",
      "@ 4.007573107257485 10.714581292122602\n",
      "729.4322662763898 3334.4202674767475\n"
     ]
    },
    {
     "name": "stderr",
     "output_type": "stream",
     "text": [
      "/home/nghipham/anaconda3/envs/onnx/lib/python3.8/site-packages/rasterio/__init__.py:220: NotGeoreferencedWarning: Dataset has no geotransform, gcps, or rpcs. The identity matrix be returned.\n",
      "  s = DatasetReader(path, driver=driver, sharing=sharing, **kwargs)\n"
     ]
    },
    {
     "name": "stdout",
     "output_type": "stream",
     "text": [
      "59.46459553304629 106.11058988682517\n",
      "@ 3.819655194878578 11.08462543040514\n",
      "681.4027537174613 3528.588429284378\n"
     ]
    },
    {
     "name": "stderr",
     "output_type": "stream",
     "text": [
      "/home/nghipham/anaconda3/envs/onnx/lib/python3.8/site-packages/rasterio/__init__.py:220: NotGeoreferencedWarning: Dataset has no geotransform, gcps, or rpcs. The identity matrix be returned.\n",
      "  s = DatasetReader(path, driver=driver, sharing=sharing, **kwargs)\n"
     ]
    },
    {
     "name": "stdout",
     "output_type": "stream",
     "text": [
      "54.379465328257204 105.87159525215556\n",
      "@ 3.027661796659231 11.047402750700712\n",
      "493.9278890913588 3508.8184578292075\n"
     ]
    },
    {
     "name": "stderr",
     "output_type": "stream",
     "text": [
      "/home/nghipham/anaconda3/envs/onnx/lib/python3.8/site-packages/rasterio/__init__.py:220: NotGeoreferencedWarning: Dataset has no geotransform, gcps, or rpcs. The identity matrix be returned.\n",
      "  s = DatasetReader(path, driver=driver, sharing=sharing, **kwargs)\n"
     ]
    },
    {
     "name": "stdout",
     "output_type": "stream",
     "text": [
      "52.0073611272326 103.8562840010334\n",
      "@ 2.6582138589583337 10.733524218201637\n",
      "414.7400643487818 3344.2318186125576\n"
     ]
    },
    {
     "name": "stderr",
     "output_type": "stream",
     "text": [
      "/home/nghipham/anaconda3/envs/onnx/lib/python3.8/site-packages/rasterio/__init__.py:220: NotGeoreferencedWarning: Dataset has no geotransform, gcps, or rpcs. The identity matrix be returned.\n",
      "  s = DatasetReader(path, driver=driver, sharing=sharing, **kwargs)\n"
     ]
    },
    {
     "name": "stdout",
     "output_type": "stream",
     "text": [
      "53.363892183376024 102.96810658163092\n",
      "@ 2.869489401113242 10.595193315297365\n",
      "459.3813690670419 3272.9009836275677\n"
     ]
    },
    {
     "name": "stderr",
     "output_type": "stream",
     "text": [
      "/home/nghipham/anaconda3/envs/onnx/lib/python3.8/site-packages/rasterio/__init__.py:220: NotGeoreferencedWarning: Dataset has no geotransform, gcps, or rpcs. The identity matrix be returned.\n",
      "  s = DatasetReader(path, driver=driver, sharing=sharing, **kwargs)\n"
     ]
    },
    {
     "name": "stdout",
     "output_type": "stream",
     "text": [
      "53.513855236036164 104.45588289889346\n",
      "@ 2.892845685593784 10.8269099034369\n",
      "464.42197571717264 3392.803299090824\n"
     ]
    },
    {
     "name": "stderr",
     "output_type": "stream",
     "text": [
      "/home/nghipham/anaconda3/envs/onnx/lib/python3.8/site-packages/rasterio/__init__.py:220: NotGeoreferencedWarning: Dataset has no geotransform, gcps, or rpcs. The identity matrix be returned.\n",
      "  s = DatasetReader(path, driver=driver, sharing=sharing, **kwargs)\n"
     ]
    },
    {
     "name": "stdout",
     "output_type": "stream",
     "text": [
      "54.30458680405103 105.12762902233638\n",
      "@ 3.0159996966831386 10.931532297283411\n",
      "491.3478519885632 3447.618215983497\n"
     ]
    },
    {
     "name": "stderr",
     "output_type": "stream",
     "text": [
      "/home/nghipham/anaconda3/envs/onnx/lib/python3.8/site-packages/rasterio/__init__.py:220: NotGeoreferencedWarning: Dataset has no geotransform, gcps, or rpcs. The identity matrix be returned.\n",
      "  s = DatasetReader(path, driver=driver, sharing=sharing, **kwargs)\n"
     ]
    },
    {
     "name": "stdout",
     "output_type": "stream",
     "text": [
      "55.39520322331714 108.77495842037536\n",
      "@ 3.185859851539135 11.499592639505863\n",
      "529.444061751052 3752.603133640514\n"
     ]
    },
    {
     "name": "stderr",
     "output_type": "stream",
     "text": [
      "/home/nghipham/anaconda3/envs/onnx/lib/python3.8/site-packages/rasterio/__init__.py:220: NotGeoreferencedWarning: Dataset has no geotransform, gcps, or rpcs. The identity matrix be returned.\n",
      "  s = DatasetReader(path, driver=driver, sharing=sharing, **kwargs)\n"
     ]
    },
    {
     "name": "stdout",
     "output_type": "stream",
     "text": [
      "55.05435010659902 112.5665522513997\n",
      "@ 3.132773026358336 12.09012172371149\n",
      "517.4183489929247 4082.8299562138563\n"
     ]
    },
    {
     "name": "stderr",
     "output_type": "stream",
     "text": [
      "/home/nghipham/anaconda3/envs/onnx/lib/python3.8/site-packages/rasterio/__init__.py:220: NotGeoreferencedWarning: Dataset has no geotransform, gcps, or rpcs. The identity matrix be returned.\n",
      "  s = DatasetReader(path, driver=driver, sharing=sharing, **kwargs)\n"
     ]
    },
    {
     "name": "stdout",
     "output_type": "stream",
     "text": [
      "54.488587812311515 114.12645732887836\n",
      "@ 3.044657288119197 12.333072144538164\n",
      "497.6972280062313 4222.589495512839\n"
     ]
    },
    {
     "name": "stderr",
     "output_type": "stream",
     "text": [
      "/home/nghipham/anaconda3/envs/onnx/lib/python3.8/site-packages/rasterio/__init__.py:220: NotGeoreferencedWarning: Dataset has no geotransform, gcps, or rpcs. The identity matrix be returned.\n",
      "  s = DatasetReader(path, driver=driver, sharing=sharing, **kwargs)\n"
     ]
    },
    {
     "name": "stdout",
     "output_type": "stream",
     "text": [
      "51.70065065302404 115.15887002416507\n",
      "@ 2.610444645397365 12.493867248296738\n",
      "404.8850599822392 4316.33890363733\n"
     ]
    },
    {
     "name": "stderr",
     "output_type": "stream",
     "text": [
      "/home/nghipham/anaconda3/envs/onnx/lib/python3.8/site-packages/rasterio/__init__.py:220: NotGeoreferencedWarning: Dataset has no geotransform, gcps, or rpcs. The identity matrix be returned.\n",
      "  s = DatasetReader(path, driver=driver, sharing=sharing, **kwargs)\n"
     ]
    },
    {
     "name": "stdout",
     "output_type": "stream",
     "text": [
      "49.628456160935116 116.11915166302424\n",
      "@ 2.287706722971052 12.643428161740303\n",
      "340.60605843013616 4404.432456761022\n"
     ]
    },
    {
     "name": "stderr",
     "output_type": "stream",
     "text": [
      "/home/nghipham/anaconda3/envs/onnx/lib/python3.8/site-packages/rasterio/__init__.py:220: NotGeoreferencedWarning: Dataset has no geotransform, gcps, or rpcs. The identity matrix be returned.\n",
      "  s = DatasetReader(path, driver=driver, sharing=sharing, **kwargs)\n"
     ]
    },
    {
     "name": "stdout",
     "output_type": "stream",
     "text": [
      "50.34423184514225 116.04700015596384\n",
      "@ 2.3991865855641663 12.63219078630209\n",
      "362.3556171101928 4397.783538444491\n"
     ]
    },
    {
     "name": "stderr",
     "output_type": "stream",
     "text": [
      "/home/nghipham/anaconda3/envs/onnx/lib/python3.8/site-packages/rasterio/__init__.py:220: NotGeoreferencedWarning: Dataset has no geotransform, gcps, or rpcs. The identity matrix be returned.\n",
      "  s = DatasetReader(path, driver=driver, sharing=sharing, **kwargs)\n"
     ]
    },
    {
     "name": "stdout",
     "output_type": "stream",
     "text": [
      "48.98777825324543 116.93514939893882\n",
      "@ 2.187923108227551 12.77051730081439\n",
      "321.5444761830083 4479.96704541739\n"
     ]
    },
    {
     "name": "stderr",
     "output_type": "stream",
     "text": [
      "/home/nghipham/anaconda3/envs/onnx/lib/python3.8/site-packages/rasterio/__init__.py:220: NotGeoreferencedWarning: Dataset has no geotransform, gcps, or rpcs. The identity matrix be returned.\n",
      "  s = DatasetReader(path, driver=driver, sharing=sharing, **kwargs)\n"
     ]
    },
    {
     "name": "stdout",
     "output_type": "stream",
     "text": [
      "45.48412937478584 118.03970821954044\n",
      "@ 1.6422405652701855 12.94254894182086\n",
      "224.08764700581162 4583.204102128969\n"
     ]
    },
    {
     "name": "stderr",
     "output_type": "stream",
     "text": [
      "/home/nghipham/anaconda3/envs/onnx/lib/python3.8/site-packages/rasterio/__init__.py:220: NotGeoreferencedWarning: Dataset has no geotransform, gcps, or rpcs. The identity matrix be returned.\n",
      "  s = DatasetReader(path, driver=driver, sharing=sharing, **kwargs)\n"
     ]
    },
    {
     "name": "stdout",
     "output_type": "stream",
     "text": [
      "43.41195529147175 119.0\n",
      "@ 1.3195058214478195 13.092111434787512\n",
      "171.84698318258833 4673.883782219142\n"
     ]
    },
    {
     "name": "stderr",
     "output_type": "stream",
     "text": [
      "/home/nghipham/anaconda3/envs/onnx/lib/python3.8/site-packages/rasterio/__init__.py:220: NotGeoreferencedWarning: Dataset has no geotransform, gcps, or rpcs. The identity matrix be returned.\n",
      "  s = DatasetReader(path, driver=driver, sharing=sharing, **kwargs)\n"
     ]
    },
    {
     "name": "stdout",
     "output_type": "stream",
     "text": [
      "42.546326273445736 117.58433653690582\n",
      "@ 1.1846867627464235 12.871626202017069\n",
      "151.2122086189246 4540.50488134569\n"
     ]
    },
    {
     "name": "stderr",
     "output_type": "stream",
     "text": [
      "/home/nghipham/anaconda3/envs/onnx/lib/python3.8/site-packages/rasterio/__init__.py:220: NotGeoreferencedWarning: Dataset has no geotransform, gcps, or rpcs. The identity matrix be returned.\n",
      "  s = DatasetReader(path, driver=driver, sharing=sharing, **kwargs)\n"
     ]
    },
    {
     "name": "stdout",
     "output_type": "stream",
     "text": [
      "42.0 117.05684401120065\n",
      "@ 0.8385986965149641 12.789470862597227\n",
      "105.66343576088548 4491.285287246518\n"
     ]
    },
    {
     "name": "stderr",
     "output_type": "stream",
     "text": [
      "/home/nghipham/anaconda3/envs/onnx/lib/python3.8/site-packages/rasterio/__init__.py:220: NotGeoreferencedWarning: Dataset has no geotransform, gcps, or rpcs. The identity matrix be returned.\n",
      "  s = DatasetReader(path, driver=driver, sharing=sharing, **kwargs)\n"
     ]
    },
    {
     "name": "stdout",
     "output_type": "stream",
     "text": [
      "42.0 116.74576828662053\n",
      "@ 0.158092244528234 12.741021774709225\n",
      "19.919622810557485 4462.381127534969\n"
     ]
    },
    {
     "name": "stderr",
     "output_type": "stream",
     "text": [
      "/home/nghipham/anaconda3/envs/onnx/lib/python3.8/site-packages/rasterio/__init__.py:220: NotGeoreferencedWarning: Dataset has no geotransform, gcps, or rpcs. The identity matrix be returned.\n",
      "  s = DatasetReader(path, driver=driver, sharing=sharing, **kwargs)\n"
     ]
    },
    {
     "name": "stdout",
     "output_type": "stream",
     "text": [
      "42.0 114.73049657338858\n",
      "@ 0.21134925074875355 12.427149400115013\n",
      "26.630005594342947 4277.31906500065\n"
     ]
    },
    {
     "name": "stderr",
     "output_type": "stream",
     "text": [
      "/home/nghipham/anaconda3/envs/onnx/lib/python3.8/site-packages/rasterio/__init__.py:220: NotGeoreferencedWarning: Dataset has no geotransform, gcps, or rpcs. The identity matrix be returned.\n",
      "  s = DatasetReader(path, driver=driver, sharing=sharing, **kwargs)\n"
     ]
    },
    {
     "name": "stdout",
     "output_type": "stream",
     "text": [
      "42.0 115.69080894799421\n",
      "@ 0.5340809812769294 12.576715100556612\n",
      "67.2942036408931 4365.031031675547\n"
     ]
    },
    {
     "name": "stderr",
     "output_type": "stream",
     "text": [
      "/home/nghipham/anaconda3/envs/onnx/lib/python3.8/site-packages/rasterio/__init__.py:220: NotGeoreferencedWarning: Dataset has no geotransform, gcps, or rpcs. The identity matrix be returned.\n",
      "  s = DatasetReader(path, driver=driver, sharing=sharing, **kwargs)\n"
     ]
    },
    {
     "name": "stdout",
     "output_type": "stream",
     "text": [
      "42.0 114.49157955544837\n",
      "@ 1.0033172406256199 12.389938808977604\n",
      "126.4179723188281 4255.630994505589\n"
     ]
    },
    {
     "name": "stderr",
     "output_type": "stream",
     "text": [
      "/home/nghipham/anaconda3/envs/onnx/lib/python3.8/site-packages/rasterio/__init__.py:220: NotGeoreferencedWarning: Dataset has no geotransform, gcps, or rpcs. The identity matrix be returned.\n",
      "  s = DatasetReader(path, driver=driver, sharing=sharing, **kwargs)\n"
     ]
    },
    {
     "name": "stdout",
     "output_type": "stream",
     "text": [
      "43.52893642154036 114.70800635466058\n",
      "@ 1.3377252728678286 12.423646617680788\n",
      "174.6892750564543 4275.275205506956\n"
     ]
    },
    {
     "name": "stderr",
     "output_type": "stream",
     "text": [
      "/home/nghipham/anaconda3/envs/onnx/lib/python3.8/site-packages/rasterio/__init__.py:220: NotGeoreferencedWarning: Dataset has no geotransform, gcps, or rpcs. The identity matrix be returned.\n",
      "  s = DatasetReader(path, driver=driver, sharing=sharing, **kwargs)\n"
     ]
    },
    {
     "name": "stdout",
     "output_type": "stream",
     "text": [
      "43.60384849494995 113.96412271669553\n",
      "@ 1.349392598029226 12.307789027690887\n",
      "176.51613121401982 4207.939137368889\n"
     ]
    },
    {
     "name": "stderr",
     "output_type": "stream",
     "text": [
      "/home/nghipham/anaconda3/envs/onnx/lib/python3.8/site-packages/rasterio/__init__.py:220: NotGeoreferencedWarning: Dataset has no geotransform, gcps, or rpcs. The identity matrix be returned.\n",
      "  s = DatasetReader(path, driver=driver, sharing=sharing, **kwargs)\n"
     ]
    },
    {
     "name": "stdout",
     "output_type": "stream",
     "text": [
      "45.11021972654454 113.36451996789759\n",
      "@ 1.5840052869170904 12.214402742683887\n",
      "214.36447962251455 4154.039710856792\n"
     ]
    },
    {
     "name": "stderr",
     "output_type": "stream",
     "text": [
      "/home/nghipham/anaconda3/envs/onnx/lib/python3.8/site-packages/rasterio/__init__.py:220: NotGeoreferencedWarning: Dataset has no geotransform, gcps, or rpcs. The identity matrix be returned.\n",
      "  s = DatasetReader(path, driver=driver, sharing=sharing, **kwargs)\n"
     ]
    },
    {
     "name": "stdout",
     "output_type": "stream",
     "text": [
      "46.76655015986139 111.27713018618388\n",
      "@ 1.8419736605137587 11.8892982006073\n",
      "258.42826076268057 3969.020951074021\n"
     ]
    },
    {
     "name": "stderr",
     "output_type": "stream",
     "text": [
      "/home/nghipham/anaconda3/envs/onnx/lib/python3.8/site-packages/rasterio/__init__.py:220: NotGeoreferencedWarning: Dataset has no geotransform, gcps, or rpcs. The identity matrix be returned.\n",
      "  s = DatasetReader(path, driver=driver, sharing=sharing, **kwargs)\n"
     ]
    },
    {
     "name": "stdout",
     "output_type": "stream",
     "text": [
      "47.63217469309949 109.86149676518897\n",
      "@ 1.9767920207232237 11.668817646801472\n",
      "282.47670858904127 3845.8613164729795\n"
     ]
    },
    {
     "name": "stderr",
     "output_type": "stream",
     "text": [
      "/home/nghipham/anaconda3/envs/onnx/lib/python3.8/site-packages/rasterio/__init__.py:220: NotGeoreferencedWarning: Dataset has no geotransform, gcps, or rpcs. The identity matrix be returned.\n",
      "  s = DatasetReader(path, driver=driver, sharing=sharing, **kwargs)\n"
     ]
    },
    {
     "name": "stdout",
     "output_type": "stream",
     "text": [
      "49.77929492823156 110.07793834626213\n",
      "@ 2.31119939731434 11.70252775773406\n",
      "345.14962931058466 3864.570387033813\n"
     ]
    },
    {
     "name": "stderr",
     "output_type": "stream",
     "text": [
      "/home/nghipham/anaconda3/envs/onnx/lib/python3.8/site-packages/rasterio/__init__.py:220: NotGeoreferencedWarning: Dataset has no geotransform, gcps, or rpcs. The identity matrix be returned.\n",
      "  s = DatasetReader(path, driver=driver, sharing=sharing, **kwargs)\n"
     ]
    },
    {
     "name": "stdout",
     "output_type": "stream",
     "text": [
      "53.50782999822758 108.9508790218189\n",
      "@ 2.891907273326069 11.526991732418537\n",
      "464.2190482553075 3767.6276451727163\n"
     ]
    },
    {
     "name": "stderr",
     "output_type": "stream",
     "text": [
      "/home/nghipham/anaconda3/envs/onnx/lib/python3.8/site-packages/rasterio/__init__.py:220: NotGeoreferencedWarning: Dataset has no geotransform, gcps, or rpcs. The identity matrix be returned.\n",
      "  s = DatasetReader(path, driver=driver, sharing=sharing, **kwargs)\n"
     ]
    },
    {
     "name": "stdout",
     "output_type": "stream",
     "text": [
      "55.87989159675692 106.93564612891109\n",
      "@ 3.2613485758192837 11.21312540397048\n",
      "546.7314146280575 3597.2484305942708\n"
     ]
    },
    {
     "name": "stderr",
     "output_type": "stream",
     "text": [
      "/home/nghipham/anaconda3/envs/onnx/lib/python3.8/site-packages/rasterio/__init__.py:220: NotGeoreferencedWarning: Dataset has no geotransform, gcps, or rpcs. The identity matrix be returned.\n",
      "  s = DatasetReader(path, driver=driver, sharing=sharing, **kwargs)\n"
     ]
    },
    {
     "name": "stdout",
     "output_type": "stream",
     "text": [
      "58.7427344281667 107.22424624919208\n",
      "@ 3.707227546721697 11.25807398557663\n",
      "653.3180497255697 3621.4154919632756\n"
     ]
    },
    {
     "name": "stderr",
     "output_type": "stream",
     "text": [
      "/home/nghipham/anaconda3/envs/onnx/lib/python3.8/site-packages/rasterio/__init__.py:220: NotGeoreferencedWarning: Dataset has no geotransform, gcps, or rpcs. The identity matrix be returned.\n",
      "  s = DatasetReader(path, driver=driver, sharing=sharing, **kwargs)\n"
     ]
    },
    {
     "name": "stdout",
     "output_type": "stream",
     "text": [
      "59.308427522176785 108.78421133911267\n",
      "@ 3.7953325072303414 11.501033753156662\n",
      "675.2856087828966 3753.3926592649877\n"
     ]
    },
    {
     "name": "stderr",
     "output_type": "stream",
     "text": [
      "/home/nghipham/anaconda3/envs/onnx/lib/python3.8/site-packages/rasterio/__init__.py:220: NotGeoreferencedWarning: Dataset has no geotransform, gcps, or rpcs. The identity matrix be returned.\n",
      "  s = DatasetReader(path, driver=driver, sharing=sharing, **kwargs)\n"
     ]
    },
    {
     "name": "stdout",
     "output_type": "stream",
     "text": [
      "58.81758326905664 106.48041279301387\n",
      "@ 3.718885023612529 11.142224211245775\n",
      "656.2074886331328 3559.2859003372905\n"
     ]
    },
    {
     "name": "stderr",
     "output_type": "stream",
     "text": [
      "/home/nghipham/anaconda3/envs/onnx/lib/python3.8/site-packages/rasterio/__init__.py:220: NotGeoreferencedWarning: Dataset has no geotransform, gcps, or rpcs. The identity matrix be returned.\n",
      "  s = DatasetReader(path, driver=driver, sharing=sharing, **kwargs)\n"
     ]
    },
    {
     "name": "stdout",
     "output_type": "stream",
     "text": [
      "59.38327464389802 108.04037912671564\n",
      "@ 3.8069897163659334 11.385184172540903\n",
      "678.214547680361 3690.178843286404\n"
     ]
    },
    {
     "name": "stderr",
     "output_type": "stream",
     "text": [
      "/home/nghipham/anaconda3/envs/onnx/lib/python3.8/site-packages/rasterio/__init__.py:220: NotGeoreferencedWarning: Dataset has no geotransform, gcps, or rpcs. The identity matrix be returned.\n",
      "  s = DatasetReader(path, driver=driver, sharing=sharing, **kwargs)\n"
     ]
    },
    {
     "name": "stdout",
     "output_type": "stream",
     "text": [
      "59.30822095882543 108.78430656012955\n",
      "@ 3.795300335623324 11.50104858353734\n",
      "675.2775327307572 3753.400784623409\n"
     ]
    },
    {
     "name": "stderr",
     "output_type": "stream",
     "text": [
      "/home/nghipham/anaconda3/envs/onnx/lib/python3.8/site-packages/rasterio/__init__.py:220: NotGeoreferencedWarning: Dataset has no geotransform, gcps, or rpcs. The identity matrix be returned.\n",
      "  s = DatasetReader(path, driver=driver, sharing=sharing, **kwargs)\n"
     ]
    },
    {
     "name": "stdout",
     "output_type": "stream",
     "text": [
      "59.30815124130247 108.78433856357606\n",
      "@ 3.7952894773334265 11.50105356797576\n",
      "675.2748069786439 3753.4035155294987\n"
     ]
    },
    {
     "name": "stderr",
     "output_type": "stream",
     "text": [
      "/home/nghipham/anaconda3/envs/onnx/lib/python3.8/site-packages/rasterio/__init__.py:220: NotGeoreferencedWarning: Dataset has no geotransform, gcps, or rpcs. The identity matrix be returned.\n",
      "  s = DatasetReader(path, driver=driver, sharing=sharing, **kwargs)\n"
     ]
    },
    {
     "name": "stdout",
     "output_type": "stream",
     "text": [
      "59.15810883480508 110.27216202492909\n",
      "@ 3.771920833736658 11.732777498662472\n",
      "669.4191095953857 3881.3962240048513\n"
     ]
    },
    {
     "name": "stderr",
     "output_type": "stream",
     "text": [
      "/home/nghipham/anaconda3/envs/onnx/lib/python3.8/site-packages/rasterio/__init__.py:220: NotGeoreferencedWarning: Dataset has no geotransform, gcps, or rpcs. The identity matrix be returned.\n",
      "  s = DatasetReader(path, driver=driver, sharing=sharing, **kwargs)\n"
     ]
    },
    {
     "name": "stdout",
     "output_type": "stream",
     "text": [
      "59.948748416830085 109.60044577615335\n",
      "@ 3.8950605182908475 11.628159757703543\n",
      "700.5120092380374 3823.354479001907\n"
     ]
    },
    {
     "name": "stderr",
     "output_type": "stream",
     "text": [
      "/home/nghipham/anaconda3/envs/onnx/lib/python3.8/site-packages/rasterio/__init__.py:220: NotGeoreferencedWarning: Dataset has no geotransform, gcps, or rpcs. The identity matrix be returned.\n",
      "  s = DatasetReader(path, driver=driver, sharing=sharing, **kwargs)\n"
     ]
    },
    {
     "name": "stdout",
     "output_type": "stream",
     "text": [
      "59.94867692333111 109.60047907121877\n",
      "@ 3.8950493833981454 11.628164943307638\n",
      "700.5091712572663 3823.357345517006\n"
     ]
    },
    {
     "name": "stderr",
     "output_type": "stream",
     "text": [
      "/home/nghipham/anaconda3/envs/onnx/lib/python3.8/site-packages/rasterio/__init__.py:220: NotGeoreferencedWarning: Dataset has no geotransform, gcps, or rpcs. The identity matrix be returned.\n",
      "  s = DatasetReader(path, driver=driver, sharing=sharing, **kwargs)\n"
     ]
    },
    {
     "name": "stdout",
     "output_type": "stream",
     "text": [
      "60.17356980916095 107.36882442598008\n",
      "@ 3.9300757590681314 11.28059159219265\n",
      "709.4600641307322 3633.551574249959\n"
     ]
    },
    {
     "name": "stderr",
     "output_type": "stream",
     "text": [
      "/home/nghipham/anaconda3/envs/onnx/lib/python3.8/site-packages/rasterio/__init__.py:220: NotGeoreferencedWarning: Dataset has no geotransform, gcps, or rpcs. The identity matrix be returned.\n",
      "  s = DatasetReader(path, driver=driver, sharing=sharing, **kwargs)\n"
     ]
    },
    {
     "name": "stdout",
     "output_type": "stream",
     "text": [
      "61.52996121199877 108.25705097473917\n",
      "@ 4.141329550649971 11.418930146843195\n",
      "764.4475398527909 3708.5391089513687\n"
     ]
    },
    {
     "name": "stderr",
     "output_type": "stream",
     "text": [
      "/home/nghipham/anaconda3/envs/onnx/lib/python3.8/site-packages/rasterio/__init__.py:220: NotGeoreferencedWarning: Dataset has no geotransform, gcps, or rpcs. The identity matrix be returned.\n",
      "  s = DatasetReader(path, driver=driver, sharing=sharing, **kwargs)\n"
     ]
    },
    {
     "name": "stdout",
     "output_type": "stream",
     "text": [
      "60.81416727769471 108.18493666151981\n",
      "@ 4.029846845660359 11.407698564231396\n",
      "735.2153405264382 3702.4234398752524\n"
     ]
    },
    {
     "name": "stderr",
     "output_type": "stream",
     "text": [
      "/home/nghipham/anaconda3/envs/onnx/lib/python3.8/site-packages/rasterio/__init__.py:220: NotGeoreferencedWarning: Dataset has no geotransform, gcps, or rpcs. The identity matrix be returned.\n",
      "  s = DatasetReader(path, driver=driver, sharing=sharing, **kwargs)\n"
     ]
    },
    {
     "name": "stdout",
     "output_type": "stream",
     "text": [
      "61.45483109717064 109.00101689361304\n",
      "@ 4.129628266207874 11.534800551831722\n",
      "761.3568227817195 3771.9149694440002\n"
     ]
    },
    {
     "name": "stderr",
     "output_type": "stream",
     "text": [
      "/home/nghipham/anaconda3/envs/onnx/lib/python3.8/site-packages/rasterio/__init__.py:220: NotGeoreferencedWarning: Dataset has no geotransform, gcps, or rpcs. The identity matrix be returned.\n",
      "  s = DatasetReader(path, driver=driver, sharing=sharing, **kwargs)\n"
     ]
    },
    {
     "name": "stdout",
     "output_type": "stream",
     "text": [
      "61.37976903152438 109.74494860850447\n",
      "@ 4.117937580216676 11.650665629655123\n",
      "758.274172679802 3835.805102344113\n"
     ]
    },
    {
     "name": "stderr",
     "output_type": "stream",
     "text": [
      "/home/nghipham/anaconda3/envs/onnx/lib/python3.8/site-packages/rasterio/__init__.py:220: NotGeoreferencedWarning: Dataset has no geotransform, gcps, or rpcs. The identity matrix be returned.\n",
      "  s = DatasetReader(path, driver=driver, sharing=sharing, **kwargs)\n"
     ]
    },
    {
     "name": "stdout",
     "output_type": "stream",
     "text": [
      "62.73615100434816 110.63318273954499\n",
      "@ 4.329189903102815 11.789005365222692\n",
      "814.7901344626728 3912.7655546644755\n"
     ]
    },
    {
     "name": "stderr",
     "output_type": "stream",
     "text": [
      "/home/nghipham/anaconda3/envs/onnx/lib/python3.8/site-packages/rasterio/__init__.py:220: NotGeoreferencedWarning: Dataset has no geotransform, gcps, or rpcs. The identity matrix be returned.\n",
      "  s = DatasetReader(path, driver=driver, sharing=sharing, **kwargs)\n"
     ]
    },
    {
     "name": "stdout",
     "output_type": "stream",
     "text": [
      "62.02035332973098 110.56106904821624\n",
      "@ 4.217706615570933 11.777773879468441\n",
      "784.7509636165591 3906.489813366564\n"
     ]
    },
    {
     "name": "stderr",
     "output_type": "stream",
     "text": [
      "/home/nghipham/anaconda3/envs/onnx/lib/python3.8/site-packages/rasterio/__init__.py:220: NotGeoreferencedWarning: Dataset has no geotransform, gcps, or rpcs. The identity matrix be returned.\n",
      "  s = DatasetReader(path, driver=driver, sharing=sharing, **kwargs)\n"
     ]
    },
    {
     "name": "stdout",
     "output_type": "stream",
     "text": [
      "61.52953394027501 108.25726363740206\n",
      "@ 4.1412630043923855 11.418963268399239\n",
      "764.4299477530997 3708.55715103872\n"
     ]
    },
    {
     "name": "stderr",
     "output_type": "stream",
     "text": [
      "/home/nghipham/anaconda3/envs/onnx/lib/python3.8/site-packages/rasterio/__init__.py:220: NotGeoreferencedWarning: Dataset has no geotransform, gcps, or rpcs. The identity matrix be returned.\n",
      "  s = DatasetReader(path, driver=driver, sharing=sharing, **kwargs)\n"
     ]
    },
    {
     "name": "stdout",
     "output_type": "stream",
     "text": [
      "60.81374165039318 108.18514599945995\n",
      "@ 4.029780555516481 11.407731167972088\n",
      "735.1981008328717 3702.4411857889504\n"
     ]
    },
    {
     "name": "stderr",
     "output_type": "stream",
     "text": [
      "/home/nghipham/anaconda3/envs/onnx/lib/python3.8/site-packages/rasterio/__init__.py:220: NotGeoreferencedWarning: Dataset has no geotransform, gcps, or rpcs. The identity matrix be returned.\n",
      "  s = DatasetReader(path, driver=driver, sharing=sharing, **kwargs)\n"
     ]
    },
    {
     "name": "stdout",
     "output_type": "stream",
     "text": [
      "61.5293938175616 108.25733333698588\n",
      "@ 4.1412411807104945 11.418974123895168\n",
      "764.4241785043193 3708.5630642908063\n"
     ]
    },
    {
     "name": "stderr",
     "output_type": "stream",
     "text": [
      "/home/nghipham/anaconda3/envs/onnx/lib/python3.8/site-packages/rasterio/__init__.py:220: NotGeoreferencedWarning: Dataset has no geotransform, gcps, or rpcs. The identity matrix be returned.\n",
      "  s = DatasetReader(path, driver=driver, sharing=sharing, **kwargs)\n"
     ]
    },
    {
     "name": "stdout",
     "output_type": "stream",
     "text": [
      "60.96359066087653 106.69742072506354\n",
      "@ 4.053119078278542 11.17602252960205\n",
      "741.2780771638865 3577.3583336212164\n"
     ]
    },
    {
     "name": "stderr",
     "output_type": "stream",
     "text": [
      "/home/nghipham/anaconda3/envs/onnx/lib/python3.8/site-packages/rasterio/__init__.py:220: NotGeoreferencedWarning: Dataset has no geotransform, gcps, or rpcs. The identity matrix be returned.\n",
      "  s = DatasetReader(path, driver=driver, sharing=sharing, **kwargs)\n"
     ]
    },
    {
     "name": "stdout",
     "output_type": "stream",
     "text": [
      "61.038518305469736 105.95355727462379\n",
      "@ 4.064788828603923 11.060168083757162\n",
      "744.3260619678283 3515.5924575879917\n"
     ]
    },
    {
     "name": "stderr",
     "output_type": "stream",
     "text": [
      "/home/nghipham/anaconda3/envs/onnx/lib/python3.8/site-packages/rasterio/__init__.py:220: NotGeoreferencedWarning: Dataset has no geotransform, gcps, or rpcs. The identity matrix be returned.\n",
      "  s = DatasetReader(path, driver=driver, sharing=sharing, **kwargs)\n"
     ]
    },
    {
     "name": "stdout",
     "output_type": "stream",
     "text": [
      "60.24773570953804 106.62533293786974\n",
      "@ 3.941626870073378 11.164795078337193\n",
      "712.4222818013836 3571.349977232378\n"
     ]
    },
    {
     "name": "stderr",
     "output_type": "stream",
     "text": [
      "/home/nghipham/anaconda3/envs/onnx/lib/python3.8/site-packages/rasterio/__init__.py:220: NotGeoreferencedWarning: Dataset has no geotransform, gcps, or rpcs. The identity matrix be returned.\n",
      "  s = DatasetReader(path, driver=driver, sharing=sharing, **kwargs)\n"
     ]
    },
    {
     "name": "stdout",
     "output_type": "stream",
     "text": [
      "60.963389799185535 106.69752096904287\n",
      "@ 4.053087794687599 11.176038142293692\n",
      "741.2699133535841 3577.3666921146123\n"
     ]
    },
    {
     "name": "stderr",
     "output_type": "stream",
     "text": [
      "/home/nghipham/anaconda3/envs/onnx/lib/python3.8/site-packages/rasterio/__init__.py:220: NotGeoreferencedWarning: Dataset has no geotransform, gcps, or rpcs. The identity matrix be returned.\n",
      "  s = DatasetReader(path, driver=driver, sharing=sharing, **kwargs)\n"
     ]
    },
    {
     "name": "stdout",
     "output_type": "stream",
     "text": [
      "60.3225986984389 105.88150129952555\n",
      "@ 3.953286550473422 11.0489455871284\n",
      "715.4175543724322 3509.6368396257685\n"
     ]
    },
    {
     "name": "stderr",
     "output_type": "stream",
     "text": [
      "/home/nghipham/anaconda3/envs/onnx/lib/python3.8/site-packages/rasterio/__init__.py:220: NotGeoreferencedWarning: Dataset has no geotransform, gcps, or rpcs. The identity matrix be returned.\n",
      "  s = DatasetReader(path, driver=driver, sharing=sharing, **kwargs)\n"
     ]
    },
    {
     "name": "stdout",
     "output_type": "stream",
     "text": [
      "60.39753043016883 105.13763622260274\n",
      "@ 3.9649569373577833 10.933090887963772\n",
      "718.4208218351271 3448.437997702163\n"
     ]
    },
    {
     "name": "stderr",
     "output_type": "stream",
     "text": [
      "/home/nghipham/anaconda3/envs/onnx/lib/python3.8/site-packages/rasterio/__init__.py:220: NotGeoreferencedWarning: Dataset has no geotransform, gcps, or rpcs. The identity matrix be returned.\n",
      "  s = DatasetReader(path, driver=driver, sharing=sharing, **kwargs)\n"
     ]
    },
    {
     "name": "stdout",
     "output_type": "stream",
     "text": [
      "61.11318604165435 105.20982549755703\n",
      "@ 4.076418098993599 10.944334145635366\n",
      "747.3686930020884 3454.354456947756\n"
     ]
    },
    {
     "name": "stderr",
     "output_type": "stream",
     "text": [
      "/home/nghipham/anaconda3/envs/onnx/lib/python3.8/site-packages/rasterio/__init__.py:220: NotGeoreferencedWarning: Dataset has no geotransform, gcps, or rpcs. The identity matrix be returned.\n",
      "  s = DatasetReader(path, driver=driver, sharing=sharing, **kwargs)\n"
     ]
    },
    {
     "name": "stdout",
     "output_type": "stream",
     "text": [
      "60.32240302116274 105.88159876891609\n",
      "@ 3.9532560743391514 11.048960767686367\n",
      "715.4097184864379 3509.6448924529896\n"
     ]
    },
    {
     "name": "stderr",
     "output_type": "stream",
     "text": [
      "/home/nghipham/anaconda3/envs/onnx/lib/python3.8/site-packages/rasterio/__init__.py:220: NotGeoreferencedWarning: Dataset has no geotransform, gcps, or rpcs. The identity matrix be returned.\n",
      "  s = DatasetReader(path, driver=driver, sharing=sharing, **kwargs)\n"
     ]
    },
    {
     "name": "stdout",
     "output_type": "stream",
     "text": [
      "61.03805695533759 105.95378928765159\n",
      "@ 4.064716974738985 11.060204219073057\n",
      "744.3072786343371 3515.6116419181853\n"
     ]
    },
    {
     "name": "stderr",
     "output_type": "stream",
     "text": [
      "/home/nghipham/anaconda3/envs/onnx/lib/python3.8/site-packages/rasterio/__init__.py:220: NotGeoreferencedWarning: Dataset has no geotransform, gcps, or rpcs. The identity matrix be returned.\n",
      "  s = DatasetReader(path, driver=driver, sharing=sharing, **kwargs)\n"
     ]
    },
    {
     "name": "stdout",
     "output_type": "stream",
     "text": [
      "61.978708988466614 103.79428796730733\n",
      "@ 4.211220637429506 10.723868526518345\n",
      "783.0180551204046 3339.228893894966\n"
     ]
    },
    {
     "name": "stderr",
     "output_type": "stream",
     "text": [
      "/home/nghipham/anaconda3/envs/onnx/lib/python3.8/site-packages/rasterio/__init__.py:220: NotGeoreferencedWarning: Dataset has no geotransform, gcps, or rpcs. The identity matrix be returned.\n",
      "  s = DatasetReader(path, driver=driver, sharing=sharing, **kwargs)\n"
     ]
    },
    {
     "name": "stdout",
     "output_type": "stream",
     "text": [
      "63.33508371686299 104.68253821966543\n",
      "@ 4.422471832018346 10.862210772931576\n",
      "840.292871149051 3411.2513831624137\n"
     ]
    },
    {
     "name": "stderr",
     "output_type": "stream",
     "text": [
      "/home/nghipham/anaconda3/envs/onnx/lib/python3.8/site-packages/rasterio/__init__.py:220: NotGeoreferencedWarning: Dataset has no geotransform, gcps, or rpcs. The identity matrix be returned.\n",
      "  s = DatasetReader(path, driver=driver, sharing=sharing, **kwargs)\n"
     ]
    },
    {
     "name": "stdout",
     "output_type": "stream",
     "text": [
      "62.05358269601058 103.05045896003871\n",
      "@ 4.222881987225264 10.608019445091486\n",
      "786.1348698293293 3279.4838174210786\n"
     ]
    },
    {
     "name": "stderr",
     "output_type": "stream",
     "text": [
      "/home/nghipham/anaconda3/envs/onnx/lib/python3.8/site-packages/rasterio/__init__.py:220: NotGeoreferencedWarning: Dataset has no geotransform, gcps, or rpcs. The identity matrix be returned.\n",
      "  s = DatasetReader(path, driver=driver, sharing=sharing, **kwargs)\n"
     ]
    },
    {
     "name": "stdout",
     "output_type": "stream",
     "text": [
      "62.76923936889591 103.12265289917244\n",
      "@ 4.334343314170837 10.619263429194689\n",
      "816.1902989824887 3285.2598499611586\n"
     ]
    },
    {
     "name": "stderr",
     "output_type": "stream",
     "text": [
      "/home/nghipham/anaconda3/envs/onnx/lib/python3.8/site-packages/rasterio/__init__.py:220: NotGeoreferencedWarning: Dataset has no geotransform, gcps, or rpcs. The identity matrix be returned.\n",
      "  s = DatasetReader(path, driver=driver, sharing=sharing, **kwargs)\n"
     ]
    },
    {
     "name": "stdout",
     "output_type": "stream",
     "text": [
      "62.69417506384555 103.86658595352053\n",
      "@ 4.322652279399335 10.735128715634346\n",
      "813.0153562343787 3345.063508393623\n"
     ]
    },
    {
     "name": "stderr",
     "output_type": "stream",
     "text": [
      "/home/nghipham/anaconda3/envs/onnx/lib/python3.8/site-packages/rasterio/__init__.py:220: NotGeoreferencedWarning: Dataset has no geotransform, gcps, or rpcs. The identity matrix be returned.\n",
      "  s = DatasetReader(path, driver=driver, sharing=sharing, **kwargs)\n"
     ]
    },
    {
     "name": "stdout",
     "output_type": "stream",
     "text": [
      "62.1283986305167 102.30666291297138\n",
      "@ 4.234534339047968 10.492175497114658\n",
      "789.2545122929512 3220.2583854211416\n"
     ]
    },
    {
     "name": "stderr",
     "output_type": "stream",
     "text": [
      "/home/nghipham/anaconda3/envs/onnx/lib/python3.8/site-packages/rasterio/__init__.py:220: NotGeoreferencedWarning: Dataset has no geotransform, gcps, or rpcs. The identity matrix be returned.\n",
      "  s = DatasetReader(path, driver=driver, sharing=sharing, **kwargs)\n"
     ]
    },
    {
     "name": "stdout",
     "output_type": "stream",
     "text": [
      "63.33476413984621 104.68271545848359\n",
      "@ 4.422422058880329 10.862238377332687\n",
      "840.2791740781161 3411.2658278896142\n"
     ]
    },
    {
     "name": "stderr",
     "output_type": "stream",
     "text": [
      "/home/nghipham/anaconda3/envs/onnx/lib/python3.8/site-packages/rasterio/__init__.py:220: NotGeoreferencedWarning: Dataset has no geotransform, gcps, or rpcs. The identity matrix be returned.\n",
      "  s = DatasetReader(path, driver=driver, sharing=sharing, **kwargs)\n"
     ]
    },
    {
     "name": "stdout",
     "output_type": "stream",
     "text": [
      "63.25969521247445 105.42665028282796\n",
      "@ 4.410730304196477 10.978103939443827\n",
      "837.0643641236816 3472.154174376841\n"
     ]
    },
    {
     "name": "stderr",
     "output_type": "stream",
     "text": [
      "/home/nghipham/anaconda3/envs/onnx/lib/python3.8/site-packages/rasterio/__init__.py:220: NotGeoreferencedWarning: Dataset has no geotransform, gcps, or rpcs. The identity matrix be returned.\n",
      "  s = DatasetReader(path, driver=driver, sharing=sharing, **kwargs)\n"
     ]
    },
    {
     "name": "stdout",
     "output_type": "stream",
     "text": [
      "62.54391151245639 105.35452384274211\n",
      "@ 4.299249193165451 10.966870468109846\n",
      "806.6755833220186 3466.228248638229\n"
     ]
    },
    {
     "name": "stderr",
     "output_type": "stream",
     "text": [
      "/home/nghipham/anaconda3/envs/onnx/lib/python3.8/site-packages/rasterio/__init__.py:220: NotGeoreferencedWarning: Dataset has no geotransform, gcps, or rpcs. The identity matrix be returned.\n",
      "  s = DatasetReader(path, driver=driver, sharing=sharing, **kwargs)\n"
     ]
    },
    {
     "name": "stdout",
     "output_type": "stream",
     "text": [
      "63.97527978790936 105.49888622349539\n",
      "@ 4.522180402185768 10.989354465156794\n",
      "867.9232694437048 3478.0939691677127\n"
     ]
    },
    {
     "name": "stderr",
     "output_type": "stream",
     "text": [
      "/home/nghipham/anaconda3/envs/onnx/lib/python3.8/site-packages/rasterio/__init__.py:220: NotGeoreferencedWarning: Dataset has no geotransform, gcps, or rpcs. The identity matrix be returned.\n",
      "  s = DatasetReader(path, driver=driver, sharing=sharing, **kwargs)\n"
     ]
    },
    {
     "name": "stdout",
     "output_type": "stream",
     "text": [
      "62.61878482234916 104.61069686857735\n",
      "@ 4.310910481028259 10.851021703332663\n",
      "809.8319273997547 3405.398826365061\n"
     ]
    },
    {
     "name": "stderr",
     "output_type": "stream",
     "text": [
      "/home/nghipham/anaconda3/envs/onnx/lib/python3.8/site-packages/rasterio/__init__.py:220: NotGeoreferencedWarning: Dataset has no geotransform, gcps, or rpcs. The identity matrix be returned.\n",
      "  s = DatasetReader(path, driver=driver, sharing=sharing, **kwargs)\n"
     ]
    },
    {
     "name": "stdout",
     "output_type": "stream",
     "text": [
      "62.7687324832172 103.12293406547572\n",
      "@ 4.334264368284494 10.619307219982147\n",
      "816.1688419331695 3285.2823548017477\n"
     ]
    },
    {
     "name": "stderr",
     "output_type": "stream",
     "text": [
      "/home/nghipham/anaconda3/envs/onnx/lib/python3.8/site-packages/rasterio/__init__.py:220: NotGeoreferencedWarning: Dataset has no geotransform, gcps, or rpcs. The identity matrix be returned.\n",
      "  s = DatasetReader(path, driver=driver, sharing=sharing, **kwargs)\n"
     ]
    },
    {
     "name": "stdout",
     "output_type": "stream",
     "text": [
      "62.052953785232596 103.0508037505331\n",
      "@ 4.222784036304802 10.608073145151138\n",
      "786.1086679495195 3279.511391556811\n"
     ]
    },
    {
     "name": "stderr",
     "output_type": "stream",
     "text": [
      "/home/nghipham/anaconda3/envs/onnx/lib/python3.8/site-packages/rasterio/__init__.py:220: NotGeoreferencedWarning: Dataset has no geotransform, gcps, or rpcs. The identity matrix be returned.\n",
      "  s = DatasetReader(path, driver=driver, sharing=sharing, **kwargs)\n"
     ]
    },
    {
     "name": "stdout",
     "output_type": "stream",
     "text": [
      "61.48719046243373 101.49087351040444\n",
      "@ 4.1346681378781796 10.36511880531907\n",
      "762.6873818780156 3155.894884772857\n"
     ]
    },
    {
     "name": "stderr",
     "output_type": "stream",
     "text": [
      "/home/nghipham/anaconda3/envs/onnx/lib/python3.8/site-packages/rasterio/__init__.py:220: NotGeoreferencedWarning: Dataset has no geotransform, gcps, or rpcs. The identity matrix be returned.\n",
      "  s = DatasetReader(path, driver=driver, sharing=sharing, **kwargs)\n"
     ]
    },
    {
     "name": "stdout",
     "output_type": "stream",
     "text": [
      "61.48713139478711 101.49090572912075\n",
      "@ 4.1346589382737875 10.365123823285103\n",
      "762.6849522308141 3155.897414459076\n"
     ]
    },
    {
     "name": "stderr",
     "output_type": "stream",
     "text": [
      "/home/nghipham/anaconda3/envs/onnx/lib/python3.8/site-packages/rasterio/__init__.py:220: NotGeoreferencedWarning: Dataset has no geotransform, gcps, or rpcs. The identity matrix be returned.\n",
      "  s = DatasetReader(path, driver=driver, sharing=sharing, **kwargs)\n"
     ]
    },
    {
     "name": "stdout",
     "output_type": "stream",
     "text": [
      "60.35567471786047 98.37100719394306\n",
      "@ 3.9584380388259888 9.879209216684103\n",
      "716.7425959865607 2915.4832827747014\n"
     ]
    },
    {
     "name": "stderr",
     "output_type": "stream",
     "text": [
      "/home/nghipham/anaconda3/envs/onnx/lib/python3.8/site-packages/rasterio/__init__.py:220: NotGeoreferencedWarning: Dataset has no geotransform, gcps, or rpcs. The identity matrix be returned.\n",
      "  s = DatasetReader(path, driver=driver, sharing=sharing, **kwargs)\n"
     ]
    },
    {
     "name": "stdout",
     "output_type": "stream",
     "text": [
      "59.78992346512079 96.81107061531414\n",
      "@ 3.8703240202739835 9.636253889650106\n",
      "694.2191308722003 2798.688167334036\n"
     ]
    },
    {
     "name": "stderr",
     "output_type": "stream",
     "text": [
      "/home/nghipham/anaconda3/envs/onnx/lib/python3.8/site-packages/rasterio/__init__.py:220: NotGeoreferencedWarning: Dataset has no geotransform, gcps, or rpcs. The identity matrix be returned.\n",
      "  s = DatasetReader(path, driver=driver, sharing=sharing, **kwargs)\n"
     ]
    },
    {
     "name": "stdout",
     "output_type": "stream",
     "text": [
      "60.430578099751095 97.62716584453813\n",
      "@ 3.970104010310024 9.76335821300745\n",
      "719.7470413775247 2859.5069743827353\n"
     ]
    },
    {
     "name": "stderr",
     "output_type": "stream",
     "text": [
      "/home/nghipham/anaconda3/envs/onnx/lib/python3.8/site-packages/rasterio/__init__.py:220: NotGeoreferencedWarning: Dataset has no geotransform, gcps, or rpcs. The identity matrix be returned.\n",
      "  s = DatasetReader(path, driver=driver, sharing=sharing, **kwargs)\n"
     ]
    },
    {
     "name": "stdout",
     "output_type": "stream",
     "text": [
      "59.78982044655268 96.81112739870878\n",
      "@ 3.870307975448668 9.636262733489275\n",
      "694.21505677481 2798.69237741778\n"
     ]
    },
    {
     "name": "stderr",
     "output_type": "stream",
     "text": [
      "/home/nghipham/anaconda3/envs/onnx/lib/python3.8/site-packages/rasterio/__init__.py:220: NotGeoreferencedWarning: Dataset has no geotransform, gcps, or rpcs. The identity matrix be returned.\n",
      "  s = DatasetReader(path, driver=driver, sharing=sharing, **kwargs)\n"
     ]
    },
    {
     "name": "stdout",
     "output_type": "stream",
     "text": [
      "60.43047358326382 97.62722382387621\n",
      "@ 3.9700877321884036 9.763367243111134\n",
      "719.7428454697533 2859.511317353735\n"
     ]
    },
    {
     "name": "stderr",
     "output_type": "stream",
     "text": [
      "/home/nghipham/anaconda3/envs/onnx/lib/python3.8/site-packages/rasterio/__init__.py:220: NotGeoreferencedWarning: Dataset has no geotransform, gcps, or rpcs. The identity matrix be returned.\n",
      "  s = DatasetReader(path, driver=driver, sharing=sharing, **kwargs)\n"
     ]
    },
    {
     "name": "stdout",
     "output_type": "stream",
     "text": [
      "59.789717424994706 96.8111841821034\n",
      "@ 3.8702919301576912 9.636271577328444\n",
      "694.2109825690972 2798.696587504536\n"
     ]
    },
    {
     "name": "stderr",
     "output_type": "stream",
     "text": [
      "/home/nghipham/anaconda3/envs/onnx/lib/python3.8/site-packages/rasterio/__init__.py:220: NotGeoreferencedWarning: Dataset has no geotransform, gcps, or rpcs. The identity matrix be returned.\n",
      "  s = DatasetReader(path, driver=driver, sharing=sharing, **kwargs)\n"
     ]
    },
    {
     "name": "stdout",
     "output_type": "stream",
     "text": [
      "60.43036902790838 97.62728173145769\n",
      "@ 3.9700714480131865 9.763376262038946\n",
      "719.7386480117983 2859.5156549529074\n"
     ]
    },
    {
     "name": "stderr",
     "output_type": "stream",
     "text": [
      "/home/nghipham/anaconda3/envs/onnx/lib/python3.8/site-packages/rasterio/__init__.py:220: NotGeoreferencedWarning: Dataset has no geotransform, gcps, or rpcs. The identity matrix be returned.\n",
      "  s = DatasetReader(path, driver=driver, sharing=sharing, **kwargs)\n"
     ]
    },
    {
     "name": "stdout",
     "output_type": "stream",
     "text": [
      "60.355304250460364 98.37121112621884\n",
      "@ 3.958380339667201 9.879240978509188\n",
      "716.7277492189637 2915.4987001911604\n"
     ]
    },
    {
     "name": "stderr",
     "output_type": "stream",
     "text": [
      "/home/nghipham/anaconda3/envs/onnx/lib/python3.8/site-packages/rasterio/__init__.py:220: NotGeoreferencedWarning: Dataset has no geotransform, gcps, or rpcs. The identity matrix be returned.\n",
      "  s = DatasetReader(path, driver=driver, sharing=sharing, **kwargs)\n"
     ]
    },
    {
     "name": "stdout",
     "output_type": "stream",
     "text": [
      "60.28023781663068 99.11514068841208\n",
      "@ 3.9466889733448625 9.995105721056461\n",
      "713.7220497045068 2971.998929214191\n"
     ]
    },
    {
     "name": "stderr",
     "output_type": "stream",
     "text": [
      "/home/nghipham/anaconda3/envs/onnx/lib/python3.8/site-packages/rasterio/__init__.py:220: NotGeoreferencedWarning: Dataset has no geotransform, gcps, or rpcs. The identity matrix be returned.\n",
      "  s = DatasetReader(path, driver=driver, sharing=sharing, **kwargs)\n"
     ]
    },
    {
     "name": "stdout",
     "output_type": "stream",
     "text": [
      "60.99589667211279 99.18734134874795\n",
      "@ 4.058150640223175 10.006350751966238\n",
      "742.5916113927635 2977.5099830717277\n"
     ]
    },
    {
     "name": "stderr",
     "output_type": "stream",
     "text": [
      "/home/nghipham/anaconda3/envs/onnx/lib/python3.8/site-packages/rasterio/__init__.py:220: NotGeoreferencedWarning: Dataset has no geotransform, gcps, or rpcs. The identity matrix be returned.\n",
      "  s = DatasetReader(path, driver=driver, sharing=sharing, **kwargs)\n"
     ]
    },
    {
     "name": "stdout",
     "output_type": "stream",
     "text": [
      "60.99584144942435 99.18737203665668\n",
      "@ 4.058142039459199 10.006355531513691\n",
      "742.5893652542906 2977.512326505918\n"
     ]
    },
    {
     "name": "stderr",
     "output_type": "stream",
     "text": [
      "/home/nghipham/anaconda3/envs/onnx/lib/python3.8/site-packages/rasterio/__init__.py:220: NotGeoreferencedWarning: Dataset has no geotransform, gcps, or rpcs. The identity matrix be returned.\n",
      "  s = DatasetReader(path, driver=driver, sharing=sharing, **kwargs)\n"
     ]
    },
    {
     "name": "stdout",
     "output_type": "stream",
     "text": [
      "60.28007289005028 99.11523062335894\n",
      "@ 3.946663286536932 9.995119728147984\n",
      "713.7154517547949 2972.0057908904164\n"
     ]
    },
    {
     "name": "stderr",
     "output_type": "stream",
     "text": [
      "/home/nghipham/anaconda3/envs/onnx/lib/python3.8/site-packages/rasterio/__init__.py:220: NotGeoreferencedWarning: Dataset has no geotransform, gcps, or rpcs. The identity matrix be returned.\n",
      "  s = DatasetReader(path, driver=driver, sharing=sharing, **kwargs)\n"
     ]
    },
    {
     "name": "stdout",
     "output_type": "stream",
     "text": [
      "59.639319963818316 98.29918729808034\n",
      "@ 3.846867987886071 9.868023488670588\n",
      "688.2737723643221 2910.056067524059\n"
     ]
    },
    {
     "name": "stderr",
     "output_type": "stream",
     "text": [
      "/home/nghipham/anaconda3/envs/onnx/lib/python3.8/site-packages/rasterio/__init__.py:220: NotGeoreferencedWarning: Dataset has no geotransform, gcps, or rpcs. The identity matrix be returned.\n",
      "  s = DatasetReader(path, driver=driver, sharing=sharing, **kwargs)\n"
     ]
    },
    {
     "name": "stdout",
     "output_type": "stream",
     "text": [
      "58.848538432276285 98.97094339569156\n",
      "@ 3.7237061951309443 9.972647435963154\n",
      "657.404001404006 2961.0069746696936\n"
     ]
    },
    {
     "name": "stderr",
     "output_type": "stream",
     "text": [
      "/home/nghipham/anaconda3/envs/onnx/lib/python3.8/site-packages/rasterio/__init__.py:220: NotGeoreferencedWarning: Dataset has no geotransform, gcps, or rpcs. The identity matrix be returned.\n",
      "  s = DatasetReader(path, driver=driver, sharing=sharing, **kwargs)\n"
     ]
    },
    {
     "name": "stdout",
     "output_type": "stream",
     "text": [
      "57.151442595398954 94.29104649944671\n",
      "@ 3.4593887352384627 9.243767879903316\n",
      "593.1271701514523 2614.813640982167\n"
     ]
    },
    {
     "name": "stderr",
     "output_type": "stream",
     "text": [
      "/home/nghipham/anaconda3/envs/onnx/lib/python3.8/site-packages/rasterio/__init__.py:220: NotGeoreferencedWarning: Dataset has no geotransform, gcps, or rpcs. The identity matrix be returned.\n",
      "  s = DatasetReader(path, driver=driver, sharing=sharing, **kwargs)\n"
     ]
    },
    {
     "name": "stdout",
     "output_type": "stream",
     "text": [
      "53.11662278613081 84.11514322208717\n",
      "@ 2.8309779525734484 7.65890222415328\n",
      "451.1159640680903 1932.6889725258452\n"
     ]
    },
    {
     "name": "stderr",
     "output_type": "stream",
     "text": [
      "/home/nghipham/anaconda3/envs/onnx/lib/python3.8/site-packages/rasterio/__init__.py:220: NotGeoreferencedWarning: Dataset has no geotransform, gcps, or rpcs. The identity matrix be returned.\n",
      "  s = DatasetReader(path, driver=driver, sharing=sharing, **kwargs)\n"
     ]
    },
    {
     "name": "stdout",
     "output_type": "stream",
     "text": [
      "53.191607838999104 83.3712585316919\n",
      "@ 2.8426566440612078 7.5430444702506065\n",
      "453.6164322954871 1886.6193319359365\n"
     ]
    },
    {
     "name": "stderr",
     "output_type": "stream",
     "text": [
      "/home/nghipham/anaconda3/envs/onnx/lib/python3.8/site-packages/rasterio/__init__.py:220: NotGeoreferencedWarning: Dataset has no geotransform, gcps, or rpcs. The identity matrix be returned.\n",
      "  s = DatasetReader(path, driver=driver, sharing=sharing, **kwargs)\n"
     ]
    },
    {
     "name": "stdout",
     "output_type": "stream",
     "text": [
      "53.68223743522066 85.67515184434907\n",
      "@ 2.919070695526898 7.901868771761656\n",
      "470.1067385024089 2030.9814206243998\n"
     ]
    },
    {
     "name": "stderr",
     "output_type": "stream",
     "text": [
      "/home/nghipham/anaconda3/envs/onnx/lib/python3.8/site-packages/rasterio/__init__.py:220: NotGeoreferencedWarning: Dataset has no geotransform, gcps, or rpcs. The identity matrix be returned.\n",
      "  s = DatasetReader(path, driver=driver, sharing=sharing, **kwargs)\n"
     ]
    },
    {
     "name": "stdout",
     "output_type": "stream",
     "text": [
      "54.322897918014384 86.49124492087486\n",
      "@ 3.0188515963964164 8.028972759842873\n",
      "491.9783013020319 2083.3075483038074\n"
     ]
    },
    {
     "name": "stderr",
     "output_type": "stream",
     "text": [
      "/home/nghipham/anaconda3/envs/onnx/lib/python3.8/site-packages/rasterio/__init__.py:220: NotGeoreferencedWarning: Dataset has no geotransform, gcps, or rpcs. The identity matrix be returned.\n",
      "  s = DatasetReader(path, driver=driver, sharing=sharing, **kwargs)\n"
     ]
    },
    {
     "name": "stdout",
     "output_type": "stream",
     "text": [
      "54.81352038641302 88.79514153433593\n",
      "@ 3.0952645377255976 8.387797575443983\n",
      "508.9870375198899 2234.3870186187246\n"
     ]
    },
    {
     "name": "stderr",
     "output_type": "stream",
     "text": [
      "/home/nghipham/anaconda3/envs/onnx/lib/python3.8/site-packages/rasterio/__init__.py:220: NotGeoreferencedWarning: Dataset has no geotransform, gcps, or rpcs. The identity matrix be returned.\n",
      "  s = DatasetReader(path, driver=driver, sharing=sharing, **kwargs)\n"
     ]
    },
    {
     "name": "stdout",
     "output_type": "stream",
     "text": [
      "54.88850086479764 88.05125976204265\n",
      "@ 3.1069425167515874 8.271940276026726\n",
      "511.60625105278825 2185.0642859415957\n"
     ]
    },
    {
     "name": "stderr",
     "output_type": "stream",
     "text": [
      "/home/nghipham/anaconda3/envs/onnx/lib/python3.8/site-packages/rasterio/__init__.py:220: NotGeoreferencedWarning: Dataset has no geotransform, gcps, or rpcs. The identity matrix be returned.\n",
      "  s = DatasetReader(path, driver=driver, sharing=sharing, **kwargs)\n"
     ]
    },
    {
     "name": "stdout",
     "output_type": "stream",
     "text": [
      "54.24777141493546 87.23520155922763\n",
      "@ 3.0071508744731545 8.144841719418764\n",
      "489.39369974592887 2131.5507271845063\n"
     ]
    },
    {
     "name": "stderr",
     "output_type": "stream",
     "text": [
      "/home/nghipham/anaconda3/envs/onnx/lib/python3.8/site-packages/rasterio/__init__.py:220: NotGeoreferencedWarning: Dataset has no geotransform, gcps, or rpcs. The identity matrix be returned.\n",
      "  s = DatasetReader(path, driver=driver, sharing=sharing, **kwargs)\n"
     ]
    },
    {
     "name": "stdout",
     "output_type": "stream",
     "text": [
      "54.24773556653078 87.23521980932456\n",
      "@ 3.0071452911943197 8.144844561815262\n",
      "489.39246770054297 2131.551916988208\n"
     ]
    },
    {
     "name": "stderr",
     "output_type": "stream",
     "text": [
      "/home/nghipham/anaconda3/envs/onnx/lib/python3.8/site-packages/rasterio/__init__.py:220: NotGeoreferencedWarning: Dataset has no geotransform, gcps, or rpcs. The identity matrix be returned.\n",
      "  s = DatasetReader(path, driver=driver, sharing=sharing, **kwargs)\n"
     ]
    },
    {
     "name": "stdout",
     "output_type": "stream",
     "text": [
      "54.39773937694343 85.74743531180889\n",
      "@ 3.0305079235695302 7.913126699626446\n",
      "494.5583406182919 2035.5909593710994\n"
     ]
    },
    {
     "name": "stderr",
     "output_type": "stream",
     "text": [
      "/home/nghipham/anaconda3/envs/onnx/lib/python3.8/site-packages/rasterio/__init__.py:220: NotGeoreferencedWarning: Dataset has no geotransform, gcps, or rpcs. The identity matrix be returned.\n",
      "  s = DatasetReader(path, driver=driver, sharing=sharing, **kwargs)\n"
     ]
    },
    {
     "name": "stdout",
     "output_type": "stream",
     "text": [
      "51.34429323881453 80.17925687732546\n",
      "@ 2.554943073540926 7.045900024473667\n",
      "393.54523912909013 1694.8050839826838\n"
     ]
    },
    {
     "name": "stderr",
     "output_type": "stream",
     "text": [
      "/home/nghipham/anaconda3/envs/onnx/lib/python3.8/site-packages/rasterio/__init__.py:220: NotGeoreferencedWarning: Dataset has no geotransform, gcps, or rpcs. The identity matrix be returned.\n",
      "  s = DatasetReader(path, driver=driver, sharing=sharing, **kwargs)\n"
     ]
    },
    {
     "name": "stdout",
     "output_type": "stream",
     "text": [
      "50.92863823095615 77.13148669574312\n",
      "@ 2.4902060837484896 6.571219187229872\n",
      "380.4684142792588 1520.5437159438984\n"
     ]
    },
    {
     "name": "stderr",
     "output_type": "stream",
     "text": [
      "/home/nghipham/anaconda3/envs/onnx/lib/python3.8/site-packages/rasterio/__init__.py:220: NotGeoreferencedWarning: Dataset has no geotransform, gcps, or rpcs. The identity matrix be returned.\n",
      "  s = DatasetReader(path, driver=driver, sharing=sharing, **kwargs)\n"
     ]
    },
    {
     "name": "stdout",
     "output_type": "stream",
     "text": [
      "50.853593835374255 77.87540049540178\n",
      "@ 2.4785181498155 6.687081474810839\n",
      "378.12466591296214 1562.277443988828\n"
     ]
    },
    {
     "name": "stderr",
     "output_type": "stream",
     "text": [
      "/home/nghipham/anaconda3/envs/onnx/lib/python3.8/site-packages/rasterio/__init__.py:220: NotGeoreferencedWarning: Dataset has no geotransform, gcps, or rpcs. The identity matrix be returned.\n",
      "  s = DatasetReader(path, driver=driver, sharing=sharing, **kwargs)\n"
     ]
    },
    {
     "name": "stdout",
     "output_type": "stream",
     "text": [
      "51.98490498392313 80.995375714473\n",
      "@ 2.6547163836658 7.173008024692535\n",
      "414.0155368923919 1742.9414398887052\n"
     ]
    },
    {
     "name": "stderr",
     "output_type": "stream",
     "text": [
      "/home/nghipham/anaconda3/envs/onnx/lib/python3.8/site-packages/rasterio/__init__.py:220: NotGeoreferencedWarning: Dataset has no geotransform, gcps, or rpcs. The identity matrix be returned.\n",
      "  s = DatasetReader(path, driver=driver, sharing=sharing, **kwargs)\n"
     ]
    },
    {
     "name": "stdout",
     "output_type": "stream",
     "text": [
      "53.19123218419432 83.37145215493518\n",
      "@ 2.8425981369800866 7.543074626475573\n",
      "453.60389253139795 1886.6312559669414\n"
     ]
    },
    {
     "name": "stderr",
     "output_type": "stream",
     "text": [
      "/home/nghipham/anaconda3/envs/onnx/lib/python3.8/site-packages/rasterio/__init__.py:220: NotGeoreferencedWarning: Dataset has no geotransform, gcps, or rpcs. The identity matrix be returned.\n",
      "  s = DatasetReader(path, driver=driver, sharing=sharing, **kwargs)\n"
     ]
    },
    {
     "name": "stdout",
     "output_type": "stream",
     "text": [
      "53.0411570387452 84.85927159791825\n",
      "@ 2.819224394392222 7.774797931313515\n",
      "448.60477149125757 1979.2910678167996\n"
     ]
    },
    {
     "name": "stderr",
     "output_type": "stream",
     "text": [
      "/home/nghipham/anaconda3/envs/onnx/lib/python3.8/site-packages/rasterio/__init__.py:220: NotGeoreferencedWarning: Dataset has no geotransform, gcps, or rpcs. The identity matrix be returned.\n",
      "  s = DatasetReader(path, driver=driver, sharing=sharing, **kwargs)\n"
     ]
    },
    {
     "name": "stdout",
     "output_type": "stream",
     "text": [
      "54.88816336656838 88.05143331735499\n",
      "@ 3.106889952439815 8.271967306733131\n",
      "511.59444981439924 2185.0757331364584\n"
     ]
    },
    {
     "name": "stderr",
     "output_type": "stream",
     "text": [
      "/home/nghipham/anaconda3/envs/onnx/lib/python3.8/site-packages/rasterio/__init__.py:220: NotGeoreferencedWarning: Dataset has no geotransform, gcps, or rpcs. The identity matrix be returned.\n",
      "  s = DatasetReader(path, driver=driver, sharing=sharing, **kwargs)\n"
     ]
    },
    {
     "name": "stdout",
     "output_type": "stream",
     "text": [
      "55.37876659821674 90.35533791971827\n",
      "@ 3.1832998977042735 8.630793366581202\n",
      "528.8616661412766 2339.514753458122\n"
     ]
    },
    {
     "name": "stderr",
     "output_type": "stream",
     "text": [
      "/home/nghipham/anaconda3/envs/onnx/lib/python3.8/site-packages/rasterio/__init__.py:220: NotGeoreferencedWarning: Dataset has no geotransform, gcps, or rpcs. The identity matrix be returned.\n",
      "  s = DatasetReader(path, driver=driver, sharing=sharing, **kwargs)\n"
     ]
    },
    {
     "name": "stdout",
     "output_type": "stream",
     "text": [
      "56.735121467972256 91.24362086917009\n",
      "@ 3.394547999370843 8.76914070546627\n",
      "577.7702792195009 2400.3844496339134\n"
     ]
    },
    {
     "name": "stderr",
     "output_type": "stream",
     "text": [
      "/home/nghipham/anaconda3/envs/onnx/lib/python3.8/site-packages/rasterio/__init__.py:220: NotGeoreferencedWarning: Dataset has no geotransform, gcps, or rpcs. The identity matrix be returned.\n",
      "  s = DatasetReader(path, driver=driver, sharing=sharing, **kwargs)\n"
     ]
    },
    {
     "name": "stdout",
     "output_type": "stream",
     "text": [
      "55.30366120054971 91.09928180931394\n",
      "@ 3.1716024628840387 8.746660340577364\n",
      "526.2036842105038 2390.4434257698213\n"
     ]
    },
    {
     "name": "stderr",
     "output_type": "stream",
     "text": [
      "/home/nghipham/anaconda3/envs/onnx/lib/python3.8/site-packages/rasterio/__init__.py:220: NotGeoreferencedWarning: Dataset has no geotransform, gcps, or rpcs. The identity matrix be returned.\n",
      "  s = DatasetReader(path, driver=driver, sharing=sharing, **kwargs)\n"
     ]
    },
    {
     "name": "stdout",
     "output_type": "stream",
     "text": [
      "56.01932893890174 91.17148354599891\n",
      "@ 3.283065513242036 8.757905539125204\n",
      "551.7453807428096 2395.413722273299\n"
     ]
    },
    {
     "name": "stderr",
     "output_type": "stream",
     "text": [
      "/home/nghipham/anaconda3/envs/onnx/lib/python3.8/site-packages/rasterio/__init__.py:220: NotGeoreferencedWarning: Dataset has no geotransform, gcps, or rpcs. The identity matrix be returned.\n",
      "  s = DatasetReader(path, driver=driver, sharing=sharing, **kwargs)\n"
     ]
    },
    {
     "name": "stdout",
     "output_type": "stream",
     "text": [
      "55.37860354627768 90.35542125305732\n",
      "@ 3.18327450286597 8.630806345492601\n",
      "528.8558900195662 2339.5204293016322\n"
     ]
    },
    {
     "name": "stderr",
     "output_type": "stream",
     "text": [
      "/home/nghipham/anaconda3/envs/onnx/lib/python3.8/site-packages/rasterio/__init__.py:220: NotGeoreferencedWarning: Dataset has no geotransform, gcps, or rpcs. The identity matrix be returned.\n",
      "  s = DatasetReader(path, driver=driver, sharing=sharing, **kwargs)\n"
     ]
    },
    {
     "name": "stdout",
     "output_type": "stream",
     "text": [
      "56.659929481010145 91.98761015677883\n",
      "@ 3.3828370785340667 8.88501475006342\n",
      "575.0139309464598 2451.9338191981906\n"
     ]
    },
    {
     "name": "stderr",
     "output_type": "stream",
     "text": [
      "/home/nghipham/anaconda3/envs/onnx/lib/python3.8/site-packages/rasterio/__init__.py:220: NotGeoreferencedWarning: Dataset has no geotransform, gcps, or rpcs. The identity matrix be returned.\n",
      "  s = DatasetReader(path, driver=driver, sharing=sharing, **kwargs)\n"
     ]
    },
    {
     "name": "stdout",
     "output_type": "stream",
     "text": [
      "56.01920410034552 91.1715478877561\n",
      "@ 3.283046070020646 8.757915560156107\n",
      "551.7408836019714 2395.4181536690903\n"
     ]
    },
    {
     "name": "stderr",
     "output_type": "stream",
     "text": [
      "/home/nghipham/anaconda3/envs/onnx/lib/python3.8/site-packages/rasterio/__init__.py:220: NotGeoreferencedWarning: Dataset has no geotransform, gcps, or rpcs. The identity matrix be returned.\n",
      "  s = DatasetReader(path, driver=driver, sharing=sharing, **kwargs)\n"
     ]
    },
    {
     "name": "stdout",
     "output_type": "stream",
     "text": [
      "55.869109739075135 92.65937419545452\n",
      "@ 3.259669334627688 8.989639934152365\n",
      "546.344471308237 2498.9232316230755\n"
     ]
    },
    {
     "name": "stderr",
     "output_type": "stream",
     "text": [
      "/home/nghipham/anaconda3/envs/onnx/lib/python3.8/site-packages/rasterio/__init__.py:220: NotGeoreferencedWarning: Dataset has no geotransform, gcps, or rpcs. The identity matrix be returned.\n",
      "  s = DatasetReader(path, driver=driver, sharing=sharing, **kwargs)\n"
     ]
    },
    {
     "name": "stdout",
     "output_type": "stream",
     "text": [
      "56.58477410486666 92.73157925686226\n",
      "@ 3.3711318597197533 9.000885650515556\n",
      "572.2642042798839 2503.9990232482123\n"
     ]
    },
    {
     "name": "stderr",
     "output_type": "stream",
     "text": [
      "/home/nghipham/anaconda3/envs/onnx/lib/python3.8/site-packages/rasterio/__init__.py:220: NotGeoreferencedWarning: Dataset has no geotransform, gcps, or rpcs. The identity matrix be returned.\n",
      "  s = DatasetReader(path, driver=driver, sharing=sharing, **kwargs)\n"
     ]
    },
    {
     "name": "stdout",
     "output_type": "stream",
     "text": [
      "56.5097028155066 93.4755044419025\n",
      "@ 3.359439737163484 9.116749711334705\n",
      "569.5228235211363 2556.5783344127417\n"
     ]
    },
    {
     "name": "stderr",
     "output_type": "stream",
     "text": [
      "/home/nghipham/anaconda3/envs/onnx/lib/python3.8/site-packages/rasterio/__init__.py:220: NotGeoreferencedWarning: Dataset has no geotransform, gcps, or rpcs. The identity matrix be returned.\n",
      "  s = DatasetReader(path, driver=driver, sharing=sharing, **kwargs)\n"
     ]
    },
    {
     "name": "stdout",
     "output_type": "stream",
     "text": [
      "56.58468576052458 92.73162458311873\n",
      "@ 3.371118100360036 9.000892709940672\n",
      "572.2609751114676 2504.002211073446\n"
     ]
    },
    {
     "name": "stderr",
     "output_type": "stream",
     "text": [
      "/home/nghipham/anaconda3/envs/onnx/lib/python3.8/site-packages/rasterio/__init__.py:220: NotGeoreferencedWarning: Dataset has no geotransform, gcps, or rpcs. The identity matrix be returned.\n",
      "  s = DatasetReader(path, driver=driver, sharing=sharing, **kwargs)\n"
     ]
    },
    {
     "name": "stdout",
     "output_type": "stream",
     "text": [
      "56.584641800633506 92.7316472582064\n",
      "@ 3.3711112537421286 9.000896241515875\n",
      "572.2593682892486 2504.0038058278974\n"
     ]
    },
    {
     "name": "stderr",
     "output_type": "stream",
     "text": [
      "/home/nghipham/anaconda3/envs/onnx/lib/python3.8/site-packages/rasterio/__init__.py:220: NotGeoreferencedWarning: Dataset has no geotransform, gcps, or rpcs. The identity matrix be returned.\n",
      "  s = DatasetReader(path, driver=driver, sharing=sharing, **kwargs)\n"
     ]
    },
    {
     "name": "stdout",
     "output_type": "stream",
     "text": [
      "55.86889081265846 92.65948482022293\n",
      "@ 3.2596352375112474 8.989657163619995\n",
      "546.3366155208297 2498.9310044743656\n"
     ]
    },
    {
     "name": "stderr",
     "output_type": "stream",
     "text": [
      "/home/nghipham/anaconda3/envs/onnx/lib/python3.8/site-packages/rasterio/__init__.py:220: NotGeoreferencedWarning: Dataset has no geotransform, gcps, or rpcs. The identity matrix be returned.\n",
      "  s = DatasetReader(path, driver=driver, sharing=sharing, **kwargs)\n"
     ]
    },
    {
     "name": "stdout",
     "output_type": "stream",
     "text": [
      "56.01890589483805 91.17170080108463\n",
      "@ 3.282999625429511 8.757939375936985\n",
      "551.7301412091731 2395.428685250894\n"
     ]
    },
    {
     "name": "stderr",
     "output_type": "stream",
     "text": [
      "/home/nghipham/anaconda3/envs/onnx/lib/python3.8/site-packages/rasterio/__init__.py:220: NotGeoreferencedWarning: Dataset has no geotransform, gcps, or rpcs. The identity matrix be returned.\n",
      "  s = DatasetReader(path, driver=driver, sharing=sharing, **kwargs)\n"
     ]
    },
    {
     "name": "stdout",
     "output_type": "stream",
     "text": [
      "55.94383447990393 91.91562522072107\n",
      "@ 3.271307483315468 8.873803317546844\n",
      "549.0284531384149 2446.923540054081\n"
     ]
    },
    {
     "name": "stderr",
     "output_type": "stream",
     "text": [
      "/home/nghipham/anaconda3/envs/onnx/lib/python3.8/site-packages/rasterio/__init__.py:220: NotGeoreferencedWarning: Dataset has no geotransform, gcps, or rpcs. The identity matrix be returned.\n",
      "  s = DatasetReader(path, driver=driver, sharing=sharing, **kwargs)\n"
     ]
    },
    {
     "name": "stdout",
     "output_type": "stream",
     "text": [
      "55.94379196411456 91.91564684337851\n",
      "@ 3.2713008616119623 8.873806685209274\n",
      "549.026924562145 2446.925044302321\n"
     ]
    },
    {
     "name": "stderr",
     "output_type": "stream",
     "text": [
      "/home/nghipham/anaconda3/envs/onnx/lib/python3.8/site-packages/rasterio/__init__.py:220: NotGeoreferencedWarning: Dataset has no geotransform, gcps, or rpcs. The identity matrix be returned.\n",
      "  s = DatasetReader(path, driver=driver, sharing=sharing, **kwargs)\n"
     ]
    },
    {
     "name": "stdout",
     "output_type": "stream",
     "text": [
      "55.94374940048745 91.91566846603594\n",
      "@ 3.271294232457876 8.873810052871704\n",
      "549.0253942676501 2446.926548550997\n"
     ]
    },
    {
     "name": "stderr",
     "output_type": "stream",
     "text": [
      "/home/nghipham/anaconda3/envs/onnx/lib/python3.8/site-packages/rasterio/__init__.py:220: NotGeoreferencedWarning: Dataset has no geotransform, gcps, or rpcs. The identity matrix be returned.\n",
      "  s = DatasetReader(path, driver=driver, sharing=sharing, **kwargs)\n"
     ]
    },
    {
     "name": "stdout",
     "output_type": "stream",
     "text": [
      "54.51229480781654 91.77131567674907\n",
      "@ 3.048349579796195 8.851327549666166\n",
      "498.5175929134016 2436.893924156159\n"
     ]
    },
    {
     "name": "stderr",
     "output_type": "stream",
     "text": [
      "/home/nghipham/anaconda3/envs/onnx/lib/python3.8/site-packages/rasterio/__init__.py:220: NotGeoreferencedWarning: Dataset has no geotransform, gcps, or rpcs. The identity matrix be returned.\n",
      "  s = DatasetReader(path, driver=driver, sharing=sharing, **kwargs)\n"
     ]
    },
    {
     "name": "stdout",
     "output_type": "stream",
     "text": [
      "53.72151568012083 92.44305129980857\n",
      "@ 2.925188161432743 8.955948308110237\n",
      "471.4366250451388 2483.7455666552055\n"
     ]
    },
    {
     "name": "stderr",
     "output_type": "stream",
     "text": [
      "/home/nghipham/anaconda3/envs/onnx/lib/python3.8/site-packages/rasterio/__init__.py:220: NotGeoreferencedWarning: Dataset has no geotransform, gcps, or rpcs. The identity matrix be returned.\n",
      "  s = DatasetReader(path, driver=driver, sharing=sharing, **kwargs)\n"
     ]
    },
    {
     "name": "stdout",
     "output_type": "stream",
     "text": [
      "52.29006234319053 92.29869444431401\n",
      "@ 2.7022437043488026 8.933465171605349\n",
      "423.901475300679 2473.64151660877\n"
     ]
    },
    {
     "name": "stderr",
     "output_type": "stream",
     "text": [
      "/home/nghipham/anaconda3/envs/onnx/lib/python3.8/site-packages/rasterio/__init__.py:220: NotGeoreferencedWarning: Dataset has no geotransform, gcps, or rpcs. The identity matrix be returned.\n",
      "  s = DatasetReader(path, driver=driver, sharing=sharing, **kwargs)\n"
     ]
    },
    {
     "name": "stdout",
     "output_type": "stream",
     "text": [
      "52.214988497501366 93.04261537179559\n",
      "@ 2.6905511836521327 9.049328569322824\n",
      "421.4612973190044 2525.9195923455145\n"
     ]
    },
    {
     "name": "stderr",
     "output_type": "stream",
     "text": [
      "/home/nghipham/anaconda3/envs/onnx/lib/python3.8/site-packages/rasterio/__init__.py:220: NotGeoreferencedWarning: Dataset has no geotransform, gcps, or rpcs. The identity matrix be returned.\n",
      "  s = DatasetReader(path, driver=driver, sharing=sharing, **kwargs)\n"
     ]
    },
    {
     "name": "stdout",
     "output_type": "stream",
     "text": [
      "50.78353609938667 92.89825533509146\n",
      "@ 2.4676068727858365 9.026844937354326\n",
      "375.94140810964257 2515.7344375818598\n"
     ]
    },
    {
     "name": "stderr",
     "output_type": "stream",
     "text": [
      "/home/nghipham/anaconda3/envs/onnx/lib/python3.8/site-packages/rasterio/__init__.py:220: NotGeoreferencedWarning: Dataset has no geotransform, gcps, or rpcs. The identity matrix be returned.\n",
      "  s = DatasetReader(path, driver=driver, sharing=sharing, **kwargs)\n"
     ]
    },
    {
     "name": "stdout",
     "output_type": "stream",
     "text": [
      "49.202018216056004 94.24169986383396\n",
      "@ 2.221290323883295 9.236082293093204\n",
      "327.8759009365645 2611.2722861500833\n"
     ]
    },
    {
     "name": "stderr",
     "output_type": "stream",
     "text": [
      "/home/nghipham/anaconda3/envs/onnx/lib/python3.8/site-packages/rasterio/__init__.py:220: NotGeoreferencedWarning: Dataset has no geotransform, gcps, or rpcs. The identity matrix be returned.\n",
      "  s = DatasetReader(path, driver=driver, sharing=sharing, **kwargs)\n"
     ]
    },
    {
     "name": "stdout",
     "output_type": "stream",
     "text": [
      "48.48627159327452 94.16952472493115\n",
      "@ 2.1098149875178933 9.224841237068176\n",
      "306.89118748906105 2606.0967448729684\n"
     ]
    },
    {
     "name": "stderr",
     "output_type": "stream",
     "text": [
      "/home/nghipham/anaconda3/envs/onnx/lib/python3.8/site-packages/rasterio/__init__.py:220: NotGeoreferencedWarning: Dataset has no geotransform, gcps, or rpcs. The identity matrix be returned.\n",
      "  s = DatasetReader(path, driver=driver, sharing=sharing, **kwargs)\n"
     ]
    },
    {
     "name": "stdout",
     "output_type": "stream",
     "text": [
      "46.18904844288661 95.44077550589088\n",
      "@ 1.7520295432768762 9.422834638506174\n",
      "242.77373234335238 2697.9679360884006\n"
     ]
    },
    {
     "name": "stderr",
     "output_type": "stream",
     "text": [
      "/home/nghipham/anaconda3/envs/onnx/lib/python3.8/site-packages/rasterio/__init__.py:220: NotGeoreferencedWarning: Dataset has no geotransform, gcps, or rpcs. The identity matrix be returned.\n",
      "  s = DatasetReader(path, driver=driver, sharing=sharing, **kwargs)\n"
     ]
    },
    {
     "name": "stdout",
     "output_type": "stream",
     "text": [
      "43.96685994114154 95.96811925623183\n",
      "@ 1.4059305149130523 9.50496680662036\n",
      "185.44305010847756 2736.521364072803\n"
     ]
    },
    {
     "name": "stderr",
     "output_type": "stream",
     "text": [
      "/home/nghipham/anaconda3/envs/onnx/lib/python3.8/site-packages/rasterio/__init__.py:220: NotGeoreferencedWarning: Dataset has no geotransform, gcps, or rpcs. The identity matrix be returned.\n",
      "  s = DatasetReader(path, driver=driver, sharing=sharing, **kwargs)\n"
     ]
    },
    {
     "name": "stdout",
     "output_type": "stream",
     "text": [
      "42.38534129838679 97.31155400215698\n",
      "@ 1.159613847732544 9.714202638715506\n",
      "147.45188613143824 2835.912463995779\n"
     ]
    },
    {
     "name": "stderr",
     "output_type": "stream",
     "text": [
      "/home/nghipham/anaconda3/envs/onnx/lib/python3.8/site-packages/rasterio/__init__.py:220: NotGeoreferencedWarning: Dataset has no geotransform, gcps, or rpcs. The identity matrix be returned.\n",
      "  s = DatasetReader(path, driver=driver, sharing=sharing, **kwargs)\n"
     ]
    },
    {
     "name": "stdout",
     "output_type": "stream",
     "text": [
      "42.0 99.47108115487958\n",
      "@ 1.013079079799354 10.05054235458374\n",
      "127.64796405471861 2999.2149426100614\n"
     ]
    },
    {
     "name": "stderr",
     "output_type": "stream",
     "text": [
      "/home/nghipham/anaconda3/envs/onnx/lib/python3.8/site-packages/rasterio/__init__.py:220: NotGeoreferencedWarning: Dataset has no geotransform, gcps, or rpcs. The identity matrix be returned.\n",
      "  s = DatasetReader(path, driver=driver, sharing=sharing, **kwargs)\n"
     ]
    },
    {
     "name": "stdout",
     "output_type": "stream",
     "text": [
      "42.0 99.9984169402372\n",
      "@ 0.6669800626114011 10.132673282176256\n",
      "84.03948788903654 3039.753862770789\n"
     ]
    },
    {
     "name": "stderr",
     "output_type": "stream",
     "text": [
      "/home/nghipham/anaconda3/envs/onnx/lib/python3.8/site-packages/rasterio/__init__.py:220: NotGeoreferencedWarning: Dataset has no geotransform, gcps, or rpcs. The identity matrix be returned.\n",
      "  s = DatasetReader(path, driver=driver, sharing=sharing, **kwargs)\n"
     ]
    },
    {
     "name": "stdout",
     "output_type": "stream",
     "text": [
      "42.0 100.59794113946987\n",
      "@ 0.43234980665147305 10.226047333329916\n",
      "54.476075638085604 3086.157923183267\n"
     ]
    },
    {
     "name": "stderr",
     "output_type": "stream",
     "text": [
      "/home/nghipham/anaconda3/envs/onnx/lib/python3.8/site-packages/rasterio/__init__.py:220: NotGeoreferencedWarning: Dataset has no geotransform, gcps, or rpcs. The identity matrix be returned.\n",
      "  s = DatasetReader(path, driver=driver, sharing=sharing, **kwargs)\n"
     ]
    },
    {
     "name": "stdout",
     "output_type": "stream",
     "text": [
      "42.0 99.85404068654\n",
      "@ 0.4440301014110446 10.110187124460936\n",
      "55.94779277779162 3028.629109423365\n"
     ]
    },
    {
     "name": "stderr",
     "output_type": "stream",
     "text": [
      "/home/nghipham/anaconda3/envs/onnx/lib/python3.8/site-packages/rasterio/__init__.py:220: NotGeoreferencedWarning: Dataset has no geotransform, gcps, or rpcs. The identity matrix be returned.\n",
      "  s = DatasetReader(path, driver=driver, sharing=sharing, **kwargs)\n"
     ]
    },
    {
     "name": "stdout",
     "output_type": "stream",
     "text": [
      "42.0 102.01356152468125\n",
      "@ 0.2974948436021805 10.446525856852531\n",
      "37.48435029387474 3197.0619246515976\n"
     ]
    },
    {
     "name": "stderr",
     "output_type": "stream",
     "text": [
      "/home/nghipham/anaconda3/envs/onnx/lib/python3.8/site-packages/rasterio/__init__.py:220: NotGeoreferencedWarning: Dataset has no geotransform, gcps, or rpcs. The identity matrix be returned.\n",
      "  s = DatasetReader(path, driver=driver, sharing=sharing, **kwargs)\n"
     ]
    },
    {
     "name": "stdout",
     "output_type": "stream",
     "text": [
      "42.0 100.45356376158583\n",
      "@ 0.209393709897995 10.203561000525951\n",
      "26.38360744714737 3074.9521966846924\n"
     ]
    },
    {
     "name": "stderr",
     "output_type": "stream",
     "text": [
      "/home/nghipham/anaconda3/envs/onnx/lib/python3.8/site-packages/rasterio/__init__.py:220: NotGeoreferencedWarning: Dataset has no geotransform, gcps, or rpcs. The identity matrix be returned.\n",
      "  s = DatasetReader(path, driver=driver, sharing=sharing, **kwargs)\n"
     ]
    },
    {
     "name": "stdout",
     "output_type": "stream",
     "text": [
      "42.0 101.94137217797034\n",
      "@ 0.18601350486278534 10.435282588005066\n",
      "23.437701612710953 3191.3610782583537\n"
     ]
    },
    {
     "name": "stderr",
     "output_type": "stream",
     "text": [
      "/home/nghipham/anaconda3/envs/onnx/lib/python3.8/site-packages/rasterio/__init__.py:220: NotGeoreferencedWarning: Dataset has no geotransform, gcps, or rpcs. The identity matrix be returned.\n",
      "  s = DatasetReader(path, driver=driver, sharing=sharing, **kwargs)\n"
     ]
    },
    {
     "name": "stdout",
     "output_type": "stream",
     "text": [
      "42.0 101.19747024207061\n",
      "@ 0.19769401755183935 10.319422148168087\n",
      "24.90944621153176 3132.8982472638127\n"
     ]
    },
    {
     "name": "stderr",
     "output_type": "stream",
     "text": [
      "/home/nghipham/anaconda3/envs/onnx/lib/python3.8/site-packages/rasterio/__init__.py:220: NotGeoreferencedWarning: Dataset has no geotransform, gcps, or rpcs. The identity matrix be returned.\n",
      "  s = DatasetReader(path, driver=driver, sharing=sharing, **kwargs)\n"
     ]
    },
    {
     "name": "stdout",
     "output_type": "stream",
     "text": [
      "42.0 101.05308336839565\n",
      "@ 0.025248652324080467 10.296934336423874\n",
      "3.181330192834139 3121.610891812612\n"
     ]
    },
    {
     "name": "stderr",
     "output_type": "stream",
     "text": [
      "/home/nghipham/anaconda3/envs/onnx/lib/python3.8/site-packages/rasterio/__init__.py:220: NotGeoreferencedWarning: Dataset has no geotransform, gcps, or rpcs. The identity matrix be returned.\n",
      "  s = DatasetReader(path, driver=driver, sharing=sharing, **kwargs)\n"
     ]
    },
    {
     "name": "stdout",
     "output_type": "stream",
     "text": [
      "42.0 99.42088776739087\n",
      "@ 0.22481665760278702 10.042724888771772\n",
      "28.326898857951164 2995.369872136084\n"
     ]
    },
    {
     "name": "stderr",
     "output_type": "stream",
     "text": [
      "/home/nghipham/anaconda3/envs/onnx/lib/python3.8/site-packages/rasterio/__init__.py:220: NotGeoreferencedWarning: Dataset has no geotransform, gcps, or rpcs. The identity matrix be returned.\n",
      "  s = DatasetReader(path, driver=driver, sharing=sharing, **kwargs)\n"
     ]
    },
    {
     "name": "stdout",
     "output_type": "stream",
     "text": [
      "42.0 98.60478842412142\n",
      "@ 0.3246031254529953 9.915619924664497\n",
      "40.89999380707741 2933.182814296637\n"
     ]
    },
    {
     "name": "stderr",
     "output_type": "stream",
     "text": [
      "/home/nghipham/anaconda3/envs/onnx/lib/python3.8/site-packages/rasterio/__init__.py:220: NotGeoreferencedWarning: Dataset has no geotransform, gcps, or rpcs. The identity matrix be returned.\n",
      "  s = DatasetReader(path, driver=driver, sharing=sharing, **kwargs)\n"
     ]
    },
    {
     "name": "stdout",
     "output_type": "stream",
     "text": [
      "42.0 98.53259147121022\n",
      "@ 0.43607653491199017 9.904375471174717\n",
      "54.94564339891076 2927.7113462362013\n"
     ]
    },
    {
     "name": "stderr",
     "output_type": "stream",
     "text": [
      "/home/nghipham/anaconda3/envs/onnx/lib/python3.8/site-packages/rasterio/__init__.py:220: NotGeoreferencedWarning: Dataset has no geotransform, gcps, or rpcs. The identity matrix be returned.\n",
      "  s = DatasetReader(path, driver=driver, sharing=sharing, **kwargs)\n"
     ]
    },
    {
     "name": "stdout",
     "output_type": "stream",
     "text": [
      "42.0 99.20429662163082\n",
      "@ 0.5592371020466089 10.008991483598948\n",
      "70.46387485787272 2978.80488006698\n"
     ]
    },
    {
     "name": "stderr",
     "output_type": "stream",
     "text": [
      "/home/nghipham/anaconda3/envs/onnx/lib/python3.8/site-packages/rasterio/__init__.py:220: NotGeoreferencedWarning: Dataset has no geotransform, gcps, or rpcs. The identity matrix be returned.\n",
      "  s = DatasetReader(path, driver=driver, sharing=sharing, **kwargs)\n"
     ]
    },
    {
     "name": "stdout",
     "output_type": "stream",
     "text": [
      "42.0 99.0599017112159\n",
      "@ 0.7821781216189265 9.986502420157194\n",
      "98.55444332398474 2967.785844538774\n"
     ]
    },
    {
     "name": "stderr",
     "output_type": "stream",
     "text": [
      "/home/nghipham/anaconda3/envs/onnx/lib/python3.8/site-packages/rasterio/__init__.py:220: NotGeoreferencedWarning: Dataset has no geotransform, gcps, or rpcs. The identity matrix be returned.\n",
      "  s = DatasetReader(path, driver=driver, sharing=sharing, **kwargs)\n"
     ]
    },
    {
     "name": "stdout",
     "output_type": "stream",
     "text": [
      "44.181130170290785 97.88281726852628\n",
      "@ 1.4393024444580078 9.803175136446953\n",
      "190.77002595905088 2878.687201596592\n"
     ]
    },
    {
     "name": "stderr",
     "output_type": "stream",
     "text": [
      "/home/nghipham/anaconda3/envs/onnx/lib/python3.8/site-packages/rasterio/__init__.py:220: NotGeoreferencedWarning: Dataset has no geotransform, gcps, or rpcs. The identity matrix be returned.\n",
      "  s = DatasetReader(path, driver=driver, sharing=sharing, **kwargs)\n"
     ]
    },
    {
     "name": "stdout",
     "output_type": "stream",
     "text": [
      "48.400301886594946 96.7057278028742\n",
      "@ 2.0964254699647427 9.619847070425749\n",
      "304.40287688712067 2790.8829368936076\n"
     ]
    },
    {
     "name": "stderr",
     "output_type": "stream",
     "text": [
      "/home/nghipham/anaconda3/envs/onnx/lib/python3.8/site-packages/rasterio/__init__.py:220: NotGeoreferencedWarning: Dataset has no geotransform, gcps, or rpcs. The identity matrix be returned.\n",
      "  s = DatasetReader(path, driver=driver, sharing=sharing, **kwargs)\n"
     ]
    },
    {
     "name": "stdout",
     "output_type": "stream",
     "text": [
      "51.97880970867671 96.34473335117627\n",
      "@ 2.65376706328243 9.563623294234276\n",
      "413.8189595805337 2764.214208462298\n"
     ]
    },
    {
     "name": "stderr",
     "output_type": "stream",
     "text": [
      "/home/nghipham/anaconda3/envs/onnx/lib/python3.8/site-packages/rasterio/__init__.py:220: NotGeoreferencedWarning: Dataset has no geotransform, gcps, or rpcs. The identity matrix be returned.\n",
      "  s = DatasetReader(path, driver=driver, sharing=sharing, **kwargs)\n"
     ]
    },
    {
     "name": "stdout",
     "output_type": "stream",
     "text": [
      "53.560304836193524 97.68813123812453\n",
      "@ 2.900080068036914 9.772853385657072\n",
      "465.9875174802779 2864.075352327053\n"
     ]
    },
    {
     "name": "stderr",
     "output_type": "stream",
     "text": [
      "/home/nghipham/anaconda3/envs/onnx/lib/python3.8/site-packages/rasterio/__init__.py:220: NotGeoreferencedWarning: Dataset has no geotransform, gcps, or rpcs. The identity matrix be returned.\n",
      "  s = DatasetReader(path, driver=driver, sharing=sharing, **kwargs)\n"
     ]
    },
    {
     "name": "stdout",
     "output_type": "stream",
     "text": [
      "54.12593273932656 96.12811383763778\n",
      "@ 2.98817487526685 9.529885470867157\n",
      "485.21325693611715 2748.2697462095052\n"
     ]
    },
    {
     "name": "stderr",
     "output_type": "stream",
     "text": [
      "/home/nghipham/anaconda3/envs/onnx/lib/python3.8/site-packages/rasterio/__init__.py:220: NotGeoreferencedWarning: Dataset has no geotransform, gcps, or rpcs. The identity matrix be returned.\n",
      "  s = DatasetReader(path, driver=driver, sharing=sharing, **kwargs)\n"
     ]
    },
    {
     "name": "stdout",
     "output_type": "stream",
     "text": [
      "55.066771297774565 98.28760862813085\n",
      "@ 3.1347075887024403 9.866220146417618\n",
      "517.8546776174269 2909.181553170224\n"
     ]
    },
    {
     "name": "stderr",
     "output_type": "stream",
     "text": [
      "/home/nghipham/anaconda3/envs/onnx/lib/python3.8/site-packages/rasterio/__init__.py:220: NotGeoreferencedWarning: Dataset has no geotransform, gcps, or rpcs. The identity matrix be returned.\n",
      "  s = DatasetReader(path, driver=driver, sharing=sharing, **kwargs)\n"
     ]
    },
    {
     "name": "stdout",
     "output_type": "stream",
     "text": [
      "55.632395915052996 96.72759010345726\n",
      "@ 3.2228018841706216 9.623252056539059\n",
      "537.8765711278763 2792.5019411614867\n"
     ]
    },
    {
     "name": "stderr",
     "output_type": "stream",
     "text": [
      "/home/nghipham/anaconda3/envs/onnx/lib/python3.8/site-packages/rasterio/__init__.py:220: NotGeoreferencedWarning: Dataset has no geotransform, gcps, or rpcs. The identity matrix be returned.\n",
      "  s = DatasetReader(path, driver=driver, sharing=sharing, **kwargs)\n"
     ]
    },
    {
     "name": "stdout",
     "output_type": "stream",
     "text": [
      "57.138842219007316 97.3270803857339\n",
      "@ 3.457426265347749 9.716620825231075\n",
      "592.6600015786703 2837.0710084048824\n"
     ]
    },
    {
     "name": "stderr",
     "output_type": "stream",
     "text": [
      "/home/nghipham/anaconda3/envs/onnx/lib/python3.8/site-packages/rasterio/__init__.py:220: NotGeoreferencedWarning: Dataset has no geotransform, gcps, or rpcs. The identity matrix be returned.\n",
      "  s = DatasetReader(path, driver=driver, sharing=sharing, **kwargs)\n"
     ]
    },
    {
     "name": "stdout",
     "output_type": "stream",
     "text": [
      "58.495199483639574 96.43876502621478\n",
      "@ 3.66867474000901 9.578268438577652\n",
      "643.7995822722498 2771.149137917998\n"
     ]
    },
    {
     "name": "stderr",
     "output_type": "stream",
     "text": [
      "/home/nghipham/anaconda3/envs/onnx/lib/python3.8/site-packages/rasterio/__init__.py:220: NotGeoreferencedWarning: Dataset has no geotransform, gcps, or rpcs. The identity matrix be returned.\n",
      "  s = DatasetReader(path, driver=driver, sharing=sharing, **kwargs)\n"
     ]
    },
    {
     "name": "stdout",
     "output_type": "stream",
     "text": [
      "59.135859174120775 95.62264700230878\n",
      "@ 3.768455517478287 9.451160565018654\n",
      "668.5525643566032 2711.2349714127595\n"
     ]
    },
    {
     "name": "stderr",
     "output_type": "stream",
     "text": [
      "/home/nghipham/anaconda3/envs/onnx/lib/python3.8/site-packages/rasterio/__init__.py:220: NotGeoreferencedWarning: Dataset has no geotransform, gcps, or rpcs. The identity matrix be returned.\n",
      "  s = DatasetReader(path, driver=driver, sharing=sharing, **kwargs)\n"
     ]
    },
    {
     "name": "stdout",
     "output_type": "stream",
     "text": [
      "61.35799161003727 96.14993554790041\n",
      "@ 4.1145458137616515 9.53328413516283\n",
      "757.3808025597041 2749.8739654671826\n"
     ]
    },
    {
     "name": "stderr",
     "output_type": "stream",
     "text": [
      "/home/nghipham/anaconda3/envs/onnx/lib/python3.8/site-packages/rasterio/__init__.py:220: NotGeoreferencedWarning: Dataset has no geotransform, gcps, or rpcs. The identity matrix be returned.\n",
      "  s = DatasetReader(path, driver=driver, sharing=sharing, **kwargs)\n"
     ]
    },
    {
     "name": "stdout",
     "output_type": "stream",
     "text": [
      "61.998645957641145 95.33381599318682\n",
      "@ 4.2143257590942085 9.406176023185253\n",
      "783.8474720647473 2690.1799625816057\n"
     ]
    },
    {
     "name": "stderr",
     "output_type": "stream",
     "text": [
      "/home/nghipham/anaconda3/envs/onnx/lib/python3.8/site-packages/rasterio/__init__.py:220: NotGeoreferencedWarning: Dataset has no geotransform, gcps, or rpcs. The identity matrix be returned.\n",
      "  s = DatasetReader(path, driver=driver, sharing=sharing, **kwargs)\n"
     ]
    },
    {
     "name": "stdout",
     "output_type": "stream",
     "text": [
      "63.430035090347744 95.18939900565596\n",
      "@ 4.437260216567665 9.383683521300554\n",
      "844.3667137256732 2679.681584555631\n"
     ]
    },
    {
     "name": "stderr",
     "output_type": "stream",
     "text": [
      "/home/nghipham/anaconda3/envs/onnx/lib/python3.8/site-packages/rasterio/__init__.py:220: NotGeoreferencedWarning: Dataset has no geotransform, gcps, or rpcs. The identity matrix be returned.\n",
      "  s = DatasetReader(path, driver=driver, sharing=sharing, **kwargs)\n"
     ]
    },
    {
     "name": "stdout",
     "output_type": "stream",
     "text": [
      "65.57711325816922 94.9727821471119\n",
      "@ 4.771661041304469 9.349946111440659\n",
      "938.7352696056505 2663.971185387269\n"
     ]
    },
    {
     "name": "stderr",
     "output_type": "stream",
     "text": [
      "/home/nghipham/anaconda3/envs/onnx/lib/python3.8/site-packages/rasterio/__init__.py:220: NotGeoreferencedWarning: Dataset has no geotransform, gcps, or rpcs. The identity matrix be returned.\n",
      "  s = DatasetReader(path, driver=driver, sharing=sharing, **kwargs)\n"
     ]
    },
    {
     "name": "stdout",
     "output_type": "stream",
     "text": [
      "67.08354008020487 95.57226386643349\n",
      "@ 5.006282388232648 9.443313546478748\n",
      "1007.5174357314859 2707.556562112598\n"
     ]
    },
    {
     "name": "stderr",
     "output_type": "stream",
     "text": [
      "/home/nghipham/anaconda3/envs/onnx/lib/python3.8/site-packages/rasterio/__init__.py:220: NotGeoreferencedWarning: Dataset has no geotransform, gcps, or rpcs. The identity matrix be returned.\n",
      "  s = DatasetReader(path, driver=driver, sharing=sharing, **kwargs)\n"
     ]
    },
    {
     "name": "stdout",
     "output_type": "stream",
     "text": [
      "69.94630130342401 95.28344503201578\n",
      "@ 5.452148648910224 9.39833090081811\n",
      "1144.072896443192 2686.5160373423932\n"
     ]
    },
    {
     "name": "stderr",
     "output_type": "stream",
     "text": [
      "/home/nghipham/anaconda3/envs/onnx/lib/python3.8/site-packages/rasterio/__init__.py:220: NotGeoreferencedWarning: Dataset has no geotransform, gcps, or rpcs. The identity matrix be returned.\n",
      "  s = DatasetReader(path, driver=driver, sharing=sharing, **kwargs)\n"
     ]
    },
    {
     "name": "stdout",
     "output_type": "stream",
     "text": [
      "73.44970149441437 94.1785249408191\n",
      "@ 5.9977924595586956 9.226242993026972\n",
      "1321.6081973401067 2606.741867486545\n"
     ]
    },
    {
     "name": "stderr",
     "output_type": "stream",
     "text": [
      "/home/nghipham/anaconda3/envs/onnx/lib/python3.8/site-packages/rasterio/__init__.py:220: NotGeoreferencedWarning: Dataset has no geotransform, gcps, or rpcs. The identity matrix be returned.\n",
      "  s = DatasetReader(path, driver=driver, sharing=sharing, **kwargs)\n"
     ]
    },
    {
     "name": "stdout",
     "output_type": "stream",
     "text": [
      "75.37162291540433 91.73020222673816\n",
      "@ 6.297125813085586 8.844924256205559\n",
      "1423.873776704237 2434.0400721057526\n"
     ]
    },
    {
     "name": "stderr",
     "output_type": "stream",
     "text": [
      "/home/nghipham/anaconda3/envs/onnx/lib/python3.8/site-packages/rasterio/__init__.py:220: NotGeoreferencedWarning: Dataset has no geotransform, gcps, or rpcs. The identity matrix be returned.\n",
      "  s = DatasetReader(path, driver=driver, sharing=sharing, **kwargs)\n"
     ]
    },
    {
     "name": "stdout",
     "output_type": "stream",
     "text": [
      "77.51867425821439 91.51358075185242\n",
      "@ 6.63152245990932 8.811186127364635\n",
      "1542.2004882172296 2419.029579558556\n"
     ]
    },
    {
     "name": "stderr",
     "output_type": "stream",
     "text": [
      "/home/nghipham/anaconda3/envs/onnx/lib/python3.8/site-packages/rasterio/__init__.py:220: NotGeoreferencedWarning: Dataset has no geotransform, gcps, or rpcs. The identity matrix be returned.\n",
      "  s = DatasetReader(path, driver=driver, sharing=sharing, **kwargs)\n"
     ]
    },
    {
     "name": "stdout",
     "output_type": "stream",
     "text": [
      "79.44058450012304 89.06525959249794\n",
      "@ 6.930854072328657 8.429867632687092\n",
      "1651.7732957725395 2252.4250471070154\n"
     ]
    },
    {
     "name": "stderr",
     "output_type": "stream",
     "text": [
      "/home/nghipham/anaconda3/envs/onnx/lib/python3.8/site-packages/rasterio/__init__.py:220: NotGeoreferencedWarning: Dataset has no geotransform, gcps, or rpcs. The identity matrix be returned.\n",
      "  s = DatasetReader(path, driver=driver, sharing=sharing, **kwargs)\n"
     ]
    },
    {
     "name": "stdout",
     "output_type": "stream",
     "text": [
      "80.79689176235998 88.17693868380127\n",
      "@ 7.142094759270549 8.29151438176632\n",
      "1731.1771716639028 2193.361065710595\n"
     ]
    },
    {
     "name": "stderr",
     "output_type": "stream",
     "text": [
      "/home/nghipham/anaconda3/envs/onnx/lib/python3.8/site-packages/rasterio/__init__.py:220: NotGeoreferencedWarning: Dataset has no geotransform, gcps, or rpcs. The identity matrix be returned.\n",
      "  s = DatasetReader(path, driver=driver, sharing=sharing, **kwargs)\n"
     ]
    },
    {
     "name": "stdout",
     "output_type": "stream",
     "text": [
      "82.00310449290458 85.80082005045443\n",
      "@ 7.329958684276789 7.921441208571196\n",
      "1803.2381037462687 2038.9984550306144\n"
     ]
    },
    {
     "name": "stderr",
     "output_type": "stream",
     "text": [
      "/home/nghipham/anaconda3/envs/onnx/lib/python3.8/site-packages/rasterio/__init__.py:220: NotGeoreferencedWarning: Dataset has no geotransform, gcps, or rpcs. The identity matrix be returned.\n",
      "  s = DatasetReader(path, driver=driver, sharing=sharing, **kwargs)\n"
     ]
    },
    {
     "name": "stdout",
     "output_type": "stream",
     "text": [
      "84.8658243245212 85.51200150306315\n",
      "@ 7.775818498339504 7.87645860761404\n",
      "1979.7037399783276 2020.5952208793196\n"
     ]
    },
    {
     "name": "stderr",
     "output_type": "stream",
     "text": [
      "/home/nghipham/anaconda3/envs/onnx/lib/python3.8/site-packages/rasterio/__init__.py:220: NotGeoreferencedWarning: Dataset has no geotransform, gcps, or rpcs. The identity matrix be returned.\n",
      "  s = DatasetReader(path, driver=driver, sharing=sharing, **kwargs)\n"
     ]
    },
    {
     "name": "stdout",
     "output_type": "stream",
     "text": [
      "85.58147789991301 85.43978134884915\n",
      "@ 7.8872793428599834 7.86521054059267\n",
      "2025.0150683142363 2016.0056065527042\n"
     ]
    },
    {
     "name": "stderr",
     "output_type": "stream",
     "text": [
      "/home/nghipham/anaconda3/envs/onnx/lib/python3.8/site-packages/rasterio/__init__.py:220: NotGeoreferencedWarning: Dataset has no geotransform, gcps, or rpcs. The identity matrix be returned.\n",
      "  s = DatasetReader(path, driver=driver, sharing=sharing, **kwargs)\n"
     ]
    },
    {
     "name": "stdout",
     "output_type": "stream",
     "text": [
      "85.50639823595901 84.69586240663368\n",
      "@ 7.8755859159864485 7.749347452074289\n",
      "2020.2389570215419 1969.0129966262439\n"
     ]
    },
    {
     "name": "stderr",
     "output_type": "stream",
     "text": [
      "/home/nghipham/anaconda3/envs/onnx/lib/python3.8/site-packages/rasterio/__init__.py:220: NotGeoreferencedWarning: Dataset has no geotransform, gcps, or rpcs. The identity matrix be returned.\n",
      "  s = DatasetReader(path, driver=driver, sharing=sharing, **kwargs)\n"
     ]
    },
    {
     "name": "stdout",
     "output_type": "stream",
     "text": [
      "85.43131854808613 83.95194434941635\n",
      "@ 7.863892485387623 7.633484501391649\n",
      "2015.4681118411522 1922.5375981588918\n"
     ]
    },
    {
     "name": "stderr",
     "output_type": "stream",
     "text": [
      "/home/nghipham/anaconda3/envs/onnx/lib/python3.8/site-packages/rasterio/__init__.py:220: NotGeoreferencedWarning: Dataset has no geotransform, gcps, or rpcs. The identity matrix be returned.\n",
      "  s = DatasetReader(path, driver=driver, sharing=sharing, **kwargs)\n"
     ]
    },
    {
     "name": "stdout",
     "output_type": "stream",
     "text": [
      "86.07192369158692 83.13582768888588\n",
      "@ 7.963664767332375 7.506376840174198\n",
      "2056.3438384776346 1872.1465546576974\n"
     ]
    },
    {
     "name": "stderr",
     "output_type": "stream",
     "text": [
      "/home/nghipham/anaconda3/envs/onnx/lib/python3.8/site-packages/rasterio/__init__.py:220: NotGeoreferencedWarning: Dataset has no geotransform, gcps, or rpcs. The identity matrix be returned.\n",
      "  s = DatasetReader(path, driver=driver, sharing=sharing, **kwargs)\n"
     ]
    },
    {
     "name": "stdout",
     "output_type": "stream",
     "text": [
      "85.9968428645779 82.39191135382711\n",
      "@ 7.951971159316599 7.39051415771246\n",
      "2051.533242754215 1826.7557620243476\n"
     ]
    },
    {
     "name": "stderr",
     "output_type": "stream",
     "text": [
      "/home/nghipham/anaconda3/envs/onnx/lib/python3.8/site-packages/rasterio/__init__.py:220: NotGeoreferencedWarning: Dataset has no geotransform, gcps, or rpcs. The identity matrix be returned.\n",
      "  s = DatasetReader(path, driver=driver, sharing=sharing, **kwargs)\n"
     ]
    },
    {
     "name": "stdout",
     "output_type": "stream",
     "text": [
      "84.56544006223777 82.53629174548863\n",
      "@ 7.729034572839737 7.413000959903002\n",
      "1960.827629725327 1835.524829808424\n"
     ]
    },
    {
     "name": "stderr",
     "output_type": "stream",
     "text": [
      "/home/nghipham/anaconda3/envs/onnx/lib/python3.8/site-packages/rasterio/__init__.py:220: NotGeoreferencedWarning: Dataset has no geotransform, gcps, or rpcs. The identity matrix be returned.\n",
      "  s = DatasetReader(path, driver=driver, sharing=sharing, **kwargs)\n"
     ]
    },
    {
     "name": "stdout",
     "output_type": "stream",
     "text": [
      "82.98394931785367 81.19287826343788\n",
      "@ 7.4827222507447 7.203768439590931\n",
      "1862.8375320461225 1754.6840818611067\n"
     ]
    },
    {
     "name": "stderr",
     "output_type": "stream",
     "text": [
      "/home/nghipham/anaconda3/envs/onnx/lib/python3.8/site-packages/rasterio/__init__.py:220: NotGeoreferencedWarning: Dataset has no geotransform, gcps, or rpcs. The identity matrix be returned.\n",
      "  s = DatasetReader(path, driver=driver, sharing=sharing, **kwargs)\n"
     ]
    },
    {
     "name": "stdout",
     "output_type": "stream",
     "text": [
      "79.7459595300665 77.76217493270747\n",
      "@ 6.978415294550359 6.669446941465139\n",
      "1669.5012709896303 1555.8920992998687\n"
     ]
    },
    {
     "name": "stderr",
     "output_type": "stream",
     "text": [
      "/home/nghipham/anaconda3/envs/onnx/lib/python3.8/site-packages/rasterio/__init__.py:220: NotGeoreferencedWarning: Dataset has no geotransform, gcps, or rpcs. The identity matrix be returned.\n",
      "  s = DatasetReader(path, driver=driver, sharing=sharing, **kwargs)\n"
     ]
    },
    {
     "name": "stdout",
     "output_type": "stream",
     "text": [
      "80.53666040419293 78.4338571688517\n",
      "@ 7.1015645251609385 6.774059385061264\n",
      "1715.8088715040503 1593.9468187836437\n"
     ]
    },
    {
     "name": "stderr",
     "output_type": "stream",
     "text": [
      "/home/nghipham/anaconda3/envs/onnx/lib/python3.8/site-packages/rasterio/__init__.py:220: NotGeoreferencedWarning: Dataset has no geotransform, gcps, or rpcs. The identity matrix be returned.\n",
      "  s = DatasetReader(path, driver=driver, sharing=sharing, **kwargs)\n"
     ]
    },
    {
     "name": "stdout",
     "output_type": "stream",
     "text": [
      "80.4615868156316 77.68994566540445\n",
      "@ 7.089872044511139 6.658197455108166\n",
      "1711.3870650634576 1551.8249955506626\n"
     ]
    },
    {
     "name": "stderr",
     "output_type": "stream",
     "text": [
      "/home/nghipham/anaconda3/envs/onnx/lib/python3.8/site-packages/rasterio/__init__.py:220: NotGeoreferencedWarning: Dataset has no geotransform, gcps, or rpcs. The identity matrix be returned.\n",
      "  s = DatasetReader(path, driver=driver, sharing=sharing, **kwargs)\n"
     ]
    },
    {
     "name": "stdout",
     "output_type": "stream",
     "text": [
      "81.25228565067445 78.36162742317131\n",
      "@ 7.213020957540721 6.762809824198484\n",
      "1758.2233177392 1589.8343513328132\n"
     ]
    },
    {
     "name": "stderr",
     "output_type": "stream",
     "text": [
      "/home/nghipham/anaconda3/envs/onnx/lib/python3.8/site-packages/rasterio/__init__.py:220: NotGeoreferencedWarning: Dataset has no geotransform, gcps, or rpcs. The identity matrix be returned.\n",
      "  s = DatasetReader(path, driver=driver, sharing=sharing, **kwargs)\n"
     ]
    },
    {
     "name": "stdout",
     "output_type": "stream",
     "text": [
      "81.32730228840907 79.10550771249473\n",
      "@ 7.224704568274319 6.878666892647743\n",
      "1762.6971971054868 1632.4213107840847\n"
     ]
    },
    {
     "name": "stderr",
     "output_type": "stream",
     "text": [
      "/home/nghipham/anaconda3/envs/onnx/lib/python3.8/site-packages/rasterio/__init__.py:220: NotGeoreferencedWarning: Dataset has no geotransform, gcps, or rpcs. The identity matrix be returned.\n",
      "  s = DatasetReader(path, driver=driver, sharing=sharing, **kwargs)\n"
     ]
    },
    {
     "name": "stdout",
     "output_type": "stream",
     "text": [
      "78.31446104029155 77.90649801475922\n",
      "@ 6.755463805049658 6.6919248178601265\n",
      "1587.1515209089835 1564.033282612614\n"
     ]
    },
    {
     "name": "stderr",
     "output_type": "stream",
     "text": [
      "/home/nghipham/anaconda3/envs/onnx/lib/python3.8/site-packages/rasterio/__init__.py:220: NotGeoreferencedWarning: Dataset has no geotransform, gcps, or rpcs. The identity matrix be returned.\n",
      "  s = DatasetReader(path, driver=driver, sharing=sharing, **kwargs)\n"
     ]
    },
    {
     "name": "stdout",
     "output_type": "stream",
     "text": [
      "72.58899750602723 78.48407677142069\n",
      "@ 5.863740459084511 6.781880933791399\n",
      "1276.9291246814296 1596.808991586955\n"
     ]
    },
    {
     "name": "stderr",
     "output_type": "stream",
     "text": [
      "/home/nghipham/anaconda3/envs/onnx/lib/python3.8/site-packages/rasterio/__init__.py:220: NotGeoreferencedWarning: Dataset has no geotransform, gcps, or rpcs. The identity matrix be returned.\n",
      "  s = DatasetReader(path, driver=driver, sharing=sharing, **kwargs)\n"
     ]
    },
    {
     "name": "stdout",
     "output_type": "stream",
     "text": [
      "71.87330050891887 78.55626119084462\n",
      "@ 5.752272851765156 6.793123435229063\n",
      "1240.3045058526384 1600.927136638506\n"
     ]
    },
    {
     "name": "stderr",
     "output_type": "stream",
     "text": [
      "/home/nghipham/anaconda3/envs/onnx/lib/python3.8/site-packages/rasterio/__init__.py:220: NotGeoreferencedWarning: Dataset has no geotransform, gcps, or rpcs. The identity matrix be returned.\n",
      "  s = DatasetReader(path, driver=driver, sharing=sharing, **kwargs)\n"
     ]
    },
    {
     "name": "stdout",
     "output_type": "stream",
     "text": [
      "77.8988980572912 80.9542309307439\n",
      "@ 6.6907411478459835 7.166599851101637\n",
      "1563.6040878113336 1740.4997380029504\n"
     ]
    },
    {
     "name": "stderr",
     "output_type": "stream",
     "text": [
      "/home/nghipham/anaconda3/envs/onnx/lib/python3.8/site-packages/rasterio/__init__.py:220: NotGeoreferencedWarning: Dataset has no geotransform, gcps, or rpcs. The identity matrix be returned.\n",
      "  s = DatasetReader(path, driver=driver, sharing=sharing, **kwargs)\n"
     ]
    },
    {
     "name": "stdout",
     "output_type": "stream",
     "text": [
      "83.84943841647666 82.60830306405873\n",
      "@ 7.617519517429173 7.424216501414776\n",
      "1916.1742009889592 1839.905780286173\n"
     ]
    },
    {
     "name": "stderr",
     "output_type": "stream",
     "text": [
      "/home/nghipham/anaconda3/envs/onnx/lib/python3.8/site-packages/rasterio/__init__.py:220: NotGeoreferencedWarning: Dataset has no geotransform, gcps, or rpcs. The identity matrix be returned.\n",
      "  s = DatasetReader(path, driver=driver, sharing=sharing, **kwargs)\n"
     ]
    },
    {
     "name": "stdout",
     "output_type": "stream",
     "text": [
      "86.22157707263185 84.62336931420731\n",
      "@ 7.986972821410745 7.738056875765324\n",
      "2065.948178094847 1964.4613343166907\n"
     ]
    },
    {
     "name": "stderr",
     "output_type": "stream",
     "text": [
      "/home/nghipham/anaconda3/envs/onnx/lib/python3.8/site-packages/rasterio/__init__.py:220: NotGeoreferencedWarning: Dataset has no geotransform, gcps, or rpcs. The identity matrix be returned.\n",
      "  s = DatasetReader(path, driver=driver, sharing=sharing, **kwargs)\n"
     ]
    },
    {
     "name": "stdout",
     "output_type": "stream",
     "text": [
      "86.14649603334286 83.87945539495429\n",
      "@ 7.975279180333018 7.622194569557905\n",
      "2061.1270688200807 1918.0365882266854\n"
     ]
    },
    {
     "name": "stderr",
     "output_type": "stream",
     "text": [
      "/home/nghipham/anaconda3/envs/onnx/lib/python3.8/site-packages/rasterio/__init__.py:220: NotGeoreferencedWarning: Dataset has no geotransform, gcps, or rpcs. The identity matrix be returned.\n",
      "  s = DatasetReader(path, driver=driver, sharing=sharing, **kwargs)\n"
     ]
    },
    {
     "name": "stdout",
     "output_type": "stream",
     "text": [
      "86.07141499704375 83.13554248029376\n",
      "@ 7.9635855397209525 7.506332419812679\n",
      "2056.3112275613357 1872.12905327563\n"
     ]
    },
    {
     "name": "stderr",
     "output_type": "stream",
     "text": [
      "/home/nghipham/anaconda3/envs/onnx/lib/python3.8/site-packages/rasterio/__init__.py:220: NotGeoreferencedWarning: Dataset has no geotransform, gcps, or rpcs. The identity matrix be returned.\n",
      "  s = DatasetReader(path, driver=driver, sharing=sharing, **kwargs)\n"
     ]
    },
    {
     "name": "stdout",
     "output_type": "stream",
     "text": [
      "85.28065783583922 82.4638294844842\n",
      "@ 7.840427542570978 7.401715185493231\n",
      "2005.9104556340562 1831.1213368476933\n"
     ]
    },
    {
     "name": "stderr",
     "output_type": "stream",
     "text": [
      "/home/nghipham/anaconda3/envs/onnx/lib/python3.8/site-packages/rasterio/__init__.py:220: NotGeoreferencedWarning: Dataset has no geotransform, gcps, or rpcs. The identity matrix be returned.\n",
      "  s = DatasetReader(path, driver=driver, sharing=sharing, **kwargs)\n"
     ]
    },
    {
     "name": "stdout",
     "output_type": "stream",
     "text": [
      "85.35566938184462 83.20770412895456\n",
      "@ 7.852110360283405 7.517571374773979\n",
      "2010.6664075863214 1876.5595641614746\n"
     ]
    },
    {
     "name": "stderr",
     "output_type": "stream",
     "text": [
      "/home/nghipham/anaconda3/envs/onnx/lib/python3.8/site-packages/rasterio/__init__.py:220: NotGeoreferencedWarning: Dataset has no geotransform, gcps, or rpcs. The identity matrix be returned.\n",
      "  s = DatasetReader(path, driver=driver, sharing=sharing, **kwargs)\n"
     ]
    },
    {
     "name": "stdout",
     "output_type": "stream",
     "text": [
      "85.35563525559849 83.20768518521044\n",
      "@ 7.852105045225471 7.517568424344063\n",
      "2010.6642426867302 1876.5584004332977\n"
     ]
    },
    {
     "name": "stderr",
     "output_type": "stream",
     "text": [
      "/home/nghipham/anaconda3/envs/onnx/lib/python3.8/site-packages/rasterio/__init__.py:220: NotGeoreferencedWarning: Dataset has no geotransform, gcps, or rpcs. The identity matrix be returned.\n",
      "  s = DatasetReader(path, driver=driver, sharing=sharing, **kwargs)\n"
     ]
    },
    {
     "name": "stdout",
     "output_type": "stream",
     "text": [
      "86.86199579545871 83.80716049427517\n",
      "@ 8.086716068908572 7.610934861004353\n",
      "2107.2848915298146 1913.5525182229967\n"
     ]
    },
    {
     "name": "stderr",
     "output_type": "stream",
     "text": [
      "/home/nghipham/anaconda3/envs/onnx/lib/python3.8/site-packages/rasterio/__init__.py:220: NotGeoreferencedWarning: Dataset has no geotransform, gcps, or rpcs. The identity matrix be returned.\n",
      "  s = DatasetReader(path, driver=driver, sharing=sharing, **kwargs)\n"
     ]
    },
    {
     "name": "stdout",
     "output_type": "stream",
     "text": [
      "84.56484609094744 82.53595408281714\n",
      "@ 7.728942063637078 7.412948369979858\n",
      "1960.7903881719576 1835.5042988488553\n"
     ]
    },
    {
     "name": "stderr",
     "output_type": "stream",
     "text": [
      "/home/nghipham/anaconda3/envs/onnx/lib/python3.8/site-packages/rasterio/__init__.py:220: NotGeoreferencedWarning: Dataset has no geotransform, gcps, or rpcs. The identity matrix be returned.\n",
      "  s = DatasetReader(path, driver=driver, sharing=sharing, **kwargs)\n"
     ]
    },
    {
     "name": "stdout",
     "output_type": "stream",
     "text": [
      "82.19265537238437 80.52085738394854\n",
      "@ 7.3594806510955095 7.099103253334761\n",
      "1814.6857706256724 1714.8776418470802\n"
     ]
    },
    {
     "name": "stderr",
     "output_type": "stream",
     "text": [
      "/home/nghipham/anaconda3/envs/onnx/lib/python3.8/site-packages/rasterio/__init__.py:220: NotGeoreferencedWarning: Dataset has no geotransform, gcps, or rpcs. The identity matrix be returned.\n",
      "  s = DatasetReader(path, driver=driver, sharing=sharing, **kwargs)\n"
     ]
    },
    {
     "name": "stdout",
     "output_type": "stream",
     "text": [
      "82.19262540802143 80.52084054506486\n",
      "@ 7.359475984238088 7.0991006307303905\n",
      "1814.683958315433 1714.8766497012334\n"
     ]
    },
    {
     "name": "stderr",
     "output_type": "stream",
     "text": [
      "/home/nghipham/anaconda3/envs/onnx/lib/python3.8/site-packages/rasterio/__init__.py:220: NotGeoreferencedWarning: Dataset has no geotransform, gcps, or rpcs. The identity matrix be returned.\n",
      "  s = DatasetReader(path, driver=driver, sharing=sharing, **kwargs)\n"
     ]
    },
    {
     "name": "stdout",
     "output_type": "stream",
     "text": [
      "83.62394020088365 80.37642559063787\n",
      "@ 7.582398863509297 7.076608445495367\n",
      "1902.210207424049 1706.3774764603136\n"
     ]
    },
    {
     "name": "stderr",
     "output_type": "stream",
     "text": [
      "/home/nghipham/anaconda3/envs/onnx/lib/python3.8/site-packages/rasterio/__init__.py:220: NotGeoreferencedWarning: Dataset has no geotransform, gcps, or rpcs. The identity matrix be returned.\n",
      "  s = DatasetReader(path, driver=driver, sharing=sharing, **kwargs)\n"
     ]
    },
    {
     "name": "stdout",
     "output_type": "stream",
     "text": [
      "84.48967159166833 81.79199194312454\n",
      "@ 7.717233866453171 7.297078553587198\n",
      "1956.0796649181875 1790.527770790053\n"
     ]
    },
    {
     "name": "stderr",
     "output_type": "stream",
     "text": [
      "/home/nghipham/anaconda3/envs/onnx/lib/python3.8/site-packages/rasterio/__init__.py:220: NotGeoreferencedWarning: Dataset has no geotransform, gcps, or rpcs. The identity matrix be returned.\n",
      "  s = DatasetReader(path, driver=driver, sharing=sharing, **kwargs)\n"
     ]
    },
    {
     "name": "stdout",
     "output_type": "stream",
     "text": [
      "83.69892138487491 81.1202822959566\n",
      "@ 7.594076952431351 7.192461840808392\n",
      "1906.8481494967264 1750.3636047878172\n"
     ]
    },
    {
     "name": "stderr",
     "output_type": "stream",
     "text": [
      "/home/nghipham/anaconda3/envs/onnx/lib/python3.8/site-packages/rasterio/__init__.py:220: NotGeoreferencedWarning: Dataset has no geotransform, gcps, or rpcs. The identity matrix be returned.\n",
      "  s = DatasetReader(path, driver=driver, sharing=sharing, **kwargs)\n"
     ]
    },
    {
     "name": "stdout",
     "output_type": "stream",
     "text": [
      "83.62384352380563 80.376374499934\n",
      "@ 7.582383806351572 7.0766004882752895\n",
      "1902.2042308793448 1706.3744730960916\n"
     ]
    },
    {
     "name": "stderr",
     "output_type": "stream",
     "text": [
      "/home/nghipham/anaconda3/envs/onnx/lib/python3.8/site-packages/rasterio/__init__.py:220: NotGeoreferencedWarning: Dataset has no geotransform, gcps, or rpcs. The identity matrix be returned.\n",
      "  s = DatasetReader(path, driver=driver, sharing=sharing, **kwargs)\n"
     ]
    },
    {
     "name": "stdout",
     "output_type": "stream",
     "text": [
      "83.62381145757209 80.37635773280695\n",
      "@ 7.582378812134266 7.07659787684679\n",
      "1902.202248557416 1706.3734874419793\n"
     ]
    },
    {
     "name": "stderr",
     "output_type": "stream",
     "text": [
      "/home/nghipham/anaconda3/envs/onnx/lib/python3.8/site-packages/rasterio/__init__.py:220: NotGeoreferencedWarning: Dataset has no geotransform, gcps, or rpcs. The identity matrix be returned.\n",
      "  s = DatasetReader(path, driver=driver, sharing=sharing, **kwargs)\n"
     ]
    },
    {
     "name": "stdout",
     "output_type": "stream",
     "text": [
      "82.90810968565955 80.44853987993835\n",
      "@ 7.470910461153835 7.087840024381876\n",
      "1858.1971918952506 1710.6191425923257\n"
     ]
    },
    {
     "name": "stderr",
     "output_type": "stream",
     "text": [
      "/home/nghipham/anaconda3/envs/onnx/lib/python3.8/site-packages/rasterio/__init__.py:220: NotGeoreferencedWarning: Dataset has no geotransform, gcps, or rpcs. The identity matrix be returned.\n",
      "  s = DatasetReader(path, driver=driver, sharing=sharing, **kwargs)\n"
     ]
    },
    {
     "name": "stdout",
     "output_type": "stream",
     "text": [
      "82.83303284712193 79.70463342337241\n",
      "@ 7.459217474330217 6.971978880465031\n",
      "1853.608818195062 1667.097062708879\n"
     ]
    },
    {
     "name": "stderr",
     "output_type": "stream",
     "text": [
      "/home/nghipham/anaconda3/envs/onnx/lib/python3.8/site-packages/rasterio/__init__.py:220: NotGeoreferencedWarning: Dataset has no geotransform, gcps, or rpcs. The identity matrix be returned.\n",
      "  s = DatasetReader(path, driver=driver, sharing=sharing, **kwargs)\n"
     ]
    },
    {
     "name": "stdout",
     "output_type": "stream",
     "text": [
      "83.62371637109885 80.37630762277672\n",
      "@ 7.582364002708346 7.076590072363615\n",
      "1902.1963703547376 1706.3705417297572\n"
     ]
    },
    {
     "name": "stderr",
     "output_type": "stream",
     "text": [
      "/home/nghipham/anaconda3/envs/onnx/lib/python3.8/site-packages/rasterio/__init__.py:220: NotGeoreferencedWarning: Dataset has no geotransform, gcps, or rpcs. The identity matrix be returned.\n",
      "  s = DatasetReader(path, driver=driver, sharing=sharing, **kwargs)\n"
     ]
    },
    {
     "name": "stdout",
     "output_type": "stream",
     "text": [
      "82.83297031123932 79.70460060668435\n",
      "@ 7.459207734558731 6.971973769366741\n",
      "1853.6049984662104 1667.0951541829672\n"
     ]
    },
    {
     "name": "stderr",
     "output_type": "stream",
     "text": [
      "/home/nghipham/anaconda3/envs/onnx/lib/python3.8/site-packages/rasterio/__init__.py:220: NotGeoreferencedWarning: Dataset has no geotransform, gcps, or rpcs. The identity matrix be returned.\n",
      "  s = DatasetReader(path, driver=driver, sharing=sharing, **kwargs)\n"
     ]
    },
    {
     "name": "stdout",
     "output_type": "stream",
     "text": [
      "82.11727166372903 79.7767830886799\n",
      "@ 7.347739870194346 6.983215969055891\n",
      "1810.1290531054865 1671.2955168743324\n"
     ]
    },
    {
     "name": "stderr",
     "output_type": "stream",
     "text": [
      "/home/nghipham/anaconda3/envs/onnx/lib/python3.8/site-packages/rasterio/__init__.py:220: NotGeoreferencedWarning: Dataset has no geotransform, gcps, or rpcs. The identity matrix be returned.\n",
      "  s = DatasetReader(path, driver=driver, sharing=sharing, **kwargs)\n"
     ]
    },
    {
     "name": "stdout",
     "output_type": "stream",
     "text": [
      "82.11724167544722 79.77676679993023\n",
      "@ 7.347735199611634 6.983213432133198\n",
      "1810.127241461097 1671.2945684682916\n"
     ]
    },
    {
     "name": "stderr",
     "output_type": "stream",
     "text": [
      "/home/nghipham/anaconda3/envs/onnx/lib/python3.8/site-packages/rasterio/__init__.py:220: NotGeoreferencedWarning: Dataset has no geotransform, gcps, or rpcs. The identity matrix be returned.\n",
      "  s = DatasetReader(path, driver=driver, sharing=sharing, **kwargs)\n"
     ]
    },
    {
     "name": "stdout",
     "output_type": "stream",
     "text": [
      "81.25145340260256 78.36117258196134\n",
      "@ 7.21289133746177 6.762738984078169\n",
      "1758.173713211432 1589.8084699743217\n"
     ]
    },
    {
     "name": "stderr",
     "output_type": "stream",
     "text": [
      "/home/nghipham/anaconda3/envs/onnx/lib/python3.8/site-packages/rasterio/__init__.py:220: NotGeoreferencedWarning: Dataset has no geotransform, gcps, or rpcs. The identity matrix be returned.\n",
      "  s = DatasetReader(path, driver=driver, sharing=sharing, **kwargs)\n"
     ]
    },
    {
     "name": "stdout",
     "output_type": "stream",
     "text": [
      "80.53575828013555 78.43335597287393\n",
      "@ 7.101424022112042 6.77398132532835\n",
      "1715.7557054686904 1593.9182659292362\n"
     ]
    },
    {
     "name": "stderr",
     "output_type": "stream",
     "text": [
      "/home/nghipham/anaconda3/envs/onnx/lib/python3.8/site-packages/rasterio/__init__.py:220: NotGeoreferencedWarning: Dataset has no geotransform, gcps, or rpcs. The identity matrix be returned.\n",
      "  s = DatasetReader(path, driver=driver, sharing=sharing, **kwargs)\n"
     ]
    },
    {
     "name": "stdout",
     "output_type": "stream",
     "text": [
      "80.46068448527399 77.68945286494963\n",
      "@ 7.089731509331614 6.6581207029521465\n",
      "1711.3339501729088 1551.7972635634383\n"
     ]
    },
    {
     "name": "stderr",
     "output_type": "stream",
     "text": [
      "/home/nghipham/anaconda3/envs/onnx/lib/python3.8/site-packages/rasterio/__init__.py:220: NotGeoreferencedWarning: Dataset has no geotransform, gcps, or rpcs. The identity matrix be returned.\n",
      "  s = DatasetReader(path, driver=driver, sharing=sharing, **kwargs)\n"
     ]
    },
    {
     "name": "stdout",
     "output_type": "stream",
     "text": [
      "79.74499130023537 77.76163668640183\n",
      "@ 6.9782644957304 6.669363111257553\n",
      "1669.4449245082865 1555.8617735619014\n"
     ]
    },
    {
     "name": "stderr",
     "output_type": "stream",
     "text": [
      "/home/nghipham/anaconda3/envs/onnx/lib/python3.8/site-packages/rasterio/__init__.py:220: NotGeoreferencedWarning: Dataset has no geotransform, gcps, or rpcs. The identity matrix be returned.\n",
      "  s = DatasetReader(path, driver=driver, sharing=sharing, **kwargs)\n"
     ]
    },
    {
     "name": "stdout",
     "output_type": "stream",
     "text": [
      "79.74496430181216 77.76162176102767\n",
      "@ 6.978260290808976 6.669360786676407\n",
      "1669.4433533379454 1555.860932644082\n"
     ]
    },
    {
     "name": "stderr",
     "output_type": "stream",
     "text": [
      "/home/nghipham/anaconda3/envs/onnx/lib/python3.8/site-packages/rasterio/__init__.py:220: NotGeoreferencedWarning: Dataset has no geotransform, gcps, or rpcs. The identity matrix be returned.\n",
      "  s = DatasetReader(path, driver=driver, sharing=sharing, **kwargs)\n"
     ]
    },
    {
     "name": "stdout",
     "output_type": "stream",
     "text": [
      "79.6698914666952 77.0177198729657\n",
      "@ 6.966567927505821 6.5535003542900085\n",
      "1665.0771320392455 1514.206963422268\n"
     ]
    },
    {
     "name": "stderr",
     "output_type": "stream",
     "text": [
      "/home/nghipham/anaconda3/envs/onnx/lib/python3.8/site-packages/rasterio/__init__.py:220: NotGeoreferencedWarning: Dataset has no geotransform, gcps, or rpcs. The identity matrix be returned.\n",
      "  s = DatasetReader(path, driver=driver, sharing=sharing, **kwargs)\n"
     ]
    },
    {
     "name": "stdout",
     "output_type": "stream",
     "text": [
      "79.74491028104688 77.76159229298126\n",
      "@ 6.978251877240837 6.669356197118759\n",
      "1669.4402096073527 1555.8592723710508\n"
     ]
    },
    {
     "name": "stderr",
     "output_type": "stream",
     "text": [
      "/home/nghipham/anaconda3/envs/onnx/lib/python3.8/site-packages/rasterio/__init__.py:220: NotGeoreferencedWarning: Dataset has no geotransform, gcps, or rpcs. The identity matrix be returned.\n",
      "  s = DatasetReader(path, driver=driver, sharing=sharing, **kwargs)\n"
     ]
    },
    {
     "name": "stdout",
     "output_type": "stream",
     "text": [
      "82.04196460607876 79.03275459804513\n",
      "@ 7.336011027451605 6.867335818707943\n",
      "1805.5822711919643 1628.2333995069305\n"
     ]
    }
   ],
   "source": [
    "first_img = '/home/quyet/DATA_ML/Projects/video_hold/DJI_0007/abc/mask_tif/DJI_0007_0_0m:0s_result.tif'\n",
    "frist_meta = rasterio.open(first_img).profile\n",
    "list_img_idx = []\n",
    "folder_path = '/home/quyet/DATA_ML/Projects/change_detection/new_video/March/DJI_0006-003-001/img_per_second'\n",
    "out_folder = '/home/quyet/DATA_ML/Projects/change_detection/new_video/March/DJI_0006-003-001/aaa'\n",
    "list_img_path = glob.glob(os.path.join(folder_path, '*.jpg'))\n",
    "for img_path in list_img_path:\n",
    "    idx = int(os.path.basename(img_path).split('.')[0].split('_')[-2])\n",
    "    list_img_idx.append([idx, os.path.basename(img_path)])\n",
    "    # break\n",
    "\n",
    "total_y = []\n",
    "    \n",
    "for n,i in enumerate(sorted(list_img_idx)):\n",
    "    name_img = i[-1]\n",
    "    img_path = os.path.join(folder_path, name_img)\n",
    "    img_rgb = rasterio.open(img_path).read()\n",
    "    c,h,w = img_rgb.shape\n",
    "    # crop_img = img_rgb[..., :, int(w/4):int(w-w/4)]\n",
    "    crop_img = img_rgb\n",
    "    c,h,w = crop_img.shape\n",
    "    aaa_df = new_df.to_crs(32617)\n",
    "          \n",
    "    if i[0] == 1:\n",
    "        meta = frist_meta\n",
    "        old_x = aaa_df.geometry[0].x\n",
    "        old_y = aaa_df.geometry[0].y     \n",
    "    else:\n",
    "        meta = rasterio.open(outpath).profile\n",
    "    # print(meta['transform'], '\\n')\n",
    "    meta['height']= h\n",
    "    meta['width']= w\n",
    "    meta['count']= c\n",
    "    meta['dtype']='uint8'\n",
    "    tr = meta['transform']\n",
    "    \n",
    "    \n",
    "    new_x = aaa_df.geometry[n].x\n",
    "    new_y = aaa_df.geometry[n].y\n",
    "    dis_x = abs(new_x - old_x)\n",
    "    \n",
    "    xxx = dis_x - 1.0995981250090254\n",
    "    if xxx < 0:\n",
    "        xxx = 0\n",
    "    var_x = 42 + 6.420672465480238 * (xxx)\n",
    "    if i[0] == 1:\n",
    "        var_x = 0 \n",
    "    dis_x_pix = dis_x*var_x*3\n",
    "    \n",
    "    dis_y = abs(new_y - old_y) \n",
    "    \n",
    "    yyy = dis_y - 1.0995981250090254\n",
    "    if yyy < 0:\n",
    "        yyy = 0\n",
    "    var_y = 42 + 6.420672465480238 * (yyy)\n",
    "    if i[0] == 1:\n",
    "        var_y = 0 \n",
    "    dis_y_pix = dis_y*var_y*3\n",
    "    \n",
    "    print(var_x, var_y)\n",
    "    print(\"@\",dis_x, dis_y)\n",
    "    print(dis_x_pix, dis_y_pix)\n",
    "    \n",
    "    meta.update(transform=rasterio.Affine(tr[0], tr[1], tr[2],\n",
    "                                          tr[3], tr[4], tr[5]+dis_y_pix))\n",
    "    \n",
    "    outpath = os.path.join(out_folder, os.path.basename(img_path).replace('.jpg', '.tif'))\n",
    "    new_dataset = rasterio.open(outpath, 'w', **meta)\n",
    "    for i in range(num_band):\n",
    "        new_dataset.write(crop_img[i],i+1)\n",
    "    new_dataset.close()\n",
    "    \n",
    "    total_y.append([dis_y, outpath])\n",
    "    old_x = aaa_df.geometry[n].x\n",
    "    old_y = aaa_df.geometry[n].y\n"
   ]
  },
  {
   "cell_type": "code",
   "execution_count": 357,
   "id": "29fa15a7-e1ae-459d-b4e5-28a8e4415bc0",
   "metadata": {},
   "outputs": [],
   "source": [
    "total_x = []\n",
    "total_y = []\n",
    "total_name = {}\n",
    "for n,i in enumerate(sorted(list_img_idx)):\n",
    "    name_img = i[-1]\n",
    "    img_path = os.path.join(folder_path, name_img)\n",
    "    outpath = os.path.join(out_folder, os.path.basename(img_path).replace('.jpg', '.tif'))\n",
    "    aaa_df = new_df.to_crs(32617)\n",
    "    \n",
    "    if n == 0:\n",
    "        old_x = aaa_df.geometry[0].x\n",
    "        old_y = aaa_df.geometry[0].y  \n",
    "        pass\n",
    "    else:   \n",
    "        new_x = aaa_df.geometry[n].x\n",
    "        new_y = aaa_df.geometry[n].y\n",
    "        dis_x = abs(new_x - old_x)\n",
    "        dis_y = abs(new_y - old_y) \n",
    "        total_y.append([n,dis_y])\n",
    "        total_x.append([n,dis_x])\n",
    "        total_name.update({n:outpath})\n",
    "        \n",
    "        old_x = aaa_df.geometry[n].x\n",
    "        old_y = aaa_df.geometry[n].y"
   ]
  },
  {
   "cell_type": "code",
   "execution_count": 285,
   "id": "99c8488c-e378-45f8-987a-20762e8cb910",
   "metadata": {},
   "outputs": [
    {
     "name": "stdout",
     "output_type": "stream",
     "text": [
      "13.092111434787512\n"
     ]
    },
    {
     "data": {
      "text/plain": [
       "101"
      ]
     },
     "execution_count": 285,
     "metadata": {},
     "output_type": "execute_result"
    }
   ],
   "source": [
    "print(max(total_y.values()))\n",
    "max(total_y, key=total_y.get)"
   ]
  },
  {
   "cell_type": "code",
   "execution_count": 286,
   "id": "4bc96a31-28c0-499b-8875-67bd7204bfca",
   "metadata": {},
   "outputs": [
    {
     "name": "stdout",
     "output_type": "stream",
     "text": [
      "1.0090652033686638\n"
     ]
    },
    {
     "data": {
      "text/plain": [
       "1"
      ]
     },
     "execution_count": 286,
     "metadata": {},
     "output_type": "execute_result"
    }
   ],
   "source": [
    "print(min(total_y.values()))\n",
    "min(total_y, key=total_y.get)"
   ]
  },
  {
   "cell_type": "code",
   "execution_count": 344,
   "id": "c7b0bb28-2899-4a89-b7fc-70d4377b4ace",
   "metadata": {},
   "outputs": [
    {
     "data": {
      "text/plain": [
       "[<matplotlib.lines.Line2D at 0x7fc8b2809bb0>]"
      ]
     },
     "execution_count": 344,
     "metadata": {},
     "output_type": "execute_result"
    },
    {
     "data": {
      "image/png": "[encoded data removed]",
      "text/plain": [
       "<Figure size 432x288 with 1 Axes>"
      ]
     },
     "metadata": {
      "needs_background": "light"
     },
     "output_type": "display_data"
    }
   ],
   "source": [
    "import matplotlib.pyplot as plt\n",
    "\n",
    "list_points = []\n",
    "for n,i in enumerate(total_y):\n",
    "    list_points.append(i[0])\n",
    "    # print(i[0])\n",
    "\n",
    "arr = np.array(list_points) \n",
    "plt.plot(arr)"
   ]
  },
  {
   "cell_type": "code",
   "execution_count": 358,
   "id": "fd2b92dc-2b13-4fe0-a206-83040b56d233",
   "metadata": {},
   "outputs": [
    {
     "data": {
      "text/plain": [
       "[<matplotlib.lines.Line2D at 0x7fc8b26396a0>]"
      ]
     },
     "execution_count": 358,
     "metadata": {},
     "output_type": "execute_result"
    },
    {
     "data": {
      "image/png": "[encoded data removed]",
      "text/plain": [
       "<Figure size 432x288 with 1 Axes>"
      ]
     },
     "metadata": {
      "needs_background": "light"
     },
     "output_type": "display_data"
    }
   ],
   "source": [
    "list_points = []\n",
    "for n,i in enumerate(total_x):\n",
    "    list_points.append(i[1])\n",
    "    # print(i[0])\n",
    "\n",
    "arr = np.array(list_points) \n",
    "plt.plot(arr)"
   ]
  },
  {
   "cell_type": "code",
   "execution_count": 359,
   "id": "2cc937a9-2695-45af-baec-50272b1197a9",
   "metadata": {},
   "outputs": [
    {
     "data": {
      "text/plain": [
       "[<matplotlib.lines.Line2D at 0x7fc8b25f9580>]"
      ]
     },
     "execution_count": 359,
     "metadata": {},
     "output_type": "execute_result"
    },
    {
     "data": {
      "image/png": "[encoded data removed]",
      "text/plain": [
       "<Figure size 432x288 with 1 Axes>"
      ]
     },
     "metadata": {
      "needs_background": "light"
     },
     "output_type": "display_data"
    }
   ],
   "source": [
    "list_points = []\n",
    "for i,j in zip(total_x, total_y):\n",
    "    list_points.append(math.sqrt(i[1]**2 + j[1]**2))\n",
    "\n",
    "arr = np.array(list_points) \n",
    "plt.plot(arr)"
   ]
  },
  {
   "cell_type": "code",
   "execution_count": 317,
   "id": "e528ff38-28f8-4096-abf6-eb7e9ecd2862",
   "metadata": {},
   "outputs": [
    {
     "data": {
      "text/plain": [
       "'/home/quyet/DATA_ML/Projects/change_detection/new_video/March/DJI_0006-003-001/aaa/DJI_0006-003-001_102_1m:42s.tif'"
      ]
     },
     "execution_count": 317,
     "metadata": {},
     "output_type": "execute_result"
    }
   ],
   "source": [
    "total_name[101]"
   ]
  },
  {
   "cell_type": "code",
   "execution_count": 288,
   "id": "10db63e6-67a4-4642-9073-d6cbc9d6c089",
   "metadata": {},
   "outputs": [
    {
     "data": {
      "text/plain": [
       "-1.0090652033686638"
      ]
     },
     "execution_count": 288,
     "metadata": {},
     "output_type": "execute_result"
    }
   ],
   "source": [
    "aaa_df.geometry[1].y - aaa_df.geometry[0].y"
   ]
  },
  {
   "cell_type": "code",
   "execution_count": 184,
   "id": "8dd8c6af-5cbd-40ad-a652-6e2de34eaeab",
   "metadata": {},
   "outputs": [
    {
     "name": "stderr",
     "output_type": "stream",
     "text": [
      "/home/nghipham/anaconda3/envs/onnx/lib/python3.8/site-packages/geopandas/io/file.py:362: FutureWarning: pandas.Int64Index is deprecated and will be removed from pandas in a future version. Use pandas.Index with the appropriate dtype instead.\n",
      "  pd.Int64Index,\n"
     ]
    }
   ],
   "source": [
    "import json\n",
    "import numpy as np\n",
    "from itertools import islice\n",
    "\n",
    "with open('/home/quyet/DATA_ML/Projects/change_detection/new_video/March/DJI_0006.SRT') as f:\n",
    "    lines = f.read().splitlines()\n",
    "str_list = list(filter(None, lines))\n",
    "\n",
    "# list of length in which we have to split\n",
    "length_to_split = list(np.ones(len(str_list)//6)*6)\n",
    "  \n",
    "# Using islice\n",
    "Inputt = iter(str_list)\n",
    "Output = []\n",
    "geo_points = []\n",
    "for n, elem in enumerate(length_to_split):\n",
    "    # print(elem)\n",
    "    item_gps = list(islice(Inputt, int(elem)))\n",
    "    Output.append(item_gps)\n",
    "    \n",
    "import pandas as pd\n",
    "import geopandas as gpd\n",
    "from shapely import geometry\n",
    "\n",
    "geo_points = []\n",
    "for i in Output:\n",
    "    if int(i[0])%25 == 0:\n",
    "        infor_gps = i[-2]\n",
    "        lat_long = infor_gps.split(\",\")[-1].split(\"] [\")\n",
    "        latitude = float(lat_long[0].split(\" \")[-1])\n",
    "        longitude = float(lat_long[1].split(\" \")[-1])\n",
    "        altitude = float(lat_long[-1].split(\"]\")[0].split(\" \")[-1])\n",
    "        \n",
    "        gps_x = longitude\n",
    "        gps_y = latitude\n",
    "        geo_points.append([n, geometry.Point(gps_x, gps_y)])\n",
    "\n",
    "new_df = pd.DataFrame(geo_points, columns=['ID', 'geometry',])\n",
    "\n",
    "gdf = gpd.GeoDataFrame(new_df, crs=4326)\n",
    "gdf.to_file('/home/quyet/DATA_ML/Projects/change_detection/new_video/March/trajectory/DJI_0006.shp')"
   ]
  },
  {
   "cell_type": "code",
   "execution_count": null,
   "id": "97727e50-bcd9-4da7-809c-4bb44213015e",
   "metadata": {},
   "outputs": [],
   "source": [
    "[latitude: 17.000956] [longitude: 80.000040] [altitude: 44.300000]\n",
    "[latitude: 17.000965] [longitude: 80.000043] [altitude: 44.300000]"
   ]
  },
  {
   "cell_type": "code",
   "execution_count": 193,
   "id": "b899d656-648a-4a54-be0b-43ca106b5cc1",
   "metadata": {},
   "outputs": [
    {
     "data": {
      "text/plain": [
       "4.111392175501509"
      ]
     },
     "execution_count": 193,
     "metadata": {},
     "output_type": "execute_result"
    }
   ],
   "source": [
    "new_df = gdf.to_crs(3857)\n",
    "new_df.geometry[1].distance(new_df.geometry[2]) "
   ]
  },
  {
   "cell_type": "code",
   "execution_count": 199,
   "id": "fb704b12-4f24-4e06-a774-0e3df6e6b3dc",
   "metadata": {},
   "outputs": [
    {
     "name": "stderr",
     "output_type": "stream",
     "text": [
      "ERROR 1: PROJ: proj_identify: /home/nghipham/anaconda3/envs/onnx/share/proj/proj.db lacks DATABASE.LAYOUT.VERSION.MAJOR / DATABASE.LAYOUT.VERSION.MINOR metadata. It comes from another PROJ installation.\n"
     ]
    },
    {
     "data": {
      "text/plain": [
       "{'driver': 'GTiff', 'dtype': 'uint8', 'nodata': 0.0, 'width': 3840, 'height': 2160, 'count': 3, 'crs': CRS.from_wkt('PROJCS[\"WGS 84 / UTM zone 17N\",GEOGCS[\"WGS 84\",DATUM[\"WGS_1984\",SPHEROID[\"WGS 84\",6378137,298.257223563,AUTHORITY[\"EPSG\",\"7030\"]],AUTHORITY[\"EPSG\",\"6326\"]],PRIMEM[\"Greenwich\",0],UNIT[\"degree\",0.0174532925199433,AUTHORITY[\"EPSG\",\"9122\"]],AUTHORITY[\"EPSG\",\"4326\"]],PROJECTION[\"Transverse_Mercator\"],PARAMETER[\"latitude_of_origin\",0],PARAMETER[\"central_meridian\",-81],PARAMETER[\"scale_factor\",0.9996],PARAMETER[\"false_easting\",500000],PARAMETER[\"false_northing\",0],UNIT[\"metre\",1,AUTHORITY[\"EPSG\",\"9001\"]],AXIS[\"Easting\",EAST],AXIS[\"Northing\",NORTH],AUTHORITY[\"EPSG\",\"32617\"]]'), 'transform': Affine(3.0, 0.0, 805359.0,\n",
       "       0.0, -3.0, 908853.0), 'tiled': False, 'compress': 'lzw', 'interleave': 'band'}"
      ]
     },
     "execution_count": 199,
     "metadata": {},
     "output_type": "execute_result"
    }
   ],
   "source": [
    "rasterio.open('/home/quyet/DATA_ML/Projects/change_detection/new_video/March/DJI_0006-003-001/img_tif/DJI_0006-003-001_1_0m:1s.tif').profile"
   ]
  },
  {
   "cell_type": "code",
   "execution_count": null,
   "id": "982092ea-a521-44dc-a39b-86082acdb329",
   "metadata": {},
   "outputs": [],
   "source": [
    "9.060905031359606e-05 "
   ]
  },
  {
   "cell_type": "code",
   "execution_count": 185,
   "id": "a95e23f7-05d8-4341-9fce-cd11ce98ec83",
   "metadata": {},
   "outputs": [],
   "source": [
    "import math\n",
    "distance_meter = 1.0995981250090254\n",
    "distance_pixel = 126/3\n",
    "pix_per_meter = distance_meter/ distance_pixel\n",
    "\n",
    "# distance_point = "
   ]
  },
  {
   "cell_type": "code",
   "execution_count": 194,
   "id": "b61d9de0-b249-40dc-924d-930d56d73db7",
   "metadata": {},
   "outputs": [
    {
     "data": {
      "text/plain": [
       "157.0378008507845"
      ]
     },
     "execution_count": 194,
     "metadata": {},
     "output_type": "execute_result"
    }
   ],
   "source": [
    "4.111392175501509 / pix_per_meter"
   ]
  },
  {
   "cell_type": "code",
   "execution_count": 186,
   "id": "53625ca5-48ed-422d-acd4-741453accdf1",
   "metadata": {},
   "outputs": [
    {
     "data": {
      "text/plain": [
       "42.0"
      ]
     },
     "execution_count": 186,
     "metadata": {},
     "output_type": "execute_result"
    }
   ],
   "source": [
    "distance_meter / pix_per_meter"
   ]
  },
  {
   "cell_type": "code",
   "execution_count": 171,
   "id": "5e9af428-4cfd-4ab6-b363-e1cfe412e184",
   "metadata": {},
   "outputs": [
    {
     "data": {
      "text/plain": [
       "9.4868"
      ]
     },
     "execution_count": 171,
     "metadata": {},
     "output_type": "execute_result"
    }
   ],
   "source": [
    "distance_meter"
   ]
  },
  {
   "cell_type": "code",
   "execution_count": 164,
   "id": "2ce084a3-8562-4f31-ba79-48915f43e5d8",
   "metadata": {},
   "outputs": [
    {
     "data": {
      "text/plain": [
       "25"
      ]
     },
     "execution_count": 164,
     "metadata": {},
     "output_type": "execute_result"
    }
   ],
   "source": [
    "round(24.52)"
   ]
  },
  {
   "cell_type": "code",
   "execution_count": 176,
   "id": "28b8a6b4-eb11-4dd6-8ade-7ab05b2c8a10",
   "metadata": {},
   "outputs": [
    {
     "data": {
      "text/plain": [
       "6"
      ]
     },
     "execution_count": 176,
     "metadata": {},
     "output_type": "execute_result"
    }
   ],
   "source": [
    "round((0.00171 - 0.00165)*10e4)"
   ]
  },
  {
   "cell_type": "code",
   "execution_count": 223,
   "id": "924fb922-f46c-4435-853d-e233c315c572",
   "metadata": {},
   "outputs": [
    {
     "data": {
      "text/plain": [
       "38.19577265981175"
      ]
     },
     "execution_count": 223,
     "metadata": {},
     "output_type": "execute_result"
    }
   ],
   "source": [
    "1/pix_per_meter"
   ]
  },
  {
   "cell_type": "code",
   "execution_count": 217,
   "id": "04b86f3d-d92a-41b0-a117-f2f0a963e9b6",
   "metadata": {},
   "outputs": [
    {
     "data": {
      "text/plain": [
       "551"
      ]
     },
     "execution_count": 217,
     "metadata": {},
     "output_type": "execute_result"
    }
   ],
   "source": [
    "round((abs(dis_x)/pix_per_meter)/3)"
   ]
  },
  {
   "cell_type": "code",
   "execution_count": 216,
   "id": "c34b3fd5-7968-4cd3-aa19-d047c42c53a1",
   "metadata": {},
   "outputs": [
    {
     "data": {
      "text/plain": [
       "551"
      ]
     },
     "execution_count": 216,
     "metadata": {},
     "output_type": "execute_result"
    }
   ],
   "source": [
    "round(1651.5144920527446/3)"
   ]
  },
  {
   "cell_type": "code",
   "execution_count": null,
   "id": "348ffbac-7e19-4c98-82e8-84d348b75444",
   "metadata": {},
   "outputs": [],
   "source": [
    "[latitude: 17.000956] [longitude: 80.000040] [altitude: 44.300000]\n",
    "[latitude: 17.000965] [longitude: 80.000043] [altitude: 44.300000]"
   ]
  },
  {
   "cell_type": "code",
   "execution_count": 241,
   "id": "c4f61322-a3fb-490a-9e4d-3f999576b962",
   "metadata": {},
   "outputs": [
    {
     "name": "stdout",
     "output_type": "stream",
     "text": [
      "8905563.716241518 1920936.3246767242\n"
     ]
    }
   ],
   "source": [
    "print(new_df.geometry[10].x , new_df.geometry[10].y)"
   ]
  },
  {
   "cell_type": "code",
   "execution_count": 243,
   "id": "098465b9-23af-4621-856b-bdc27fc0c8a1",
   "metadata": {},
   "outputs": [
    {
     "name": "stdout",
     "output_type": "stream",
     "text": [
      "8905733.144506505 1923939.8184056834\n"
     ]
    }
   ],
   "source": [
    "print(new_df.geometry[299].x , new_df.geometry[299].y)"
   ]
  },
  {
   "cell_type": "code",
   "execution_count": 247,
   "id": "367cf278-75cc-4447-afe3-34ffff48b2eb",
   "metadata": {},
   "outputs": [
    {
     "data": {
      "text/plain": [
       "10.06104135712095"
      ]
     },
     "execution_count": 247,
     "metadata": {},
     "output_type": "execute_result"
    }
   ],
   "source": [
    "2917.701993565075/290"
   ]
  },
  {
   "cell_type": "code",
   "execution_count": null,
   "id": "7251c244-96f7-4d33-8ad6-f0f4f94fb1f0",
   "metadata": {},
   "outputs": [],
   "source": [
    "8905847.914901514\n",
    "\n",
    "1923939.8184056834"
   ]
  },
  {
   "cell_type": "code",
   "execution_count": null,
   "id": "2f1854fe-afdc-4782-af44-59a9c371870f",
   "metadata": {},
   "outputs": [],
   "source": []
  },
  {
   "cell_type": "code",
   "execution_count": null,
   "id": "6f6faa0c-1034-4524-ad41-70e476ec63d4",
   "metadata": {},
   "outputs": [],
   "source": [
    "119 -> 13.092111434787512"
   ]
  },
  {
   "cell_type": "code",
   "execution_count": 295,
   "id": "7da95d7c-5005-40c4-9eef-56bbd743f3d2",
   "metadata": {},
   "outputs": [
    {
     "data": {
      "text/plain": [
       "0.11001774314947489"
      ]
     },
     "execution_count": 295,
     "metadata": {},
     "output_type": "execute_result"
    }
   ],
   "source": [
    "13.092111434787512/119"
   ]
  },
  {
   "cell_type": "code",
   "execution_count": null,
   "id": "5e89b2c1-af7d-4fe7-8815-fcacd58f02b4",
   "metadata": {},
   "outputs": [],
   "source": [
    "42 -> 1.0995981250090254"
   ]
  },
  {
   "cell_type": "code",
   "execution_count": 296,
   "id": "e1bda43e-a687-4adf-abae-2616362e8e30",
   "metadata": {},
   "outputs": [
    {
     "data": {
      "text/plain": [
       "0.026180907738310128"
      ]
     },
     "execution_count": 296,
     "metadata": {},
     "output_type": "execute_result"
    }
   ],
   "source": [
    "1.0995981250090254/42"
   ]
  },
  {
   "cell_type": "code",
   "execution_count": 318,
   "id": "eb41ff5d-9ef5-4e99-9870-89fd45fb9f5e",
   "metadata": {},
   "outputs": [
    {
     "data": {
      "text/plain": [
       "313"
      ]
     },
     "execution_count": 318,
     "metadata": {},
     "output_type": "execute_result"
    }
   ],
   "source": [
    "355 -> 13.092111434787512"
   ]
  },
  {
   "cell_type": "code",
   "execution_count": null,
   "id": "128199e1-96c8-43f2-bc37-f4b4fefbfe5f",
   "metadata": {},
   "outputs": [],
   "source": [
    "316 -> 12.94254894182086"
   ]
  },
  {
   "cell_type": "code",
   "execution_count": 299,
   "id": "ff5ce53d-169d-4e6b-82ff-667ce5c348c9",
   "metadata": {},
   "outputs": [
    {
     "data": {
      "text/plain": [
       "11.992513309778486"
      ]
     },
     "execution_count": 299,
     "metadata": {},
     "output_type": "execute_result"
    }
   ],
   "source": [
    "13.092111434787512 - 1.0995981250090254"
   ]
  },
  {
   "cell_type": "code",
   "execution_count": 319,
   "id": "9ebc8f01-b3ac-44cc-9f18-d25079c11150",
   "metadata": {},
   "outputs": [
    {
     "data": {
      "text/plain": [
       "26.099616645393695"
      ]
     },
     "execution_count": 319,
     "metadata": {},
     "output_type": "execute_result"
    }
   ],
   "source": [
    "313/11.992513309778486"
   ]
  },
  {
   "cell_type": "code",
   "execution_count": 303,
   "id": "670d207d-0cd7-431c-825e-fe275d3200ac",
   "metadata": {},
   "outputs": [
    {
     "data": {
      "text/plain": [
       "13.092111434787512"
      ]
     },
     "execution_count": 303,
     "metadata": {},
     "output_type": "execute_result"
    }
   ],
   "source": [
    "1.0995981250090254 + 0.1557469261010193*77"
   ]
  },
  {
   "cell_type": "code",
   "execution_count": 306,
   "id": "3812f2b3-70e4-421a-91f0-b34facecf272",
   "metadata": {},
   "outputs": [
    {
     "data": {
      "text/plain": [
       "119.0"
      ]
     },
     "execution_count": 306,
     "metadata": {},
     "output_type": "execute_result"
    }
   ],
   "source": [
    "6.420672465480238*11.992513309778486 + 42"
   ]
  },
  {
   "cell_type": "code",
   "execution_count": 308,
   "id": "5787b35f-68a4-4243-918e-fc9644f01ba2",
   "metadata": {},
   "outputs": [
    {
     "data": {
      "text/plain": [
       "1.2841344930960477"
      ]
     },
     "execution_count": 308,
     "metadata": {},
     "output_type": "execute_result"
    }
   ],
   "source": [
    "6.420672465480238"
   ]
  },
  {
   "cell_type": "code",
   "execution_count": 322,
   "id": "46679932-d1d5-4322-b015-faea0b946c1a",
   "metadata": {},
   "outputs": [
    {
     "data": {
      "text/plain": [
       "260.76056387142376"
      ]
     },
     "execution_count": 322,
     "metadata": {},
     "output_type": "execute_result"
    }
   ],
   "source": [
    "(355 - 316)/(13.092111434787512-12.94254894182086)"
   ]
  },
  {
   "cell_type": "code",
   "execution_count": 323,
   "id": "c23fd1be-cc95-4f6d-938a-7f790631cab7",
   "metadata": {},
   "outputs": [
    {
     "data": {
      "text/plain": [
       "0.14956249296665192"
      ]
     },
     "execution_count": 323,
     "metadata": {},
     "output_type": "execute_result"
    }
   ],
   "source": [
    "13.092111434787512-12.94254894182086"
   ]
  },
  {
   "cell_type": "code",
   "execution_count": 324,
   "id": "da4596c4-baa7-4b11-806d-b8b05510e995",
   "metadata": {},
   "outputs": [
    {
     "data": {
      "text/plain": [
       "39.0"
      ]
     },
     "execution_count": 324,
     "metadata": {},
     "output_type": "execute_result"
    }
   ],
   "source": [
    "0.14956249296665192 * 260.76056387142376"
   ]
  },
  {
   "cell_type": "code",
   "execution_count": null,
   "id": "204302b5-2c59-45db-8f89-e2e78b2637bc",
   "metadata": {},
   "outputs": [],
   "source": [
    "12.871626202017069"
   ]
  }
 ],
 "metadata": {
  "kernelspec": {
   "display_name": "Python 3 (ipykernel)",
   "language": "python",
   "name": "python3"
  },
  "language_info": {
   "codemirror_mode": {
    "name": "ipython",
    "version": 3
   },
   "file_extension": ".py",
   "mimetype": "text/x-python",
   "name": "python",
   "nbconvert_exporter": "python",
   "pygments_lexer": "ipython3",
   "version": "3.8.13"
  }
 },
 "nbformat": 4,
 "nbformat_minor": 5
}
