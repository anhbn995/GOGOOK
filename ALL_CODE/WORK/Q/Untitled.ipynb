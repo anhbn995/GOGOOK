{
 "cells": [
  {
   "cell_type": "code",
   "execution_count": 1,
   "id": "84139d8d-384b-4679-8048-46dcfe1ad589",
   "metadata": {},
   "outputs": [
    {
     "name": "stdout",
     "output_type": "stream",
     "text": [
      "GEOGCS[\"WGS 84\",DATUM[\"World Geodetic System 1984\",SPHEROID[\"WGS 84\",6378137,298.257223563]],PRIMEM[\"Greenwich\",0],UNIT[\"degree\",0.0174532925199433,AUTHORITY[\"EPSG\",\"9122\"]],AXIS[\"Latitude\",NORTH],AXIS[\"Longitude\",EAST]]\n"
     ]
    },
    {
     "name": "stderr",
     "output_type": "stream",
     "text": [
      "ERROR 1: PROJ: proj_identify: Cannot find proj.db\n"
     ]
    }
   ],
   "source": [
    "import rasterio\n",
    "path = r\"/home/skm/SKM16/Data/ZZ/img/S2A_MSIL1C_20210301T031641_N0209_R118_T48NUG_20210301T062115.tif\"\n",
    "src = rasterio.open(path)\n",
    "print(src.crs)"
   ]
  },
  {
   "cell_type": "code",
   "execution_count": 2,
   "id": "e0e1a55e",
   "metadata": {},
   "outputs": [
    {
     "name": "stdout",
     "output_type": "stream",
     "text": [
      "GEOGCS[\"WGS 84\",DATUM[\"WGS_1984\",SPHEROID[\"WGS 84\",6378137,298.257223563,AUTHORITY[\"EPSG\",\"7030\"]],AUTHORITY[\"EPSG\",\"6326\"]],PRIMEM[\"Greenwich\",0],UNIT[\"Degree\",0.0174532925199433],AXIS[\"Longitude\",EAST],AXIS[\"Latitude\",NORTH]] zzzzzzzzzzzzzzz\n"
     ]
    },
    {
     "name": "stderr",
     "output_type": "stream",
     "text": [
      "/home/skm/anaconda3/envs/tmpp/lib/python3.8/site-packages/geopandas/array.py:93: ShapelyDeprecationWarning: __len__ for multi-part geometries is deprecated and will be removed in Shapely 2.0. Check the length of the `geoms` property instead to get the  number of parts of a multi-part geometry.\n",
      "  aout[:] = out\n"
     ]
    }
   ],
   "source": [
    "import geopandas as gpd\n",
    "df = gpd.read_file(r\"/home/skm/SKM16/Data/ZZ/label/S2A_MSIL1C_20210301T031641_N0209_R118_T48NUG_20210301T062115.shp\")\n",
    "print(df.crs.to_string(), \"zzzzzzzzzzzzzzz\")"
   ]
  },
  {
   "cell_type": "code",
   "execution_count": 8,
   "id": "79f1f4d5",
   "metadata": {},
   "outputs": [
    {
     "ename": "TypeError",
     "evalue": "from_epsg() missing 1 required positional argument: 'code'",
     "output_type": "error",
     "traceback": [
      "\u001b[0;31m---------------------------------------------------------------------------\u001b[0m",
      "\u001b[0;31mTypeError\u001b[0m                                 Traceback (most recent call last)",
      "\u001b[0;32m<ipython-input-8-3fd502416dc5>\u001b[0m in \u001b[0;36m<module>\u001b[0;34m\u001b[0m\n\u001b[0;32m----> 1\u001b[0;31m \u001b[0mdf\u001b[0m\u001b[0;34m.\u001b[0m\u001b[0mcrs\u001b[0m\u001b[0;34m.\u001b[0m\u001b[0mfrom_epsg\u001b[0m\u001b[0;34m(\u001b[0m\u001b[0;34m)\u001b[0m\u001b[0;34m\u001b[0m\u001b[0m\n\u001b[0m",
      "\u001b[0;31mTypeError\u001b[0m: from_epsg() missing 1 required positional argument: 'code'"
     ]
    }
   ],
   "source": [
    "df.crs.from_epsg()"
   ]
  },
  {
   "cell_type": "code",
   "execution_count": 4,
   "id": "636a0949",
   "metadata": {},
   "outputs": [],
   "source": [
    "from pyproj import CRS"
   ]
  },
  {
   "cell_type": "code",
   "execution_count": null,
   "id": "1f5f1133",
   "metadata": {},
   "outputs": [],
   "source": []
  }
 ],
 "metadata": {
  "kernelspec": {
   "display_name": "Python 3.8.5 ('test')",
   "language": "python",
   "name": "python3"
  },
  "language_info": {
   "codemirror_mode": {
    "name": "ipython",
    "version": 3
   },
   "file_extension": ".py",
   "mimetype": "text/x-python",
   "name": "python",
   "nbconvert_exporter": "python",
   "pygments_lexer": "ipython3",
   "version": "3.8.5"
  },
  "vscode": {
   "interpreter": {
    "hash": "a5d32f12062862957ed1aae73e07814a88fddcce04d921f0510135835c07ff0d"
   }
  }
 },
 "nbformat": 4,
 "nbformat_minor": 5
}
