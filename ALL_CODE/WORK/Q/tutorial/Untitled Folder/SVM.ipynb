{
 "cells": [
  {
   "cell_type": "code",
   "execution_count": 279,
   "id": "f8fe74d0-a2b2-4639-9961-6a91eff39fb3",
   "metadata": {},
   "outputs": [],
   "source": [
    "from __future__ import print_function\n",
    "import numpy as np \n",
    "import matplotlib.pyplot as plt\n",
    "from scipy.spatial.distance import cdist\n",
    "np.random.seed(22)\n",
    "\n",
    "means = [[2, 2], [4, 2]]\n",
    "cov = [[.3, .2], [.2, .3]]\n",
    "N = 10\n",
    "X0 = np.random.multivariate_normal(means[0], cov, N) # class 1\n",
    "X1 = np.random.multivariate_normal(means[1], cov, N) # class -1 \n",
    "X = np.concatenate((X0.T, X1.T), axis = 1) # all data \n",
    "y = np.concatenate((np.ones((1, N)), -1*np.ones((1, N))), axis = 1) # labels "
   ]
  },
  {
   "cell_type": "code",
   "execution_count": 280,
   "id": "9a288cee-81da-4d58-87ae-87f5fb099f23",
   "metadata": {},
   "outputs": [
    {
     "data": {
      "text/plain": [
       "array([[2.37319011, 1.51261889, 2.4696794 , 1.78736889, 1.81231157,\n",
       "        2.03717355, 1.53790057, 2.29312867, 1.38805594, 1.57279694,\n",
       "        3.42746579, 4.24760864, 3.33595491, 3.69420104, 4.53897645,\n",
       "        3.3071994 , 4.13924705, 4.47383468, 4.00512009, 4.28205624],\n",
       "       [1.71875981, 1.40558943, 2.02144973, 1.29380961, 1.56119497,\n",
       "        1.93397133, 1.87434722, 2.76537389, 1.86419379, 0.90707347,\n",
       "        0.71254431, 2.39846497, 1.61731637, 1.94273986, 2.54957308,\n",
       "        0.19362396, 2.09561534, 2.41269466, 1.89290099, 1.79675607]])"
      ]
     },
     "execution_count": 280,
     "metadata": {},
     "output_type": "execute_result"
    }
   ],
   "source": [
    "X"
   ]
  },
  {
   "cell_type": "code",
   "execution_count": 281,
   "id": "1c8b8079-a2f9-448b-acd6-deaf7eebaa41",
   "metadata": {},
   "outputs": [
    {
     "data": {
      "text/plain": [
       "array([[ 1.,  1.,  1.,  1.,  1.,  1.,  1.,  1.,  1.,  1., -1., -1., -1.,\n",
       "        -1., -1., -1., -1., -1., -1., -1.]])"
      ]
     },
     "execution_count": 281,
     "metadata": {},
     "output_type": "execute_result"
    }
   ],
   "source": [
    "y"
   ]
  },
  {
   "cell_type": "code",
   "execution_count": 282,
   "id": "de961bf3-4927-4988-a6e2-4828b293aa36",
   "metadata": {},
   "outputs": [
    {
     "name": "stdout",
     "output_type": "stream",
     "text": [
      "     pcost       dcost       gap    pres   dres\n",
      " 0: -1.9286e+00 -4.1878e+00  4e+01  6e+00  2e+00\n",
      " 1: -1.6207e+00 -3.2517e+00  3e+00  3e-01  8e-02\n",
      " 2: -2.0082e+00 -2.2760e+00  4e-01  3e-02  8e-03\n",
      " 3: -2.2149e+00 -2.2294e+00  2e-02  1e-03  3e-04\n",
      " 4: -2.2249e+00 -2.2250e+00  2e-04  1e-05  3e-06\n",
      " 5: -2.2250e+00 -2.2250e+00  2e-06  1e-07  3e-08\n",
      " 6: -2.2250e+00 -2.2250e+00  2e-08  1e-09  3e-10\n",
      "Optimal solution found.\n",
      "lambda = \n",
      "[[8.54018321e-01 2.89132533e-10 1.37095535e+00 6.36030818e-10\n",
      "  4.04317408e-10 8.82390106e-10 6.35001881e-10 5.49567576e-10\n",
      "  8.33359230e-10 1.20982928e-10 6.86678649e-10 1.25039745e-10\n",
      "  2.22497367e+00 4.05417905e-09 1.26763684e-10 1.99008949e-10\n",
      "  2.13742578e-10 1.51537487e-10 3.75329509e-10 3.56161975e-10]]\n"
     ]
    }
   ],
   "source": [
    "from cvxopt import matrix, solvers\n",
    "# build K\n",
    "V = np.concatenate((X0.T, -X1.T), axis = 1)\n",
    "K = matrix(V.T.dot(V)) # see definition of V, K near eq (8)\n",
    "\n",
    "p = matrix(-np.ones((2*N, 1))) # all-one vector \n",
    "# build A, b, G, h \n",
    "G = matrix(-np.eye(2*N)) # for all lambda_n >= 0\n",
    "h = matrix(np.zeros((2*N, 1)))\n",
    "A = matrix(y) # the equality constrain is actually y^T lambda = 0\n",
    "b = matrix(np.zeros((1, 1))) \n",
    "solvers.options['show_progress'] = True\n",
    "sol = solvers.qp(K, p, G, h, A, b)\n",
    "\n",
    "l = np.array(sol['x'])\n",
    "print('lambda = ')\n",
    "print(l.T)"
   ]
  },
  {
   "cell_type": "code",
   "execution_count": 283,
   "id": "c087017d-acf9-43cd-8e95-c325e5e8bdf0",
   "metadata": {},
   "outputs": [
    {
     "name": "stdout",
     "output_type": "stream",
     "text": [
      "w =  [[-2.00984381  0.64068336]]\n",
      "b =  4.668560633868159\n"
     ]
    }
   ],
   "source": [
    "epsilon = 1e-6 # just a small number, greater than 1e-9\n",
    "S = np.where(l > epsilon)[0]\n",
    "\n",
    "VS = V[:, S]\n",
    "XS = X[:, S]\n",
    "yS = y[:, S]\n",
    "lS = l[S]\n",
    "# calculate w and b\n",
    "w = VS.dot(lS)\n",
    "b = np.mean(yS.T - w.T.dot(XS))\n",
    "\n",
    "print('w = ', w.T)\n",
    "print('b = ', b)"
   ]
  },
  {
   "cell_type": "code",
   "execution_count": null,
   "id": "6da248b0-64c3-465a-895e-54bc9f22dee3",
   "metadata": {},
   "outputs": [],
   "source": []
  },
  {
   "cell_type": "code",
   "execution_count": 284,
   "id": "b402d273-09d5-411a-809d-e0f93ef3296f",
   "metadata": {},
   "outputs": [
    {
     "name": "stdout",
     "output_type": "stream",
     "text": [
      "Features:  ['mean radius' 'mean texture' 'mean perimeter' 'mean area'\n",
      " 'mean smoothness' 'mean compactness' 'mean concavity'\n",
      " 'mean concave points' 'mean symmetry' 'mean fractal dimension'\n",
      " 'radius error' 'texture error' 'perimeter error' 'area error'\n",
      " 'smoothness error' 'compactness error' 'concavity error'\n",
      " 'concave points error' 'symmetry error' 'fractal dimension error'\n",
      " 'worst radius' 'worst texture' 'worst perimeter' 'worst area'\n",
      " 'worst smoothness' 'worst compactness' 'worst concavity'\n",
      " 'worst concave points' 'worst symmetry' 'worst fractal dimension']\n",
      "Labels:  ['malignant' 'benign']\n"
     ]
    }
   ],
   "source": [
    "#Import scikit-learn dataset library\n",
    "from sklearn import datasets\n",
    "# Import train_test_split function\n",
    "from sklearn.model_selection import train_test_split\n",
    "\n",
    "#Load dataset\n",
    "cancer = datasets.load_breast_cancer()\n",
    "\n",
    "# print the names of the 13 features\n",
    "print(\"Features: \", cancer.feature_names)\n",
    "\n",
    "# print the label type of cancer('malignant' 'benign')\n",
    "print(\"Labels: \", cancer.target_names)"
   ]
  },
  {
   "cell_type": "code",
   "execution_count": 285,
   "id": "f98e1e1f-b9b2-45e7-8734-f7582c5e6ca2",
   "metadata": {},
   "outputs": [],
   "source": [
    "X_train, X_test, y_train, y_test = train_test_split(cancer.data, cancer.target, test_size=0.3,random_state=109) # 70% training and 30% test"
   ]
  },
  {
   "cell_type": "code",
   "execution_count": 295,
   "id": "7a88ebf1-d28a-40cd-b66c-a82f7eeb8d1e",
   "metadata": {},
   "outputs": [
    {
     "name": "stdout",
     "output_type": "stream",
     "text": [
      "Accuracy: 0.9649122807017544\n"
     ]
    }
   ],
   "source": [
    "#Import svm model\n",
    "from sklearn import svm\n",
    "\n",
    "#Create a svm Classifier\n",
    "clf = svm.SVC(kernel='linear') # Linear Kernel\n",
    "\n",
    "#Train the model using the training sets\n",
    "clf.fit(X_train, y_train)\n",
    "\n",
    "#Predict the response for test dataset\n",
    "y_pred = clf.predict(X_test)\n",
    "\n",
    "#Import scikit-learn metrics module for accuracy calculation\n",
    "from sklearn import metrics\n",
    "\n",
    "# Model Accuracy: how often is the classifier correct?\n",
    "print(\"Accuracy:\",metrics.accuracy_score(y_test, y_pred))"
   ]
  },
  {
   "cell_type": "code",
   "execution_count": 296,
   "id": "a7606558-95a6-492a-9a61-d2f1b390ccd3",
   "metadata": {},
   "outputs": [
    {
     "name": "stdout",
     "output_type": "stream",
     "text": [
      "Precision: 0.9811320754716981\n",
      "Recall: 0.9629629629629629\n"
     ]
    }
   ],
   "source": [
    "# Model Precision: what percentage of positive tuples are labeled as such?\n",
    "print(\"Precision:\",metrics.precision_score(y_test, y_pred))\n",
    "\n",
    "# Model Recall: what percentage of positive tuples are labelled as such?\n",
    "print(\"Recall:\",metrics.recall_score(y_test, y_pred))"
   ]
  },
  {
   "cell_type": "code",
   "execution_count": 302,
   "id": "ba8d95f2-f6bd-4241-873a-1c9fd0f5b2b7",
   "metadata": {},
   "outputs": [],
   "source": [
    "import math"
   ]
  }
 ],
 "metadata": {
  "kernelspec": {
   "display_name": "Python 3 (ipykernel)",
   "language": "python",
   "name": "python3"
  },
  "language_info": {
   "codemirror_mode": {
    "name": "ipython",
    "version": 3
   },
   "file_extension": ".py",
   "mimetype": "text/x-python",
   "name": "python",
   "nbconvert_exporter": "python",
   "pygments_lexer": "ipython3",
   "version": "3.8.13"
  }
 },
 "nbformat": 4,
 "nbformat_minor": 5
}
