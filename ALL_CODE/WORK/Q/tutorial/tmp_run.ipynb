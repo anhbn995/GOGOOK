{
 "cells": [
  {
   "cell_type": "code",
   "execution_count": 2,
   "metadata": {},
   "outputs": [],
   "source": [
    "import os, glob, rasterio\n",
    "\n",
    "dir_fp = r\"/home/skm/SKM16/Data/green/mask_\"\n",
    "list_fp = glob.glob(os.path.join(dir_fp, '*.tif'))\n",
    "out_dir = r\"/home/skm/SKM16/Data/green/mask\""
   ]
  },
  {
   "cell_type": "code",
   "execution_count": 3,
   "metadata": {},
   "outputs": [
    {
     "name": "stderr",
     "output_type": "stream",
     "text": [
      "ERROR 1: PROJ: proj_create_from_name: /home/skm/anaconda3/envs/tmpp/share/proj/proj.db lacks DATABASE.LAYOUT.VERSION.MAJOR / DATABASE.LAYOUT.VERSION.MINOR metadata. It comes from another PROJ installation.\n",
      "ERROR 1: PROJ: proj_create_from_name: /home/skm/anaconda3/envs/tmpp/share/proj/proj.db lacks DATABASE.LAYOUT.VERSION.MAJOR / DATABASE.LAYOUT.VERSION.MINOR metadata. It comes from another PROJ installation.\n",
      "ERROR 1: PROJ: proj_create_from_name: /home/skm/anaconda3/envs/tmpp/share/proj/proj.db lacks DATABASE.LAYOUT.VERSION.MAJOR / DATABASE.LAYOUT.VERSION.MINOR metadata. It comes from another PROJ installation.\n",
      "ERROR 1: PROJ: proj_create_from_name: /home/skm/anaconda3/envs/tmpp/share/proj/proj.db lacks DATABASE.LAYOUT.VERSION.MAJOR / DATABASE.LAYOUT.VERSION.MINOR metadata. It comes from another PROJ installation.\n"
     ]
    }
   ],
   "source": [
    "for fp in list_fp:\n",
    "    src = rasterio.open(fp)\n",
    "    mask = src.read()\n",
    "    meta = src.meta\n",
    "    out_fp = os.path.join(out_dir, os.path.basename(fp))\n",
    "    with rasterio.open(out_fp, 'w', **meta) as dst:\n",
    "        dst.write(mask/255)"
   ]
  },
  {
   "cell_type": "code",
   "execution_count": null,
   "metadata": {},
   "outputs": [],
   "source": []
  }
 ],
 "metadata": {
  "kernelspec": {
   "display_name": "Python 3.8.13 ('tmpp')",
   "language": "python",
   "name": "python3"
  },
  "language_info": {
   "codemirror_mode": {
    "name": "ipython",
    "version": 3
   },
   "file_extension": ".py",
   "mimetype": "text/x-python",
   "name": "python",
   "nbconvert_exporter": "python",
   "pygments_lexer": "ipython3",
   "version": "3.8.13"
  },
  "orig_nbformat": 4,
  "vscode": {
   "interpreter": {
    "hash": "da7ba9777add05ae4453e38436b53932ae391292d6a3122b5a580e0c8b9d2559"
   }
  }
 },
 "nbformat": 4,
 "nbformat_minor": 2
}
