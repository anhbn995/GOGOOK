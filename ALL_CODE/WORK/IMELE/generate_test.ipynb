{
 "cells": [
  {
   "cell_type": "code",
   "execution_count": 1,
   "id": "93871af7",
   "metadata": {},
   "outputs": [],
   "source": [
    "import rasterio\n",
    "from rasterio.windows import Window\n",
    "\n",
    "imagefile='./test/clip1.tif'\n",
    "outfile='./test/image2.tif'"
   ]
  },
  {
   "cell_type": "code",
   "execution_count": 2,
   "id": "78bac5c8",
   "metadata": {},
   "outputs": [],
   "source": [
    "with rasterio.open(imagefile) as src:\n",
    "    xsize, ysize = 440, 440\n",
    "    \n",
    "    xoff, yoff = (src.width - xsize)//2, (src.height - ysize)//2\n",
    "    \n",
    "    window=Window(xoff, yoff, xsize, ysize)\n",
    "    transform = src.window_transform(window)\n",
    "    \n",
    "    profile = src.profile\n",
    "    profile.update({\n",
    "        'height': ysize,\n",
    "        'width': xsize,\n",
    "        'transform': transform\n",
    "    })\n",
    "    \n",
    "    with rasterio.open(outfile, 'w', **profile) as dst:\n",
    "        dst.write(src.read(window=window))"
   ]
  }
 ],
 "metadata": {
  "kernelspec": {
   "display_name": "Python 3 (ipykernel)",
   "language": "python",
   "name": "python3"
  },
  "language_info": {
   "codemirror_mode": {
    "name": "ipython",
    "version": 3
   },
   "file_extension": ".py",
   "mimetype": "text/x-python",
   "name": "python",
   "nbconvert_exporter": "python",
   "pygments_lexer": "ipython3",
   "version": "3.9.12"
  }
 },
 "nbformat": 4,
 "nbformat_minor": 5
}
