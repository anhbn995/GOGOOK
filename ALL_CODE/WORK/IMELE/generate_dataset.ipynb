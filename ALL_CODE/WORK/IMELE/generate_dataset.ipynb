{
 "cells": [
  {
   "cell_type": "code",
   "execution_count": 1,
   "id": "ed874c89",
   "metadata": {},
   "outputs": [],
   "source": [
    "import os, glob\n",
    "from pathlib import Path\n",
    "\n",
    "datapath='data'\n",
    "heightdir='test_heights_adjust'\n",
    "rgbdir='test_rgbs_base'"
   ]
  },
  {
   "cell_type": "code",
   "execution_count": 7,
   "id": "a9e334ac",
   "metadata": {},
   "outputs": [],
   "source": [
    "rgbpath=os.path.join(datapath, rgbdir)\n",
    "\n",
    "with open('dataset/test_osi1.csv','w') as f:\n",
    "    for rgbfile in glob.glob(os.path.join(rgbpath, '*.tif')):\n",
    "        heightfile=rgbfile.replace(rgbdir, heightdir).replace('.tif','.png').replace('RGB','height')\n",
    "        f.write(rgbfile+','+heightfile+'\\n')\n",
    "    "
   ]
  }
 ],
 "metadata": {
  "kernelspec": {
   "display_name": "Python 3 (ipykernel)",
   "language": "python",
   "name": "python3"
  },
  "language_info": {
   "codemirror_mode": {
    "name": "ipython",
    "version": 3
   },
   "file_extension": ".py",
   "mimetype": "text/x-python",
   "name": "python",
   "nbconvert_exporter": "python",
   "pygments_lexer": "ipython3",
   "version": "3.9.12"
  }
 },
 "nbformat": 4,
 "nbformat_minor": 5
}
