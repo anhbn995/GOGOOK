{
 "cells": [
  {
   "cell_type": "code",
   "execution_count": 1,
   "metadata": {},
   "outputs": [
    {
     "data": {
      "application/vnd.jupyter.widget-view+json": {
       "model_id": "0bc204b7a6ad41f1892153c6720d8459",
       "version_major": 2,
       "version_minor": 0
      },
      "text/plain": [
       "  0%|          | 0/92 [00:00<?, ?it/s]"
      ]
     },
     "metadata": {},
     "output_type": "display_data"
    },
    {
     "data": {
      "application/vnd.jupyter.widget-view+json": {
       "model_id": "7ad79054c1524c0b9ae499a02f2fe376",
       "version_major": 2,
       "version_minor": 0
      },
      "text/plain": [
       "Run contour:   0%|          | 0/4087 [00:00<?, ?it/s]"
      ]
     },
     "metadata": {},
     "output_type": "display_data"
    },
    {
     "data": {
      "application/vnd.jupyter.widget-view+json": {
       "model_id": "fd9c02d65b474844b60fa4f35b902b3c",
       "version_major": 2,
       "version_minor": 0
      },
      "text/plain": [
       "Run contour:   0%|          | 0/6530 [00:00<?, ?it/s]"
      ]
     },
     "metadata": {},
     "output_type": "display_data"
    },
    {
     "data": {
      "application/vnd.jupyter.widget-view+json": {
       "model_id": "ff8f97a2b6124b0793a452d3fe10f81e",
       "version_major": 2,
       "version_minor": 0
      },
      "text/plain": [
       "Run contour:   0%|          | 0/1395 [00:00<?, ?it/s]"
      ]
     },
     "metadata": {},
     "output_type": "display_data"
    },
    {
     "data": {
      "application/vnd.jupyter.widget-view+json": {
       "model_id": "36fdf1d973714d1f911c6af20d1e2e30",
       "version_major": 2,
       "version_minor": 0
      },
      "text/plain": [
       "Run contour:   0%|          | 0/34 [00:00<?, ?it/s]"
      ]
     },
     "metadata": {},
     "output_type": "display_data"
    },
    {
     "data": {
      "application/vnd.jupyter.widget-view+json": {
       "model_id": "26efbbcd916240ea8918d75df6a2e9b6",
       "version_major": 2,
       "version_minor": 0
      },
      "text/plain": [
       "Run contour:   0%|          | 0/7005 [00:00<?, ?it/s]"
      ]
     },
     "metadata": {},
     "output_type": "display_data"
    },
    {
     "data": {
      "application/vnd.jupyter.widget-view+json": {
       "model_id": "af45a2a1fae94011a9e3d518522a6b6c",
       "version_major": 2,
       "version_minor": 0
      },
      "text/plain": [
       "Run contour:   0%|          | 0/4151 [00:00<?, ?it/s]"
      ]
     },
     "metadata": {},
     "output_type": "display_data"
    },
    {
     "data": {
      "application/vnd.jupyter.widget-view+json": {
       "model_id": "2f5099a7fe7e4efeb9aeb8ba9c91b915",
       "version_major": 2,
       "version_minor": 0
      },
      "text/plain": [
       "Run contour:   0%|          | 0/39 [00:00<?, ?it/s]"
      ]
     },
     "metadata": {},
     "output_type": "display_data"
    },
    {
     "data": {
      "application/vnd.jupyter.widget-view+json": {
       "model_id": "7e91b14e927f48818af337c310910ae1",
       "version_major": 2,
       "version_minor": 0
      },
      "text/plain": [
       "Run contour:   0%|          | 0/670 [00:00<?, ?it/s]"
      ]
     },
     "metadata": {},
     "output_type": "display_data"
    },
    {
     "data": {
      "application/vnd.jupyter.widget-view+json": {
       "model_id": "bb50579c9da743688b4f99d322ca673a",
       "version_major": 2,
       "version_minor": 0
      },
      "text/plain": [
       "Run contour:   0%|          | 0/718 [00:00<?, ?it/s]"
      ]
     },
     "metadata": {},
     "output_type": "display_data"
    },
    {
     "data": {
      "application/vnd.jupyter.widget-view+json": {
       "model_id": "de3933d3022e46e39a359e274995f3e8",
       "version_major": 2,
       "version_minor": 0
      },
      "text/plain": [
       "Run contour:   0%|          | 0/4568 [00:00<?, ?it/s]"
      ]
     },
     "metadata": {},
     "output_type": "display_data"
    },
    {
     "data": {
      "application/vnd.jupyter.widget-view+json": {
       "model_id": "8f5c40879ee846d996caa8e6c8fd5d62",
       "version_major": 2,
       "version_minor": 0
      },
      "text/plain": [
       "Run contour:   0%|          | 0/1700 [00:00<?, ?it/s]"
      ]
     },
     "metadata": {},
     "output_type": "display_data"
    },
    {
     "data": {
      "application/vnd.jupyter.widget-view+json": {
       "model_id": "e4cedd7a51d64fcd89ba13df95f91e3d",
       "version_major": 2,
       "version_minor": 0
      },
      "text/plain": [
       "Run contour:   0%|          | 0/383 [00:00<?, ?it/s]"
      ]
     },
     "metadata": {},
     "output_type": "display_data"
    },
    {
     "data": {
      "application/vnd.jupyter.widget-view+json": {
       "model_id": "c6cfea8ebd7b45aa9617bbe3f589df9d",
       "version_major": 2,
       "version_minor": 0
      },
      "text/plain": [
       "Run contour:   0%|          | 0/353 [00:00<?, ?it/s]"
      ]
     },
     "metadata": {},
     "output_type": "display_data"
    },
    {
     "data": {
      "application/vnd.jupyter.widget-view+json": {
       "model_id": "f432e3793eb14a42b7997d50b6226cd6",
       "version_major": 2,
       "version_minor": 0
      },
      "text/plain": [
       "Run contour:   0%|          | 0/516 [00:00<?, ?it/s]"
      ]
     },
     "metadata": {},
     "output_type": "display_data"
    },
    {
     "data": {
      "application/vnd.jupyter.widget-view+json": {
       "model_id": "55828d5aa9b6415cbc2c9b904c7103db",
       "version_major": 2,
       "version_minor": 0
      },
      "text/plain": [
       "Run contour:   0%|          | 0/1490 [00:00<?, ?it/s]"
      ]
     },
     "metadata": {},
     "output_type": "display_data"
    },
    {
     "data": {
      "application/vnd.jupyter.widget-view+json": {
       "model_id": "f72a9b0ed49444f6961117bc67a7ce8e",
       "version_major": 2,
       "version_minor": 0
      },
      "text/plain": [
       "Run contour:   0%|          | 0/3107 [00:00<?, ?it/s]"
      ]
     },
     "metadata": {},
     "output_type": "display_data"
    },
    {
     "data": {
      "application/vnd.jupyter.widget-view+json": {
       "model_id": "af0470ee0eca42a4856c3de9d212a7c9",
       "version_major": 2,
       "version_minor": 0
      },
      "text/plain": [
       "Run contour:   0%|          | 0/519 [00:00<?, ?it/s]"
      ]
     },
     "metadata": {},
     "output_type": "display_data"
    },
    {
     "data": {
      "application/vnd.jupyter.widget-view+json": {
       "model_id": "ec3969388eba47649a8f0b66f5c21a3f",
       "version_major": 2,
       "version_minor": 0
      },
      "text/plain": [
       "Run contour:   0%|          | 0/641 [00:00<?, ?it/s]"
      ]
     },
     "metadata": {},
     "output_type": "display_data"
    },
    {
     "data": {
      "application/vnd.jupyter.widget-view+json": {
       "model_id": "17c52d6a01114ce5be4b7d05d1212f9f",
       "version_major": 2,
       "version_minor": 0
      },
      "text/plain": [
       "Run contour:   0%|          | 0/575 [00:00<?, ?it/s]"
      ]
     },
     "metadata": {},
     "output_type": "display_data"
    },
    {
     "data": {
      "application/vnd.jupyter.widget-view+json": {
       "model_id": "b44b860118ec4cc490f28b39e45192f2",
       "version_major": 2,
       "version_minor": 0
      },
      "text/plain": [
       "Run contour:   0%|          | 0/6147 [00:00<?, ?it/s]"
      ]
     },
     "metadata": {},
     "output_type": "display_data"
    },
    {
     "data": {
      "application/vnd.jupyter.widget-view+json": {
       "model_id": "967a70af984f420e8ded742508edec8c",
       "version_major": 2,
       "version_minor": 0
      },
      "text/plain": [
       "Run contour:   0%|          | 0/4815 [00:00<?, ?it/s]"
      ]
     },
     "metadata": {},
     "output_type": "display_data"
    },
    {
     "data": {
      "application/vnd.jupyter.widget-view+json": {
       "model_id": "a5bf7e6be08844f5afaae2882f32ef01",
       "version_major": 2,
       "version_minor": 0
      },
      "text/plain": [
       "Run contour:   0%|          | 0/2965 [00:00<?, ?it/s]"
      ]
     },
     "metadata": {},
     "output_type": "display_data"
    },
    {
     "data": {
      "application/vnd.jupyter.widget-view+json": {
       "model_id": "638a75b407cc497aaf4e858c7fb7b902",
       "version_major": 2,
       "version_minor": 0
      },
      "text/plain": [
       "Run contour:   0%|          | 0/12600 [00:00<?, ?it/s]"
      ]
     },
     "metadata": {},
     "output_type": "display_data"
    },
    {
     "data": {
      "application/vnd.jupyter.widget-view+json": {
       "model_id": "6c3b80fb743f43068e91ed27b653c00e",
       "version_major": 2,
       "version_minor": 0
      },
      "text/plain": [
       "Run contour:   0%|          | 0/9924 [00:00<?, ?it/s]"
      ]
     },
     "metadata": {},
     "output_type": "display_data"
    },
    {
     "data": {
      "application/vnd.jupyter.widget-view+json": {
       "model_id": "8b4673cf951142a6942073791fc395e5",
       "version_major": 2,
       "version_minor": 0
      },
      "text/plain": [
       "Run contour:   0%|          | 0/196 [00:00<?, ?it/s]"
      ]
     },
     "metadata": {},
     "output_type": "display_data"
    },
    {
     "data": {
      "application/vnd.jupyter.widget-view+json": {
       "model_id": "57020b40e8cb400983e951f57262f74c",
       "version_major": 2,
       "version_minor": 0
      },
      "text/plain": [
       "Run contour:   0%|          | 0/4246 [00:00<?, ?it/s]"
      ]
     },
     "metadata": {},
     "output_type": "display_data"
    },
    {
     "data": {
      "application/vnd.jupyter.widget-view+json": {
       "model_id": "9f275918c52447aeb5e39fd6be284a13",
       "version_major": 2,
       "version_minor": 0
      },
      "text/plain": [
       "Run contour:   0%|          | 0/2732 [00:00<?, ?it/s]"
      ]
     },
     "metadata": {},
     "output_type": "display_data"
    },
    {
     "data": {
      "application/vnd.jupyter.widget-view+json": {
       "model_id": "9eb15a872dd249c2ade8aff30f4a65c2",
       "version_major": 2,
       "version_minor": 0
      },
      "text/plain": [
       "Run contour:   0%|          | 0/2309 [00:00<?, ?it/s]"
      ]
     },
     "metadata": {},
     "output_type": "display_data"
    },
    {
     "data": {
      "application/vnd.jupyter.widget-view+json": {
       "model_id": "7b32e805425f496a8251006539f763c2",
       "version_major": 2,
       "version_minor": 0
      },
      "text/plain": [
       "Run contour:   0%|          | 0/2426 [00:00<?, ?it/s]"
      ]
     },
     "metadata": {},
     "output_type": "display_data"
    },
    {
     "data": {
      "application/vnd.jupyter.widget-view+json": {
       "model_id": "7ef11bee6169474a8b045fe1f5d6b3e6",
       "version_major": 2,
       "version_minor": 0
      },
      "text/plain": [
       "Run contour:   0%|          | 0/2909 [00:00<?, ?it/s]"
      ]
     },
     "metadata": {},
     "output_type": "display_data"
    },
    {
     "data": {
      "application/vnd.jupyter.widget-view+json": {
       "model_id": "74c3a231e4e64bb4ababbcb0d150c442",
       "version_major": 2,
       "version_minor": 0
      },
      "text/plain": [
       "Run contour:   0%|          | 0/3651 [00:00<?, ?it/s]"
      ]
     },
     "metadata": {},
     "output_type": "display_data"
    },
    {
     "data": {
      "application/vnd.jupyter.widget-view+json": {
       "model_id": "6071ab8f2c844807b424e0ff207925c8",
       "version_major": 2,
       "version_minor": 0
      },
      "text/plain": [
       "Run contour:   0%|          | 0/231 [00:00<?, ?it/s]"
      ]
     },
     "metadata": {},
     "output_type": "display_data"
    },
    {
     "data": {
      "application/vnd.jupyter.widget-view+json": {
       "model_id": "e3b1ff04b9074e0f9298ef0166d729e9",
       "version_major": 2,
       "version_minor": 0
      },
      "text/plain": [
       "Run contour:   0%|          | 0/3351 [00:00<?, ?it/s]"
      ]
     },
     "metadata": {},
     "output_type": "display_data"
    },
    {
     "data": {
      "application/vnd.jupyter.widget-view+json": {
       "model_id": "f6ac3da837c14eea9aa6a04d9c478375",
       "version_major": 2,
       "version_minor": 0
      },
      "text/plain": [
       "Run contour:   0%|          | 0/3983 [00:00<?, ?it/s]"
      ]
     },
     "metadata": {},
     "output_type": "display_data"
    },
    {
     "data": {
      "application/vnd.jupyter.widget-view+json": {
       "model_id": "c55f339cf227422f87b1ceaf4077c0dc",
       "version_major": 2,
       "version_minor": 0
      },
      "text/plain": [
       "Run contour:   0%|          | 0/4967 [00:00<?, ?it/s]"
      ]
     },
     "metadata": {},
     "output_type": "display_data"
    },
    {
     "data": {
      "application/vnd.jupyter.widget-view+json": {
       "model_id": "d7b6b39304954ae2bf44e8da4294d4ae",
       "version_major": 2,
       "version_minor": 0
      },
      "text/plain": [
       "Run contour:   0%|          | 0/1724 [00:00<?, ?it/s]"
      ]
     },
     "metadata": {},
     "output_type": "display_data"
    },
    {
     "data": {
      "application/vnd.jupyter.widget-view+json": {
       "model_id": "6cbd991632594cde9596fd55f15960d4",
       "version_major": 2,
       "version_minor": 0
      },
      "text/plain": [
       "Run contour:   0%|          | 0/2856 [00:00<?, ?it/s]"
      ]
     },
     "metadata": {},
     "output_type": "display_data"
    },
    {
     "data": {
      "application/vnd.jupyter.widget-view+json": {
       "model_id": "a9e5e7d31a2741239587537a4723bc9d",
       "version_major": 2,
       "version_minor": 0
      },
      "text/plain": [
       "Run contour:   0%|          | 0/1945 [00:00<?, ?it/s]"
      ]
     },
     "metadata": {},
     "output_type": "display_data"
    },
    {
     "data": {
      "application/vnd.jupyter.widget-view+json": {
       "model_id": "7e8ac4c4ff584d71a6e541e0b57d96df",
       "version_major": 2,
       "version_minor": 0
      },
      "text/plain": [
       "Run contour:   0%|          | 0/2047 [00:00<?, ?it/s]"
      ]
     },
     "metadata": {},
     "output_type": "display_data"
    },
    {
     "data": {
      "application/vnd.jupyter.widget-view+json": {
       "model_id": "9ce5b883257e4cc4a4c28b681d41f7eb",
       "version_major": 2,
       "version_minor": 0
      },
      "text/plain": [
       "Run contour:   0%|          | 0/5221 [00:00<?, ?it/s]"
      ]
     },
     "metadata": {},
     "output_type": "display_data"
    },
    {
     "data": {
      "application/vnd.jupyter.widget-view+json": {
       "model_id": "0fe3c7d633844c7fa60b2080f9fc4670",
       "version_major": 2,
       "version_minor": 0
      },
      "text/plain": [
       "Run contour:   0%|          | 0/3092 [00:00<?, ?it/s]"
      ]
     },
     "metadata": {},
     "output_type": "display_data"
    },
    {
     "data": {
      "application/vnd.jupyter.widget-view+json": {
       "model_id": "e0c030c113934153984a44f47348f46c",
       "version_major": 2,
       "version_minor": 0
      },
      "text/plain": [
       "Run contour:   0%|          | 0/4826 [00:00<?, ?it/s]"
      ]
     },
     "metadata": {},
     "output_type": "display_data"
    },
    {
     "data": {
      "application/vnd.jupyter.widget-view+json": {
       "model_id": "f02d558f6d9f467981b3a63db4b7903f",
       "version_major": 2,
       "version_minor": 0
      },
      "text/plain": [
       "Run contour:   0%|          | 0/2725 [00:00<?, ?it/s]"
      ]
     },
     "metadata": {},
     "output_type": "display_data"
    },
    {
     "data": {
      "application/vnd.jupyter.widget-view+json": {
       "model_id": "5c132296eecb4aabbd868b2061d4f220",
       "version_major": 2,
       "version_minor": 0
      },
      "text/plain": [
       "Run contour:   0%|          | 0/7598 [00:00<?, ?it/s]"
      ]
     },
     "metadata": {},
     "output_type": "display_data"
    },
    {
     "data": {
      "application/vnd.jupyter.widget-view+json": {
       "model_id": "7f33227af7484424a91ae99917aeac2a",
       "version_major": 2,
       "version_minor": 0
      },
      "text/plain": [
       "Run contour:   0%|          | 0/3148 [00:00<?, ?it/s]"
      ]
     },
     "metadata": {},
     "output_type": "display_data"
    },
    {
     "data": {
      "application/vnd.jupyter.widget-view+json": {
       "model_id": "976683c588bc40699ab94de8518a74ec",
       "version_major": 2,
       "version_minor": 0
      },
      "text/plain": [
       "Run contour:   0%|          | 0/1848 [00:00<?, ?it/s]"
      ]
     },
     "metadata": {},
     "output_type": "display_data"
    },
    {
     "data": {
      "application/vnd.jupyter.widget-view+json": {
       "model_id": "c7a5e3c485e94774bc648b001e0a96e3",
       "version_major": 2,
       "version_minor": 0
      },
      "text/plain": [
       "Run contour:   0%|          | 0/1777 [00:00<?, ?it/s]"
      ]
     },
     "metadata": {},
     "output_type": "display_data"
    },
    {
     "data": {
      "application/vnd.jupyter.widget-view+json": {
       "model_id": "88dcc512ec5947cbbe9a39f3389268db",
       "version_major": 2,
       "version_minor": 0
      },
      "text/plain": [
       "Run contour:   0%|          | 0/727 [00:00<?, ?it/s]"
      ]
     },
     "metadata": {},
     "output_type": "display_data"
    },
    {
     "data": {
      "application/vnd.jupyter.widget-view+json": {
       "model_id": "7d7e995011bc4b19b53dd90d599f28f9",
       "version_major": 2,
       "version_minor": 0
      },
      "text/plain": [
       "Run contour:   0%|          | 0/25 [00:00<?, ?it/s]"
      ]
     },
     "metadata": {},
     "output_type": "display_data"
    },
    {
     "data": {
      "application/vnd.jupyter.widget-view+json": {
       "model_id": "c16dbdbb1a0a4339834f36ae411af7ca",
       "version_major": 2,
       "version_minor": 0
      },
      "text/plain": [
       "Run contour:   0%|          | 0/818 [00:00<?, ?it/s]"
      ]
     },
     "metadata": {},
     "output_type": "display_data"
    },
    {
     "data": {
      "application/vnd.jupyter.widget-view+json": {
       "model_id": "45f8f5e22ad24f65b97fed51959f3cf6",
       "version_major": 2,
       "version_minor": 0
      },
      "text/plain": [
       "Run contour:   0%|          | 0/61 [00:00<?, ?it/s]"
      ]
     },
     "metadata": {},
     "output_type": "display_data"
    },
    {
     "data": {
      "application/vnd.jupyter.widget-view+json": {
       "model_id": "0c560a35ef804543b187630b91d7f4a8",
       "version_major": 2,
       "version_minor": 0
      },
      "text/plain": [
       "Run contour:   0%|          | 0/1396 [00:00<?, ?it/s]"
      ]
     },
     "metadata": {},
     "output_type": "display_data"
    },
    {
     "data": {
      "application/vnd.jupyter.widget-view+json": {
       "model_id": "4535a2c692f14a8bbb5945a63971dffd",
       "version_major": 2,
       "version_minor": 0
      },
      "text/plain": [
       "Run contour:   0%|          | 0/1603 [00:00<?, ?it/s]"
      ]
     },
     "metadata": {},
     "output_type": "display_data"
    },
    {
     "data": {
      "application/vnd.jupyter.widget-view+json": {
       "model_id": "394bb01516574ce087cd20c2f0b4d26c",
       "version_major": 2,
       "version_minor": 0
      },
      "text/plain": [
       "Run contour:   0%|          | 0/1122 [00:00<?, ?it/s]"
      ]
     },
     "metadata": {},
     "output_type": "display_data"
    },
    {
     "data": {
      "application/vnd.jupyter.widget-view+json": {
       "model_id": "88c895db07a246de82a51ff2305a3c14",
       "version_major": 2,
       "version_minor": 0
      },
      "text/plain": [
       "Run contour:   0%|          | 0/8530 [00:00<?, ?it/s]"
      ]
     },
     "metadata": {},
     "output_type": "display_data"
    },
    {
     "data": {
      "application/vnd.jupyter.widget-view+json": {
       "model_id": "8617decafb1648ea90af507a768a2926",
       "version_major": 2,
       "version_minor": 0
      },
      "text/plain": [
       "Run contour:   0%|          | 0/654 [00:00<?, ?it/s]"
      ]
     },
     "metadata": {},
     "output_type": "display_data"
    },
    {
     "data": {
      "application/vnd.jupyter.widget-view+json": {
       "model_id": "ad4b5bb86fed4dd1bf742f2cc8620dec",
       "version_major": 2,
       "version_minor": 0
      },
      "text/plain": [
       "Run contour:   0%|          | 0/286 [00:00<?, ?it/s]"
      ]
     },
     "metadata": {},
     "output_type": "display_data"
    },
    {
     "data": {
      "application/vnd.jupyter.widget-view+json": {
       "model_id": "76e2b77c54b1408db0aa490de11a9b3a",
       "version_major": 2,
       "version_minor": 0
      },
      "text/plain": [
       "Run contour:   0%|          | 0/32 [00:00<?, ?it/s]"
      ]
     },
     "metadata": {},
     "output_type": "display_data"
    },
    {
     "data": {
      "application/vnd.jupyter.widget-view+json": {
       "model_id": "15243c0e5e594d0fb767ae490cda1f4c",
       "version_major": 2,
       "version_minor": 0
      },
      "text/plain": [
       "Run contour:   0%|          | 0/2721 [00:00<?, ?it/s]"
      ]
     },
     "metadata": {},
     "output_type": "display_data"
    },
    {
     "data": {
      "application/vnd.jupyter.widget-view+json": {
       "model_id": "88d82e36da0f41bc8433785a4593c848",
       "version_major": 2,
       "version_minor": 0
      },
      "text/plain": [
       "Run contour:   0%|          | 0/1055 [00:00<?, ?it/s]"
      ]
     },
     "metadata": {},
     "output_type": "display_data"
    },
    {
     "data": {
      "application/vnd.jupyter.widget-view+json": {
       "model_id": "4d10f52a7f6e4760b112d5488757b430",
       "version_major": 2,
       "version_minor": 0
      },
      "text/plain": [
       "Run contour:   0%|          | 0/3210 [00:00<?, ?it/s]"
      ]
     },
     "metadata": {},
     "output_type": "display_data"
    },
    {
     "data": {
      "application/vnd.jupyter.widget-view+json": {
       "model_id": "8841950283014116829755d068b378f3",
       "version_major": 2,
       "version_minor": 0
      },
      "text/plain": [
       "Run contour:   0%|          | 0/3169 [00:00<?, ?it/s]"
      ]
     },
     "metadata": {},
     "output_type": "display_data"
    },
    {
     "data": {
      "application/vnd.jupyter.widget-view+json": {
       "model_id": "1b10821208544ecdb65321948e76aeb2",
       "version_major": 2,
       "version_minor": 0
      },
      "text/plain": [
       "Run contour:   0%|          | 0/2687 [00:00<?, ?it/s]"
      ]
     },
     "metadata": {},
     "output_type": "display_data"
    },
    {
     "data": {
      "application/vnd.jupyter.widget-view+json": {
       "model_id": "8bf0490069f147c59b3d0541cb7cc5c1",
       "version_major": 2,
       "version_minor": 0
      },
      "text/plain": [
       "Run contour:   0%|          | 0/884 [00:00<?, ?it/s]"
      ]
     },
     "metadata": {},
     "output_type": "display_data"
    },
    {
     "data": {
      "application/vnd.jupyter.widget-view+json": {
       "model_id": "bf2b137904414d42ab1a97fc88ec6305",
       "version_major": 2,
       "version_minor": 0
      },
      "text/plain": [
       "Run contour:   0%|          | 0/508 [00:00<?, ?it/s]"
      ]
     },
     "metadata": {},
     "output_type": "display_data"
    },
    {
     "data": {
      "application/vnd.jupyter.widget-view+json": {
       "model_id": "3496f71428fd4bcf97cf8ae01c3bc917",
       "version_major": 2,
       "version_minor": 0
      },
      "text/plain": [
       "Run contour:   0%|          | 0/527 [00:00<?, ?it/s]"
      ]
     },
     "metadata": {},
     "output_type": "display_data"
    },
    {
     "data": {
      "application/vnd.jupyter.widget-view+json": {
       "model_id": "d3b303ec126f408681e14887b1f1e5ee",
       "version_major": 2,
       "version_minor": 0
      },
      "text/plain": [
       "Run contour:   0%|          | 0/4356 [00:00<?, ?it/s]"
      ]
     },
     "metadata": {},
     "output_type": "display_data"
    },
    {
     "data": {
      "application/vnd.jupyter.widget-view+json": {
       "model_id": "cbb824b69cf74a09b54894aea0735920",
       "version_major": 2,
       "version_minor": 0
      },
      "text/plain": [
       "Run contour:   0%|          | 0/3662 [00:00<?, ?it/s]"
      ]
     },
     "metadata": {},
     "output_type": "display_data"
    },
    {
     "data": {
      "application/vnd.jupyter.widget-view+json": {
       "model_id": "1ca56dabc18740b6a73d1105880564ed",
       "version_major": 2,
       "version_minor": 0
      },
      "text/plain": [
       "Run contour:   0%|          | 0/2376 [00:00<?, ?it/s]"
      ]
     },
     "metadata": {},
     "output_type": "display_data"
    },
    {
     "data": {
      "application/vnd.jupyter.widget-view+json": {
       "model_id": "51e31c9cc9724533a030a864ead4bb16",
       "version_major": 2,
       "version_minor": 0
      },
      "text/plain": [
       "Run contour:   0%|          | 0/2361 [00:00<?, ?it/s]"
      ]
     },
     "metadata": {},
     "output_type": "display_data"
    },
    {
     "data": {
      "application/vnd.jupyter.widget-view+json": {
       "model_id": "74f214d19e8b4be89ed8778d98fa78a3",
       "version_major": 2,
       "version_minor": 0
      },
      "text/plain": [
       "Run contour:   0%|          | 0/2008 [00:00<?, ?it/s]"
      ]
     },
     "metadata": {},
     "output_type": "display_data"
    },
    {
     "data": {
      "application/vnd.jupyter.widget-view+json": {
       "model_id": "0c42fcd3745b4b748fd14dcea089bc01",
       "version_major": 2,
       "version_minor": 0
      },
      "text/plain": [
       "Run contour:   0%|          | 0/261 [00:00<?, ?it/s]"
      ]
     },
     "metadata": {},
     "output_type": "display_data"
    },
    {
     "data": {
      "application/vnd.jupyter.widget-view+json": {
       "model_id": "e291fd04e4af4deaadc33dce1316c457",
       "version_major": 2,
       "version_minor": 0
      },
      "text/plain": [
       "Run contour:   0%|          | 0/1774 [00:00<?, ?it/s]"
      ]
     },
     "metadata": {},
     "output_type": "display_data"
    },
    {
     "data": {
      "application/vnd.jupyter.widget-view+json": {
       "model_id": "153b3b2589924eb6b4f6eda1a13108f7",
       "version_major": 2,
       "version_minor": 0
      },
      "text/plain": [
       "Run contour:   0%|          | 0/242 [00:00<?, ?it/s]"
      ]
     },
     "metadata": {},
     "output_type": "display_data"
    },
    {
     "data": {
      "application/vnd.jupyter.widget-view+json": {
       "model_id": "2f2d1296975a424bbebbbc2bf5b810d1",
       "version_major": 2,
       "version_minor": 0
      },
      "text/plain": [
       "Run contour:   0%|          | 0/9277 [00:00<?, ?it/s]"
      ]
     },
     "metadata": {},
     "output_type": "display_data"
    },
    {
     "data": {
      "application/vnd.jupyter.widget-view+json": {
       "model_id": "6c24370051644fe99c410a96a09b075b",
       "version_major": 2,
       "version_minor": 0
      },
      "text/plain": [
       "Run contour:   0%|          | 0/8239 [00:00<?, ?it/s]"
      ]
     },
     "metadata": {},
     "output_type": "display_data"
    },
    {
     "data": {
      "application/vnd.jupyter.widget-view+json": {
       "model_id": "cfd4bcdc54fc4505a28d5b8ea23640fd",
       "version_major": 2,
       "version_minor": 0
      },
      "text/plain": [
       "Run contour:   0%|          | 0/675 [00:00<?, ?it/s]"
      ]
     },
     "metadata": {},
     "output_type": "display_data"
    },
    {
     "data": {
      "application/vnd.jupyter.widget-view+json": {
       "model_id": "3869e2c19d46410e870205e61d519651",
       "version_major": 2,
       "version_minor": 0
      },
      "text/plain": [
       "Run contour:   0%|          | 0/836 [00:00<?, ?it/s]"
      ]
     },
     "metadata": {},
     "output_type": "display_data"
    },
    {
     "data": {
      "application/vnd.jupyter.widget-view+json": {
       "model_id": "e8c85dbcf938497aa393d3ec22c45835",
       "version_major": 2,
       "version_minor": 0
      },
      "text/plain": [
       "Run contour:   0%|          | 0/573 [00:00<?, ?it/s]"
      ]
     },
     "metadata": {},
     "output_type": "display_data"
    },
    {
     "data": {
      "application/vnd.jupyter.widget-view+json": {
       "model_id": "993cbdc00d4247f1876b9a6d11e19f3e",
       "version_major": 2,
       "version_minor": 0
      },
      "text/plain": [
       "Run contour:   0%|          | 0/656 [00:00<?, ?it/s]"
      ]
     },
     "metadata": {},
     "output_type": "display_data"
    },
    {
     "data": {
      "application/vnd.jupyter.widget-view+json": {
       "model_id": "4c7fe2fb90164ed5bb578b10616b0290",
       "version_major": 2,
       "version_minor": 0
      },
      "text/plain": [
       "Run contour:   0%|          | 0/226 [00:00<?, ?it/s]"
      ]
     },
     "metadata": {},
     "output_type": "display_data"
    },
    {
     "data": {
      "application/vnd.jupyter.widget-view+json": {
       "model_id": "1069a2dccd1b497994e44ac342e79705",
       "version_major": 2,
       "version_minor": 0
      },
      "text/plain": [
       "Run contour:   0%|          | 0/114 [00:00<?, ?it/s]"
      ]
     },
     "metadata": {},
     "output_type": "display_data"
    },
    {
     "data": {
      "application/vnd.jupyter.widget-view+json": {
       "model_id": "9dedb14ffbdb4cde955d8c733bc00298",
       "version_major": 2,
       "version_minor": 0
      },
      "text/plain": [
       "Run contour:   0%|          | 0/4595 [00:00<?, ?it/s]"
      ]
     },
     "metadata": {},
     "output_type": "display_data"
    },
    {
     "data": {
      "application/vnd.jupyter.widget-view+json": {
       "model_id": "531a73ffd0ae4068a3000b34f15930fc",
       "version_major": 2,
       "version_minor": 0
      },
      "text/plain": [
       "Run contour:   0%|          | 0/3346 [00:00<?, ?it/s]"
      ]
     },
     "metadata": {},
     "output_type": "display_data"
    },
    {
     "data": {
      "application/vnd.jupyter.widget-view+json": {
       "model_id": "fcfbb87be5c84b088df6a9df96417cde",
       "version_major": 2,
       "version_minor": 0
      },
      "text/plain": [
       "Run contour:   0%|          | 0/2548 [00:00<?, ?it/s]"
      ]
     },
     "metadata": {},
     "output_type": "display_data"
    },
    {
     "data": {
      "application/vnd.jupyter.widget-view+json": {
       "model_id": "daf9f3ac0dc445d09a2a482929b5a883",
       "version_major": 2,
       "version_minor": 0
      },
      "text/plain": [
       "Run contour:   0%|          | 0/1710 [00:00<?, ?it/s]"
      ]
     },
     "metadata": {},
     "output_type": "display_data"
    },
    {
     "data": {
      "application/vnd.jupyter.widget-view+json": {
       "model_id": "d5ce9acd2e2341fb9ecd2bc70eb842fa",
       "version_major": 2,
       "version_minor": 0
      },
      "text/plain": [
       "Run contour:   0%|          | 0/1681 [00:00<?, ?it/s]"
      ]
     },
     "metadata": {},
     "output_type": "display_data"
    },
    {
     "data": {
      "application/vnd.jupyter.widget-view+json": {
       "model_id": "6711cd3637f34327b22f344b3c9c5533",
       "version_major": 2,
       "version_minor": 0
      },
      "text/plain": [
       "Run contour:   0%|          | 0/2906 [00:00<?, ?it/s]"
      ]
     },
     "metadata": {},
     "output_type": "display_data"
    },
    {
     "data": {
      "application/vnd.jupyter.widget-view+json": {
       "model_id": "f8f51fa4b84d4781aca9dd27ba745f1b",
       "version_major": 2,
       "version_minor": 0
      },
      "text/plain": [
       "Run contour:   0%|          | 0/174 [00:00<?, ?it/s]"
      ]
     },
     "metadata": {},
     "output_type": "display_data"
    },
    {
     "data": {
      "application/vnd.jupyter.widget-view+json": {
       "model_id": "6b5757c134d94ddab284b8d848645bb7",
       "version_major": 2,
       "version_minor": 0
      },
      "text/plain": [
       "Run contour:   0%|          | 0/97 [00:00<?, ?it/s]"
      ]
     },
     "metadata": {},
     "output_type": "display_data"
    },
    {
     "data": {
      "application/vnd.jupyter.widget-view+json": {
       "model_id": "9e3208d2de4a4d7baea311c485c17ce4",
       "version_major": 2,
       "version_minor": 0
      },
      "text/plain": [
       "Run contour:   0%|          | 0/14203 [00:00<?, ?it/s]"
      ]
     },
     "metadata": {},
     "output_type": "display_data"
    },
    {
     "data": {
      "application/vnd.jupyter.widget-view+json": {
       "model_id": "05aab8375b2f4ecb85dbc6554338f681",
       "version_major": 2,
       "version_minor": 0
      },
      "text/plain": [
       "Run contour:   0%|          | 0/978 [00:00<?, ?it/s]"
      ]
     },
     "metadata": {},
     "output_type": "display_data"
    }
   ],
   "source": [
    "import os, glob\n",
    "import rasterio\n",
    "import numpy as np\n",
    "from tqdm.notebook import tqdm\n",
    "import sys\n",
    "# caution: path[0] is reserved for script path (or '' in REPL)\n",
    "sys.path.insert(1, '/home/skm/SKM/WORK/ALL_CODE/statistic')\n",
    "import morphology\n",
    "\n",
    "\n",
    "dir_road = r\"/home/skm/SKM16/Work/OpenLand/all_tif/Road_of_Openland_1666240261_loadmodel\"\n",
    "dir_ok = r\"/home/skm/SKM16/Work/OpenLand/Result_Final/Road\"\n",
    "os.makedirs(dir_ok, exist_ok=True)\n",
    "\n",
    "area_maximum = 50\n",
    "\n",
    "\n",
    "list_fp = glob.glob(os.path.join(dir_road, '*.tif'))\n",
    "\n",
    "for fp in tqdm(list_fp):\n",
    "    fname = os.path.basename(fp)\n",
    "    fp_rs = os.path.join(dir_ok, fname)\n",
    "    with rasterio.open(fp) as src:\n",
    "        meta = src.meta\n",
    "        mask = src.read()\n",
    "\n",
    "        mask = mask*255\n",
    "        mask = morphology.remove_area_small(mask[0], area_maximum, value_draw=0)\n",
    "        with rasterio.open(fp_rs, 'w', **meta) as dst:\n",
    "            dst.write(np.array([mask/255], dtype='uint8'))\n",
    "        "
   ]
  },
  {
   "cell_type": "code",
   "execution_count": null,
   "metadata": {},
   "outputs": [],
   "source": []
  }
 ],
 "metadata": {
  "kernelspec": {
   "display_name": "Python 3.7.0 ('geoai')",
   "language": "python",
   "name": "python3"
  },
  "language_info": {
   "codemirror_mode": {
    "name": "ipython",
    "version": 3
   },
   "file_extension": ".py",
   "mimetype": "text/x-python",
   "name": "python",
   "nbconvert_exporter": "python",
   "pygments_lexer": "ipython3",
   "version": "3.7.0"
  },
  "orig_nbformat": 4,
  "vscode": {
   "interpreter": {
    "hash": "1bff4993b5c6f9c50422f70b2dd5a13ec694dfd7dde205c6b1afc92728df224a"
   }
  }
 },
 "nbformat": 4,
 "nbformat_minor": 2
}
