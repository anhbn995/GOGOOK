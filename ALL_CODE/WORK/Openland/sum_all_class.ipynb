{
 "cells": [
  {
   "cell_type": "code",
   "execution_count": 15,
   "metadata": {},
   "outputs": [],
   "source": [
    "import os, glob\n",
    "import rasterio\n",
    "import numpy as np\n",
    "from tqdm.notebook import tqdm"
   ]
  },
  {
   "cell_type": "code",
   "execution_count": 16,
   "metadata": {},
   "outputs": [],
   "source": [
    "def sum_all(fp_img, fp_build_up, fp_road, fp_water, fp_out):\n",
    "    list_all_class = [fp_build_up, fp_road, fp_water]\n",
    "\n",
    "    with rasterio.open(fp_img) as src:\n",
    "        mask_openland = src.read_masks(1)\n",
    "        meta =src.meta\n",
    "    meta.update({'count': 1})\n",
    "    mask_openland = np.array([mask_openland])\n",
    "\n",
    "    # print(mask_openland.shape)\n",
    "    idx_nodata = np.where(mask_openland == 0)\n",
    "    mask_openland[mask_openland != 0] = 0  \n",
    "    for fp_class in list_all_class:\n",
    "        with rasterio.open(fp_class) as src:\n",
    "            mask_class = src.read()\n",
    "        mask_class[mask_class != 0] = 1\n",
    "        mask_openland += mask_class\n",
    "\n",
    "    mask_openland[mask_openland != 0] = 1\n",
    "    mask_openland[idx_nodata] = 0\n",
    "    with rasterio.open(fp_out, 'w', **meta) as dst:\n",
    "        dst.write(mask_openland)\n",
    "\n",
    "def main(dir_img, dir_buildUp, dir_road, dir_water, dir_out):\n",
    "    list_img = glob.glob(os.path.join(dir_img, '*.tif'))\n",
    "    for fp_img in tqdm(list_img, desc='Run sum class: '):\n",
    "        name_f = os.path.basename(fp_img)\n",
    "        fp_build_up = os.path.join(dir_buildUp, name_f)\n",
    "        fp_road = os.path.join(dir_road, name_f)\n",
    "        fp_water = os.path.join(dir_water, name_f)\n",
    "        fp_out = os.path.join(dir_out, name_f)\n",
    "        sum_all(fp_img, fp_build_up, fp_road, fp_water, fp_out)\n",
    "    print('DONE') \n",
    "    "
   ]
  },
  {
   "cell_type": "markdown",
   "metadata": {},
   "source": [
    "## Chay 1 anh"
   ]
  },
  {
   "cell_type": "code",
   "execution_count": null,
   "metadata": {},
   "outputs": [],
   "source": [
    "# fp_out = r\"/home/skm/SKM16/Work/OpenLand/all_tif/z_openland_sum/20220821_103012_ssc11_u0001_visual.tif\"\n",
    "# fp_img = r\"/home/skm/SKM16/Work/OpenLand/all_tif/20220821_103012_ssc11_u0001_visual.tif\"\n",
    "# fp_build_up = r\"/home/skm/SKM16/Work/OpenLand/all_tif/BuildUp_of_Openland_1666029743_loadmodel/20220821_103012_ssc11_u0001_visual.tif\"\n",
    "# fp_road = r\"/home/skm/SKM16/Work/OpenLand/all_tif/Road_of_Openland_1666240261_loadmodel/20220821_103012_ssc11_u0001_visual.tif\"\n",
    "# fp_water = r\"/home/skm/SKM16/Work/OpenLand/all_tif/Water_of_Openland_1666456777_loadmodel/20220821_103012_ssc11_u0001_visual.tif\"\n",
    "# sum_all(fp_img, fp_build_up, fp_road, fp_water, fp_out)"
   ]
  },
  {
   "cell_type": "markdown",
   "metadata": {},
   "source": [
    "## Chay nhieu anh"
   ]
  },
  {
   "cell_type": "code",
   "execution_count": 17,
   "metadata": {},
   "outputs": [
    {
     "data": {
      "application/vnd.jupyter.widget-view+json": {
       "model_id": "6bd5e8c656a84bf29afe8012fa686b62",
       "version_major": 2,
       "version_minor": 0
      },
      "text/plain": [
       "Run sum class:   0%|          | 0/92 [00:00<?, ?it/s]"
      ]
     },
     "metadata": {},
     "output_type": "display_data"
    },
    {
     "ename": "",
     "evalue": "",
     "output_type": "error",
     "traceback": [
      "\u001b[1;31mThe Kernel crashed while executing code in the the current cell or a previous cell. Please review the code in the cell(s) to identify a possible cause of the failure. Click <a href='https://aka.ms/vscodeJupyterKernelCrash'>here</a> for more info. View Jupyter <a href='command:jupyter.viewOutput'>log</a> for further details."
     ]
    },
    {
     "ename": "",
     "evalue": "",
     "output_type": "error",
     "traceback": [
      "\u001b[1;31mCanceled future for execute_request message before replies were done"
     ]
    }
   ],
   "source": [
    "# Input\n",
    "dir_img = r\"/home/skm/SKM16/Work/OpenLand/all_tif/\"\n",
    "dir_buildUp = r\"/home/skm/SKM16/Work/OpenLand/all_tif/BuildUp_of_Openland_1666029743_loadmodel\"\n",
    "dir_road = r\"/home/skm/SKM16/Work/OpenLand/all_tif/Road_of_Openland_1666240261_loadmodel\"\n",
    "dir_water = r\"/home/skm/SKM16/Work/OpenLand/all_tif/Water_of_Openland_1666456777_loadmodel\"\n",
    "\n",
    "# Output\n",
    "dir_out = r\"/home/skm/SKM16/Work/OpenLand/all_tif/z_openland_sum\"\n",
    "\n",
    "main(dir_img, dir_buildUp, dir_road, dir_water, dir_out)"
   ]
  },
  {
   "cell_type": "code",
   "execution_count": null,
   "metadata": {},
   "outputs": [],
   "source": []
  }
 ],
 "metadata": {
  "kernelspec": {
   "display_name": "Python 3.7.0 ('geoai')",
   "language": "python",
   "name": "python3"
  },
  "language_info": {
   "codemirror_mode": {
    "name": "ipython",
    "version": 3
   },
   "file_extension": ".py",
   "mimetype": "text/x-python",
   "name": "python",
   "nbconvert_exporter": "python",
   "pygments_lexer": "ipython3",
   "version": "3.7.0"
  },
  "orig_nbformat": 4,
  "vscode": {
   "interpreter": {
    "hash": "1bff4993b5c6f9c50422f70b2dd5a13ec694dfd7dde205c6b1afc92728df224a"
   }
  }
 },
 "nbformat": 4,
 "nbformat_minor": 2
}
