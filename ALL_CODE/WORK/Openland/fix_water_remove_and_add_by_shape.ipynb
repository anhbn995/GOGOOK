{
 "cells": [
  {
   "cell_type": "code",
   "execution_count": 1,
   "metadata": {},
   "outputs": [
    {
     "data": {
      "application/vnd.jupyter.widget-view+json": {
       "model_id": "d86a70f9ee77455a9886834e07e28dea",
       "version_major": 2,
       "version_minor": 0
      },
      "text/plain": [
       "  0%|          | 0/12 [00:00<?, ?it/s]"
      ]
     },
     "metadata": {},
     "output_type": "display_data"
    }
   ],
   "source": [
    "from genericpath import isfile\n",
    "import rasterio\n",
    "import os, glob\n",
    "import numpy as np\n",
    "import geopandas as gpd\n",
    "import rasterio.features\n",
    "from tqdm.notebook import tqdm\n",
    "\n",
    "\n",
    "def create_mask(img_path, shp_path, value_mask=None):\n",
    "    with rasterio.open(img_path) as src:\n",
    "        height, width = src.height, src.width\n",
    "        tr = src.transform\n",
    "        crs_img = src.crs\n",
    "        \n",
    "    df = gpd.read_file(shp_path)\n",
    "    # check epsg\n",
    "    if df.crs.to_string() != crs_img.to_string():\n",
    "        df = df.to_crs(epsg=str(crs_img.to_epsg()))\n",
    "    shapes = df['geometry']\n",
    "    mask = rasterio.features.rasterize(shapes, out_shape=(height, width), transform=tr)\n",
    "    return np.array([mask])\n",
    "\n",
    "\n",
    "\n",
    "list_fp_rm_by_shape = [\n",
    "    \"20220826_065957_ssc3_u0001_visual.tif\",\n",
    "    \"20220821_070453_ssc12_u0001_visual.tif\",\n",
    "    \"20220820_103902_ssc6_u0001_visual.tif\",\n",
    "    \"20220813_070157_ssc12_u0002_visual.tif\",\n",
    "    \"20220821_070453_ssc12_u0002_visual.tif\",\n",
    "    \"20220819_102529_ssc8_u0002_visual.tif\",\n",
    "    \"20220818_073620_ssc1_u0002_visual.tif\",\n",
    "    \"20220814_103841_ssc10_u0002_visual.tif\",\n",
    "    \"20220814_103841_ssc10_u0001_visual.tif\",\n",
    "    \"20220807_064607_ssc4_u0002_visual.tif\",\n",
    "    \"20220812_070039_ssc4_u0002_visual.tif\",\n",
    "    \"20220813_070157_ssc12_u0001_visual.tif\"\n",
    "]\n",
    "dir_mask = \"/home/skm/SKM16/Work/OpenLand/all_tif/Water_of_Openland_1666456777_loadmodel\"\n",
    "dir_shape_remove = \"/home/skm/public_mount/DucAnhtmp/HIEUUUUUUUUUUUUUUU/xoa\"\n",
    "dir_shape_add = \"/home/skm/public_mount/DucAnhtmp/HIEUUUUUUUUUUUUUUU/them\"\n",
    "\n",
    "out_dir_mask = \"/home/skm/SKM16/Work/OpenLand/Result_Final/Water/tmp\"\n",
    "\n",
    "list_fp_shp_xoa = [os.path.basename(fp) for fp in glob.glob(os.path.join(dir_shape_remove, \"*.shp\"))]\n",
    "list_fp_shp_add = [os.path.basename(fp) for fp in glob.glob(os.path.join(dir_shape_add, \"*.shp\"))]\n",
    "\n",
    "list_fname_shp_fix = np.unique(list_fp_shp_xoa + list_fp_shp_add)\n",
    "# print(list_fname_shp_fix)\n",
    "\n",
    "for fname_shp in tqdm(list_fname_shp_fix):\n",
    "    fname_tif = fname_shp.replace('.shp','.tif')\n",
    "    out_fp = os.path.join(out_dir_mask, fname_tif)\n",
    "    \n",
    "    fp_mask = os.path.join(dir_mask, fname_tif)\n",
    "    fp_shp_xoa = None\n",
    "    fp_shp_them = None\n",
    "    \n",
    "    with rasterio.open(fp_mask) as src:\n",
    "        meta = src.meta\n",
    "        mask = src.read()\n",
    "    \n",
    "    # cap nhat lai shape file xoa\n",
    "    if os.path.isfile(os.path.join(dir_shape_remove, fname_shp)):\n",
    "        fp_shp_xoa = os.path.join(dir_shape_remove, fname_shp)\n",
    "    # cap nhat lai shape file add\n",
    "    if os.path.isfile(os.path.join(dir_shape_add, fname_shp)):\n",
    "        fp_shp_them = os.path.join(dir_shape_add, fname_shp)\n",
    "    \n",
    "    if fp_shp_xoa:\n",
    "        mask_draw_xoa = create_mask(fp_mask, fp_shp_xoa, value_mask=None)\n",
    "        mask_draw_xoa = 1 - mask_draw_xoa\n",
    "    else:\n",
    "        mask_draw_xoa = np.ones_like(mask)\n",
    "    \n",
    "    if fp_shp_them:\n",
    "        mask_draw_them = create_mask(fp_mask, fp_shp_them, value_mask=None)\n",
    "    else:\n",
    "        mask_draw_them = np.zeros_like(mask)\n",
    "        \n",
    "\n",
    "    mask_final = mask*mask_draw_xoa + mask_draw_them\n",
    "    mask_final[mask_final != 0] = 1\n",
    "    with rasterio.open(out_fp, 'w', **meta) as dst:\n",
    "        dst.write(mask_final)"
   ]
  },
  {
   "cell_type": "code",
   "execution_count": null,
   "metadata": {},
   "outputs": [],
   "source": []
  }
 ],
 "metadata": {
  "kernelspec": {
   "display_name": "Python 3.7.0 ('geoai')",
   "language": "python",
   "name": "python3"
  },
  "language_info": {
   "codemirror_mode": {
    "name": "ipython",
    "version": 3
   },
   "file_extension": ".py",
   "mimetype": "text/x-python",
   "name": "python",
   "nbconvert_exporter": "python",
   "pygments_lexer": "ipython3",
   "version": "3.7.0"
  },
  "orig_nbformat": 4,
  "vscode": {
   "interpreter": {
    "hash": "1bff4993b5c6f9c50422f70b2dd5a13ec694dfd7dde205c6b1afc92728df224a"
   }
  }
 },
 "nbformat": 4,
 "nbformat_minor": 2
}
