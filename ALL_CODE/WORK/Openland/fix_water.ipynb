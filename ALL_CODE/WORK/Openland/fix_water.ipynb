{
 "cells": [
  {
   "cell_type": "code",
   "execution_count": 2,
   "metadata": {},
   "outputs": [
    {
     "data": {
      "application/vnd.jupyter.widget-view+json": {
       "model_id": "f876c0fdaa2c41cd856339c03a7ba46b",
       "version_major": 2,
       "version_minor": 0
      },
      "text/plain": [
       "  0%|          | 0/92 [00:00<?, ?it/s]"
      ]
     },
     "metadata": {},
     "output_type": "display_data"
    },
    {
     "name": "stdout",
     "output_type": "stream",
     "text": [
      "20220807_064607_ssc4_u0001_visual.tif\n"
     ]
    },
    {
     "data": {
      "application/vnd.jupyter.widget-view+json": {
       "model_id": "ff5940a2c5084fb0abb5d0f9495e8dd6",
       "version_major": 2,
       "version_minor": 0
      },
      "text/plain": [
       "Run contour:   0%|          | 0/1433 [00:00<?, ?it/s]"
      ]
     },
     "metadata": {},
     "output_type": "display_data"
    },
    {
     "name": "stdout",
     "output_type": "stream",
     "text": [
      "20220810_073235_ssc1_u0001_visual.tif\n"
     ]
    },
    {
     "data": {
      "application/vnd.jupyter.widget-view+json": {
       "model_id": "245f767c2137401094c5bb7926529944",
       "version_major": 2,
       "version_minor": 0
      },
      "text/plain": [
       "Run contour:   0%|          | 0/2088 [00:00<?, ?it/s]"
      ]
     },
     "metadata": {},
     "output_type": "display_data"
    },
    {
     "name": "stdout",
     "output_type": "stream",
     "text": [
      "20220810_073235_ssc1_u0002_visual.tif\n"
     ]
    },
    {
     "data": {
      "application/vnd.jupyter.widget-view+json": {
       "model_id": "b6d07f124d49439c8a044aafa04f06f9",
       "version_major": 2,
       "version_minor": 0
      },
      "text/plain": [
       "Run contour:   0%|          | 0/8 [00:00<?, ?it/s]"
      ]
     },
     "metadata": {},
     "output_type": "display_data"
    },
    {
     "name": "stdout",
     "output_type": "stream",
     "text": [
      "20220812_070039_ssc4_u0001_visual.tif\n"
     ]
    },
    {
     "data": {
      "application/vnd.jupyter.widget-view+json": {
       "model_id": "30af33c89b86410ea6a83112b7b2ef3c",
       "version_major": 2,
       "version_minor": 0
      },
      "text/plain": [
       "Run contour:   0%|          | 0/5104 [00:00<?, ?it/s]"
      ]
     },
     "metadata": {},
     "output_type": "display_data"
    },
    {
     "name": "stdout",
     "output_type": "stream",
     "text": [
      "20220812_070039_ssc4_u0003_visual.tif\n"
     ]
    },
    {
     "data": {
      "application/vnd.jupyter.widget-view+json": {
       "model_id": "c4d9c3fb4b4d46059859017aa4ea22dd",
       "version_major": 2,
       "version_minor": 0
      },
      "text/plain": [
       "Run contour:   0%|          | 0/394 [00:00<?, ?it/s]"
      ]
     },
     "metadata": {},
     "output_type": "display_data"
    },
    {
     "name": "stdout",
     "output_type": "stream",
     "text": [
      "20220813_070232_ssc12_u0001_visual.tif\n"
     ]
    },
    {
     "data": {
      "application/vnd.jupyter.widget-view+json": {
       "model_id": "c1606eb1b95644fa80f3b923ee1e7315",
       "version_major": 2,
       "version_minor": 0
      },
      "text/plain": [
       "Run contour:   0%|          | 0/790 [00:00<?, ?it/s]"
      ]
     },
     "metadata": {},
     "output_type": "display_data"
    },
    {
     "name": "stdout",
     "output_type": "stream",
     "text": [
      "20220813_070232_ssc12_u0002_visual.tif\n"
     ]
    },
    {
     "data": {
      "application/vnd.jupyter.widget-view+json": {
       "model_id": "835b4d1efb904ef0b956497345cd9a92",
       "version_major": 2,
       "version_minor": 0
      },
      "text/plain": [
       "Run contour:   0%|          | 0/775 [00:00<?, ?it/s]"
      ]
     },
     "metadata": {},
     "output_type": "display_data"
    },
    {
     "name": "stdout",
     "output_type": "stream",
     "text": [
      "20220813_104556_ssc8_u0001_visual.tif\n"
     ]
    },
    {
     "data": {
      "application/vnd.jupyter.widget-view+json": {
       "model_id": "83607cdeb69e431b85239e17ef6274b4",
       "version_major": 2,
       "version_minor": 0
      },
      "text/plain": [
       "Run contour:   0%|          | 0/6646 [00:00<?, ?it/s]"
      ]
     },
     "metadata": {},
     "output_type": "display_data"
    },
    {
     "name": "stdout",
     "output_type": "stream",
     "text": [
      "20220814_103914_ssc10_u0001_visual.tif\n"
     ]
    },
    {
     "data": {
      "application/vnd.jupyter.widget-view+json": {
       "model_id": "c0d87f0eb992473fb09a226c5a4cf84c",
       "version_major": 2,
       "version_minor": 0
      },
      "text/plain": [
       "Run contour:   0%|          | 0/737 [00:00<?, ?it/s]"
      ]
     },
     "metadata": {},
     "output_type": "display_data"
    },
    {
     "name": "stdout",
     "output_type": "stream",
     "text": [
      "20220814_103914_ssc10_u0002_visual.tif\n"
     ]
    },
    {
     "data": {
      "application/vnd.jupyter.widget-view+json": {
       "model_id": "05c648858c2f4c29b14017f4e37b8d59",
       "version_major": 2,
       "version_minor": 0
      },
      "text/plain": [
       "Run contour:   0%|          | 0/1268 [00:00<?, ?it/s]"
      ]
     },
     "metadata": {},
     "output_type": "display_data"
    },
    {
     "name": "stdout",
     "output_type": "stream",
     "text": [
      "20220815_064928_ssc4_u0001_visual.tif\n"
     ]
    },
    {
     "data": {
      "application/vnd.jupyter.widget-view+json": {
       "model_id": "7e710fd7d6ce448aafd46fa72422726f",
       "version_major": 2,
       "version_minor": 0
      },
      "text/plain": [
       "Run contour:   0%|          | 0/2512 [00:00<?, ?it/s]"
      ]
     },
     "metadata": {},
     "output_type": "display_data"
    },
    {
     "name": "stdout",
     "output_type": "stream",
     "text": [
      "20220815_064928_ssc4_u0002_visual.tif\n"
     ]
    },
    {
     "data": {
      "application/vnd.jupyter.widget-view+json": {
       "model_id": "5c7157d174e64a2abfd409cd560cedf8",
       "version_major": 2,
       "version_minor": 0
      },
      "text/plain": [
       "Run contour:   0%|          | 0/4890 [00:00<?, ?it/s]"
      ]
     },
     "metadata": {},
     "output_type": "display_data"
    },
    {
     "name": "stdout",
     "output_type": "stream",
     "text": [
      "20220815_065021_ssc4_u0001_visual.tif\n"
     ]
    },
    {
     "data": {
      "application/vnd.jupyter.widget-view+json": {
       "model_id": "400664dd3ee349769377264afe199c1f",
       "version_major": 2,
       "version_minor": 0
      },
      "text/plain": [
       "Run contour:   0%|          | 0/698 [00:00<?, ?it/s]"
      ]
     },
     "metadata": {},
     "output_type": "display_data"
    },
    {
     "name": "stdout",
     "output_type": "stream",
     "text": [
      "20220815_065021_ssc4_u0002_visual.tif\n"
     ]
    },
    {
     "data": {
      "application/vnd.jupyter.widget-view+json": {
       "model_id": "b1f6fc02c5854883a113a628b90c4992",
       "version_major": 2,
       "version_minor": 0
      },
      "text/plain": [
       "Run contour:   0%|          | 0/2570 [00:00<?, ?it/s]"
      ]
     },
     "metadata": {},
     "output_type": "display_data"
    },
    {
     "name": "stdout",
     "output_type": "stream",
     "text": [
      "20220815_065021_ssc4_u0003_visual.tif\n"
     ]
    },
    {
     "data": {
      "application/vnd.jupyter.widget-view+json": {
       "model_id": "ce05b4798ca74ae4b1cbfe0e72ad3a4b",
       "version_major": 2,
       "version_minor": 0
      },
      "text/plain": [
       "Run contour:   0%|          | 0/2179 [00:00<?, ?it/s]"
      ]
     },
     "metadata": {},
     "output_type": "display_data"
    },
    {
     "name": "stdout",
     "output_type": "stream",
     "text": [
      "20220815_103905_ssc7_u0001_visual.tif\n"
     ]
    },
    {
     "data": {
      "application/vnd.jupyter.widget-view+json": {
       "model_id": "76c435caf84244bab2d633bba8479543",
       "version_major": 2,
       "version_minor": 0
      },
      "text/plain": [
       "Run contour:   0%|          | 0/431 [00:00<?, ?it/s]"
      ]
     },
     "metadata": {},
     "output_type": "display_data"
    },
    {
     "name": "stdout",
     "output_type": "stream",
     "text": [
      "20220816_103536_ssc8_u0001_visual.tif\n"
     ]
    },
    {
     "data": {
      "application/vnd.jupyter.widget-view+json": {
       "model_id": "a004d58cb18c46a98c4b43dfdb186270",
       "version_major": 2,
       "version_minor": 0
      },
      "text/plain": [
       "Run contour:   0%|          | 0/1779 [00:00<?, ?it/s]"
      ]
     },
     "metadata": {},
     "output_type": "display_data"
    },
    {
     "name": "stdout",
     "output_type": "stream",
     "text": [
      "20220816_103536_ssc8_u0002_visual.tif\n"
     ]
    },
    {
     "data": {
      "application/vnd.jupyter.widget-view+json": {
       "model_id": "5d3ad0533aa44b338bbf5f1710611dca",
       "version_major": 2,
       "version_minor": 0
      },
      "text/plain": [
       "Run contour:   0%|          | 0/1074 [00:00<?, ?it/s]"
      ]
     },
     "metadata": {},
     "output_type": "display_data"
    },
    {
     "name": "stdout",
     "output_type": "stream",
     "text": [
      "20220818_073620_ssc1_u0001_visual.tif\n"
     ]
    },
    {
     "data": {
      "application/vnd.jupyter.widget-view+json": {
       "model_id": "5c50d118ba6b4c32a1eedf6274ab99d8",
       "version_major": 2,
       "version_minor": 0
      },
      "text/plain": [
       "Run contour:   0%|          | 0/1713 [00:00<?, ?it/s]"
      ]
     },
     "metadata": {},
     "output_type": "display_data"
    },
    {
     "name": "stdout",
     "output_type": "stream",
     "text": [
      "20220818_102817_ssc7_u0001_visual.tif\n"
     ]
    },
    {
     "data": {
      "application/vnd.jupyter.widget-view+json": {
       "model_id": "36b017586b1347848e43d4e86ba4c9e5",
       "version_major": 2,
       "version_minor": 0
      },
      "text/plain": [
       "Run contour:   0%|          | 0/3961 [00:00<?, ?it/s]"
      ]
     },
     "metadata": {},
     "output_type": "display_data"
    },
    {
     "name": "stdout",
     "output_type": "stream",
     "text": [
      "20220818_102817_ssc7_u0002_visual.tif\n"
     ]
    },
    {
     "data": {
      "application/vnd.jupyter.widget-view+json": {
       "model_id": "405d7f7e44b94dc6ba10d25d40b1639a",
       "version_major": 2,
       "version_minor": 0
      },
      "text/plain": [
       "Run contour:   0%|          | 0/5110 [00:00<?, ?it/s]"
      ]
     },
     "metadata": {},
     "output_type": "display_data"
    },
    {
     "name": "stdout",
     "output_type": "stream",
     "text": [
      "20220818_102851_ssc7_u0001_visual.tif\n"
     ]
    },
    {
     "data": {
      "application/vnd.jupyter.widget-view+json": {
       "model_id": "fcfb0391fb2349b880765b7899660b68",
       "version_major": 2,
       "version_minor": 0
      },
      "text/plain": [
       "Run contour:   0%|          | 0/16492 [00:00<?, ?it/s]"
      ]
     },
     "metadata": {},
     "output_type": "display_data"
    },
    {
     "name": "stdout",
     "output_type": "stream",
     "text": [
      "20220819_102529_ssc8_u0001_visual.tif\n"
     ]
    },
    {
     "data": {
      "application/vnd.jupyter.widget-view+json": {
       "model_id": "f8082f6ed3434b17873fbf7e105e4319",
       "version_major": 2,
       "version_minor": 0
      },
      "text/plain": [
       "Run contour:   0%|          | 0/2409 [00:00<?, ?it/s]"
      ]
     },
     "metadata": {},
     "output_type": "display_data"
    },
    {
     "name": "stdout",
     "output_type": "stream",
     "text": [
      "20220820_070317_ssc4_u0001_visual.tif\n"
     ]
    },
    {
     "data": {
      "application/vnd.jupyter.widget-view+json": {
       "model_id": "5950136fd7474b21aa3f76dc73b13d0d",
       "version_major": 2,
       "version_minor": 0
      },
      "text/plain": [
       "Run contour:   0%|          | 0/14248 [00:00<?, ?it/s]"
      ]
     },
     "metadata": {},
     "output_type": "display_data"
    },
    {
     "name": "stdout",
     "output_type": "stream",
     "text": [
      "20220820_070317_ssc4_u0002_visual.tif\n"
     ]
    },
    {
     "data": {
      "application/vnd.jupyter.widget-view+json": {
       "model_id": "b79e15eccda24aeb87c1471a7c7b51fe",
       "version_major": 2,
       "version_minor": 0
      },
      "text/plain": [
       "Run contour:   0%|          | 0/3282 [00:00<?, ?it/s]"
      ]
     },
     "metadata": {},
     "output_type": "display_data"
    },
    {
     "name": "stdout",
     "output_type": "stream",
     "text": [
      "20220820_103902_ssc6_u0002_visual.tif\n"
     ]
    },
    {
     "data": {
      "application/vnd.jupyter.widget-view+json": {
       "model_id": "4ee69305a8b3418db4089b8003b42667",
       "version_major": 2,
       "version_minor": 0
      },
      "text/plain": [
       "Run contour:   0%|          | 0/1249 [00:00<?, ?it/s]"
      ]
     },
     "metadata": {},
     "output_type": "display_data"
    },
    {
     "name": "stdout",
     "output_type": "stream",
     "text": [
      "20220821_064400_ssc13_u0001_visual.tif\n"
     ]
    },
    {
     "data": {
      "application/vnd.jupyter.widget-view+json": {
       "model_id": "befa94fb852d4db6b60a40c0802ca9b6",
       "version_major": 2,
       "version_minor": 0
      },
      "text/plain": [
       "Run contour:   0%|          | 0/1552 [00:00<?, ?it/s]"
      ]
     },
     "metadata": {},
     "output_type": "display_data"
    },
    {
     "name": "stdout",
     "output_type": "stream",
     "text": [
      "20220821_064400_ssc13_u0002_visual.tif\n"
     ]
    },
    {
     "data": {
      "application/vnd.jupyter.widget-view+json": {
       "model_id": "532311ed00cb4f24a672de56558c8c09",
       "version_major": 2,
       "version_minor": 0
      },
      "text/plain": [
       "Run contour:   0%|          | 0/290 [00:00<?, ?it/s]"
      ]
     },
     "metadata": {},
     "output_type": "display_data"
    },
    {
     "name": "stdout",
     "output_type": "stream",
     "text": [
      "20220821_064432_ssc13_u0001_visual.tif\n"
     ]
    },
    {
     "data": {
      "application/vnd.jupyter.widget-view+json": {
       "model_id": "14d08cd90de244ea9ee18b3639c67559",
       "version_major": 2,
       "version_minor": 0
      },
      "text/plain": [
       "Run contour:   0%|          | 0/257 [00:00<?, ?it/s]"
      ]
     },
     "metadata": {},
     "output_type": "display_data"
    },
    {
     "name": "stdout",
     "output_type": "stream",
     "text": [
      "20220821_064432_ssc13_u0002_visual.tif\n"
     ]
    },
    {
     "data": {
      "application/vnd.jupyter.widget-view+json": {
       "model_id": "bf0c1731dc8a440dbf5a6548bf3bd193",
       "version_major": 2,
       "version_minor": 0
      },
      "text/plain": [
       "Run contour:   0%|          | 0/642 [00:00<?, ?it/s]"
      ]
     },
     "metadata": {},
     "output_type": "display_data"
    },
    {
     "name": "stdout",
     "output_type": "stream",
     "text": [
      "20220814_065546_ssc2_u0001_visual.tif\n"
     ]
    },
    {
     "data": {
      "application/vnd.jupyter.widget-view+json": {
       "model_id": "b883347418914b6c9c3c6bab137d704d",
       "version_major": 2,
       "version_minor": 0
      },
      "text/plain": [
       "Run contour:   0%|          | 0/1316 [00:00<?, ?it/s]"
      ]
     },
     "metadata": {},
     "output_type": "display_data"
    },
    {
     "name": "stdout",
     "output_type": "stream",
     "text": [
      "20220821_070311_ssc3_u0001_visual.tif\n"
     ]
    },
    {
     "data": {
      "application/vnd.jupyter.widget-view+json": {
       "model_id": "84ead0f842c741b9a42d75b0a78fc0f1",
       "version_major": 2,
       "version_minor": 0
      },
      "text/plain": [
       "Run contour:   0%|          | 0/22523 [00:00<?, ?it/s]"
      ]
     },
     "metadata": {},
     "output_type": "display_data"
    },
    {
     "name": "stdout",
     "output_type": "stream",
     "text": [
      "20220822_065707_ssc2_u0002_visual.tif\n"
     ]
    },
    {
     "data": {
      "application/vnd.jupyter.widget-view+json": {
       "model_id": "cf0c90dac350453293f5fda2bf19678e",
       "version_major": 2,
       "version_minor": 0
      },
      "text/plain": [
       "Run contour:   0%|          | 0/4625 [00:00<?, ?it/s]"
      ]
     },
     "metadata": {},
     "output_type": "display_data"
    },
    {
     "name": "stdout",
     "output_type": "stream",
     "text": [
      "20220825_103030_ssc10_u0002_visual.tif\n"
     ]
    },
    {
     "data": {
      "application/vnd.jupyter.widget-view+json": {
       "model_id": "2f27bc9773e7458b95965a88b11f3298",
       "version_major": 2,
       "version_minor": 0
      },
      "text/plain": [
       "Run contour:   0%|          | 0/33635 [00:00<?, ?it/s]"
      ]
     },
     "metadata": {},
     "output_type": "display_data"
    },
    {
     "name": "stdout",
     "output_type": "stream",
     "text": [
      "20220826_103137_ssc7_u0001_visual.tif\n"
     ]
    },
    {
     "data": {
      "application/vnd.jupyter.widget-view+json": {
       "model_id": "56f11bc64c134278b9c1457d9cd03199",
       "version_major": 2,
       "version_minor": 0
      },
      "text/plain": [
       "Run contour:   0%|          | 0/79 [00:00<?, ?it/s]"
      ]
     },
     "metadata": {},
     "output_type": "display_data"
    },
    {
     "name": "stdout",
     "output_type": "stream",
     "text": [
      "20220821_070348_ssc3_u0001_visual.tif\n"
     ]
    },
    {
     "data": {
      "application/vnd.jupyter.widget-view+json": {
       "model_id": "d3b644eb367048f7ba1510b5b339bbcc",
       "version_major": 2,
       "version_minor": 0
      },
      "text/plain": [
       "Run contour:   0%|          | 0/2301 [00:00<?, ?it/s]"
      ]
     },
     "metadata": {},
     "output_type": "display_data"
    },
    {
     "name": "stdout",
     "output_type": "stream",
     "text": [
      "20220821_070348_ssc3_u0002_visual.tif\n"
     ]
    },
    {
     "data": {
      "application/vnd.jupyter.widget-view+json": {
       "model_id": "a370bf2201e740ccb4a5369b3306a544",
       "version_major": 2,
       "version_minor": 0
      },
      "text/plain": [
       "Run contour:   0%|          | 0/3296 [00:00<?, ?it/s]"
      ]
     },
     "metadata": {},
     "output_type": "display_data"
    },
    {
     "name": "stdout",
     "output_type": "stream",
     "text": [
      "20220821_070418_ssc12_u0001_visual.tif\n"
     ]
    },
    {
     "data": {
      "application/vnd.jupyter.widget-view+json": {
       "model_id": "666cfa2f119c4602a282492d97e46ec6",
       "version_major": 2,
       "version_minor": 0
      },
      "text/plain": [
       "Run contour:   0%|          | 0/15940 [00:00<?, ?it/s]"
      ]
     },
     "metadata": {},
     "output_type": "display_data"
    },
    {
     "name": "stdout",
     "output_type": "stream",
     "text": [
      "20220821_072508_ssc1_u0001_visual.tif\n"
     ]
    },
    {
     "data": {
      "application/vnd.jupyter.widget-view+json": {
       "model_id": "4fa6036ba5004805a524a30d8c1a66ee",
       "version_major": 2,
       "version_minor": 0
      },
      "text/plain": [
       "Run contour:   0%|          | 0/158 [00:00<?, ?it/s]"
      ]
     },
     "metadata": {},
     "output_type": "display_data"
    },
    {
     "name": "stdout",
     "output_type": "stream",
     "text": [
      "20220821_072508_ssc1_u0002_visual.tif\n"
     ]
    },
    {
     "data": {
      "application/vnd.jupyter.widget-view+json": {
       "model_id": "e055c2e47ed74355a4b4ad2389077f8b",
       "version_major": 2,
       "version_minor": 0
      },
      "text/plain": [
       "Run contour:   0%|          | 0/24 [00:00<?, ?it/s]"
      ]
     },
     "metadata": {},
     "output_type": "display_data"
    },
    {
     "name": "stdout",
     "output_type": "stream",
     "text": [
      "20220821_072535_ssc1_u0001_visual.tif\n"
     ]
    },
    {
     "data": {
      "application/vnd.jupyter.widget-view+json": {
       "model_id": "706e5962362c4edc9031df8a49f1a849",
       "version_major": 2,
       "version_minor": 0
      },
      "text/plain": [
       "Run contour:   0%|          | 0/145 [00:00<?, ?it/s]"
      ]
     },
     "metadata": {},
     "output_type": "display_data"
    },
    {
     "name": "stdout",
     "output_type": "stream",
     "text": [
      "20220821_072535_ssc1_u0002_visual.tif\n"
     ]
    },
    {
     "data": {
      "application/vnd.jupyter.widget-view+json": {
       "model_id": "f6dbfa527ca141e695729dc9342914e0",
       "version_major": 2,
       "version_minor": 0
      },
      "text/plain": [
       "Run contour:   0%|          | 0/357 [00:00<?, ?it/s]"
      ]
     },
     "metadata": {},
     "output_type": "display_data"
    },
    {
     "name": "stdout",
     "output_type": "stream",
     "text": [
      "20220821_103012_ssc11_u0001_visual.tif\n"
     ]
    },
    {
     "data": {
      "application/vnd.jupyter.widget-view+json": {
       "model_id": "7ab368385263447a80d93f2186728db5",
       "version_major": 2,
       "version_minor": 0
      },
      "text/plain": [
       "Run contour:   0%|          | 0/417 [00:00<?, ?it/s]"
      ]
     },
     "metadata": {},
     "output_type": "display_data"
    },
    {
     "name": "stdout",
     "output_type": "stream",
     "text": [
      "20220822_065707_ssc2_u0001_visual.tif\n"
     ]
    },
    {
     "data": {
      "application/vnd.jupyter.widget-view+json": {
       "model_id": "573cec850b684256b8b1165b9d2f6674",
       "version_major": 2,
       "version_minor": 0
      },
      "text/plain": [
       "Run contour:   0%|          | 0/3853 [00:00<?, ?it/s]"
      ]
     },
     "metadata": {},
     "output_type": "display_data"
    },
    {
     "name": "stdout",
     "output_type": "stream",
     "text": [
      "20220822_065707_ssc2_u0003_visual.tif\n"
     ]
    },
    {
     "data": {
      "application/vnd.jupyter.widget-view+json": {
       "model_id": "c0f0c13946a947c8a0b738f0bcba4f55",
       "version_major": 2,
       "version_minor": 0
      },
      "text/plain": [
       "Run contour:   0%|          | 0/169 [00:00<?, ?it/s]"
      ]
     },
     "metadata": {},
     "output_type": "display_data"
    },
    {
     "name": "stdout",
     "output_type": "stream",
     "text": [
      "20220822_065817_ssc2_u0001_visual.tif\n"
     ]
    },
    {
     "data": {
      "application/vnd.jupyter.widget-view+json": {
       "model_id": "d4b8b665480c49cf951f534e82bb2d4c",
       "version_major": 2,
       "version_minor": 0
      },
      "text/plain": [
       "Run contour:   0%|          | 0/799 [00:00<?, ?it/s]"
      ]
     },
     "metadata": {},
     "output_type": "display_data"
    },
    {
     "name": "stdout",
     "output_type": "stream",
     "text": [
      "20220822_065817_ssc2_u0002_visual.tif\n"
     ]
    },
    {
     "data": {
      "application/vnd.jupyter.widget-view+json": {
       "model_id": "9dfdc648c4984251ac965f59ac1f24f4",
       "version_major": 2,
       "version_minor": 0
      },
      "text/plain": [
       "Run contour:   0%|          | 0/7 [00:00<?, ?it/s]"
      ]
     },
     "metadata": {},
     "output_type": "display_data"
    },
    {
     "name": "stdout",
     "output_type": "stream",
     "text": [
      "20220823_102815_ssc6_u0001_visual.tif\n"
     ]
    },
    {
     "data": {
      "application/vnd.jupyter.widget-view+json": {
       "model_id": "5b074951b33a4ed29bda9d04f9b29eb3",
       "version_major": 2,
       "version_minor": 0
      },
      "text/plain": [
       "Run contour:   0%|          | 0/493 [00:00<?, ?it/s]"
      ]
     },
     "metadata": {},
     "output_type": "display_data"
    },
    {
     "name": "stdout",
     "output_type": "stream",
     "text": [
      "20220823_102815_ssc6_u0002_visual.tif\n"
     ]
    },
    {
     "data": {
      "application/vnd.jupyter.widget-view+json": {
       "model_id": "9809bd281c274fbe83e2eccfc9b6347e",
       "version_major": 2,
       "version_minor": 0
      },
      "text/plain": [
       "Run contour:   0%|          | 0/895 [00:00<?, ?it/s]"
      ]
     },
     "metadata": {},
     "output_type": "display_data"
    },
    {
     "name": "stdout",
     "output_type": "stream",
     "text": [
      "20220823_104122_ssc7_u0001_visual.tif\n"
     ]
    },
    {
     "data": {
      "application/vnd.jupyter.widget-view+json": {
       "model_id": "df1548a932144282885c27c123dfae26",
       "version_major": 2,
       "version_minor": 0
      },
      "text/plain": [
       "Run contour:   0%|          | 0/772 [00:00<?, ?it/s]"
      ]
     },
     "metadata": {},
     "output_type": "display_data"
    },
    {
     "name": "stdout",
     "output_type": "stream",
     "text": [
      "20220823_104207_ssc7_u0001_visual.tif\n"
     ]
    },
    {
     "data": {
      "application/vnd.jupyter.widget-view+json": {
       "model_id": "f367e4decbb442eca790320fe43e4681",
       "version_major": 2,
       "version_minor": 0
      },
      "text/plain": [
       "Run contour:   0%|          | 0/2628 [00:00<?, ?it/s]"
      ]
     },
     "metadata": {},
     "output_type": "display_data"
    },
    {
     "name": "stdout",
     "output_type": "stream",
     "text": [
      "20220823_104207_ssc7_u0002_visual.tif\n"
     ]
    },
    {
     "data": {
      "application/vnd.jupyter.widget-view+json": {
       "model_id": "b6f8db559f8a4b2c8d0b978c3501622a",
       "version_major": 2,
       "version_minor": 0
      },
      "text/plain": [
       "Run contour:   0%|          | 0/687 [00:00<?, ?it/s]"
      ]
     },
     "metadata": {},
     "output_type": "display_data"
    },
    {
     "name": "stdout",
     "output_type": "stream",
     "text": [
      "20220824_103820_ssc8_u0001_visual.tif\n"
     ]
    },
    {
     "data": {
      "application/vnd.jupyter.widget-view+json": {
       "model_id": "a7626e85e01b492d8d61ad777c086ad9",
       "version_major": 2,
       "version_minor": 0
      },
      "text/plain": [
       "Run contour:   0%|          | 0/58 [00:00<?, ?it/s]"
      ]
     },
     "metadata": {},
     "output_type": "display_data"
    },
    {
     "name": "stdout",
     "output_type": "stream",
     "text": [
      "20220824_103820_ssc8_u0002_visual.tif\n"
     ]
    },
    {
     "data": {
      "application/vnd.jupyter.widget-view+json": {
       "model_id": "f02442f54ba44ce09f602e5bb4b1e616",
       "version_major": 2,
       "version_minor": 0
      },
      "text/plain": [
       "Run contour:   0%|          | 0/78 [00:00<?, ?it/s]"
      ]
     },
     "metadata": {},
     "output_type": "display_data"
    },
    {
     "name": "stdout",
     "output_type": "stream",
     "text": [
      "20220824_103853_ssc8_u0001_visual.tif\n"
     ]
    },
    {
     "data": {
      "application/vnd.jupyter.widget-view+json": {
       "model_id": "f7539479cd47448fae17c1f71d3a62f0",
       "version_major": 2,
       "version_minor": 0
      },
      "text/plain": [
       "Run contour:   0%|          | 0/43 [00:00<?, ?it/s]"
      ]
     },
     "metadata": {},
     "output_type": "display_data"
    },
    {
     "name": "stdout",
     "output_type": "stream",
     "text": [
      "20220824_103853_ssc8_u0002_visual.tif\n"
     ]
    },
    {
     "data": {
      "application/vnd.jupyter.widget-view+json": {
       "model_id": "394cffff51974b8287b5c65fd3b94eb4",
       "version_major": 2,
       "version_minor": 0
      },
      "text/plain": [
       "Run contour:   0%|          | 0/805 [00:00<?, ?it/s]"
      ]
     },
     "metadata": {},
     "output_type": "display_data"
    },
    {
     "name": "stdout",
     "output_type": "stream",
     "text": [
      "20220825_103030_ssc10_u0001_visual.tif\n"
     ]
    },
    {
     "data": {
      "application/vnd.jupyter.widget-view+json": {
       "model_id": "788b765886b34a149b7f2f5dbef05e55",
       "version_major": 2,
       "version_minor": 0
      },
      "text/plain": [
       "Run contour:   0%|          | 0/51075 [00:00<?, ?it/s]"
      ]
     },
     "metadata": {},
     "output_type": "display_data"
    },
    {
     "name": "stdout",
     "output_type": "stream",
     "text": [
      "20220825_103055_ssc10_u0001_visual.tif\n"
     ]
    },
    {
     "data": {
      "application/vnd.jupyter.widget-view+json": {
       "model_id": "e7a416767ca1402db9451a5b69b754d2",
       "version_major": 2,
       "version_minor": 0
      },
      "text/plain": [
       "Run contour:   0%|          | 0/1467 [00:00<?, ?it/s]"
      ]
     },
     "metadata": {},
     "output_type": "display_data"
    },
    {
     "name": "stdout",
     "output_type": "stream",
     "text": [
      "20220825_103055_ssc10_u0002_visual.tif\n"
     ]
    },
    {
     "data": {
      "application/vnd.jupyter.widget-view+json": {
       "model_id": "b88a8ca3cf05442b8cf430bebd2d9af7",
       "version_major": 2,
       "version_minor": 0
      },
      "text/plain": [
       "Run contour:   0%|          | 0/2364 [00:00<?, ?it/s]"
      ]
     },
     "metadata": {},
     "output_type": "display_data"
    },
    {
     "name": "stdout",
     "output_type": "stream",
     "text": [
      "20220826_064200_ssc4_u0001_visual.tif\n"
     ]
    },
    {
     "data": {
      "application/vnd.jupyter.widget-view+json": {
       "model_id": "a3a37363f7774d87885415858126e767",
       "version_major": 2,
       "version_minor": 0
      },
      "text/plain": [
       "Run contour:   0%|          | 0/715 [00:00<?, ?it/s]"
      ]
     },
     "metadata": {},
     "output_type": "display_data"
    },
    {
     "name": "stdout",
     "output_type": "stream",
     "text": [
      "20220826_064200_ssc4_u0002_visual.tif\n"
     ]
    },
    {
     "data": {
      "application/vnd.jupyter.widget-view+json": {
       "model_id": "e4d3bd879d974a62bf625494695a8166",
       "version_major": 2,
       "version_minor": 0
      },
      "text/plain": [
       "Run contour:   0%|          | 0/154 [00:00<?, ?it/s]"
      ]
     },
     "metadata": {},
     "output_type": "display_data"
    },
    {
     "name": "stdout",
     "output_type": "stream",
     "text": [
      "20220826_065511_ssc13_u0001_visual.tif\n"
     ]
    },
    {
     "data": {
      "application/vnd.jupyter.widget-view+json": {
       "model_id": "0fe16ea6f0794628b10ef467d64f8bdf",
       "version_major": 2,
       "version_minor": 0
      },
      "text/plain": [
       "Run contour:   0%|          | 0/226 [00:00<?, ?it/s]"
      ]
     },
     "metadata": {},
     "output_type": "display_data"
    },
    {
     "name": "stdout",
     "output_type": "stream",
     "text": [
      "20220826_065511_ssc13_u0002_visual.tif\n"
     ]
    },
    {
     "data": {
      "application/vnd.jupyter.widget-view+json": {
       "model_id": "d4f1fd1932124f4ea5ebd2d91088faf3",
       "version_major": 2,
       "version_minor": 0
      },
      "text/plain": [
       "Run contour:   0%|          | 0/46 [00:00<?, ?it/s]"
      ]
     },
     "metadata": {},
     "output_type": "display_data"
    },
    {
     "name": "stdout",
     "output_type": "stream",
     "text": [
      "20220826_065957_ssc3_u0002_visual.tif\n"
     ]
    },
    {
     "data": {
      "application/vnd.jupyter.widget-view+json": {
       "model_id": "f17fc5819e0141e484269fa157481576",
       "version_major": 2,
       "version_minor": 0
      },
      "text/plain": [
       "Run contour:   0%|          | 0/3842 [00:00<?, ?it/s]"
      ]
     },
     "metadata": {},
     "output_type": "display_data"
    },
    {
     "name": "stdout",
     "output_type": "stream",
     "text": [
      "20220826_065957_ssc3_u0003_visual.tif\n"
     ]
    },
    {
     "data": {
      "application/vnd.jupyter.widget-view+json": {
       "model_id": "a0ee8c13aef8404ea148b33d3ae02d36",
       "version_major": 2,
       "version_minor": 0
      },
      "text/plain": [
       "Run contour:   0%|          | 0/5809 [00:00<?, ?it/s]"
      ]
     },
     "metadata": {},
     "output_type": "display_data"
    },
    {
     "name": "stdout",
     "output_type": "stream",
     "text": [
      "20220826_073838_ssc1_u0001_visual.tif\n"
     ]
    },
    {
     "data": {
      "application/vnd.jupyter.widget-view+json": {
       "model_id": "e8d70692b977459b897811cb3391bca6",
       "version_major": 2,
       "version_minor": 0
      },
      "text/plain": [
       "Run contour:   0%|          | 0/1950 [00:00<?, ?it/s]"
      ]
     },
     "metadata": {},
     "output_type": "display_data"
    },
    {
     "name": "stdout",
     "output_type": "stream",
     "text": [
      "20220826_073838_ssc1_u0002_visual.tif\n"
     ]
    },
    {
     "data": {
      "application/vnd.jupyter.widget-view+json": {
       "model_id": "c4cf0e29c2264e63a746adc532cb31cc",
       "version_major": 2,
       "version_minor": 0
      },
      "text/plain": [
       "Run contour:   0%|          | 0/1306 [00:00<?, ?it/s]"
      ]
     },
     "metadata": {},
     "output_type": "display_data"
    },
    {
     "name": "stdout",
     "output_type": "stream",
     "text": [
      "20220826_103110_ssc7_u0001_visual.tif\n"
     ]
    },
    {
     "data": {
      "application/vnd.jupyter.widget-view+json": {
       "model_id": "b244d0b10e5f4f78b0d430e854efb280",
       "version_major": 2,
       "version_minor": 0
      },
      "text/plain": [
       "Run contour:   0%|          | 0/68 [00:00<?, ?it/s]"
      ]
     },
     "metadata": {},
     "output_type": "display_data"
    },
    {
     "name": "stdout",
     "output_type": "stream",
     "text": [
      "20220827_102756_ssc8_u0001_visual.tif\n"
     ]
    },
    {
     "data": {
      "application/vnd.jupyter.widget-view+json": {
       "model_id": "d07f4c989022486282088d892c5ac557",
       "version_major": 2,
       "version_minor": 0
      },
      "text/plain": [
       "Run contour:   0%|          | 0/4490 [00:00<?, ?it/s]"
      ]
     },
     "metadata": {},
     "output_type": "display_data"
    },
    {
     "name": "stdout",
     "output_type": "stream",
     "text": [
      "20220827_102756_ssc8_u0002_visual.tif\n"
     ]
    },
    {
     "data": {
      "application/vnd.jupyter.widget-view+json": {
       "model_id": "830d95fab7e441b3ae7273d5b71ad8af",
       "version_major": 2,
       "version_minor": 0
      },
      "text/plain": [
       "Run contour:   0%|          | 0/683 [00:00<?, ?it/s]"
      ]
     },
     "metadata": {},
     "output_type": "display_data"
    },
    {
     "name": "stdout",
     "output_type": "stream",
     "text": [
      "20220829_070632_ssc12_u0001_visual.tif\n"
     ]
    },
    {
     "data": {
      "application/vnd.jupyter.widget-view+json": {
       "model_id": "955720d635f345d68c060fbc008a2dfe",
       "version_major": 2,
       "version_minor": 0
      },
      "text/plain": [
       "Run contour:   0%|          | 0/1748 [00:00<?, ?it/s]"
      ]
     },
     "metadata": {},
     "output_type": "display_data"
    },
    {
     "name": "stdout",
     "output_type": "stream",
     "text": [
      "20220829_070632_ssc12_u0002_visual.tif\n"
     ]
    },
    {
     "data": {
      "application/vnd.jupyter.widget-view+json": {
       "model_id": "4940cf37975b4c83a2ec4bcb66d0337e",
       "version_major": 2,
       "version_minor": 0
      },
      "text/plain": [
       "Run contour:   0%|          | 0/2044 [00:00<?, ?it/s]"
      ]
     },
     "metadata": {},
     "output_type": "display_data"
    },
    {
     "name": "stdout",
     "output_type": "stream",
     "text": [
      "20220829_072739_ssc1_u0001_visual.tif\n"
     ]
    },
    {
     "data": {
      "application/vnd.jupyter.widget-view+json": {
       "model_id": "b63f68701f4549b2ad1f9074d44f9717",
       "version_major": 2,
       "version_minor": 0
      },
      "text/plain": [
       "Run contour:   0%|          | 0/35 [00:00<?, ?it/s]"
      ]
     },
     "metadata": {},
     "output_type": "display_data"
    },
    {
     "name": "stdout",
     "output_type": "stream",
     "text": [
      "20220829_072739_ssc1_u0002_visual.tif\n"
     ]
    },
    {
     "data": {
      "application/vnd.jupyter.widget-view+json": {
       "model_id": "4fe3a53d398c4238a892153011f2f62e",
       "version_major": 2,
       "version_minor": 0
      },
      "text/plain": [
       "Run contour:   0%|          | 0/391 [00:00<?, ?it/s]"
      ]
     },
     "metadata": {},
     "output_type": "display_data"
    },
    {
     "name": "stdout",
     "output_type": "stream",
     "text": [
      "20220901_104012_ssc8_u0001_visual.tif\n"
     ]
    },
    {
     "data": {
      "application/vnd.jupyter.widget-view+json": {
       "model_id": "4211fc0b3f5743fb8fc4bd6a47d6339e",
       "version_major": 2,
       "version_minor": 0
      },
      "text/plain": [
       "Run contour:   0%|          | 0/1511 [00:00<?, ?it/s]"
      ]
     },
     "metadata": {},
     "output_type": "display_data"
    },
    {
     "name": "stdout",
     "output_type": "stream",
     "text": [
      "20220901_104012_ssc8_u0002_visual.tif\n"
     ]
    },
    {
     "data": {
      "application/vnd.jupyter.widget-view+json": {
       "model_id": "6ba1b24ff27b42cbbaed3e3d4fc8aee4",
       "version_major": 2,
       "version_minor": 0
      },
      "text/plain": [
       "Run contour:   0%|          | 0/1835 [00:00<?, ?it/s]"
      ]
     },
     "metadata": {},
     "output_type": "display_data"
    },
    {
     "name": "stdout",
     "output_type": "stream",
     "text": [
      "20220902_103334_ssc10_u0001_visual.tif\n"
     ]
    },
    {
     "data": {
      "application/vnd.jupyter.widget-view+json": {
       "model_id": "e36f0f00423c4418b97e9c611614b4cc",
       "version_major": 2,
       "version_minor": 0
      },
      "text/plain": [
       "Run contour:   0%|          | 0/78 [00:00<?, ?it/s]"
      ]
     },
     "metadata": {},
     "output_type": "display_data"
    },
    {
     "name": "stdout",
     "output_type": "stream",
     "text": [
      "20220902_103334_ssc10_u0002_visual.tif\n"
     ]
    },
    {
     "data": {
      "application/vnd.jupyter.widget-view+json": {
       "model_id": "8ba5789d2fac41dca9d2aefaa3ab0200",
       "version_major": 2,
       "version_minor": 0
      },
      "text/plain": [
       "Run contour:   0%|          | 0/49 [00:00<?, ?it/s]"
      ]
     },
     "metadata": {},
     "output_type": "display_data"
    },
    {
     "name": "stdout",
     "output_type": "stream",
     "text": [
      "20220903_064402_ssc4_u0001_visual.tif\n"
     ]
    },
    {
     "data": {
      "application/vnd.jupyter.widget-view+json": {
       "model_id": "f2d8770c138f4587b6f05bcc44d8b997",
       "version_major": 2,
       "version_minor": 0
      },
      "text/plain": [
       "Run contour:   0%|          | 0/3835 [00:00<?, ?it/s]"
      ]
     },
     "metadata": {},
     "output_type": "display_data"
    },
    {
     "name": "stdout",
     "output_type": "stream",
     "text": [
      "20220903_064402_ssc4_u0002_visual.tif\n"
     ]
    },
    {
     "data": {
      "application/vnd.jupyter.widget-view+json": {
       "model_id": "362b530923c444f4883ae91fd40e6f6c",
       "version_major": 2,
       "version_minor": 0
      },
      "text/plain": [
       "Run contour:   0%|          | 0/746 [00:00<?, ?it/s]"
      ]
     },
     "metadata": {},
     "output_type": "display_data"
    }
   ],
   "source": [
    "import os, glob\n",
    "import rasterio\n",
    "import numpy as np\n",
    "from tqdm.notebook import tqdm\n",
    "import sys\n",
    "# caution: path[0] is reserved for script path (or '' in REPL)\n",
    "sys.path.insert(0, '/home/skm/SKM/WORK/ALL_CODE/statistic')\n",
    "import morphology\n",
    "\n",
    "\n",
    "dir_water = r\"/home/skm/SKM16/Work/OpenLand/all_tif/Water_of_Openland_1666456777_loadmodel\"\n",
    "dir_ok = r\"/home/skm/SKM16/Work/OpenLand/Result_Final/Water\"\n",
    "area_maximum = 50\n",
    "\n",
    "list_break = [\n",
    "    \"20220826_065957_ssc3_u0001_visual.tif\",\n",
    "    \"20220821_070453_ssc12_u0001_visual.tif\",\n",
    "    \"20220820_103902_ssc6_u0001_visual.tif\",\n",
    "    \"20220813_070157_ssc12_u0002_visual.tif\",\n",
    "    \"20220821_070453_ssc12_u0002_visual.tif\",\n",
    "    \"20220819_102529_ssc8_u0002_visual.tif\",\n",
    "    \"20220818_073620_ssc1_u0002_visual.tif\",\n",
    "    \"20220814_103841_ssc10_u0002_visual.tif\",\n",
    "    \"20220814_103841_ssc10_u0001_visual.tif\",\n",
    "    \"20220807_064607_ssc4_u0002_visual.tif\",\n",
    "    \"20220812_070039_ssc4_u0002_visual.tif\",\n",
    "    \"20220813_070157_ssc12_u0001_visual.tif\"\n",
    "]\n",
    "\n",
    "list_fp_remove = [\n",
    "    \"20220820_070317_ssc4_u0002.tif\",\n",
    "    \"20220827_102756_ssc8_u0001.tif\",\n",
    "    \"20220827_102756_ssc8_u0002.tif\",\n",
    "    \"20220826_065957_ssc3_u0002.tif\",\n",
    "    \"20220826_065957_ssc3_u0003.tif\",\n",
    "    \"20220825_103030_ssc10_u0002.tif\",\n",
    "    \"20220825_103055_ssc10_u0001.tif\",\n",
    "    \"20220825_103055_ssc10_u0002.tif\",\n",
    "    \"20220825_103030_ssc10_u0001.tif\",\n",
    "    \"20220824_103853_ssc8_u0002.tif\",\n",
    "    \"20220822_065817_ssc2_u0001.tif\",\n",
    "    \"20220822_065707_ssc2_u0002.tif\",\n",
    "    \"20220822_065707_ssc2_u0001.tif\",\n",
    "    \"20220821_064432_ssc13_u0002.tif\",\n",
    "    \"20220821_070311_ssc3_u0001.tif\",\n",
    "    \"20220821_070348_ssc3_u0002.tif\",\n",
    "    \"20220821_070418_ssc12_u0001.tif\",\n",
    "    \"20220820_070317_ssc4_u0001.tif\",\n",
    "    \"20220820_103902_ssc6_u0002.tif\",\n",
    "    \"20220821_064400_ssc13_u0001.tif\",\n",
    "    \"20220821_064400_ssc13_u0002.tif\",\n",
    "    \"20220818_102817_ssc7_u0001.tif\",\n",
    "    \"20220818_102817_ssc7_u0002.tif\",\n",
    "    \"20220815_065021_ssc4_u0001.tif\",\n",
    "    \"20220813_070232_ssc12_u0001.tif\",\n",
    "    \"20220813_070232_ssc12_u0002.tif\"\n",
    "]\n",
    "\n",
    "list_fp = glob.glob(os.path.join(dir_water, '*.tif'))\n",
    "\n",
    "for fp in tqdm(list_fp):\n",
    "    fname = os.path.basename(fp)\n",
    "    fp_rs = os.path.join(dir_ok, fname)\n",
    "    with rasterio.open(fp) as src:\n",
    "        meta = src.meta\n",
    "        mask = src.read()\n",
    "    if fname in list_fp_remove:\n",
    "        mask[mask != 0] = 0\n",
    "        with rasterio.open(fp_rs, 'w', **meta) as dst:\n",
    "            dst.write(mask)\n",
    "    elif fname in list_break:\n",
    "        continue\n",
    "    else:\n",
    "        print(fname)\n",
    "        mask = mask*255\n",
    "        mask = morphology.remove_area_small(mask[0], area_maximum, value_draw=0)\n",
    "        with rasterio.open(fp_rs, 'w', **meta) as dst:\n",
    "            dst.write(np.array([mask/255], dtype='uint8'))\n",
    "        "
   ]
  },
  {
   "cell_type": "code",
   "execution_count": null,
   "metadata": {},
   "outputs": [],
   "source": []
  }
 ],
 "metadata": {
  "kernelspec": {
   "display_name": "Python 3.7.0 ('geoai')",
   "language": "python",
   "name": "python3"
  },
  "language_info": {
   "codemirror_mode": {
    "name": "ipython",
    "version": 3
   },
   "file_extension": ".py",
   "mimetype": "text/x-python",
   "name": "python",
   "nbconvert_exporter": "python",
   "pygments_lexer": "ipython3",
   "version": "3.7.0"
  },
  "orig_nbformat": 4,
  "vscode": {
   "interpreter": {
    "hash": "1bff4993b5c6f9c50422f70b2dd5a13ec694dfd7dde205c6b1afc92728df224a"
   }
  }
 },
 "nbformat": 4,
 "nbformat_minor": 2
}
