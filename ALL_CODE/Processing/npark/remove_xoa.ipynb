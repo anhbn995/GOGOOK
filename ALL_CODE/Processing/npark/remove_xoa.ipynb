{
 "cells": [
  {
   "cell_type": "code",
   "execution_count": 6,
   "metadata": {},
   "outputs": [],
   "source": [
    "import cv2\n",
    "import numpy as np\n",
    "import rasterio\n",
    "import os, glob"
   ]
  },
  {
   "cell_type": "code",
   "execution_count": 7,
   "metadata": {},
   "outputs": [],
   "source": [
    "fp_T3 = r\"/home/skm/SKM16/Work/Npark_planet2/img_uint8/T3_2022_4326.tif\"\n",
    "with rasterio.open(fp_T3) as src:\n",
    "    mask3_nodata = np.array([src.read_masks(1)])/255\n",
    "fp_T4 = r\"/home/skm/SKM16/Work/Npark_planet2/img_uint8/RS_OK/T4_2022_4326_forest_oke.tif\"\n",
    "with rasterio.open(fp_T4) as src:\n",
    "    meta = src.meta"
   ]
  },
  {
   "cell_type": "code",
   "execution_count": null,
   "metadata": {},
   "outputs": [],
   "source": [
    "with rasterio.open(r\"/home/skm/SKM16/Work/Npark_planet2/img_uint8/xoa_thang_truoc_nodata/xoa_thang_truoc_di.tif\", 'w', **meta) as dst:\n",
    "    dst.write(mask3_nodata.astype('uint8'))"
   ]
  },
  {
   "cell_type": "code",
   "execution_count": 2,
   "metadata": {},
   "outputs": [],
   "source": [
    "fp_T3 = r\"/home/skm/SKM16/Work/Npark_planet2/img_uint8/RS_OK/T3_2022_4326_forest_oke.tif\"\n",
    "fp_T4 = r\"/home/skm/SKM16/Work/Npark_planet2/img_uint8/RS_OK/T4_2022_4326_forest_oke.tif\"\n",
    "\n",
    "fp_them3vao4 = r\"/home/skm/SKM16/Tmp/add3vao4.tif\"\n",
    "fp_them4vao3 = r\"/home/skm/SKM16/Tmp/add4vao3.tif\"\n",
    "fp_xoa_het = r\"/home/skm/SKM16/Tmp/xoa43___.tif\"\n"
   ]
  },
  {
   "cell_type": "code",
   "execution_count": 3,
   "metadata": {},
   "outputs": [],
   "source": [
    "with rasterio.open(fp_T3) as src:\n",
    "    mask_t3 = src.read()*255\n",
    "    mask3_nodata = np.array([src.read_masks(1)])/255\n",
    "    meta = src.meta\n",
    "with rasterio.open(fp_T4) as src:\n",
    "    mask_t4 = src.read()*255\n",
    "    mask4_nodata = np.array([src.read_masks(1)])/255\n",
    "\n",
    "with rasterio.open(fp_them3vao4) as src:\n",
    "    mask_34 = src.read()\n",
    "    mask_34[mask_34!=0]=1\n",
    "with rasterio.open(fp_them4vao3) as src:\n",
    "    mask_43 = src.read()\n",
    "    mask_43[mask_43!=0]=1\n",
    "with rasterio.open(fp_xoa_het) as src:\n",
    "    mask_xoa = src.read()\n",
    "    mask_xoa[mask_xoa!=0]=1\n",
    "    mask_xoa = 1-mask_xoa"
   ]
  },
  {
   "cell_type": "code",
   "execution_count": 4,
   "metadata": {},
   "outputs": [],
   "source": [
    "mask_t3_them_t4 = mask_t3 + mask_43*mask_t4\n",
    "mask_t3_them_t4[mask_t3_them_t4!=0]=255\n",
    "mask_t3_them_t4 = mask_t3_them_t4*mask_xoa*mask3_nodata\n",
    "mask_t3_them_t4[mask_t3_them_t4!=0]=1\n",
    "\n",
    "mask_t4_them_t3 = mask_t4 + mask_34*mask_t3\n",
    "mask_t4_them_t3[mask_t4_them_t3!=0]=255\n",
    "mask_t4_them_t3 = mask_t4_them_t3*mask_xoa*mask4_nodata\n",
    "mask_t4_them_t3[mask_t4_them_t3!=0]=1\n",
    "\n"
   ]
  },
  {
   "cell_type": "code",
   "execution_count": 5,
   "metadata": {},
   "outputs": [],
   "source": [
    "with rasterio.open(fp_T3.replace('.tif', '_ok.tif'), 'w', **meta) as dst:\n",
    "    dst.write(mask_t3_them_t4.astype('uint8'))\n",
    "with rasterio.open(fp_T4.replace('.tif', '_ok.tif'), 'w', **meta) as dst:\n",
    "    dst.write(mask_t4_them_t3.astype('uint8'))"
   ]
  },
  {
   "cell_type": "code",
   "execution_count": null,
   "metadata": {},
   "outputs": [],
   "source": []
  },
  {
   "cell_type": "markdown",
   "metadata": {},
   "source": [
    "# Them nuoc vao lan 2"
   ]
  },
  {
   "cell_type": "code",
   "execution_count": 17,
   "metadata": {},
   "outputs": [],
   "source": [
    "import rasterio\n",
    "import numpy as np"
   ]
  },
  {
   "cell_type": "code",
   "execution_count": 21,
   "metadata": {},
   "outputs": [],
   "source": [
    "fp_img = r\"/home/skm/SKM16/Work/Npark_planet2/img_uint8/rs_water/T4_2022_4326.tif\"\n",
    "fp_add = r\"/home/skm/SKM16/Tmp/mask_water_them_vao_lan2.tif\""
   ]
  },
  {
   "cell_type": "code",
   "execution_count": 22,
   "metadata": {},
   "outputs": [],
   "source": [
    "with rasterio.open(fp_img) as src:\n",
    "    mask_water = src.read()\n",
    "    meta = src.meta\n",
    "with rasterio.open(fp_add) as src:\n",
    "    mask_add = src.read()\n"
   ]
  },
  {
   "cell_type": "code",
   "execution_count": 23,
   "metadata": {},
   "outputs": [],
   "source": [
    "mask_water = mask_water + mask_add\n",
    "mask_water[mask_water != 0] = 255\n",
    "with rasterio.open(fp_img.replace('.tif','_oke.tif'), 'w', **meta) as dst:\n",
    "    dst.write(mask_water.astype('uint8'))"
   ]
  },
  {
   "cell_type": "code",
   "execution_count": null,
   "metadata": {},
   "outputs": [],
   "source": []
  },
  {
   "cell_type": "code",
   "execution_count": 36,
   "metadata": {},
   "outputs": [],
   "source": [
    "import rasterio\n",
    "import numpy as np"
   ]
  },
  {
   "cell_type": "code",
   "execution_count": 37,
   "metadata": {},
   "outputs": [],
   "source": [
    "fp_img_mosaic = r\"/home/skm/SKM16/Work/Npark_planet2/img_uint8/T3_2022_4326.tif\"\n",
    "fp_plant = r\"/home/skm/SKM16/Work/Npark_planet2/img_uint8/RS/T3_2022_4326_plant.tif\"\n",
    "fp_forest = r\"/home/skm/SKM16/Work/Npark_planet2/img_uint8/RS/T3_2022_4326_forest.tif\"\n",
    "fp_water = r\"/home/skm/SKM16/Work/Npark_planet2/img_uint8/RS/T3_2022_4326_water.tif\""
   ]
  },
  {
   "cell_type": "code",
   "execution_count": 38,
   "metadata": {},
   "outputs": [],
   "source": [
    "with rasterio.open(fp_img_mosaic) as src:\n",
    "    mask_nodata = np.array([src.read_masks(1)])\n",
    "\n",
    "\n",
    "with rasterio.open(fp_water) as src:\n",
    "    mask_water = src.read()\n",
    "    index_water = np.where(mask_water != 0)\n",
    "    meta = src.meta\n",
    "\n",
    "with rasterio.open(fp_plant) as src:\n",
    "    mask_plant = src.read()\n",
    "    mask_plant[mask_plant==255] = 1\n",
    "    # mask_plant[mask_plant!=1] = 0\n",
    "    # idx_plant = np.where(mask_plant == 1)\n",
    "\n",
    "\n"
   ]
  },
  {
   "cell_type": "code",
   "execution_count": 39,
   "metadata": {},
   "outputs": [],
   "source": [
    "index_nodata = np.where(mask_nodata==0)\n",
    "mask_plant[index_water] = 2\n",
    "mask_plant[mask_plant == 0] = 3\n",
    "mask_plant[index_nodata] = 0\n",
    "with rasterio.open(r\"/home/skm/SKM16/Work/Npark_planet2/img_uint8/RS/T3_2022_4326_color.tif\",'w',**meta) as dst:\n",
    "    dst.write(mask_plant)\n",
    "    dst.write_colormap(1, {\n",
    "                    0: (0,0,0, 0),\n",
    "                    1: (34,139,34,0), #Green\n",
    "                    2: (100, 149, 237, 0), #water\n",
    "                    3: (101,67,33, 0)}) #Buildup"
   ]
  },
  {
   "cell_type": "code",
   "execution_count": 40,
   "metadata": {},
   "outputs": [],
   "source": [
    "with rasterio.open(fp_forest) as src:\n",
    "    mask_forest = src.read()\n",
    "    mask_forest[mask_forest!=0] = 1\n",
    "    meta = src.meta\n",
    "with rasterio.open(fp_forest.replace(\".tif\",\"_oke.tif\"),'w',**meta) as dst:\n",
    "    dst.write(mask_forest.astype('uint8'))"
   ]
  },
  {
   "cell_type": "code",
   "execution_count": null,
   "metadata": {},
   "outputs": [],
   "source": []
  }
 ],
 "metadata": {
  "kernelspec": {
   "display_name": "Python 3.7.0 ('geoai')",
   "language": "python",
   "name": "python3"
  },
  "language_info": {
   "codemirror_mode": {
    "name": "ipython",
    "version": 3
   },
   "file_extension": ".py",
   "mimetype": "text/x-python",
   "name": "python",
   "nbconvert_exporter": "python",
   "pygments_lexer": "ipython3",
   "version": "3.7.0"
  },
  "orig_nbformat": 4,
  "vscode": {
   "interpreter": {
    "hash": "1bff4993b5c6f9c50422f70b2dd5a13ec694dfd7dde205c6b1afc92728df224a"
   }
  }
 },
 "nbformat": 4,
 "nbformat_minor": 2
}
