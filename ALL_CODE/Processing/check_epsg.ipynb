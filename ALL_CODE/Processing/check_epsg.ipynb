{
 "cells": [
  {
   "cell_type": "code",
   "execution_count": 6,
   "metadata": {},
   "outputs": [],
   "source": [
    "\n",
    "from osgeo import gdal\n",
    "import rasterio\n",
    "import os\n",
    "import shutil\n",
    "\n",
    "month= 8\n",
    "year = 2022\n",
    "src_path = f'/home/skm/SKM16/IMAGE/npark/npark-backend-v2/data_projects/Green Cover Npark Singapore/PlanetScope/v_4326/mosaic/T{month-1}_{year}.tif'\n",
    "dst_path = r\"/home/skm/SKM16/IMAGE/npark/npark_backend_planet_v0/temp/a.tif\"\n",
    "with rasterio.open(src_path) as ds:\n",
    "    nodata = ds.nodata or 0\n",
    "dst_crs = 'EPSG:4326'\n",
    "if ds.crs.to_string() != dst_crs:\n",
    "    print('joint')\n",
    "    temp_path = dst_path.replace('.tif', 'temp.tif')\n",
    "    option = gdal.TranslateOptions(gdal.ParseCommandLine(\"-co \\\"TFW=YES\\\"\"))\n",
    "    gdal.Translate(temp_path, src_path, options=option)\n",
    "    option = gdal.WarpOptions(gdal.ParseCommandLine(\"-t_srs {} -dstnodata {}\".format(dst_crs, nodata)))\n",
    "    gdal.Warp(dst_path, temp_path, options=option)\n",
    "    os.remove(temp_path)\n",
    "else:\n",
    "    print('coppy')\n",
    "    shutil.copyfile(src_path, dst_path)"
   ]
  },
  {
   "cell_type": "code",
   "execution_count": 5,
   "metadata": {},
   "outputs": [
    {
     "data": {
      "text/plain": [
       "'EPSG:4326'"
      ]
     },
     "execution_count": 5,
     "metadata": {},
     "output_type": "execute_result"
    }
   ],
   "source": [
    "ds.crs.to_string()"
   ]
  },
  {
   "cell_type": "code",
   "execution_count": null,
   "metadata": {},
   "outputs": [],
   "source": []
  }
 ],
 "metadata": {
  "kernelspec": {
   "display_name": "Python 3.7.0 ('geoai')",
   "language": "python",
   "name": "python3"
  },
  "language_info": {
   "codemirror_mode": {
    "name": "ipython",
    "version": 3
   },
   "file_extension": ".py",
   "mimetype": "text/x-python",
   "name": "python",
   "nbconvert_exporter": "python",
   "pygments_lexer": "ipython3",
   "version": "3.7.0"
  },
  "orig_nbformat": 4,
  "vscode": {
   "interpreter": {
    "hash": "1bff4993b5c6f9c50422f70b2dd5a13ec694dfd7dde205c6b1afc92728df224a"
   }
  }
 },
 "nbformat": 4,
 "nbformat_minor": 2
}
