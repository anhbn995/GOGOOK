{
 "cells": [
  {
   "cell_type": "code",
   "execution_count": 10,
   "metadata": {},
   "outputs": [],
   "source": [
    "from osgeo import gdal, gdalconst, ogr, osr\n",
    "import numpy as np\n",
    "import rasterio\n",
    "import os, glob\n",
    "from tqdm import tqdm\n",
    "from mosaic import mosaic1"
   ]
  },
  {
   "cell_type": "code",
   "execution_count": 11,
   "metadata": {},
   "outputs": [],
   "source": [
    "\n",
    "def get_min_max_img_follow(img_for_follow, numband):\n",
    "    \"\"\"Ham nay de tinh percentile cua anh duoc chon de follow\"\"\"\n",
    "    dataset = gdal.Open(img_for_follow, gdal.GA_ReadOnly)\n",
    "    dict_band_min_max_percentile_follow = {k: dict(max=0, min=0) for k in range(numband)}\n",
    "\n",
    "    for i_chan in range(numband):\n",
    "        band = dataset.GetRasterBand(i_chan+1).ReadAsArray().astype(np.float16)\n",
    "        band[band==0] = np.nan\n",
    "        dict_band_min_max_percentile_follow[i_chan]['max'] = np.nanpercentile(band, 98)\n",
    "        dict_band_min_max_percentile_follow[i_chan]['min'] = np.nanpercentile(band, 2)\n",
    "    return dict_band_min_max_percentile_follow\n",
    "\n",
    "\n",
    "def convert_percentile_all_file_in_dir(dir_img, numband, dict_band_min_max_percentile_follow, out_dir):\n",
    "    list_fp = glob.glob(os.path.join(dir_img,'*.tif'))\n",
    "    k = 0\n",
    "    for image_path in tqdm(list_fp):\n",
    "        # image_path = r\"/home/skm/SKM16/Work/Npark_planet/Z_Tat_ca_anh_roi_rac/img_origin_remove_cloud/t3/20220330_030416_80_248c_3B_AnalyticMS_SR_8b_clip.tif\"\n",
    "        dataset_ori = gdal.Open(image_path, gdal.GA_ReadOnly)\n",
    "        dict_band_min_max_percentile_ori = {k: dict(max=0, min=0) for k in range(numband)}\n",
    "\n",
    "        for i_chan in range(numband):\n",
    "            band = dataset_ori.GetRasterBand(i_chan+1).ReadAsArray().astype(np.float16)\n",
    "            band[band==0] = np.nan\n",
    "            dict_band_min_max_percentile_ori[i_chan]['max'] = np.nanpercentile(band, 98)\n",
    "            dict_band_min_max_percentile_ori[i_chan]['min'] = np.nanpercentile(band, 2)\n",
    "        src = rasterio.open(image_path)\n",
    "        meta = src.meta\n",
    "\n",
    "        img_ = src.read()\n",
    "        img_percentile = np.empty(img_.shape)\n",
    "        for i in range(numband):\n",
    "            idxnodata = np.where(img_[i]==meta['nodata'])\n",
    "            # img_[i][img_[i] > dict_band_min_max_percentile[i]['max']] = dict_band_min_max_percentile[i]['max']\n",
    "            # img_[i][img_[i] < dict_band_min_max_percentile[i]['min']] = dict_band_min_max_percentile[i]['min']\n",
    "            # img_[i][idxnodata]=meta['nodata']\n",
    "\n",
    "            img_percentile[i] = np.interp(img_[i], (dict_band_min_max_percentile_ori[i]['min'], dict_band_min_max_percentile_ori[i]['max']), \n",
    "                                                (dict_band_min_max_percentile_follow[i]['min'], dict_band_min_max_percentile_follow[i]['max']))\n",
    "            img_percentile[i][idxnodata]=meta['nodata']\n",
    "            img_percentile[i].astype('uint16')\n",
    "        img_percentile = img_percentile.astype('uint16')\n",
    "        # out = r\"/home/skm/SKM16/Work/Npark_planet/Z_Tat_ca_anh_roi_rac/img_origin_remove_cloud/t3/mosaic/mosaic3.tif\"\n",
    "        k+=1\n",
    "        out = os.path.join(out_dir, f\"mosaic_{k}.tif\")\n",
    "        with rasterio.open(out, 'w', **meta) as dst:\n",
    "            dst.write(img_percentile)\n"
   ]
  },
  {
   "cell_type": "markdown",
   "metadata": {},
   "source": [
    "## Chay ra folder can percentile"
   ]
  },
  {
   "cell_type": "code",
   "execution_count": 12,
   "metadata": {},
   "outputs": [
    {
     "name": "stderr",
     "output_type": "stream",
     "text": [
      "100%|██████████| 4/4 [00:46<00:00, 11.51s/it]\n"
     ]
    }
   ],
   "source": [
    "img_for_follow = r\"/home/skm/SKM16/IMAGE/npark/npark-backend-v2/data_projects/Green Cover Npark Singapore/tmp/T7-2022/data_genorator_01/predict_float/cloud/S2B_MSIL2A_20220709T031529_N0400_R118_T48NUG_20220709T061854_haze_4_0.tif\"\n",
    "dir_path_need_follow = r\"/home/skm/SKM16/IMAGE/npark/npark-backend-v2/data_projects/Green Cover Npark Singapore/tmp/T7-2022/data_genorator_01/predict_float/cloud\"\n",
    "numband = 4\n",
    "out_dir_percentile = r\"/home/skm/SKM16/Tmp/per_mosaic_t7_v2\"\n",
    "if not os.path.exists(out_dir_percentile):\n",
    "    os.makedirs(out_dir_percentile)\n",
    "dict_band_min_max_percentile_follow = get_min_max_img_follow(img_for_follow, numband)\n",
    "convert_percentile_all_file_in_dir(dir_path_need_follow, numband, dict_band_min_max_percentile_follow, out_dir_percentile)\n"
   ]
  },
  {
   "cell_type": "markdown",
   "metadata": {},
   "source": [
    "## Mosaic tuy bien hoac chon"
   ]
  },
  {
   "cell_type": "markdown",
   "metadata": {},
   "source": [
    "\n",
    "    Trong list MOSAIC danh sach thi \"O DAU LIST se la anh TREN CUNG\"\n"
   ]
  },
  {
   "cell_type": "code",
   "execution_count": 13,
   "metadata": {},
   "outputs": [],
   "source": [
    "list_img_name = [   \"mosaic_1.tif\",\n",
    "                    \"mosaic_3.tif\",\n",
    "                    \"mosaic_4.tif\",\n",
    "                    \"mosaic_2.tif\"\n",
    "]\n",
    "dir_mosaic = r\"/home/skm/SKM16/Tmp/per_mosaic_t7/b\"\n",
    "out_path = os.path.join(dir_mosaic,\"mosaic1.tif\")\n",
    "if not os.path.exists(dir_mosaic):\n",
    "    os.makedirs(dir_mosaic)\n",
    "mosaic1(out_dir_percentile, list_img_name, out_path)"
   ]
  },
  {
   "cell_type": "markdown",
   "metadata": {},
   "source": [
    "    Mosaic tu dong"
   ]
  },
  {
   "cell_type": "code",
   "execution_count": null,
   "metadata": {},
   "outputs": [],
   "source": [
    "\n",
    "dir_mosaic = r\"/home/skm/SKM16/Tmp/per_mosaic_t7/b\"\n"
   ]
  }
 ],
 "metadata": {
  "kernelspec": {
   "display_name": "Python 3.7.0 ('geoai')",
   "language": "python",
   "name": "python3"
  },
  "language_info": {
   "codemirror_mode": {
    "name": "ipython",
    "version": 3
   },
   "file_extension": ".py",
   "mimetype": "text/x-python",
   "name": "python",
   "nbconvert_exporter": "python",
   "pygments_lexer": "ipython3",
   "version": "3.7.0"
  },
  "orig_nbformat": 4,
  "vscode": {
   "interpreter": {
    "hash": "1bff4993b5c6f9c50422f70b2dd5a13ec694dfd7dde205c6b1afc92728df224a"
   }
  }
 },
 "nbformat": 4,
 "nbformat_minor": 2
}
