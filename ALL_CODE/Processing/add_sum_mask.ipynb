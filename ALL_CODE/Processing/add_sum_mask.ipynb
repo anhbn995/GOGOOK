{
 "cells": [
  {
   "cell_type": "code",
   "execution_count": 8,
   "metadata": {},
   "outputs": [],
   "source": [
    "import numpy as np\n",
    "import rasterio\n",
    "import os, glob\n",
    "# from mosaic import mosaic2"
   ]
  },
  {
   "cell_type": "code",
   "execution_count": 9,
   "metadata": {},
   "outputs": [],
   "source": [
    "def get_list_fp_file(path_folder, name_file = '*.tif'):\n",
    "    \"\"\"\n",
    "        Get all file path with file type is name_file.\n",
    "    \"\"\"\n",
    "    list_img_dir = []\n",
    "    for file_ in glob.glob(os.path.join(path_folder, name_file)):\n",
    "        # head, tail = os.path.split(file_)\n",
    "        list_img_dir.append(file_)\n",
    "    return list_img_dir"
   ]
  },
  {
   "cell_type": "code",
   "execution_count": 10,
   "metadata": {},
   "outputs": [],
   "source": [
    "dir_path_mask1 = r\"/home/skm/SKM16/Work/Npark_planet/Z_Tat_ca_anh_roi_rac/Mosaic_theo_thang_remove_cloud/T3_8bit_perimage/T3/rs_Forest\"\n",
    "dir_path_mask2 = r\"/home/skm/SKM16/Work/Npark_planet/Z_Tat_ca_anh_roi_rac/img_origin_remove_cloud/t3_8bit_perimage/t3/forest\"\n",
    "out_fp_sum = r\"/home/skm/SKM16/Work/Npark_planet/Z_Tat_ca_anh_roi_rac/Mosaic_theo_thang_remove_cloud/T3/rs/T3_2022_forest.tif\""
   ]
  },
  {
   "cell_type": "code",
   "execution_count": 11,
   "metadata": {},
   "outputs": [
    {
     "data": {
      "text/plain": [
       "['/home/skm/SKM16/Work/Npark_planet/Z_Tat_ca_anh_roi_rac/Mosaic_theo_thang_remove_cloud/T3_8bit_perimage/T3/rs_Forest/T3_2022.tif']"
      ]
     },
     "execution_count": 11,
     "metadata": {},
     "output_type": "execute_result"
    }
   ],
   "source": [
    "list_fp1 = get_list_fp_file(dir_path_mask1)\n",
    "list_fp2 = get_list_fp_file(dir_path_mask2)\n",
    "list_fp1"
   ]
  },
  {
   "cell_type": "code",
   "execution_count": 12,
   "metadata": {},
   "outputs": [
    {
     "data": {
      "text/plain": [
       "array([  0, 255], dtype=uint8)"
      ]
     },
     "execution_count": 12,
     "metadata": {},
     "output_type": "execute_result"
    }
   ],
   "source": [
    "with rasterio.open(list_fp1[0]) as src:\n",
    "    meta = src.meta\n",
    "    mask_rs = src.read()\n",
    "\n",
    "mask2 = mosaic2(list_fp2)\n",
    "np.unique(mask2)"
   ]
  },
  {
   "cell_type": "code",
   "execution_count": 13,
   "metadata": {},
   "outputs": [],
   "source": [
    "mask_rs = mask_rs + mask2\n",
    "mask_rs[mask_rs > 0] = 1"
   ]
  },
  {
   "cell_type": "code",
   "execution_count": 14,
   "metadata": {},
   "outputs": [],
   "source": [
    "with rasterio.open(out_fp_sum,'w',**meta) as dst:\n",
    "    dst.write(mask_rs.astype('uint8'))"
   ]
  },
  {
   "cell_type": "code",
   "execution_count": null,
   "metadata": {},
   "outputs": [],
   "source": []
  }
 ],
 "metadata": {
  "kernelspec": {
   "display_name": "Python 3.7.0 ('geoai')",
   "language": "python",
   "name": "python3"
  },
  "language_info": {
   "codemirror_mode": {
    "name": "ipython",
    "version": 3
   },
   "file_extension": ".py",
   "mimetype": "text/x-python",
   "name": "python",
   "nbconvert_exporter": "python",
   "pygments_lexer": "ipython3",
   "version": "3.7.0"
  },
  "orig_nbformat": 4,
  "vscode": {
   "interpreter": {
    "hash": "1bff4993b5c6f9c50422f70b2dd5a13ec694dfd7dde205c6b1afc92728df224a"
   }
  }
 },
 "nbformat": 4,
 "nbformat_minor": 2
}
