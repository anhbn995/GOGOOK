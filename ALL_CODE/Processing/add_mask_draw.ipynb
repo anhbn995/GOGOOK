{
 "cells": [
  {
   "cell_type": "code",
   "execution_count": 2,
   "metadata": {},
   "outputs": [],
   "source": [
    "import os, glob\n",
    "import rasterio\n",
    "import numpy as np\n",
    "from tqdm.notebook import tqdm\n",
    "def get_list_fp_or_name(folder_dir, type_file = '*.tif', name=False):\n",
    "        \"\"\"\n",
    "            Get all file path with file type is type_file.\n",
    "        \"\"\"\n",
    "        list_fp = []\n",
    "        list_name = []\n",
    "        for file_ in glob.glob(os.path.join(folder_dir, type_file)):\n",
    "            head, tail = os.path.split(file_)\n",
    "            list_fp.append(os.path.join(head, tail))\n",
    "            list_name.append(tail)\n",
    "        if name:\n",
    "            return list_name\n",
    "        else:\n",
    "            return list_fp\n",
    "\n",
    "\n",
    "def add_missing_label(dir_mask_miss, dir_mask_draw, out_dir_add):\n",
    "    os.makedirs(out_dir_add, exist_ok=True)\n",
    "    list_name_file = get_list_fp_or_name(dir_mask_miss, name=True)\n",
    "    list_name_file\n",
    "    for name_f in tqdm(list_name_file):\n",
    "        img_miss = os.path.join(dir_mask_miss, name_f)\n",
    "        img_draw = os.path.join(dir_mask_draw, name_f)\n",
    "        out_img_add = os.path.join(out_dir_add, name_f)\n",
    "        with rasterio.open(img_miss) as src1:\n",
    "            mask_need_add = src1.read()\n",
    "            meta = src1.meta\n",
    "\n",
    "        with rasterio.open(img_draw) as src2:\n",
    "            mask_draw = src2.read()\n",
    "            # meta = src2.meta\n",
    "\n",
    "        mask_rs = mask_need_add + mask_draw\n",
    "        mask_rs[mask_rs > 0] = 255\n",
    "\n",
    "        with rasterio.open(out_img_add, 'w', **meta) as dst:\n",
    "            dst.write(mask_rs.astype('uint8'))"
   ]
  },
  {
   "cell_type": "code",
   "execution_count": 3,
   "metadata": {},
   "outputs": [
    {
     "data": {
      "application/vnd.jupyter.widget-view+json": {
       "model_id": "399f159604104d9e9a1948f551376125",
       "version_major": 2,
       "version_minor": 0
      },
      "text/plain": [
       "  0%|          | 0/4 [00:00<?, ?it/s]"
      ]
     },
     "metadata": {},
     "output_type": "display_data"
    }
   ],
   "source": [
    "dir_mask_miss = r\"/home/skm/SKM16/Work/OpenLand/1_Data_train/img_train__khoang_255/mask_nha_va_duong/img_mask_bf_road_miss\"\n",
    "dir_mask_draw = r\"/home/skm/SKM16/Work/OpenLand/1_Data_train/img_train__khoang_255/mask_nha_va_duong/img_mask_ve_them_chua_add\"\n",
    "out_dir_add = r\"/home/skm/SKM16/Work/OpenLand/1_Data_train/img_train__khoang_255/mask_nha_va_duong/img_mask_bf_road_zadd\"\n",
    "add_missing_label(dir_mask_miss, dir_mask_draw, out_dir_add)"
   ]
  },
  {
   "cell_type": "code",
   "execution_count": null,
   "metadata": {},
   "outputs": [],
   "source": []
  }
 ],
 "metadata": {
  "kernelspec": {
   "display_name": "Python 3.7.0 ('geoai')",
   "language": "python",
   "name": "python3"
  },
  "language_info": {
   "codemirror_mode": {
    "name": "ipython",
    "version": 3
   },
   "file_extension": ".py",
   "mimetype": "text/x-python",
   "name": "python",
   "nbconvert_exporter": "python",
   "pygments_lexer": "ipython3",
   "version": "3.7.0"
  },
  "orig_nbformat": 4,
  "vscode": {
   "interpreter": {
    "hash": "1bff4993b5c6f9c50422f70b2dd5a13ec694dfd7dde205c6b1afc92728df224a"
   }
  }
 },
 "nbformat": 4,
 "nbformat_minor": 2
}
