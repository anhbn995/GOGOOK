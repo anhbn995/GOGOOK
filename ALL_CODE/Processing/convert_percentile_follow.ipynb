{
 "cells": [
  {
   "cell_type": "code",
   "execution_count": 1,
   "metadata": {},
   "outputs": [],
   "source": [
    "from osgeo import gdal, gdalconst, ogr, osr\n",
    "import numpy as np\n",
    "import rasterio\n"
   ]
  },
  {
   "cell_type": "code",
   "execution_count": 2,
   "metadata": {},
   "outputs": [],
   "source": [
    "\n",
    "num_channel = 8"
   ]
  },
  {
   "cell_type": "code",
   "execution_count": 3,
   "metadata": {},
   "outputs": [],
   "source": [
    "\n",
    "# img_for_follow = r\"/home/skm/SKM16/Work/Npark_planet/image_roi_rac/20220330_023353_67_2460_3B_AnalyticMS_SR_8b_clip.tif\"\n",
    "# img_for_follow = r\"/home/skm/SKM16/Work/Npark_planet/Z_Tat_ca_anh_roi_rac/img_origin_remove_cloud/t3/20220330_023353_67_2460_3B_AnalyticMS_SR_8b_clip.tif\"\n",
    "img_for_follow = r\"/home/skm/SKM16/Work/Npark_planet2/img/view/T4_2022_32648.tif\"\n",
    "dataset = gdal.Open(img_for_follow, gdal.GA_ReadOnly)\n",
    "dict_band_min_max_percentile_follow = {k: dict(max=0, min=0) for k in range(num_channel)}\n",
    "\n",
    "for i_chan in range(num_channel):\n",
    "    band = dataset.GetRasterBand(i_chan+1).ReadAsArray().astype(np.float16)\n",
    "    band[band==0] = np.nan\n",
    "    dict_band_min_max_percentile_follow[i_chan]['max'] = np.nanpercentile(band, 98)\n",
    "    dict_band_min_max_percentile_follow[i_chan]['min'] = np.nanpercentile(band, 2)\n",
    "\n"
   ]
  },
  {
   "cell_type": "code",
   "execution_count": 4,
   "metadata": {},
   "outputs": [
    {
     "name": "stdout",
     "output_type": "stream",
     "text": [
      "xong\n",
      "xong\n"
     ]
    }
   ],
   "source": [
    "# image_path = r\"/home/skm/SKM16/Work/Npark_planet/image_roi_rac/giu/20220313_023541_10_2465_3B_AnalyticMS_SR_8b_clip.tif\"\n",
    "import os, glob\n",
    "dir_img = r\"/home/skm/SKM16/Work/Npark_planet2/img/view\"\n",
    "list_fp = glob.glob(os.path.join(dir_img,'*.tif'))\n",
    "k = 0\n",
    "for image_path in list_fp:\n",
    "    # image_path = r\"/home/skm/SKM16/Work/Npark_planet/Z_Tat_ca_anh_roi_rac/img_origin_remove_cloud/t3/20220330_030416_80_248c_3B_AnalyticMS_SR_8b_clip.tif\"\n",
    "    dataset_ori = gdal.Open(image_path, gdal.GA_ReadOnly)\n",
    "    dict_band_min_max_percentile_ori = {k: dict(max=0, min=0) for k in range(num_channel)}\n",
    "\n",
    "    for i_chan in range(num_channel):\n",
    "        band = dataset_ori.GetRasterBand(i_chan+1).ReadAsArray().astype(np.float16)\n",
    "        band[band==0] = np.nan\n",
    "        dict_band_min_max_percentile_ori[i_chan]['max'] = np.nanpercentile(band, 98)\n",
    "        dict_band_min_max_percentile_ori[i_chan]['min'] = np.nanpercentile(band, 2)\n",
    "    src = rasterio.open(image_path)\n",
    "    meta = src.meta\n",
    "\n",
    "    img_ = src.read()\n",
    "    img_percentile = np.empty(img_.shape)\n",
    "    for i in range(8):\n",
    "        idxnodata = np.where(img_[i]==meta['nodata'])\n",
    "        # img_[i][img_[i] > dict_band_min_max_percentile[i]['max']] = dict_band_min_max_percentile[i]['max']\n",
    "        # img_[i][img_[i] < dict_band_min_max_percentile[i]['min']] = dict_band_min_max_percentile[i]['min']\n",
    "        # img_[i][idxnodata]=meta['nodata']\n",
    "\n",
    "        img_percentile[i] = np.interp(img_[i], (dict_band_min_max_percentile_ori[i]['min'], dict_band_min_max_percentile_ori[i]['max']), \n",
    "                                            (dict_band_min_max_percentile_follow[i]['min'], dict_band_min_max_percentile_follow[i]['max']))\n",
    "        img_percentile[i][idxnodata]=meta['nodata']\n",
    "        img_percentile[i].astype('uint16')\n",
    "    img_percentile = img_percentile.astype('uint16')\n",
    "    # out = r\"/home/skm/SKM16/Work/Npark_planet/Z_Tat_ca_anh_roi_rac/img_origin_remove_cloud/t3/mosaic/mosaic3.tif\"\n",
    "    k+=1\n",
    "    out = os.path.join(\"/home/skm/SKM16/Work/Npark_planet2/img/view/percentile\", f\"mosaic_{k}.tif\")\n",
    "    with rasterio.open(out, 'w', **meta) as dst:\n",
    "        dst.write(img_percentile)\n",
    "    print(\"xong\")\n"
   ]
  },
  {
   "cell_type": "code",
   "execution_count": null,
   "metadata": {},
   "outputs": [],
   "source": [
    "\n",
    "# src = rasterio.open(image_path)\n",
    "# meta = src.meta\n",
    "\n",
    "# img_ = src.read()\n",
    "# img_percentile = np.empty(img_.shape)\n",
    "# for i in range(8):\n",
    "#     idxnodata = np.where(img_[i]==meta['nodata'])\n",
    "#     # img_[i][img_[i] > dict_band_min_max_percentile[i]['max']] = dict_band_min_max_percentile[i]['max']\n",
    "#     # img_[i][img_[i] < dict_band_min_max_percentile[i]['min']] = dict_band_min_max_percentile[i]['min']\n",
    "#     # img_[i][idxnodata]=meta['nodata']\n",
    "\n",
    "#     img_percentile[i] = np.interp(img_[i], (dict_band_min_max_percentile_ori[i]['min'], dict_band_min_max_percentile_ori[i]['max']), \n",
    "#                                            (dict_band_min_max_percentile_follow[i]['min'], dict_band_min_max_percentile_follow[i]['max']))\n",
    "#     img_percentile[i][idxnodata]=meta['nodata']\n",
    "#     img_percentile[i].astype('uint16')\n",
    "\n",
    "\n"
   ]
  },
  {
   "cell_type": "code",
   "execution_count": null,
   "metadata": {},
   "outputs": [],
   "source": [
    "# img_percentile = img_percentile.astype('uint16')\n",
    "# out = r\"/home/skm/SKM16/Work/Npark_planet/Z_Tat_ca_anh_roi_rac/img_origin_remove_cloud/t3/mosaic/mosaic3.tif\"\n",
    "# with rasterio.open(out, 'w', **meta) as dst:\n",
    "#     dst.write(img_percentile)\n",
    "# print(\"xong\")"
   ]
  },
  {
   "cell_type": "code",
   "execution_count": 1,
   "metadata": {},
   "outputs": [],
   "source": [
    "from mosaic import mosaic1\n",
    "dir_path = r\"/home/skm/SKM16/Work/Npark_planet2/img/view/percentile\"\n",
    "list_img_name = [ \"mosaic_2.tif\",\n",
    "                  \"mosaic_1.tif\" \n",
    "]\n",
    "out_path = r\"/home/skm/SKM16/Work/Npark_planet2/img/view/T4/T4_2022_32648_ok_3.tif\"\n",
    "mosaic1(dir_path, list_img_name, out_path)\n"
   ]
  },
  {
   "cell_type": "markdown",
   "metadata": {},
   "source": [
    "# Lay nodata anh dau tien"
   ]
  },
  {
   "cell_type": "code",
   "execution_count": 4,
   "metadata": {},
   "outputs": [],
   "source": [
    "import rasterio\n",
    "import numpy as np\n",
    "fp = r\"/home/geoai/geoai_data_test2/data_npark_prod_PlanetScope/data/2022/03/images/4439c0917fcd411da7f299c97cd67372.tif\"\n",
    "fp_meta = r\"/home/geoai/geoai_data_test2/data_npark_prod_PlanetScope/data/2022/03/images/9adb4c6de91945c0812644280ea18160.tif\""
   ]
  },
  {
   "cell_type": "code",
   "execution_count": 5,
   "metadata": {},
   "outputs": [],
   "source": [
    "with rasterio.open(fp) as src:\n",
    "    mask_nodata = np.array([src.read_masks(1)])/255\n",
    "with rasterio.open(fp_meta) as src:\n",
    "    meta=src.meta"
   ]
  },
  {
   "cell_type": "code",
   "execution_count": 6,
   "metadata": {},
   "outputs": [],
   "source": [
    "with rasterio.open(r\"/home/geoai/geoai_data_test2/data_npark_prod_PlanetScope/xoa.tif\",'w',**meta) as dst:\n",
    "    dst.write(mask_nodata.astype('uint8'))"
   ]
  },
  {
   "cell_type": "code",
   "execution_count": null,
   "metadata": {},
   "outputs": [],
   "source": []
  }
 ],
 "metadata": {
  "kernelspec": {
   "display_name": "Python 3.7.0 ('geoai')",
   "language": "python",
   "name": "python3"
  },
  "language_info": {
   "codemirror_mode": {
    "name": "ipython",
    "version": 3
   },
   "file_extension": ".py",
   "mimetype": "text/x-python",
   "name": "python",
   "nbconvert_exporter": "python",
   "pygments_lexer": "ipython3",
   "version": "3.7.0 (default, Oct  9 2018, 10:31:47) \n[GCC 7.3.0]"
  },
  "orig_nbformat": 4,
  "vscode": {
   "interpreter": {
    "hash": "1bff4993b5c6f9c50422f70b2dd5a13ec694dfd7dde205c6b1afc92728df224a"
   }
  }
 },
 "nbformat": 4,
 "nbformat_minor": 2
}
