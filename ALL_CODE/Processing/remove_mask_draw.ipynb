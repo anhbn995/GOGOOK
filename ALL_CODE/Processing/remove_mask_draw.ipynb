{
 "cells": [
  {
   "cell_type": "code",
   "execution_count": 13,
   "metadata": {},
   "outputs": [],
   "source": [
    "import rasterio\n",
    "import glob, os\n",
    "import numpy as np\n",
    "import cv2"
   ]
  },
  {
   "cell_type": "code",
   "execution_count": 14,
   "metadata": {},
   "outputs": [],
   "source": [
    "def get_list_name_file(path_folder, name_file = '*.tif'):\n",
    "    \"\"\"\n",
    "        Get all file path with file type is name_file.\n",
    "    \"\"\"\n",
    "    list_img_dir = []\n",
    "    for file_ in glob.glob(os.path.join(path_folder, name_file)):\n",
    "        _, tail = os.path.split(file_)\n",
    "        list_img_dir.append(tail)\n",
    "    return list_img_dir"
   ]
  },
  {
   "cell_type": "code",
   "execution_count": 15,
   "metadata": {},
   "outputs": [],
   "source": [
    "def get_index_cloud_for_numband(mask_cloud, numband):\n",
    "    \"\"\"\n",
    "        get anotation cloud\n",
    "    \"\"\"\n",
    "    # kernel = cv2.getStructuringElement(cv2.MORPH_ELLIPSE,(15,15))\n",
    "    # mask_cloud = cv2.dilate(mask_cloud,kernel,iterations = 1)\n",
    "    img_4band = np.empty((numband, mask_cloud.shape[0], mask_cloud.shape[1]))\n",
    "    for i in range(numband):\n",
    "        img_4band[i] = mask_cloud\n",
    "    index_cloud = np.where(img_4band != 0)\n",
    "    return index_cloud"
   ]
  },
  {
   "cell_type": "code",
   "execution_count": 16,
   "metadata": {},
   "outputs": [],
   "source": [
    "def remove_mask_ve(list_name, folder_need_remove, folder_mask_draw, out_sua):\n",
    "    for name in list_name:\n",
    "        fp_sua = os.path.join(folder_need_remove, name)\n",
    "        fp_ve = os.path.join(folder_mask_draw, name)\n",
    "        fp_rs = os.path.join(out_sua, name)\n",
    "\n",
    "        with rasterio.open(fp_ve) as src1:\n",
    "            mask_ve = src1.read()\n",
    "            index_remove = np.where(mask_ve!=0)\n",
    "\n",
    "        with rasterio.open(fp_sua) as src2:\n",
    "            mask_sua = src2.read()\n",
    "            mask_sua[index_remove] = 0\n",
    "            meta = src2.meta\n",
    "\n",
    "        with rasterio.open(fp_rs, 'w', **meta) as dst:\n",
    "            dst.write(mask_sua)"
   ]
  },
  {
   "cell_type": "markdown",
   "metadata": {},
   "source": [
    "# Xoa vung cloud bang shp ve"
   ]
  },
  {
   "cell_type": "code",
   "execution_count": 11,
   "metadata": {},
   "outputs": [],
   "source": [
    "# folder_need_remove = r\"/home/skm/SKM16/Work/Npark_planet/cloud_all_predict_from_01/PREDICT_CloudPlanet512_xz_01/imgsua\"\n",
    "# folder_mask_draw = r\"/home/skm/SKM16/Work/Npark_planet/cloud_all_predict_from_01/PREDICT_CloudPlanet512_xz_01/imgsua_mask\"\n",
    "# out_sua = r\"/home/skm/SKM16/Work/Npark_planet/cloud_all_predict_from_01/PREDICT_CloudPlanet512_xz_01/mask_sua_oke\"\n",
    "# list_name = get_list_name_file(folder_need_remove, name_file = '*.tif')\n",
    "# remove_mask_ve(list_name, folder_need_remove, folder_mask_draw, out_sua)"
   ]
  },
  {
   "cell_type": "code",
   "execution_count": 12,
   "metadata": {},
   "outputs": [],
   "source": [
    "folder_need_remove = r\"/home/skm/SKM16/Work/SonalPanel_ThaiLand/Data_origin/oooo\"\n",
    "folder_mask_draw = r\"/home/skm/SKM16/Work/SonalPanel_ThaiLand/Data_origin/a_mask\"\n",
    "out_sua = r\"/home/skm/SKM16/Work/SonalPanel_ThaiLand/Data_origin/GuiANhPHAM\"\n",
    "list_name = get_list_name_file(folder_need_remove, name_file = '*.tif')\n",
    "remove_mask_ve(list_name, folder_need_remove, folder_mask_draw, out_sua)"
   ]
  },
  {
   "cell_type": "markdown",
   "metadata": {},
   "source": [
    "# Xoa cloud o tren anh goc"
   ]
  },
  {
   "cell_type": "code",
   "execution_count": 17,
   "metadata": {},
   "outputs": [],
   "source": [
    "# dir_img = r\"/home/skm/SKM16/Work/Npark_planet/Z_Tat_ca_anh_roi_rac/img__origin\"\n",
    "# dir_cloud_mask = r\"/home/skm/SKM16/Work/Npark_planet/Z_Tat_ca_anh_roi_rac/mask_cloud_oke\"\n",
    "# dir_out = r\"/home/skm/SKM16/Work/Npark_planet/Z_Tat_ca_anh_roi_rac/img_origin_remove_cloud\"\n",
    "\n",
    "dir_img = r\"/home/skm/SKM16/Work/Npark_planet/Z_Tat_ca_anh_roi_rac/img__origin/t4_add/percentile_follow_img_t3\"\n",
    "dir_cloud_mask = r\"/home/skm/SKM16/Work/Npark_planet/Z_Tat_ca_anh_roi_rac/mask_cloud_oke\"\n",
    "dir_out = r\"/home/skm/SKM16/Work/Npark_planet/Z_Tat_ca_anh_roi_rac/img_origin_remove_cloud/rm_t4/percentile\"\n",
    "\n",
    "list_name = get_list_name_file(dir_img, name_file = '*.tif')\n",
    "\n",
    "for name in list_name:\n",
    "    fp_img = os.path.join(dir_img, name)\n",
    "    fp_mask = os.path.join(dir_cloud_mask, name)\n",
    "    fp_rs = os.path.join(dir_out, name)\n",
    "\n",
    "    with rasterio.open(fp_img) as src_i:\n",
    "        img = src_i.read()\n",
    "        meta = src_i.meta\n",
    "\n",
    "    with rasterio.open(fp_mask) as src_m:\n",
    "        mask = src_m.read()[0]\n",
    "    \n",
    "    idx_cloud = get_index_cloud_for_numband(mask, 8)\n",
    "    img[idx_cloud] = 0\n",
    "\n",
    "    with rasterio.open(fp_rs, 'w', **meta) as dst:\n",
    "            dst.write(img)"
   ]
  },
  {
   "cell_type": "markdown",
   "metadata": {},
   "source": [
    "# Chuyen ve 0 1"
   ]
  },
  {
   "cell_type": "code",
   "execution_count": 13,
   "metadata": {},
   "outputs": [],
   "source": [
    "import rasterio\n",
    "import numpy as np"
   ]
  },
  {
   "cell_type": "code",
   "execution_count": 14,
   "metadata": {},
   "outputs": [],
   "source": [
    "in_fp = r\"/home/skm/SKM16/IMAGE/npark/npark-backend-v2/data_projects/Green Cover Npark Singapore/PlanetScope/forest/mosaic_all_no_cloud_value_origin.tif\"\n",
    "out_fp = r\"/home/skm/SKM16/IMAGE/npark/npark-backend-v2/data_projects/Green Cover Npark Singapore/PlanetScope/forest/T7_2022.tif\"\n",
    "with rasterio.open(in_fp) as src:\n",
    "    img = src.read()\n",
    "    meta = src.meta\n",
    "\n",
    "img[img>0] = 1\n",
    "with rasterio.open(out_fp,'w',**meta) as dst:\n",
    "    dst.write(img)"
   ]
  },
  {
   "cell_type": "code",
   "execution_count": 30,
   "metadata": {},
   "outputs": [],
   "source": [
    "import rasterio\n",
    "import numpy as np"
   ]
  },
  {
   "cell_type": "code",
   "execution_count": 33,
   "metadata": {},
   "outputs": [],
   "source": [
    "fp_mask_cloud_T3 = r\"/home/skm/SKM16/Work/Npark_planet/A_OKE_4326/T3/T3_2022_4326_cloud.tif\"\n",
    "fp_mask_cloud_T4 = r\"/home/skm/SKM16/Work/Npark_planet2/Data_train_uint8_forest/img/T4_2022_4326.tif\"\n",
    "\n",
    "fp_mask_water_T3 = r\"/home/skm/SKM16/Work/Npark_planet2/Data_train_uint8_forest/img_mask/T3_2022_4326.tif\"\n",
    "fp_mask_water_T4 = r\"/home/skm/SKM16/Work/Npark_planet2/Data_train_uint8_forest/img_mask/T4_2022_4326.tif\""
   ]
  },
  {
   "cell_type": "code",
   "execution_count": 34,
   "metadata": {},
   "outputs": [],
   "source": [
    "with rasterio.open(fp_mask_cloud_T3) as src:\n",
    "    mask_cloud_T3 = src.read()\n",
    "\n",
    "with rasterio.open(fp_mask_cloud_T4) as src:\n",
    "    mask_cloud_T4 = src.read_masks(1)\n",
    "    mask_cloud_T4 = np.array([mask_cloud_T4])\n",
    "\n",
    "with rasterio.open(fp_mask_water_T3) as src:\n",
    "    mask_water_T3 = src.read()\n",
    "\n",
    "with rasterio.open(fp_mask_water_T4) as src:\n",
    "    mask_water_T4 = src.read()\n",
    "    meta = src.meta"
   ]
  },
  {
   "cell_type": "code",
   "execution_count": 35,
   "metadata": {},
   "outputs": [],
   "source": [
    "# mask_cloud_T4\n",
    "# with rasterio.open(r\"/home/skm/SKM16/Work/Npark_planet2/Data_train_uint8_water/img_mask/tmp.tif\", 'w', **meta) as dst:\n",
    "#     dst.write(mask_cloud_T4.astype('uint8'))"
   ]
  },
  {
   "cell_type": "code",
   "execution_count": 36,
   "metadata": {},
   "outputs": [],
   "source": [
    "mask_cloud_T3[mask_cloud_T3==0]=1\n",
    "mask_cloud_T3[mask_cloud_T3==255]=0\n",
    "mask_water_T3_ok = mask_water_T3*mask_cloud_T3\n",
    "with rasterio.open(fp_mask_water_T3.replace(\".tif\",\"ok.tif\"), 'w', **meta) as dst:\n",
    "    dst.write(mask_water_T3_ok.astype('uint8'))\n",
    "\n",
    "# mask_cloud_T4[mask_cloud_T4==0]=1\n",
    "mask_cloud_T4[mask_cloud_T4==255]=1\n",
    "mask_water_T4_ok = mask_water_T4*mask_cloud_T4\n",
    "with rasterio.open(fp_mask_water_T4.replace(\".tif\",\"ok.tif\"), 'w', **meta) as dst:\n",
    "    dst.write(mask_water_T4_ok.astype('uint8'))"
   ]
  },
  {
   "cell_type": "code",
   "execution_count": null,
   "metadata": {},
   "outputs": [],
   "source": []
  },
  {
   "cell_type": "code",
   "execution_count": null,
   "metadata": {},
   "outputs": [],
   "source": []
  }
 ],
 "metadata": {
  "kernelspec": {
   "display_name": "Python 3.7.0 ('geoai')",
   "language": "python",
   "name": "python3"
  },
  "language_info": {
   "codemirror_mode": {
    "name": "ipython",
    "version": 3
   },
   "file_extension": ".py",
   "mimetype": "text/x-python",
   "name": "python",
   "nbconvert_exporter": "python",
   "pygments_lexer": "ipython3",
   "version": "3.7.0"
  },
  "orig_nbformat": 4,
  "vscode": {
   "interpreter": {
    "hash": "1bff4993b5c6f9c50422f70b2dd5a13ec694dfd7dde205c6b1afc92728df224a"
   }
  }
 },
 "nbformat": 4,
 "nbformat_minor": 2
}
