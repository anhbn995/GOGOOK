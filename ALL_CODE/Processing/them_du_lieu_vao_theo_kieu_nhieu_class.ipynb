{
 "cells": [
  {
   "cell_type": "code",
   "execution_count": 1,
   "metadata": {},
   "outputs": [],
   "source": [
    "import rasterio\n",
    "import numpy as np"
   ]
  },
  {
   "cell_type": "code",
   "execution_count": 4,
   "metadata": {},
   "outputs": [],
   "source": [
    "fp_predict = r\"/home/skm/SKM16/Work/Npark_planet/A_OKE_4326/T4/T4_2022_4326_classification.tif\"\n",
    "fp_them = r\"/home/skm/SKM16/Tmp/img_them_nuoc_t4.tif\"\n",
    "fp_out = r\"/home/skm/SKM16/Work/Npark_planet/A_OKE_4326/T4/T4_2022_4326_classification_them.tif\""
   ]
  },
  {
   "cell_type": "code",
   "execution_count": 5,
   "metadata": {},
   "outputs": [],
   "source": [
    "with rasterio.open(fp_predict) as src_predict:\n",
    "    img_pre = src_predict.read()\n",
    "    meta = src_predict.meta\n",
    "\n",
    "with rasterio.open(fp_them) as src_them:\n",
    "    img_them = src_them.read()\n",
    "    img_them[img_them>0] = 1"
   ]
  },
  {
   "cell_type": "code",
   "execution_count": 6,
   "metadata": {},
   "outputs": [
    {
     "data": {
      "text/plain": [
       "{'driver': 'GTiff',\n",
       " 'dtype': 'uint8',\n",
       " 'nodata': 0.0,\n",
       " 'width': 18074,\n",
       " 'height': 11551,\n",
       " 'count': 1,\n",
       " 'crs': CRS.from_epsg(4326),\n",
       " 'transform': Affine(2.6948879938032385e-05, 0.0, 103.603797423,\n",
       "        0.0, -2.7148553631720195e-05, 1.471093533)}"
      ]
     },
     "execution_count": 6,
     "metadata": {},
     "output_type": "execute_result"
    }
   ],
   "source": [
    "meta"
   ]
  },
  {
   "cell_type": "code",
   "execution_count": 7,
   "metadata": {},
   "outputs": [],
   "source": [
    "img_new = img_pre*img_them\n",
    "img_new[img_new == 3] = 2\n",
    "img_new = img_new.astype('uint8')\n",
    "idx_water = np.where(img_new==2)\n",
    "img_pre[idx_water] = 2\n",
    "with rasterio.open(fp_out, 'w', **meta) as dst:\n",
    "    dst.write(img_pre)\n",
    "    dst.write_colormap(1, {\n",
    "                    0: (0,0,0, 0),\n",
    "                    1: (34,139,34,0), #Green\n",
    "                    2: (100, 149, 237, 0), #water\n",
    "                    3: (101,67,33, 0)}) #Buildup\n"
   ]
  },
  {
   "cell_type": "code",
   "execution_count": null,
   "metadata": {},
   "outputs": [],
   "source": []
  }
 ],
 "metadata": {
  "kernelspec": {
   "display_name": "Python 3.7.0 ('geoai')",
   "language": "python",
   "name": "python3"
  },
  "language_info": {
   "codemirror_mode": {
    "name": "ipython",
    "version": 3
   },
   "file_extension": ".py",
   "mimetype": "text/x-python",
   "name": "python",
   "nbconvert_exporter": "python",
   "pygments_lexer": "ipython3",
   "version": "3.7.0"
  },
  "orig_nbformat": 4,
  "vscode": {
   "interpreter": {
    "hash": "1bff4993b5c6f9c50422f70b2dd5a13ec694dfd7dde205c6b1afc92728df224a"
   }
  }
 },
 "nbformat": 4,
 "nbformat_minor": 2
}
