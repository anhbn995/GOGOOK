{
 "cells": [
  {
   "cell_type": "code",
   "execution_count": 20,
   "metadata": {},
   "outputs": [],
   "source": [
    "import cv2\n",
    "import numpy as np\n",
    "import rasterio\n",
    "import os, glob"
   ]
  },
  {
   "cell_type": "code",
   "execution_count": 21,
   "metadata": {},
   "outputs": [],
   "source": [
    "dir_fp_mask_forest = r\"/home/skm/SKM16/Work/Npark_planet2/img_uint8/rs_forest\""
   ]
  },
  {
   "cell_type": "code",
   "execution_count": 22,
   "metadata": {},
   "outputs": [],
   "source": [
    "kernel = cv2.getStructuringElement(cv2.MORPH_ELLIPSE,(5,5))\n",
    "list_fp = glob.glob(os.path.join(dir_fp_mask_forest, '*.tif'))\n",
    "\n",
    "for fp in list_fp:\n",
    "    with rasterio.open(fp) as src:\n",
    "        mask = src.read(1)\n",
    "        meta = src.meta\n",
    "\n",
    "    _, contours, _ = cv2.findContours(mask,cv2.RETR_LIST, cv2.CHAIN_APPROX_SIMPLE)\n",
    "    for i, contour in enumerate(contours):\n",
    "        area = cv2.contourArea(contour)\n",
    "        if area <= 100:\n",
    "            cv2.fillPoly(mask, [contour], 255)\n",
    "\n",
    "    _, contours2, _ = cv2.findContours(mask,cv2.RETR_LIST, cv2.CHAIN_APPROX_SIMPLE)\n",
    "    for i, contour in enumerate(contours2):\n",
    "        area = cv2.contourArea(contour)\n",
    "        if area <= 300:\n",
    "            cv2.fillPoly(mask, [contour], 0)\n",
    "\n",
    "    with rasterio.open(fp.replace('.tif','_dilation_4.tif'), 'w', **meta) as dst:\n",
    "            dst.write(np.array([mask]).astype('uint8'))"
   ]
  },
  {
   "cell_type": "code",
   "execution_count": 23,
   "metadata": {},
   "outputs": [],
   "source": [
    "with rasterio.open(list_fp[0]) as src:\n",
    "    mask = src.read(1)\n",
    "    meta = src.meta\n",
    "\n",
    "_, contours, _ = cv2.findContours(mask,cv2.RETR_LIST, cv2.CHAIN_APPROX_SIMPLE)\n",
    "for i, contour in enumerate(contours):\n",
    "    area = cv2.contourArea(contour)\n",
    "    if area <= 100:\n",
    "        cv2.fillPoly(mask, [contour], 255)\n",
    "\n",
    "_, contours2, _ = cv2.findContours(mask,cv2.RETR_LIST, cv2.CHAIN_APPROX_SIMPLE)\n",
    "for i, contour in enumerate(contours2):\n",
    "    area = cv2.contourArea(contour)\n",
    "    if area <= 300:\n",
    "        cv2.fillPoly(mask, [contour], 0)\n",
    "\n",
    "with rasterio.open(list_fp[0].replace('.tif','_dilation_4.tif'), 'w', **meta) as dst:\n",
    "        dst.write(np.array([mask]).astype('uint8'))\n"
   ]
  },
  {
   "cell_type": "code",
   "execution_count": null,
   "metadata": {},
   "outputs": [],
   "source": []
  }
 ],
 "metadata": {
  "kernelspec": {
   "display_name": "Python 3.7.0 ('geoai')",
   "language": "python",
   "name": "python3"
  },
  "language_info": {
   "codemirror_mode": {
    "name": "ipython",
    "version": 3
   },
   "file_extension": ".py",
   "mimetype": "text/x-python",
   "name": "python",
   "nbconvert_exporter": "python",
   "pygments_lexer": "ipython3",
   "version": "3.7.0"
  },
  "orig_nbformat": 4,
  "vscode": {
   "interpreter": {
    "hash": "1bff4993b5c6f9c50422f70b2dd5a13ec694dfd7dde205c6b1afc92728df224a"
   }
  }
 },
 "nbformat": 4,
 "nbformat_minor": 2
}
