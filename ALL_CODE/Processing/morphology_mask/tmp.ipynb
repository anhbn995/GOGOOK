{
 "cells": [
  {
   "cell_type": "code",
   "execution_count": 1,
   "metadata": {},
   "outputs": [],
   "source": [
    "import os, glob\n",
    "import rasterio\n"
   ]
  },
  {
   "cell_type": "code",
   "execution_count": 2,
   "metadata": {},
   "outputs": [
    {
     "name": "stdout",
     "output_type": "stream",
     "text": [
      "['/home/skm/public_mount/DucAnhtmp/all_img/preidct/20220810_073235_ssc1_u0001_visual.tif', '/home/skm/public_mount/DucAnhtmp/all_img/preidct/20220810_073235_ssc1_u0002_visual.tif', '/home/skm/public_mount/DucAnhtmp/all_img/preidct/20220813_070157_ssc12_u0002_visual.tif', '/home/skm/public_mount/DucAnhtmp/all_img/preidct/20220813_070232_ssc12_u0001_visual.tif', '/home/skm/public_mount/DucAnhtmp/all_img/preidct/20220813_070157_ssc12_u0001_visual.tif', '/home/skm/public_mount/DucAnhtmp/all_img/preidct/20220813_070232_ssc12_u0002_visual.tif', '/home/skm/public_mount/DucAnhtmp/all_img/preidct/20220814_065546_ssc2_u0001_visual.tif', '/home/skm/public_mount/DucAnhtmp/all_img/preidct/20220814_103914_ssc10_u0001_visual.tif', '/home/skm/public_mount/DucAnhtmp/all_img/preidct/20220814_103914_ssc10_u0002_visual.tif', '/home/skm/public_mount/DucAnhtmp/all_img/preidct/20220815_064928_ssc4_u0001_visual.tif', '/home/skm/public_mount/DucAnhtmp/all_img/preidct/20220815_064928_ssc4_u0002_visual.tif', '/home/skm/public_mount/DucAnhtmp/all_img/preidct/20220815_065021_ssc4_u0001_visual.tif', '/home/skm/public_mount/DucAnhtmp/all_img/preidct/20220815_065021_ssc4_u0002_visual.tif', '/home/skm/public_mount/DucAnhtmp/all_img/preidct/20220815_103905_ssc7_u0001_visual.tif', '/home/skm/public_mount/DucAnhtmp/all_img/preidct/20220818_073620_ssc1_u0001_visual.tif', '/home/skm/public_mount/DucAnhtmp/all_img/preidct/20220820_103902_ssc6_u0001_visual.tif', '/home/skm/public_mount/DucAnhtmp/all_img/preidct/20220820_103902_ssc6_u0002_visual.tif', '/home/skm/public_mount/DucAnhtmp/all_img/preidct/20220821_064400_ssc13_u0001_visual.tif', '/home/skm/public_mount/DucAnhtmp/all_img/preidct/20220821_064400_ssc13_u0002_visual.tif', '/home/skm/public_mount/DucAnhtmp/all_img/preidct/20220821_064432_ssc13_u0001_visual.tif', '/home/skm/public_mount/DucAnhtmp/all_img/preidct/20220821_064432_ssc13_u0002_visual.tif', '/home/skm/public_mount/DucAnhtmp/all_img/preidct/20220821_070348_ssc3_u0002_visual.tif', '/home/skm/public_mount/DucAnhtmp/all_img/preidct/20220821_072508_ssc1_u0001_visual.tif', '/home/skm/public_mount/DucAnhtmp/all_img/preidct/20220821_072508_ssc1_u0002_visual.tif', '/home/skm/public_mount/DucAnhtmp/all_img/preidct/20220821_072535_ssc1_u0001_visual.tif', '/home/skm/public_mount/DucAnhtmp/all_img/preidct/20220821_072535_ssc1_u0002_visual.tif', '/home/skm/public_mount/DucAnhtmp/all_img/preidct/20220821_103012_ssc11_u0001_visual.tif', '/home/skm/public_mount/DucAnhtmp/all_img/preidct/20220822_065707_ssc2_u0001_visual.tif', '/home/skm/public_mount/DucAnhtmp/all_img/preidct/20220822_065707_ssc2_u0002_visual.tif', '/home/skm/public_mount/DucAnhtmp/all_img/preidct/20220822_065707_ssc2_u0003_visual.tif', '/home/skm/public_mount/DucAnhtmp/all_img/preidct/20220822_065817_ssc2_u0001_visual.tif', '/home/skm/public_mount/DucAnhtmp/all_img/preidct/20220822_065817_ssc2_u0002_visual.tif', '/home/skm/public_mount/DucAnhtmp/all_img/preidct/20220823_102815_ssc6_u0001_visual.tif', '/home/skm/public_mount/DucAnhtmp/all_img/preidct/20220823_104122_ssc7_u0001_visual.tif', '/home/skm/public_mount/DucAnhtmp/all_img/preidct/20220823_104207_ssc7_u0002_visual.tif', '/home/skm/public_mount/DucAnhtmp/all_img/preidct/20220824_103820_ssc8_u0001_visual.tif', '/home/skm/public_mount/DucAnhtmp/all_img/preidct/20220824_103820_ssc8_u0002_visual.tif', '/home/skm/public_mount/DucAnhtmp/all_img/preidct/20220824_103853_ssc8_u0001_visual.tif', '/home/skm/public_mount/DucAnhtmp/all_img/preidct/20220824_103853_ssc8_u0002_visual.tif', '/home/skm/public_mount/DucAnhtmp/all_img/preidct/20220825_103055_ssc10_u0001_visual.tif', '/home/skm/public_mount/DucAnhtmp/all_img/preidct/20220825_103055_ssc10_u0002_visual.tif', '/home/skm/public_mount/DucAnhtmp/all_img/preidct/20220826_065511_ssc13_u0001_visual.tif', '/home/skm/public_mount/DucAnhtmp/all_img/preidct/20220826_065511_ssc13_u0002_visual.tif', '/home/skm/public_mount/DucAnhtmp/all_img/preidct/20220826_065957_ssc3_u0003_visual.tif', '/home/skm/public_mount/DucAnhtmp/all_img/preidct/20220826_073838_ssc1_u0002_visual.tif', '/home/skm/public_mount/DucAnhtmp/all_img/preidct/20220826_103110_ssc7_u0001_visual.tif', '/home/skm/public_mount/DucAnhtmp/all_img/preidct/20220826_103137_ssc7_u0001_visual.tif', '/home/skm/public_mount/DucAnhtmp/all_img/preidct/20220829_070632_ssc12_u0001_visual.tif', '/home/skm/public_mount/DucAnhtmp/all_img/preidct/20220829_070632_ssc12_u0002_visual.tif', '/home/skm/public_mount/DucAnhtmp/all_img/preidct/20220829_072739_ssc1_u0001_visual.tif', '/home/skm/public_mount/DucAnhtmp/all_img/preidct/20220829_072739_ssc1_u0002_visual.tif', '/home/skm/public_mount/DucAnhtmp/all_img/preidct/20220901_104012_ssc8_u0001_visual.tif', '/home/skm/public_mount/DucAnhtmp/all_img/preidct/20220901_104012_ssc8_u0002_visual.tif', '/home/skm/public_mount/DucAnhtmp/all_img/preidct/20220902_103334_ssc10_u0001_visual.tif', '/home/skm/public_mount/DucAnhtmp/all_img/preidct/20220902_103334_ssc10_u0002_visual.tif', '/home/skm/public_mount/DucAnhtmp/all_img/preidct/20220903_064402_ssc4_u0002_visual.tif']\n"
     ]
    }
   ],
   "source": [
    "dir_mask = r\"/home/skm/public_mount/DucAnhtmp/all_img/preidct\"\n",
    "list_fp_mask = glob.glob(os.path.join(dir_mask, '*.tif'))\n"
   ]
  }
 ],
 "metadata": {
  "kernelspec": {
   "display_name": "Python 3.7.0 ('geoai')",
   "language": "python",
   "name": "python3"
  },
  "language_info": {
   "codemirror_mode": {
    "name": "ipython",
    "version": 3
   },
   "file_extension": ".py",
   "mimetype": "text/x-python",
   "name": "python",
   "nbconvert_exporter": "python",
   "pygments_lexer": "ipython3",
   "version": "3.7.0"
  },
  "orig_nbformat": 4,
  "vscode": {
   "interpreter": {
    "hash": "1bff4993b5c6f9c50422f70b2dd5a13ec694dfd7dde205c6b1afc92728df224a"
   }
  }
 },
 "nbformat": 4,
 "nbformat_minor": 2
}
