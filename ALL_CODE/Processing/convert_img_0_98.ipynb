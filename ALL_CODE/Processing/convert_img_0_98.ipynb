{
 "cells": [
  {
   "cell_type": "code",
   "execution_count": 1,
   "metadata": {},
   "outputs": [],
   "source": [
    "from osgeo import gdal, gdalconst, ogr, osr\n",
    "import numpy as np\n",
    "import rasterio\n",
    "import glob, os"
   ]
  },
  {
   "cell_type": "code",
   "execution_count": 4,
   "metadata": {},
   "outputs": [],
   "source": [
    "num_channel = 8\n",
    "dir_img = r\"/home/skm/SKM16/Work/Npark_planet/Z_Tat_ca_anh_roi_rac/img_origin_remove_cloud/t3/mosaic\""
   ]
  },
  {
   "cell_type": "code",
   "execution_count": null,
   "metadata": {},
   "outputs": [],
   "source": [
    "\n",
    "# img_for_follow = r\"/home/skm/SKM16/Work/Npark_planet/image_roi_rac/20220330_023353_67_2460_3B_AnalyticMS_SR_8b_clip.tif\"\n",
    "img_for_follow = r\"/home/skm/SKM16/Work/Npark_planet/Z_Tat_ca_anh_roi_rac/img_origin_remove_cloud/t3/20220330_023353_67_2460_3B_AnalyticMS_SR_8b_clip.tif\"\n",
    "dataset = gdal.Open(img_for_follow, gdal.GA_ReadOnly)\n",
    "dict_band_min_max_percentile_follow = {k: dict(max=0, min=0) for k in range(num_channel)}\n",
    "\n",
    "for i_chan in range(num_channel):\n",
    "    band = dataset.GetRasterBand(i_chan+1).ReadAsArray().astype(np.float16)\n",
    "    band[band==0] = np.nan\n",
    "    dict_band_min_max_percentile_follow[i_chan]['max'] = np.nanpercentile(band, 98)\n",
    "    dict_band_min_max_percentile_follow[i_chan]['min'] = np.nanpercentile(band, 2)"
   ]
  },
  {
   "cell_type": "code",
   "execution_count": 3,
   "metadata": {},
   "outputs": [
    {
     "ename": "SyntaxError",
     "evalue": "unexpected EOF while parsing (<ipython-input-3-427845fc1b22>, line 2)",
     "output_type": "error",
     "traceback": [
      "\u001b[0;36m  File \u001b[0;32m\"<ipython-input-3-427845fc1b22>\"\u001b[0;36m, line \u001b[0;32m2\u001b[0m\n\u001b[0;31m    for fp in list_fp:\u001b[0m\n\u001b[0m                      ^\u001b[0m\n\u001b[0;31mSyntaxError\u001b[0m\u001b[0;31m:\u001b[0m unexpected EOF while parsing\n"
     ]
    }
   ],
   "source": [
    "list_fp = glob.glob(os.path.join(dir_img, \"*.tif\"))\n",
    "for image_path in list_fp:\n",
    "    dataset_ori = gdal.Open(image_path, gdal.GA_ReadOnly)\n",
    "    dict_band_min_max_percentile_ori = {k: dict(max=0, min=0) for k in range(num_channel)}\n",
    "\n",
    "    for i_chan in range(num_channel):\n",
    "        band = dataset_ori.GetRasterBand(i_chan+1).ReadAsArray().astype(np.float16)\n",
    "        band[band==0] = np.nan\n",
    "        dict_band_min_max_percentile_ori[i_chan]['max'] = np.nanpercentile(band, 98)\n",
    "        dict_band_min_max_percentile_ori[i_chan]['min'] = np.nanpercentile(band, 2)\n",
    "\n",
    "\n",
    "        src = rasterio.open(image_path)\n",
    "        meta = src.meta\n",
    "        img_ = src.read()\n",
    "        img_percentile = np.empty(img_.shape)\n",
    "        for i in range(8):\n",
    "            idxnodata = np.where(img_[i]==meta['nodata'])\n",
    "            img_percentile[i] = np.interp(img_[i], (dict_band_min_max_percentile_ori[i]['min'], dict_band_min_max_percentile_ori[i]['max']), \n",
    "                                                (dict_band_min_max_percentile_follow[i]['min'], dict_band_min_max_percentile_follow[i]['max']))\n",
    "            img_percentile[i][idxnodata]=meta['nodata']\n",
    "            img_percentile[i].astype('uint16')\n",
    "\n"
   ]
  }
 ],
 "metadata": {
  "kernelspec": {
   "display_name": "Python 3.7.0 ('geoai')",
   "language": "python",
   "name": "python3"
  },
  "language_info": {
   "codemirror_mode": {
    "name": "ipython",
    "version": 3
   },
   "file_extension": ".py",
   "mimetype": "text/x-python",
   "name": "python",
   "nbconvert_exporter": "python",
   "pygments_lexer": "ipython3",
   "version": "3.7.0"
  },
  "orig_nbformat": 4,
  "vscode": {
   "interpreter": {
    "hash": "1bff4993b5c6f9c50422f70b2dd5a13ec694dfd7dde205c6b1afc92728df224a"
   }
  }
 },
 "nbformat": 4,
 "nbformat_minor": 2
}
