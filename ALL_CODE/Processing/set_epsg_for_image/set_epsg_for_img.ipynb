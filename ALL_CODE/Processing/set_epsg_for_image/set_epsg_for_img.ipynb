{
 "cells": [
  {
   "cell_type": "code",
   "execution_count": 36,
   "metadata": {},
   "outputs": [],
   "source": [
    "import os, glob\n",
    "import rasterio\n",
    "import numpy as np"
   ]
  },
  {
   "cell_type": "code",
   "execution_count": 37,
   "metadata": {},
   "outputs": [],
   "source": [
    "fp_img_follow = r\"/home/skm/data_ml_mount/other_treecounting/mongkos/mongkos part 3_transparent_mosaic_group1.tif\"\n",
    "dir_img_change = r\"/home/skm/data_ml_mount/other_treecounting/bapcai/anh_set_crs_mask\"\n",
    "\n",
    "out_dir_set_crs = r\"/home/skm/SKM16/Work/TreeCounting_Data/Set_Crs_data_bap_cai/Data_origin_BapCai/label\""
   ]
  },
  {
   "cell_type": "code",
   "execution_count": 38,
   "metadata": {},
   "outputs": [
    {
     "data": {
      "text/plain": [
       "['/home/skm/data_ml_mount/other_treecounting/bapcai/anh_set_crs_mask/XSQY0125.tif',\n",
       " '/home/skm/data_ml_mount/other_treecounting/bapcai/anh_set_crs_mask/PKER8992.tif',\n",
       " '/home/skm/data_ml_mount/other_treecounting/bapcai/anh_set_crs_mask/HLZW5152.tif',\n",
       " '/home/skm/data_ml_mount/other_treecounting/bapcai/anh_set_crs_mask/CNUQ6970.tif']"
      ]
     },
     "execution_count": 38,
     "metadata": {},
     "output_type": "execute_result"
    }
   ],
   "source": [
    "# make output\n",
    "if not os.path.exists(out_dir_set_crs):\n",
    "    os.makedirs(out_dir_set_crs)\n",
    "\n",
    "# get list image\n",
    "list_fp_change = glob.glob(os.path.join(dir_img_change, \"*.tif\"))\n",
    "list_fp_change\n"
   ]
  },
  {
   "cell_type": "code",
   "execution_count": 39,
   "metadata": {},
   "outputs": [
    {
     "name": "stdout",
     "output_type": "stream",
     "text": [
      "Done: XSQY0125.tif\n",
      "Done: PKER8992.tif\n",
      "Done: HLZW5152.tif\n",
      "Done: CNUQ6970.tif\n"
     ]
    }
   ],
   "source": [
    "with rasterio.open(fp_img_follow) as src:\n",
    "    meta = src.meta\n",
    "for fp_change in list_fp_change:\n",
    "    with rasterio.open(fp_change) as src:\n",
    "        img_change = src.read()\n",
    "        shape = src.shape\n",
    "        numband = src.count\n",
    "        meta.update({'height':shape[0],\n",
    "                    'width':shape[1],\n",
    "                    'count':numband}\n",
    "                    )\n",
    "        out_fp_changed = os.path.join(out_dir_set_crs, os.path.basename(fp_change))\n",
    "        with rasterio.open(out_fp_changed,'w',**meta) as dst:\n",
    "            dst.write(img_change)\n",
    "    print(f\"Done: {os.path.basename(fp_change)}\")\n"
   ]
  },
  {
   "cell_type": "code",
   "execution_count": 42,
   "metadata": {},
   "outputs": [
    {
     "data": {
      "text/plain": [
       "['/home/skm/SKM16/Work/TreeCounting_Data/Set_Crs_data_bap_cai/Data_origin_BapCai/label/CNUQ6970.shp',\n",
       " '/home/skm/SKM16/Work/TreeCounting_Data/Set_Crs_data_bap_cai/Data_origin_BapCai/label/HLZW5152.shp',\n",
       " '/home/skm/SKM16/Work/TreeCounting_Data/Set_Crs_data_bap_cai/Data_origin_BapCai/label/PKER8992.shp',\n",
       " '/home/skm/SKM16/Work/TreeCounting_Data/Set_Crs_data_bap_cai/Data_origin_BapCai/label/XSQY0125.shp']"
      ]
     },
     "execution_count": 42,
     "metadata": {},
     "output_type": "execute_result"
    }
   ],
   "source": [
    "import glob, os\n",
    "import geopandas as gp\n",
    "dir_shp = r\"/home/skm/SKM16/Work/TreeCounting_Data/Set_Crs_data_bap_cai/Data_origin_BapCai/label\"\n",
    "list_fp_shp = glob.glob(os.path.join(dir_shp, '*.shp'))\n",
    "list_fp_shp"
   ]
  },
  {
   "cell_type": "code",
   "execution_count": 44,
   "metadata": {},
   "outputs": [],
   "source": [
    "out_dir = os.path.join(dir_shp, \"rs\")\n",
    "if not os.path.exists(out_dir):\n",
    "    os.makedirs(out_dir)"
   ]
  },
  {
   "cell_type": "code",
   "execution_count": 47,
   "metadata": {},
   "outputs": [
    {
     "name": "stdout",
     "output_type": "stream",
     "text": [
      "done: CNUQ6970.shp\n",
      "done: HLZW5152.shp\n",
      "done: PKER8992.shp\n",
      "done: XSQY0125.shp\n"
     ]
    }
   ],
   "source": [
    "for fp_shp in list_fp_shp:\n",
    "    out_fp = os.path.join(out_dir, os.path.basename(fp_shp))\n",
    "    df_shp = gp.read_file(fp_shp)\n",
    "    df_shp['geometry'] = df_shp.buffer(0.5)\n",
    "    df_shp.to_file(out_fp)\n",
    "    print(f\"done: {os.path.basename(fp_shp)}\")\n",
    "\n"
   ]
  },
  {
   "cell_type": "code",
   "execution_count": null,
   "metadata": {},
   "outputs": [],
   "source": []
  }
 ],
 "metadata": {
  "kernelspec": {
   "display_name": "Python 3.7.0 ('geoai')",
   "language": "python",
   "name": "python3"
  },
  "language_info": {
   "codemirror_mode": {
    "name": "ipython",
    "version": 3
   },
   "file_extension": ".py",
   "mimetype": "text/x-python",
   "name": "python",
   "nbconvert_exporter": "python",
   "pygments_lexer": "ipython3",
   "version": "3.7.0"
  },
  "orig_nbformat": 4,
  "vscode": {
   "interpreter": {
    "hash": "1bff4993b5c6f9c50422f70b2dd5a13ec694dfd7dde205c6b1afc92728df224a"
   }
  }
 },
 "nbformat": 4,
 "nbformat_minor": 2
}
