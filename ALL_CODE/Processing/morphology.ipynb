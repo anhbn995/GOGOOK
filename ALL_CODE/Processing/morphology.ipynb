{
 "cells": [
  {
   "cell_type": "code",
   "execution_count": 11,
   "metadata": {},
   "outputs": [],
   "source": [
    "import cv2\n",
    "import numpy as np\n",
    "import rasterio"
   ]
  },
  {
   "cell_type": "code",
   "execution_count": 12,
   "metadata": {},
   "outputs": [],
   "source": [
    "fp_img_mosaic = r\"/home/skm/SKM16/Work/Npark_planet/Z_Tat_ca_anh_roi_rac/Mosaic_theo_thang_remove_cloud/T3/T3_2022.tif\"\n",
    "fp_mask_water = r\"/home/skm/SKM16/Work/Npark_planet/Z_Tat_ca_anh_roi_rac/Mosaic_theo_thang_remove_cloud/T3/RS/T3_2022_water.tif\"\n",
    "fp_mask_plant = r\"/home/skm/SKM16/Work/Npark_planet/Z_Tat_ca_anh_roi_rac/Mosaic_theo_thang_remove_cloud/T3/RS/T3_2022_plant.tif\"\n",
    "\n",
    "fp_out_color = r\"/home/skm/SKM16/Work/Npark_planet/Z_Tat_ca_anh_roi_rac/Mosaic_theo_thang_remove_cloud/T3/RS_color/T3_2022_classification.tif\"\n",
    "fp_out_cloud = r\"/home/skm/SKM16/Work/Npark_planet/Z_Tat_ca_anh_roi_rac/Mosaic_theo_thang_remove_cloud/T3/RS_color/T3_2022_cloud.tif\""
   ]
  },
  {
   "cell_type": "code",
   "execution_count": 13,
   "metadata": {},
   "outputs": [],
   "source": [
    "with rasterio.open(fp_img_mosaic) as src:\n",
    "    \n",
    "\n",
    "with rasterio.open(fp_mask_water) as src_w:\n",
    "    mask_water = src_w.read()\n",
    "    meta = src_w.meta\n",
    "with rasterio.open(fp_mask_plant) as src_p:\n",
    "    mask_plant = src_p.read()\n"
   ]
  },
  {
   "cell_type": "code",
   "execution_count": 14,
   "metadata": {},
   "outputs": [
    {
     "data": {
      "text/plain": [
       "(1, 11548, 18060)"
      ]
     },
     "execution_count": 14,
     "metadata": {},
     "output_type": "execute_result"
    }
   ],
   "source": [
    "mask_nodata.shape"
   ]
  },
  {
   "cell_type": "code",
   "execution_count": 15,
   "metadata": {},
   "outputs": [],
   "source": [
    "index_nodata = np.where(mask_nodata==0)\n",
    "index_water = np.where(mask_water != 0)\n",
    "mask_plant[mask_plant>0] = 1\n",
    "mask_plant[index_water] = 2\n",
    "mask_plant[mask_plant == 0] = 3\n",
    "mask_plant[index_nodata] = 0"
   ]
  },
  {
   "cell_type": "code",
   "execution_count": 16,
   "metadata": {},
   "outputs": [],
   "source": [
    "with rasterio.open(fp_out_color,'w',**meta) as dst:\n",
    "    dst.write(mask_plant)\n",
    "    dst.write_colormap(1, {\n",
    "                    0: (0,0,0, 0),\n",
    "                    1: (34,139,34,0), #Green\n",
    "                    2: (100, 149, 237, 0), #water\n",
    "                    3: (101,67,33, 0)}) #Buildup"
   ]
  },
  {
   "cell_type": "code",
   "execution_count": 17,
   "metadata": {},
   "outputs": [],
   "source": [
    "with rasterio.open(fp_out_cloud,'w',**meta) as dst:\n",
    "    dst.write(255-mask_nodata)"
   ]
  },
  {
   "cell_type": "code",
   "execution_count": 2,
   "metadata": {},
   "outputs": [],
   "source": [
    "import rasterio\n",
    "with rasterio.open(r\"/home/skm/SKM16/Work/Npark_planet/A_OKE_4326/T4/T4_2022_4326_classification.tif\",'r+') as dst:\n",
    "    dst.write_colormap(1, {\n",
    "                    0: (0,0,0, 0),\n",
    "                    1: (34,139,34,0), #Green\n",
    "                    2: (100, 149, 237, 0), #water\n",
    "                    3: (101,67,33, 0)}) #Buildup"
   ]
  },
  {
   "cell_type": "code",
   "execution_count": 1,
   "metadata": {},
   "outputs": [],
   "source": [
    "import geopy"
   ]
  },
  {
   "cell_type": "code",
   "execution_count": 2,
   "metadata": {},
   "outputs": [],
   "source": [
    "import geopy.distance\n",
    "\n",
    "coords_1 = (52.2296756, 21.0122287)\n",
    "coords_2 = (52.406374, 16.9251681)\n"
   ]
  },
  {
   "cell_type": "code",
   "execution_count": 5,
   "metadata": {},
   "outputs": [
    {
     "ename": "AttributeError",
     "evalue": "module 'geopy.distance' has no attribute 'vincenty'",
     "output_type": "error",
     "traceback": [
      "\u001b[0;31m---------------------------------------------------------------------------\u001b[0m",
      "\u001b[0;31mAttributeError\u001b[0m                            Traceback (most recent call last)",
      "\u001b[0;32m<ipython-input-5-293c0f7ab207>\u001b[0m in \u001b[0;36m<module>\u001b[0;34m\u001b[0m\n\u001b[0;32m----> 1\u001b[0;31m \u001b[0mgeopy\u001b[0m\u001b[0;34m.\u001b[0m\u001b[0mdistance\u001b[0m\u001b[0;34m.\u001b[0m\u001b[0mvincenty\u001b[0m\u001b[0;34m(\u001b[0m\u001b[0mcoords_1\u001b[0m\u001b[0;34m,\u001b[0m \u001b[0mcoords_2\u001b[0m\u001b[0;34m)\u001b[0m\u001b[0;34m.\u001b[0m\u001b[0mkm\u001b[0m\u001b[0;34m\u001b[0m\u001b[0m\n\u001b[0m",
      "\u001b[0;31mAttributeError\u001b[0m: module 'geopy.distance' has no attribute 'vincenty'"
     ]
    }
   ],
   "source": [
    "geopy.distance.vincenty(coords_1, coords_2).km"
   ]
  },
  {
   "cell_type": "code",
   "execution_count": 6,
   "metadata": {},
   "outputs": [
    {
     "data": {
      "text/plain": [
       "279.35290160430094"
      ]
     },
     "execution_count": 6,
     "metadata": {},
     "output_type": "execute_result"
    }
   ],
   "source": [
    "geopy.distance.geodesic(coords_1, coords_2).km"
   ]
  },
  {
   "cell_type": "code",
   "execution_count": null,
   "metadata": {},
   "outputs": [],
   "source": []
  }
 ],
 "metadata": {
  "kernelspec": {
   "display_name": "Python 3.7.0 ('geoai')",
   "language": "python",
   "name": "python3"
  },
  "language_info": {
   "codemirror_mode": {
    "name": "ipython",
    "version": 3
   },
   "file_extension": ".py",
   "mimetype": "text/x-python",
   "name": "python",
   "nbconvert_exporter": "python",
   "pygments_lexer": "ipython3",
   "version": "3.7.0"
  },
  "orig_nbformat": 4,
  "vscode": {
   "interpreter": {
    "hash": "1bff4993b5c6f9c50422f70b2dd5a13ec694dfd7dde205c6b1afc92728df224a"
   }
  }
 },
 "nbformat": 4,
 "nbformat_minor": 2
}
