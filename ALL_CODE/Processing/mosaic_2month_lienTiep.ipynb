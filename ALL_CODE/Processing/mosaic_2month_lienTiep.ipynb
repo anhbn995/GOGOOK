{
 "cells": [
  {
   "cell_type": "code",
   "execution_count": 18,
   "metadata": {},
   "outputs": [],
   "source": [
    "import numpy as np\n",
    "import rasterio"
   ]
  },
  {
   "cell_type": "code",
   "execution_count": 19,
   "metadata": {},
   "outputs": [],
   "source": [
    "# fp_cloud_t3 = r\"/home/skm/SKM16/Work/Npark_planet/Z_Tat_ca_anh_roi_rac/Mosaic_theo_thang_remove_cloud/T3/RS_color/T3_2022_cloud.tif\"\n",
    "fp_cloud_t4 = r\"/home/skm/SKM16/Work/Npark_planet/A_OKE_4326/T4/T4_2022_4326_cloud.tif\"\n",
    "\n",
    "# fp_class_color_t3 = r\"/home/skm/SKM16/Work/Npark_planet/Z_Tat_ca_anh_roi_rac/Mosaic_theo_thang_remove_cloud/T3/RS_color/T3_2022_classification.tif\"\n",
    "# fp_class_color_t4 = r\"/home/skm/SKM16/Work/Npark_planet/Z_Tat_ca_anh_roi_rac/Mosaic_theo_thang_remove_cloud/T4/RS_color/T4_2022_classification.tif\"\n",
    "# out_fp_mosaic_rs_t4_vs_t3 = r\"/home/skm/SKM16/Work/Npark_planet/Z_Tat_ca_anh_roi_rac/Mosaic_theo_thang_remove_cloud/T4_RS_mosic_vs_T3/RS/T4_2022_classification.tif\"\n",
    "\n",
    "fp_class_forest_t3 = r\"/home/skm/SKM16/Work/Npark_planet/A_OKE_4326/T3/T3_2022_4326_forest.tif\"\n",
    "fp_class_forest_t4 = r\"/home/skm/SKM16/Work/Npark_planet/A_OKE_4326/T4/T4_2022_4326_forest.tif\"\n",
    "out_fp_mosaic_rs_t4_vs_t3_forest = r\"/home/skm/SKM16/Work/Npark_planet/A_OKE_4326/T4/T4_2022_4326_forest_them.tif\""
   ]
  },
  {
   "cell_type": "code",
   "execution_count": 20,
   "metadata": {},
   "outputs": [],
   "source": [
    "# with rasterio.open(fp_cloud_t3) as src1:\n",
    "#     mask_cloud3 = src1.read()\n",
    "#     meta = src1.meta\n",
    "with rasterio.open(fp_cloud_t4) as src2:\n",
    "    mask_cloud4 = src2.read()\n",
    "\n",
    "# with rasterio.open(fp_class_color_t3) as src3:\n",
    "#     mask_3 = src3.read()\n",
    "# with rasterio.open(fp_class_color_t4) as src4:\n",
    "#     mask_4 = src4.read()\n",
    "#     meta4 = src4.meta\n",
    "\n",
    "with rasterio.open(fp_class_forest_t3) as src_forest_3:\n",
    "    mask_forest_3 = src_forest_3.read()\n",
    "with rasterio.open(fp_class_forest_t4) as src_forest_4:\n",
    "    mask_forest_4 = src_forest_4.read()\n",
    "    meta_forest_4 = src_forest_4.meta"
   ]
  },
  {
   "cell_type": "markdown",
   "metadata": {},
   "source": [
    "# cai nay cho phan lop mau"
   ]
  },
  {
   "cell_type": "code",
   "execution_count": 21,
   "metadata": {},
   "outputs": [],
   "source": [
    "# mask_need_add = mask_cloud4 - mask_cloud3\n",
    "# mask_need_add[mask_need_add<255] = 0\n",
    "# mask_need_add[mask_need_add!=0] = 1\n",
    "# mask_T4_oke = mask_3*mask_need_add + mask_4\n",
    "# with rasterio.open(out_fp_mosaic_rs_t4_vs_t3, 'w', **meta4) as dst:\n",
    "#     dst.write(mask_T4_oke.astype('uint8'))\n",
    "#     dst.write_colormap(1, {\n",
    "#                     0: (0,0,0, 0),\n",
    "#                     1: (34,139,34,0), #Green\n",
    "#                     2: (100, 149, 237, 0), #water\n",
    "#                     3: (101,67,33, 0)}) #Buildup\n"
   ]
  },
  {
   "cell_type": "markdown",
   "metadata": {},
   "source": [
    "Kiem tra xem mask cloud dung k"
   ]
  },
  {
   "cell_type": "code",
   "execution_count": 22,
   "metadata": {},
   "outputs": [],
   "source": [
    "# with rasterio.open(r\"/home/skm/SKM16/Work/Npark_planet/Z_Tat_ca_anh_roi_rac/Mosaic_theo_thang_remove_cloud/T4_RS_mosic_vs_T3/RS/T4_cloud.tif\", 'w', **meta) as dst:\n",
    "#     dst.write(mask_need_add.astype('uint8'))"
   ]
  },
  {
   "cell_type": "markdown",
   "metadata": {},
   "source": [
    "# cai nay cho forest"
   ]
  },
  {
   "cell_type": "code",
   "execution_count": 23,
   "metadata": {},
   "outputs": [],
   "source": [
    "mask_cloud4[mask_cloud4 != 0] = 1\n",
    "mask_forest_need_add = mask_cloud4\n",
    "# mask_forest_need_add = mask_forest_4*255 - mask_forest_3*255\n",
    "# mask_forest_need_add[mask_forest_need_add<255] = 0\n",
    "# mask_forest_need_add[mask_forest_need_add!=0] = 1\n",
    "\n",
    "mask_forest_T4_oke = mask_forest_3*mask_forest_need_add + mask_forest_4\n",
    "mask_forest_T4_oke[mask_forest_T4_oke!=0]=1\n",
    "with rasterio.open(out_fp_mosaic_rs_t4_vs_t3_forest, 'w', **meta_forest_4) as dst:\n",
    "    dst.write(mask_forest_T4_oke.astype('uint8'))\n"
   ]
  },
  {
   "cell_type": "code",
   "execution_count": null,
   "metadata": {},
   "outputs": [],
   "source": []
  }
 ],
 "metadata": {
  "kernelspec": {
   "display_name": "Python 3.7.0 ('geoai')",
   "language": "python",
   "name": "python3"
  },
  "language_info": {
   "codemirror_mode": {
    "name": "ipython",
    "version": 3
   },
   "file_extension": ".py",
   "mimetype": "text/x-python",
   "name": "python",
   "nbconvert_exporter": "python",
   "pygments_lexer": "ipython3",
   "version": "3.7.0"
  },
  "orig_nbformat": 4,
  "vscode": {
   "interpreter": {
    "hash": "1bff4993b5c6f9c50422f70b2dd5a13ec694dfd7dde205c6b1afc92728df224a"
   }
  }
 },
 "nbformat": 4,
 "nbformat_minor": 2
}
