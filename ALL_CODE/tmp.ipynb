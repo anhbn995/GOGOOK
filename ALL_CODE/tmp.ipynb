{
 "cells": [
  {
   "cell_type": "code",
   "execution_count": 2,
   "metadata": {},
   "outputs": [
    {
     "ename": "KeyboardInterrupt",
     "evalue": "",
     "output_type": "error",
     "traceback": [
      "\u001b[0;31m---------------------------------------------------------------------------\u001b[0m",
      "\u001b[0;31mKeyboardInterrupt\u001b[0m                         Traceback (most recent call last)",
      "\u001b[0;32m<ipython-input-2-410165041f95>\u001b[0m in \u001b[0;36m<module>\u001b[0;34m\u001b[0m\n\u001b[1;32m     11\u001b[0m     \u001b[0mmask\u001b[0m \u001b[0;34m=\u001b[0m \u001b[0;36m1\u001b[0m \u001b[0;34m-\u001b[0m \u001b[0mmask\u001b[0m\u001b[0;34m\u001b[0m\u001b[0m\n\u001b[1;32m     12\u001b[0m     \u001b[0;32mwith\u001b[0m \u001b[0mrasterio\u001b[0m\u001b[0;34m.\u001b[0m\u001b[0mopen\u001b[0m\u001b[0;34m(\u001b[0m\u001b[0mfp_o\u001b[0m\u001b[0;34m,\u001b[0m \u001b[0;34m'w'\u001b[0m\u001b[0;34m,\u001b[0m \u001b[0;34m**\u001b[0m\u001b[0mmeta\u001b[0m\u001b[0;34m)\u001b[0m \u001b[0;32mas\u001b[0m \u001b[0mdst\u001b[0m\u001b[0;34m:\u001b[0m\u001b[0;34m\u001b[0m\u001b[0m\n\u001b[0;32m---> 13\u001b[0;31m         \u001b[0mdst\u001b[0m\u001b[0;34m.\u001b[0m\u001b[0mwrite\u001b[0m\u001b[0;34m(\u001b[0m\u001b[0mmask\u001b[0m\u001b[0;34m*\u001b[0m\u001b[0;36m255\u001b[0m\u001b[0;34m)\u001b[0m\u001b[0;34m\u001b[0m\u001b[0m\n\u001b[0m\u001b[1;32m     14\u001b[0m \u001b[0;34m\u001b[0m\u001b[0m\n",
      "\u001b[0;31mKeyboardInterrupt\u001b[0m: "
     ]
    }
   ],
   "source": [
    "import rasterio, os, glob\n",
    "list_fp = glob.glob(os.path.join(\"/home/skm/SKM16/Work/OpenLand/Result_Final/zRS_OPENLAND/*.tif\"))\n",
    "out_dir = r\"/home/skm/SKM16/Work/OpenLand/Result_Final/rs\"\n",
    "os.makedirs(out_dir, exist_ok=True)\n",
    "for fp in list_fp:\n",
    "    fp_o = os.path.join(out_dir, os.path.basename(fp))\n",
    "    with rasterio.open(fp) as src:\n",
    "        mask = src.read()\n",
    "        meta = src.meta\n",
    "        meta.update({'nodata':0})\n",
    "    mask = 1 - mask\n",
    "    with rasterio.open(fp_o, 'w', **meta) as dst:\n",
    "        dst.write(mask*255)\n",
    "        "
   ]
  },
  {
   "cell_type": "markdown",
   "metadata": {},
   "source": [
    "## Xoa vung nho va lom dom cho Openland"
   ]
  },
  {
   "cell_type": "code",
   "execution_count": 6,
   "metadata": {},
   "outputs": [
    {
     "data": {
      "application/vnd.jupyter.widget-view+json": {
       "model_id": "09925510386649de902eb2194f14ad7b",
       "version_major": 2,
       "version_minor": 0
      },
      "text/plain": [
       "Phan tram:   0%|          | 0/1 [00:00<?, ?it/s]"
      ]
     },
     "metadata": {},
     "output_type": "display_data"
    },
    {
     "data": {
      "application/vnd.jupyter.widget-view+json": {
       "model_id": "289d0c305c5a498699ca58c6bd5bb082",
       "version_major": 2,
       "version_minor": 0
      },
      "text/plain": [
       "Run contour:   0%|          | 0/120412 [00:00<?, ?it/s]"
      ]
     },
     "metadata": {},
     "output_type": "display_data"
    },
    {
     "data": {
      "application/vnd.jupyter.widget-view+json": {
       "model_id": "6c01eb7b8b594f009083f428c3cfca95",
       "version_major": 2,
       "version_minor": 0
      },
      "text/plain": [
       "Run contour:   0%|          | 0/95358 [00:00<?, ?it/s]"
      ]
     },
     "metadata": {},
     "output_type": "display_data"
    },
    {
     "ename": "RasterioIOError",
     "evalue": "Attempt to create new tiff file '/home/skm/SKM16/Work/OpenLand/all_tif_sap_xep/Miss/chua_run/a/miss255/20220903_064402_ssc4_u0001_visual.tif' failed: No such file or directory",
     "output_type": "error",
     "traceback": [
      "\u001b[0;31m---------------------------------------------------------------------------\u001b[0m",
      "\u001b[0;31mCPLE_OpenFailedError\u001b[0m                      Traceback (most recent call last)",
      "\u001b[0;32mrasterio/_io.pyx\u001b[0m in \u001b[0;36mrasterio._io.DatasetWriterBase.__init__\u001b[0;34m()\u001b[0m\n",
      "\u001b[0;32mrasterio/_err.pyx\u001b[0m in \u001b[0;36mrasterio._err.exc_wrap_pointer\u001b[0;34m()\u001b[0m\n",
      "\u001b[0;31mCPLE_OpenFailedError\u001b[0m: Attempt to create new tiff file '/home/skm/SKM16/Work/OpenLand/all_tif_sap_xep/Miss/chua_run/a/miss255/20220903_064402_ssc4_u0001_visual.tif' failed: No such file or directory",
      "\nDuring handling of the above exception, another exception occurred:\n",
      "\u001b[0;31mRasterioIOError\u001b[0m                           Traceback (most recent call last)",
      "\u001b[0;32m<ipython-input-6-5c46190823d6>\u001b[0m in \u001b[0;36m<module>\u001b[0;34m\u001b[0m\n\u001b[1;32m     19\u001b[0m     \u001b[0mmask_\u001b[0m \u001b[0;34m=\u001b[0m \u001b[0mremove_area_small\u001b[0m\u001b[0;34m(\u001b[0m\u001b[0;36m255\u001b[0m \u001b[0;34m-\u001b[0m \u001b[0mmask_\u001b[0m\u001b[0;34m,\u001b[0m \u001b[0marea_maximum_xoa_den\u001b[0m\u001b[0;34m,\u001b[0m \u001b[0mvalue_draw\u001b[0m\u001b[0;34m=\u001b[0m\u001b[0;36m255\u001b[0m\u001b[0;34m)\u001b[0m\u001b[0;34m\u001b[0m\u001b[0m\n\u001b[1;32m     20\u001b[0m     \u001b[0mmask_\u001b[0m \u001b[0;34m=\u001b[0m \u001b[0;36m255\u001b[0m \u001b[0;34m-\u001b[0m \u001b[0mmask_\u001b[0m\u001b[0;34m\u001b[0m\u001b[0m\n\u001b[0;32m---> 21\u001b[0;31m     \u001b[0;32mwith\u001b[0m \u001b[0mrasterio\u001b[0m\u001b[0;34m.\u001b[0m\u001b[0mopen\u001b[0m\u001b[0;34m(\u001b[0m\u001b[0mout_fp\u001b[0m\u001b[0;34m,\u001b[0m \u001b[0;34m'w'\u001b[0m\u001b[0;34m,\u001b[0m \u001b[0;34m**\u001b[0m\u001b[0mmeta\u001b[0m\u001b[0;34m)\u001b[0m \u001b[0;32mas\u001b[0m \u001b[0mdst\u001b[0m\u001b[0;34m:\u001b[0m\u001b[0;34m\u001b[0m\u001b[0m\n\u001b[0m\u001b[1;32m     22\u001b[0m         \u001b[0mdst\u001b[0m\u001b[0;34m.\u001b[0m\u001b[0mwrite\u001b[0m\u001b[0;34m(\u001b[0m\u001b[0mnp\u001b[0m\u001b[0;34m.\u001b[0m\u001b[0marray\u001b[0m\u001b[0;34m(\u001b[0m\u001b[0;34m[\u001b[0m\u001b[0mmask_\u001b[0m\u001b[0;34m]\u001b[0m\u001b[0;34m)\u001b[0m\u001b[0;34m)\u001b[0m\u001b[0;34m\u001b[0m\u001b[0m\n\u001b[1;32m     23\u001b[0m \u001b[0;34m\u001b[0m\u001b[0m\n",
      "\u001b[0;32m~/anaconda3/envs/geoai/lib/python3.7/site-packages/rasterio/env.py\u001b[0m in \u001b[0;36mwrapper\u001b[0;34m(*args, **kwds)\u001b[0m\n\u001b[1;32m    431\u001b[0m \u001b[0;34m\u001b[0m\u001b[0m\n\u001b[1;32m    432\u001b[0m         \u001b[0;32mwith\u001b[0m \u001b[0menv_ctor\u001b[0m\u001b[0;34m(\u001b[0m\u001b[0msession\u001b[0m\u001b[0;34m=\u001b[0m\u001b[0msession\u001b[0m\u001b[0;34m)\u001b[0m\u001b[0;34m:\u001b[0m\u001b[0;34m\u001b[0m\u001b[0m\n\u001b[0;32m--> 433\u001b[0;31m             \u001b[0;32mreturn\u001b[0m \u001b[0mf\u001b[0m\u001b[0;34m(\u001b[0m\u001b[0;34m*\u001b[0m\u001b[0margs\u001b[0m\u001b[0;34m,\u001b[0m \u001b[0;34m**\u001b[0m\u001b[0mkwds\u001b[0m\u001b[0;34m)\u001b[0m\u001b[0;34m\u001b[0m\u001b[0m\n\u001b[0m\u001b[1;32m    434\u001b[0m \u001b[0;34m\u001b[0m\u001b[0m\n\u001b[1;32m    435\u001b[0m     \u001b[0;32mreturn\u001b[0m \u001b[0mwrapper\u001b[0m\u001b[0;34m\u001b[0m\u001b[0m\n",
      "\u001b[0;32m~/anaconda3/envs/geoai/lib/python3.7/site-packages/rasterio/__init__.py\u001b[0m in \u001b[0;36mopen\u001b[0;34m(fp, mode, driver, width, height, count, crs, transform, dtype, nodata, sharing, **kwargs)\u001b[0m\n\u001b[1;32m    233\u001b[0m                            \u001b[0mdtype\u001b[0m\u001b[0;34m=\u001b[0m\u001b[0mdtype\u001b[0m\u001b[0;34m,\u001b[0m \u001b[0mnodata\u001b[0m\u001b[0;34m=\u001b[0m\u001b[0mnodata\u001b[0m\u001b[0;34m,\u001b[0m\u001b[0;34m\u001b[0m\u001b[0m\n\u001b[1;32m    234\u001b[0m                            \u001b[0msharing\u001b[0m\u001b[0;34m=\u001b[0m\u001b[0msharing\u001b[0m\u001b[0;34m,\u001b[0m\u001b[0;34m\u001b[0m\u001b[0m\n\u001b[0;32m--> 235\u001b[0;31m                            **kwargs)\n\u001b[0m\u001b[1;32m    236\u001b[0m             \u001b[0;32melse\u001b[0m\u001b[0;34m:\u001b[0m\u001b[0;34m\u001b[0m\u001b[0m\n\u001b[1;32m    237\u001b[0m                 raise DriverCapabilityError(\n",
      "\u001b[0;32mrasterio/_io.pyx\u001b[0m in \u001b[0;36mrasterio._io.DatasetWriterBase.__init__\u001b[0;34m()\u001b[0m\n",
      "\u001b[0;31mRasterioIOError\u001b[0m: Attempt to create new tiff file '/home/skm/SKM16/Work/OpenLand/all_tif_sap_xep/Miss/chua_run/a/miss255/20220903_064402_ssc4_u0001_visual.tif' failed: No such file or directory"
     ]
    }
   ],
   "source": [
    "import os, glob\n",
    "import rasterio\n",
    "import numpy as np\n",
    "from tqdm.notebook import tqdm\n",
    "from statistic.morphology import *\n",
    "\n",
    "dir_mask = r\"/home/skm/SKM16/Work/OpenLand/all_tif_sap_xep/Miss/chua_run/a\"\n",
    "out_dir = r\"/home/skm/SKM16/Work/OpenLand/all_tif_sap_xep/Miss/chua_run/a/miss255\"\n",
    "os.makedirs(out_dir, exist_ok=True)\n",
    "list_fp_mask = glob.glob(os.path.join(dir_mask, '*.tif'))\n",
    "area_maximum_lap_lo = 20\n",
    "area_maximum_xoa_den = 60\n",
    "\n",
    "for fp_mask in tqdm(list_fp_mask, desc='Phan tram'):\n",
    "    out_fp = os.path.join(out_dir, os.path.basename(fp_mask))\n",
    "    with rasterio.open(fp_mask) as src:\n",
    "        meta = src.meta\n",
    "        mask = src.read()\n",
    "    mask_ = remove_area_small(mask[0]*255, area_maximum_lap_lo, value_draw=255)\n",
    "    mask_ = remove_area_small(255 - mask_, area_maximum_xoa_den, value_draw=255)\n",
    "    mask_ = 255 - mask_\n",
    "    with rasterio.open(out_fp, 'w', **meta) as dst:\n",
    "        dst.write(np.array([mask_]))\n",
    "\n",
    "\n"
   ]
  },
  {
   "cell_type": "code",
   "execution_count": 5,
   "metadata": {},
   "outputs": [
    {
     "name": "stdout",
     "output_type": "stream",
     "text": [
      "['/home/skm/SKM16/Work/OpenLand/all_tif_sap_xep/Xulyngoai_chuyenhisto/0/chuyen_ve_anhKuwait/predict_unet_openland_loaded/20220812_070039_ssc4_u0002_visual.tif', '/home/skm/SKM16/Work/OpenLand/all_tif_sap_xep/Xulyngoai_chuyenhisto/0/chuyen_ve_anhKuwait/predict_unet_openland_loaded/20220812_070039_ssc4_u0003_visual.tif', '/home/skm/SKM16/Work/OpenLand/all_tif_sap_xep/Xulyngoai_chuyenhisto/0/chuyen_ve_anhKuwait/predict_unet_openland_loaded/20220816_103536_ssc8_u0002_visual.tif', '/home/skm/SKM16/Work/OpenLand/all_tif_sap_xep/Xulyngoai_chuyenhisto/0/chuyen_ve_anhKuwait/predict_unet_openland_loaded/20220818_102817_ssc7_u0001_visual.tif', '/home/skm/SKM16/Work/OpenLand/all_tif_sap_xep/Xulyngoai_chuyenhisto/0/chuyen_ve_anhKuwait/predict_unet_openland_loaded/20220818_102817_ssc7_u0002_visual.tif', '/home/skm/SKM16/Work/OpenLand/all_tif_sap_xep/Xulyngoai_chuyenhisto/0/chuyen_ve_anhKuwait/predict_unet_openland_loaded/20220820_070317_ssc4_u0001_visual.tif', '/home/skm/SKM16/Work/OpenLand/all_tif_sap_xep/Xulyngoai_chuyenhisto/0/chuyen_ve_anhKuwait/predict_unet_openland_loaded/20220821_070418_ssc12_u0001_visual.tif', '/home/skm/SKM16/Work/OpenLand/all_tif_sap_xep/Xulyngoai_chuyenhisto/0/chuyen_ve_anhKuwait/predict_unet_openland_loaded/20220825_103030_ssc10_u0001_visual.tif', '/home/skm/SKM16/Work/OpenLand/all_tif_sap_xep/Xulyngoai_chuyenhisto/0/chuyen_ve_anhKuwait/predict_unet_openland_loaded/20220825_103030_ssc10_u0002_visual.tif', '/home/skm/SKM16/Work/OpenLand/all_tif_sap_xep/Xulyngoai_chuyenhisto/0/chuyen_ve_anhKuwait/predict_unet_openland_loaded/20220826_065957_ssc3_u0002_visual.tif', '/home/skm/SKM16/Work/OpenLand/all_tif_sap_xep/Xulyngoai_chuyenhisto/0/chuyen_ve_anhKuwait/predict_unet_openland_loaded/20220827_102756_ssc8_u0001_visual.tif', '/home/skm/SKM16/Work/OpenLand/all_tif_sap_xep/Xulyngoai_chuyenhisto/0/chuyen_ve_anhKuwait/predict_unet_openland_loaded/20220827_102756_ssc8_u0002_visual.tif', '/home/skm/SKM16/Work/OpenLand/all_tif_sap_xep/Xulyngoai_chuyenhisto/0/chuyen_ve_anhKuwait/predict_unet_openland_loaded/20220903_064402_ssc4_u0001_visual.tif']\n"
     ]
    },
    {
     "data": {
      "application/vnd.jupyter.widget-view+json": {
       "model_id": "df0fd22361c942fa9995b05f421a1360",
       "version_major": 2,
       "version_minor": 0
      },
      "text/plain": [
       "Phan tram:   0%|          | 0/13 [00:00<?, ?it/s]"
      ]
     },
     "metadata": {},
     "output_type": "display_data"
    },
    {
     "data": {
      "application/vnd.jupyter.widget-view+json": {
       "model_id": "d13ccfd58c13420f8e33c1b3ea6bdb3d",
       "version_major": 2,
       "version_minor": 0
      },
      "text/plain": [
       "Run contour:   0%|          | 0/109079 [00:00<?, ?it/s]"
      ]
     },
     "metadata": {},
     "output_type": "display_data"
    },
    {
     "data": {
      "application/vnd.jupyter.widget-view+json": {
       "model_id": "276de87210f64f64a1120b80db876cda",
       "version_major": 2,
       "version_minor": 0
      },
      "text/plain": [
       "Run contour:   0%|          | 0/70150 [00:00<?, ?it/s]"
      ]
     },
     "metadata": {},
     "output_type": "display_data"
    },
    {
     "data": {
      "application/vnd.jupyter.widget-view+json": {
       "model_id": "5f5246479db2493f857500a3e7dd6191",
       "version_major": 2,
       "version_minor": 0
      },
      "text/plain": [
       "Run contour:   0%|          | 0/18721 [00:00<?, ?it/s]"
      ]
     },
     "metadata": {},
     "output_type": "display_data"
    },
    {
     "data": {
      "application/vnd.jupyter.widget-view+json": {
       "model_id": "6cc81cc3df974b759f93c8f5fcafd71b",
       "version_major": 2,
       "version_minor": 0
      },
      "text/plain": [
       "Run contour:   0%|          | 0/10095 [00:00<?, ?it/s]"
      ]
     },
     "metadata": {},
     "output_type": "display_data"
    },
    {
     "data": {
      "application/vnd.jupyter.widget-view+json": {
       "model_id": "1240d62fff2c4da1b713034cab595f6f",
       "version_major": 2,
       "version_minor": 0
      },
      "text/plain": [
       "Run contour:   0%|          | 0/27551 [00:00<?, ?it/s]"
      ]
     },
     "metadata": {},
     "output_type": "display_data"
    },
    {
     "data": {
      "application/vnd.jupyter.widget-view+json": {
       "model_id": "f67a9833abd842ba8048ca52a804cc3a",
       "version_major": 2,
       "version_minor": 0
      },
      "text/plain": [
       "Run contour:   0%|          | 0/21180 [00:00<?, ?it/s]"
      ]
     },
     "metadata": {},
     "output_type": "display_data"
    },
    {
     "data": {
      "application/vnd.jupyter.widget-view+json": {
       "model_id": "2fdd203c2e734e0986d0261f53ecf572",
       "version_major": 2,
       "version_minor": 0
      },
      "text/plain": [
       "Run contour:   0%|          | 0/50749 [00:00<?, ?it/s]"
      ]
     },
     "metadata": {},
     "output_type": "display_data"
    },
    {
     "data": {
      "application/vnd.jupyter.widget-view+json": {
       "model_id": "fed960b3cd0e49b28d04546d2ca47835",
       "version_major": 2,
       "version_minor": 0
      },
      "text/plain": [
       "Run contour:   0%|          | 0/35537 [00:00<?, ?it/s]"
      ]
     },
     "metadata": {},
     "output_type": "display_data"
    },
    {
     "data": {
      "application/vnd.jupyter.widget-view+json": {
       "model_id": "fbc48cb7f32b4686af921c169749fd91",
       "version_major": 2,
       "version_minor": 0
      },
      "text/plain": [
       "Run contour:   0%|          | 0/45233 [00:00<?, ?it/s]"
      ]
     },
     "metadata": {},
     "output_type": "display_data"
    },
    {
     "data": {
      "application/vnd.jupyter.widget-view+json": {
       "model_id": "86df9e7f6eff485383f10435aa94d83e",
       "version_major": 2,
       "version_minor": 0
      },
      "text/plain": [
       "Run contour:   0%|          | 0/29817 [00:00<?, ?it/s]"
      ]
     },
     "metadata": {},
     "output_type": "display_data"
    },
    {
     "data": {
      "application/vnd.jupyter.widget-view+json": {
       "model_id": "76f667f050854a26ae8326a76abbf437",
       "version_major": 2,
       "version_minor": 0
      },
      "text/plain": [
       "Run contour:   0%|          | 0/15987 [00:00<?, ?it/s]"
      ]
     },
     "metadata": {},
     "output_type": "display_data"
    },
    {
     "data": {
      "application/vnd.jupyter.widget-view+json": {
       "model_id": "a461218c50c04c7693cf739c64580557",
       "version_major": 2,
       "version_minor": 0
      },
      "text/plain": [
       "Run contour:   0%|          | 0/12275 [00:00<?, ?it/s]"
      ]
     },
     "metadata": {},
     "output_type": "display_data"
    },
    {
     "data": {
      "application/vnd.jupyter.widget-view+json": {
       "model_id": "c8fd98dffb4f49d2b932028d22ec3e54",
       "version_major": 2,
       "version_minor": 0
      },
      "text/plain": [
       "Run contour:   0%|          | 0/15646 [00:00<?, ?it/s]"
      ]
     },
     "metadata": {},
     "output_type": "display_data"
    },
    {
     "data": {
      "application/vnd.jupyter.widget-view+json": {
       "model_id": "93d2d8c949bd47aba667ae6a9b200a54",
       "version_major": 2,
       "version_minor": 0
      },
      "text/plain": [
       "Run contour:   0%|          | 0/12094 [00:00<?, ?it/s]"
      ]
     },
     "metadata": {},
     "output_type": "display_data"
    },
    {
     "data": {
      "application/vnd.jupyter.widget-view+json": {
       "model_id": "306dbe6532274186855cf172dc693c74",
       "version_major": 2,
       "version_minor": 0
      },
      "text/plain": [
       "Run contour:   0%|          | 0/51389 [00:00<?, ?it/s]"
      ]
     },
     "metadata": {},
     "output_type": "display_data"
    },
    {
     "data": {
      "application/vnd.jupyter.widget-view+json": {
       "model_id": "b82f91364a7f4d53831108bcb75758f2",
       "version_major": 2,
       "version_minor": 0
      },
      "text/plain": [
       "Run contour:   0%|          | 0/33439 [00:00<?, ?it/s]"
      ]
     },
     "metadata": {},
     "output_type": "display_data"
    },
    {
     "data": {
      "application/vnd.jupyter.widget-view+json": {
       "model_id": "23fb98000e1941a6b7e69a6ffb22f011",
       "version_major": 2,
       "version_minor": 0
      },
      "text/plain": [
       "Run contour:   0%|          | 0/40344 [00:00<?, ?it/s]"
      ]
     },
     "metadata": {},
     "output_type": "display_data"
    },
    {
     "data": {
      "application/vnd.jupyter.widget-view+json": {
       "model_id": "346bb0327f3b4efeb4c5c7aba905f841",
       "version_major": 2,
       "version_minor": 0
      },
      "text/plain": [
       "Run contour:   0%|          | 0/25410 [00:00<?, ?it/s]"
      ]
     },
     "metadata": {},
     "output_type": "display_data"
    },
    {
     "data": {
      "application/vnd.jupyter.widget-view+json": {
       "model_id": "31ab24a261e94473b83c628914b9a228",
       "version_major": 2,
       "version_minor": 0
      },
      "text/plain": [
       "Run contour:   0%|          | 0/32328 [00:00<?, ?it/s]"
      ]
     },
     "metadata": {},
     "output_type": "display_data"
    },
    {
     "data": {
      "application/vnd.jupyter.widget-view+json": {
       "model_id": "83f0f2b8234d46e7a4edf68924da09cb",
       "version_major": 2,
       "version_minor": 0
      },
      "text/plain": [
       "Run contour:   0%|          | 0/23567 [00:00<?, ?it/s]"
      ]
     },
     "metadata": {},
     "output_type": "display_data"
    },
    {
     "data": {
      "application/vnd.jupyter.widget-view+json": {
       "model_id": "3b01d2768dd540218e4a12ee7b8c68ce",
       "version_major": 2,
       "version_minor": 0
      },
      "text/plain": [
       "Run contour:   0%|          | 0/4053 [00:00<?, ?it/s]"
      ]
     },
     "metadata": {},
     "output_type": "display_data"
    },
    {
     "data": {
      "application/vnd.jupyter.widget-view+json": {
       "model_id": "d2922352f81b4482951cffd3ed258ef9",
       "version_major": 2,
       "version_minor": 0
      },
      "text/plain": [
       "Run contour:   0%|          | 0/2370 [00:00<?, ?it/s]"
      ]
     },
     "metadata": {},
     "output_type": "display_data"
    },
    {
     "data": {
      "application/vnd.jupyter.widget-view+json": {
       "model_id": "36f39b09317b4bba92be5dd933cf4f14",
       "version_major": 2,
       "version_minor": 0
      },
      "text/plain": [
       "Run contour:   0%|          | 0/1565 [00:00<?, ?it/s]"
      ]
     },
     "metadata": {},
     "output_type": "display_data"
    },
    {
     "data": {
      "application/vnd.jupyter.widget-view+json": {
       "model_id": "f56216df4bee489fa0629ca4ae054bac",
       "version_major": 2,
       "version_minor": 0
      },
      "text/plain": [
       "Run contour:   0%|          | 0/918 [00:00<?, ?it/s]"
      ]
     },
     "metadata": {},
     "output_type": "display_data"
    },
    {
     "data": {
      "application/vnd.jupyter.widget-view+json": {
       "model_id": "b0fea7a6c9aa4f5a8c68a5d0813d9b82",
       "version_major": 2,
       "version_minor": 0
      },
      "text/plain": [
       "Run contour: 0it [00:00, ?it/s]"
      ]
     },
     "metadata": {},
     "output_type": "display_data"
    },
    {
     "data": {
      "application/vnd.jupyter.widget-view+json": {
       "model_id": "a4af44bf336347659dee4d8fbcbe6f71",
       "version_major": 2,
       "version_minor": 0
      },
      "text/plain": [
       "Run contour:   0%|          | 0/1 [00:00<?, ?it/s]"
      ]
     },
     "metadata": {},
     "output_type": "display_data"
    },
    {
     "name": "stdout",
     "output_type": "stream",
     "text": [
      "[]\n"
     ]
    },
    {
     "data": {
      "application/vnd.jupyter.widget-view+json": {
       "model_id": "ff7045245df04a449a650462dd0fe4e5",
       "version_major": 2,
       "version_minor": 0
      },
      "text/plain": [
       "Phan tram: 0it [00:00, ?it/s]"
      ]
     },
     "metadata": {},
     "output_type": "display_data"
    },
    {
     "name": "stdout",
     "output_type": "stream",
     "text": [
      "['/home/skm/SKM16/Work/OpenLand/all_tif_sap_xep/Xulyngoai_chuyenhisto/120/chuyen_ve_anhKuwait/predict_unet_openland_loaded/20220819_102529_ssc8_u0002_visual.tif', '/home/skm/SKM16/Work/OpenLand/all_tif_sap_xep/Xulyngoai_chuyenhisto/120/chuyen_ve_anhKuwait/predict_unet_openland_loaded/20220823_102815_ssc6_u0002_visual.tif']\n"
     ]
    },
    {
     "data": {
      "application/vnd.jupyter.widget-view+json": {
       "model_id": "0a87b04817f047acb4d9698a5edc2ae4",
       "version_major": 2,
       "version_minor": 0
      },
      "text/plain": [
       "Phan tram:   0%|          | 0/2 [00:00<?, ?it/s]"
      ]
     },
     "metadata": {},
     "output_type": "display_data"
    },
    {
     "data": {
      "application/vnd.jupyter.widget-view+json": {
       "model_id": "20f1d9e412dd4574b34c5bb72c8229fd",
       "version_major": 2,
       "version_minor": 0
      },
      "text/plain": [
       "Run contour:   0%|          | 0/26880 [00:00<?, ?it/s]"
      ]
     },
     "metadata": {},
     "output_type": "display_data"
    },
    {
     "data": {
      "application/vnd.jupyter.widget-view+json": {
       "model_id": "51fc673204d74da88ac21dc615c88b8a",
       "version_major": 2,
       "version_minor": 0
      },
      "text/plain": [
       "Run contour:   0%|          | 0/18829 [00:00<?, ?it/s]"
      ]
     },
     "metadata": {},
     "output_type": "display_data"
    },
    {
     "data": {
      "application/vnd.jupyter.widget-view+json": {
       "model_id": "066866fa626f4cdfb3adc6d2fc138dd3",
       "version_major": 2,
       "version_minor": 0
      },
      "text/plain": [
       "Run contour:   0%|          | 0/13103 [00:00<?, ?it/s]"
      ]
     },
     "metadata": {},
     "output_type": "display_data"
    },
    {
     "data": {
      "application/vnd.jupyter.widget-view+json": {
       "model_id": "d19950c0e9c14d869ec72849eea9c58d",
       "version_major": 2,
       "version_minor": 0
      },
      "text/plain": [
       "Run contour:   0%|          | 0/8673 [00:00<?, ?it/s]"
      ]
     },
     "metadata": {},
     "output_type": "display_data"
    }
   ],
   "source": [
    "\n",
    "import os, glob\n",
    "import rasterio\n",
    "import numpy as np\n",
    "from tqdm.notebook import tqdm\n",
    "from statistic.morphology import *\n",
    "\n",
    "for a in [0,80,120]:\n",
    "    dir_mask = f\"/home/skm/SKM16/Work/OpenLand/all_tif_sap_xep/Xulyngoai_chuyenhisto/{str(a)}/chuyen_ve_anhKuwait/predict_unet_openland_loaded\"\n",
    "    out_dir = r\"/home/skm/SKM16/Work/OpenLand/all_tif_sap_xep/Miss/chua_run/predict_morpho\"\n",
    "    list_fp_mask = glob.glob(os.path.join(dir_mask, '*.tif'))\n",
    "    area_maximum_lap_lo = 20\n",
    "    area_maximum_xoa_den = 60\n",
    "    print(list_fp_mask)\n",
    "\n",
    "    for fp_mask in tqdm(list_fp_mask, desc='Phan tram'):\n",
    "        out_fp = os.path.join(out_dir, os.path.basename(fp_mask))\n",
    "        with rasterio.open(fp_mask) as src:\n",
    "            meta = src.meta\n",
    "            mask = src.read()\n",
    "        mask_ = remove_area_small(mask[0]*255, area_maximum_lap_lo, value_draw=255)\n",
    "        mask_ = remove_area_small(255 - mask_, area_maximum_xoa_den, value_draw=255)\n",
    "        mask_ = 255 - mask_\n",
    "        with rasterio.open(out_fp, 'w', **meta) as dst:\n",
    "            dst.write(np.array([mask_]))\n",
    "\n",
    "\n"
   ]
  },
  {
   "cell_type": "markdown",
   "metadata": {},
   "source": [
    "## Them phan mask ve them vao trong Mask co nhieu class cua Openland"
   ]
  },
  {
   "cell_type": "code",
   "execution_count": 2,
   "metadata": {},
   "outputs": [],
   "source": [
    "import os, glob\n",
    "import rasterio\n",
    "import numpy as np\n",
    "from tqdm.notebook import tqdm\n",
    "\n",
    "dir_image_all = r\"/home/skm/SKM16/Work/OpenLand/3_dichHistogram/Image_allLabel/mask_all_chua_add_BF_them\"\n",
    "dir_mask_bd = r\"/home/skm/SKM16/Work/OpenLand/3_dichHistogram/Image_allLabel/mask_add_BF\"\n",
    "\n",
    "list_fp_bd = glob.glob(os.path.join(dir_mask_bd, \"*.tif\"))\n",
    "for fp_msk_bd in tqdm(list_fp_bd):\n",
    "    f_name = os.path.basename(fp_msk_bd)\n",
    "    fp_all_need_add = os.path.join(dir_image_all, f_name)\n",
    "\n",
    "    with rasterio.open(fp_msk_bd) as src:\n",
    "        msk_db = src.read()\n",
    "    idex_bd = np.where(msk_db != 0)\n",
    "\n",
    "    with rasterio.open(fp_all_need_add) as src:\n",
    "        mask_all_need_add = src.read()\n",
    "        meta = src.meta\n",
    "    \n",
    "    mask_all_need_add[idex_bd] = 1\n",
    "    with rasterio.open(fp_all_need_add, 'r+') as dst:\n",
    "        dst.write(mask_all_need_add)\n",
    "\n",
    "    "
   ]
  },
  {
   "cell_type": "code",
   "execution_count": 9,
   "metadata": {},
   "outputs": [
    {
     "data": {
      "application/vnd.jupyter.widget-view+json": {
       "model_id": "5ef0450541704460bc0a8c91c6a235be",
       "version_major": 2,
       "version_minor": 0
      },
      "text/plain": [
       "Run contour:   0%|          | 0/58472 [00:00<?, ?it/s]"
      ]
     },
     "metadata": {},
     "output_type": "display_data"
    }
   ],
   "source": [
    "\n",
    "input_img = r\"/home/skm/public_mount/DucAnhtmp/cloud/tmp/a_b.tif\"\n",
    "input_shp = r\"/home/skm/public_mount/DucAnhtmp/cloud/cloud.shp\"\n",
    "output_mask = r\"/home/skm/Downloads/mask_rm_ok.tif\"\n",
    "import rasterio\n",
    "from statistic.morphology import *\n",
    "\n",
    "\n",
    "with rasterio.open(output_mask) as src:\n",
    "    mask = src.read()\n",
    "mask[mask!=0] = 1\n",
    "\n",
    "with rasterio.open(r\"/home/skm/public_mount/DucAnhtmp/cloud/tmp/goc.tif\") as src:\n",
    "    mask_goc = src.read()\n",
    "    meta = src.meta \n",
    "\n",
    "mask_ok = mask_goc*mask\n",
    "maskcoppy = mask_ok.copy()\n",
    "maskcoppy[maskcoppy == 1] = 0\n",
    "maskcoppy[maskcoppy != 0] = 255\n",
    "\n",
    "ok = remove_area_small(maskcoppy[0], 1, value_draw=0)\n",
    "ok[ok != 0] = 1\n",
    "mask_ok = np.array([ok])*mask_ok\n",
    "\n",
    "fp_ok = r\"/home/skm/Downloads/mask_rm_ok_oksa.tif\"\n",
    "with rasterio.open(fp_ok, 'w', **meta) as dst:\n",
    "    dst.write(mask_ok)\n"
   ]
  },
  {
   "cell_type": "code",
   "execution_count": null,
   "metadata": {},
   "outputs": [],
   "source": []
  },
  {
   "cell_type": "code",
   "execution_count": 10,
   "metadata": {},
   "outputs": [],
   "source": [
    "import numpy as np\n",
    "import rasterio\n",
    "\n",
    "input_img = r\"/home/skm/public_mount/DucAnhtmp/cloud/tmp/a_b.tif\"\n",
    "fp_ok = r\"/home/skm/Downloads/mask_rm_ok_oksa.tif\"\n",
    "fp_ok_ = r\"/home/skm/Downloads/hieu_ML.tif\"\n",
    "\n",
    "with rasterio.open(input_img) as src:\n",
    "    mask_goc = src.read()\n",
    "    meta = src.meta \n",
    "idx0 = np.where(mask_goc == 0)\n",
    "\n",
    "with rasterio.open(fp_ok) as src:\n",
    "    mask_oke = src.read()\n",
    "    \n",
    "mask_oke[mask_oke==0] = 1\n",
    "mask_oke[idx0] = 0\n",
    "\n",
    "with rasterio.open(fp_ok_, 'w', **meta) as dst:\n",
    "    dst.write(mask_oke)"
   ]
  },
  {
   "cell_type": "code",
   "execution_count": 5,
   "metadata": {},
   "outputs": [
    {
     "data": {
      "text/plain": [
       "77"
      ]
     },
     "execution_count": 5,
     "metadata": {},
     "output_type": "execute_result"
    }
   ],
   "source": [
    "import os, glob, rasterio\n",
    "\n",
    "dir_img = r\"/home/skm/SKM16/Work/OpenLand/3_dichHistogram/Training_Water/Data_Train_and_Model/images\"\n",
    "list_fp = glob.glob(os.path.join(dir_img, \"*_mask.tif\"))\n",
    "len(list_fp)"
   ]
  },
  {
   "cell_type": "code",
   "execution_count": null,
   "metadata": {},
   "outputs": [],
   "source": []
  }
 ],
 "metadata": {
  "kernelspec": {
   "display_name": "Python 3.7.0 ('geoai')",
   "language": "python",
   "name": "python3"
  },
  "language_info": {
   "codemirror_mode": {
    "name": "ipython",
    "version": 3
   },
   "file_extension": ".py",
   "mimetype": "text/x-python",
   "name": "python",
   "nbconvert_exporter": "python",
   "pygments_lexer": "ipython3",
   "version": "3.7.0"
  },
  "orig_nbformat": 4,
  "vscode": {
   "interpreter": {
    "hash": "1bff4993b5c6f9c50422f70b2dd5a13ec694dfd7dde205c6b1afc92728df224a"
   }
  }
 },
 "nbformat": 4,
 "nbformat_minor": 2
}
