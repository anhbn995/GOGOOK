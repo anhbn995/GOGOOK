{
 "cells": [
  {
   "cell_type": "code",
   "execution_count": 1,
   "metadata": {},
   "outputs": [],
   "source": [
    "import rasterio\n",
    "import os, glob\n",
    "from tqdm import tqdm\n",
    "\n",
    "dir_img_01 = r'/home/skm/SKM16/X/Landslide_Sentinel-2_DAnh/Label/label_01'\n",
    "dir_img_0255_out = r\"/home/skm/SKM16/X/Landslide_Sentinel-2_DAnh/Label/label_255\"\n",
    "os.makedirs(dir_img_0255_out, exist_ok=True)\n",
    "\n",
    "for fp_img_01 in tqdm(glob.glob(os.path.join(dir_img_01,'*.tif'))):\n",
    "    with rasterio.open(fp_img_01) as src:\n",
    "        image = src.read()\n",
    "        meta = src.meta\n",
    "    fp_img_255_out = os.path.join(dir_img_0255_out, os.path.basename(fp_img_01))\n",
    "    image[image != 0] = 255\n",
    "    with rasterio.open(fp_img_255_out, 'w', **meta) as dst:\n",
    "        dst.write(image)"
   ]
  },
  {
   "cell_type": "code",
   "execution_count": null,
   "metadata": {},
   "outputs": [],
   "source": []
  }
 ],
 "metadata": {
  "kernelspec": {
   "display_name": "geoai",
   "language": "python",
   "name": "python3"
  },
  "language_info": {
   "codemirror_mode": {
    "name": "ipython",
    "version": 3
   },
   "file_extension": ".py",
   "mimetype": "text/x-python",
   "name": "python",
   "nbconvert_exporter": "python",
   "pygments_lexer": "ipython3",
   "version": "3.7.0"
  },
  "orig_nbformat": 4,
  "vscode": {
   "interpreter": {
    "hash": "1bff4993b5c6f9c50422f70b2dd5a13ec694dfd7dde205c6b1afc92728df224a"
   }
  }
 },
 "nbformat": 4,
 "nbformat_minor": 2
}
