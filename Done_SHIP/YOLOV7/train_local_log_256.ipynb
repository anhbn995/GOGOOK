/home/skm/SKM16/IMAGE/ZZ_ZZ/TauBien/code/YOLO/Custom/TrainYOLOv7/yolov7
YOLOR 🚀 v0.1-104-g941b94c torch 2.0.1+cu117 CUDA:0 (NVIDIA GeForce GTX 1080 Ti, 11171.125MB)

Namespace(weights='pretrain/yolov7.pt', cfg='cfg/training/yolov7.yaml', data='data/mydataset.yaml', hyp='data/hyp.scratch.p5.yaml', epochs=400, batch_size=5, img_size=[640, 640], rect=False, resume=False, nosave=False, notest=False, noautoanchor=False, evolve=False, bucket='', cache_images=False, image_weights=False, device='', multi_scale=False, single_cls=False, adam=False, sync_bn=False, local_rank=-1, workers=8, project='runs/train', entity=None, name='exp', exist_ok=False, quad=False, linear_lr=False, label_smoothing=0.0, upload_dataset=False, bbox_interval=-1, save_period=-1, artifact_alias='latest', freeze=[0], world_size=1, global_rank=-1, save_dir='runs/train/exp3', total_batch_size=5)
[34m[1mtensorboard: [0mStart with 'tensorboard --logdir runs/train', view at http://localhost:6006/
[34m[1mhyperparameters: [0mlr0=0.01, lrf=0.1, momentum=0.937, weight_decay=0.0005, warmup_epochs=3.0, warmup_momentum=0.8, warmup_bias_lr=0.1, box=0.05, cls=0.3, cls_pw=1.0, obj=0.7, obj_pw=1.0, iou_t=0.2, anchor_t=4.0, fl_gamma=0.0, hsv_h=0.015, hsv_s=0.7, hsv_v=0.4, degrees=0.0, translate=0.2, scale=0.9, shear=0.0, perspective=0.0, flipud=0.0, fliplr=0.5, mosaic=1.0, mixup=0.15, copy_paste=0.0, paste_in=0.15, loss_ota=1
[34m[1mwandb: [0mInstall Weights & Biases for YOLOR logging with 'pip install wandb' (recommended)
Overriding model.yaml nc=80 with nc=1

                 from  n    params  module                                  arguments                     
  0                -1  1       928  models.common.Conv                      [3, 32, 3, 1]                 
  1                -1  1     18560  models.common.Conv                      [32, 64, 3, 2]                
  2                -1  1     36992  models.common.Conv                      [64, 64, 3, 1]                
  3                -1  1     73984  models.common.Conv                      [64, 128, 3, 2]               
  4                -1  1      8320  models.common.Conv                      [128, 64, 1, 1]               
  5                -2  1      8320  models.common.Conv                      [128, 64, 1, 1]               
  6                -1  1     36992  models.common.Conv                      [64, 64, 3, 1]                
  7                -1  1     36992  models.common.Conv                      [64, 64, 3, 1]                
  8                -1  1     36992  models.common.Conv                      [64, 64, 3, 1]                
  9                -1  1     36992  models.common.Conv                      [64, 64, 3, 1]                
 10  [-1, -3, -5, -6]  1         0  models.common.Concat                    [1]                           
 11                -1  1     66048  models.common.Conv                      [256, 256, 1, 1]              
 12                -1  1         0  models.common.MP                        []                            
 13                -1  1     33024  models.common.Conv                      [256, 128, 1, 1]              
 14                -3  1     33024  models.common.Conv                      [256, 128, 1, 1]              
 15                -1  1    147712  models.common.Conv                      [128, 128, 3, 2]              
 16          [-1, -3]  1         0  models.common.Concat                    [1]                           
 17                -1  1     33024  models.common.Conv                      [256, 128, 1, 1]              
 18                -2  1     33024  models.common.Conv                      [256, 128, 1, 1]              
 19                -1  1    147712  models.common.Conv                      [128, 128, 3, 1]              
 20                -1  1    147712  models.common.Conv                      [128, 128, 3, 1]              
 21                -1  1    147712  models.common.Conv                      [128, 128, 3, 1]              
 22                -1  1    147712  models.common.Conv                      [128, 128, 3, 1]              
 23  [-1, -3, -5, -6]  1         0  models.common.Concat                    [1]                           
 24                -1  1    263168  models.common.Conv                      [512, 512, 1, 1]              
 25                -1  1         0  models.common.MP                        []                            
 26                -1  1    131584  models.common.Conv                      [512, 256, 1, 1]              
 27                -3  1    131584  models.common.Conv                      [512, 256, 1, 1]              
 28                -1  1    590336  models.common.Conv                      [256, 256, 3, 2]              
 29          [-1, -3]  1         0  models.common.Concat                    [1]                           
 30                -1  1    131584  models.common.Conv                      [512, 256, 1, 1]              
 31                -2  1    131584  models.common.Conv                      [512, 256, 1, 1]              
 32                -1  1    590336  models.common.Conv                      [256, 256, 3, 1]              
 33                -1  1    590336  models.common.Conv                      [256, 256, 3, 1]              
 34                -1  1    590336  models.common.Conv                      [256, 256, 3, 1]              
 35                -1  1    590336  models.common.Conv                      [256, 256, 3, 1]              
 36  [-1, -3, -5, -6]  1         0  models.common.Concat                    [1]                           
 37                -1  1   1050624  models.common.Conv                      [1024, 1024, 1, 1]            
 38                -1  1         0  models.common.MP                        []                            
 39                -1  1    525312  models.common.Conv                      [1024, 512, 1, 1]             
 40                -3  1    525312  models.common.Conv                      [1024, 512, 1, 1]             
 41                -1  1   2360320  models.common.Conv                      [512, 512, 3, 2]              
 42          [-1, -3]  1         0  models.common.Concat                    [1]                           
 43                -1  1    262656  models.common.Conv                      [1024, 256, 1, 1]             
 44                -2  1    262656  models.common.Conv                      [1024, 256, 1, 1]             
 45                -1  1    590336  models.common.Conv                      [256, 256, 3, 1]              
 46                -1  1    590336  models.common.Conv                      [256, 256, 3, 1]              
 47                -1  1    590336  models.common.Conv                      [256, 256, 3, 1]              
 48                -1  1    590336  models.common.Conv                      [256, 256, 3, 1]              
 49  [-1, -3, -5, -6]  1         0  models.common.Concat                    [1]                           
 50                -1  1   1050624  models.common.Conv                      [1024, 1024, 1, 1]            
 51                -1  1   7609344  models.common.SPPCSPC                   [1024, 512, 1]                
 52                -1  1    131584  models.common.Conv                      [512, 256, 1, 1]              
 53                -1  1         0  torch.nn.modules.upsampling.Upsample    [None, 2, 'nearest']          
 54                37  1    262656  models.common.Conv                      [1024, 256, 1, 1]             
 55          [-1, -2]  1         0  models.common.Concat                    [1]                           
 56                -1  1    131584  models.common.Conv                      [512, 256, 1, 1]              
 57                -2  1    131584  models.common.Conv                      [512, 256, 1, 1]              
 58                -1  1    295168  models.common.Conv                      [256, 128, 3, 1]              
 59                -1  1    147712  models.common.Conv                      [128, 128, 3, 1]              
 60                -1  1    147712  models.common.Conv                      [128, 128, 3, 1]              
 61                -1  1    147712  models.common.Conv                      [128, 128, 3, 1]              
 62[-1, -2, -3, -4, -5, -6]  1         0  models.common.Concat                    [1]                           
 63                -1  1    262656  models.common.Conv                      [1024, 256, 1, 1]             
 64                -1  1     33024  models.common.Conv                      [256, 128, 1, 1]              
 65                -1  1         0  torch.nn.modules.upsampling.Upsample    [None, 2, 'nearest']          
 66                24  1     65792  models.common.Conv                      [512, 128, 1, 1]              
 67          [-1, -2]  1         0  models.common.Concat                    [1]                           
 68                -1  1     33024  models.common.Conv                      [256, 128, 1, 1]              
 69                -2  1     33024  models.common.Conv                      [256, 128, 1, 1]              
 70                -1  1     73856  models.common.Conv                      [128, 64, 3, 1]               
 71                -1  1     36992  models.common.Conv                      [64, 64, 3, 1]                
 72                -1  1     36992  models.common.Conv                      [64, 64, 3, 1]                
 73                -1  1     36992  models.common.Conv                      [64, 64, 3, 1]                
 74[-1, -2, -3, -4, -5, -6]  1         0  models.common.Concat                    [1]                           
 75                -1  1     65792  models.common.Conv                      [512, 128, 1, 1]              
 76                -1  1         0  models.common.MP                        []                            
 77                -1  1     16640  models.common.Conv                      [128, 128, 1, 1]              
 78                -3  1     16640  models.common.Conv                      [128, 128, 1, 1]              
 79                -1  1    147712  models.common.Conv                      [128, 128, 3, 2]              
 80      [-1, -3, 63]  1         0  models.common.Concat                    [1]                           
 81                -1  1    131584  models.common.Conv                      [512, 256, 1, 1]              
 82                -2  1    131584  models.common.Conv                      [512, 256, 1, 1]              
 83                -1  1    295168  models.common.Conv                      [256, 128, 3, 1]              
 84                -1  1    147712  models.common.Conv                      [128, 128, 3, 1]              
 85                -1  1    147712  models.common.Conv                      [128, 128, 3, 1]              
 86                -1  1    147712  models.common.Conv                      [128, 128, 3, 1]              
 87[-1, -2, -3, -4, -5, -6]  1         0  models.common.Concat                    [1]                           
 88                -1  1    262656  models.common.Conv                      [1024, 256, 1, 1]             
 89                -1  1         0  models.common.MP                        []                            
 90                -1  1     66048  models.common.Conv                      [256, 256, 1, 1]              
 91                -3  1     66048  models.common.Conv                      [256, 256, 1, 1]              
 92                -1  1    590336  models.common.Conv                      [256, 256, 3, 2]              
 93      [-1, -3, 51]  1         0  models.common.Concat                    [1]                           
 94                -1  1    525312  models.common.Conv                      [1024, 512, 1, 1]             
 95                -2  1    525312  models.common.Conv                      [1024, 512, 1, 1]             
 96                -1  1   1180160  models.common.Conv                      [512, 256, 3, 1]              
 97                -1  1    590336  models.common.Conv                      [256, 256, 3, 1]              
 98                -1  1    590336  models.common.Conv                      [256, 256, 3, 1]              
 99                -1  1    590336  models.common.Conv                      [256, 256, 3, 1]              
100[-1, -2, -3, -4, -5, -6]  1         0  models.common.Concat                    [1]                           
101                -1  1   1049600  models.common.Conv                      [2048, 512, 1, 1]             
102                75  1    328704  models.common.RepConv                   [128, 256, 3, 1]              
103                88  1   1312768  models.common.RepConv                   [256, 512, 3, 1]              
104               101  1   5246976  models.common.RepConv                   [512, 1024, 3, 1]             
105   [102, 103, 104]  1     34156  models.yolo.IDetect                     [1, [[12, 16, 19, 36, 40, 28], [36, 75, 76, 55, 72, 146], [142, 110, 192, 243, 459, 401]], [256, 512, 1024]]
[W NNPACK.cpp:64] Could not initialize NNPACK! Reason: Unsupported hardware.
/home/skm/anaconda3/envs/yolo7/lib/python3.9/site-packages/torch/functional.py:504: UserWarning: torch.meshgrid: in an upcoming release, it will be required to pass the indexing argument. (Triggered internally at ../aten/src/ATen/native/TensorShape.cpp:3483.)
  return _VF.meshgrid(tensors, **kwargs)  # type: ignore[attr-defined]
Model Summary: 415 layers, 37196556 parameters, 37196556 gradients, 105.1 GFLOPS

Transferred 552/566 items from pretrain/yolov7.pt
Scaled weight_decay = 0.0005078125
Optimizer groups: 95 .bias, 95 conv.weight, 98 other
[34m[1mtrain: [0mScanning '../train_data/train_ship_256/labels.cache' images and labels...[0m
[34m[1mval: [0mScanning '../train_data/val_ship_256/labels.cache' images and labels... 213[0m

[34m[1mautoanchor: [0mAnalyzing anchors... anchors/target = 5.00, Best Possible Recall (BPR) = 0.9703. Attempting to improve anchors, please wait...
[34m[1mautoanchor: [0mWARNING: Extremely small objects found. 65 of 2558 labels are < 3 pixels in size.
[34m[1mautoanchor: [0mRunning kmeans for 9 anchors on 2556 points...
[34m[1mautoanchor: [0mthr=0.25: 0.9593 best possible recall, 5.81 anchors past thr
[34m[1mautoanchor: [0mn=9, img_size=640, metric_all=0.366/0.733-mean/best, past_thr=0.487-mean: 21,21,  35,37,  62,22,  28,65,  59,57,  136,57,  83,113,  93,208,  261,129
[34m[1mautoanchor: [0mEvolving anchors with Genetic Algorithm: fitness = 0.7426: 100%|█| 1[0m
[34m[1mautoanchor: [0mthr=0.25: 0.9715 best possible recall, 6.37 anchors past thr
[34m[1mautoanchor: [0mn=9, img_size=640, metric_all=0.390/0.745-mean/best, past_thr=0.489-mean: 19,22,  53,17,  32,33,  26,59,  51,47,  55,87,  104,55,  85,146,  213,139
[34m[1mautoanchor: [0mNew anchors saved to model. Update model *.yaml to use these anchors in the future.

Image sizes 640 train, 640 test
Using 5 dataloader workers
Logging results to runs/train/exp3
Starting training for 400 epochs...

     Epoch   gpu_mem       box       obj       cls     total    labels  img_size
     0/399     1.12G   0.07611     0.914         0    0.9901        30       640
               Class      Images      Labels           P           R      mAP@.5
                 all         213        1183      0.0038      0.0228    0.000248    4.67e-05

     Epoch   gpu_mem       box       obj       cls     total    labels  img_size
     1/399     4.74G   0.08243   0.05229         0    0.1347        13       640
               Class      Images      Labels           P           R      mAP@.5
                 all         213        1183     0.00494      0.0313    0.000531    8.36e-05

     Epoch   gpu_mem       box       obj       cls     total    labels  img_size
     2/399     4.76G   0.07868   0.01531         0   0.09399        32       640
               Class      Images      Labels           P           R      mAP@.5
                 all         213        1183      0.0282       0.151      0.0106     0.00215

     Epoch   gpu_mem       box       obj       cls     total    labels  img_size
     3/399     4.76G   0.07311  0.009753         0   0.08286         3       640
               Class      Images      Labels           P           R      mAP@.5
                 all         213        1183       0.323       0.208       0.158      0.0401

     Epoch   gpu_mem       box       obj       cls     total    labels  img_size
     4/399     4.76G   0.06817  0.008113         0   0.07629         3       640
               Class      Images      Labels           P           R      mAP@.5
                 all         213        1183       0.423       0.317       0.296      0.0809

     Epoch   gpu_mem       box       obj       cls     total    labels  img_size
     5/399     4.76G   0.06412  0.008222         0   0.07234        78       640
               Class      Images      Labels           P           R      mAP@.5
                 all         213        1183       0.536       0.379       0.403       0.116

     Epoch   gpu_mem       box       obj       cls     total    labels  img_size
     6/399     4.76G   0.06068  0.008954         0   0.06963         0       640
               Class      Images      Labels           P           R      mAP@.5
                 all         213        1183       0.609       0.533       0.545       0.196

     Epoch   gpu_mem       box       obj       cls     total    labels  img_size
     7/399     4.76G   0.05733  0.007831         0   0.06516        30       640
               Class      Images      Labels           P           R      mAP@.5
                 all         213        1183       0.443       0.553       0.472       0.153

     Epoch   gpu_mem       box       obj       cls     total    labels  img_size
     8/399     4.76G    0.0545  0.008387         0   0.06289        16       640
               Class      Images      Labels           P           R      mAP@.5
                 all         213        1183        0.66       0.582        0.59       0.219

     Epoch   gpu_mem       box       obj       cls     total    labels  img_size
     9/399     4.76G   0.05187   0.00882         0   0.06069         1       640
               Class      Images      Labels           P           R      mAP@.5
                 all         213        1183        0.58       0.525       0.523       0.166

     Epoch   gpu_mem       box       obj       cls     total    labels  img_size
    10/399     4.76G   0.05039   0.00959         0   0.05998        42       640
               Class      Images      Labels           P           R      mAP@.5
                 all         213        1183        0.59       0.552       0.516       0.183

     Epoch   gpu_mem       box       obj       cls     total    labels  img_size
    11/399     4.76G   0.04988  0.009222         0    0.0591        27       640
               Class      Images      Labels           P           R      mAP@.5
                 all         213        1183       0.703       0.604       0.642       0.267

     Epoch   gpu_mem       box       obj       cls     total    labels  img_size
    12/399     4.76G   0.04821   0.01064         0   0.05885         7       640
               Class      Images      Labels           P           R      mAP@.5
                 all         213        1183       0.616       0.663       0.625       0.256

     Epoch   gpu_mem       box       obj       cls     total    labels  img_size
    13/399     4.76G    0.0492  0.009306         0   0.05851        35       640
               Class      Images      Labels           P           R      mAP@.5
                 all         213        1183       0.599       0.453       0.461       0.191

     Epoch   gpu_mem       box       obj       cls     total    labels  img_size
    14/399     4.76G   0.04919  0.009814         0     0.059        12       640
               Class      Images      Labels           P           R      mAP@.5
                 all         213        1183       0.672       0.613       0.614       0.237

     Epoch   gpu_mem       box       obj       cls     total    labels  img_size
    15/399     4.76G   0.04951  0.009746         0   0.05926        25       640
               Class      Images      Labels           P           R      mAP@.5
                 all         213        1183       0.655       0.641       0.601       0.226

     Epoch   gpu_mem       box       obj       cls     total    labels  img_size
    16/399     4.77G    0.0487  0.009314         0   0.05801         1       640
               Class      Images      Labels           P           R      mAP@.5
                 all         213        1183       0.683       0.622       0.634       0.275

     Epoch   gpu_mem       box       obj       cls     total    labels  img_size
    17/399     4.77G   0.04547  0.009671         0   0.05514        25       640
               Class      Images      Labels           P           R      mAP@.5
                 all         213        1183       0.743       0.651       0.676       0.301

     Epoch   gpu_mem       box       obj       cls     total    labels  img_size
    18/399     4.77G   0.04947   0.01015         0   0.05962        33       640
               Class      Images      Labels           P           R      mAP@.5
                 all         213        1183       0.719       0.667       0.679       0.288

     Epoch   gpu_mem       box       obj       cls     total    labels  img_size
    19/399     4.77G   0.04584  0.009625         0   0.05547        19       640
               Class      Images      Labels           P           R      mAP@.5
                 all         213        1183       0.705        0.64       0.658       0.295

     Epoch   gpu_mem       box       obj       cls     total    labels  img_size
    20/399     4.77G   0.04637  0.009604         0   0.05597        42       640
               Class      Images      Labels           P           R      mAP@.5
                 all         213        1183       0.664       0.722       0.692        0.31

     Epoch   gpu_mem       box       obj       cls     total    labels  img_size
    21/399     4.77G   0.04714  0.009627         0   0.05676         1       640
               Class      Images      Labels           P           R      mAP@.5
                 all         213        1183       0.686       0.593       0.624       0.289

     Epoch   gpu_mem       box       obj       cls     total    labels  img_size
    22/399     4.77G   0.04583   0.00951         0   0.05533        33       640
               Class      Images      Labels           P           R      mAP@.5
                 all         213        1183       0.727       0.695        0.73       0.353

     Epoch   gpu_mem       box       obj       cls     total    labels  img_size
    23/399     4.77G   0.04379  0.009668         0   0.05345        70       640
               Class      Images      Labels           P           R      mAP@.5
                 all         213        1183       0.766       0.681        0.73       0.341

     Epoch   gpu_mem       box       obj       cls     total    labels  img_size
    24/399     4.77G   0.04271  0.008956         0   0.05167        54       640
               Class      Images      Labels           P           R      mAP@.5
                 all         213        1183       0.729       0.727       0.723       0.319

     Epoch   gpu_mem       box       obj       cls     total    labels  img_size
    25/399     4.77G    0.0438  0.009229         0   0.05303        22       640
               Class      Images      Labels           P           R      mAP@.5
                 all         213        1183       0.783       0.663       0.725        0.34

     Epoch   gpu_mem       box       obj       cls     total    labels  img_size
    26/399     4.77G    0.0453  0.009281         0   0.05459        16       640
               Class      Images      Labels           P           R      mAP@.5
                 all         213        1183       0.776       0.724       0.758       0.373

     Epoch   gpu_mem       box       obj       cls     total    labels  img_size
    27/399     4.77G   0.04466  0.009453         0   0.05411        33       640
               Class      Images      Labels           P           R      mAP@.5
                 all         213        1183       0.777       0.706       0.729       0.343

     Epoch   gpu_mem       box       obj       cls     total    labels  img_size
    28/399     4.77G   0.04478  0.009148         0   0.05393        32       640
               Class      Images      Labels           P           R      mAP@.5
                 all         213        1183       0.753       0.735       0.749       0.355

     Epoch   gpu_mem       box       obj       cls     total    labels  img_size
    29/399     4.77G    0.0441  0.008769         0   0.05287        28       640
               Class      Images      Labels           P           R      mAP@.5
                 all         213        1183       0.758       0.772       0.771        0.38

     Epoch   gpu_mem       box       obj       cls     total    labels  img_size
    30/399     4.77G    0.0435  0.008852         0   0.05235         2       640
               Class      Images      Labels           P           R      mAP@.5
                 all         213        1183       0.818       0.726        0.78       0.386

     Epoch   gpu_mem       box       obj       cls     total    labels  img_size
    31/399     4.77G   0.04487  0.009812         0   0.05468        18       640
               Class      Images      Labels           P           R      mAP@.5
                 all         213        1183        0.81       0.694       0.764       0.372

     Epoch   gpu_mem       box       obj       cls     total    labels  img_size
    32/399     4.77G   0.04484  0.009033         0   0.05387        29       640
               Class      Images      Labels           P           R      mAP@.5
                 all         213        1183       0.755       0.698       0.743       0.347

     Epoch   gpu_mem       box       obj       cls     total    labels  img_size
    33/399     4.77G   0.04449  0.007769         0   0.05226        16       640
               Class      Images      Labels           P           R      mAP@.5
                 all         213        1183       0.765       0.744       0.779       0.404

     Epoch   gpu_mem       box       obj       cls     total    labels  img_size
    34/399     4.77G   0.04457   0.00928         0   0.05385        29       640
               Class      Images      Labels           P           R      mAP@.5
                 all         213        1183       0.767       0.735       0.758       0.359

     Epoch   gpu_mem       box       obj       cls     total    labels  img_size
    35/399     4.77G   0.04608  0.008497         0   0.05458        14       640
               Class      Images      Labels           P           R      mAP@.5
                 all         213        1183       0.826        0.71       0.779       0.355

     Epoch   gpu_mem       box       obj       cls     total    labels  img_size
    36/399     4.77G   0.04686  0.008542         0    0.0554        17       640
               Class      Images      Labels           P           R      mAP@.5
                 all         213        1183       0.771       0.752        0.78       0.393

     Epoch   gpu_mem       box       obj       cls     total    labels  img_size
    37/399     4.77G    0.0451  0.009621         0   0.05472         2       640
               Class      Images      Labels           P           R      mAP@.5
                 all         213        1183       0.776       0.748       0.761       0.373

     Epoch   gpu_mem       box       obj       cls     total    labels  img_size
    38/399     4.77G   0.04237  0.008884         0   0.05126         1       640
               Class      Images      Labels           P           R      mAP@.5
                 all         213        1183       0.806       0.737       0.788       0.389

     Epoch   gpu_mem       box       obj       cls     total    labels  img_size
    39/399     4.77G   0.04342  0.009013         0   0.05244         4       640
               Class      Images      Labels           P           R      mAP@.5
                 all         213        1183        0.81       0.759       0.806       0.416

     Epoch   gpu_mem       box       obj       cls     total    labels  img_size
    40/399     4.77G   0.04528   0.00902         0    0.0543        53       640
               Class      Images      Labels           P           R      mAP@.5
                 all         213        1183       0.855       0.675       0.775       0.397

     Epoch   gpu_mem       box       obj       cls     total    labels  img_size
    41/399     4.77G   0.04515  0.008958         0   0.05411        19       640
               Class      Images      Labels           P           R      mAP@.5
                 all         213        1183       0.833       0.749       0.813       0.412

     Epoch   gpu_mem       box       obj       cls     total    labels  img_size
    42/399     4.77G   0.04299  0.008936         0   0.05192        13       640
               Class      Images      Labels           P           R      mAP@.5
                 all         213        1183        0.77       0.769       0.782       0.396

     Epoch   gpu_mem       box       obj       cls     total    labels  img_size
    43/399     4.77G   0.04451  0.008974         0   0.05349        76       640
               Class      Images      Labels           P           R      mAP@.5
                 all         213        1183       0.803       0.726       0.788       0.402

     Epoch   gpu_mem       box       obj       cls     total    labels  img_size
    44/399     4.77G   0.04281  0.009474         0   0.05228        30       640
               Class      Images      Labels           P           R      mAP@.5
                 all         213        1183       0.767       0.772       0.786       0.405

     Epoch   gpu_mem       box       obj       cls     total    labels  img_size
    45/399     4.77G   0.04516  0.009023         0   0.05418        44       640
               Class      Images      Labels           P           R      mAP@.5
                 all         213        1183       0.774        0.78       0.788       0.414

     Epoch   gpu_mem       box       obj       cls     total    labels  img_size
    46/399     4.77G   0.04422  0.008494         0   0.05271        60       640
               Class      Images      Labels           P           R      mAP@.5
                 all         213        1183       0.824       0.751       0.813       0.424

     Epoch   gpu_mem       box       obj       cls     total    labels  img_size
    47/399     4.77G   0.04164  0.009238         0   0.05088         3       640
               Class      Images      Labels           P           R      mAP@.5
                 all         213        1183       0.775        0.81       0.822       0.427

     Epoch   gpu_mem       box       obj       cls     total    labels  img_size
    48/399     4.77G    0.0443  0.008754         0   0.05305        13       640
               Class      Images      Labels           P           R      mAP@.5
                 all         213        1183       0.806       0.764       0.828       0.442

     Epoch   gpu_mem       box       obj       cls     total    labels  img_size
    49/399     4.77G    0.0434  0.009049         0   0.05245        33       640
               Class      Images      Labels           P           R      mAP@.5
                 all         213        1183       0.828       0.767        0.83        0.46

     Epoch   gpu_mem       box       obj       cls     total    labels  img_size
    50/399     4.77G   0.04162  0.009018         0   0.05064        35       640
               Class      Images      Labels           P           R      mAP@.5
                 all         213        1183       0.831       0.761       0.829       0.438

     Epoch   gpu_mem       box       obj       cls     total    labels  img_size
    51/399     4.77G   0.04198  0.008381         0   0.05036        32       640
               Class      Images      Labels           P           R      mAP@.5
                 all         213        1183       0.845       0.753       0.824       0.453

     Epoch   gpu_mem       box       obj       cls     total    labels  img_size
    52/399     4.77G   0.04734  0.008608         0   0.05595        66       640
               Class      Images      Labels           P           R      mAP@.5
                 all         213        1183       0.787        0.78        0.81       0.433

     Epoch   gpu_mem       box       obj       cls     total    labels  img_size
    53/399     4.77G   0.04375  0.008953         0    0.0527         4       640
               Class      Images      Labels           P           R      mAP@.5
                 all         213        1183       0.802       0.762       0.813       0.419

     Epoch   gpu_mem       box       obj       cls     total    labels  img_size
    54/399     4.77G   0.04541  0.009699         0   0.05511        25       640
               Class      Images      Labels           P           R      mAP@.5
                 all         213        1183       0.781       0.795       0.809       0.429

     Epoch   gpu_mem       box       obj       cls     total    labels  img_size
    55/399     4.77G   0.04039  0.009082         0   0.04948        41       640
               Class      Images      Labels           P           R      mAP@.5
                 all         213        1183       0.812       0.764        0.81       0.431

     Epoch   gpu_mem       box       obj       cls     total    labels  img_size
    56/399     4.77G   0.04188  0.009414         0    0.0513        66       640
               Class      Images      Labels           P           R      mAP@.5
                 all         213        1183       0.827       0.756       0.811       0.432

     Epoch   gpu_mem       box       obj       cls     total    labels  img_size
    57/399     4.77G    0.0424  0.008532         0   0.05093         4       640
               Class      Images      Labels           P           R      mAP@.5
                 all         213        1183       0.847       0.764       0.837       0.461

     Epoch   gpu_mem       box       obj       cls     total    labels  img_size
    58/399     4.77G   0.04013  0.008077         0   0.04821         7       640
               Class      Images      Labels           P           R      mAP@.5
                 all         213        1183       0.796       0.784       0.819       0.454

     Epoch   gpu_mem       box       obj       cls     total    labels  img_size
    59/399     4.77G   0.03981  0.008654         0   0.04847        64       640
               Class      Images      Labels           P           R      mAP@.5
                 all         213        1183       0.788       0.757       0.806       0.437

     Epoch   gpu_mem       box       obj       cls     total    labels  img_size
    60/399     4.77G   0.04153  0.008741         0   0.05027        32       640
               Class      Images      Labels           P           R      mAP@.5
                 all         213        1183       0.764       0.808       0.807       0.421

     Epoch   gpu_mem       box       obj       cls     total    labels  img_size
    61/399     4.77G    0.0424  0.008723         0   0.05112        46       640
               Class      Images      Labels           P           R      mAP@.5
                 all         213        1183        0.85       0.757       0.813       0.435

     Epoch   gpu_mem       box       obj       cls     total    labels  img_size
    62/399     4.77G   0.04191   0.00842         0   0.05033        29       640
               Class      Images      Labels           P           R      mAP@.5
                 all         213        1183       0.822       0.784       0.826       0.456

     Epoch   gpu_mem       box       obj       cls     total    labels  img_size
    63/399     4.77G   0.03978  0.008881         0   0.04866        32       640
               Class      Images      Labels           P           R      mAP@.5
                 all         213        1183       0.853       0.779       0.832       0.451

     Epoch   gpu_mem       box       obj       cls     total    labels  img_size
    64/399     4.77G   0.04151  0.008157         0   0.04967         8       640
               Class      Images      Labels           P           R      mAP@.5
                 all         213        1183       0.823        0.79       0.828       0.438

     Epoch   gpu_mem       box       obj       cls     total    labels  img_size
    65/399     4.77G   0.04133  0.008083         0   0.04941        30       640
               Class      Images      Labels           P           R      mAP@.5
                 all         213        1183       0.786       0.802       0.813       0.435

     Epoch   gpu_mem       box       obj       cls     total    labels  img_size
    66/399     4.77G   0.04351  0.008652         0   0.05216         4       640
               Class      Images      Labels           P           R      mAP@.5
                 all         213        1183       0.851       0.779        0.84       0.446

     Epoch   gpu_mem       box       obj       cls     total    labels  img_size
    67/399     4.77G   0.04277   0.00889         0   0.05166        55       640
               Class      Images      Labels           P           R      mAP@.5
                 all         213        1183       0.807       0.774       0.826       0.442

     Epoch   gpu_mem       box       obj       cls     total    labels  img_size
    68/399     4.77G   0.03973  0.008297         0   0.04803        32       640
               Class      Images      Labels           P           R      mAP@.5
                 all         213        1183       0.839       0.792       0.831       0.458

     Epoch   gpu_mem       box       obj       cls     total    labels  img_size
    69/399     4.77G    0.0417  0.008761         0   0.05046        25       640
               Class      Images      Labels           P           R      mAP@.5
                 all         213        1183       0.834       0.792       0.841       0.473

     Epoch   gpu_mem       box       obj       cls     total    labels  img_size
    70/399     4.77G   0.04139  0.008753         0   0.05014         1       640
               Class      Images      Labels           P           R      mAP@.5
                 all         213        1183       0.827       0.801       0.841       0.473

     Epoch   gpu_mem       box       obj       cls     total    labels  img_size
    71/399     4.77G    0.0395  0.008276         0   0.04778         8       640
               Class      Images      Labels           P           R      mAP@.5
                 all         213        1183       0.845       0.803       0.852       0.464

     Epoch   gpu_mem       box       obj       cls     total    labels  img_size
    72/399     4.77G   0.04085  0.008393         0   0.04924         3       640
               Class      Images      Labels           P           R      mAP@.5
                 all         213        1183       0.864       0.777       0.859       0.487

     Epoch   gpu_mem       box       obj       cls     total    labels  img_size
    73/399     4.77G   0.04028  0.008641         0   0.04892         7       640
               Class      Images      Labels           P           R      mAP@.5
                 all         213        1183       0.888       0.785       0.865       0.498

     Epoch   gpu_mem       box       obj       cls     total    labels  img_size
    74/399     4.77G   0.03927  0.008049         0   0.04732        15       640
               Class      Images      Labels           P           R      mAP@.5
                 all         213        1183       0.856       0.804       0.865        0.48

     Epoch   gpu_mem       box       obj       cls     total    labels  img_size
    75/399     4.77G   0.03963  0.008659         0   0.04829        10       640
               Class      Images      Labels           P           R      mAP@.5
                 all         213        1183       0.808       0.832       0.857       0.475

     Epoch   gpu_mem       box       obj       cls     total    labels  img_size
    76/399     4.77G   0.04149  0.007637         0   0.04913        22       640
               Class      Images      Labels           P           R      mAP@.5
                 all         213        1183       0.836       0.791       0.841       0.461

     Epoch   gpu_mem       box       obj       cls     total    labels  img_size
    77/399     4.77G   0.03899  0.007866         0   0.04685         1       640
               Class      Images      Labels           P           R      mAP@.5
                 all         213        1183       0.825       0.811       0.853       0.488

     Epoch   gpu_mem       box       obj       cls     total    labels  img_size
    78/399     4.77G   0.03973  0.008368         0    0.0481        35       640
               Class      Images      Labels           P           R      mAP@.5
                 all         213        1183       0.882       0.788       0.856       0.469

     Epoch   gpu_mem       box       obj       cls     total    labels  img_size
    79/399     4.77G   0.03729  0.008046         0   0.04533         8       640
               Class      Images      Labels           P           R      mAP@.5
                 all         213        1183       0.884        0.79       0.852       0.494

     Epoch   gpu_mem       box       obj       cls     total    labels  img_size
    80/399     4.77G   0.03965  0.008872         0   0.04852         7       640
               Class      Images      Labels           P           R      mAP@.5
                 all         213        1183       0.849       0.836       0.864       0.499

     Epoch   gpu_mem       box       obj       cls     total    labels  img_size
    81/399     4.77G   0.03746  0.008637         0    0.0461        23       640
               Class      Images      Labels           P           R      mAP@.5
                 all         213        1183       0.877         0.8       0.869       0.502

     Epoch   gpu_mem       box       obj       cls     total    labels  img_size
    82/399     4.77G   0.03835  0.008003         0   0.04635        26       640
               Class      Images      Labels           P           R      mAP@.5
                 all         213        1183       0.879       0.808       0.872        0.49

     Epoch   gpu_mem       box       obj       cls     total    labels  img_size
    83/399     4.77G   0.03908  0.008049         0   0.04713         5       640
               Class      Images      Labels           P           R      mAP@.5
                 all         213        1183       0.873       0.806       0.864       0.472

     Epoch   gpu_mem       box       obj       cls     total    labels  img_size
    84/399     4.77G   0.03765  0.008203         0   0.04585         6       640
               Class      Images      Labels           P           R      mAP@.5
                 all         213        1183       0.852       0.839       0.877         0.5

     Epoch   gpu_mem       box       obj       cls     total    labels  img_size
    85/399     4.77G   0.03941  0.008752         0   0.04816        26       640
               Class      Images      Labels           P           R      mAP@.5
                 all         213        1183       0.873       0.828       0.874       0.518

     Epoch   gpu_mem       box       obj       cls     total    labels  img_size
    86/399     4.77G   0.03757  0.008721         0   0.04629        47       640
               Class      Images      Labels           P           R      mAP@.5
                 all         213        1183       0.841       0.854        0.87       0.501

     Epoch   gpu_mem       box       obj       cls     total    labels  img_size
    87/399     4.77G   0.03707  0.008305         0   0.04537         7       640
               Class      Images      Labels           P           R      mAP@.5
                 all         213        1183       0.852        0.83       0.866       0.507

     Epoch   gpu_mem       box       obj       cls     total    labels  img_size
    88/399     4.77G   0.03513  0.007739         0   0.04287        37       640
               Class      Images      Labels           P           R      mAP@.5
                 all         213        1183       0.863       0.824       0.867       0.513

     Epoch   gpu_mem       box       obj       cls     total    labels  img_size
    89/399     4.77G   0.03877  0.008248         0   0.04702        59       640
               Class      Images      Labels           P           R      mAP@.5
                 all         213        1183       0.859       0.835       0.867       0.507

     Epoch   gpu_mem       box       obj       cls     total    labels  img_size
    90/399     4.77G     0.038   0.00754         0   0.04554        25       640
               Class      Images      Labels           P           R      mAP@.5
                 all         213        1183       0.834       0.843        0.87       0.497

     Epoch   gpu_mem       box       obj       cls     total    labels  img_size
    91/399     4.77G   0.03679  0.007649         0   0.04444        70       640
               Class      Images      Labels           P           R      mAP@.5
                 all         213        1183       0.879       0.818       0.875       0.505

     Epoch   gpu_mem       box       obj       cls     total    labels  img_size
    92/399     4.77G   0.03808  0.008327         0   0.04641        59       640
               Class      Images      Labels           P           R      mAP@.5
                 all         213        1183       0.855       0.845       0.874       0.494

     Epoch   gpu_mem       box       obj       cls     total    labels  img_size
    93/399     4.77G   0.03738  0.008584         0   0.04596        25       640
               Class      Images      Labels           P           R      mAP@.5
                 all         213        1183       0.886        0.82       0.875       0.507

     Epoch   gpu_mem       box       obj       cls     total    labels  img_size
    94/399     4.77G   0.03645  0.008022         0   0.04447        24       640
               Class      Images      Labels           P           R      mAP@.5
                 all         213        1183       0.861       0.846       0.872       0.515

     Epoch   gpu_mem       box       obj       cls     total    labels  img_size
    95/399     4.77G   0.03608  0.008376         0   0.04445        39       640
               Class      Images      Labels           P           R      mAP@.5
                 all         213        1183       0.864        0.83       0.871       0.517

     Epoch   gpu_mem       box       obj       cls     total    labels  img_size
    96/399     4.77G   0.03629  0.008431         0   0.04472        62       640
               Class      Images      Labels           P           R      mAP@.5
                 all         213        1183       0.874       0.838       0.875       0.512

     Epoch   gpu_mem       box       obj       cls     total    labels  img_size
    97/399     4.77G   0.03734  0.007991         0   0.04533        39       640
               Class      Images      Labels           P           R      mAP@.5
                 all         213        1183        0.86       0.858       0.884       0.526

     Epoch   gpu_mem       box       obj       cls     total    labels  img_size
    98/399     4.77G   0.03703   0.00738         0   0.04441        16       640
               Class      Images      Labels           P           R      mAP@.5
                 all         213        1183       0.859       0.826        0.87       0.497

     Epoch   gpu_mem       box       obj       cls     total    labels  img_size
    99/399     4.77G   0.03598  0.007393         0   0.04337        49       640
               Class      Images      Labels           P           R      mAP@.5
                 all         213        1183       0.878       0.818       0.871       0.501

     Epoch   gpu_mem       box       obj       cls     total    labels  img_size
   100/399     4.77G   0.03779  0.007173         0   0.04497         7       640
               Class      Images      Labels           P           R      mAP@.5
                 all         213        1183       0.851       0.824       0.876       0.498

     Epoch   gpu_mem       box       obj       cls     total    labels  img_size
   101/399     4.77G   0.03698  0.007619         0    0.0446        40       640
               Class      Images      Labels           P           R      mAP@.5
                 all         213        1183       0.868       0.837       0.868        0.51

     Epoch   gpu_mem       box       obj       cls     total    labels  img_size
   102/399     4.77G   0.03526  0.007819         0   0.04308         2       640
               Class      Images      Labels           P           R      mAP@.5
                 all         213        1183        0.86       0.838       0.879       0.514

     Epoch   gpu_mem       box       obj       cls     total    labels  img_size
   103/399     4.77G   0.03698  0.008242         0   0.04523         2       640
               Class      Images      Labels           P           R      mAP@.5
                 all         213        1183        0.89       0.817        0.88       0.526

     Epoch   gpu_mem       box       obj       cls     total    labels  img_size
   104/399     4.77G   0.03472  0.008084         0    0.0428        54       640
               Class      Images      Labels           P           R      mAP@.5
                 all         213        1183       0.842       0.843       0.879       0.521

     Epoch   gpu_mem       box       obj       cls     total    labels  img_size
   105/399     4.77G    0.0367  0.007911         0   0.04461         4       640
               Class      Images      Labels           P           R      mAP@.5
                 all         213        1183       0.916       0.797       0.882       0.516

     Epoch   gpu_mem       box       obj       cls     total    labels  img_size
   106/399     4.77G   0.03729  0.007494         0   0.04478         1       640
               Class      Images      Labels           P           R      mAP@.5
                 all         213        1183       0.845       0.861       0.885        0.52

     Epoch   gpu_mem       box       obj       cls     total    labels  img_size
   107/399     4.77G   0.03552  0.007621         0   0.04314        25       640
               Class      Images      Labels           P           R      mAP@.5
                 all         213        1183       0.861       0.852       0.884       0.529

     Epoch   gpu_mem       box       obj       cls     total    labels  img_size
   108/399     4.77G   0.03477  0.007829         0    0.0426        24       640
               Class      Images      Labels           P           R      mAP@.5
                 all         213        1183       0.894       0.803       0.877       0.495

     Epoch   gpu_mem       box       obj       cls     total    labels  img_size
   109/399     4.77G   0.03576  0.007876         0   0.04364         9       640
               Class      Images      Labels           P           R      mAP@.5
                 all         213        1183       0.859       0.852        0.89       0.522

     Epoch   gpu_mem       box       obj       cls     total    labels  img_size
   110/399     4.77G   0.03465  0.008343         0     0.043        27       640
               Class      Images      Labels           P           R      mAP@.5
                 all         213        1183       0.881       0.819       0.891        0.53

     Epoch   gpu_mem       box       obj       cls     total    labels  img_size
   111/399     4.77G   0.03557  0.007866         0   0.04343         1       640
               Class      Images      Labels           P           R      mAP@.5
                 all         213        1183       0.847       0.838       0.877       0.536

     Epoch   gpu_mem       box       obj       cls     total    labels  img_size
   112/399     4.77G   0.03588  0.007891         0   0.04377        65       640
               Class      Images      Labels           P           R      mAP@.5
                 all         213        1183       0.846       0.858       0.884        0.52

     Epoch   gpu_mem       box       obj       cls     total    labels  img_size
   113/399     4.77G   0.03448   0.00779         0   0.04227        17       640
               Class      Images      Labels           P           R      mAP@.5
                 all         213        1183       0.821       0.862       0.869       0.516

     Epoch   gpu_mem       box       obj       cls     total    labels  img_size
   114/399     4.77G   0.03626  0.008398         0   0.04466        11       640
               Class      Images      Labels           P           R      mAP@.5
                 all         213        1183       0.836       0.851       0.877       0.515

     Epoch   gpu_mem       box       obj       cls     total    labels  img_size
   115/399     4.77G   0.03717  0.008759         0   0.04593        15       640
               Class      Images      Labels           P           R      mAP@.5
                 all         213        1183         0.9       0.771       0.872       0.511

     Epoch   gpu_mem       box       obj       cls     total    labels  img_size
   116/399     4.77G   0.03462  0.007616         0   0.04224        47       640
               Class      Images      Labels           P           R      mAP@.5
                 all         213        1183       0.874       0.804       0.881        0.54

     Epoch   gpu_mem       box       obj       cls     total    labels  img_size
   117/399     4.77G   0.03755  0.008963         0   0.04651        37       640
               Class      Images      Labels           P           R      mAP@.5
                 all         213        1183       0.738        0.73       0.738       0.396

     Epoch   gpu_mem       box       obj       cls     total    labels  img_size
   118/399     4.77G   0.04246   0.01017         0   0.05264        48       640
               Class      Images      Labels           P           R      mAP@.5
                 all         213        1183       0.767       0.714       0.762       0.392

     Epoch   gpu_mem       box       obj       cls     total    labels  img_size
   119/399     4.77G   0.04134  0.008837         0   0.05018        40       640
               Class      Images      Labels           P           R      mAP@.5
                 all         213        1183       0.808        0.79       0.821        0.43

     Epoch   gpu_mem       box       obj       cls     total    labels  img_size
   120/399     4.77G   0.04195  0.008769         0   0.05072        60       640
               Class      Images      Labels           P           R      mAP@.5
                 all         213        1183       0.847       0.789       0.838       0.473

     Epoch   gpu_mem       box       obj       cls     total    labels  img_size
   121/399     4.77G    0.0376   0.00804         0   0.04564        26       640
               Class      Images      Labels           P           R      mAP@.5
                 all         213        1183        0.85       0.816       0.852       0.493

     Epoch   gpu_mem       box       obj       cls     total    labels  img_size
   122/399     4.77G    0.0378  0.008025         0   0.04583        11       640
               Class      Images      Labels           P           R      mAP@.5
                 all         213        1183       0.847       0.818       0.858       0.495

     Epoch   gpu_mem       box       obj       cls     total    labels  img_size
   123/399     4.77G   0.03742  0.008912         0   0.04633        21       640
               Class      Images      Labels           P           R      mAP@.5
                 all         213        1183       0.849        0.84       0.865       0.502

     Epoch   gpu_mem       box       obj       cls     total    labels  img_size
   124/399     4.77G    0.0386  0.007968         0   0.04657         5       640
               Class      Images      Labels           P           R      mAP@.5
                 all         213        1183       0.873       0.815       0.873       0.508

     Epoch   gpu_mem       box       obj       cls     total    labels  img_size
   125/399     4.77G   0.03754  0.007811         0   0.04535         5       640
               Class      Images      Labels           P           R      mAP@.5
                 all         213        1183       0.844       0.838       0.872       0.494

     Epoch   gpu_mem       box       obj       cls     total    labels  img_size
   126/399     4.77G   0.03555  0.008549         0    0.0441        35       640
               Class      Images      Labels           P           R      mAP@.5
                 all         213        1183       0.849       0.833       0.881       0.517

     Epoch   gpu_mem       box       obj       cls     total    labels  img_size
   127/399     4.77G    0.0361  0.008108         0   0.04421        15       640
               Class      Images      Labels           P           R      mAP@.5
                 all         213        1183       0.893       0.811       0.887       0.524

     Epoch   gpu_mem       box       obj       cls     total    labels  img_size
   128/399     4.77G    0.0367  0.007598         0    0.0443         1       640
               Class      Images      Labels           P           R      mAP@.5
                 all         213        1183       0.899       0.798       0.885       0.516

     Epoch   gpu_mem       box       obj       cls     total    labels  img_size
   129/399     4.77G   0.03602  0.008423         0   0.04445        38       640
               Class      Images      Labels           P           R      mAP@.5
                 all         213        1183       0.852       0.854       0.887       0.523

     Epoch   gpu_mem       box       obj       cls     total    labels  img_size
   130/399     4.77G    0.0352  0.007741         0   0.04295        35       640
               Class      Images      Labels           P           R      mAP@.5
                 all         213        1183       0.847       0.855       0.886       0.531

     Epoch   gpu_mem       box       obj       cls     total    labels  img_size
   131/399     4.77G   0.03389  0.007808         0    0.0417        33       640
               Class      Images      Labels           P           R      mAP@.5
                 all         213        1183       0.886       0.846       0.887        0.53

     Epoch   gpu_mem       box       obj       cls     total    labels  img_size
   132/399     4.77G    0.0339  0.008339         0   0.04224        64       640
               Class      Images      Labels           P           R      mAP@.5
                 all         213        1183       0.898       0.838       0.894       0.529

     Epoch   gpu_mem       box       obj       cls     total    labels  img_size
   133/399     4.77G   0.03694  0.008121         0   0.04506        63       640
               Class      Images      Labels           P           R      mAP@.5
                 all         213        1183       0.873       0.851       0.889       0.523

     Epoch   gpu_mem       box       obj       cls     total    labels  img_size
   134/399     4.77G    0.0363   0.00815         0   0.04445        11       640
               Class      Images      Labels           P           R      mAP@.5
                 all         213        1183       0.878       0.859       0.894       0.538

     Epoch   gpu_mem       box       obj       cls     total    labels  img_size
   135/399     4.77G   0.03454  0.007786         0   0.04232         1       640
               Class      Images      Labels           P           R      mAP@.5
                 all         213        1183       0.899       0.833       0.892       0.546

     Epoch   gpu_mem       box       obj       cls     total    labels  img_size
   136/399     4.77G   0.03364   0.00753         0   0.04117         3       640
               Class      Images      Labels           P           R      mAP@.5
                 all         213        1183       0.865       0.851       0.894       0.546

     Epoch   gpu_mem       box       obj       cls     total    labels  img_size
   137/399     4.77G   0.03559  0.007531         0   0.04312        24       640
               Class      Images      Labels           P           R      mAP@.5
                 all         213        1183       0.868       0.862       0.893       0.539

     Epoch   gpu_mem       box       obj       cls     total    labels  img_size
   138/399     4.77G   0.03739  0.008101         0   0.04549        58       640
               Class      Images      Labels           P           R      mAP@.5
                 all         213        1183       0.891       0.826        0.89       0.527

     Epoch   gpu_mem       box       obj       cls     total    labels  img_size
   139/399     4.77G   0.03473  0.007805         0   0.04254        32       640
               Class      Images      Labels           P           R      mAP@.5
                 all         213        1183       0.881       0.844       0.894       0.539

     Epoch   gpu_mem       box       obj       cls     total    labels  img_size
   140/399     4.77G   0.03522  0.008013         0   0.04324        49       640
               Class      Images      Labels           P           R      mAP@.5
                 all         213        1183       0.873       0.849       0.896       0.538

     Epoch   gpu_mem       box       obj       cls     total    labels  img_size
   141/399     4.77G   0.03367  0.007549         0   0.04122        17       640
               Class      Images      Labels           P           R      mAP@.5
                 all         213        1183       0.874       0.854       0.895       0.548

     Epoch   gpu_mem       box       obj       cls     total    labels  img_size
   142/399     4.77G   0.03307  0.007728         0    0.0408        47       640
               Class      Images      Labels           P           R      mAP@.5
                 all         213        1183       0.896       0.858       0.899       0.556

     Epoch   gpu_mem       box       obj       cls     total    labels  img_size
   143/399     4.77G    0.0348  0.008037         0   0.04284        47       640
               Class      Images      Labels           P           R      mAP@.5
                 all         213        1183       0.895        0.84       0.895       0.551

     Epoch   gpu_mem       box       obj       cls     total    labels  img_size
   144/399     4.77G   0.03524  0.007969         0   0.04321        63       640
               Class      Images      Labels           P           R      mAP@.5
                 all         213        1183       0.889       0.857       0.899       0.553

     Epoch   gpu_mem       box       obj       cls     total    labels  img_size
   145/399     4.77G   0.03259  0.007534         0   0.04013         4       640
               Class      Images      Labels           P           R      mAP@.5
                 all         213        1183       0.879       0.866       0.901       0.552

     Epoch   gpu_mem       box       obj       cls     total    labels  img_size
   146/399     4.77G   0.03319  0.007077         0   0.04027         7       640
               Class      Images      Labels           P           R      mAP@.5
                 all         213        1183       0.875       0.856       0.897       0.554

     Epoch   gpu_mem       box       obj       cls     total    labels  img_size
   147/399     4.77G   0.03293  0.007806         0   0.04074        46       640
               Class      Images      Labels           P           R      mAP@.5
                 all         213        1183       0.872       0.868         0.9       0.557

     Epoch   gpu_mem       box       obj       cls     total    labels  img_size
   148/399     4.77G   0.03399  0.008256         0   0.04225        25       640
               Class      Images      Labels           P           R      mAP@.5
                 all         213        1183       0.888       0.849       0.898       0.563

     Epoch   gpu_mem       box       obj       cls     total    labels  img_size
   149/399     4.77G   0.03311  0.007312         0   0.04042        43       640
               Class      Images      Labels           P           R      mAP@.5
                 all         213        1183       0.871        0.87       0.896       0.549

     Epoch   gpu_mem       box       obj       cls     total    labels  img_size
   150/399     4.77G   0.03338  0.008294         0   0.04167        17       640
               Class      Images      Labels           P           R      mAP@.5
                 all         213        1183       0.867       0.871       0.895       0.563

     Epoch   gpu_mem       box       obj       cls     total    labels  img_size
   151/399     4.77G   0.03419  0.007398         0   0.04159        21       640
               Class      Images      Labels           P           R      mAP@.5
                 all         213        1183       0.895       0.837       0.897       0.555

     Epoch   gpu_mem       box       obj       cls     total    labels  img_size
   152/399     4.77G   0.03353  0.007768         0   0.04129        24       640
               Class      Images      Labels           P           R      mAP@.5
                 all         213        1183       0.919       0.844       0.905        0.57

     Epoch   gpu_mem       box       obj       cls     total    labels  img_size
   153/399     4.77G   0.03365   0.00795         0    0.0416        12       640
               Class      Images      Labels           P           R      mAP@.5
                 all         213        1183       0.875       0.884       0.903       0.561

     Epoch   gpu_mem       box       obj       cls     total    labels  img_size
   154/399     4.77G   0.03297  0.007317         0   0.04029        12       640
               Class      Images      Labels           P           R      mAP@.5
                 all         213        1183       0.898       0.869       0.905       0.573

     Epoch   gpu_mem       box       obj       cls     total    labels  img_size
   155/399     4.77G   0.03301  0.007505         0   0.04051        10       640
               Class      Images      Labels           P           R      mAP@.5
                 all         213        1183       0.887       0.872       0.905       0.571

     Epoch   gpu_mem       box       obj       cls     total    labels  img_size
   156/399     4.77G   0.03352  0.007471         0     0.041         3       640
               Class      Images      Labels           P           R      mAP@.5
                 all         213        1183       0.914       0.845       0.903       0.571

     Epoch   gpu_mem       box       obj       cls     total    labels  img_size
   157/399     4.77G   0.03201  0.007256         0   0.03927        11       640
               Class      Images      Labels           P           R      mAP@.5
                 all         213        1183       0.907       0.861       0.899       0.565

     Epoch   gpu_mem       box       obj       cls     total    labels  img_size
   158/399     4.77G   0.03342  0.008053         0   0.04148         6       640
               Class      Images      Labels           P           R      mAP@.5
                 all         213        1183       0.902       0.865       0.905       0.579

     Epoch   gpu_mem       box       obj       cls     total    labels  img_size
   159/399     4.77G   0.03222   0.00763         0   0.03985        42       640
               Class      Images      Labels           P           R      mAP@.5
                 all         213        1183       0.874       0.874       0.908       0.573

     Epoch   gpu_mem       box       obj       cls     total    labels  img_size
   160/399     4.77G   0.03201  0.006356         0   0.03836         5       640
               Class      Images      Labels           P           R      mAP@.5
                 all         213        1183       0.872       0.874       0.901       0.561

     Epoch   gpu_mem       box       obj       cls     total    labels  img_size
   161/399     4.77G   0.03134   0.00799         0   0.03933        55       640
               Class      Images      Labels           P           R      mAP@.5
                 all         213        1183        0.91        0.87       0.913       0.589

     Epoch   gpu_mem       box       obj       cls     total    labels  img_size
   162/399     4.77G   0.03085  0.008236         0   0.03909        70       640
               Class      Images      Labels           P           R      mAP@.5
                 all         213        1183       0.918       0.868       0.913       0.586

     Epoch   gpu_mem       box       obj       cls     total    labels  img_size
   163/399     4.77G   0.03279  0.007725         0   0.04052         1       640
               Class      Images      Labels           P           R      mAP@.5
                 all         213        1183       0.921       0.859        0.91        0.58

     Epoch   gpu_mem       box       obj       cls     total    labels  img_size
   164/399     4.77G   0.03105  0.007179         0   0.03823        51       640
               Class      Images      Labels           P           R      mAP@.5
                 all         213        1183       0.915       0.866       0.907       0.579

     Epoch   gpu_mem       box       obj       cls     total    labels  img_size
   165/399     4.77G   0.03159  0.007183         0   0.03877        52       640
               Class      Images      Labels           P           R      mAP@.5
                 all         213        1183       0.905        0.86       0.902       0.583

     Epoch   gpu_mem       box       obj       cls     total    labels  img_size
   166/399     4.77G   0.03055   0.00759         0   0.03814        35       640
               Class      Images      Labels           P           R      mAP@.5
                 all         213        1183       0.932       0.841       0.906       0.586

     Epoch   gpu_mem       box       obj       cls     total    labels  img_size
   167/399     4.77G   0.03139  0.007752         0   0.03915         7       640
               Class      Images      Labels           P           R      mAP@.5
                 all         213        1183        0.94       0.849       0.907       0.596

     Epoch   gpu_mem       box       obj       cls     total    labels  img_size
   168/399     4.77G   0.03263  0.007771         0    0.0404        25       640
               Class      Images      Labels           P           R      mAP@.5
                 all         213        1183       0.922       0.873       0.912       0.593

     Epoch   gpu_mem       box       obj       cls     total    labels  img_size
   169/399     4.77G   0.03267  0.006966         0   0.03964        47       640
               Class      Images      Labels           P           R      mAP@.5
                 all         213        1183       0.914        0.87       0.912        0.59

     Epoch   gpu_mem       box       obj       cls     total    labels  img_size
   170/399     4.77G   0.03061  0.006486         0    0.0371         5       640
               Class      Images      Labels           P           R      mAP@.5
                 all         213        1183       0.925       0.869       0.914       0.605

     Epoch   gpu_mem       box       obj       cls     total    labels  img_size
   171/399     4.77G   0.03224  0.007422         0   0.03967        13       640
               Class      Images      Labels           P           R      mAP@.5
                 all         213        1183       0.923       0.861       0.915       0.598

     Epoch   gpu_mem       box       obj       cls     total    labels  img_size
   172/399     4.77G   0.03151  0.007445         0   0.03896        25       640
               Class      Images      Labels           P           R      mAP@.5
                 all         213        1183       0.928       0.857       0.914       0.597

     Epoch   gpu_mem       box       obj       cls     total    labels  img_size
   173/399     4.77G   0.03355  0.007952         0    0.0415        16       640
               Class      Images      Labels           P           R      mAP@.5
                 all         213        1183         0.9       0.872       0.912       0.593

     Epoch   gpu_mem       box       obj       cls     total    labels  img_size
   174/399     4.77G    0.0314  0.007509         0   0.03891        47       640
               Class      Images      Labels           P           R      mAP@.5
                 all         213        1183       0.903       0.872       0.911       0.595

     Epoch   gpu_mem       box       obj       cls     total    labels  img_size
   175/399     4.77G   0.03267  0.007589         0   0.04026        45       640
               Class      Images      Labels           P           R      mAP@.5
                 all         213        1183       0.909       0.864       0.911       0.598

     Epoch   gpu_mem       box       obj       cls     total    labels  img_size
   176/399     4.77G   0.03031  0.007011         0   0.03732        33       640
               Class      Images      Labels           P           R      mAP@.5
                 all         213        1183       0.926       0.851        0.91       0.604

     Epoch   gpu_mem       box       obj       cls     total    labels  img_size
   177/399     4.77G     0.031  0.007411         0   0.03841        18       640
               Class      Images      Labels           P           R      mAP@.5
                 all         213        1183       0.906       0.876       0.914       0.608

     Epoch   gpu_mem       box       obj       cls     total    labels  img_size
   178/399     4.77G   0.03057  0.007626         0   0.03819        11       640
               Class      Images      Labels           P           R      mAP@.5
                 all         213        1183       0.904       0.866       0.915       0.608

     Epoch   gpu_mem       box       obj       cls     total    labels  img_size
   179/399     4.77G   0.02979   0.00715         0   0.03694         0       640
               Class      Images      Labels           P           R      mAP@.5
                 all         213        1183        0.92       0.876       0.918       0.617

     Epoch   gpu_mem       box       obj       cls     total    labels  img_size
   180/399     4.77G   0.03148  0.007607         0   0.03908        57       640
               Class      Images      Labels           P           R      mAP@.5
                 all         213        1183       0.921       0.885       0.921       0.617

     Epoch   gpu_mem       box       obj       cls     total    labels  img_size
   181/399     4.77G   0.03081  0.007829         0   0.03864        50       640
               Class      Images      Labels           P           R      mAP@.5
                 all         213        1183       0.903       0.881       0.914       0.614

     Epoch   gpu_mem       box       obj       cls     total    labels  img_size
   182/399     4.77G   0.03024  0.007517         0   0.03776        44       640
               Class      Images      Labels           P           R      mAP@.5
                 all         213        1183       0.918       0.861       0.915       0.614

     Epoch   gpu_mem       box       obj       cls     total    labels  img_size
   183/399     4.77G   0.03068  0.006747         0   0.03743         4       640
               Class      Images      Labels           P           R      mAP@.5
                 all         213        1183       0.907       0.876       0.912       0.608

     Epoch   gpu_mem       box       obj       cls     total    labels  img_size
   184/399     4.77G    0.0315  0.007387         0   0.03889        34       640
               Class      Images      Labels           P           R      mAP@.5
                 all         213        1183       0.924       0.858       0.913       0.597

     Epoch   gpu_mem       box       obj       cls     total    labels  img_size
   185/399     4.77G   0.03094  0.007348         0   0.03828         5       640
               Class      Images      Labels           P           R      mAP@.5
                 all         213        1183       0.886       0.891       0.912       0.607

     Epoch   gpu_mem       box       obj       cls     total    labels  img_size
   186/399     4.77G   0.03176  0.007128         0   0.03889        33       640
               Class      Images      Labels           P           R      mAP@.5
                 all         213        1183       0.918       0.885       0.919       0.614

     Epoch   gpu_mem       box       obj       cls     total    labels  img_size
   187/399     4.77G   0.03296   0.00793         0   0.04089        43       640
               Class      Images      Labels           P           R      mAP@.5
                 all         213        1183       0.913       0.867       0.913       0.606

     Epoch   gpu_mem       box       obj       cls     total    labels  img_size
   188/399     4.77G   0.03223  0.007329         0   0.03956        20       640
               Class      Images      Labels           P           R      mAP@.5
                 all         213        1183       0.899       0.876       0.914         0.6

     Epoch   gpu_mem       box       obj       cls     total    labels  img_size
   189/399     4.77G   0.03355  0.006902         0   0.04045        51       640
               Class      Images      Labels           P           R      mAP@.5
                 all         213        1183       0.913       0.883       0.916         0.6

     Epoch   gpu_mem       box       obj       cls     total    labels  img_size
   190/399     4.77G   0.03107  0.007268         0   0.03833        34       640
               Class      Images      Labels           P           R      mAP@.5
                 all         213        1183       0.904       0.887       0.915       0.599

     Epoch   gpu_mem       box       obj       cls     total    labels  img_size
   191/399     4.77G   0.03114  0.007206         0   0.03834        38       640
               Class      Images      Labels           P           R      mAP@.5
                 all         213        1183       0.902       0.861       0.904       0.592

     Epoch   gpu_mem       box       obj       cls     total    labels  img_size
   192/399     4.77G   0.03118  0.007104         0   0.03828         6       640
               Class      Images      Labels           P           R      mAP@.5
                 all         213        1183       0.907       0.853       0.894       0.571

     Epoch   gpu_mem       box       obj       cls     total    labels  img_size
   193/399     4.77G   0.03134  0.007853         0    0.0392         9       640
               Class      Images      Labels           P           R      mAP@.5
                 all         213        1183       0.881       0.881       0.907       0.591

     Epoch   gpu_mem       box       obj       cls     total    labels  img_size
   194/399     4.77G     0.031  0.007239         0   0.03823        32       640
               Class      Images      Labels           P           R      mAP@.5
                 all         213        1183       0.935       0.843       0.914       0.611

     Epoch   gpu_mem       box       obj       cls     total    labels  img_size
   195/399     4.77G   0.03026  0.006982         0   0.03724         8       640
               Class      Images      Labels           P           R      mAP@.5
                 all         213        1183       0.911       0.873       0.915       0.611

     Epoch   gpu_mem       box       obj       cls     total    labels  img_size
   196/399     4.77G   0.02957  0.007653         0   0.03723        39       640
               Class      Images      Labels           P           R      mAP@.5
                 all         213        1183        0.89       0.897       0.919        0.61

     Epoch   gpu_mem       box       obj       cls     total    labels  img_size
   197/399     4.77G   0.03119   0.00715         0   0.03834        23       640
               Class      Images      Labels           P           R      mAP@.5
                 all         213        1183       0.918        0.86        0.91       0.606

     Epoch   gpu_mem       box       obj       cls     total    labels  img_size
   198/399     4.77G   0.02998  0.006687         0   0.03667         5       640
               Class      Images      Labels           P           R      mAP@.5
                 all         213        1183       0.901       0.886       0.917       0.614

     Epoch   gpu_mem       box       obj       cls     total    labels  img_size
   199/399     4.77G   0.03034  0.007087         0   0.03743         5       640
               Class      Images      Labels           P           R      mAP@.5
                 all         213        1183       0.933       0.865        0.92       0.616

     Epoch   gpu_mem       box       obj       cls     total    labels  img_size
   200/399     4.77G   0.03259  0.007162         0   0.03975        26       640
               Class      Images      Labels           P           R      mAP@.5
                 all         213        1183       0.914       0.875       0.919       0.616

     Epoch   gpu_mem       box       obj       cls     total    labels  img_size
   201/399     4.77G   0.02981   0.00717         0   0.03698        32       640
               Class      Images      Labels           P           R      mAP@.5
                 all         213        1183       0.924       0.878       0.921       0.619

     Epoch   gpu_mem       box       obj       cls     total    labels  img_size
   202/399     4.77G   0.02902  0.007716         0   0.03673         5       640
               Class      Images      Labels           P           R      mAP@.5
                 all         213        1183       0.917       0.873       0.922       0.616

     Epoch   gpu_mem       box       obj       cls     total    labels  img_size
   203/399     4.77G   0.03081  0.007219         0   0.03803         2       640
               Class      Images      Labels           P           R      mAP@.5
                 all         213        1183       0.909       0.873       0.911       0.618

     Epoch   gpu_mem       box       obj       cls     total    labels  img_size
   204/399     4.77G   0.03093  0.007836         0   0.03877         0       640
               Class      Images      Labels           P           R      mAP@.5
                 all         213        1183       0.897       0.886       0.916       0.608

     Epoch   gpu_mem       box       obj       cls     total    labels  img_size
   205/399     4.77G   0.03122  0.007923         0   0.03915        29       640
               Class      Images      Labels           P           R      mAP@.5
                 all         213        1183       0.898       0.889       0.913       0.602

     Epoch   gpu_mem       box       obj       cls     total    labels  img_size
   206/399     4.77G   0.03084  0.007781         0   0.03862        38       640
               Class      Images      Labels           P           R      mAP@.5
                 all         213        1183       0.906       0.891        0.92       0.607

     Epoch   gpu_mem       box       obj       cls     total    labels  img_size
   207/399     4.77G   0.02919  0.007973         0   0.03717        18       640
               Class      Images      Labels           P           R      mAP@.5
                 all         213        1183        0.91       0.893       0.921       0.612

     Epoch   gpu_mem       box       obj       cls     total    labels  img_size
   208/399     4.77G    0.0291  0.007802         0    0.0369         1       640
               Class      Images      Labels           P           R      mAP@.5
                 all         213        1183       0.922       0.878       0.919       0.618

     Epoch   gpu_mem       box       obj       cls     total    labels  img_size
   209/399     4.77G   0.03041  0.006882         0   0.03729        27       640
               Class      Images      Labels           P           R      mAP@.5
                 all         213        1183        0.92       0.878       0.915       0.616

     Epoch   gpu_mem       box       obj       cls     total    labels  img_size
   210/399     4.77G   0.02817  0.007353         0   0.03552        67       640
               Class      Images      Labels           P           R      mAP@.5
                 all         213        1183       0.923       0.868       0.919        0.62

     Epoch   gpu_mem       box       obj       cls     total    labels  img_size
   211/399     4.77G   0.02872  0.007887         0   0.03661        68       640
               Class      Images      Labels           P           R      mAP@.5
                 all         213        1183       0.908       0.889       0.914       0.609

     Epoch   gpu_mem       box       obj       cls     total    labels  img_size
   212/399     4.77G   0.03004  0.007472         0   0.03751        19       640
               Class      Images      Labels           P           R      mAP@.5
                 all         213        1183       0.904       0.865        0.91       0.609

     Epoch   gpu_mem       box       obj       cls     total    labels  img_size
   213/399     4.77G   0.02997  0.007156         0   0.03713        32       640
               Class      Images      Labels           P           R      mAP@.5
                 all         213        1183       0.928       0.866       0.919       0.612

     Epoch   gpu_mem       box       obj       cls     total    labels  img_size
   214/399     4.77G   0.02878  0.007235         0   0.03601        32       640
               Class      Images      Labels           P           R      mAP@.5
                 all         213        1183       0.919       0.878       0.918       0.619

     Epoch   gpu_mem       box       obj       cls     total    labels  img_size
   215/399     4.77G   0.03147  0.007063         0   0.03853        27       640
               Class      Images      Labels           P           R      mAP@.5
                 all         213        1183        0.91       0.888       0.917       0.626

     Epoch   gpu_mem       box       obj       cls     total    labels  img_size
   216/399     4.77G   0.02858  0.007432         0   0.03601        38       640
               Class      Images      Labels           P           R      mAP@.5
                 all         213        1183       0.928       0.874       0.916       0.623

     Epoch   gpu_mem       box       obj       cls     total    labels  img_size
   217/399     4.77G   0.02948  0.007547         0   0.03702        33       640
               Class      Images      Labels           P           R      mAP@.5
                 all         213        1183       0.942       0.852       0.914       0.625

     Epoch   gpu_mem       box       obj       cls     total    labels  img_size
   218/399     4.77G   0.02922  0.007031         0   0.03625         1       640
               Class      Images      Labels           P           R      mAP@.5
                 all         213        1183       0.871       0.813       0.859       0.534

     Epoch   gpu_mem       box       obj       cls     total    labels  img_size
   219/399     4.77G    0.0323  0.008646         0   0.04094        11       640
               Class      Images      Labels           P           R      mAP@.5
                 all         213        1183       0.852       0.846        0.87       0.554

     Epoch   gpu_mem       box       obj       cls     total    labels  img_size
   220/399     4.77G   0.03298  0.007729         0    0.0407        40       640
               Class      Images      Labels           P           R      mAP@.5
                 all         213        1183       0.864       0.846       0.883        0.57

     Epoch   gpu_mem       box       obj       cls     total    labels  img_size
   221/399     4.77G    0.0325  0.008668         0   0.04117        13       640
               Class      Images      Labels           P           R      mAP@.5
                 all         213        1183         0.9       0.852       0.894       0.582

     Epoch   gpu_mem       box       obj       cls     total    labels  img_size
   222/399     4.77G   0.03043  0.007675         0   0.03811         2       640
               Class      Images      Labels           P           R      mAP@.5
                 all         213        1183       0.929       0.832       0.896       0.597

     Epoch   gpu_mem       box       obj       cls     total    labels  img_size
   223/399     4.77G    0.0318  0.008047         0   0.03985        37       640
               Class      Images      Labels           P           R      mAP@.5
                 all         213        1183       0.908       0.866       0.901         0.6

     Epoch   gpu_mem       box       obj       cls     total    labels  img_size
   224/399     4.77G   0.03267  0.007558         0   0.04023         6       640
               Class      Images      Labels           P           R      mAP@.5
                 all         213        1183       0.912       0.853       0.906       0.609

     Epoch   gpu_mem       box       obj       cls     total    labels  img_size
   225/399     4.77G   0.02952  0.007406         0   0.03692        12       640
               Class      Images      Labels           P           R      mAP@.5
                 all         213        1183       0.917       0.839       0.902       0.604

     Epoch   gpu_mem       box       obj       cls     total    labels  img_size
   226/399     4.77G   0.02934  0.007649         0   0.03699         0       640
               Class      Images      Labels           P           R      mAP@.5
                 all         213        1183       0.945       0.832       0.901       0.606

     Epoch   gpu_mem       box       obj       cls     total    labels  img_size
   227/399     4.77G   0.03134  0.007237         0   0.03858        17       640
               Class      Images      Labels           P           R      mAP@.5
                 all         213        1183       0.916       0.855       0.904       0.612

     Epoch   gpu_mem       box       obj       cls     total    labels  img_size
   228/399     4.77G   0.03092  0.007613         0   0.03854        57       640
               Class      Images      Labels           P           R      mAP@.5
                 all         213        1183        0.92       0.834       0.895       0.609

     Epoch   gpu_mem       box       obj       cls     total    labels  img_size
   229/399     4.77G   0.03034  0.007494         0   0.03783        33       640
               Class      Images      Labels           P           R      mAP@.5
                 all         213        1183       0.919       0.849       0.903       0.612

     Epoch   gpu_mem       box       obj       cls     total    labels  img_size
   230/399     4.77G    0.0301  0.007604         0    0.0377        32       640
               Class      Images      Labels           P           R      mAP@.5
                 all         213        1183        0.92       0.856       0.909       0.619

     Epoch   gpu_mem       box       obj       cls     total    labels  img_size
   231/399     4.77G   0.02952  0.007627         0   0.03715        24       640
               Class      Images      Labels           P           R      mAP@.5
                 all         213        1183       0.903       0.874       0.909       0.622

     Epoch   gpu_mem       box       obj       cls     total    labels  img_size
   232/399     4.77G    0.0301  0.007512         0   0.03762        37       640
               Class      Images      Labels           P           R      mAP@.5
                 all         213        1183       0.942       0.844       0.912       0.629

     Epoch   gpu_mem       box       obj       cls     total    labels  img_size
   233/399     4.77G   0.02992  0.007228         0   0.03715        24       640
               Class      Images      Labels           P           R      mAP@.5
                 all         213        1183       0.928       0.868       0.919       0.629

     Epoch   gpu_mem       box       obj       cls     total    labels  img_size
   234/399     4.77G   0.02969    0.0082         0   0.03789         1       640
               Class      Images      Labels           P           R      mAP@.5
                 all         213        1183       0.937       0.863       0.916       0.625

     Epoch   gpu_mem       box       obj       cls     total    labels  img_size
   235/399     4.77G   0.03113  0.008125         0   0.03925        44       640
               Class      Images      Labels           P           R      mAP@.5
                 all         213        1183       0.901       0.889       0.916        0.63

     Epoch   gpu_mem       box       obj       cls     total    labels  img_size
   236/399     4.77G   0.02786  0.006986         0   0.03485         4       640
               Class      Images      Labels           P           R      mAP@.5
                 all         213        1183       0.915       0.893       0.921       0.636

     Epoch   gpu_mem       box       obj       cls     total    labels  img_size
   237/399     4.77G   0.02944  0.007612         0   0.03705        19       640
               Class      Images      Labels           P           R      mAP@.5
                 all         213        1183       0.908       0.889       0.918        0.64

     Epoch   gpu_mem       box       obj       cls     total    labels  img_size
   238/399     4.77G   0.02716  0.007318         0   0.03448        36       640
               Class      Images      Labels           P           R      mAP@.5
                 all         213        1183       0.908       0.889       0.918       0.638

     Epoch   gpu_mem       box       obj       cls     total    labels  img_size
   239/399     4.77G   0.02697  0.006891         0   0.03386        32       640
               Class      Images      Labels           P           R      mAP@.5
                 all         213        1183       0.934       0.873       0.919       0.636

     Epoch   gpu_mem       box       obj       cls     total    labels  img_size
   240/399     4.77G   0.02738  0.007314         0   0.03469        41       640
               Class      Images      Labels           P           R      mAP@.5
                 all         213        1183       0.946       0.864       0.919       0.639

     Epoch   gpu_mem       box       obj       cls     total    labels  img_size
   241/399     4.77G   0.02753  0.007663         0   0.03519        17       640
               Class      Images      Labels           P           R      mAP@.5
                 all         213        1183       0.919       0.882       0.918       0.639

     Epoch   gpu_mem       box       obj       cls     total    labels  img_size
   242/399     4.77G   0.02905   0.00773         0   0.03678         1       640
               Class      Images      Labels           P           R      mAP@.5
                 all         213        1183       0.917       0.883       0.915       0.641

     Epoch   gpu_mem       box       obj       cls     total    labels  img_size
   243/399     4.77G   0.02724  0.007596         0   0.03484        24       640
               Class      Images      Labels           P           R      mAP@.5
                 all         213        1183        0.93       0.882       0.915       0.647

     Epoch   gpu_mem       box       obj       cls     total    labels  img_size
   244/399     4.77G   0.02659  0.006837         0   0.03342        12       640
               Class      Images      Labels           P           R      mAP@.5
                 all         213        1183       0.932        0.89       0.917       0.647

     Epoch   gpu_mem       box       obj       cls     total    labels  img_size
   245/399     4.77G   0.02785  0.007153         0     0.035         1       640
               Class      Images      Labels           P           R      mAP@.5
                 all         213        1183       0.922       0.895       0.918       0.642

     Epoch   gpu_mem       box       obj       cls     total    labels  img_size
   246/399     4.77G   0.02757   0.00718         0   0.03475        52       640
               Class      Images      Labels           P           R      mAP@.5
                 all         213        1183       0.932       0.878       0.916       0.642

     Epoch   gpu_mem       box       obj       cls     total    labels  img_size
   247/399     4.77G    0.0283  0.007345         0   0.03564        20       640
               Class      Images      Labels           P           R      mAP@.5
                 all         213        1183       0.931       0.881       0.918       0.648

     Epoch   gpu_mem       box       obj       cls     total    labels  img_size
   248/399     4.77G   0.02761  0.007303         0   0.03491        34       640
               Class      Images      Labels           P           R      mAP@.5
                 all         213        1183       0.932       0.881       0.919       0.649

     Epoch   gpu_mem       box       obj       cls     total    labels  img_size
   249/399     4.77G   0.02702  0.007137         0   0.03416        23       640
               Class      Images      Labels           P           R      mAP@.5
                 all         213        1183       0.955       0.872        0.92       0.654

     Epoch   gpu_mem       box       obj       cls     total    labels  img_size
   250/399     4.77G   0.02849  0.007773         0   0.03626        34       640
               Class      Images      Labels           P           R      mAP@.5
                 all         213        1183       0.921       0.901       0.922       0.653

     Epoch   gpu_mem       box       obj       cls     total    labels  img_size
   251/399     4.77G   0.02653  0.007015         0   0.03355         4       640
               Class      Images      Labels           P           R      mAP@.5
                 all         213        1183       0.929       0.885       0.923       0.654

     Epoch   gpu_mem       box       obj       cls     total    labels  img_size
   252/399     4.77G   0.02589  0.007453         0   0.03335        26       640
               Class      Images      Labels           P           R      mAP@.5
                 all         213        1183       0.938       0.875       0.918       0.657

     Epoch   gpu_mem       box       obj       cls     total    labels  img_size
   253/399     4.77G   0.02697   0.00718         0   0.03415        15       640
               Class      Images      Labels           P           R      mAP@.5
                 all         213        1183       0.931       0.888       0.924       0.663

     Epoch   gpu_mem       box       obj       cls     total    labels  img_size
   254/399     4.77G   0.02876  0.007424         0   0.03618        57       640
               Class      Images      Labels           P           R      mAP@.5
                 all         213        1183       0.952       0.879       0.924       0.664

     Epoch   gpu_mem       box       obj       cls     total    labels  img_size
   255/399     4.77G   0.02711  0.006502         0   0.03361        11       640
               Class      Images      Labels           P           R      mAP@.5
                 all         213        1183       0.948       0.877       0.922       0.662

     Epoch   gpu_mem       box       obj       cls     total    labels  img_size
   256/399     4.77G   0.02617  0.007132         0    0.0333        33       640
               Class      Images      Labels           P           R      mAP@.5
                 all         213        1183       0.931       0.888       0.922       0.663

     Epoch   gpu_mem       box       obj       cls     total    labels  img_size
   257/399     4.77G   0.02795  0.007954         0    0.0359        33       640
               Class      Images      Labels           P           R      mAP@.5
                 all         213        1183        0.95       0.881       0.922       0.669

     Epoch   gpu_mem       box       obj       cls     total    labels  img_size
   258/399     4.77G   0.02675  0.006823         0   0.03357        12       640
               Class      Images      Labels           P           R      mAP@.5
                 all         213        1183       0.958       0.876       0.922       0.669

     Epoch   gpu_mem       box       obj       cls     total    labels  img_size
   259/399     4.77G   0.02707  0.007014         0   0.03409         6       640
               Class      Images      Labels           P           R      mAP@.5
                 all         213        1183       0.943       0.884       0.922       0.667

     Epoch   gpu_mem       box       obj       cls     total    labels  img_size
   260/399     4.77G   0.02723  0.007091         0   0.03432         4       640
               Class      Images      Labels           P           R      mAP@.5
                 all         213        1183       0.957       0.871       0.921       0.671

     Epoch   gpu_mem       box       obj       cls     total    labels  img_size
   261/399     4.77G   0.02792  0.006222         0   0.03415        34       640
               Class      Images      Labels           P           R      mAP@.5
                 all         213        1183       0.934        0.88        0.92       0.664

     Epoch   gpu_mem       box       obj       cls     total    labels  img_size
   262/399     4.77G   0.02646  0.007116         0   0.03357         9       640
               Class      Images      Labels           P           R      mAP@.5
                 all         213        1183       0.944       0.877       0.924       0.664

     Epoch   gpu_mem       box       obj       cls     total    labels  img_size
   263/399     4.77G   0.02766  0.006987         0   0.03465        30       640
               Class      Images      Labels           P           R      mAP@.5
                 all         213        1183       0.952        0.88       0.926       0.666

     Epoch   gpu_mem       box       obj       cls     total    labels  img_size
   264/399     4.77G    0.0271  0.006571         0   0.03367         0       640
               Class      Images      Labels           P           R      mAP@.5
                 all         213        1183        0.96       0.882       0.925       0.668

     Epoch   gpu_mem       box       obj       cls     total    labels  img_size
   265/399     4.77G   0.02666  0.007282         0   0.03394        48       640
               Class      Images      Labels           P           R      mAP@.5
                 all         213        1183       0.942       0.885       0.922       0.672

     Epoch   gpu_mem       box       obj       cls     total    labels  img_size
   266/399     4.77G   0.02676  0.007486         0   0.03425        26       640
               Class      Images      Labels           P           R      mAP@.5
                 all         213        1183        0.95       0.883       0.924       0.672

     Epoch   gpu_mem       box       obj       cls     total    labels  img_size
   267/399     4.77G   0.02609   0.00712         0   0.03321        39       640
               Class      Images      Labels           P           R      mAP@.5
                 all         213        1183       0.952       0.888       0.928       0.672

     Epoch   gpu_mem       box       obj       cls     total    labels  img_size
   268/399     4.77G   0.02591  0.006608         0   0.03252         0       640
               Class      Images      Labels           P           R      mAP@.5
                 all         213        1183       0.943       0.893       0.928       0.672

     Epoch   gpu_mem       box       obj       cls     total    labels  img_size
   269/399     4.77G   0.02681  0.006997         0   0.03381         9       640
               Class      Images      Labels           P           R      mAP@.5
                 all         213        1183        0.96       0.878       0.929       0.674

     Epoch   gpu_mem       box       obj       cls     total    labels  img_size
   270/399     4.77G   0.02678  0.006564         0   0.03334        20       640
               Class      Images      Labels           P           R      mAP@.5
                 all         213        1183       0.948       0.885       0.929       0.671

     Epoch   gpu_mem       box       obj       cls     total    labels  img_size
   271/399     4.77G   0.02596  0.006484         0   0.03245        30       640
               Class      Images      Labels           P           R      mAP@.5
                 all         213        1183       0.948       0.888       0.927        0.68

     Epoch   gpu_mem       box       obj       cls     total    labels  img_size
   272/399     4.77G   0.02488  0.007096         0   0.03198        17       640
               Class      Images      Labels           P           R      mAP@.5
                 all         213        1183       0.961       0.882       0.927       0.681

     Epoch   gpu_mem       box       obj       cls     total    labels  img_size
   273/399     4.77G   0.02528   0.00702         0    0.0323        50       640
               Class      Images      Labels           P           R      mAP@.5
                 all         213        1183       0.945       0.893        0.93       0.676

     Epoch   gpu_mem       box       obj       cls     total    labels  img_size
   274/399     4.77G   0.02542  0.006197         0   0.03162         4       640
               Class      Images      Labels           P           R      mAP@.5
                 all         213        1183       0.951       0.893        0.93       0.676

     Epoch   gpu_mem       box       obj       cls     total    labels  img_size
   275/399     4.77G     0.026  0.006306         0   0.03231        86       640
               Class      Images      Labels           P           R      mAP@.5
                 all         213        1183        0.95       0.893       0.929       0.674

     Epoch   gpu_mem       box       obj       cls     total    labels  img_size
   276/399     4.77G   0.02722  0.006711         0   0.03394        45       640
               Class      Images      Labels           P           R      mAP@.5
                 all         213        1183       0.947       0.894       0.927       0.677

     Epoch   gpu_mem       box       obj       cls     total    labels  img_size
   277/399     4.77G   0.02581  0.006974         0   0.03278         1       640
               Class      Images      Labels           P           R      mAP@.5
                 all         213        1183       0.954        0.89        0.93       0.681

     Epoch   gpu_mem       box       obj       cls     total    labels  img_size
   278/399     4.77G   0.02493  0.006895         0   0.03183        27       640
               Class      Images      Labels           P           R      mAP@.5
                 all         213        1183       0.964        0.88       0.929       0.678

     Epoch   gpu_mem       box       obj       cls     total    labels  img_size
   279/399     4.77G   0.02522  0.006814         0   0.03203        38       640
               Class      Images      Labels           P           R      mAP@.5
                 all         213        1183       0.961       0.888        0.93       0.681

     Epoch   gpu_mem       box       obj       cls     total    labels  img_size
   280/399     4.77G    0.0271  0.007423         0   0.03453        66       640
               Class      Images      Labels           P           R      mAP@.5
                 all         213        1183       0.937       0.904        0.93       0.684

     Epoch   gpu_mem       box       obj       cls     total    labels  img_size
   281/399     4.77G   0.02421  0.006784         0     0.031         5       640
               Class      Images      Labels           P           R      mAP@.5
                 all         213        1183       0.945       0.898       0.932       0.684

     Epoch   gpu_mem       box       obj       cls     total    labels  img_size
   282/399     4.77G   0.02607  0.006721         0    0.0328        13       640
               Class      Images      Labels           P           R      mAP@.5
                 all         213        1183       0.949       0.896       0.932       0.685

     Epoch   gpu_mem       box       obj       cls     total    labels  img_size
   283/399     4.77G   0.02756  0.007279         0   0.03484        25       640
               Class      Images      Labels           P           R      mAP@.5
                 all         213        1183       0.955       0.888       0.931       0.687

     Epoch   gpu_mem       box       obj       cls     total    labels  img_size
   284/399     4.77G   0.02506  0.006631         0    0.0317        21       640
               Class      Images      Labels           P           R      mAP@.5
                 all         213        1183       0.953       0.893       0.934       0.686

     Epoch   gpu_mem       box       obj       cls     total    labels  img_size
   285/399     4.77G   0.02648  0.007201         0   0.03368        38       640
               Class      Images      Labels           P           R      mAP@.5
                 all         213        1183       0.954       0.889       0.932        0.68

     Epoch   gpu_mem       box       obj       cls     total    labels  img_size
   286/399     4.77G   0.02571  0.007152         0   0.03286        32       640
               Class      Images      Labels           P           R      mAP@.5
                 all         213        1183       0.949       0.891       0.932       0.684

     Epoch   gpu_mem       box       obj       cls     total    labels  img_size
   287/399     4.77G   0.02446  0.007207         0   0.03167        43       640
               Class      Images      Labels           P           R      mAP@.5
                 all         213        1183       0.951       0.888       0.934       0.687

     Epoch   gpu_mem       box       obj       cls     total    labels  img_size
   288/399     4.77G   0.02608  0.006508         0   0.03259        21       640
               Class      Images      Labels           P           R      mAP@.5
                 all         213        1183       0.955       0.888       0.933       0.687

     Epoch   gpu_mem       box       obj       cls     total    labels  img_size
   289/399     4.77G   0.02448  0.006978         0   0.03146        41       640
               Class      Images      Labels           P           R      mAP@.5
                 all         213        1183       0.951       0.898       0.936       0.692

     Epoch   gpu_mem       box       obj       cls     total    labels  img_size
   290/399     4.77G    0.0257  0.007119         0   0.03281        18       640
               Class      Images      Labels           P           R      mAP@.5
                 all         213        1183       0.962       0.883       0.933       0.689

     Epoch   gpu_mem       box       obj       cls     total    labels  img_size
   291/399     4.77G   0.02608  0.006901         0   0.03298        40       640
               Class      Images      Labels           P           R      mAP@.5
                 all         213        1183       0.959        0.88       0.931       0.683

     Epoch   gpu_mem       box       obj       cls     total    labels  img_size
   292/399     4.77G   0.02591  0.006615         0   0.03252        55       640
               Class      Images      Labels           P           R      mAP@.5
                 all         213        1183       0.935         0.9       0.931       0.692

     Epoch   gpu_mem       box       obj       cls     total    labels  img_size
   293/399     4.77G   0.02569  0.006753         0   0.03244        29       640
               Class      Images      Labels           P           R      mAP@.5
                 all         213        1183        0.95       0.891       0.934       0.688

     Epoch   gpu_mem       box       obj       cls     total    labels  img_size
   294/399     4.77G   0.02468  0.006388         0   0.03107        15       640
               Class      Images      Labels           P           R      mAP@.5
                 all         213        1183        0.96       0.884        0.93       0.689

     Epoch   gpu_mem       box       obj       cls     total    labels  img_size
   295/399     4.77G   0.02479  0.006604         0   0.03139        15       640
               Class      Images      Labels           P           R      mAP@.5
                 all         213        1183       0.954       0.889       0.933       0.693

     Epoch   gpu_mem       box       obj       cls     total    labels  img_size
   296/399     4.77G   0.02585  0.006752         0    0.0326         6       640
               Class      Images      Labels           P           R      mAP@.5
                 all         213        1183       0.943       0.903       0.935       0.692

     Epoch   gpu_mem       box       obj       cls     total    labels  img_size
   297/399     4.77G   0.02422  0.006997         0   0.03122        44       640
               Class      Images      Labels           P           R      mAP@.5
                 all         213        1183       0.943       0.905       0.938       0.699

     Epoch   gpu_mem       box       obj       cls     total    labels  img_size
   298/399     4.77G    0.0245  0.006727         0   0.03123        30       640
               Class      Images      Labels           P           R      mAP@.5
                 all         213        1183       0.943       0.907       0.936       0.693

     Epoch   gpu_mem       box       obj       cls     total    labels  img_size
   299/399     4.77G   0.02594  0.006681         0   0.03262        34       640
               Class      Images      Labels           P           R      mAP@.5
                 all         213        1183       0.953       0.892       0.934       0.693

     Epoch   gpu_mem       box       obj       cls     total    labels  img_size
   300/399     4.77G   0.02383  0.006834         0   0.03067        10       640
               Class      Images      Labels           P           R      mAP@.5
                 all         213        1183       0.949       0.904       0.934       0.699

     Epoch   gpu_mem       box       obj       cls     total    labels  img_size
   301/399     4.77G   0.02483  0.006189         0   0.03101        24       640
               Class      Images      Labels           P           R      mAP@.5
                 all         213        1183       0.958       0.893       0.936       0.702

     Epoch   gpu_mem       box       obj       cls     total    labels  img_size
   302/399     4.77G    0.0246  0.007032         0   0.03163         3       640
               Class      Images      Labels           P           R      mAP@.5
                 all         213        1183       0.958       0.899       0.938       0.701

     Epoch   gpu_mem       box       obj       cls     total    labels  img_size
   303/399     4.77G   0.02483  0.006124         0   0.03096        18       640
               Class      Images      Labels           P           R      mAP@.5
                 all         213        1183       0.959       0.897       0.937       0.698

     Epoch   gpu_mem       box       obj       cls     total    labels  img_size
   304/399     4.77G   0.02524  0.007063         0    0.0323        34       640
               Class      Images      Labels           P           R      mAP@.5
                 all         213        1183        0.96       0.904       0.937       0.697

     Epoch   gpu_mem       box       obj       cls     total    labels  img_size
   305/399     4.77G   0.02313  0.006868         0      0.03         6       640
               Class      Images      Labels           P           R      mAP@.5
                 all         213        1183       0.962       0.899       0.938       0.703

     Epoch   gpu_mem       box       obj       cls     total    labels  img_size
   306/399     4.77G   0.02525  0.007184         0   0.03244       110       640
               Class      Images      Labels           P           R      mAP@.5
                 all         213        1183       0.957       0.901       0.936       0.704

     Epoch   gpu_mem       box       obj       cls     total    labels  img_size
   307/399     4.77G   0.02367  0.006342         0   0.03002        21       640
               Class      Images      Labels           P           R      mAP@.5
                 all         213        1183       0.954       0.899       0.937         0.7

     Epoch   gpu_mem       box       obj       cls     total    labels  img_size
   308/399     4.77G   0.02408  0.006489         0   0.03057        43       640
               Class      Images      Labels           P           R      mAP@.5
                 all         213        1183       0.964       0.891       0.939       0.704

     Epoch   gpu_mem       box       obj       cls     total    labels  img_size
   309/399     4.77G   0.02465  0.007327         0   0.03198        41       640
               Class      Images      Labels           P           R      mAP@.5
                 all         213        1183        0.96       0.895        0.94       0.709

     Epoch   gpu_mem       box       obj       cls     total    labels  img_size
   310/399     4.77G   0.02378  0.007437         0   0.03122         8       640
               Class      Images      Labels           P           R      mAP@.5
                 all         213        1183       0.952       0.898       0.942       0.711

     Epoch   gpu_mem       box       obj       cls     total    labels  img_size
   311/399     4.77G   0.02373  0.006092         0   0.02983        39       640
               Class      Images      Labels           P           R      mAP@.5
                 all         213        1183       0.942       0.902       0.936       0.708

     Epoch   gpu_mem       box       obj       cls     total    labels  img_size
   312/399     4.77G   0.02329  0.006968         0   0.03026        32       640
               Class      Images      Labels           P           R      mAP@.5
                 all         213        1183       0.967       0.892       0.938        0.71

     Epoch   gpu_mem       box       obj       cls     total    labels  img_size
   313/399     4.77G   0.02382  0.007092         0   0.03092        10       640
               Class      Images      Labels           P           R      mAP@.5
                 all         213        1183       0.962       0.895       0.938        0.71

     Epoch   gpu_mem       box       obj       cls     total    labels  img_size
   314/399     4.77G   0.02402  0.006636         0   0.03066        73       640
               Class      Images      Labels           P           R      mAP@.5
                 all         213        1183       0.948       0.909       0.938        0.71

     Epoch   gpu_mem       box       obj       cls     total    labels  img_size
   315/399     4.77G   0.02566  0.006412         0   0.03207        27       640
               Class      Images      Labels           P           R      mAP@.5
                 all         213        1183       0.949       0.902       0.939        0.71

     Epoch   gpu_mem       box       obj       cls     total    labels  img_size
   316/399     4.77G   0.02393  0.006132         0   0.03006        33       640
               Class      Images      Labels           P           R      mAP@.5
                 all         213        1183       0.963       0.893       0.939       0.711

     Epoch   gpu_mem       box       obj       cls     total    labels  img_size
   317/399     4.77G   0.02398  0.006181         0   0.03016         6       640
               Class      Images      Labels           P           R      mAP@.5
                 all         213        1183       0.957       0.902       0.939       0.709

     Epoch   gpu_mem       box       obj       cls     total    labels  img_size
   318/399     4.77G   0.02355  0.006797         0   0.03034        29       640
               Class      Images      Labels           P           R      mAP@.5
                 all         213        1183        0.96       0.901       0.941       0.711

     Epoch   gpu_mem       box       obj       cls     total    labels  img_size
   319/399     4.77G   0.02379  0.006914         0   0.03071         1       640
               Class      Images      Labels           P           R      mAP@.5
                 all         213        1183       0.951       0.907        0.94       0.715

     Epoch   gpu_mem       box       obj       cls     total    labels  img_size
   320/399     4.77G   0.02459  0.006864         0   0.03145         3       640
               Class      Images      Labels           P           R      mAP@.5
                 all         213        1183       0.952       0.905       0.939       0.712

     Epoch   gpu_mem       box       obj       cls     total    labels  img_size
   321/399     4.77G   0.02438  0.007245         0   0.03162        40       640
               Class      Images      Labels           P           R      mAP@.5
                 all         213        1183       0.958       0.901       0.938       0.714

     Epoch   gpu_mem       box       obj       cls     total    labels  img_size
   322/399     4.77G   0.02344  0.006777         0   0.03022        35       640
               Class      Images      Labels           P           R      mAP@.5
                 all         213        1183       0.967       0.888       0.937       0.713

     Epoch   gpu_mem       box       obj       cls     total    labels  img_size
   323/399     4.77G   0.02249  0.006455         0   0.02894        22       640
               Class      Images      Labels           P           R      mAP@.5
                 all         213        1183        0.96       0.894       0.937        0.71

     Epoch   gpu_mem       box       obj       cls     total    labels  img_size
   324/399     4.77G   0.02308  0.006424         0    0.0295        10       640
               Class      Images      Labels           P           R      mAP@.5
                 all         213        1183        0.96       0.894       0.938       0.712

     Epoch   gpu_mem       box       obj       cls     total    labels  img_size
   325/399     4.77G   0.02301  0.006586         0    0.0296         2       640
               Class      Images      Labels           P           R      mAP@.5
                 all         213        1183       0.953       0.903       0.936       0.715

     Epoch   gpu_mem       box       obj       cls     total    labels  img_size
   326/399     4.77G   0.02257  0.006987         0   0.02955        29       640
               Class      Images      Labels           P           R      mAP@.5
                 all         213        1183       0.959       0.899       0.938       0.716

     Epoch   gpu_mem       box       obj       cls     total    labels  img_size
   327/399     4.77G   0.02556  0.005927         0   0.03149        35       640
               Class      Images      Labels           P           R      mAP@.5
                 all         213        1183       0.948       0.908       0.938       0.714

     Epoch   gpu_mem       box       obj       cls     total    labels  img_size
   328/399     4.77G   0.02218   0.00644         0   0.02862        51       640
               Class      Images      Labels           P           R      mAP@.5
                 all         213        1183       0.958       0.899       0.935       0.715

     Epoch   gpu_mem       box       obj       cls     total    labels  img_size
   329/399     4.77G   0.02306   0.00602         0   0.02908         1       640
               Class      Images      Labels           P           R      mAP@.5
                 all         213        1183       0.958       0.897        0.94       0.716

     Epoch   gpu_mem       box       obj       cls     total    labels  img_size
   330/399     4.77G   0.02174  0.006451         0   0.02819        29       640
               Class      Images      Labels           P           R      mAP@.5
                 all         213        1183       0.962       0.895        0.94       0.716

     Epoch   gpu_mem       box       obj       cls     total    labels  img_size
   331/399     4.77G   0.02297    0.0063         0   0.02927        14       640
               Class      Images      Labels           P           R      mAP@.5
                 all         213        1183       0.965       0.901        0.94       0.722

     Epoch   gpu_mem       box       obj       cls     total    labels  img_size
   332/399     4.77G   0.02368  0.006258         0   0.02994        36       640
               Class      Images      Labels           P           R      mAP@.5
                 all         213        1183       0.958       0.902       0.936       0.716

     Epoch   gpu_mem       box       obj       cls     total    labels  img_size
   333/399     4.77G   0.02333  0.006232         0   0.02957         9       640
               Class      Images      Labels           P           R      mAP@.5
                 all         213        1183       0.956       0.905        0.94       0.717

     Epoch   gpu_mem       box       obj       cls     total    labels  img_size
   334/399     4.77G   0.02281   0.00607         0   0.02888         9       640
               Class      Images      Labels           P           R      mAP@.5
                 all         213        1183       0.957       0.896       0.941       0.719

     Epoch   gpu_mem       box       obj       cls     total    labels  img_size
   335/399     4.77G    0.0225  0.005849         0   0.02835        12       640
               Class      Images      Labels           P           R      mAP@.5
                 all         213        1183       0.965       0.893       0.941        0.72

     Epoch   gpu_mem       box       obj       cls     total    labels  img_size
   336/399     4.77G   0.02275  0.006984         0   0.02973         6       640
               Class      Images      Labels           P           R      mAP@.5
                 all         213        1183       0.949       0.904       0.941       0.723

     Epoch   gpu_mem       box       obj       cls     total    labels  img_size
   337/399     4.77G     0.023  0.006587         0   0.02959        54       640
               Class      Images      Labels           P           R      mAP@.5
                 all         213        1183       0.965         0.9       0.941       0.721

     Epoch   gpu_mem       box       obj       cls     total    labels  img_size
   338/399     4.77G   0.02215  0.006139         0   0.02829         2       640
               Class      Images      Labels           P           R      mAP@.5
                 all         213        1183       0.965       0.901       0.942       0.717

     Epoch   gpu_mem       box       obj       cls     total    labels  img_size
   339/399     4.77G   0.02214   0.00683         0   0.02897        33       640
               Class      Images      Labels           P           R      mAP@.5
                 all         213        1183       0.967       0.895        0.94       0.719

     Epoch   gpu_mem       box       obj       cls     total    labels  img_size
   340/399     4.77G   0.02395  0.006244         0    0.0302        29       640
               Class      Images      Labels           P           R      mAP@.5
                 all         213        1183       0.962       0.896       0.938       0.721

     Epoch   gpu_mem       box       obj       cls     total    labels  img_size
   341/399     4.77G   0.02331  0.006384         0    0.0297        40       640
               Class      Images      Labels           P           R      mAP@.5
                 all         213        1183       0.971       0.888       0.938        0.72

     Epoch   gpu_mem       box       obj       cls     total    labels  img_size
   342/399     4.77G   0.02193  0.006092         0   0.02803        36       640
               Class      Images      Labels           P           R      mAP@.5
                 all         213        1183       0.973       0.882       0.937        0.72

     Epoch   gpu_mem       box       obj       cls     total    labels  img_size
   343/399     4.77G     0.022  0.006358         0   0.02836        18       640
               Class      Images      Labels           P           R      mAP@.5
                 all         213        1183       0.963       0.894       0.939        0.72

     Epoch   gpu_mem       box       obj       cls     total    labels  img_size
   344/399     4.77G   0.02307  0.006399         0   0.02947        12       640
               Class      Images      Labels           P           R      mAP@.5
                 all         213        1183       0.961       0.899       0.941       0.724

     Epoch   gpu_mem       box       obj       cls     total    labels  img_size
   345/399     4.77G   0.02197  0.006525         0   0.02849         1       640
               Class      Images      Labels           P           R      mAP@.5
                 all         213        1183       0.961         0.9       0.942       0.723

     Epoch   gpu_mem       box       obj       cls     total    labels  img_size
   346/399     4.77G   0.02332  0.006497         0   0.02982         2       640
               Class      Images      Labels           P           R      mAP@.5
                 all         213        1183       0.964       0.902       0.939       0.726

     Epoch   gpu_mem       box       obj       cls     total    labels  img_size
   347/399     4.77G   0.02279  0.005891         0   0.02868         3       640
               Class      Images      Labels           P           R      mAP@.5
                 all         213        1183       0.965       0.896       0.938       0.728

     Epoch   gpu_mem       box       obj       cls     total    labels  img_size
   348/399     4.77G   0.02114  0.006571         0   0.02771        33       640
               Class      Images      Labels           P           R      mAP@.5
                 all         213        1183       0.965       0.894       0.941       0.726

     Epoch   gpu_mem       box       obj       cls     total    labels  img_size
   349/399     4.77G   0.02344  0.007248         0   0.03069        20       640
               Class      Images      Labels           P           R      mAP@.5
                 all         213        1183       0.955       0.905       0.942       0.727

     Epoch   gpu_mem       box       obj       cls     total    labels  img_size
   350/399     4.77G   0.02291  0.006886         0   0.02979        32       640
               Class      Images      Labels           P           R      mAP@.5
                 all         213        1183        0.96       0.904       0.941       0.725

     Epoch   gpu_mem       box       obj       cls     total    labels  img_size
   351/399     4.77G   0.02191  0.006863         0   0.02878        17       640
               Class      Images      Labels           P           R      mAP@.5
                 all         213        1183       0.965       0.902       0.938       0.728

     Epoch   gpu_mem       box       obj       cls     total    labels  img_size
   352/399     4.77G   0.02191   0.00579         0    0.0277         3       640
               Class      Images      Labels           P           R      mAP@.5
                 all         213        1183       0.954       0.908       0.938       0.725

     Epoch   gpu_mem       box       obj       cls     total    labels  img_size
   353/399     4.77G   0.02403  0.006251         0   0.03028         2       640
               Class      Images      Labels           P           R      mAP@.5
                 all         213        1183       0.959       0.899       0.942       0.724

     Epoch   gpu_mem       box       obj       cls     total    labels  img_size
   354/399     4.77G   0.02292  0.006145         0   0.02906        13       640
               Class      Images      Labels           P           R      mAP@.5
                 all         213        1183       0.968       0.888        0.94        0.73

     Epoch   gpu_mem       box       obj       cls     total    labels  img_size
   355/399     4.77G   0.02268  0.006654         0   0.02934        48       640
               Class      Images      Labels           P           R      mAP@.5
                 all         213        1183       0.971        0.89       0.941       0.728

     Epoch   gpu_mem       box       obj       cls     total    labels  img_size
   356/399     4.77G   0.02312  0.006179         0   0.02929        33       640
               Class      Images      Labels           P           R      mAP@.5
                 all         213        1183       0.957        0.91       0.943       0.731

     Epoch   gpu_mem       box       obj       cls     total    labels  img_size
   357/399     4.77G   0.02233  0.005982         0   0.02832         3       640
               Class      Images      Labels           P           R      mAP@.5
                 all         213        1183       0.958        0.91       0.942        0.73

     Epoch   gpu_mem       box       obj       cls     total    labels  img_size
   358/399     4.77G   0.02257   0.00668         0   0.02925        76       640
               Class      Images      Labels           P           R      mAP@.5
                 all         213        1183       0.961       0.904       0.941       0.728

     Epoch   gpu_mem       box       obj       cls     total    labels  img_size
   359/399     4.77G   0.02152  0.006692         0   0.02822        24       640
               Class      Images      Labels           P           R      mAP@.5
                 all         213        1183       0.966         0.9       0.939       0.728

     Epoch   gpu_mem       box       obj       cls     total    labels  img_size
   360/399     4.77G   0.02191   0.00696         0   0.02887        57       640
               Class      Images      Labels           P           R      mAP@.5
                 all         213        1183       0.966       0.902        0.94       0.728

     Epoch   gpu_mem       box       obj       cls     total    labels  img_size
   361/399     4.77G   0.02248  0.006732         0   0.02921        44       640
               Class      Images      Labels           P           R      mAP@.5
                 all         213        1183       0.971         0.9        0.94       0.726

     Epoch   gpu_mem       box       obj       cls     total    labels  img_size
   362/399     4.77G    0.0231  0.006056         0   0.02915        63       640
               Class      Images      Labels           P           R      mAP@.5
                 all         213        1183       0.967         0.9       0.941       0.727

     Epoch   gpu_mem       box       obj       cls     total    labels  img_size
   363/399     4.77G   0.02233   0.00608         0   0.02841         2       640
               Class      Images      Labels           P           R      mAP@.5
                 all         213        1183       0.969       0.899       0.938       0.725

     Epoch   gpu_mem       box       obj       cls     total    labels  img_size
   364/399     4.77G   0.02189  0.006449         0   0.02834        21       640
               Class      Images      Labels           P           R      mAP@.5
                 all         213        1183       0.964       0.899        0.94       0.727

     Epoch   gpu_mem       box       obj       cls     total    labels  img_size
   365/399     4.77G   0.02176  0.006424         0   0.02819         5       640
               Class      Images      Labels           P           R      mAP@.5
                 all         213        1183        0.97       0.897       0.941       0.731

     Epoch   gpu_mem       box       obj       cls     total    labels  img_size
   366/399     4.77G   0.02154  0.006372         0   0.02791        15       640
               Class      Images      Labels           P           R      mAP@.5
                 all         213        1183       0.965       0.899        0.94       0.731

     Epoch   gpu_mem       box       obj       cls     total    labels  img_size
   367/399     4.77G   0.02205  0.006209         0   0.02826        11       640
               Class      Images      Labels           P           R      mAP@.5
                 all         213        1183       0.957       0.902       0.941       0.729

     Epoch   gpu_mem       box       obj       cls     total    labels  img_size
   368/399     4.77G   0.02195  0.005816         0   0.02776         4       640
               Class      Images      Labels           P           R      mAP@.5
                 all         213        1183       0.959       0.901       0.941       0.727

     Epoch   gpu_mem       box       obj       cls     total    labels  img_size
   369/399     4.77G   0.02142   0.00652         0   0.02794        38       640
               Class      Images      Labels           P           R      mAP@.5
                 all         213        1183       0.957       0.909       0.942       0.734

     Epoch   gpu_mem       box       obj       cls     total    labels  img_size
   370/399     4.77G    0.0223  0.006738         0   0.02904        10       640
               Class      Images      Labels           P           R      mAP@.5
                 all         213        1183       0.956        0.91       0.943       0.731

     Epoch   gpu_mem       box       obj       cls     total    labels  img_size
   371/399     4.77G   0.02304  0.006543         0   0.02959         4       640
               Class      Images      Labels           P           R      mAP@.5
                 all         213        1183       0.962         0.9       0.943       0.731

     Epoch   gpu_mem       box       obj       cls     total    labels  img_size
   372/399     4.77G   0.02316  0.006769         0   0.02993        59       640
               Class      Images      Labels           P           R      mAP@.5
                 all         213        1183       0.953       0.908       0.942       0.735

     Epoch   gpu_mem       box       obj       cls     total    labels  img_size
   373/399     4.77G   0.02192   0.00683         0   0.02875        16       640
               Class      Images      Labels           P           R      mAP@.5
                 all         213        1183       0.951       0.914       0.944       0.736

     Epoch   gpu_mem       box       obj       cls     total    labels  img_size
   374/399     4.77G   0.02174  0.006694         0   0.02844         9       640
               Class      Images      Labels           P           R      mAP@.5
                 all         213        1183       0.957       0.908       0.943       0.739

     Epoch   gpu_mem       box       obj       cls     total    labels  img_size
   375/399     4.77G   0.02152  0.006399         0   0.02792        35       640
               Class      Images      Labels           P           R      mAP@.5
                 all         213        1183       0.968         0.9       0.943       0.737

     Epoch   gpu_mem       box       obj       cls     total    labels  img_size
   376/399     4.77G   0.02186  0.006525         0   0.02839         5       640
               Class      Images      Labels           P           R      mAP@.5
                 all         213        1183       0.966       0.899       0.944       0.736

     Epoch   gpu_mem       box       obj       cls     total    labels  img_size
   377/399     4.77G    0.0213  0.006209         0   0.02751        40       640
               Class      Images      Labels           P           R      mAP@.5
                 all         213        1183       0.969       0.901       0.945       0.741

     Epoch   gpu_mem       box       obj       cls     total    labels  img_size
   378/399     4.77G    0.0219  0.006231         0   0.02813         8       640
               Class      Images      Labels           P           R      mAP@.5
                 all         213        1183       0.964       0.904       0.944        0.74

     Epoch   gpu_mem       box       obj       cls     total    labels  img_size
   379/399     4.77G   0.02162  0.006616         0   0.02823        43       640
               Class      Images      Labels           P           R      mAP@.5
                 all         213        1183       0.965       0.904       0.944       0.739

     Epoch   gpu_mem       box       obj       cls     total    labels  img_size
   380/399     4.77G   0.02195  0.006494         0   0.02844         0       640
               Class      Images      Labels           P           R      mAP@.5
                 all         213        1183       0.968       0.903       0.943       0.741

     Epoch   gpu_mem       box       obj       cls     total    labels  img_size
   381/399     4.77G   0.02244  0.006609         0   0.02905        69       640
               Class      Images      Labels           P           R      mAP@.5
                 all         213        1183       0.963       0.906       0.944        0.74

     Epoch   gpu_mem       box       obj       cls     total    labels  img_size
   382/399     4.77G   0.02239  0.006763         0   0.02915        19       640
               Class      Images      Labels           P           R      mAP@.5
                 all         213        1183       0.967       0.901       0.944       0.742

     Epoch   gpu_mem       box       obj       cls     total    labels  img_size
   383/399     4.77G   0.02184  0.006415         0   0.02825        68       640
               Class      Images      Labels           P           R      mAP@.5
                 all         213        1183       0.961       0.906       0.943       0.743

     Epoch   gpu_mem       box       obj       cls     total    labels  img_size
   384/399     4.77G   0.02173  0.006075         0    0.0278        37       640
               Class      Images      Labels           P           R      mAP@.5
                 all         213        1183       0.962       0.908       0.944       0.743

     Epoch   gpu_mem       box       obj       cls     total    labels  img_size
   385/399     4.77G   0.02241   0.00618         0   0.02859         0       640
               Class      Images      Labels           P           R      mAP@.5
                 all         213        1183       0.965       0.908       0.945       0.744

     Epoch   gpu_mem       box       obj       cls     total    labels  img_size
   386/399     4.77G   0.02203  0.007229         0   0.02926        27       640
               Class      Images      Labels           P           R      mAP@.5
                 all         213        1183       0.967       0.904       0.945       0.742

     Epoch   gpu_mem       box       obj       cls     total    labels  img_size
   387/399     4.77G   0.02109  0.006103         0   0.02719        16       640
               Class      Images      Labels           P           R      mAP@.5
                 all         213        1183       0.963       0.904       0.943        0.74

     Epoch   gpu_mem       box       obj       cls     total    labels  img_size
   388/399     4.77G   0.02209  0.006604         0   0.02869        99       640
               Class      Images      Labels           P           R      mAP@.5
                 all         213        1183       0.972       0.894       0.941        0.74

     Epoch   gpu_mem       box       obj       cls     total    labels  img_size
   389/399     4.77G   0.02183  0.005952         0   0.02779        69       640
               Class      Images      Labels           P           R      mAP@.5
                 all         213        1183       0.972       0.891       0.941       0.738

     Epoch   gpu_mem       box       obj       cls     total    labels  img_size
   390/399     4.77G      0.02  0.005727         0   0.02573        17       640
               Class      Images      Labels           P           R      mAP@.5
                 all         213        1183       0.975       0.891       0.942       0.738

     Epoch   gpu_mem       box       obj       cls     total    labels  img_size
   391/399     4.77G   0.02178  0.006058         0   0.02784        49       640
               Class      Images      Labels           P           R      mAP@.5
                 all         213        1183       0.973       0.889       0.942       0.737

     Epoch   gpu_mem       box       obj       cls     total    labels  img_size
   392/399     4.77G    0.0223  0.006191         0    0.0285         1       640
               Class      Images      Labels           P           R      mAP@.5
                 all         213        1183       0.976        0.89       0.943       0.737

     Epoch   gpu_mem       box       obj       cls     total    labels  img_size
   393/399     4.77G   0.02229  0.007007         0   0.02929        19       640
               Class      Images      Labels           P           R      mAP@.5
                 all         213        1183        0.97         0.9       0.945       0.742

     Epoch   gpu_mem       box       obj       cls     total    labels  img_size
   394/399     4.77G   0.02031  0.006739         0   0.02705        30       640
               Class      Images      Labels           P           R      mAP@.5
                 all         213        1183       0.969       0.901       0.945       0.742

     Epoch   gpu_mem       box       obj       cls     total    labels  img_size
   395/399     4.77G   0.02152  0.006362         0   0.02788         5       640
               Class      Images      Labels           P           R      mAP@.5
                 all         213        1183       0.969       0.901       0.946       0.742

     Epoch   gpu_mem       box       obj       cls     total    labels  img_size
   396/399     4.77G   0.02146  0.006751         0   0.02821        31       640
               Class      Images      Labels           P           R      mAP@.5
                 all         213        1183       0.968       0.904       0.944       0.743

     Epoch   gpu_mem       box       obj       cls     total    labels  img_size
   397/399     4.77G   0.02256  0.005989         0   0.02854         6       640
               Class      Images      Labels           P           R      mAP@.5
                 all         213        1183       0.969       0.902       0.944       0.744

     Epoch   gpu_mem       box       obj       cls     total    labels  img_size
   398/399     4.77G   0.02111  0.006073         0   0.02719         0       640
               Class      Images      Labels           P           R      mAP@.5
                 all         213        1183       0.972       0.896       0.943       0.743

     Epoch   gpu_mem       box       obj       cls     total    labels  img_size
   399/399     4.77G    0.0238  0.006802         0    0.0306        23       640
               Class      Images      Labels           P           R      mAP@.5
                 all         213        1183       0.976       0.894       0.944       0.743
400 epochs completed in 5.478 hours.

Optimizer stripped from runs/train/exp3/weights/last.pt, 74.8MB
Optimizer stripped from runs/train/exp3/weights/best.pt, 74.8MB
