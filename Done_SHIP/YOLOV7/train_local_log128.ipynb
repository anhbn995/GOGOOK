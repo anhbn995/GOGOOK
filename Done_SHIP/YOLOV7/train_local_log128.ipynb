/home/skm/SKM16/IMAGE/ZZ_ZZ/TauBien/code/YOLO/Custom/TrainYOLOv7/yolov7
YOLOR 🚀 v0.1-104-g941b94c torch 2.0.1+cu117 CUDA:0 (NVIDIA GeForce GTX 1080 Ti, 11171.125MB)

Namespace(weights='pretrain/yolov7.pt', cfg='cfg/training/yolov7.yaml', data='data/mydataset.yaml', hyp='data/hyp.scratch.p5.yaml', epochs=400, batch_size=5, img_size=[640, 640], rect=False, resume=False, nosave=False, notest=False, noautoanchor=False, evolve=False, bucket='', cache_images=False, image_weights=False, device='', multi_scale=False, single_cls=False, adam=False, sync_bn=False, local_rank=-1, workers=8, project='runs/train', entity=None, name='exp', exist_ok=False, quad=False, linear_lr=False, label_smoothing=0.0, upload_dataset=False, bbox_interval=-1, save_period=-1, artifact_alias='latest', freeze=[0], world_size=1, global_rank=-1, save_dir='runs/train/exp2', total_batch_size=5)
[34m[1mtensorboard: [0mStart with 'tensorboard --logdir runs/train', view at http://localhost:6006/
[34m[1mhyperparameters: [0mlr0=0.01, lrf=0.1, momentum=0.937, weight_decay=0.0005, warmup_epochs=3.0, warmup_momentum=0.8, warmup_bias_lr=0.1, box=0.05, cls=0.3, cls_pw=1.0, obj=0.7, obj_pw=1.0, iou_t=0.2, anchor_t=4.0, fl_gamma=0.0, hsv_h=0.015, hsv_s=0.7, hsv_v=0.4, degrees=0.0, translate=0.2, scale=0.9, shear=0.0, perspective=0.0, flipud=0.0, fliplr=0.5, mosaic=1.0, mixup=0.15, copy_paste=0.0, paste_in=0.15, loss_ota=1
[34m[1mwandb: [0mInstall Weights & Biases for YOLOR logging with 'pip install wandb' (recommended)
Overriding model.yaml nc=80 with nc=1

                 from  n    params  module                                  arguments                     
  0                -1  1       928  models.common.Conv                      [3, 32, 3, 1]                 
  1                -1  1     18560  models.common.Conv                      [32, 64, 3, 2]                
  2                -1  1     36992  models.common.Conv                      [64, 64, 3, 1]                
  3                -1  1     73984  models.common.Conv                      [64, 128, 3, 2]               
  4                -1  1      8320  models.common.Conv                      [128, 64, 1, 1]               
  5                -2  1      8320  models.common.Conv                      [128, 64, 1, 1]               
  6                -1  1     36992  models.common.Conv                      [64, 64, 3, 1]                
  7                -1  1     36992  models.common.Conv                      [64, 64, 3, 1]                
  8                -1  1     36992  models.common.Conv                      [64, 64, 3, 1]                
  9                -1  1     36992  models.common.Conv                      [64, 64, 3, 1]                
 10  [-1, -3, -5, -6]  1         0  models.common.Concat                    [1]                           
 11                -1  1     66048  models.common.Conv                      [256, 256, 1, 1]              
 12                -1  1         0  models.common.MP                        []                            
 13                -1  1     33024  models.common.Conv                      [256, 128, 1, 1]              
 14                -3  1     33024  models.common.Conv                      [256, 128, 1, 1]              
 15                -1  1    147712  models.common.Conv                      [128, 128, 3, 2]              
 16          [-1, -3]  1         0  models.common.Concat                    [1]                           
 17                -1  1     33024  models.common.Conv                      [256, 128, 1, 1]              
 18                -2  1     33024  models.common.Conv                      [256, 128, 1, 1]              
 19                -1  1    147712  models.common.Conv                      [128, 128, 3, 1]              
 20                -1  1    147712  models.common.Conv                      [128, 128, 3, 1]              
 21                -1  1    147712  models.common.Conv                      [128, 128, 3, 1]              
 22                -1  1    147712  models.common.Conv                      [128, 128, 3, 1]              
 23  [-1, -3, -5, -6]  1         0  models.common.Concat                    [1]                           
 24                -1  1    263168  models.common.Conv                      [512, 512, 1, 1]              
 25                -1  1         0  models.common.MP                        []                            
 26                -1  1    131584  models.common.Conv                      [512, 256, 1, 1]              
 27                -3  1    131584  models.common.Conv                      [512, 256, 1, 1]              
 28                -1  1    590336  models.common.Conv                      [256, 256, 3, 2]              
 29          [-1, -3]  1         0  models.common.Concat                    [1]                           
 30                -1  1    131584  models.common.Conv                      [512, 256, 1, 1]              
 31                -2  1    131584  models.common.Conv                      [512, 256, 1, 1]              
 32                -1  1    590336  models.common.Conv                      [256, 256, 3, 1]              
 33                -1  1    590336  models.common.Conv                      [256, 256, 3, 1]              
 34                -1  1    590336  models.common.Conv                      [256, 256, 3, 1]              
 35                -1  1    590336  models.common.Conv                      [256, 256, 3, 1]              
 36  [-1, -3, -5, -6]  1         0  models.common.Concat                    [1]                           
 37                -1  1   1050624  models.common.Conv                      [1024, 1024, 1, 1]            
 38                -1  1         0  models.common.MP                        []                            
 39                -1  1    525312  models.common.Conv                      [1024, 512, 1, 1]             
 40                -3  1    525312  models.common.Conv                      [1024, 512, 1, 1]             
 41                -1  1   2360320  models.common.Conv                      [512, 512, 3, 2]              
 42          [-1, -3]  1         0  models.common.Concat                    [1]                           
 43                -1  1    262656  models.common.Conv                      [1024, 256, 1, 1]             
 44                -2  1    262656  models.common.Conv                      [1024, 256, 1, 1]             
 45                -1  1    590336  models.common.Conv                      [256, 256, 3, 1]              
 46                -1  1    590336  models.common.Conv                      [256, 256, 3, 1]              
 47                -1  1    590336  models.common.Conv                      [256, 256, 3, 1]              
 48                -1  1    590336  models.common.Conv                      [256, 256, 3, 1]              
 49  [-1, -3, -5, -6]  1         0  models.common.Concat                    [1]                           
 50                -1  1   1050624  models.common.Conv                      [1024, 1024, 1, 1]            
 51                -1  1   7609344  models.common.SPPCSPC                   [1024, 512, 1]                
 52                -1  1    131584  models.common.Conv                      [512, 256, 1, 1]              
 53                -1  1         0  torch.nn.modules.upsampling.Upsample    [None, 2, 'nearest']          
 54                37  1    262656  models.common.Conv                      [1024, 256, 1, 1]             
 55          [-1, -2]  1         0  models.common.Concat                    [1]                           
 56                -1  1    131584  models.common.Conv                      [512, 256, 1, 1]              
 57                -2  1    131584  models.common.Conv                      [512, 256, 1, 1]              
 58                -1  1    295168  models.common.Conv                      [256, 128, 3, 1]              
 59                -1  1    147712  models.common.Conv                      [128, 128, 3, 1]              
 60                -1  1    147712  models.common.Conv                      [128, 128, 3, 1]              
 61                -1  1    147712  models.common.Conv                      [128, 128, 3, 1]              
 62[-1, -2, -3, -4, -5, -6]  1         0  models.common.Concat                    [1]                           
 63                -1  1    262656  models.common.Conv                      [1024, 256, 1, 1]             
 64                -1  1     33024  models.common.Conv                      [256, 128, 1, 1]              
 65                -1  1         0  torch.nn.modules.upsampling.Upsample    [None, 2, 'nearest']          
 66                24  1     65792  models.common.Conv                      [512, 128, 1, 1]              
 67          [-1, -2]  1         0  models.common.Concat                    [1]                           
 68                -1  1     33024  models.common.Conv                      [256, 128, 1, 1]              
 69                -2  1     33024  models.common.Conv                      [256, 128, 1, 1]              
 70                -1  1     73856  models.common.Conv                      [128, 64, 3, 1]               
 71                -1  1     36992  models.common.Conv                      [64, 64, 3, 1]                
 72                -1  1     36992  models.common.Conv                      [64, 64, 3, 1]                
 73                -1  1     36992  models.common.Conv                      [64, 64, 3, 1]                
 74[-1, -2, -3, -4, -5, -6]  1         0  models.common.Concat                    [1]                           
 75                -1  1     65792  models.common.Conv                      [512, 128, 1, 1]              
 76                -1  1         0  models.common.MP                        []                            
 77                -1  1     16640  models.common.Conv                      [128, 128, 1, 1]              
 78                -3  1     16640  models.common.Conv                      [128, 128, 1, 1]              
 79                -1  1    147712  models.common.Conv                      [128, 128, 3, 2]              
 80      [-1, -3, 63]  1         0  models.common.Concat                    [1]                           
 81                -1  1    131584  models.common.Conv                      [512, 256, 1, 1]              
 82                -2  1    131584  models.common.Conv                      [512, 256, 1, 1]              
 83                -1  1    295168  models.common.Conv                      [256, 128, 3, 1]              
 84                -1  1    147712  models.common.Conv                      [128, 128, 3, 1]              
 85                -1  1    147712  models.common.Conv                      [128, 128, 3, 1]              
 86                -1  1    147712  models.common.Conv                      [128, 128, 3, 1]              
 87[-1, -2, -3, -4, -5, -6]  1         0  models.common.Concat                    [1]                           
 88                -1  1    262656  models.common.Conv                      [1024, 256, 1, 1]             
 89                -1  1         0  models.common.MP                        []                            
 90                -1  1     66048  models.common.Conv                      [256, 256, 1, 1]              
 91                -3  1     66048  models.common.Conv                      [256, 256, 1, 1]              
 92                -1  1    590336  models.common.Conv                      [256, 256, 3, 2]              
 93      [-1, -3, 51]  1         0  models.common.Concat                    [1]                           
 94                -1  1    525312  models.common.Conv                      [1024, 512, 1, 1]             
 95                -2  1    525312  models.common.Conv                      [1024, 512, 1, 1]             
 96                -1  1   1180160  models.common.Conv                      [512, 256, 3, 1]              
 97                -1  1    590336  models.common.Conv                      [256, 256, 3, 1]              
 98                -1  1    590336  models.common.Conv                      [256, 256, 3, 1]              
 99                -1  1    590336  models.common.Conv                      [256, 256, 3, 1]              
100[-1, -2, -3, -4, -5, -6]  1         0  models.common.Concat                    [1]                           
101                -1  1   1049600  models.common.Conv                      [2048, 512, 1, 1]             
102                75  1    328704  models.common.RepConv                   [128, 256, 3, 1]              
103                88  1   1312768  models.common.RepConv                   [256, 512, 3, 1]              
104               101  1   5246976  models.common.RepConv                   [512, 1024, 3, 1]             
105   [102, 103, 104]  1     34156  models.yolo.IDetect                     [1, [[12, 16, 19, 36, 40, 28], [36, 75, 76, 55, 72, 146], [142, 110, 192, 243, 459, 401]], [256, 512, 1024]]
[W NNPACK.cpp:64] Could not initialize NNPACK! Reason: Unsupported hardware.
/home/skm/anaconda3/envs/yolo7/lib/python3.9/site-packages/torch/functional.py:504: UserWarning: torch.meshgrid: in an upcoming release, it will be required to pass the indexing argument. (Triggered internally at ../aten/src/ATen/native/TensorShape.cpp:3483.)
  return _VF.meshgrid(tensors, **kwargs)  # type: ignore[attr-defined]
Model Summary: 415 layers, 37196556 parameters, 37196556 gradients, 105.1 GFLOPS

Transferred 552/566 items from pretrain/yolov7.pt
Scaled weight_decay = 0.0005078125
Optimizer groups: 95 .bias, 95 conv.weight, 98 other
[34m[1mtrain: [0mScanning '../train_data/train_ship/labels' images and labels... 899 found[0m
[34m[1mtrain: [0mNew cache created: ../train_data/train_ship/labels.cache
[34m[1mval: [0mScanning '../train_data/val_ship/labels' images and labels... 386 found, 0 [0m
[34m[1mval: [0mNew cache created: ../train_data/val_ship/labels.cache

[34m[1mautoanchor: [0mAnalyzing anchors... anchors/target = 5.12, Best Possible Recall (BPR) = 0.9677. Attempting to improve anchors, please wait...
[34m[1mautoanchor: [0mWARNING: Extremely small objects found. 46 of 2970 labels are < 3 pixels in size.
[34m[1mautoanchor: [0mRunning kmeans for 9 anchors on 2968 points...
[34m[1mautoanchor: [0mthr=0.25: 0.9313 best possible recall, 5.65 anchors past thr
[34m[1mautoanchor: [0mn=9, img_size=640, metric_all=0.352/0.704-mean/best, past_thr=0.477-mean: 43,41,  73,67,  127,42,  48,128,  110,117,  257,93,  149,236,  142,436,  401,257
[34m[1mautoanchor: [0mEvolving anchors with Genetic Algorithm: fitness = 0.7240: 100%|█| 1[0m
[34m[1mautoanchor: [0mthr=0.25: 0.9552 best possible recall, 6.60 anchors past thr
[34m[1mautoanchor: [0mn=9, img_size=640, metric_all=0.406/0.728-mean/best, past_thr=0.500-mean: 64,27,  38,47,  71,63,  54,107,  125,51,  105,98,  84,131,  209,198,  132,334
[34m[1mautoanchor: [0mOriginal anchors better than new anchors. Proceeding with original anchors.

Image sizes 640 train, 640 test
Using 5 dataloader workers
Logging results to runs/train/exp2
Starting training for 400 epochs...

     Epoch   gpu_mem       box       obj       cls     total    labels  img_size
     0/399     1.39G   0.07465    0.5332         0    0.6079        27       640
               Class      Images      Labels           P           R      mAP@.5
                 all         386        1421      0.0211      0.0598     0.00395    0.000729

     Epoch   gpu_mem       box       obj       cls     total    labels  img_size
     1/399     4.99G   0.07277   0.01367         0   0.08644        32       640
               Class      Images      Labels           P           R      mAP@.5
                 all         386        1421       0.196       0.193      0.0974      0.0181

     Epoch   gpu_mem       box       obj       cls     total    labels  img_size
     2/399     4.99G   0.06817  0.008895         0   0.07707        22       640
               Class      Images      Labels           P           R      mAP@.5
                 all         386        1421        0.36       0.343       0.256      0.0718

     Epoch   gpu_mem       box       obj       cls     total    labels  img_size
     3/399     4.99G   0.06081  0.008451         0   0.06927        62       640
               Class      Images      Labels           P           R      mAP@.5
                 all         386        1421       0.367       0.409       0.315      0.0792

     Epoch   gpu_mem       box       obj       cls     total    labels  img_size
     4/399     4.99G    0.0569  0.008431         0   0.06533        42       640
               Class      Images      Labels           P           R      mAP@.5
                 all         386        1421       0.534       0.486       0.445        0.16

     Epoch   gpu_mem       box       obj       cls     total    labels  img_size
     5/399     4.99G    0.0558  0.008536         0   0.06434        37       640
               Class      Images      Labels           P           R      mAP@.5
                 all         386        1421       0.567       0.468       0.443       0.143

     Epoch   gpu_mem       box       obj       cls     total    labels  img_size
     6/399     4.99G    0.0524  0.008751         0   0.06115        66       640
               Class      Images      Labels           P           R      mAP@.5
                 all         386        1421       0.614       0.504       0.534       0.193

     Epoch   gpu_mem       box       obj       cls     total    labels  img_size
     7/399     4.99G   0.05141  0.009095         0    0.0605        28       640
               Class      Images      Labels           P           R      mAP@.5
                 all         386        1421       0.601       0.518       0.515       0.198

     Epoch   gpu_mem       box       obj       cls     total    labels  img_size
     8/399     4.99G   0.05002  0.009369         0   0.05939        20       640
               Class      Images      Labels           P           R      mAP@.5
                 all         386        1421       0.636       0.592       0.585       0.227

     Epoch   gpu_mem       box       obj       cls     total    labels  img_size
     9/399     4.99G   0.04761   0.00934         0   0.05695        42       640
               Class      Images      Labels           P           R      mAP@.5
                 all         386        1421        0.65       0.615       0.592       0.228

     Epoch   gpu_mem       box       obj       cls     total    labels  img_size
    10/399     4.99G   0.04651   0.00946         0   0.05597        46       640
               Class      Images      Labels           P           R      mAP@.5
                 all         386        1421       0.593       0.478        0.48         0.2

     Epoch   gpu_mem       box       obj       cls     total    labels  img_size
    11/399     4.99G   0.04665  0.009241         0   0.05589        49       640
               Class      Images      Labels           P           R      mAP@.5
                 all         386        1421       0.666       0.619       0.619       0.256

     Epoch   gpu_mem       box       obj       cls     total    labels  img_size
    12/399     4.99G   0.04476  0.008913         0   0.05368        69       640
               Class      Images      Labels           P           R      mAP@.5
                 all         386        1421       0.644       0.648       0.607        0.26

     Epoch   gpu_mem       box       obj       cls     total    labels  img_size
    13/399     4.99G   0.04438   0.00957         0   0.05395        64       640
               Class      Images      Labels           P           R      mAP@.5
                 all         386        1421       0.697       0.696       0.686       0.312

     Epoch   gpu_mem       box       obj       cls     total    labels  img_size
    14/399     4.99G   0.04404  0.008824         0   0.05286        43       640
               Class      Images      Labels           P           R      mAP@.5
                 all         386        1421       0.731       0.688        0.71       0.343

     Epoch   gpu_mem       box       obj       cls     total    labels  img_size
    15/399     4.99G   0.04322  0.008983         0    0.0522        36       640
               Class      Images      Labels           P           R      mAP@.5
                 all         386        1421       0.647       0.597       0.599       0.239

     Epoch   gpu_mem       box       obj       cls     total    labels  img_size
    16/399     4.99G   0.04274  0.009662         0    0.0524        53       640
               Class      Images      Labels           P           R      mAP@.5
                 all         386        1421       0.715       0.692       0.672       0.315

     Epoch   gpu_mem       box       obj       cls     total    labels  img_size
    17/399     4.99G   0.04261  0.009245         0   0.05185        52       640
               Class      Images      Labels           P           R      mAP@.5
                 all         386        1421       0.753       0.712       0.727       0.351

     Epoch   gpu_mem       box       obj       cls     total    labels  img_size
    18/399     4.99G   0.04147  0.008626         0    0.0501        79       640
               Class      Images      Labels           P           R      mAP@.5
                 all         386        1421       0.772       0.676       0.706       0.331

     Epoch   gpu_mem       box       obj       cls     total    labels  img_size
    19/399     4.99G   0.04143  0.008592         0   0.05002        94       640
               Class      Images      Labels           P           R      mAP@.5
                 all         386        1421       0.757       0.678       0.717       0.335

     Epoch   gpu_mem       box       obj       cls     total    labels  img_size
    20/399     4.99G   0.04124  0.009026         0   0.05027         8       640
               Class      Images      Labels           P           R      mAP@.5
                 all         386        1421       0.774       0.661       0.708       0.337

     Epoch   gpu_mem       box       obj       cls     total    labels  img_size
    21/399     4.99G   0.04072  0.008497         0   0.04921        20       640
               Class      Images      Labels           P           R      mAP@.5
                 all         386        1421        0.77       0.635       0.689       0.334

     Epoch   gpu_mem       box       obj       cls     total    labels  img_size
    22/399     4.99G   0.04003  0.008742         0   0.04877        25       640
               Class      Images      Labels           P           R      mAP@.5
                 all         386        1421       0.811       0.668       0.736       0.337

     Epoch   gpu_mem       box       obj       cls     total    labels  img_size
    23/399     4.99G   0.04017  0.008947         0   0.04911        70       640
               Class      Images      Labels           P           R      mAP@.5
                 all         386        1421       0.781        0.73       0.759       0.397

     Epoch   gpu_mem       box       obj       cls     total    labels  img_size
    24/399     4.99G   0.04016   0.00902         0   0.04918        24       640
               Class      Images      Labels           P           R      mAP@.5
                 all         386        1421       0.808       0.737       0.771       0.383

     Epoch   gpu_mem       box       obj       cls     total    labels  img_size
    25/399     4.99G    0.0398  0.008691         0   0.04849        25       640
               Class      Images      Labels           P           R      mAP@.5
                 all         386        1421       0.751       0.723       0.743       0.367

     Epoch   gpu_mem       box       obj       cls     total    labels  img_size
    26/399     4.99G   0.03957  0.008903         0   0.04847        42       640
               Class      Images      Labels           P           R      mAP@.5
                 all         386        1421       0.747       0.743       0.751       0.387

     Epoch   gpu_mem       box       obj       cls     total    labels  img_size
    27/399     4.99G   0.03875  0.008432         0   0.04719        73       640
               Class      Images      Labels           P           R      mAP@.5
                 all         386        1421       0.849       0.704       0.775       0.398

     Epoch   gpu_mem       box       obj       cls     total    labels  img_size
    28/399     4.99G   0.03806  0.008563         0   0.04662        55       640
               Class      Images      Labels           P           R      mAP@.5
                 all         386        1421       0.814       0.726       0.771       0.397

     Epoch   gpu_mem       box       obj       cls     total    labels  img_size
    29/399     4.99G   0.03853  0.008646         0   0.04718        64       640
               Class      Images      Labels           P           R      mAP@.5
                 all         386        1421       0.793       0.705        0.74       0.361

     Epoch   gpu_mem       box       obj       cls     total    labels  img_size
    30/399     4.99G   0.03812  0.009093         0   0.04721        15       640
               Class      Images      Labels           P           R      mAP@.5
                 all         386        1421       0.759       0.748        0.76       0.403

     Epoch   gpu_mem       box       obj       cls     total    labels  img_size
    31/399     4.99G    0.0385  0.008403         0    0.0469        69       640
               Class      Images      Labels           P           R      mAP@.5
                 all         386        1421       0.812       0.695       0.754       0.361

     Epoch   gpu_mem       box       obj       cls     total    labels  img_size
    32/399     4.99G   0.03839  0.008682         0   0.04707        50       640
               Class      Images      Labels           P           R      mAP@.5
                 all         386        1421       0.788       0.737       0.757       0.388

     Epoch   gpu_mem       box       obj       cls     total    labels  img_size
    33/399     4.99G   0.03809  0.008681         0   0.04677        33       640
               Class      Images      Labels           P           R      mAP@.5
                 all         386        1421       0.763        0.73       0.759       0.384

     Epoch   gpu_mem       box       obj       cls     total    labels  img_size
    34/399     4.99G   0.03823  0.008405         0   0.04663        17       640
               Class      Images      Labels           P           R      mAP@.5
                 all         386        1421       0.816       0.731       0.779       0.414

     Epoch   gpu_mem       box       obj       cls     total    labels  img_size
    35/399     4.99G   0.03738  0.008418         0    0.0458        23       640
               Class      Images      Labels           P           R      mAP@.5
                 all         386        1421       0.802        0.75        0.78       0.392

     Epoch   gpu_mem       box       obj       cls     total    labels  img_size
    36/399     4.99G   0.03732  0.008642         0   0.04596        59       640
               Class      Images      Labels           P           R      mAP@.5
                 all         386        1421        0.82       0.734        0.78       0.417

     Epoch   gpu_mem       box       obj       cls     total    labels  img_size
    37/399     4.99G   0.03697  0.008594         0   0.04556        33       640
               Class      Images      Labels           P           R      mAP@.5
                 all         386        1421        0.78       0.762        0.78       0.406

     Epoch   gpu_mem       box       obj       cls     total    labels  img_size
    38/399     4.99G   0.03662  0.008383         0     0.045        59       640
               Class      Images      Labels           P           R      mAP@.5
                 all         386        1421       0.824       0.773       0.806       0.426

     Epoch   gpu_mem       box       obj       cls     total    labels  img_size
    39/399     4.99G   0.03753  0.008527         0   0.04606        87       640
               Class      Images      Labels           P           R      mAP@.5
                 all         386        1421       0.824       0.763       0.792       0.425

     Epoch   gpu_mem       box       obj       cls     total    labels  img_size
    40/399     4.99G   0.03643   0.00854         0   0.04497        52       640
               Class      Images      Labels           P           R      mAP@.5
                 all         386        1421       0.811        0.77       0.797       0.429

     Epoch   gpu_mem       box       obj       cls     total    labels  img_size
    41/399     4.99G   0.03542  0.008665         0   0.04408        32       640
               Class      Images      Labels           P           R      mAP@.5
                 all         386        1421        0.82       0.775       0.806       0.441

     Epoch   gpu_mem       box       obj       cls     total    labels  img_size
    42/399     4.99G   0.03611   0.00785         0   0.04396        50       640
               Class      Images      Labels           P           R      mAP@.5
                 all         386        1421       0.865       0.755       0.815       0.445

     Epoch   gpu_mem       box       obj       cls     total    labels  img_size
    43/399     4.99G   0.03608   0.00844         0   0.04452        68       640
               Class      Images      Labels           P           R      mAP@.5
                 all         386        1421       0.857       0.715       0.778       0.394

     Epoch   gpu_mem       box       obj       cls     total    labels  img_size
    44/399     4.99G   0.03503  0.008223         0   0.04325        32       640
               Class      Images      Labels           P           R      mAP@.5
                 all         386        1421       0.814       0.776        0.79       0.441

     Epoch   gpu_mem       box       obj       cls     total    labels  img_size
    45/399     4.99G   0.03539  0.008035         0   0.04343        62       640
               Class      Images      Labels           P           R      mAP@.5
                 all         386        1421        0.83       0.766       0.796       0.453

     Epoch   gpu_mem       box       obj       cls     total    labels  img_size
    46/399     4.99G   0.03485  0.008195         0   0.04305        55       640
               Class      Images      Labels           P           R      mAP@.5
                 all         386        1421       0.842       0.756       0.805       0.448

     Epoch   gpu_mem       box       obj       cls     total    labels  img_size
    47/399     4.99G   0.03534  0.008235         0   0.04357        38       640
               Class      Images      Labels           P           R      mAP@.5
                 all         386        1421       0.838       0.761       0.812       0.471

     Epoch   gpu_mem       box       obj       cls     total    labels  img_size
    48/399     4.99G   0.03511  0.008485         0   0.04359        50       640
               Class      Images      Labels           P           R      mAP@.5
                 all         386        1421       0.849       0.749       0.803       0.443

     Epoch   gpu_mem       box       obj       cls     total    labels  img_size
    49/399     4.99G   0.03517  0.008321         0   0.04349        68       640
               Class      Images      Labels           P           R      mAP@.5
                 all         386        1421       0.869       0.752       0.822        0.47

     Epoch   gpu_mem       box       obj       cls     total    labels  img_size
    50/399     4.99G   0.03414  0.008323         0   0.04246        70       640
               Class      Images      Labels           P           R      mAP@.5
                 all         386        1421       0.861       0.761       0.827       0.472

     Epoch   gpu_mem       box       obj       cls     total    labels  img_size
    51/399     4.99G   0.03482  0.008191         0   0.04301        37       640
               Class      Images      Labels           P           R      mAP@.5
                 all         386        1421       0.827        0.78       0.816       0.473

     Epoch   gpu_mem       box       obj       cls     total    labels  img_size
    52/399     4.99G   0.03443  0.008233         0   0.04266        36       640
               Class      Images      Labels           P           R      mAP@.5
                 all         386        1421       0.839       0.783       0.821       0.471

     Epoch   gpu_mem       box       obj       cls     total    labels  img_size
    53/399     4.99G   0.03454  0.008236         0   0.04277        63       640
               Class      Images      Labels           P           R      mAP@.5
                 all         386        1421       0.854       0.782       0.826       0.475

     Epoch   gpu_mem       box       obj       cls     total    labels  img_size
    54/399     4.99G   0.03438  0.008315         0   0.04269        19       640
               Class      Images      Labels           P           R      mAP@.5
                 all         386        1421       0.811       0.745       0.786       0.436

     Epoch   gpu_mem       box       obj       cls     total    labels  img_size
    55/399     4.99G    0.0359  0.008665         0   0.04457        54       640
               Class      Images      Labels           P           R      mAP@.5
                 all         386        1421       0.801       0.745       0.779       0.417

     Epoch   gpu_mem       box       obj       cls     total    labels  img_size
    56/399     4.99G   0.03606  0.008687         0   0.04475        68       640
               Class      Images      Labels           P           R      mAP@.5
                 all         386        1421       0.826       0.768       0.811       0.468

     Epoch   gpu_mem       box       obj       cls     total    labels  img_size
    57/399     4.99G   0.03424  0.008561         0    0.0428        90       640
               Class      Images      Labels           P           R      mAP@.5
                 all         386        1421       0.822       0.749       0.793       0.453

     Epoch   gpu_mem       box       obj       cls     total    labels  img_size
    58/399     4.99G   0.03464  0.008131         0   0.04277        70       640
               Class      Images      Labels           P           R      mAP@.5
                 all         386        1421       0.835       0.769       0.809       0.454

     Epoch   gpu_mem       box       obj       cls     total    labels  img_size
    59/399     4.99G   0.03455  0.008243         0    0.0428        63       640
               Class      Images      Labels           P           R      mAP@.5
                 all         386        1421        0.86       0.784       0.824       0.471

     Epoch   gpu_mem       box       obj       cls     total    labels  img_size
    60/399     4.99G     0.034  0.008376         0   0.04238        53       640
               Class      Images      Labels           P           R      mAP@.5
                 all         386        1421       0.851       0.773       0.813       0.465

     Epoch   gpu_mem       box       obj       cls     total    labels  img_size
    61/399     4.99G   0.03346  0.007922         0   0.04138        43       640
               Class      Images      Labels           P           R      mAP@.5
                 all         386        1421       0.843       0.756       0.807        0.46

     Epoch   gpu_mem       box       obj       cls     total    labels  img_size
    62/399     4.99G   0.03409  0.007691         0   0.04179        55       640
               Class      Images      Labels           P           R      mAP@.5
                 all         386        1421       0.865       0.782       0.834       0.465

     Epoch   gpu_mem       box       obj       cls     total    labels  img_size
    63/399     4.99G    0.0333  0.007806         0   0.04111        42       640
               Class      Images      Labels           P           R      mAP@.5
                 all         386        1421       0.834       0.793       0.826       0.488

     Epoch   gpu_mem       box       obj       cls     total    labels  img_size
    64/399     4.99G   0.03405  0.007654         0   0.04171        38       640
               Class      Images      Labels           P           R      mAP@.5
                 all         386        1421       0.868       0.773       0.824        0.47

     Epoch   gpu_mem       box       obj       cls     total    labels  img_size
    65/399     4.99G     0.034  0.008137         0   0.04214        28       640
               Class      Images      Labels           P           R      mAP@.5
                 all         386        1421       0.848       0.769       0.814       0.463

     Epoch   gpu_mem       box       obj       cls     total    labels  img_size
    66/399     4.99G   0.03352  0.008019         0   0.04154        75       640
               Class      Images      Labels           P           R      mAP@.5
                 all         386        1421       0.854       0.775       0.826       0.473

     Epoch   gpu_mem       box       obj       cls     total    labels  img_size
    67/399     4.99G   0.03359  0.007771         0   0.04136        48       640
               Class      Images      Labels           P           R      mAP@.5
                 all         386        1421       0.882       0.774       0.835       0.499

     Epoch   gpu_mem       box       obj       cls     total    labels  img_size
    68/399     4.99G   0.03335   0.00817         0   0.04152        86       640
               Class      Images      Labels           P           R      mAP@.5
                 all         386        1421       0.861       0.783       0.825       0.466

     Epoch   gpu_mem       box       obj       cls     total    labels  img_size
    69/399     4.99G   0.03239  0.007885         0   0.04028        86       640
               Class      Images      Labels           P           R      mAP@.5
                 all         386        1421       0.879       0.763       0.826       0.486

     Epoch   gpu_mem       box       obj       cls     total    labels  img_size
    70/399     4.99G   0.03245  0.008203         0   0.04065        99       640
               Class      Images      Labels           P           R      mAP@.5
                 all         386        1421       0.886       0.781       0.838       0.497

     Epoch   gpu_mem       box       obj       cls     total    labels  img_size
    71/399     4.99G   0.03353  0.007815         0   0.04135        63       640
               Class      Images      Labels           P           R      mAP@.5
                 all         386        1421       0.866       0.773       0.824       0.488

     Epoch   gpu_mem       box       obj       cls     total    labels  img_size
    72/399     4.99G   0.03263  0.007819         0   0.04044        58       640
               Class      Images      Labels           P           R      mAP@.5
                 all         386        1421       0.851        0.79       0.828       0.472

     Epoch   gpu_mem       box       obj       cls     total    labels  img_size
    73/399     4.99G   0.03256  0.008002         0   0.04056        84       640
               Class      Images      Labels           P           R      mAP@.5
                 all         386        1421       0.872       0.783       0.831       0.498

     Epoch   gpu_mem       box       obj       cls     total    labels  img_size
    74/399     4.99G   0.03214  0.008155         0   0.04029        86       640
               Class      Images      Labels           P           R      mAP@.5
                 all         386        1421       0.864        0.78       0.832       0.484

     Epoch   gpu_mem       box       obj       cls     total    labels  img_size
    75/399     4.99G   0.03159  0.008333         0   0.03992        47       640
               Class      Images      Labels           P           R      mAP@.5
                 all         386        1421       0.874       0.771       0.832       0.479

     Epoch   gpu_mem       box       obj       cls     total    labels  img_size
    76/399     4.99G   0.03218  0.007824         0   0.04001        57       640
               Class      Images      Labels           P           R      mAP@.5
                 all         386        1421       0.892       0.787       0.836       0.492

     Epoch   gpu_mem       box       obj       cls     total    labels  img_size
    77/399     4.99G   0.03146   0.00795         0   0.03941        59       640
               Class      Images      Labels           P           R      mAP@.5
                 all         386        1421       0.889       0.797       0.848        0.51

     Epoch   gpu_mem       box       obj       cls     total    labels  img_size
    78/399     4.99G   0.03056  0.007728         0   0.03829        40       640
               Class      Images      Labels           P           R      mAP@.5
                 all         386        1421        0.89        0.78       0.838       0.507

     Epoch   gpu_mem       box       obj       cls     total    labels  img_size
    79/399     4.99G   0.03225  0.007957         0    0.0402        37       640
               Class      Images      Labels           P           R      mAP@.5
                 all         386        1421       0.875       0.802       0.837       0.501

     Epoch   gpu_mem       box       obj       cls     total    labels  img_size
    80/399     4.99G   0.03175  0.007446         0   0.03919        36       640
               Class      Images      Labels           P           R      mAP@.5
                 all         386        1421       0.858       0.797       0.826       0.492

     Epoch   gpu_mem       box       obj       cls     total    labels  img_size
    81/399     4.99G     0.031  0.007582         0   0.03858        28       640
               Class      Images      Labels           P           R      mAP@.5
                 all         386        1421       0.865       0.814       0.847       0.522

     Epoch   gpu_mem       box       obj       cls     total    labels  img_size
    82/399     4.99G   0.03178  0.007489         0   0.03927        38       640
               Class      Images      Labels           P           R      mAP@.5
                 all         386        1421       0.875       0.811       0.842       0.509

     Epoch   gpu_mem       box       obj       cls     total    labels  img_size
    83/399     4.99G   0.03174  0.007686         0   0.03943        66       640
               Class      Images      Labels           P           R      mAP@.5
                 all         386        1421       0.892       0.791       0.846        0.51

     Epoch   gpu_mem       box       obj       cls     total    labels  img_size
    84/399     4.99G   0.03091  0.007669         0   0.03858        78       640
               Class      Images      Labels           P           R      mAP@.5
                 all         386        1421       0.836       0.831       0.851        0.53

     Epoch   gpu_mem       box       obj       cls     total    labels  img_size
    85/399     4.99G   0.03154   0.00803         0   0.03958        48       640
               Class      Images      Labels           P           R      mAP@.5
                 all         386        1421       0.891       0.788       0.847       0.507

     Epoch   gpu_mem       box       obj       cls     total    labels  img_size
    86/399     4.99G   0.03099  0.007488         0   0.03848        61       640
               Class      Images      Labels           P           R      mAP@.5
                 all         386        1421        0.87       0.809       0.852       0.519

     Epoch   gpu_mem       box       obj       cls     total    labels  img_size
    87/399     4.99G   0.03052  0.007381         0   0.03791        66       640
               Class      Images      Labels           P           R      mAP@.5
                 all         386        1421        0.89       0.799       0.854       0.523

     Epoch   gpu_mem       box       obj       cls     total    labels  img_size
    88/399     4.99G   0.03092  0.007843         0   0.03876        69       640
               Class      Images      Labels           P           R      mAP@.5
                 all         386        1421       0.873       0.794       0.848       0.519

     Epoch   gpu_mem       box       obj       cls     total    labels  img_size
    89/399     4.99G   0.03124    0.0079         0   0.03914        39       640
               Class      Images      Labels           P           R      mAP@.5
                 all         386        1421       0.838       0.806       0.837       0.507

     Epoch   gpu_mem       box       obj       cls     total    labels  img_size
    90/399     4.99G   0.03062   0.00775         0   0.03837        56       640
               Class      Images      Labels           P           R      mAP@.5
                 all         386        1421       0.904       0.788       0.855       0.523

     Epoch   gpu_mem       box       obj       cls     total    labels  img_size
    91/399     4.99G     0.031  0.007244         0   0.03824        59       640
               Class      Images      Labels           P           R      mAP@.5
                 all         386        1421       0.884       0.823        0.86       0.512

     Epoch   gpu_mem       box       obj       cls     total    labels  img_size
    92/399     4.99G   0.03067  0.007575         0   0.03825        60       640
               Class      Images      Labels           P           R      mAP@.5
                 all         386        1421       0.876        0.81       0.857        0.53

     Epoch   gpu_mem       box       obj       cls     total    labels  img_size
    93/399     4.99G   0.03047  0.007767         0   0.03824        44       640
               Class      Images      Labels           P           R      mAP@.5
                 all         386        1421       0.849       0.826       0.842       0.529

     Epoch   gpu_mem       box       obj       cls     total    labels  img_size
    94/399     4.99G   0.02949  0.007372         0   0.03686        49       640
               Class      Images      Labels           P           R      mAP@.5
                 all         386        1421       0.893       0.791        0.85       0.536

     Epoch   gpu_mem       box       obj       cls     total    labels  img_size
    95/399     4.99G   0.03025   0.00769         0   0.03794        41       640
               Class      Images      Labels           P           R      mAP@.5
                 all         386        1421       0.869       0.775       0.829       0.499

     Epoch   gpu_mem       box       obj       cls     total    labels  img_size
    96/399     4.99G   0.03078  0.007259         0   0.03804        92       640
               Class      Images      Labels           P           R      mAP@.5
                 all         386        1421        0.89       0.815       0.855       0.529

     Epoch   gpu_mem       box       obj       cls     total    labels  img_size
    97/399     4.99G   0.03109  0.007705         0    0.0388        45       640
               Class      Images      Labels           P           R      mAP@.5
                 all         386        1421       0.877       0.816       0.844       0.525

     Epoch   gpu_mem       box       obj       cls     total    labels  img_size
    98/399     4.99G   0.03003  0.007521         0   0.03755        69       640
               Class      Images      Labels           P           R      mAP@.5
                 all         386        1421       0.885       0.825       0.861       0.537

     Epoch   gpu_mem       box       obj       cls     total    labels  img_size
    99/399     4.99G   0.03033  0.007093         0   0.03742        62       640
               Class      Images      Labels           P           R      mAP@.5
                 all         386        1421       0.896       0.796       0.853       0.536

     Epoch   gpu_mem       box       obj       cls     total    labels  img_size
   100/399     4.99G   0.02962  0.007597         0   0.03722        31       640
               Class      Images      Labels           P           R      mAP@.5
                 all         386        1421       0.899       0.813       0.859       0.548

     Epoch   gpu_mem       box       obj       cls     total    labels  img_size
   101/399     4.99G   0.02947  0.007088         0   0.03656        52       640
               Class      Images      Labels           P           R      mAP@.5
                 all         386        1421       0.886       0.818       0.855       0.549

     Epoch   gpu_mem       box       obj       cls     total    labels  img_size
   102/399     4.99G   0.02922  0.007644         0   0.03686        49       640
               Class      Images      Labels           P           R      mAP@.5
                 all         386        1421       0.915       0.803       0.862       0.551

     Epoch   gpu_mem       box       obj       cls     total    labels  img_size
   103/399     4.99G   0.02927  0.007201         0   0.03647        35       640
               Class      Images      Labels           P           R      mAP@.5
                 all         386        1421       0.897       0.799       0.861       0.552

     Epoch   gpu_mem       box       obj       cls     total    labels  img_size
   104/399     4.99G   0.02921  0.007426         0   0.03664        26       640
               Class      Images      Labels           P           R      mAP@.5
                 all         386        1421       0.894       0.823       0.869       0.554

     Epoch   gpu_mem       box       obj       cls     total    labels  img_size
   105/399     4.99G   0.02899  0.007332         0   0.03633        63       640
               Class      Images      Labels           P           R      mAP@.5
                 all         386        1421       0.887       0.812       0.861       0.544

     Epoch   gpu_mem       box       obj       cls     total    labels  img_size
   106/399     4.99G   0.02973  0.007414         0   0.03715        58       640
               Class      Images      Labels           P           R      mAP@.5
                 all         386        1421       0.906       0.832       0.875       0.565

     Epoch   gpu_mem       box       obj       cls     total    labels  img_size
   107/399     4.99G   0.02806  0.007371         0   0.03543        60       640
               Class      Images      Labels           P           R      mAP@.5
                 all         386        1421       0.923       0.828        0.88       0.575

     Epoch   gpu_mem       box       obj       cls     total    labels  img_size
   108/399     4.99G    0.0288  0.007441         0   0.03625        36       640
               Class      Images      Labels           P           R      mAP@.5
                 all         386        1421       0.903       0.833       0.874       0.562

     Epoch   gpu_mem       box       obj       cls     total    labels  img_size
   109/399     4.99G   0.02892  0.007433         0   0.03635        60       640
               Class      Images      Labels           P           R      mAP@.5
                 all         386        1421       0.913       0.811       0.875       0.565

     Epoch   gpu_mem       box       obj       cls     total    labels  img_size
   110/399     4.99G   0.02824  0.007418         0   0.03566        90       640
               Class      Images      Labels           P           R      mAP@.5
                 all         386        1421       0.893       0.815       0.867       0.566

     Epoch   gpu_mem       box       obj       cls     total    labels  img_size
   111/399     4.99G   0.02805  0.007051         0    0.0351        40       640
               Class      Images      Labels           P           R      mAP@.5
                 all         386        1421       0.908       0.826       0.874       0.569

     Epoch   gpu_mem       box       obj       cls     total    labels  img_size
   112/399     4.99G   0.02856  0.007216         0   0.03578        56       640
               Class      Images      Labels           P           R      mAP@.5
                 all         386        1421       0.913       0.823       0.869       0.574

     Epoch   gpu_mem       box       obj       cls     total    labels  img_size
   113/399     4.99G   0.02863  0.007398         0   0.03603        52       640
               Class      Images      Labels           P           R      mAP@.5
                 all         386        1421        0.86       0.817       0.848       0.549

     Epoch   gpu_mem       box       obj       cls     total    labels  img_size
   114/399     4.99G   0.02871  0.007824         0   0.03653        77       640
               Class      Images      Labels           P           R      mAP@.5
                 all         386        1421       0.886       0.808       0.865       0.562

     Epoch   gpu_mem       box       obj       cls     total    labels  img_size
   115/399     4.99G   0.02847  0.007459         0   0.03592       106       640
               Class      Images      Labels           P           R      mAP@.5
                 all         386        1421       0.879       0.852       0.878       0.571

     Epoch   gpu_mem       box       obj       cls     total    labels  img_size
   116/399     4.99G   0.02863  0.007531         0   0.03616        41       640
               Class      Images      Labels           P           R      mAP@.5
                 all         386        1421       0.881       0.832       0.861       0.561

     Epoch   gpu_mem       box       obj       cls     total    labels  img_size
   117/399     4.99G   0.02809  0.007378         0   0.03547        68       640
               Class      Images      Labels           P           R      mAP@.5
                 all         386        1421       0.897       0.835       0.871        0.58

     Epoch   gpu_mem       box       obj       cls     total    labels  img_size
   118/399     4.99G   0.02747  0.006844         0   0.03431        26       640
               Class      Images      Labels           P           R      mAP@.5
                 all         386        1421       0.895        0.84       0.875       0.579

     Epoch   gpu_mem       box       obj       cls     total    labels  img_size
   119/399     4.99G   0.02795  0.007488         0   0.03543        67       640
               Class      Images      Labels           P           R      mAP@.5
                 all         386        1421       0.903       0.827       0.868        0.58

     Epoch   gpu_mem       box       obj       cls     total    labels  img_size
   120/399     4.99G   0.02782   0.00693         0   0.03475        87       640
               Class      Images      Labels           P           R      mAP@.5
                 all         386        1421       0.905       0.832       0.873       0.578

     Epoch   gpu_mem       box       obj       cls     total    labels  img_size
   121/399     4.99G    0.0277  0.007329         0   0.03503        62       640
               Class      Images      Labels           P           R      mAP@.5
                 all         386        1421       0.924       0.824       0.881        0.58

     Epoch   gpu_mem       box       obj       cls     total    labels  img_size
   122/399     4.99G   0.02709  0.007617         0   0.03471        37       640
               Class      Images      Labels           P           R      mAP@.5
                 all         386        1421       0.926        0.83       0.876       0.571

     Epoch   gpu_mem       box       obj       cls     total    labels  img_size
   123/399     4.99G   0.02688  0.007394         0   0.03427        81       640
               Class      Images      Labels           P           R      mAP@.5
                 all         386        1421       0.917       0.825       0.877       0.584

     Epoch   gpu_mem       box       obj       cls     total    labels  img_size
   124/399     4.99G   0.02689  0.006994         0   0.03389        20       640
               Class      Images      Labels           P           R      mAP@.5
                 all         386        1421       0.898       0.845       0.881       0.586

     Epoch   gpu_mem       box       obj       cls     total    labels  img_size
   125/399     4.99G   0.02739   0.00728         0   0.03467        72       640
               Class      Images      Labels           P           R      mAP@.5
                 all         386        1421       0.918        0.84       0.882       0.591

     Epoch   gpu_mem       box       obj       cls     total    labels  img_size
   126/399     4.99G   0.02777  0.006998         0   0.03476        96       640
               Class      Images      Labels           P           R      mAP@.5
                 all         386        1421       0.916       0.835       0.881       0.588

     Epoch   gpu_mem       box       obj       cls     total    labels  img_size
   127/399     4.99G   0.02667  0.007385         0   0.03406        31       640
               Class      Images      Labels           P           R      mAP@.5
                 all         386        1421       0.919       0.827       0.881        0.59

     Epoch   gpu_mem       box       obj       cls     total    labels  img_size
   128/399     4.99G   0.02671  0.007156         0   0.03387        55       640
               Class      Images      Labels           P           R      mAP@.5
                 all         386        1421       0.924       0.828       0.883       0.592

     Epoch   gpu_mem       box       obj       cls     total    labels  img_size
   129/399     4.99G   0.02644  0.006871         0   0.03331        62       640
               Class      Images      Labels           P           R      mAP@.5
                 all         386        1421       0.906       0.832       0.874       0.589

     Epoch   gpu_mem       box       obj       cls     total    labels  img_size
   130/399     4.99G   0.02708   0.00703         0   0.03411        29       640
               Class      Images      Labels           P           R      mAP@.5
                 all         386        1421       0.912        0.82       0.872       0.579

     Epoch   gpu_mem       box       obj       cls     total    labels  img_size
   131/399     4.99G   0.02646     0.007         0   0.03346        52       640
               Class      Images      Labels           P           R      mAP@.5
                 all         386        1421       0.901       0.842       0.881       0.586

     Epoch   gpu_mem       box       obj       cls     total    labels  img_size
   132/399     4.99G   0.02682  0.007215         0   0.03404        59       640
               Class      Images      Labels           P           R      mAP@.5
                 all         386        1421       0.916       0.845       0.885       0.598

     Epoch   gpu_mem       box       obj       cls     total    labels  img_size
   133/399     4.99G   0.02649  0.006972         0   0.03346        56       640
               Class      Images      Labels           P           R      mAP@.5
                 all         386        1421       0.907        0.85       0.885       0.591

     Epoch   gpu_mem       box       obj       cls     total    labels  img_size
   134/399     4.99G   0.02645   0.00722         0   0.03367        30       640
               Class      Images      Labels           P           R      mAP@.5
                 all         386        1421       0.925       0.846       0.891        0.61

     Epoch   gpu_mem       box       obj       cls     total    labels  img_size
   135/399     4.99G   0.02675  0.006784         0   0.03353        71       640
               Class      Images      Labels           P           R      mAP@.5
                 all         386        1421       0.909       0.847       0.884       0.599

     Epoch   gpu_mem       box       obj       cls     total    labels  img_size
   136/399     4.99G   0.02641  0.006869         0   0.03328        50       640
               Class      Images      Labels           P           R      mAP@.5
                 all         386        1421       0.909       0.846       0.887         0.6

     Epoch   gpu_mem       box       obj       cls     total    labels  img_size
   137/399     4.99G   0.02554  0.007362         0    0.0329        33       640
               Class      Images      Labels           P           R      mAP@.5
                 all         386        1421       0.925       0.845        0.89       0.612

     Epoch   gpu_mem       box       obj       cls     total    labels  img_size
   138/399     4.99G   0.02613  0.006691         0   0.03282        50       640
               Class      Images      Labels           P           R      mAP@.5
                 all         386        1421       0.934       0.833        0.88       0.574

     Epoch   gpu_mem       box       obj       cls     total    labels  img_size
   139/399     4.99G   0.02653  0.006794         0   0.03332        55       640
               Class      Images      Labels           P           R      mAP@.5
                 all         386        1421        0.91       0.842       0.887       0.596

     Epoch   gpu_mem       box       obj       cls     total    labels  img_size
   140/399     4.99G   0.02614  0.007405         0   0.03355        49       640
               Class      Images      Labels           P           R      mAP@.5
                 all         386        1421       0.914       0.833       0.884       0.601

     Epoch   gpu_mem       box       obj       cls     total    labels  img_size
   141/399     4.99G   0.02605  0.006765         0   0.03281        29       640
               Class      Images      Labels           P           R      mAP@.5
                 all         386        1421       0.935       0.814       0.884       0.606

     Epoch   gpu_mem       box       obj       cls     total    labels  img_size
   142/399     4.99G   0.02659  0.006667         0   0.03326        81       640
               Class      Images      Labels           P           R      mAP@.5
                 all         386        1421       0.896        0.85       0.881       0.598

     Epoch   gpu_mem       box       obj       cls     total    labels  img_size
   143/399     4.99G   0.02671  0.006891         0    0.0336        32       640
               Class      Images      Labels           P           R      mAP@.5
                 all         386        1421       0.924       0.836       0.885       0.606

     Epoch   gpu_mem       box       obj       cls     total    labels  img_size
   144/399     4.99G   0.02636  0.006829         0   0.03319        21       640
               Class      Images      Labels           P           R      mAP@.5
                 all         386        1421       0.939       0.828       0.889       0.608

     Epoch   gpu_mem       box       obj       cls     total    labels  img_size
   145/399     4.99G   0.02593  0.006957         0   0.03289        29       640
               Class      Images      Labels           P           R      mAP@.5
                 all         386        1421       0.916       0.832       0.881        0.61

     Epoch   gpu_mem       box       obj       cls     total    labels  img_size
   146/399     4.99G   0.02555  0.006715         0   0.03227        36       640
               Class      Images      Labels           P           R      mAP@.5
                 all         386        1421       0.903       0.856       0.889       0.613

     Epoch   gpu_mem       box       obj       cls     total    labels  img_size
   147/399     4.99G   0.02527  0.006682         0   0.03195        12       640
               Class      Images      Labels           P           R      mAP@.5
                 all         386        1421       0.933       0.837        0.89       0.611

     Epoch   gpu_mem       box       obj       cls     total    labels  img_size
   148/399     4.99G   0.02576  0.007181         0   0.03294        42       640
               Class      Images      Labels           P           R      mAP@.5
                 all         386        1421       0.907       0.839        0.88       0.605

     Epoch   gpu_mem       box       obj       cls     total    labels  img_size
   149/399     4.99G   0.02496  0.006686         0   0.03164        34       640
               Class      Images      Labels           P           R      mAP@.5
                 all         386        1421       0.947       0.828       0.888        0.62

     Epoch   gpu_mem       box       obj       cls     total    labels  img_size
   150/399     4.99G   0.02585  0.006848         0    0.0327        86       640
               Class      Images      Labels           P           R      mAP@.5
                 all         386        1421       0.915       0.861       0.892       0.612

     Epoch   gpu_mem       box       obj       cls     total    labels  img_size
   151/399     4.99G   0.02574  0.006857         0    0.0326        42       640
               Class      Images      Labels           P           R      mAP@.5
                 all         386        1421       0.913       0.844       0.886       0.613

     Epoch   gpu_mem       box       obj       cls     total    labels  img_size
   152/399     4.99G   0.02517  0.006677         0   0.03185        44       640
               Class      Images      Labels           P           R      mAP@.5
                 all         386        1421       0.933       0.857       0.899       0.625

     Epoch   gpu_mem       box       obj       cls     total    labels  img_size
   153/399     4.99G    0.0249  0.006971         0   0.03187        54       640
               Class      Images      Labels           P           R      mAP@.5
                 all         386        1421       0.939       0.856       0.898       0.634

     Epoch   gpu_mem       box       obj       cls     total    labels  img_size
   154/399     4.99G   0.02514  0.006972         0   0.03211        45       640
               Class      Images      Labels           P           R      mAP@.5
                 all         386        1421       0.919       0.859       0.895       0.634

     Epoch   gpu_mem       box       obj       cls     total    labels  img_size
   155/399     4.99G   0.02426  0.006536         0   0.03079        64       640
               Class      Images      Labels           P           R      mAP@.5
                 all         386        1421        0.94       0.845       0.897        0.64

     Epoch   gpu_mem       box       obj       cls     total    labels  img_size
   156/399     4.99G   0.02548  0.006439         0   0.03192        47       640
               Class      Images      Labels           P           R      mAP@.5
                 all         386        1421       0.925       0.842       0.895       0.627

     Epoch   gpu_mem       box       obj       cls     total    labels  img_size
   157/399     4.99G   0.02464  0.006722         0   0.03136        50       640
               Class      Images      Labels           P           R      mAP@.5
                 all         386        1421       0.908       0.844       0.887       0.619

     Epoch   gpu_mem       box       obj       cls     total    labels  img_size
   158/399     4.99G   0.02506  0.006892         0   0.03195        56       640
               Class      Images      Labels           P           R      mAP@.5
                 all         386        1421       0.912       0.866       0.897       0.634

     Epoch   gpu_mem       box       obj       cls     total    labels  img_size
   159/399     4.99G   0.02438  0.006624         0     0.031        61       640
               Class      Images      Labels           P           R      mAP@.5
                 all         386        1421       0.929       0.869       0.904        0.64

     Epoch   gpu_mem       box       obj       cls     total    labels  img_size
   160/399     4.99G   0.02524  0.006738         0   0.03198        79       640
               Class      Images      Labels           P           R      mAP@.5
                 all         386        1421       0.947       0.855         0.9       0.638

     Epoch   gpu_mem       box       obj       cls     total    labels  img_size
   161/399     4.99G   0.02508  0.006743         0   0.03182        82       640
               Class      Images      Labels           P           R      mAP@.5
                 all         386        1421       0.928       0.851       0.891        0.63

     Epoch   gpu_mem       box       obj       cls     total    labels  img_size
   162/399     4.99G    0.0247  0.006571         0   0.03127        11       640
               Class      Images      Labels           P           R      mAP@.5
                 all         386        1421       0.941       0.849       0.899       0.643

     Epoch   gpu_mem       box       obj       cls     total    labels  img_size
   163/399     4.99G    0.0247  0.006735         0   0.03143        12       640
               Class      Images      Labels           P           R      mAP@.5
                 all         386        1421       0.937       0.852       0.899       0.645

     Epoch   gpu_mem       box       obj       cls     total    labels  img_size
   164/399     4.99G   0.02415  0.006828         0   0.03098        70       640
               Class      Images      Labels           P           R      mAP@.5
                 all         386        1421       0.934       0.852       0.899       0.645

     Epoch   gpu_mem       box       obj       cls     total    labels  img_size
   165/399     4.99G   0.02426  0.006602         0   0.03086        56       640
               Class      Images      Labels           P           R      mAP@.5
                 all         386        1421        0.93       0.845       0.898       0.642

     Epoch   gpu_mem       box       obj       cls     total    labels  img_size
   166/399     4.99G   0.02418  0.006458         0   0.03063        39       640
               Class      Images      Labels           P           R      mAP@.5
                 all         386        1421       0.922       0.854       0.894       0.641

     Epoch   gpu_mem       box       obj       cls     total    labels  img_size
   167/399     4.99G    0.0243  0.006611         0   0.03091        49       640
               Class      Images      Labels           P           R      mAP@.5
                 all         386        1421       0.923       0.862       0.896       0.649

     Epoch   gpu_mem       box       obj       cls     total    labels  img_size
   168/399     4.99G   0.02351   0.00676         0   0.03027        85       640
               Class      Images      Labels           P           R      mAP@.5
                 all         386        1421       0.932       0.853       0.892       0.647

     Epoch   gpu_mem       box       obj       cls     total    labels  img_size
   169/399     4.99G   0.02394  0.006736         0   0.03068        41       640
               Class      Images      Labels           P           R      mAP@.5
                 all         386        1421       0.944       0.845       0.891       0.644

     Epoch   gpu_mem       box       obj       cls     total    labels  img_size
   170/399     4.99G   0.02427  0.006428         0    0.0307        46       640
               Class      Images      Labels           P           R      mAP@.5
                 all         386        1421       0.944       0.848       0.898       0.646

     Epoch   gpu_mem       box       obj       cls     total    labels  img_size
   171/399     4.99G   0.02397  0.006716         0   0.03068        45       640
               Class      Images      Labels           P           R      mAP@.5
                 all         386        1421       0.943       0.846       0.897       0.651

     Epoch   gpu_mem       box       obj       cls     total    labels  img_size
   172/399     4.99G   0.02396  0.006783         0   0.03074        55       640
               Class      Images      Labels           P           R      mAP@.5
                 all         386        1421       0.935       0.854       0.902       0.652

     Epoch   gpu_mem       box       obj       cls     total    labels  img_size
   173/399     4.99G   0.02412  0.006493         0   0.03061        23       640
               Class      Images      Labels           P           R      mAP@.5
                 all         386        1421       0.941       0.859         0.9       0.654

     Epoch   gpu_mem       box       obj       cls     total    labels  img_size
   174/399     4.99G   0.02414  0.006576         0   0.03072        68       640
               Class      Images      Labels           P           R      mAP@.5
                 all         386        1421       0.927       0.857       0.899        0.66

     Epoch   gpu_mem       box       obj       cls     total    labels  img_size
   175/399     4.99G   0.02375  0.006429         0   0.03018        63       640
               Class      Images      Labels           P           R      mAP@.5
                 all         386        1421       0.945       0.852         0.9       0.652

     Epoch   gpu_mem       box       obj       cls     total    labels  img_size
   176/399     4.99G   0.02407   0.00673         0    0.0308        43       640
               Class      Images      Labels           P           R      mAP@.5
                 all         386        1421       0.933       0.852       0.893       0.651

     Epoch   gpu_mem       box       obj       cls     total    labels  img_size
   177/399     4.99G   0.02347  0.006924         0   0.03039        23       640
               Class      Images      Labels           P           R      mAP@.5
                 all         386        1421       0.954       0.837       0.898        0.65

     Epoch   gpu_mem       box       obj       cls     total    labels  img_size
   178/399     4.99G   0.02398  0.006627         0    0.0306        61       640
               Class      Images      Labels           P           R      mAP@.5
                 all         386        1421       0.941       0.847       0.903       0.653

     Epoch   gpu_mem       box       obj       cls     total    labels  img_size
   179/399     4.99G   0.02305  0.006532         0   0.02959        73       640
               Class      Images      Labels           P           R      mAP@.5
                 all         386        1421       0.952       0.856       0.909       0.663

     Epoch   gpu_mem       box       obj       cls     total    labels  img_size
   180/399     4.99G   0.02288  0.006634         0   0.02951        21       640
               Class      Images      Labels           P           R      mAP@.5
                 all         386        1421       0.958       0.861       0.904       0.661

     Epoch   gpu_mem       box       obj       cls     total    labels  img_size
   181/399     4.99G   0.02333  0.006624         0   0.02995        65       640
               Class      Images      Labels           P           R      mAP@.5
                 all         386        1421       0.966        0.85       0.907       0.666

     Epoch   gpu_mem       box       obj       cls     total    labels  img_size
   182/399     4.99G    0.0231  0.006883         0   0.02998        29       640
               Class      Images      Labels           P           R      mAP@.5
                 all         386        1421       0.939        0.86       0.906        0.66

     Epoch   gpu_mem       box       obj       cls     total    labels  img_size
   183/399     4.99G   0.02297  0.006545         0   0.02952        57       640
               Class      Images      Labels           P           R      mAP@.5
                 all         386        1421       0.935       0.855       0.904        0.67

     Epoch   gpu_mem       box       obj       cls     total    labels  img_size
   184/399     4.99G   0.02241  0.006685         0   0.02909        90       640
               Class      Images      Labels           P           R      mAP@.5
                 all         386        1421       0.951       0.845       0.902       0.665

     Epoch   gpu_mem       box       obj       cls     total    labels  img_size
   185/399     4.99G   0.02385   0.00676         0   0.03061        33       640
               Class      Images      Labels           P           R      mAP@.5
                 all         386        1421       0.954       0.856       0.904       0.667

     Epoch   gpu_mem       box       obj       cls     total    labels  img_size
   186/399     4.99G   0.02295  0.006233         0   0.02919        17       640
               Class      Images      Labels           P           R      mAP@.5
                 all         386        1421       0.954       0.856       0.907       0.667

     Epoch   gpu_mem       box       obj       cls     total    labels  img_size
   187/399     4.99G   0.02267  0.006404         0   0.02907        12       640
               Class      Images      Labels           P           R      mAP@.5
                 all         386        1421       0.935       0.877        0.91       0.677

     Epoch   gpu_mem       box       obj       cls     total    labels  img_size
   188/399     4.99G   0.02254  0.006481         0   0.02902        52       640
               Class      Images      Labels           P           R      mAP@.5
                 all         386        1421       0.956       0.854       0.907       0.667

     Epoch   gpu_mem       box       obj       cls     total    labels  img_size
   189/399     4.99G   0.02192  0.006182         0    0.0281        42       640
               Class      Images      Labels           P           R      mAP@.5
                 all         386        1421       0.964       0.851       0.907       0.672

     Epoch   gpu_mem       box       obj       cls     total    labels  img_size
   190/399     4.99G   0.02275  0.006876         0   0.02962        38       640
               Class      Images      Labels           P           R      mAP@.5
                 all         386        1421        0.95       0.852       0.906       0.675

     Epoch   gpu_mem       box       obj       cls     total    labels  img_size
   191/399     4.99G   0.02206   0.00644         0    0.0285        62       640
               Class      Images      Labels           P           R      mAP@.5
                 all         386        1421       0.948       0.862       0.908       0.683

     Epoch   gpu_mem       box       obj       cls     total    labels  img_size
   192/399     4.99G   0.02132  0.006124         0   0.02744        90       640
               Class      Images      Labels           P           R      mAP@.5
                 all         386        1421       0.962       0.846       0.906       0.684

     Epoch   gpu_mem       box       obj       cls     total    labels  img_size
   193/399     4.99G    0.0221  0.006741         0   0.02884        41       640
               Class      Images      Labels           P           R      mAP@.5
                 all         386        1421       0.962       0.865       0.911       0.685

     Epoch   gpu_mem       box       obj       cls     total    labels  img_size
   194/399     4.99G   0.02196  0.006317         0   0.02828        91       640
               Class      Images      Labels           P           R      mAP@.5
                 all         386        1421       0.952       0.857       0.908       0.681

     Epoch   gpu_mem       box       obj       cls     total    labels  img_size
   195/399     4.99G   0.02202   0.00605         0   0.02807        37       640
               Class      Images      Labels           P           R      mAP@.5
                 all         386        1421       0.976       0.852        0.91       0.681

     Epoch   gpu_mem       box       obj       cls     total    labels  img_size
   196/399     4.99G   0.02253  0.006478         0   0.02901        50       640
               Class      Images      Labels           P           R      mAP@.5
                 all         386        1421       0.957       0.868       0.913       0.681

     Epoch   gpu_mem       box       obj       cls     total    labels  img_size
   197/399     4.99G   0.02212  0.006268         0   0.02838        69       640
               Class      Images      Labels           P           R      mAP@.5
                 all         386        1421       0.953       0.863       0.909       0.679

     Epoch   gpu_mem       box       obj       cls     total    labels  img_size
   198/399     4.99G   0.02229  0.006455         0   0.02875        48       640
               Class      Images      Labels           P           R      mAP@.5
                 all         386        1421       0.948       0.873       0.911       0.675

     Epoch   gpu_mem       box       obj       cls     total    labels  img_size
   199/399     4.99G   0.02173  0.006002         0   0.02773        30       640
               Class      Images      Labels           P           R      mAP@.5
                 all         386        1421       0.962       0.854       0.909       0.678

     Epoch   gpu_mem       box       obj       cls     total    labels  img_size
   200/399     4.99G   0.02231  0.006469         0   0.02877        66       640
               Class      Images      Labels           P           R      mAP@.5
                 all         386        1421       0.953       0.865        0.91       0.679

     Epoch   gpu_mem       box       obj       cls     total    labels  img_size
   201/399     4.99G   0.02184   0.00632         0   0.02816        50       640
               Class      Images      Labels           P           R      mAP@.5
                 all         386        1421       0.951       0.874       0.913       0.681

     Epoch   gpu_mem       box       obj       cls     total    labels  img_size
   202/399     4.99G   0.02207  0.006372         0   0.02845        28       640
               Class      Images      Labels           P           R      mAP@.5
                 all         386        1421       0.958       0.863       0.914       0.684

     Epoch   gpu_mem       box       obj       cls     total    labels  img_size
   203/399     4.99G   0.02164  0.006223         0   0.02787        27       640
               Class      Images      Labels           P           R      mAP@.5
                 all         386        1421       0.959        0.86       0.908       0.683

     Epoch   gpu_mem       box       obj       cls     total    labels  img_size
   204/399     4.99G   0.02114   0.00649         0   0.02763        26       640
               Class      Images      Labels           P           R      mAP@.5
                 all         386        1421       0.969       0.863       0.914       0.692

     Epoch   gpu_mem       box       obj       cls     total    labels  img_size
   205/399     4.99G   0.02164  0.006278         0   0.02792        78       640
               Class      Images      Labels           P           R      mAP@.5
                 all         386        1421       0.971       0.856       0.913       0.688

     Epoch   gpu_mem       box       obj       cls     total    labels  img_size
   206/399     4.99G   0.02118  0.006198         0   0.02738        87       640
               Class      Images      Labels           P           R      mAP@.5
                 all         386        1421       0.971       0.868       0.914       0.688

     Epoch   gpu_mem       box       obj       cls     total    labels  img_size
   207/399     4.99G   0.02153   0.00646         0   0.02799        69       640
               Class      Images      Labels           P           R      mAP@.5
                 all         386        1421        0.96        0.87       0.915       0.695

     Epoch   gpu_mem       box       obj       cls     total    labels  img_size
   208/399     4.99G   0.02154   0.00578         0   0.02732       111       640
               Class      Images      Labels           P           R      mAP@.5
                 all         386        1421       0.973       0.865       0.917       0.692

     Epoch   gpu_mem       box       obj       cls     total    labels  img_size
   209/399     4.99G   0.02104  0.006274         0   0.02731        71       640
               Class      Images      Labels           P           R      mAP@.5
                 all         386        1421       0.963       0.862       0.914         0.7

     Epoch   gpu_mem       box       obj       cls     total    labels  img_size
   210/399     4.99G   0.02078  0.006167         0   0.02694        66       640
               Class      Images      Labels           P           R      mAP@.5
                 all         386        1421       0.957       0.869       0.915       0.698

     Epoch   gpu_mem       box       obj       cls     total    labels  img_size
   211/399     4.99G   0.02091  0.006122         0   0.02703        54       640
               Class      Images      Labels           P           R      mAP@.5
                 all         386        1421       0.969       0.872       0.921       0.699

     Epoch   gpu_mem       box       obj       cls     total    labels  img_size
   212/399     4.99G   0.02034   0.00566         0     0.026        92       640
               Class      Images      Labels           P           R      mAP@.5
                 all         386        1421       0.952       0.885       0.917         0.7

     Epoch   gpu_mem       box       obj       cls     total    labels  img_size
   213/399     4.99G   0.02154   0.00657         0   0.02811        58       640
               Class      Images      Labels           P           R      mAP@.5
                 all         386        1421       0.955        0.88       0.915       0.706

     Epoch   gpu_mem       box       obj       cls     total    labels  img_size
   214/399     4.99G   0.02055  0.006207         0   0.02676        98       640
               Class      Images      Labels           P           R      mAP@.5
                 all         386        1421       0.963       0.868       0.916       0.707

     Epoch   gpu_mem       box       obj       cls     total    labels  img_size
   215/399     4.99G   0.02121  0.006004         0   0.02721        56       640
               Class      Images      Labels           P           R      mAP@.5
                 all         386        1421       0.961       0.861       0.912       0.704

     Epoch   gpu_mem       box       obj       cls     total    labels  img_size
   216/399     4.99G   0.02129  0.006007         0    0.0273        62       640
               Class      Images      Labels           P           R      mAP@.5
                 all         386        1421        0.95       0.877       0.915       0.706

     Epoch   gpu_mem       box       obj       cls     total    labels  img_size
   217/399     4.99G   0.02091  0.006104         0   0.02701        81       640
               Class      Images      Labels           P           R      mAP@.5
                 all         386        1421       0.955        0.87       0.915       0.705

     Epoch   gpu_mem       box       obj       cls     total    labels  img_size
   218/399     4.99G   0.01986  0.006175         0   0.02604        86       640
               Class      Images      Labels           P           R      mAP@.5
                 all         386        1421       0.961       0.878       0.919       0.712

     Epoch   gpu_mem       box       obj       cls     total    labels  img_size
   219/399     4.99G   0.02037    0.0063         0   0.02666        72       640
               Class      Images      Labels           P           R      mAP@.5
                 all         386        1421        0.97       0.875       0.922       0.712

     Epoch   gpu_mem       box       obj       cls     total    labels  img_size
   220/399     4.99G   0.02092  0.005908         0   0.02683        68       640
               Class      Images      Labels           P           R      mAP@.5
                 all         386        1421        0.96       0.874       0.917       0.718

     Epoch   gpu_mem       box       obj       cls     total    labels  img_size
   221/399     4.99G   0.02039  0.006069         0   0.02646        23       640
               Class      Images      Labels           P           R      mAP@.5
                 all         386        1421       0.969       0.874       0.921       0.715

     Epoch   gpu_mem       box       obj       cls     total    labels  img_size
   222/399     4.99G   0.02054  0.005661         0    0.0262        29       640
               Class      Images      Labels           P           R      mAP@.5
                 all         386        1421       0.952       0.875       0.918       0.711

     Epoch   gpu_mem       box       obj       cls     total    labels  img_size
   223/399     4.99G   0.01979  0.005866         0   0.02565        54       640
               Class      Images      Labels           P           R      mAP@.5
                 all         386        1421       0.965       0.862       0.914       0.714

     Epoch   gpu_mem       box       obj       cls     total    labels  img_size
   224/399     4.99G   0.02033  0.005996         0   0.02632        82       640
               Class      Images      Labels           P           R      mAP@.5
                 all         386        1421       0.972        0.85       0.912       0.707

     Epoch   gpu_mem       box       obj       cls     total    labels  img_size
   225/399     4.99G      0.02   0.00589         0   0.02589        54       640
               Class      Images      Labels           P           R      mAP@.5
                 all         386        1421       0.969       0.868       0.916       0.712

     Epoch   gpu_mem       box       obj       cls     total    labels  img_size
   226/399     4.99G   0.02037  0.006357         0   0.02673        71       640
               Class      Images      Labels           P           R      mAP@.5
                 all         386        1421       0.978       0.863       0.923       0.717

     Epoch   gpu_mem       box       obj       cls     total    labels  img_size
   227/399     4.99G   0.02011  0.006008         0   0.02612       106       640
               Class      Images      Labels           P           R      mAP@.5
                 all         386        1421       0.972       0.863        0.92       0.718

     Epoch   gpu_mem       box       obj       cls     total    labels  img_size
   228/399     4.99G   0.02035  0.006133         0   0.02648        61       640
               Class      Images      Labels           P           R      mAP@.5
                 all         386        1421       0.976       0.853       0.917       0.716

     Epoch   gpu_mem       box       obj       cls     total    labels  img_size
   229/399     4.99G   0.01989   0.00586         0   0.02575        36       640
               Class      Images      Labels           P           R      mAP@.5
                 all         386        1421       0.977       0.857       0.917       0.713

     Epoch   gpu_mem       box       obj       cls     total    labels  img_size
   230/399     4.99G   0.01985  0.005848         0    0.0257        40       640
               Class      Images      Labels           P           R      mAP@.5
                 all         386        1421       0.952        0.88       0.918       0.718

     Epoch   gpu_mem       box       obj       cls     total    labels  img_size
   231/399     4.99G   0.01944  0.005944         0   0.02538        54       640
               Class      Images      Labels           P           R      mAP@.5
                 all         386        1421       0.971       0.864       0.919       0.716

     Epoch   gpu_mem       box       obj       cls     total    labels  img_size
   232/399     4.99G   0.01983   0.00581         0   0.02564        60       640
               Class      Images      Labels           P           R      mAP@.5
                 all         386        1421       0.974       0.863       0.919       0.721

     Epoch   gpu_mem       box       obj       cls     total    labels  img_size
   233/399     4.99G   0.01988  0.005919         0   0.02579        96       640
               Class      Images      Labels           P           R      mAP@.5
                 all         386        1421       0.955       0.883       0.921       0.724

     Epoch   gpu_mem       box       obj       cls     total    labels  img_size
   234/399     4.99G   0.01987  0.005565         0   0.02544        45       640
               Class      Images      Labels           P           R      mAP@.5
                 all         386        1421       0.968       0.865       0.918       0.722

     Epoch   gpu_mem       box       obj       cls     total    labels  img_size
   235/399     4.99G   0.02007  0.005901         0   0.02597        44       640
               Class      Images      Labels           P           R      mAP@.5
                 all         386        1421       0.958       0.871        0.92       0.725

     Epoch   gpu_mem       box       obj       cls     total    labels  img_size
   236/399     4.99G   0.01961  0.006099         0   0.02571        64       640
               Class      Images      Labels           P           R      mAP@.5
                 all         386        1421       0.964       0.878       0.921       0.723

     Epoch   gpu_mem       box       obj       cls     total    labels  img_size
   237/399     4.99G   0.02042   0.00613         0   0.02655        31       640
               Class      Images      Labels           P           R      mAP@.5
                 all         386        1421       0.961       0.873       0.923        0.72

     Epoch   gpu_mem       box       obj       cls     total    labels  img_size
   238/399     4.99G   0.02014  0.005829         0   0.02597        44       640
               Class      Images      Labels           P           R      mAP@.5
                 all         386        1421       0.965       0.868        0.92       0.719

     Epoch   gpu_mem       box       obj       cls     total    labels  img_size
   239/399     4.99G   0.01922  0.005992         0   0.02521        48       640
               Class      Images      Labels           P           R      mAP@.5
                 all         386        1421       0.968       0.871       0.921       0.726

     Epoch   gpu_mem       box       obj       cls     total    labels  img_size
   240/399     4.99G   0.01999  0.006119         0   0.02611        76       640
               Class      Images      Labels           P           R      mAP@.5
                 all         386        1421       0.961       0.873        0.92       0.725

     Epoch   gpu_mem       box       obj       cls     total    labels  img_size
   241/399     4.99G    0.0198  0.006004         0    0.0258        51       640
               Class      Images      Labels           P           R      mAP@.5
                 all         386        1421       0.971       0.863        0.92       0.728

     Epoch   gpu_mem       box       obj       cls     total    labels  img_size
   242/399     4.99G   0.01963  0.005891         0   0.02552        74       640
               Class      Images      Labels           P           R      mAP@.5
                 all         386        1421       0.969       0.862       0.919        0.73

     Epoch   gpu_mem       box       obj       cls     total    labels  img_size
   243/399     4.99G   0.01941  0.005697         0    0.0251        55       640
               Class      Images      Labels           P           R      mAP@.5
                 all         386        1421       0.965       0.866       0.921       0.731

     Epoch   gpu_mem       box       obj       cls     total    labels  img_size
   244/399     4.99G    0.0197  0.005871         0   0.02557         4       640
               Class      Images      Labels           P           R      mAP@.5
                 all         386        1421       0.976       0.863       0.919       0.736

     Epoch   gpu_mem       box       obj       cls     total    labels  img_size
   245/399     4.99G   0.01911  0.005509         0   0.02462        60       640
               Class      Images      Labels           P           R      mAP@.5
                 all         386        1421       0.972        0.87       0.921       0.735

     Epoch   gpu_mem       box       obj       cls     total    labels  img_size
   246/399     4.99G   0.01923  0.005896         0   0.02513        52       640
               Class      Images      Labels           P           R      mAP@.5
                 all         386        1421       0.976        0.87       0.924       0.734

     Epoch   gpu_mem       box       obj       cls     total    labels  img_size
   247/399     4.99G    0.0199  0.006159         0   0.02606        52       640
               Class      Images      Labels           P           R      mAP@.5
                 all         386        1421       0.962       0.884       0.919       0.726

     Epoch   gpu_mem       box       obj       cls     total    labels  img_size
   248/399     4.99G   0.01903  0.005785         0   0.02482        30       640
               Class      Images      Labels           P           R      mAP@.5
                 all         386        1421       0.959       0.887       0.921       0.731

     Epoch   gpu_mem       box       obj       cls     total    labels  img_size
   249/399     4.99G   0.01869  0.005696         0   0.02438        63       640
               Class      Images      Labels           P           R      mAP@.5
                 all         386        1421       0.961        0.88       0.924       0.733

     Epoch   gpu_mem       box       obj       cls     total    labels  img_size
   250/399     4.99G   0.01893  0.006204         0   0.02513        23       640
               Class      Images      Labels           P           R      mAP@.5
                 all         386        1421        0.97       0.873       0.922       0.737

     Epoch   gpu_mem       box       obj       cls     total    labels  img_size
   251/399     4.99G    0.0189  0.005906         0    0.0248        42       640
               Class      Images      Labels           P           R      mAP@.5
                 all         386        1421       0.975       0.871       0.923        0.74

     Epoch   gpu_mem       box       obj       cls     total    labels  img_size
   252/399     4.99G   0.01884  0.005655         0    0.0245        18       640
               Class      Images      Labels           P           R      mAP@.5
                 all         386        1421       0.957       0.887       0.922       0.737

     Epoch   gpu_mem       box       obj       cls     total    labels  img_size
   253/399     4.99G   0.01827  0.005591         0   0.02386        58       640
               Class      Images      Labels           P           R      mAP@.5
                 all         386        1421       0.965       0.882       0.921       0.736

     Epoch   gpu_mem       box       obj       cls     total    labels  img_size
   254/399     4.99G   0.01878   0.00557         0   0.02435        28       640
               Class      Images      Labels           P           R      mAP@.5
                 all         386        1421       0.962       0.887       0.921       0.734

     Epoch   gpu_mem       box       obj       cls     total    labels  img_size
   255/399     4.99G   0.01903   0.00589         0   0.02492        26       640
               Class      Images      Labels           P           R      mAP@.5
                 all         386        1421       0.957       0.885       0.922       0.739

     Epoch   gpu_mem       box       obj       cls     total    labels  img_size
   256/399     4.99G   0.01837  0.005851         0   0.02422        92       640
               Class      Images      Labels           P           R      mAP@.5
                 all         386        1421       0.962       0.887       0.925       0.742

     Epoch   gpu_mem       box       obj       cls     total    labels  img_size
   257/399     4.99G   0.01872  0.005788         0   0.02451        64       640
               Class      Images      Labels           P           R      mAP@.5
                 all         386        1421       0.957        0.89       0.922       0.745

     Epoch   gpu_mem       box       obj       cls     total    labels  img_size
   258/399     4.99G   0.01853  0.005674         0    0.0242        18       640
               Class      Images      Labels           P           R      mAP@.5
                 all         386        1421       0.976       0.874       0.924       0.748

     Epoch   gpu_mem       box       obj       cls     total    labels  img_size
   259/399     4.99G   0.01787  0.005746         0   0.02361        62       640
               Class      Images      Labels           P           R      mAP@.5
                 all         386        1421       0.981       0.868       0.924        0.75

     Epoch   gpu_mem       box       obj       cls     total    labels  img_size
   260/399     4.99G   0.01809  0.005527         0   0.02362        41       640
               Class      Images      Labels           P           R      mAP@.5
                 all         386        1421       0.963        0.89       0.925       0.748

     Epoch   gpu_mem       box       obj       cls     total    labels  img_size
   261/399     4.99G   0.01829  0.006147         0   0.02444        92       640
               Class      Images      Labels           P           R      mAP@.5
                 all         386        1421       0.966       0.885       0.926       0.745

     Epoch   gpu_mem       box       obj       cls     total    labels  img_size
   262/399     4.99G   0.01854  0.005603         0   0.02415        54       640
               Class      Images      Labels           P           R      mAP@.5
                 all         386        1421       0.969       0.883       0.927       0.753

     Epoch   gpu_mem       box       obj       cls     total    labels  img_size
   263/399     4.99G   0.01788  0.005472         0   0.02335        38       640
               Class      Images      Labels           P           R      mAP@.5
                 all         386        1421       0.979       0.876       0.929       0.751

     Epoch   gpu_mem       box       obj       cls     total    labels  img_size
   264/399     4.99G   0.01853  0.005401         0   0.02393        22       640
               Class      Images      Labels           P           R      mAP@.5
                 all         386        1421       0.978       0.876       0.927       0.747

     Epoch   gpu_mem       box       obj       cls     total    labels  img_size
   265/399     4.99G   0.01781  0.005418         0   0.02323        43       640
               Class      Images      Labels           P           R      mAP@.5
                 all         386        1421       0.974       0.886       0.927       0.754

     Epoch   gpu_mem       box       obj       cls     total    labels  img_size
   266/399     4.99G   0.01747  0.005539         0   0.02301        55       640
               Class      Images      Labels           P           R      mAP@.5
                 all         386        1421       0.977       0.885       0.926       0.755

     Epoch   gpu_mem       box       obj       cls     total    labels  img_size
   267/399     4.99G   0.01831  0.005473         0   0.02379        35       640
               Class      Images      Labels           P           R      mAP@.5
                 all         386        1421       0.987       0.878       0.923       0.747

     Epoch   gpu_mem       box       obj       cls     total    labels  img_size
   268/399     4.99G   0.01855  0.005721         0   0.02427        86       640
               Class      Images      Labels           P           R      mAP@.5
                 all         386        1421       0.974       0.881       0.923       0.747

     Epoch   gpu_mem       box       obj       cls     total    labels  img_size
   269/399     4.99G   0.01822  0.005822         0   0.02404        68       640
               Class      Images      Labels           P           R      mAP@.5
                 all         386        1421       0.975       0.883       0.924       0.746

     Epoch   gpu_mem       box       obj       cls     total    labels  img_size
   270/399     4.99G   0.01824  0.005735         0   0.02397        62       640
               Class      Images      Labels           P           R      mAP@.5
                 all         386        1421       0.975       0.886       0.927       0.752

     Epoch   gpu_mem       box       obj       cls     total    labels  img_size
   271/399     4.99G    0.0181  0.005872         0   0.02397        31       640
               Class      Images      Labels           P           R      mAP@.5
                 all         386        1421       0.981       0.876       0.927       0.757

     Epoch   gpu_mem       box       obj       cls     total    labels  img_size
   272/399     4.99G    0.0177  0.005893         0    0.0236        29       640
               Class      Images      Labels           P           R      mAP@.5
                 all         386        1421       0.976       0.881       0.924       0.753

     Epoch   gpu_mem       box       obj       cls     total    labels  img_size
   273/399     4.99G   0.01827  0.005657         0   0.02393        78       640
               Class      Images      Labels           P           R      mAP@.5
                 all         386        1421       0.971       0.882       0.925       0.752

     Epoch   gpu_mem       box       obj       cls     total    labels  img_size
   274/399     4.99G   0.01776  0.005748         0   0.02351        58       640
               Class      Images      Labels           P           R      mAP@.5
                 all         386        1421       0.943       0.904       0.922       0.756

     Epoch   gpu_mem       box       obj       cls     total    labels  img_size
   275/399     4.99G   0.01741  0.005451         0   0.02286        54       640
               Class      Images      Labels           P           R      mAP@.5
                 all         386        1421       0.958        0.89       0.926       0.759

     Epoch   gpu_mem       box       obj       cls     total    labels  img_size
   276/399     4.99G   0.01752  0.005555         0   0.02308        47       640
               Class      Images      Labels           P           R      mAP@.5
                 all         386        1421       0.957       0.895       0.925       0.761

     Epoch   gpu_mem       box       obj       cls     total    labels  img_size
   277/399     4.99G   0.01806   0.00541         0   0.02347        63       640
               Class      Images      Labels           P           R      mAP@.5
                 all         386        1421       0.961        0.89       0.926       0.764

     Epoch   gpu_mem       box       obj       cls     total    labels  img_size
   278/399     4.99G   0.01766  0.005535         0    0.0232        93       640
               Class      Images      Labels           P           R      mAP@.5
                 all         386        1421       0.971       0.887       0.924       0.757

     Epoch   gpu_mem       box       obj       cls     total    labels  img_size
   279/399     4.99G   0.01806  0.005721         0   0.02378        37       640
               Class      Images      Labels           P           R      mAP@.5
                 all         386        1421       0.968       0.887       0.922       0.758

     Epoch   gpu_mem       box       obj       cls     total    labels  img_size
   280/399     4.99G   0.01752  0.005373         0   0.02289        51       640
               Class      Images      Labels           P           R      mAP@.5
                 all         386        1421       0.973        0.88       0.925       0.763

     Epoch   gpu_mem       box       obj       cls     total    labels  img_size
   281/399     4.99G   0.01783  0.005454         0   0.02328        85       640
               Class      Images      Labels           P           R      mAP@.5
                 all         386        1421       0.979       0.881       0.925       0.764

     Epoch   gpu_mem       box       obj       cls     total    labels  img_size
   282/399     4.99G    0.0174  0.005191         0   0.02259        55       640
               Class      Images      Labels           P           R      mAP@.5
                 all         386        1421       0.972       0.884       0.925        0.76

     Epoch   gpu_mem       box       obj       cls     total    labels  img_size
   283/399     4.99G   0.01808  0.005841         0   0.02392        90       640
               Class      Images      Labels           P           R      mAP@.5
                 all         386        1421       0.974       0.886       0.926       0.763

     Epoch   gpu_mem       box       obj       cls     total    labels  img_size
   284/399     4.99G   0.01714  0.005791         0   0.02293        25       640
               Class      Images      Labels           P           R      mAP@.5
                 all         386        1421        0.98       0.885       0.927       0.761

     Epoch   gpu_mem       box       obj       cls     total    labels  img_size
   285/399     4.99G   0.01687  0.005461         0   0.02233        30       640
               Class      Images      Labels           P           R      mAP@.5
                 all         386        1421       0.975       0.888       0.927       0.763

     Epoch   gpu_mem       box       obj       cls     total    labels  img_size
   286/399     4.99G    0.0173   0.00528         0   0.02258        67       640
               Class      Images      Labels           P           R      mAP@.5
                 all         386        1421       0.971       0.886       0.926       0.767

     Epoch   gpu_mem       box       obj       cls     total    labels  img_size
   287/399     4.99G   0.01735  0.005319         0   0.02267        22       640
               Class      Images      Labels           P           R      mAP@.5
                 all         386        1421       0.983       0.879       0.926       0.763

     Epoch   gpu_mem       box       obj       cls     total    labels  img_size
   288/399     4.99G   0.01716  0.005646         0    0.0228        39       640
               Class      Images      Labels           P           R      mAP@.5
                 all         386        1421       0.974       0.885       0.924       0.762

     Epoch   gpu_mem       box       obj       cls     total    labels  img_size
   289/399     4.99G   0.01753  0.005457         0   0.02299        40       640
               Class      Images      Labels           P           R      mAP@.5
                 all         386        1421       0.972       0.891       0.924       0.769

     Epoch   gpu_mem       box       obj       cls     total    labels  img_size
   290/399     4.99G   0.01741  0.005364         0   0.02277        48       640
               Class      Images      Labels           P           R      mAP@.5
                 all         386        1421       0.974       0.899       0.929        0.77

     Epoch   gpu_mem       box       obj       cls     total    labels  img_size
   291/399     4.99G   0.01702  0.005412         0   0.02243        39       640
               Class      Images      Labels           P           R      mAP@.5
                 all         386        1421        0.97       0.893       0.927       0.768

     Epoch   gpu_mem       box       obj       cls     total    labels  img_size
   292/399     4.99G   0.01728  0.005442         0   0.02272        66       640
               Class      Images      Labels           P           R      mAP@.5
                 all         386        1421       0.962       0.901       0.927       0.766

     Epoch   gpu_mem       box       obj       cls     total    labels  img_size
   293/399     4.99G   0.01716  0.005482         0   0.02264        59       640
               Class      Images      Labels           P           R      mAP@.5
                 all         386        1421        0.97       0.894       0.925       0.765

     Epoch   gpu_mem       box       obj       cls     total    labels  img_size
   294/399     4.99G   0.01638  0.004874         0   0.02125        18       640
               Class      Images      Labels           P           R      mAP@.5
                 all         386        1421       0.967       0.895       0.926       0.765

     Epoch   gpu_mem       box       obj       cls     total    labels  img_size
   295/399     4.99G   0.01677   0.00534         0   0.02212        35       640
               Class      Images      Labels           P           R      mAP@.5
                 all         386        1421       0.969       0.896       0.927       0.768

     Epoch   gpu_mem       box       obj       cls     total    labels  img_size
   296/399     4.99G   0.01735   0.00511         0   0.02247        26       640
               Class      Images      Labels           P           R      mAP@.5
                 all         386        1421       0.968       0.894       0.926       0.771

     Epoch   gpu_mem       box       obj       cls     total    labels  img_size
   297/399     4.99G    0.0173  0.005655         0   0.02296        94       640
               Class      Images      Labels           P           R      mAP@.5
                 all         386        1421       0.965       0.895       0.927        0.77

     Epoch   gpu_mem       box       obj       cls     total    labels  img_size
   298/399     4.99G   0.01702  0.005898         0   0.02292        41       640
               Class      Images      Labels           P           R      mAP@.5
                 all         386        1421       0.964       0.897       0.927       0.772

     Epoch   gpu_mem       box       obj       cls     total    labels  img_size
   299/399     4.99G   0.01684  0.005356         0    0.0222        16       640
               Class      Images      Labels           P           R      mAP@.5
                 all         386        1421       0.964       0.897       0.927       0.771

     Epoch   gpu_mem       box       obj       cls     total    labels  img_size
   300/399     4.99G   0.01653  0.005054         0   0.02159        31       640
               Class      Images      Labels           P           R      mAP@.5
                 all         386        1421       0.964       0.897       0.928       0.773

     Epoch   gpu_mem       box       obj       cls     total    labels  img_size
   301/399     4.99G    0.0176  0.005459         0   0.02306        20       640
               Class      Images      Labels           P           R      mAP@.5
                 all         386        1421       0.982       0.883       0.927       0.772

     Epoch   gpu_mem       box       obj       cls     total    labels  img_size
   302/399     4.99G   0.01656  0.005553         0   0.02211        79       640
               Class      Images      Labels           P           R      mAP@.5
                 all         386        1421       0.973       0.885       0.927       0.777

     Epoch   gpu_mem       box       obj       cls     total    labels  img_size
   303/399     4.99G   0.01648  0.005387         0   0.02187        54       640
               Class      Images      Labels           P           R      mAP@.5
                 all         386        1421       0.966       0.894       0.927       0.778

     Epoch   gpu_mem       box       obj       cls     total    labels  img_size
   304/399     4.99G     0.017  0.005054         0   0.02205        15       640
               Class      Images      Labels           P           R      mAP@.5
                 all         386        1421       0.975       0.888       0.926       0.775

     Epoch   gpu_mem       box       obj       cls     total    labels  img_size
   305/399     4.99G   0.01642  0.005362         0   0.02178        33       640
               Class      Images      Labels           P           R      mAP@.5
                 all         386        1421       0.962       0.898       0.924       0.775

     Epoch   gpu_mem       box       obj       cls     total    labels  img_size
   306/399     4.99G   0.01669  0.005597         0   0.02229        70       640
               Class      Images      Labels           P           R      mAP@.5
                 all         386        1421       0.963       0.901       0.927       0.777

     Epoch   gpu_mem       box       obj       cls     total    labels  img_size
   307/399     4.99G   0.01654   0.00524         0   0.02178        66       640
               Class      Images      Labels           P           R      mAP@.5
                 all         386        1421       0.968         0.9       0.926       0.778

     Epoch   gpu_mem       box       obj       cls     total    labels  img_size
   308/399     4.99G   0.01623   0.00517         0    0.0214        52       640
               Class      Images      Labels           P           R      mAP@.5
                 all         386        1421        0.97       0.899       0.925       0.777

     Epoch   gpu_mem       box       obj       cls     total    labels  img_size
   309/399     4.99G    0.0164  0.005199         0    0.0216        49       640
               Class      Images      Labels           P           R      mAP@.5
                 all         386        1421       0.974       0.899       0.928       0.776

     Epoch   gpu_mem       box       obj       cls     total    labels  img_size
   310/399     4.99G   0.01606  0.005524         0   0.02158        59       640
               Class      Images      Labels           P           R      mAP@.5
                 all         386        1421       0.978       0.891       0.927        0.78

     Epoch   gpu_mem       box       obj       cls     total    labels  img_size
   311/399     4.99G   0.01625  0.005084         0   0.02134        45       640
               Class      Images      Labels           P           R      mAP@.5
                 all         386        1421       0.979       0.893       0.929        0.78

     Epoch   gpu_mem       box       obj       cls     total    labels  img_size
   312/399     4.99G   0.01643  0.005079         0   0.02151        36       640
               Class      Images      Labels           P           R      mAP@.5
                 all         386        1421       0.975       0.892        0.93       0.779

     Epoch   gpu_mem       box       obj       cls     total    labels  img_size
   313/399     4.99G    0.0169  0.005207         0    0.0221        71       640
               Class      Images      Labels           P           R      mAP@.5
                 all         386        1421       0.976       0.892        0.93        0.78

     Epoch   gpu_mem       box       obj       cls     total    labels  img_size
   314/399     4.99G   0.01641  0.005382         0   0.02179        64       640
               Class      Images      Labels           P           R      mAP@.5
                 all         386        1421       0.969       0.894       0.929       0.783

     Epoch   gpu_mem       box       obj       cls     total    labels  img_size
   315/399     4.99G   0.01622  0.005312         0   0.02153        55       640
               Class      Images      Labels           P           R      mAP@.5
                 all         386        1421       0.978       0.895       0.929        0.78

     Epoch   gpu_mem       box       obj       cls     total    labels  img_size
   316/399     4.99G   0.01619  0.005075         0   0.02127        50       640
               Class      Images      Labels           P           R      mAP@.5
                 all         386        1421        0.97       0.899       0.927       0.784

     Epoch   gpu_mem       box       obj       cls     total    labels  img_size
   317/399     4.99G    0.0167  0.005165         0   0.02186        55       640
               Class      Images      Labels           P           R      mAP@.5
                 all         386        1421       0.986        0.89        0.93       0.786

     Epoch   gpu_mem       box       obj       cls     total    labels  img_size
   318/399     4.99G    0.0166  0.005127         0   0.02173        72       640
               Class      Images      Labels           P           R      mAP@.5
                 all         386        1421       0.983        0.89       0.928       0.789

     Epoch   gpu_mem       box       obj       cls     total    labels  img_size
   319/399     4.99G   0.01641  0.005233         0   0.02165        47       640
               Class      Images      Labels           P           R      mAP@.5
                 all         386        1421       0.981       0.892       0.929       0.787

     Epoch   gpu_mem       box       obj       cls     total    labels  img_size
   320/399     4.99G   0.01563  0.005078         0   0.02071        60       640
               Class      Images      Labels           P           R      mAP@.5
                 all         386        1421       0.978       0.897       0.928       0.785

     Epoch   gpu_mem       box       obj       cls     total    labels  img_size
   321/399     4.99G   0.01583  0.004901         0   0.02073        64       640
               Class      Images      Labels           P           R      mAP@.5
                 all         386        1421       0.978       0.894       0.927       0.784

     Epoch   gpu_mem       box       obj       cls     total    labels  img_size
   322/399     4.99G   0.01638  0.005209         0   0.02159        28       640
               Class      Images      Labels           P           R      mAP@.5
                 all         386        1421       0.974       0.892       0.929       0.783

     Epoch   gpu_mem       box       obj       cls     total    labels  img_size
   323/399     4.99G   0.01598  0.005208         0   0.02119        59       640
               Class      Images      Labels           P           R      mAP@.5
                 all         386        1421       0.977       0.892       0.929       0.783

     Epoch   gpu_mem       box       obj       cls     total    labels  img_size
   324/399     4.99G    0.0158  0.005099         0    0.0209        45       640
               Class      Images      Labels           P           R      mAP@.5
                 all         386        1421       0.962       0.901       0.927       0.783

     Epoch   gpu_mem       box       obj       cls     total    labels  img_size
   325/399     4.99G   0.01647  0.005338         0   0.02181        38       640
               Class      Images      Labels           P           R      mAP@.5
                 all         386        1421        0.97       0.901       0.928       0.785

     Epoch   gpu_mem       box       obj       cls     total    labels  img_size
   326/399     4.99G   0.01569  0.005153         0   0.02085        39       640
               Class      Images      Labels           P           R      mAP@.5
                 all         386        1421       0.971       0.898       0.928       0.786

     Epoch   gpu_mem       box       obj       cls     total    labels  img_size
   327/399     4.99G   0.01559   0.00525         0   0.02084        65       640
               Class      Images      Labels           P           R      mAP@.5
                 all         386        1421       0.967       0.899       0.929        0.79

     Epoch   gpu_mem       box       obj       cls     total    labels  img_size
   328/399     4.99G   0.01648  0.005199         0   0.02168        53       640
               Class      Images      Labels           P           R      mAP@.5
                 all         386        1421        0.97       0.901        0.93       0.792

     Epoch   gpu_mem       box       obj       cls     total    labels  img_size
   329/399     4.99G   0.01595  0.005178         0   0.02113        65       640
               Class      Images      Labels           P           R      mAP@.5
                 all         386        1421       0.968       0.906       0.932       0.789

     Epoch   gpu_mem       box       obj       cls     total    labels  img_size
   330/399     4.99G   0.01613  0.005212         0   0.02134        45       640
               Class      Images      Labels           P           R      mAP@.5
                 all         386        1421       0.983       0.894       0.932       0.787

     Epoch   gpu_mem       box       obj       cls     total    labels  img_size
   331/399     4.99G   0.01537   0.00501         0   0.02038        64       640
               Class      Images      Labels           P           R      mAP@.5
                 all         386        1421       0.981       0.896        0.93       0.786

     Epoch   gpu_mem       box       obj       cls     total    labels  img_size
   332/399     4.99G   0.01567  0.005161         0   0.02084        56       640
               Class      Images      Labels           P           R      mAP@.5
                 all         386        1421       0.974       0.898       0.932        0.79

     Epoch   gpu_mem       box       obj       cls     total    labels  img_size
   333/399     4.99G   0.01534  0.005517         0   0.02086        55       640
               Class      Images      Labels           P           R      mAP@.5
                 all         386        1421       0.975       0.897       0.932       0.791

     Epoch   gpu_mem       box       obj       cls     total    labels  img_size
   334/399     4.99G    0.0158  0.005284         0   0.02108        82       640
               Class      Images      Labels           P           R      mAP@.5
                 all         386        1421       0.983       0.889       0.931       0.791

     Epoch   gpu_mem       box       obj       cls     total    labels  img_size
   335/399     4.99G   0.01573  0.005322         0   0.02105        62       640
               Class      Images      Labels           P           R      mAP@.5
                 all         386        1421       0.975       0.897       0.932       0.794

     Epoch   gpu_mem       box       obj       cls     total    labels  img_size
   336/399     4.99G   0.01598  0.005305         0   0.02128        95       640
               Class      Images      Labels           P           R      mAP@.5
                 all         386        1421       0.982       0.897       0.933       0.795

     Epoch   gpu_mem       box       obj       cls     total    labels  img_size
   337/399     4.99G   0.01519  0.004974         0   0.02016        56       640
               Class      Images      Labels           P           R      mAP@.5
                 all         386        1421       0.981       0.893       0.933       0.794

     Epoch   gpu_mem       box       obj       cls     total    labels  img_size
   338/399     4.99G   0.01561   0.00486         0   0.02047        20       640
               Class      Images      Labels           P           R      mAP@.5
                 all         386        1421       0.977       0.901       0.932       0.793

     Epoch   gpu_mem       box       obj       cls     total    labels  img_size
   339/399     4.99G    0.0162  0.004964         0   0.02116        97       640
               Class      Images      Labels           P           R      mAP@.5
                 all         386        1421       0.979       0.898       0.931       0.797

     Epoch   gpu_mem       box       obj       cls     total    labels  img_size
   340/399     4.99G   0.01529  0.004873         0   0.02017        86       640
               Class      Images      Labels           P           R      mAP@.5
                 all         386        1421       0.973       0.899       0.933       0.795

     Epoch   gpu_mem       box       obj       cls     total    labels  img_size
   341/399     4.99G   0.01598  0.005259         0   0.02124         2       640
               Class      Images      Labels           P           R      mAP@.5
                 all         386        1421       0.969         0.9       0.932       0.794

     Epoch   gpu_mem       box       obj       cls     total    labels  img_size
   342/399     4.99G   0.01547  0.005057         0   0.02053        15       640
               Class      Images      Labels           P           R      mAP@.5
                 all         386        1421       0.986        0.89       0.933       0.792

     Epoch   gpu_mem       box       obj       cls     total    labels  img_size
   343/399     4.99G   0.01555  0.004724         0   0.02027        42       640
               Class      Images      Labels           P           R      mAP@.5
                 all         386        1421       0.975         0.9       0.934       0.795

     Epoch   gpu_mem       box       obj       cls     total    labels  img_size
   344/399     4.99G   0.01528   0.00508         0   0.02036        27       640
               Class      Images      Labels           P           R      mAP@.5
                 all         386        1421       0.979       0.896       0.932       0.795

     Epoch   gpu_mem       box       obj       cls     total    labels  img_size
   345/399     4.99G    0.0151  0.004826         0   0.01992        33       640
               Class      Images      Labels           P           R      mAP@.5
                 all         386        1421       0.977       0.903       0.933       0.799

     Epoch   gpu_mem       box       obj       cls     total    labels  img_size
   346/399     4.99G   0.01564  0.005227         0   0.02086        75       640
               Class      Images      Labels           P           R      mAP@.5
                 all         386        1421       0.977       0.901       0.933       0.799

     Epoch   gpu_mem       box       obj       cls     total    labels  img_size
   347/399     4.99G    0.0154  0.004961         0   0.02036        19       640
               Class      Images      Labels           P           R      mAP@.5
                 all         386        1421       0.981       0.895       0.933       0.799

     Epoch   gpu_mem       box       obj       cls     total    labels  img_size
   348/399     4.99G   0.01568  0.005106         0   0.02078        68       640
               Class      Images      Labels           P           R      mAP@.5
                 all         386        1421       0.984       0.892       0.934       0.798

     Epoch   gpu_mem       box       obj       cls     total    labels  img_size
   349/399     4.99G   0.01538  0.004943         0   0.02032        38       640
               Class      Images      Labels           P           R      mAP@.5
                 all         386        1421       0.983       0.897       0.933         0.8

     Epoch   gpu_mem       box       obj       cls     total    labels  img_size
   350/399     4.99G   0.01482  0.004768         0   0.01959        81       640
               Class      Images      Labels           P           R      mAP@.5
                 all         386        1421       0.973       0.906       0.934       0.801

     Epoch   gpu_mem       box       obj       cls     total    labels  img_size
   351/399     4.99G    0.0151  0.004928         0   0.02002        50       640
               Class      Images      Labels           P           R      mAP@.5
                 all         386        1421       0.979       0.901       0.933         0.8

     Epoch   gpu_mem       box       obj       cls     total    labels  img_size
   352/399     4.99G   0.01503  0.005174         0    0.0202        49       640
               Class      Images      Labels           P           R      mAP@.5
                 all         386        1421       0.979       0.902       0.933       0.799

     Epoch   gpu_mem       box       obj       cls     total    labels  img_size
   353/399     4.99G   0.01501  0.005107         0   0.02012        55       640
               Class      Images      Labels           P           R      mAP@.5
                 all         386        1421       0.974       0.907       0.932       0.802

     Epoch   gpu_mem       box       obj       cls     total    labels  img_size
   354/399     4.99G   0.01491  0.005175         0   0.02009        46       640
               Class      Images      Labels           P           R      mAP@.5
                 all         386        1421       0.982       0.897       0.932       0.801

     Epoch   gpu_mem       box       obj       cls     total    labels  img_size
   355/399     4.99G   0.01526  0.004855         0   0.02011        47       640
               Class      Images      Labels           P           R      mAP@.5
                 all         386        1421       0.978       0.902       0.933       0.802

     Epoch   gpu_mem       box       obj       cls     total    labels  img_size
   356/399     4.99G   0.01474   0.00497         0   0.01971        52       640
               Class      Images      Labels           P           R      mAP@.5
                 all         386        1421       0.979       0.899       0.932       0.802

     Epoch   gpu_mem       box       obj       cls     total    labels  img_size
   357/399     4.99G   0.01503  0.004633         0   0.01966        78       640
               Class      Images      Labels           P           R      mAP@.5
                 all         386        1421        0.98       0.901       0.931         0.8

     Epoch   gpu_mem       box       obj       cls     total    labels  img_size
   358/399     4.99G   0.01532  0.005009         0   0.02032        36       640
               Class      Images      Labels           P           R      mAP@.5
                 all         386        1421       0.979       0.901       0.931       0.799

     Epoch   gpu_mem       box       obj       cls     total    labels  img_size
   359/399     4.99G   0.01445  0.004805         0   0.01926        61       640
               Class      Images      Labels           P           R      mAP@.5
                 all         386        1421       0.971       0.907       0.933       0.799

     Epoch   gpu_mem       box       obj       cls     total    labels  img_size
   360/399     4.99G   0.01537  0.005323         0   0.02069        85       640
               Class      Images      Labels           P           R      mAP@.5
                 all         386        1421       0.978         0.9       0.933       0.801

     Epoch   gpu_mem       box       obj       cls     total    labels  img_size
   361/399     4.99G     0.015  0.005094         0    0.0201        62       640
               Class      Images      Labels           P           R      mAP@.5
                 all         386        1421       0.972       0.907       0.933       0.803

     Epoch   gpu_mem       box       obj       cls     total    labels  img_size
   362/399     4.99G   0.01495  0.004974         0   0.01992        22       640
               Class      Images      Labels           P           R      mAP@.5
                 all         386        1421       0.973       0.905       0.934       0.808

     Epoch   gpu_mem       box       obj       cls     total    labels  img_size
   363/399     4.99G   0.01537  0.005057         0   0.02042        71       640
               Class      Images      Labels           P           R      mAP@.5
                 all         386        1421       0.972       0.906       0.935       0.806

     Epoch   gpu_mem       box       obj       cls     total    labels  img_size
   364/399     4.99G   0.01517   0.00515         0   0.02032        54       640
               Class      Images      Labels           P           R      mAP@.5
                 all         386        1421       0.976       0.904       0.935       0.809

     Epoch   gpu_mem       box       obj       cls     total    labels  img_size
   365/399     4.99G   0.01525  0.004902         0   0.02016        79       640
               Class      Images      Labels           P           R      mAP@.5
                 all         386        1421       0.976       0.901       0.936       0.809

     Epoch   gpu_mem       box       obj       cls     total    labels  img_size
   366/399     4.99G   0.01513  0.004942         0   0.02007        72       640
               Class      Images      Labels           P           R      mAP@.5
                 all         386        1421       0.976       0.901       0.936       0.808

     Epoch   gpu_mem       box       obj       cls     total    labels  img_size
   367/399     4.99G    0.0147  0.004861         0   0.01957        13       640
               Class      Images      Labels           P           R      mAP@.5
                 all         386        1421       0.975       0.901       0.935       0.807

     Epoch   gpu_mem       box       obj       cls     total    labels  img_size
   368/399     4.99G   0.01515  0.005097         0   0.02025        91       640
               Class      Images      Labels           P           R      mAP@.5
                 all         386        1421       0.975       0.905       0.935       0.805

     Epoch   gpu_mem       box       obj       cls     total    labels  img_size
   369/399     4.99G   0.01505  0.004784         0   0.01983        48       640
               Class      Images      Labels           P           R      mAP@.5
                 all         386        1421       0.971       0.905       0.935       0.806

     Epoch   gpu_mem       box       obj       cls     total    labels  img_size
   370/399     4.99G   0.01522  0.005355         0   0.02058        42       640
               Class      Images      Labels           P           R      mAP@.5
                 all         386        1421       0.968       0.909       0.935       0.809

     Epoch   gpu_mem       box       obj       cls     total    labels  img_size
   371/399     4.99G   0.01484  0.004717         0   0.01956        83       640
               Class      Images      Labels           P           R      mAP@.5
                 all         386        1421       0.973       0.902       0.934       0.807

     Epoch   gpu_mem       box       obj       cls     total    labels  img_size
   372/399     4.99G   0.01485  0.004999         0   0.01985        54       640
               Class      Images      Labels           P           R      mAP@.5
                 all         386        1421       0.975       0.901       0.936       0.808

     Epoch   gpu_mem       box       obj       cls     total    labels  img_size
   373/399     4.99G   0.01479  0.004838         0   0.01963        28       640
               Class      Images      Labels           P           R      mAP@.5
                 all         386        1421       0.978       0.899       0.936       0.809

     Epoch   gpu_mem       box       obj       cls     total    labels  img_size
   374/399     4.99G    0.0155  0.005602         0    0.0211        63       640
               Class      Images      Labels           P           R      mAP@.5
                 all         386        1421       0.977         0.9       0.936        0.81

     Epoch   gpu_mem       box       obj       cls     total    labels  img_size
   375/399     4.99G   0.01465  0.004905         0   0.01956        64       640
               Class      Images      Labels           P           R      mAP@.5
                 all         386        1421       0.973       0.903       0.935       0.809

     Epoch   gpu_mem       box       obj       cls     total    labels  img_size
   376/399     4.99G   0.01487  0.004795         0   0.01967        63       640
               Class      Images      Labels           P           R      mAP@.5
                 all         386        1421       0.975       0.904       0.934       0.808

     Epoch   gpu_mem       box       obj       cls     total    labels  img_size
   377/399     4.99G   0.01485  0.005033         0   0.01989        28       640
               Class      Images      Labels           P           R      mAP@.5
                 all         386        1421       0.975       0.906       0.934       0.806

     Epoch   gpu_mem       box       obj       cls     total    labels  img_size
   378/399     4.99G   0.01475  0.004685         0   0.01943        25       640
               Class      Images      Labels           P           R      mAP@.5
                 all         386        1421       0.981       0.899       0.934       0.808

     Epoch   gpu_mem       box       obj       cls     total    labels  img_size
   379/399     4.99G   0.01462  0.004759         0   0.01937        68       640
               Class      Images      Labels           P           R      mAP@.5
                 all         386        1421       0.973       0.906       0.934       0.805

     Epoch   gpu_mem       box       obj       cls     total    labels  img_size
   380/399     4.99G   0.01444  0.004813         0   0.01926        47       640
               Class      Images      Labels           P           R      mAP@.5
                 all         386        1421       0.967       0.909       0.936       0.806

     Epoch   gpu_mem       box       obj       cls     total    labels  img_size
   381/399     4.99G   0.01444  0.004925         0   0.01937        76       640
               Class      Images      Labels           P           R      mAP@.5
                 all         386        1421       0.977       0.902       0.936       0.807

     Epoch   gpu_mem       box       obj       cls     total    labels  img_size
   382/399     4.99G   0.01439  0.004785         0   0.01917        64       640
               Class      Images      Labels           P           R      mAP@.5
                 all         386        1421       0.981         0.9       0.936       0.809

     Epoch   gpu_mem       box       obj       cls     total    labels  img_size
   383/399     4.99G   0.01454  0.004939         0   0.01948        32       640
               Class      Images      Labels           P           R      mAP@.5
                 all         386        1421        0.98       0.901       0.936       0.809

     Epoch   gpu_mem       box       obj       cls     total    labels  img_size
   384/399     4.99G   0.01503  0.005057         0   0.02009        73       640
               Class      Images      Labels           P           R      mAP@.5
                 all         386        1421       0.978       0.904       0.936       0.813

     Epoch   gpu_mem       box       obj       cls     total    labels  img_size
   385/399     4.99G   0.01454  0.004743         0   0.01928        51       640
               Class      Images      Labels           P           R      mAP@.5
                 all         386        1421        0.98         0.9       0.935        0.81

     Epoch   gpu_mem       box       obj       cls     total    labels  img_size
   386/399     4.99G   0.01517  0.004846         0   0.02001        80       640
               Class      Images      Labels           P           R      mAP@.5
                 all         386        1421       0.977       0.902       0.935       0.808

     Epoch   gpu_mem       box       obj       cls     total    labels  img_size
   387/399     4.99G   0.01455  0.004641         0   0.01919        26       640
               Class      Images      Labels           P           R      mAP@.5
                 all         386        1421       0.977       0.903       0.935       0.807

     Epoch   gpu_mem       box       obj       cls     total    labels  img_size
   388/399     4.99G   0.01432   0.00476         0   0.01908        50       640
               Class      Images      Labels           P           R      mAP@.5
                 all         386        1421       0.982       0.899       0.936       0.808

     Epoch   gpu_mem       box       obj       cls     total    labels  img_size
   389/399     4.99G     0.015  0.005058         0   0.02006        23       640
               Class      Images      Labels           P           R      mAP@.5
                 all         386        1421       0.978       0.901       0.937       0.808

     Epoch   gpu_mem       box       obj       cls     total    labels  img_size
   390/399     4.99G   0.01447  0.004853         0   0.01932        25       640
               Class      Images      Labels           P           R      mAP@.5
                 all         386        1421       0.974       0.902       0.937       0.811

     Epoch   gpu_mem       box       obj       cls     total    labels  img_size
   391/399     4.99G   0.01475  0.005074         0   0.01983        27       640
               Class      Images      Labels           P           R      mAP@.5
                 all         386        1421       0.979       0.897       0.936       0.811

     Epoch   gpu_mem       box       obj       cls     total    labels  img_size
   392/399     4.99G   0.01483  0.004971         0   0.01981       108       640
               Class      Images      Labels           P           R      mAP@.5
                 all         386        1421       0.972       0.907       0.936       0.809

     Epoch   gpu_mem       box       obj       cls     total    labels  img_size
   393/399     4.99G   0.01408  0.004849         0   0.01893        58       640
               Class      Images      Labels           P           R      mAP@.5
                 all         386        1421       0.966       0.911       0.936       0.809

     Epoch   gpu_mem       box       obj       cls     total    labels  img_size
   394/399     4.99G   0.01383   0.00488         0   0.01871        63       640
               Class      Images      Labels           P           R      mAP@.5
                 all         386        1421       0.975       0.904       0.935       0.808

     Epoch   gpu_mem       box       obj       cls     total    labels  img_size
   395/399     4.99G   0.01446   0.00481         0   0.01927         5       640
               Class      Images      Labels           P           R      mAP@.5
                 all         386        1421        0.98         0.9       0.934       0.809

     Epoch   gpu_mem       box       obj       cls     total    labels  img_size
   396/399     4.99G   0.01539  0.004679         0   0.02007        36       640
               Class      Images      Labels           P           R      mAP@.5
                 all         386        1421       0.978       0.903       0.935        0.81

     Epoch   gpu_mem       box       obj       cls     total    labels  img_size
   397/399     4.99G   0.01466  0.004833         0   0.01949        30       640
               Class      Images      Labels           P           R      mAP@.5
                 all         386        1421       0.971       0.909       0.934       0.809

     Epoch   gpu_mem       box       obj       cls     total    labels  img_size
   398/399     4.99G   0.01486  0.004714         0   0.01957        30       640
               Class      Images      Labels           P           R      mAP@.5
                 all         386        1421       0.974       0.904       0.934        0.81

     Epoch   gpu_mem       box       obj       cls     total    labels  img_size
   399/399     4.99G   0.01458  0.004964         0   0.01954        15       640
               Class      Images      Labels           P           R      mAP@.5
                 all         386        1421       0.976       0.904       0.934        0.81
400 epochs completed in 9.315 hours.

Optimizer stripped from runs/train/exp2/weights/last.pt, 74.8MB
Optimizer stripped from runs/train/exp2/weights/best.pt, 74.8MB
