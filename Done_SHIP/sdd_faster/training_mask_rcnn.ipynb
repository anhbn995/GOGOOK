{
 "cells": [
  {
   "cell_type": "markdown",
   "metadata": {},
   "source": [
    "Tai bo phat hien doi tuong cua tf2"
   ]
  },
  {
   "cell_type": "markdown",
   "metadata": {},
   "source": [
    "# Thiet lap chuong trinh tren moi truong myai"
   ]
  },
  {
   "cell_type": "code",
   "execution_count": 1,
   "metadata": {},
   "outputs": [
    {
     "name": "stderr",
     "output_type": "stream",
     "text": [
      "2023-07-25 16:06:58.146660: W tensorflow/compiler/tf2tensorrt/utils/py_utils.cc:38] TF-TRT Warning: Could not find TensorRT\n",
      "/home/skm/anaconda3/envs/myai/lib/python3.9/site-packages/tensorflow_io/python/ops/__init__.py:98: UserWarning: unable to load libtensorflow_io_plugins.so: unable to open file: libtensorflow_io_plugins.so, from paths: ['/home/skm/anaconda3/envs/myai/lib/python3.9/site-packages/tensorflow_io/python/ops/libtensorflow_io_plugins.so']\n",
      "caused by: ['/home/skm/anaconda3/envs/myai/lib/python3.9/site-packages/tensorflow_io/python/ops/libtensorflow_io_plugins.so: undefined symbol: _ZN3tsl6Status12empty_stringB5cxx11Ev']\n",
      "  warnings.warn(f\"unable to load libtensorflow_io_plugins.so: {e}\")\n",
      "/home/skm/anaconda3/envs/myai/lib/python3.9/site-packages/tensorflow_io/python/ops/__init__.py:104: UserWarning: file system plugins are not loaded: unable to open file: libtensorflow_io.so, from paths: ['/home/skm/anaconda3/envs/myai/lib/python3.9/site-packages/tensorflow_io/python/ops/libtensorflow_io.so']\n",
      "caused by: ['/home/skm/anaconda3/envs/myai/lib/python3.9/site-packages/tensorflow_io/python/ops/libtensorflow_io.so: undefined symbol: _ZNK10tensorflow4data11DatasetBase8FinalizeEPNS_15OpKernelContextESt8functionIFN3tsl8StatusOrISt10unique_ptrIS1_NS5_4core15RefCountDeleterEEEEvEE']\n",
      "  warnings.warn(f\"file system plugins are not loaded: {e}\")\n"
     ]
    }
   ],
   "source": [
    "import matplotlib\n",
    "import matplotlib.pyplot as plt\n",
    "import os\n",
    "import random\n",
    "import io\n",
    "import imageio\n",
    "import glob\n",
    "import scipy.misc\n",
    "import numpy as np\n",
    "from six import BytesIO\n",
    "from PIL import Image, ImageDraw, ImageFont\n",
    "from IPython.display import display, Javascript\n",
    "from IPython.display import Image as IPyImage\n",
    "\n",
    "import tensorflow as tf\n",
    "# from google.colab import files\n",
    "import pathlib\n",
    "import itertools\n",
    "import random\n",
    "\n",
    "from object_detection.utils import ops as utils_ops\n",
    "from object_detection.utils import label_map_util\n",
    "from object_detection.utils import visualization_utils as viz_utils\n",
    "\n",
    "from object_detection.utils import config_util\n",
    "# from object_detection.utils import colab_utils\n",
    "from object_detection.builders import model_builder\n",
    "%matplotlib inline"
   ]
  },
  {
   "cell_type": "markdown",
   "metadata": {},
   "source": [
    "### Tai pretrain model vao dung cho dam bao jupyter dang o dung diem"
   ]
  },
  {
   "cell_type": "code",
   "execution_count": 3,
   "metadata": {},
   "outputs": [
    {
     "name": "stdout",
     "output_type": "stream",
     "text": [
      "/home/skm/SKM16/IMAGE/ZZ_ZZ/TauBien/code/Try/SSD/pretrain_model\n",
      "/home/skm/SKM16/IMAGE/ZZ_ZZ/TauBien/code/Try/SSD/pretrain_model\n"
     ]
    }
   ],
   "source": [
    "import os\n",
    "dir_pretrain = '/home/skm/SKM16/IMAGE/ZZ_ZZ/TauBien/code/Try/SSD/pretrain_model'\n",
    "link_pretrain_model = \"http://download.tensorflow.org/models/object_detection/tf2/20200711/ssd_resnet50_v1_fpn_640x640_coco17_tpu-8.tar.gz\"\n",
    "os.makedirs(dir_pretrain, exist_ok=True)\n",
    "\n",
    "%cd /home/skm/SKM16/IMAGE/ZZ_ZZ/TauBien/code/Try/SSD/pretrain_model\n",
    "!pwd"
   ]
  },
  {
   "cell_type": "code",
   "execution_count": 6,
   "metadata": {},
   "outputs": [
    {
     "name": "stdout",
     "output_type": "stream",
     "text": [
      "download done!\n",
      "extract done!\n"
     ]
    }
   ],
   "source": [
    "import os\n",
    "name_model = os.path.basename(link_pretrain_model)\n",
    "file_will_download = os.path.join(dir_pretrain, name_model)\n",
    "\n",
    "import wget\n",
    "if os.path.isfile(os.path.join(dir_pretrain, name_model)):\n",
    "    pass\n",
    "else:\n",
    "    model_link = link_pretrain_model\n",
    "    wget.download(model_link)\n",
    "    print('download done!')\n",
    "    import tarfile\n",
    "    tar = tarfile.open(os.path.join(dir_pretrain, name_model))\n",
    "    tar.extractall('.') \n",
    "    tar.close()\n",
    "    print('extract done!')"
   ]
  },
  {
   "cell_type": "markdown",
   "metadata": {},
   "source": [
    "## Luyen model"
   ]
  },
  {
   "cell_type": "code",
   "execution_count": 3,
   "metadata": {},
   "outputs": [
    {
     "name": "stdout",
     "output_type": "stream",
     "text": [
      "2023-07-25 17:21:21.224415: W tensorflow/compiler/tf2tensorrt/utils/py_utils.cc:38] TF-TRT Warning: Could not find TensorRT\n",
      "/home/skm/anaconda3/envs/myai/lib/python3.9/site-packages/tensorflow_io/python/ops/__init__.py:98: UserWarning: unable to load libtensorflow_io_plugins.so: unable to open file: libtensorflow_io_plugins.so, from paths: ['/home/skm/anaconda3/envs/myai/lib/python3.9/site-packages/tensorflow_io/python/ops/libtensorflow_io_plugins.so']\n",
      "caused by: ['/home/skm/anaconda3/envs/myai/lib/python3.9/site-packages/tensorflow_io/python/ops/libtensorflow_io_plugins.so: undefined symbol: _ZN3tsl6Status12empty_stringB5cxx11Ev']\n",
      "  warnings.warn(f\"unable to load libtensorflow_io_plugins.so: {e}\")\n",
      "/home/skm/anaconda3/envs/myai/lib/python3.9/site-packages/tensorflow_io/python/ops/__init__.py:104: UserWarning: file system plugins are not loaded: unable to open file: libtensorflow_io.so, from paths: ['/home/skm/anaconda3/envs/myai/lib/python3.9/site-packages/tensorflow_io/python/ops/libtensorflow_io.so']\n",
      "caused by: ['/home/skm/anaconda3/envs/myai/lib/python3.9/site-packages/tensorflow_io/python/ops/libtensorflow_io.so: undefined symbol: _ZNK10tensorflow4data11DatasetBase8FinalizeEPNS_15OpKernelContextESt8functionIFN3tsl8StatusOrISt10unique_ptrIS1_NS5_4core15RefCountDeleterEEEEvEE']\n",
      "  warnings.warn(f\"file system plugins are not loaded: {e}\")\n",
      "WARNING:tensorflow:Forced number of epochs for all eval validations to be 1.\n",
      "W0725 17:21:23.988999 140188673524352 model_lib_v2.py:1089] Forced number of epochs for all eval validations to be 1.\n",
      "INFO:tensorflow:Maybe overwriting sample_1_of_n_eval_examples: None\n",
      "I0725 17:21:23.989258 140188673524352 config_util.py:552] Maybe overwriting sample_1_of_n_eval_examples: None\n",
      "INFO:tensorflow:Maybe overwriting use_bfloat16: False\n",
      "I0725 17:21:23.989345 140188673524352 config_util.py:552] Maybe overwriting use_bfloat16: False\n",
      "INFO:tensorflow:Maybe overwriting eval_num_epochs: 1\n",
      "I0725 17:21:23.989437 140188673524352 config_util.py:552] Maybe overwriting eval_num_epochs: 1\n",
      "WARNING:tensorflow:Expected number of evaluation epochs is 1, but instead encountered `eval_on_train_input_config.num_epochs` = 0. Overwriting `num_epochs` to 1.\n",
      "W0725 17:21:23.989567 140188673524352 model_lib_v2.py:1106] Expected number of evaluation epochs is 1, but instead encountered `eval_on_train_input_config.num_epochs` = 0. Overwriting `num_epochs` to 1.\n",
      "2023-07-25 17:21:25.024420: I tensorflow/core/common_runtime/gpu/gpu_device.cc:1639] Created device /job:localhost/replica:0/task:0/device:GPU:0 with 10401 MB memory:  -> device: 0, name: NVIDIA GeForce GTX 1080 Ti, pci bus id: 0000:05:00.0, compute capability: 6.1\n",
      "INFO:tensorflow:Reading unweighted datasets: ['/home/skm/SKM16/IMAGE/ZZ_ZZ/TauBien/code/Try/SSD/maskrcnn/data_goc/tf_records/test.record']\n",
      "I0725 17:21:25.298468 140188673524352 dataset_builder.py:162] Reading unweighted datasets: ['/home/skm/SKM16/IMAGE/ZZ_ZZ/TauBien/code/Try/SSD/maskrcnn/data_goc/tf_records/test.record']\n",
      "INFO:tensorflow:Reading record datasets for input file: ['/home/skm/SKM16/IMAGE/ZZ_ZZ/TauBien/code/Try/SSD/maskrcnn/data_goc/tf_records/test.record']\n",
      "I0725 17:21:25.298979 140188673524352 dataset_builder.py:79] Reading record datasets for input file: ['/home/skm/SKM16/IMAGE/ZZ_ZZ/TauBien/code/Try/SSD/maskrcnn/data_goc/tf_records/test.record']\n",
      "INFO:tensorflow:Number of filenames to read: 1\n",
      "I0725 17:21:25.299078 140188673524352 dataset_builder.py:80] Number of filenames to read: 1\n",
      "WARNING:tensorflow:num_readers has been reduced to 1 to match input file shards.\n",
      "W0725 17:21:25.299162 140188673524352 dataset_builder.py:86] num_readers has been reduced to 1 to match input file shards.\n",
      "WARNING:tensorflow:From /home/skm/anaconda3/envs/myai/lib/python3.9/site-packages/object_detection/builders/dataset_builder.py:100: parallel_interleave (from tensorflow.python.data.experimental.ops.interleave_ops) is deprecated and will be removed in a future version.\n",
      "Instructions for updating:\n",
      "Use `tf.data.Dataset.interleave(map_func, cycle_length, block_length, num_parallel_calls=tf.data.AUTOTUNE)` instead. If sloppy execution is desired, use `tf.data.Options.deterministic`.\n",
      "W0725 17:21:25.304442 140188673524352 deprecation.py:364] From /home/skm/anaconda3/envs/myai/lib/python3.9/site-packages/object_detection/builders/dataset_builder.py:100: parallel_interleave (from tensorflow.python.data.experimental.ops.interleave_ops) is deprecated and will be removed in a future version.\n",
      "Instructions for updating:\n",
      "Use `tf.data.Dataset.interleave(map_func, cycle_length, block_length, num_parallel_calls=tf.data.AUTOTUNE)` instead. If sloppy execution is desired, use `tf.data.Options.deterministic`.\n",
      "WARNING:tensorflow:From /home/skm/anaconda3/envs/myai/lib/python3.9/site-packages/object_detection/builders/dataset_builder.py:235: DatasetV1.map_with_legacy_function (from tensorflow.python.data.ops.dataset_ops) is deprecated and will be removed in a future version.\n",
      "Instructions for updating:\n",
      "Use `tf.data.Dataset.map()\n",
      "W0725 17:21:25.329666 140188673524352 deprecation.py:364] From /home/skm/anaconda3/envs/myai/lib/python3.9/site-packages/object_detection/builders/dataset_builder.py:235: DatasetV1.map_with_legacy_function (from tensorflow.python.data.ops.dataset_ops) is deprecated and will be removed in a future version.\n",
      "Instructions for updating:\n",
      "Use `tf.data.Dataset.map()\n",
      "WARNING:tensorflow:From /home/skm/anaconda3/envs/myai/lib/python3.9/site-packages/tensorflow/python/autograph/impl/api.py:459: calling map_fn (from tensorflow.python.ops.map_fn) with dtype is deprecated and will be removed in a future version.\n",
      "Instructions for updating:\n",
      "Use fn_output_signature instead\n",
      "W0725 17:21:28.037153 140188673524352 deprecation.py:569] From /home/skm/anaconda3/envs/myai/lib/python3.9/site-packages/tensorflow/python/autograph/impl/api.py:459: calling map_fn (from tensorflow.python.ops.map_fn) with dtype is deprecated and will be removed in a future version.\n",
      "Instructions for updating:\n",
      "Use fn_output_signature instead\n",
      "WARNING:tensorflow:From /home/skm/anaconda3/envs/myai/lib/python3.9/site-packages/tensorflow/python/util/dispatch.py:1176: sparse_to_dense (from tensorflow.python.ops.sparse_ops) is deprecated and will be removed in a future version.\n",
      "Instructions for updating:\n",
      "Create a `tf.sparse.SparseTensor` and use `tf.sparse.to_dense` instead.\n",
      "W0725 17:21:31.174487 140188673524352 deprecation.py:364] From /home/skm/anaconda3/envs/myai/lib/python3.9/site-packages/tensorflow/python/util/dispatch.py:1176: sparse_to_dense (from tensorflow.python.ops.sparse_ops) is deprecated and will be removed in a future version.\n",
      "Instructions for updating:\n",
      "Create a `tf.sparse.SparseTensor` and use `tf.sparse.to_dense` instead.\n",
      "WARNING:tensorflow:From /home/skm/anaconda3/envs/myai/lib/python3.9/site-packages/tensorflow/python/util/dispatch.py:1176: to_float (from tensorflow.python.ops.math_ops) is deprecated and will be removed in a future version.\n",
      "Instructions for updating:\n",
      "Use `tf.cast` instead.\n",
      "W0725 17:21:32.733730 140188673524352 deprecation.py:364] From /home/skm/anaconda3/envs/myai/lib/python3.9/site-packages/tensorflow/python/util/dispatch.py:1176: to_float (from tensorflow.python.ops.math_ops) is deprecated and will be removed in a future version.\n",
      "Instructions for updating:\n",
      "Use `tf.cast` instead.\n",
      "INFO:tensorflow:Waiting for new checkpoint at /home/skm/SKM16/IMAGE/ZZ_ZZ/TauBien/code/Try/SSD/train_custom/mask_rcnn_inception_resnet_v2_1024x1024_coco17_gpu_du_lieu_goc_test\n",
      "I0725 17:21:36.314349 140188673524352 checkpoint_utils.py:168] Waiting for new checkpoint at /home/skm/SKM16/IMAGE/ZZ_ZZ/TauBien/code/Try/SSD/train_custom/mask_rcnn_inception_resnet_v2_1024x1024_coco17_gpu_du_lieu_goc_test\n",
      "INFO:tensorflow:Timed-out waiting for a checkpoint.\n",
      "I0725 18:21:36.188813 140188673524352 checkpoint_utils.py:231] Timed-out waiting for a checkpoint.\n"
     ]
    }
   ],
   "source": [
    "!python /home/skm/SKM16/IMAGE/ZZ_ZZ/TauBien/code/Try/SSD/models/research/object_detection/model_main_tf2.py\\\n",
    "    --pipeline_config_path=/home/skm/SKM16/IMAGE/ZZ_ZZ/TauBien/code/Try/SSD/maskrcnn/mask_rcnn_inception_resnet_v2_1024x1024_coco17_gpu-8-colab.config \\\n",
    "    --model_dir=/home/skm/SKM16/IMAGE/ZZ_ZZ/TauBien/code/Try/SSD/train_custom/mask_rcnn_inception_resnet_v2_1024x1024_coco17_gpu_du_lieu_goc_test \\\n",
    "    --alsologtostderr \\\n",
    "    --checkpoint_dir=/home/skm/SKM16/IMAGE/ZZ_ZZ/TauBien/code/Try/SSD/train_custom/mask_rcnn_inception_resnet_v2_1024x1024_coco17_gpu_du_lieu_goc_test \\\n",
    "    --checkpoint_every_n=1\n",
    "    # --num_train_steps=1000"
   ]
  },
  {
   "cell_type": "markdown",
   "metadata": {},
   "source": [
    "## Export trained inference graph"
   ]
  },
  {
   "cell_type": "code",
   "execution_count": 2,
   "metadata": {},
   "outputs": [],
   "source": [
    "## Export trained inference graph\n",
    "import os\n",
    "pipeline_file = r'/home/skm/SKM16/IMAGE/ZZ_ZZ/TauBien/code/Try/SSD/pretrain_model/ssd_resnet50_v1_fpn_640x640_coco17_tpu-8/pipeline.config'\n",
    "last_model_path = '/home/skm/SKM16/IMAGE/ZZ_ZZ/TauBien/code/Try/SSD/train_custom/ssd_resnet50_v1_fpn_640x640_coco17_tpu/'\n",
    "output_directory = \"/home/skm/SKM16/IMAGE/ZZ_ZZ/TauBien/code/Try/SSD/export_model_custom/ssd_resnet50_v1_fpn_640x640_coco17_tpu\"\n",
    "os.makedirs(output_directory, exist_ok=True)"
   ]
  },
  {
   "cell_type": "code",
   "execution_count": 3,
   "metadata": {},
   "outputs": [
    {
     "name": "stdout",
     "output_type": "stream",
     "text": [
      "2023-07-24 16:38:41.711684: W tensorflow/compiler/tf2tensorrt/utils/py_utils.cc:38] TF-TRT Warning: Could not find TensorRT\n",
      "/home/skm/anaconda3/envs/myai/lib/python3.9/site-packages/tensorflow_io/python/ops/__init__.py:98: UserWarning: unable to load libtensorflow_io_plugins.so: unable to open file: libtensorflow_io_plugins.so, from paths: ['/home/skm/anaconda3/envs/myai/lib/python3.9/site-packages/tensorflow_io/python/ops/libtensorflow_io_plugins.so']\n",
      "caused by: ['/home/skm/anaconda3/envs/myai/lib/python3.9/site-packages/tensorflow_io/python/ops/libtensorflow_io_plugins.so: undefined symbol: _ZN3tsl6Status12empty_stringB5cxx11Ev']\n",
      "  warnings.warn(f\"unable to load libtensorflow_io_plugins.so: {e}\")\n",
      "/home/skm/anaconda3/envs/myai/lib/python3.9/site-packages/tensorflow_io/python/ops/__init__.py:104: UserWarning: file system plugins are not loaded: unable to open file: libtensorflow_io.so, from paths: ['/home/skm/anaconda3/envs/myai/lib/python3.9/site-packages/tensorflow_io/python/ops/libtensorflow_io.so']\n",
      "caused by: ['/home/skm/anaconda3/envs/myai/lib/python3.9/site-packages/tensorflow_io/python/ops/libtensorflow_io.so: undefined symbol: _ZNK10tensorflow4data11DatasetBase8FinalizeEPNS_15OpKernelContextESt8functionIFN3tsl8StatusOrISt10unique_ptrIS1_NS5_4core15RefCountDeleterEEEEvEE']\n",
      "  warnings.warn(f\"file system plugins are not loaded: {e}\")\n",
      "2023-07-24 16:38:45.771376: I tensorflow/core/common_runtime/gpu/gpu_device.cc:1639] Created device /job:localhost/replica:0/task:0/device:GPU:0 with 2977 MB memory:  -> device: 0, name: NVIDIA GeForce GTX 1080 Ti, pci bus id: 0000:05:00.0, compute capability: 6.1\n",
      "WARNING:tensorflow:From /home/skm/anaconda3/envs/myai/lib/python3.9/site-packages/tensorflow/python/autograph/impl/api.py:459: calling map_fn_v2 (from tensorflow.python.ops.map_fn) with back_prop=False is deprecated and will be removed in a future version.\n",
      "Instructions for updating:\n",
      "back_prop=False is deprecated. Consider using tf.stop_gradient instead.\n",
      "Instead of:\n",
      "results = tf.map_fn(fn, elems, back_prop=False)\n",
      "Use:\n",
      "results = tf.nest.map_structure(tf.stop_gradient, tf.map_fn(fn, elems))\n",
      "W0724 16:38:46.068094 140551564112512 deprecation.py:641] From /home/skm/anaconda3/envs/myai/lib/python3.9/site-packages/tensorflow/python/autograph/impl/api.py:459: calling map_fn_v2 (from tensorflow.python.ops.map_fn) with back_prop=False is deprecated and will be removed in a future version.\n",
      "Instructions for updating:\n",
      "back_prop=False is deprecated. Consider using tf.stop_gradient instead.\n",
      "Instead of:\n",
      "results = tf.map_fn(fn, elems, back_prop=False)\n",
      "Use:\n",
      "results = tf.nest.map_structure(tf.stop_gradient, tf.map_fn(fn, elems))\n",
      "I0724 16:38:52.237187 140551564112512 api.py:460] feature_map_spatial_dims: [(32, 32), (16, 16), (8, 8), (4, 4), (2, 2)]\n",
      "I0724 16:39:05.193825 140551564112512 api.py:460] feature_map_spatial_dims: [(32, 32), (16, 16), (8, 8), (4, 4), (2, 2)]\n",
      "I0724 16:39:10.053496 140551564112512 signature_serialization.py:148] Function `call_func` contains input name(s) resource with unsupported characters which will be renamed to weightsharedconvolutionalboxpredictor_classpredictiontower_conv2d_3_batchnorm_feature_4_fusedbatchnormv3_readvariableop_1_resource in the SavedModel.\n",
      "I0724 16:39:11.948685 140551564112512 api.py:460] feature_map_spatial_dims: [(32, 32), (16, 16), (8, 8), (4, 4), (2, 2)]\n",
      "WARNING:tensorflow:Skipping full serialization of Keras layer <object_detection.meta_architectures.ssd_meta_arch.SSDMetaArch object at 0x7fd3bc0e8190>, because it is not built.\n",
      "W0724 16:39:14.701354 140551564112512 save_impl.py:66] Skipping full serialization of Keras layer <object_detection.meta_architectures.ssd_meta_arch.SSDMetaArch object at 0x7fd3bc0e8190>, because it is not built.\n",
      "I0724 16:39:31.702440 140551564112512 save.py:274] Found untraced functions such as WeightSharedConvolutionalBoxPredictor_layer_call_fn, WeightSharedConvolutionalBoxPredictor_layer_call_and_return_conditional_losses, WeightSharedConvolutionalBoxHead_layer_call_fn, WeightSharedConvolutionalBoxHead_layer_call_and_return_conditional_losses, WeightSharedConvolutionalClassHead_layer_call_fn while saving (showing 5 of 278). These functions will not be directly callable after loading.\n",
      "INFO:tensorflow:Assets written to: /home/skm/SKM16/IMAGE/ZZ_ZZ/TauBien/code/Try/SSD/export_model_custom/ssd_resnet50_v1_fpn_640x640_coco17_tpu/saved_model/assets\n",
      "I0724 16:39:43.290908 140551564112512 builder_impl.py:804] Assets written to: /home/skm/SKM16/IMAGE/ZZ_ZZ/TauBien/code/Try/SSD/export_model_custom/ssd_resnet50_v1_fpn_640x640_coco17_tpu/saved_model/assets\n",
      "I0724 16:39:43.747425 140551564112512 fingerprinting_utils.py:48] Writing fingerprint to /home/skm/SKM16/IMAGE/ZZ_ZZ/TauBien/code/Try/SSD/export_model_custom/ssd_resnet50_v1_fpn_640x640_coco17_tpu/saved_model/fingerprint.pb\n",
      "INFO:tensorflow:Writing pipeline config file to /home/skm/SKM16/IMAGE/ZZ_ZZ/TauBien/code/Try/SSD/export_model_custom/ssd_resnet50_v1_fpn_640x640_coco17_tpu/pipeline.config\n",
      "I0724 16:39:44.435591 140551564112512 config_util.py:253] Writing pipeline config file to /home/skm/SKM16/IMAGE/ZZ_ZZ/TauBien/code/Try/SSD/export_model_custom/ssd_resnet50_v1_fpn_640x640_coco17_tpu/pipeline.config\n"
     ]
    }
   ],
   "source": [
    "!python /home/skm/SKM16/IMAGE/ZZ_ZZ/TauBien/code/Try/SSD/models/research/object_detection/exporter_main_v2.py \\\n",
    "    --trained_checkpoint_dir {last_model_path} \\\n",
    "    --output_directory {output_directory} \\\n",
    "    --pipeline_config_path {pipeline_file}"
   ]
  },
  {
   "cell_type": "markdown",
   "metadata": {},
   "source": [
    "### Load an image from file into a numpy array"
   ]
  },
  {
   "cell_type": "code",
   "execution_count": 4,
   "metadata": {},
   "outputs": [],
   "source": [
    "# Load an image from file into a numpy array\n",
    "def load_image_into_numpy_array(path):\n",
    "  \"\"\"Load an image from file into a numpy array.\n",
    "\n",
    "  Puts image into numpy array to feed into tensorflow graph.\n",
    "  Note that by convention we put it into a numpy array with shape\n",
    "  (height, width, channels), where channels=3 for RGB.\n",
    "\n",
    "  Args:\n",
    "    path: a file path.\n",
    "\n",
    "  Returns:\n",
    "    uint8 numpy array with shape (img_height, img_width, 3)\n",
    "  \"\"\"\n",
    "  img_data = tf.io.gfile.GFile(path, 'rb').read()\n",
    "  image = Image.open(BytesIO(img_data))\n",
    "  (im_width, im_height) = image.size\n",
    "  return np.array(image.getdata()).reshape(\n",
    "      (im_height, im_width, 3)).astype(np.uint8)\n"
   ]
  },
  {
   "cell_type": "markdown",
   "metadata": {},
   "source": [
    "### Visualize detections"
   ]
  },
  {
   "cell_type": "code",
   "execution_count": 5,
   "metadata": {},
   "outputs": [],
   "source": [
    "def plot_detections(image_np,\n",
    "                    boxes,\n",
    "                    classes,\n",
    "                    scores,\n",
    "                    category_index,\n",
    "                    figsize=(12, 16),\n",
    "                    image_name=None):\n",
    "  \"\"\"Wrapper function to visualize detections.\n",
    "\n",
    "  Args:\n",
    "    image_np: uint8 numpy array with shape (img_height, img_width, 3)\n",
    "    boxes: a numpy array of shape [N, 4]\n",
    "    classes: a numpy array of shape [N]. Note that class indices are 1-based,\n",
    "      and match the keys in the label map.\n",
    "    scores: a numpy array of shape [N] or None.  If scores=None, then\n",
    "      this function assumes that the boxes to be plotted are groundtruth\n",
    "      boxes and plot all boxes as black with no classes or scores.\n",
    "    category_index: a dict containing category dictionaries (each holding\n",
    "      category index `id` and category name `name`) keyed by category indices.\n",
    "    figsize: size for the figure.\n",
    "    image_name: a name for the image file.\n",
    "  \"\"\"\n",
    "  image_np_with_annotations = image_np.copy()\n",
    "  viz_utils.visualize_boxes_and_labels_on_image_array(\n",
    "      image_np_with_annotations,\n",
    "      boxes,\n",
    "      classes,\n",
    "      scores,\n",
    "      category_index,\n",
    "      use_normalized_coordinates=True,\n",
    "      min_score_thresh=0.5)\n",
    "  if image_name:\n",
    "    plt.imsave(image_name, image_np_with_annotations)\n",
    "  else:\n",
    "    plt.imshow(image_np_with_annotations)"
   ]
  },
  {
   "cell_type": "markdown",
   "metadata": {},
   "source": [
    "## Create model from the last checkpoint"
   ]
  },
  {
   "cell_type": "code",
   "execution_count": 8,
   "metadata": {},
   "outputs": [
    {
     "name": "stdout",
     "output_type": "stream",
     "text": [
      "[PosixPath('/home/skm/SKM16/IMAGE/ZZ_ZZ/TauBien/code/Try/SSD/train_custom/ssd_resnet50_v1_fpn_640x640_coco17_tpu/ckpt-195.index'), PosixPath('/home/skm/SKM16/IMAGE/ZZ_ZZ/TauBien/code/Try/SSD/train_custom/ssd_resnet50_v1_fpn_640x640_coco17_tpu/ckpt-196.index'), PosixPath('/home/skm/SKM16/IMAGE/ZZ_ZZ/TauBien/code/Try/SSD/train_custom/ssd_resnet50_v1_fpn_640x640_coco17_tpu/ckpt-197.index'), PosixPath('/home/skm/SKM16/IMAGE/ZZ_ZZ/TauBien/code/Try/SSD/train_custom/ssd_resnet50_v1_fpn_640x640_coco17_tpu/ckpt-198.index'), PosixPath('/home/skm/SKM16/IMAGE/ZZ_ZZ/TauBien/code/Try/SSD/train_custom/ssd_resnet50_v1_fpn_640x640_coco17_tpu/ckpt-199.index'), PosixPath('/home/skm/SKM16/IMAGE/ZZ_ZZ/TauBien/code/Try/SSD/train_custom/ssd_resnet50_v1_fpn_640x640_coco17_tpu/ckpt-200.index'), PosixPath('/home/skm/SKM16/IMAGE/ZZ_ZZ/TauBien/code/Try/SSD/train_custom/ssd_resnet50_v1_fpn_640x640_coco17_tpu/ckpt-201.index')]\n"
     ]
    },
    {
     "name": "stderr",
     "output_type": "stream",
     "text": [
      "2023-07-24 16:41:04.446088: I tensorflow/core/common_runtime/gpu/gpu_device.cc:1639] Created device /job:localhost/replica:0/task:0/device:GPU:0 with 2977 MB memory:  -> device: 0, name: NVIDIA GeForce GTX 1080 Ti, pci bus id: 0000:05:00.0, compute capability: 6.1\n"
     ]
    }
   ],
   "source": [
    "ch_dir = r'/home/skm/SKM16/IMAGE/ZZ_ZZ/TauBien/code/Try/SSD'\n",
    "filenames = list(pathlib.Path(f'{ch_dir}/train_custom/ssd_resnet50_v1_fpn_640x640_coco17_tpu/').glob('*.index'))\n",
    "\n",
    "filenames.sort()\n",
    "print(filenames)\n",
    "\n",
    "#recover our saved model\n",
    "model_dir = f'{ch_dir}/train_custom/ssd_resnet50_v1_fpn_640x640_coco17_tpu/'\n",
    "#generally you want to put the last ckpt from training in here\n",
    "configs = config_util.get_configs_from_pipeline_file(pipeline_file)\n",
    "model_config = configs['model']\n",
    "detection_model = model_builder.build(\n",
    "      model_config=model_config, is_training=False)\n",
    "\n",
    "# Restore checkpoint\n",
    "ckpt = tf.compat.v2.train.Checkpoint(\n",
    "      model=detection_model)\n",
    "ckpt.restore(os.path.join(str(filenames[-1]).replace('.index','')))\n",
    "\n",
    "\n",
    "def get_model_detection_function(model):\n",
    "  \"\"\"Get a tf.function for detection.\"\"\"\n",
    "\n",
    "  @tf.function\n",
    "  def detect_fn(image):\n",
    "    \"\"\"Detect objects in image.\"\"\"\n",
    "\n",
    "    image, shapes = model.preprocess(image)\n",
    "    prediction_dict = model.predict(image, shapes)\n",
    "    detections = model.postprocess(prediction_dict, shapes)\n",
    "\n",
    "    return detections, prediction_dict, tf.reshape(shapes, [-1])\n",
    "\n",
    "  return detect_fn\n",
    "\n",
    "detect_fn = get_model_detection_function(detection_model)"
   ]
  },
  {
   "cell_type": "code",
   "execution_count": 9,
   "metadata": {},
   "outputs": [
    {
     "data": {
      "text/plain": [
       "ssd {\n",
       "  num_classes: 1\n",
       "  image_resizer {\n",
       "    fixed_shape_resizer {\n",
       "      height: 256\n",
       "      width: 256\n",
       "    }\n",
       "  }\n",
       "  feature_extractor {\n",
       "    type: \"ssd_resnet50_v1_fpn_keras\"\n",
       "    depth_multiplier: 1.0\n",
       "    min_depth: 16\n",
       "    conv_hyperparams {\n",
       "      regularizer {\n",
       "        l2_regularizer {\n",
       "          weight: 0.00039999998989515007\n",
       "        }\n",
       "      }\n",
       "      initializer {\n",
       "        truncated_normal_initializer {\n",
       "          mean: 0.0\n",
       "          stddev: 0.029999999329447746\n",
       "        }\n",
       "      }\n",
       "      activation: RELU_6\n",
       "      batch_norm {\n",
       "        decay: 0.996999979019165\n",
       "        scale: true\n",
       "        epsilon: 0.0010000000474974513\n",
       "      }\n",
       "    }\n",
       "    override_base_feature_extractor_hyperparams: true\n",
       "    fpn {\n",
       "      min_level: 3\n",
       "      max_level: 7\n",
       "    }\n",
       "  }\n",
       "  box_coder {\n",
       "    faster_rcnn_box_coder {\n",
       "      y_scale: 10.0\n",
       "      x_scale: 10.0\n",
       "      height_scale: 5.0\n",
       "      width_scale: 5.0\n",
       "    }\n",
       "  }\n",
       "  matcher {\n",
       "    argmax_matcher {\n",
       "      matched_threshold: 0.5\n",
       "      unmatched_threshold: 0.5\n",
       "      ignore_thresholds: false\n",
       "      negatives_lower_than_unmatched: true\n",
       "      force_match_for_each_row: true\n",
       "      use_matmul_gather: true\n",
       "    }\n",
       "  }\n",
       "  similarity_calculator {\n",
       "    iou_similarity {\n",
       "    }\n",
       "  }\n",
       "  box_predictor {\n",
       "    weight_shared_convolutional_box_predictor {\n",
       "      conv_hyperparams {\n",
       "        regularizer {\n",
       "          l2_regularizer {\n",
       "            weight: 0.00039999998989515007\n",
       "          }\n",
       "        }\n",
       "        initializer {\n",
       "          random_normal_initializer {\n",
       "            mean: 0.0\n",
       "            stddev: 0.009999999776482582\n",
       "          }\n",
       "        }\n",
       "        activation: RELU_6\n",
       "        batch_norm {\n",
       "          decay: 0.996999979019165\n",
       "          scale: true\n",
       "          epsilon: 0.0010000000474974513\n",
       "        }\n",
       "      }\n",
       "      depth: 256\n",
       "      num_layers_before_predictor: 4\n",
       "      kernel_size: 3\n",
       "      class_prediction_bias_init: -4.599999904632568\n",
       "    }\n",
       "  }\n",
       "  anchor_generator {\n",
       "    multiscale_anchor_generator {\n",
       "      min_level: 3\n",
       "      max_level: 7\n",
       "      anchor_scale: 4.0\n",
       "      aspect_ratios: 1.0\n",
       "      aspect_ratios: 2.0\n",
       "      aspect_ratios: 0.5\n",
       "      scales_per_octave: 2\n",
       "    }\n",
       "  }\n",
       "  post_processing {\n",
       "    batch_non_max_suppression {\n",
       "      score_threshold: 9.99999993922529e-09\n",
       "      iou_threshold: 0.6000000238418579\n",
       "      max_detections_per_class: 100\n",
       "      max_total_detections: 100\n",
       "      use_static_shapes: false\n",
       "    }\n",
       "    score_converter: SIGMOID\n",
       "  }\n",
       "  normalize_loss_by_num_matches: true\n",
       "  loss {\n",
       "    localization_loss {\n",
       "      weighted_smooth_l1 {\n",
       "      }\n",
       "    }\n",
       "    classification_loss {\n",
       "      weighted_sigmoid_focal {\n",
       "        gamma: 2.0\n",
       "        alpha: 0.25\n",
       "      }\n",
       "    }\n",
       "    classification_weight: 1.0\n",
       "    localization_weight: 1.0\n",
       "  }\n",
       "  encode_background_as_zeros: true\n",
       "  normalize_loc_loss_by_codesize: true\n",
       "  inplace_batchnorm_update: true\n",
       "  freeze_batchnorm: false\n",
       "}"
      ]
     },
     "execution_count": 9,
     "metadata": {},
     "output_type": "execute_result"
    }
   ],
   "source": [
    "model_config"
   ]
  },
  {
   "cell_type": "markdown",
   "metadata": {},
   "source": [
    "## Map labels for inference decoding"
   ]
  },
  {
   "cell_type": "code",
   "execution_count": 10,
   "metadata": {},
   "outputs": [
    {
     "data": {
      "text/plain": [
       "{1: {'id': 1, 'name': 'ship'}}"
      ]
     },
     "execution_count": 10,
     "metadata": {},
     "output_type": "execute_result"
    }
   ],
   "source": [
    "#map labels for inference decoding\n",
    "# label_map_path = configs['eval_input_config'].label_map_path\n",
    "label_map_path = '/home/skm/SKM16/IMAGE/ZZ_ZZ/TauBien/code/data_ship/label_map.txt'\n",
    "label_map = label_map_util.load_labelmap(label_map_path)\n",
    "categories = label_map_util.convert_label_map_to_categories(\n",
    "    label_map,\n",
    "    max_num_classes=label_map_util.get_max_label_map_index(label_map),\n",
    "    use_display_name=True)\n",
    "category_index = label_map_util.create_category_index(categories)\n",
    "label_map_dict = label_map_util.get_label_map_dict(label_map, use_display_name=True)\n",
    "category_index"
   ]
  },
  {
   "cell_type": "code",
   "execution_count": 11,
   "metadata": {},
   "outputs": [
    {
     "data": {
      "text/plain": [
       "{1: {'id': 1, 'name': 'ship'}}"
      ]
     },
     "execution_count": 11,
     "metadata": {},
     "output_type": "execute_result"
    }
   ],
   "source": [
    "category_index"
   ]
  },
  {
   "cell_type": "markdown",
   "metadata": {},
   "source": [
    "### Run detector on test image"
   ]
  },
  {
   "cell_type": "code",
   "execution_count": 12,
   "metadata": {},
   "outputs": [
    {
     "name": "stderr",
     "output_type": "stream",
     "text": [
      "2023-07-24 16:41:43.277546: I tensorflow/compiler/xla/stream_executor/cuda/cuda_dnn.cc:432] Loaded cuDNN version 8600\n"
     ]
    },
    {
     "data": {
      "image/png": "[encoded data removed]",
      "text/plain": [
       "<Figure size 1200x1600 with 1 Axes>"
      ]
     },
     "metadata": {},
     "output_type": "display_data"
    }
   ],
   "source": [
    "import cv2\n",
    "#run detector on test image\n",
    "#it takes a little longer on the first run and then runs at normal speed. \n",
    "TEST_IMAGE_PATHS = glob.glob('/home/skm/SKM16/IMAGE/ZZ_ZZ/TauBien/code/Try/SSD/maskrcnn/data/train/*.jpg')\n",
    "image_path = random.choice(TEST_IMAGE_PATHS)\n",
    "image_np = load_image_into_numpy_array(image_path)\n",
    "# image_np = cv2.resize(image_np, dsize=None, fx=0.2, fy=0.2)\n",
    "\n",
    "# Things to try:\n",
    "# Flip horizontally\n",
    "# image_np = np.fliplr(image_np).copy()\n",
    "\n",
    "# Convert image to grayscale\n",
    "# image_np = np.tile(\n",
    "#     np.mean(image_np, 2, keepdims=True), (1, 1, 3)).astype(np.uint8)\n",
    "\n",
    "input_tensor = tf.convert_to_tensor(\n",
    "    np.expand_dims(image_np, 0), dtype=tf.float32)\n",
    "detections, predictions_dict, shapes = detect_fn(input_tensor)\n",
    "\n",
    "label_id_offset = 1\n",
    "image_np_with_detections = image_np.copy()\n",
    "\n",
    "viz_utils.visualize_boxes_and_labels_on_image_array(\n",
    "      image_np_with_detections,\n",
    "      detections['detection_boxes'][0].numpy(),\n",
    "      (detections['detection_classes'][0].numpy() + label_id_offset).astype(int),\n",
    "      detections['detection_scores'][0].numpy(),\n",
    "      category_index,\n",
    "      use_normalized_coordinates=True,\n",
    "      max_boxes_to_draw=200,\n",
    "      min_score_thresh=0.3,\n",
    "      agnostic_mode=False,\n",
    ")\n",
    "\n",
    "plt.figure(figsize=(12,16))\n",
    "plt.imshow(image_np_with_detections)\n",
    "plt.axis(\"off\")\n",
    "plt.show()"
   ]
  },
  {
   "cell_type": "code",
   "execution_count": 92,
   "metadata": {},
   "outputs": [
    {
     "data": {
      "text/plain": [
       "{1: {'id': 1, 'name': 'ship'}}"
      ]
     },
     "execution_count": 92,
     "metadata": {},
     "output_type": "execute_result"
    }
   ],
   "source": [
    "category_index"
   ]
  }
 ],
 "metadata": {
  "kernelspec": {
   "display_name": "myai",
   "language": "python",
   "name": "python3"
  },
  "language_info": {
   "codemirror_mode": {
    "name": "ipython",
    "version": 3
   },
   "file_extension": ".py",
   "mimetype": "text/x-python",
   "name": "python",
   "nbconvert_exporter": "python",
   "pygments_lexer": "ipython3",
   "version": "3.9.17"
  },
  "orig_nbformat": 4
 },
 "nbformat": 4,
 "nbformat_minor": 2
}
